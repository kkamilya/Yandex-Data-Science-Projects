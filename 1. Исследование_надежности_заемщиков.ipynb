{
  "nbformat": 4,
  "nbformat_minor": 0,
  "metadata": {
    "kernelspec": {
      "display_name": "Python 3",
      "language": "python",
      "name": "python3"
    },
    "language_info": {
      "codemirror_mode": {
        "name": "ipython",
        "version": 3
      },
      "file_extension": ".py",
      "mimetype": "text/x-python",
      "name": "python",
      "nbconvert_exporter": "python",
      "pygments_lexer": "ipython3",
      "version": "3.7.8"
    },
    "toc": {
      "base_numbering": 1,
      "nav_menu": {},
      "number_sections": true,
      "sideBar": true,
      "skip_h1_title": true,
      "title_cell": "Table of Contents",
      "title_sidebar": "Contents",
      "toc_cell": false,
      "toc_position": {},
      "toc_section_display": true,
      "toc_window_display": false
    },
    "colab": {
      "name": "Исследование надежности заемщиков.ipynb",
      "provenance": []
    }
  },
  "cells": [
    {
      "cell_type": "markdown",
      "metadata": {
        "id": "vzw7Rtpeo0Jv"
      },
      "source": [
        "## Шаг 1. Откройте файл с данными и изучите общую информацию"
      ]
    },
    {
      "cell_type": "markdown",
      "metadata": {
        "id": "nX-a-d7ro0Ju"
      },
      "source": [
        "# Исследование надёжности заёмщиков\n",
        "\n",
        "Заказчик — кредитный отдел банка. Нужно разобраться, влияет ли семейное положение и количество детей клиента на факт погашения кредита в срок. Входные данные от банка — статистика о платёжеспособности клиентов.\n",
        "\n",
        "Результаты исследования будут учтены при построении модели **кредитного скоринга** — специальной системы, которая оценивает способность потенциального заёмщика вернуть кредит банку."
      ]
    },
    {
      "cell_type": "code",
      "metadata": {
        "scrolled": true,
        "id": "LYHMEHK9o0Jw"
      },
      "source": [
        "import pandas as pd"
      ],
      "execution_count": 1,
      "outputs": []
    },
    {
      "cell_type": "code",
      "metadata": {
        "id": "DFiHl2MRo0Jx"
      },
      "source": [
        "data = pd.read_csv('/datasets/data.csv')"
      ],
      "execution_count": null,
      "outputs": []
    },
    {
      "cell_type": "code",
      "metadata": {
        "id": "mmHClI-2o0Jx",
        "outputId": "d614dd8e-b090-4cb9-f07d-31f9a4fb2b18"
      },
      "source": [
        "data.info()"
      ],
      "execution_count": null,
      "outputs": [
        {
          "name": "stdout",
          "output_type": "stream",
          "text": [
            "<class 'pandas.core.frame.DataFrame'>\n",
            "RangeIndex: 21525 entries, 0 to 21524\n",
            "Data columns (total 12 columns):\n",
            "children            21525 non-null int64\n",
            "days_employed       19351 non-null float64\n",
            "dob_years           21525 non-null int64\n",
            "education           21525 non-null object\n",
            "education_id        21525 non-null int64\n",
            "family_status       21525 non-null object\n",
            "family_status_id    21525 non-null int64\n",
            "gender              21525 non-null object\n",
            "income_type         21525 non-null object\n",
            "debt                21525 non-null int64\n",
            "total_income        19351 non-null float64\n",
            "purpose             21525 non-null object\n",
            "dtypes: float64(2), int64(5), object(5)\n",
            "memory usage: 2.0+ MB\n"
          ]
        }
      ]
    },
    {
      "cell_type": "markdown",
      "metadata": {
        "id": "Ki9l_Epoo0Jz"
      },
      "source": [
        "Прочитали файл *data.csv*, сохранили его в переменной *data* и получили общую информацию о данных. Всего в таблице 12 столбцов с типами данных: *object*, *float* и *int*. \n",
        "\n",
        "Подробная информация о столбцах: \n",
        "* children — количество детей в семье;\n",
        "* days_employed — общий трудовой стаж в днях;\n",
        "* dob_years — возраст клиента в годах;\n",
        "* education — уровень образования клиента;\n",
        "* education_id — идентификатор уровня образования;\n",
        "* family_status — семейное положение;\n",
        "* family_status_id — идентификатор семейного положения;\n",
        "* gender — пол клиента;\n",
        "* income_type — тип занятости;\n",
        "* debt — имел ли задолженность по возврату кредитов;\n",
        "* total_income — ежемесячный доход;\n",
        "* purpose — цель получения кредита.\n",
        "\n",
        "В столбцах *days_employed* и *total_income* количество значений отличается от других, значит, в данных имеются пропущенные значения. "
      ]
    },
    {
      "cell_type": "code",
      "metadata": {
        "id": "mN28Igt5o0Jz",
        "outputId": "1466ca86-a30f-4b3b-e28a-efe178e51440"
      },
      "source": [
        "data.head(10)"
      ],
      "execution_count": null,
      "outputs": [
        {
          "data": {
            "text/html": [
              "<div>\n",
              "<style scoped>\n",
              "    .dataframe tbody tr th:only-of-type {\n",
              "        vertical-align: middle;\n",
              "    }\n",
              "\n",
              "    .dataframe tbody tr th {\n",
              "        vertical-align: top;\n",
              "    }\n",
              "\n",
              "    .dataframe thead th {\n",
              "        text-align: right;\n",
              "    }\n",
              "</style>\n",
              "<table border=\"1\" class=\"dataframe\">\n",
              "  <thead>\n",
              "    <tr style=\"text-align: right;\">\n",
              "      <th></th>\n",
              "      <th>children</th>\n",
              "      <th>days_employed</th>\n",
              "      <th>dob_years</th>\n",
              "      <th>education</th>\n",
              "      <th>education_id</th>\n",
              "      <th>family_status</th>\n",
              "      <th>family_status_id</th>\n",
              "      <th>gender</th>\n",
              "      <th>income_type</th>\n",
              "      <th>debt</th>\n",
              "      <th>total_income</th>\n",
              "      <th>purpose</th>\n",
              "    </tr>\n",
              "  </thead>\n",
              "  <tbody>\n",
              "    <tr>\n",
              "      <td>0</td>\n",
              "      <td>1</td>\n",
              "      <td>-8437.673028</td>\n",
              "      <td>42</td>\n",
              "      <td>высшее</td>\n",
              "      <td>0</td>\n",
              "      <td>женат / замужем</td>\n",
              "      <td>0</td>\n",
              "      <td>F</td>\n",
              "      <td>сотрудник</td>\n",
              "      <td>0</td>\n",
              "      <td>253875.639453</td>\n",
              "      <td>покупка жилья</td>\n",
              "    </tr>\n",
              "    <tr>\n",
              "      <td>1</td>\n",
              "      <td>1</td>\n",
              "      <td>-4024.803754</td>\n",
              "      <td>36</td>\n",
              "      <td>среднее</td>\n",
              "      <td>1</td>\n",
              "      <td>женат / замужем</td>\n",
              "      <td>0</td>\n",
              "      <td>F</td>\n",
              "      <td>сотрудник</td>\n",
              "      <td>0</td>\n",
              "      <td>112080.014102</td>\n",
              "      <td>приобретение автомобиля</td>\n",
              "    </tr>\n",
              "    <tr>\n",
              "      <td>2</td>\n",
              "      <td>0</td>\n",
              "      <td>-5623.422610</td>\n",
              "      <td>33</td>\n",
              "      <td>Среднее</td>\n",
              "      <td>1</td>\n",
              "      <td>женат / замужем</td>\n",
              "      <td>0</td>\n",
              "      <td>M</td>\n",
              "      <td>сотрудник</td>\n",
              "      <td>0</td>\n",
              "      <td>145885.952297</td>\n",
              "      <td>покупка жилья</td>\n",
              "    </tr>\n",
              "    <tr>\n",
              "      <td>3</td>\n",
              "      <td>3</td>\n",
              "      <td>-4124.747207</td>\n",
              "      <td>32</td>\n",
              "      <td>среднее</td>\n",
              "      <td>1</td>\n",
              "      <td>женат / замужем</td>\n",
              "      <td>0</td>\n",
              "      <td>M</td>\n",
              "      <td>сотрудник</td>\n",
              "      <td>0</td>\n",
              "      <td>267628.550329</td>\n",
              "      <td>дополнительное образование</td>\n",
              "    </tr>\n",
              "    <tr>\n",
              "      <td>4</td>\n",
              "      <td>0</td>\n",
              "      <td>340266.072047</td>\n",
              "      <td>53</td>\n",
              "      <td>среднее</td>\n",
              "      <td>1</td>\n",
              "      <td>гражданский брак</td>\n",
              "      <td>1</td>\n",
              "      <td>F</td>\n",
              "      <td>пенсионер</td>\n",
              "      <td>0</td>\n",
              "      <td>158616.077870</td>\n",
              "      <td>сыграть свадьбу</td>\n",
              "    </tr>\n",
              "    <tr>\n",
              "      <td>5</td>\n",
              "      <td>0</td>\n",
              "      <td>-926.185831</td>\n",
              "      <td>27</td>\n",
              "      <td>высшее</td>\n",
              "      <td>0</td>\n",
              "      <td>гражданский брак</td>\n",
              "      <td>1</td>\n",
              "      <td>M</td>\n",
              "      <td>компаньон</td>\n",
              "      <td>0</td>\n",
              "      <td>255763.565419</td>\n",
              "      <td>покупка жилья</td>\n",
              "    </tr>\n",
              "    <tr>\n",
              "      <td>6</td>\n",
              "      <td>0</td>\n",
              "      <td>-2879.202052</td>\n",
              "      <td>43</td>\n",
              "      <td>высшее</td>\n",
              "      <td>0</td>\n",
              "      <td>женат / замужем</td>\n",
              "      <td>0</td>\n",
              "      <td>F</td>\n",
              "      <td>компаньон</td>\n",
              "      <td>0</td>\n",
              "      <td>240525.971920</td>\n",
              "      <td>операции с жильем</td>\n",
              "    </tr>\n",
              "    <tr>\n",
              "      <td>7</td>\n",
              "      <td>0</td>\n",
              "      <td>-152.779569</td>\n",
              "      <td>50</td>\n",
              "      <td>СРЕДНЕЕ</td>\n",
              "      <td>1</td>\n",
              "      <td>женат / замужем</td>\n",
              "      <td>0</td>\n",
              "      <td>M</td>\n",
              "      <td>сотрудник</td>\n",
              "      <td>0</td>\n",
              "      <td>135823.934197</td>\n",
              "      <td>образование</td>\n",
              "    </tr>\n",
              "    <tr>\n",
              "      <td>8</td>\n",
              "      <td>2</td>\n",
              "      <td>-6929.865299</td>\n",
              "      <td>35</td>\n",
              "      <td>ВЫСШЕЕ</td>\n",
              "      <td>0</td>\n",
              "      <td>гражданский брак</td>\n",
              "      <td>1</td>\n",
              "      <td>F</td>\n",
              "      <td>сотрудник</td>\n",
              "      <td>0</td>\n",
              "      <td>95856.832424</td>\n",
              "      <td>на проведение свадьбы</td>\n",
              "    </tr>\n",
              "    <tr>\n",
              "      <td>9</td>\n",
              "      <td>0</td>\n",
              "      <td>-2188.756445</td>\n",
              "      <td>41</td>\n",
              "      <td>среднее</td>\n",
              "      <td>1</td>\n",
              "      <td>женат / замужем</td>\n",
              "      <td>0</td>\n",
              "      <td>M</td>\n",
              "      <td>сотрудник</td>\n",
              "      <td>0</td>\n",
              "      <td>144425.938277</td>\n",
              "      <td>покупка жилья для семьи</td>\n",
              "    </tr>\n",
              "  </tbody>\n",
              "</table>\n",
              "</div>"
            ],
            "text/plain": [
              "   children  days_employed  dob_years education  education_id  \\\n",
              "0         1   -8437.673028         42    высшее             0   \n",
              "1         1   -4024.803754         36   среднее             1   \n",
              "2         0   -5623.422610         33   Среднее             1   \n",
              "3         3   -4124.747207         32   среднее             1   \n",
              "4         0  340266.072047         53   среднее             1   \n",
              "5         0    -926.185831         27    высшее             0   \n",
              "6         0   -2879.202052         43    высшее             0   \n",
              "7         0    -152.779569         50   СРЕДНЕЕ             1   \n",
              "8         2   -6929.865299         35    ВЫСШЕЕ             0   \n",
              "9         0   -2188.756445         41   среднее             1   \n",
              "\n",
              "      family_status  family_status_id gender income_type  debt   total_income  \\\n",
              "0   женат / замужем                 0      F   сотрудник     0  253875.639453   \n",
              "1   женат / замужем                 0      F   сотрудник     0  112080.014102   \n",
              "2   женат / замужем                 0      M   сотрудник     0  145885.952297   \n",
              "3   женат / замужем                 0      M   сотрудник     0  267628.550329   \n",
              "4  гражданский брак                 1      F   пенсионер     0  158616.077870   \n",
              "5  гражданский брак                 1      M   компаньон     0  255763.565419   \n",
              "6   женат / замужем                 0      F   компаньон     0  240525.971920   \n",
              "7   женат / замужем                 0      M   сотрудник     0  135823.934197   \n",
              "8  гражданский брак                 1      F   сотрудник     0   95856.832424   \n",
              "9   женат / замужем                 0      M   сотрудник     0  144425.938277   \n",
              "\n",
              "                      purpose  \n",
              "0               покупка жилья  \n",
              "1     приобретение автомобиля  \n",
              "2               покупка жилья  \n",
              "3  дополнительное образование  \n",
              "4             сыграть свадьбу  \n",
              "5               покупка жилья  \n",
              "6           операции с жильем  \n",
              "7                 образование  \n",
              "8       на проведение свадьбы  \n",
              "9     покупка жилья для семьи  "
            ]
          },
          "execution_count": 4,
          "metadata": {},
          "output_type": "execute_result"
        }
      ]
    },
    {
      "cell_type": "code",
      "metadata": {
        "id": "soSu2xtKo0J0"
      },
      "source": [
        "data_copy = data.copy(deep=True)"
      ],
      "execution_count": null,
      "outputs": []
    },
    {
      "cell_type": "markdown",
      "metadata": {
        "id": "SpZZAH7zo0J0"
      },
      "source": [
        "**Вывод**"
      ]
    },
    {
      "cell_type": "markdown",
      "metadata": {
        "id": "_sBcAHwOo0J0"
      },
      "source": [
        "Из таблицы мы видим, что в столбце *days_employed* присутствуют отрицательные значения, что является артефактом и не соответствует действительности. При выгрузке данных могла произойти ошибка, из-за чего значения стали отрицательными. Также в четвертой строке этого столбца можно заметить, что трудовой стаж равен *340266 дням*, что соответствует *932 годам*. Данные ошибки нужно будет отработать и исправить. "
      ]
    },
    {
      "cell_type": "markdown",
      "metadata": {
        "id": "Mh0owIeKo0J1"
      },
      "source": [
        "## Шаг 2. Предобработка данных"
      ]
    },
    {
      "cell_type": "markdown",
      "metadata": {
        "id": "DEREkQ2Xo0J2"
      },
      "source": [
        "### Обработка пропусков"
      ]
    },
    {
      "cell_type": "code",
      "metadata": {
        "scrolled": true,
        "id": "LHjE9YpHo0J2",
        "outputId": "8bbe7fab-0c37-47b7-f4b3-ac9d3d4e97cd"
      },
      "source": [
        "data.isnull().sum()"
      ],
      "execution_count": null,
      "outputs": [
        {
          "data": {
            "text/plain": [
              "children               0\n",
              "days_employed       2174\n",
              "dob_years              0\n",
              "education              0\n",
              "education_id           0\n",
              "family_status          0\n",
              "family_status_id       0\n",
              "gender                 0\n",
              "income_type            0\n",
              "debt                   0\n",
              "total_income        2174\n",
              "purpose                0\n",
              "dtype: int64"
            ]
          },
          "execution_count": 6,
          "metadata": {},
          "output_type": "execute_result"
        }
      ]
    },
    {
      "cell_type": "markdown",
      "metadata": {
        "id": "tPyJR_Oco0J2"
      },
      "source": [
        "По суммарному количеству пропусков видно, что в некоторых строках пропущена информация о трудовом стаже и ежемесячном доходе. Это можно объяснить тем, что некоторые люди не работают по разным причинам, следовательно не имеют дохода. Данные пропуски необходимо заменить средними значениями по столбцу. Для этого сначала нужно получить абсолютные значения столбца *days_employed*, проверить строки с трудовым стажем, равным сотням лет и заменить их для корректного расчета среднего значения."
      ]
    },
    {
      "cell_type": "code",
      "metadata": {
        "id": "WOUL2Jtgo0J3",
        "outputId": "bdbdb7f3-6fbd-462b-ed5a-bbb6c24aeb14"
      },
      "source": [
        "data['days_employed'] = data['days_employed'].abs() #нашли абсолютные значения отрицательного стажа\n",
        "data.head(5)"
      ],
      "execution_count": null,
      "outputs": [
        {
          "data": {
            "text/html": [
              "<div>\n",
              "<style scoped>\n",
              "    .dataframe tbody tr th:only-of-type {\n",
              "        vertical-align: middle;\n",
              "    }\n",
              "\n",
              "    .dataframe tbody tr th {\n",
              "        vertical-align: top;\n",
              "    }\n",
              "\n",
              "    .dataframe thead th {\n",
              "        text-align: right;\n",
              "    }\n",
              "</style>\n",
              "<table border=\"1\" class=\"dataframe\">\n",
              "  <thead>\n",
              "    <tr style=\"text-align: right;\">\n",
              "      <th></th>\n",
              "      <th>children</th>\n",
              "      <th>days_employed</th>\n",
              "      <th>dob_years</th>\n",
              "      <th>education</th>\n",
              "      <th>education_id</th>\n",
              "      <th>family_status</th>\n",
              "      <th>family_status_id</th>\n",
              "      <th>gender</th>\n",
              "      <th>income_type</th>\n",
              "      <th>debt</th>\n",
              "      <th>total_income</th>\n",
              "      <th>purpose</th>\n",
              "    </tr>\n",
              "  </thead>\n",
              "  <tbody>\n",
              "    <tr>\n",
              "      <td>0</td>\n",
              "      <td>1</td>\n",
              "      <td>8437.673028</td>\n",
              "      <td>42</td>\n",
              "      <td>высшее</td>\n",
              "      <td>0</td>\n",
              "      <td>женат / замужем</td>\n",
              "      <td>0</td>\n",
              "      <td>F</td>\n",
              "      <td>сотрудник</td>\n",
              "      <td>0</td>\n",
              "      <td>253875.639453</td>\n",
              "      <td>покупка жилья</td>\n",
              "    </tr>\n",
              "    <tr>\n",
              "      <td>1</td>\n",
              "      <td>1</td>\n",
              "      <td>4024.803754</td>\n",
              "      <td>36</td>\n",
              "      <td>среднее</td>\n",
              "      <td>1</td>\n",
              "      <td>женат / замужем</td>\n",
              "      <td>0</td>\n",
              "      <td>F</td>\n",
              "      <td>сотрудник</td>\n",
              "      <td>0</td>\n",
              "      <td>112080.014102</td>\n",
              "      <td>приобретение автомобиля</td>\n",
              "    </tr>\n",
              "    <tr>\n",
              "      <td>2</td>\n",
              "      <td>0</td>\n",
              "      <td>5623.422610</td>\n",
              "      <td>33</td>\n",
              "      <td>Среднее</td>\n",
              "      <td>1</td>\n",
              "      <td>женат / замужем</td>\n",
              "      <td>0</td>\n",
              "      <td>M</td>\n",
              "      <td>сотрудник</td>\n",
              "      <td>0</td>\n",
              "      <td>145885.952297</td>\n",
              "      <td>покупка жилья</td>\n",
              "    </tr>\n",
              "    <tr>\n",
              "      <td>3</td>\n",
              "      <td>3</td>\n",
              "      <td>4124.747207</td>\n",
              "      <td>32</td>\n",
              "      <td>среднее</td>\n",
              "      <td>1</td>\n",
              "      <td>женат / замужем</td>\n",
              "      <td>0</td>\n",
              "      <td>M</td>\n",
              "      <td>сотрудник</td>\n",
              "      <td>0</td>\n",
              "      <td>267628.550329</td>\n",
              "      <td>дополнительное образование</td>\n",
              "    </tr>\n",
              "    <tr>\n",
              "      <td>4</td>\n",
              "      <td>0</td>\n",
              "      <td>340266.072047</td>\n",
              "      <td>53</td>\n",
              "      <td>среднее</td>\n",
              "      <td>1</td>\n",
              "      <td>гражданский брак</td>\n",
              "      <td>1</td>\n",
              "      <td>F</td>\n",
              "      <td>пенсионер</td>\n",
              "      <td>0</td>\n",
              "      <td>158616.077870</td>\n",
              "      <td>сыграть свадьбу</td>\n",
              "    </tr>\n",
              "  </tbody>\n",
              "</table>\n",
              "</div>"
            ],
            "text/plain": [
              "   children  days_employed  dob_years education  education_id  \\\n",
              "0         1    8437.673028         42    высшее             0   \n",
              "1         1    4024.803754         36   среднее             1   \n",
              "2         0    5623.422610         33   Среднее             1   \n",
              "3         3    4124.747207         32   среднее             1   \n",
              "4         0  340266.072047         53   среднее             1   \n",
              "\n",
              "      family_status  family_status_id gender income_type  debt   total_income  \\\n",
              "0   женат / замужем                 0      F   сотрудник     0  253875.639453   \n",
              "1   женат / замужем                 0      F   сотрудник     0  112080.014102   \n",
              "2   женат / замужем                 0      M   сотрудник     0  145885.952297   \n",
              "3   женат / замужем                 0      M   сотрудник     0  267628.550329   \n",
              "4  гражданский брак                 1      F   пенсионер     0  158616.077870   \n",
              "\n",
              "                      purpose  \n",
              "0               покупка жилья  \n",
              "1     приобретение автомобиля  \n",
              "2               покупка жилья  \n",
              "3  дополнительное образование  \n",
              "4             сыграть свадьбу  "
            ]
          },
          "execution_count": 7,
          "metadata": {},
          "output_type": "execute_result"
        }
      ]
    },
    {
      "cell_type": "code",
      "metadata": {
        "id": "3jir4Tn-o0J3",
        "outputId": "e97e488f-cc0b-433d-b7ca-4d9f2fa89094"
      },
      "source": [
        "data['dob_years'].max() #максимальный возраст"
      ],
      "execution_count": null,
      "outputs": [
        {
          "data": {
            "text/plain": [
              "75"
            ]
          },
          "execution_count": 8,
          "metadata": {},
          "output_type": "execute_result"
        }
      ]
    },
    {
      "cell_type": "markdown",
      "metadata": {
        "id": "GEXkTLKso0J4"
      },
      "source": [
        "75 лет - максимальный возраст из столбца *dob_years*. Тогда его максимальный рабочий стаж будет равен *250 рабочих дней в год * (75-16) лет = 14750 дней*. Возьмем это значение за максимально возможное в этом столбце. "
      ]
    },
    {
      "cell_type": "code",
      "metadata": {
        "id": "HfkRXB4Uo0J4",
        "outputId": "a32baa17-eb20-4236-a63d-fa77642763bf"
      },
      "source": [
        "data[data['days_employed'] > 14750]"
      ],
      "execution_count": null,
      "outputs": [
        {
          "data": {
            "text/html": [
              "<div>\n",
              "<style scoped>\n",
              "    .dataframe tbody tr th:only-of-type {\n",
              "        vertical-align: middle;\n",
              "    }\n",
              "\n",
              "    .dataframe tbody tr th {\n",
              "        vertical-align: top;\n",
              "    }\n",
              "\n",
              "    .dataframe thead th {\n",
              "        text-align: right;\n",
              "    }\n",
              "</style>\n",
              "<table border=\"1\" class=\"dataframe\">\n",
              "  <thead>\n",
              "    <tr style=\"text-align: right;\">\n",
              "      <th></th>\n",
              "      <th>children</th>\n",
              "      <th>days_employed</th>\n",
              "      <th>dob_years</th>\n",
              "      <th>education</th>\n",
              "      <th>education_id</th>\n",
              "      <th>family_status</th>\n",
              "      <th>family_status_id</th>\n",
              "      <th>gender</th>\n",
              "      <th>income_type</th>\n",
              "      <th>debt</th>\n",
              "      <th>total_income</th>\n",
              "      <th>purpose</th>\n",
              "    </tr>\n",
              "  </thead>\n",
              "  <tbody>\n",
              "    <tr>\n",
              "      <td>4</td>\n",
              "      <td>0</td>\n",
              "      <td>340266.072047</td>\n",
              "      <td>53</td>\n",
              "      <td>среднее</td>\n",
              "      <td>1</td>\n",
              "      <td>гражданский брак</td>\n",
              "      <td>1</td>\n",
              "      <td>F</td>\n",
              "      <td>пенсионер</td>\n",
              "      <td>0</td>\n",
              "      <td>158616.077870</td>\n",
              "      <td>сыграть свадьбу</td>\n",
              "    </tr>\n",
              "    <tr>\n",
              "      <td>18</td>\n",
              "      <td>0</td>\n",
              "      <td>400281.136913</td>\n",
              "      <td>53</td>\n",
              "      <td>среднее</td>\n",
              "      <td>1</td>\n",
              "      <td>вдовец / вдова</td>\n",
              "      <td>2</td>\n",
              "      <td>F</td>\n",
              "      <td>пенсионер</td>\n",
              "      <td>0</td>\n",
              "      <td>56823.777243</td>\n",
              "      <td>на покупку подержанного автомобиля</td>\n",
              "    </tr>\n",
              "    <tr>\n",
              "      <td>24</td>\n",
              "      <td>1</td>\n",
              "      <td>338551.952911</td>\n",
              "      <td>57</td>\n",
              "      <td>среднее</td>\n",
              "      <td>1</td>\n",
              "      <td>Не женат / не замужем</td>\n",
              "      <td>4</td>\n",
              "      <td>F</td>\n",
              "      <td>пенсионер</td>\n",
              "      <td>0</td>\n",
              "      <td>290547.235997</td>\n",
              "      <td>операции с коммерческой недвижимостью</td>\n",
              "    </tr>\n",
              "    <tr>\n",
              "      <td>25</td>\n",
              "      <td>0</td>\n",
              "      <td>363548.489348</td>\n",
              "      <td>67</td>\n",
              "      <td>среднее</td>\n",
              "      <td>1</td>\n",
              "      <td>женат / замужем</td>\n",
              "      <td>0</td>\n",
              "      <td>M</td>\n",
              "      <td>пенсионер</td>\n",
              "      <td>0</td>\n",
              "      <td>55112.757732</td>\n",
              "      <td>покупка недвижимости</td>\n",
              "    </tr>\n",
              "    <tr>\n",
              "      <td>30</td>\n",
              "      <td>1</td>\n",
              "      <td>335581.668515</td>\n",
              "      <td>62</td>\n",
              "      <td>среднее</td>\n",
              "      <td>1</td>\n",
              "      <td>женат / замужем</td>\n",
              "      <td>0</td>\n",
              "      <td>F</td>\n",
              "      <td>пенсионер</td>\n",
              "      <td>0</td>\n",
              "      <td>171456.067993</td>\n",
              "      <td>операции с коммерческой недвижимостью</td>\n",
              "    </tr>\n",
              "    <tr>\n",
              "      <td>...</td>\n",
              "      <td>...</td>\n",
              "      <td>...</td>\n",
              "      <td>...</td>\n",
              "      <td>...</td>\n",
              "      <td>...</td>\n",
              "      <td>...</td>\n",
              "      <td>...</td>\n",
              "      <td>...</td>\n",
              "      <td>...</td>\n",
              "      <td>...</td>\n",
              "      <td>...</td>\n",
              "      <td>...</td>\n",
              "    </tr>\n",
              "    <tr>\n",
              "      <td>21505</td>\n",
              "      <td>0</td>\n",
              "      <td>338904.866406</td>\n",
              "      <td>53</td>\n",
              "      <td>среднее</td>\n",
              "      <td>1</td>\n",
              "      <td>гражданский брак</td>\n",
              "      <td>1</td>\n",
              "      <td>M</td>\n",
              "      <td>пенсионер</td>\n",
              "      <td>0</td>\n",
              "      <td>75439.993167</td>\n",
              "      <td>сыграть свадьбу</td>\n",
              "    </tr>\n",
              "    <tr>\n",
              "      <td>21508</td>\n",
              "      <td>0</td>\n",
              "      <td>386497.714078</td>\n",
              "      <td>62</td>\n",
              "      <td>среднее</td>\n",
              "      <td>1</td>\n",
              "      <td>женат / замужем</td>\n",
              "      <td>0</td>\n",
              "      <td>M</td>\n",
              "      <td>пенсионер</td>\n",
              "      <td>0</td>\n",
              "      <td>72638.590915</td>\n",
              "      <td>недвижимость</td>\n",
              "    </tr>\n",
              "    <tr>\n",
              "      <td>21509</td>\n",
              "      <td>0</td>\n",
              "      <td>362161.054124</td>\n",
              "      <td>59</td>\n",
              "      <td>высшее</td>\n",
              "      <td>0</td>\n",
              "      <td>женат / замужем</td>\n",
              "      <td>0</td>\n",
              "      <td>M</td>\n",
              "      <td>пенсионер</td>\n",
              "      <td>0</td>\n",
              "      <td>73029.059379</td>\n",
              "      <td>операции с недвижимостью</td>\n",
              "    </tr>\n",
              "    <tr>\n",
              "      <td>21518</td>\n",
              "      <td>0</td>\n",
              "      <td>373995.710838</td>\n",
              "      <td>59</td>\n",
              "      <td>СРЕДНЕЕ</td>\n",
              "      <td>1</td>\n",
              "      <td>женат / замужем</td>\n",
              "      <td>0</td>\n",
              "      <td>F</td>\n",
              "      <td>пенсионер</td>\n",
              "      <td>0</td>\n",
              "      <td>153864.650328</td>\n",
              "      <td>сделка с автомобилем</td>\n",
              "    </tr>\n",
              "    <tr>\n",
              "      <td>21521</td>\n",
              "      <td>0</td>\n",
              "      <td>343937.404131</td>\n",
              "      <td>67</td>\n",
              "      <td>среднее</td>\n",
              "      <td>1</td>\n",
              "      <td>женат / замужем</td>\n",
              "      <td>0</td>\n",
              "      <td>F</td>\n",
              "      <td>пенсионер</td>\n",
              "      <td>0</td>\n",
              "      <td>155999.806512</td>\n",
              "      <td>сделка с автомобилем</td>\n",
              "    </tr>\n",
              "  </tbody>\n",
              "</table>\n",
              "<p>3459 rows × 12 columns</p>\n",
              "</div>"
            ],
            "text/plain": [
              "       children  days_employed  dob_years education  education_id  \\\n",
              "4             0  340266.072047         53   среднее             1   \n",
              "18            0  400281.136913         53   среднее             1   \n",
              "24            1  338551.952911         57   среднее             1   \n",
              "25            0  363548.489348         67   среднее             1   \n",
              "30            1  335581.668515         62   среднее             1   \n",
              "...         ...            ...        ...       ...           ...   \n",
              "21505         0  338904.866406         53   среднее             1   \n",
              "21508         0  386497.714078         62   среднее             1   \n",
              "21509         0  362161.054124         59    высшее             0   \n",
              "21518         0  373995.710838         59   СРЕДНЕЕ             1   \n",
              "21521         0  343937.404131         67   среднее             1   \n",
              "\n",
              "               family_status  family_status_id gender income_type  debt  \\\n",
              "4           гражданский брак                 1      F   пенсионер     0   \n",
              "18            вдовец / вдова                 2      F   пенсионер     0   \n",
              "24     Не женат / не замужем                 4      F   пенсионер     0   \n",
              "25           женат / замужем                 0      M   пенсионер     0   \n",
              "30           женат / замужем                 0      F   пенсионер     0   \n",
              "...                      ...               ...    ...         ...   ...   \n",
              "21505       гражданский брак                 1      M   пенсионер     0   \n",
              "21508        женат / замужем                 0      M   пенсионер     0   \n",
              "21509        женат / замужем                 0      M   пенсионер     0   \n",
              "21518        женат / замужем                 0      F   пенсионер     0   \n",
              "21521        женат / замужем                 0      F   пенсионер     0   \n",
              "\n",
              "        total_income                                purpose  \n",
              "4      158616.077870                        сыграть свадьбу  \n",
              "18      56823.777243     на покупку подержанного автомобиля  \n",
              "24     290547.235997  операции с коммерческой недвижимостью  \n",
              "25      55112.757732                   покупка недвижимости  \n",
              "30     171456.067993  операции с коммерческой недвижимостью  \n",
              "...              ...                                    ...  \n",
              "21505   75439.993167                        сыграть свадьбу  \n",
              "21508   72638.590915                           недвижимость  \n",
              "21509   73029.059379               операции с недвижимостью  \n",
              "21518  153864.650328                   сделка с автомобилем  \n",
              "21521  155999.806512                   сделка с автомобилем  \n",
              "\n",
              "[3459 rows x 12 columns]"
            ]
          },
          "execution_count": 9,
          "metadata": {},
          "output_type": "execute_result"
        }
      ]
    },
    {
      "cell_type": "markdown",
      "metadata": {
        "id": "1zzEj8sIo0J5"
      },
      "source": [
        "Проверяем артефакты: 14750 дней - максимально возможный официальный стаж работы (250 рабочих дней в году) с 16 лет до максимального возраста в таблице. Из полученной отфильтрованной таблицы видно, что все эти люди - пенсионеры, поэтому для более аккуратного результата применим корреляцию данных. Найдем отношение медианы работников с огромным стажем к медиане с естественным стажем, затем уменьшим \"тысячелетние\" стажи на этот коэффициент и таким образом проведем нормирование данных."
      ]
    },
    {
      "cell_type": "code",
      "metadata": {
        "id": "ogHhsogTo0J5",
        "outputId": "8af67581-e8ea-43e6-8c5d-7bf4f8ef6c11"
      },
      "source": [
        "med_over = data[data['days_employed'] > 14750]['days_employed'].median()\n",
        "med_below = data[data['days_employed'] < 14750]['days_employed'].median()\n",
        "coef = med_over/med_below\n",
        "data.loc[data['days_employed'] > 14750,'days_employed'] = data[data['days_employed'] > 14750]['days_employed']/coef\n",
        "data.head(10)"
      ],
      "execution_count": null,
      "outputs": [
        {
          "data": {
            "text/html": [
              "<div>\n",
              "<style scoped>\n",
              "    .dataframe tbody tr th:only-of-type {\n",
              "        vertical-align: middle;\n",
              "    }\n",
              "\n",
              "    .dataframe tbody tr th {\n",
              "        vertical-align: top;\n",
              "    }\n",
              "\n",
              "    .dataframe thead th {\n",
              "        text-align: right;\n",
              "    }\n",
              "</style>\n",
              "<table border=\"1\" class=\"dataframe\">\n",
              "  <thead>\n",
              "    <tr style=\"text-align: right;\">\n",
              "      <th></th>\n",
              "      <th>children</th>\n",
              "      <th>days_employed</th>\n",
              "      <th>dob_years</th>\n",
              "      <th>education</th>\n",
              "      <th>education_id</th>\n",
              "      <th>family_status</th>\n",
              "      <th>family_status_id</th>\n",
              "      <th>gender</th>\n",
              "      <th>income_type</th>\n",
              "      <th>debt</th>\n",
              "      <th>total_income</th>\n",
              "      <th>purpose</th>\n",
              "    </tr>\n",
              "  </thead>\n",
              "  <tbody>\n",
              "    <tr>\n",
              "      <td>0</td>\n",
              "      <td>1</td>\n",
              "      <td>8437.673028</td>\n",
              "      <td>42</td>\n",
              "      <td>высшее</td>\n",
              "      <td>0</td>\n",
              "      <td>женат / замужем</td>\n",
              "      <td>0</td>\n",
              "      <td>F</td>\n",
              "      <td>сотрудник</td>\n",
              "      <td>0</td>\n",
              "      <td>253875.639453</td>\n",
              "      <td>покупка жилья</td>\n",
              "    </tr>\n",
              "    <tr>\n",
              "      <td>1</td>\n",
              "      <td>1</td>\n",
              "      <td>4024.803754</td>\n",
              "      <td>36</td>\n",
              "      <td>среднее</td>\n",
              "      <td>1</td>\n",
              "      <td>женат / замужем</td>\n",
              "      <td>0</td>\n",
              "      <td>F</td>\n",
              "      <td>сотрудник</td>\n",
              "      <td>0</td>\n",
              "      <td>112080.014102</td>\n",
              "      <td>приобретение автомобиля</td>\n",
              "    </tr>\n",
              "    <tr>\n",
              "      <td>2</td>\n",
              "      <td>0</td>\n",
              "      <td>5623.422610</td>\n",
              "      <td>33</td>\n",
              "      <td>Среднее</td>\n",
              "      <td>1</td>\n",
              "      <td>женат / замужем</td>\n",
              "      <td>0</td>\n",
              "      <td>M</td>\n",
              "      <td>сотрудник</td>\n",
              "      <td>0</td>\n",
              "      <td>145885.952297</td>\n",
              "      <td>покупка жилья</td>\n",
              "    </tr>\n",
              "    <tr>\n",
              "      <td>3</td>\n",
              "      <td>3</td>\n",
              "      <td>4124.747207</td>\n",
              "      <td>32</td>\n",
              "      <td>среднее</td>\n",
              "      <td>1</td>\n",
              "      <td>женат / замужем</td>\n",
              "      <td>0</td>\n",
              "      <td>M</td>\n",
              "      <td>сотрудник</td>\n",
              "      <td>0</td>\n",
              "      <td>267628.550329</td>\n",
              "      <td>дополнительное образование</td>\n",
              "    </tr>\n",
              "    <tr>\n",
              "      <td>4</td>\n",
              "      <td>0</td>\n",
              "      <td>1518.332393</td>\n",
              "      <td>53</td>\n",
              "      <td>среднее</td>\n",
              "      <td>1</td>\n",
              "      <td>гражданский брак</td>\n",
              "      <td>1</td>\n",
              "      <td>F</td>\n",
              "      <td>пенсионер</td>\n",
              "      <td>0</td>\n",
              "      <td>158616.077870</td>\n",
              "      <td>сыграть свадьбу</td>\n",
              "    </tr>\n",
              "    <tr>\n",
              "      <td>5</td>\n",
              "      <td>0</td>\n",
              "      <td>926.185831</td>\n",
              "      <td>27</td>\n",
              "      <td>высшее</td>\n",
              "      <td>0</td>\n",
              "      <td>гражданский брак</td>\n",
              "      <td>1</td>\n",
              "      <td>M</td>\n",
              "      <td>компаньон</td>\n",
              "      <td>0</td>\n",
              "      <td>255763.565419</td>\n",
              "      <td>покупка жилья</td>\n",
              "    </tr>\n",
              "    <tr>\n",
              "      <td>6</td>\n",
              "      <td>0</td>\n",
              "      <td>2879.202052</td>\n",
              "      <td>43</td>\n",
              "      <td>высшее</td>\n",
              "      <td>0</td>\n",
              "      <td>женат / замужем</td>\n",
              "      <td>0</td>\n",
              "      <td>F</td>\n",
              "      <td>компаньон</td>\n",
              "      <td>0</td>\n",
              "      <td>240525.971920</td>\n",
              "      <td>операции с жильем</td>\n",
              "    </tr>\n",
              "    <tr>\n",
              "      <td>7</td>\n",
              "      <td>0</td>\n",
              "      <td>152.779569</td>\n",
              "      <td>50</td>\n",
              "      <td>СРЕДНЕЕ</td>\n",
              "      <td>1</td>\n",
              "      <td>женат / замужем</td>\n",
              "      <td>0</td>\n",
              "      <td>M</td>\n",
              "      <td>сотрудник</td>\n",
              "      <td>0</td>\n",
              "      <td>135823.934197</td>\n",
              "      <td>образование</td>\n",
              "    </tr>\n",
              "    <tr>\n",
              "      <td>8</td>\n",
              "      <td>2</td>\n",
              "      <td>6929.865299</td>\n",
              "      <td>35</td>\n",
              "      <td>ВЫСШЕЕ</td>\n",
              "      <td>0</td>\n",
              "      <td>гражданский брак</td>\n",
              "      <td>1</td>\n",
              "      <td>F</td>\n",
              "      <td>сотрудник</td>\n",
              "      <td>0</td>\n",
              "      <td>95856.832424</td>\n",
              "      <td>на проведение свадьбы</td>\n",
              "    </tr>\n",
              "    <tr>\n",
              "      <td>9</td>\n",
              "      <td>0</td>\n",
              "      <td>2188.756445</td>\n",
              "      <td>41</td>\n",
              "      <td>среднее</td>\n",
              "      <td>1</td>\n",
              "      <td>женат / замужем</td>\n",
              "      <td>0</td>\n",
              "      <td>M</td>\n",
              "      <td>сотрудник</td>\n",
              "      <td>0</td>\n",
              "      <td>144425.938277</td>\n",
              "      <td>покупка жилья для семьи</td>\n",
              "    </tr>\n",
              "  </tbody>\n",
              "</table>\n",
              "</div>"
            ],
            "text/plain": [
              "   children  days_employed  dob_years education  education_id  \\\n",
              "0         1    8437.673028         42    высшее             0   \n",
              "1         1    4024.803754         36   среднее             1   \n",
              "2         0    5623.422610         33   Среднее             1   \n",
              "3         3    4124.747207         32   среднее             1   \n",
              "4         0    1518.332393         53   среднее             1   \n",
              "5         0     926.185831         27    высшее             0   \n",
              "6         0    2879.202052         43    высшее             0   \n",
              "7         0     152.779569         50   СРЕДНЕЕ             1   \n",
              "8         2    6929.865299         35    ВЫСШЕЕ             0   \n",
              "9         0    2188.756445         41   среднее             1   \n",
              "\n",
              "      family_status  family_status_id gender income_type  debt   total_income  \\\n",
              "0   женат / замужем                 0      F   сотрудник     0  253875.639453   \n",
              "1   женат / замужем                 0      F   сотрудник     0  112080.014102   \n",
              "2   женат / замужем                 0      M   сотрудник     0  145885.952297   \n",
              "3   женат / замужем                 0      M   сотрудник     0  267628.550329   \n",
              "4  гражданский брак                 1      F   пенсионер     0  158616.077870   \n",
              "5  гражданский брак                 1      M   компаньон     0  255763.565419   \n",
              "6   женат / замужем                 0      F   компаньон     0  240525.971920   \n",
              "7   женат / замужем                 0      M   сотрудник     0  135823.934197   \n",
              "8  гражданский брак                 1      F   сотрудник     0   95856.832424   \n",
              "9   женат / замужем                 0      M   сотрудник     0  144425.938277   \n",
              "\n",
              "                      purpose  \n",
              "0               покупка жилья  \n",
              "1     приобретение автомобиля  \n",
              "2               покупка жилья  \n",
              "3  дополнительное образование  \n",
              "4             сыграть свадьбу  \n",
              "5               покупка жилья  \n",
              "6           операции с жильем  \n",
              "7                 образование  \n",
              "8       на проведение свадьбы  \n",
              "9     покупка жилья для семьи  "
            ]
          },
          "execution_count": 10,
          "metadata": {},
          "output_type": "execute_result"
        }
      ]
    },
    {
      "cell_type": "markdown",
      "metadata": {
        "id": "zA6rPmbro0J6"
      },
      "source": [
        "Теперь найдем среднее значение в этом столбце и заменим им пропуски:"
      ]
    },
    {
      "cell_type": "code",
      "metadata": {
        "scrolled": true,
        "id": "tfdNH498o0J6",
        "outputId": "03618ddd-0c69-4fc2-e27e-ba43a6e2af69"
      },
      "source": [
        "days_employed_avg = data['days_employed'].mean()\n",
        "data['days_employed'] = data['days_employed'].fillna(value=days_employed_avg)\n",
        "data.isnull().sum()"
      ],
      "execution_count": null,
      "outputs": [
        {
          "data": {
            "text/plain": [
              "children               0\n",
              "days_employed          0\n",
              "dob_years              0\n",
              "education              0\n",
              "education_id           0\n",
              "family_status          0\n",
              "family_status_id       0\n",
              "gender                 0\n",
              "income_type            0\n",
              "debt                   0\n",
              "total_income        2174\n",
              "purpose                0\n",
              "dtype: int64"
            ]
          },
          "execution_count": 11,
          "metadata": {},
          "output_type": "execute_result"
        }
      ]
    },
    {
      "cell_type": "markdown",
      "metadata": {
        "id": "3hwWc2oFo0J7"
      },
      "source": [
        "Теперь пропуски остались в столбце *total_income*, заменим их. Так как доход может сильно различаться по столбцу *income_type*, то есть по типу заработка, отработаем пропуски через замену на медиану данного вида заработка с помощью функции transform(), которая в данном случае принимает пустое значение ячейки и заменяет его на медиану данной категории."
      ]
    },
    {
      "cell_type": "code",
      "metadata": {
        "scrolled": true,
        "id": "eGLPQWl0o0J7",
        "outputId": "fa564b27-8be4-4647-e616-4732aa442ef5"
      },
      "source": [
        "data['total_income'] = data.groupby('income_type')['total_income'].transform(lambda x: x.fillna(value=x.median()))\n",
        "data.isnull().sum()"
      ],
      "execution_count": null,
      "outputs": [
        {
          "data": {
            "text/plain": [
              "children            0\n",
              "days_employed       0\n",
              "dob_years           0\n",
              "education           0\n",
              "education_id        0\n",
              "family_status       0\n",
              "family_status_id    0\n",
              "gender              0\n",
              "income_type         0\n",
              "debt                0\n",
              "total_income        0\n",
              "purpose             0\n",
              "dtype: int64"
            ]
          },
          "execution_count": 12,
          "metadata": {},
          "output_type": "execute_result"
        }
      ]
    },
    {
      "cell_type": "markdown",
      "metadata": {
        "id": "ytANmLtbo0J_"
      },
      "source": [
        "Проверим столбец *children*:"
      ]
    },
    {
      "cell_type": "markdown",
      "metadata": {
        "id": "SyD1fIK4o0J7"
      },
      "source": [
        "Все пропуски отработаны."
      ]
    },
    {
      "cell_type": "code",
      "metadata": {
        "scrolled": true,
        "id": "W6ozukmpo0KB",
        "outputId": "5e18ef64-bae6-4320-fcba-d7c24d58bfb8"
      },
      "source": [
        "data['children'].value_counts()"
      ],
      "execution_count": null,
      "outputs": [
        {
          "data": {
            "text/plain": [
              " 0     14149\n",
              " 1      4818\n",
              " 2      2055\n",
              " 3       330\n",
              " 20       76\n",
              "-1        47\n",
              " 4        41\n",
              " 5         9\n",
              "Name: children, dtype: int64"
            ]
          },
          "execution_count": 14,
          "metadata": {},
          "output_type": "execute_result"
        }
      ]
    },
    {
      "cell_type": "markdown",
      "metadata": {
        "id": "tkhDheXwo0KC"
      },
      "source": [
        "Исправим отрицательные значения \"-1\", количество элементов незначительно, вероятней всего, это являлось опечаткой и количество относится к элементу \"1\". Также можно заметить количество детей 20, что смотря на остальные значения, является чем-то неестественным в данной группе,  скорей всего это также является опечаткой и ошибкой при вводе данных, поэтому заменим 20 на 2."
      ]
    },
    {
      "cell_type": "code",
      "metadata": {
        "id": "IUr-SlB5o0KD",
        "outputId": "cc6bd15a-3e90-4c54-c3db-3bb93b78c148"
      },
      "source": [
        "data.loc[data['children'] == -1,'children'] = 1\n",
        "data.loc[data['children'] == 20,'children'] = 2\n",
        "data['children'].value_counts() #сделаем проверку"
      ],
      "execution_count": null,
      "outputs": [
        {
          "data": {
            "text/plain": [
              "0    14149\n",
              "1     4865\n",
              "2     2131\n",
              "3      330\n",
              "4       41\n",
              "5        9\n",
              "Name: children, dtype: int64"
            ]
          },
          "execution_count": 15,
          "metadata": {},
          "output_type": "execute_result"
        }
      ]
    },
    {
      "cell_type": "markdown",
      "metadata": {
        "id": "6F1CK8BNo0KD"
      },
      "source": [
        "**Вывод**"
      ]
    },
    {
      "cell_type": "markdown",
      "metadata": {
        "id": "i5OdHB2Go0KE"
      },
      "source": [
        "В данном пункте были заменены и проанализированы имеющиеся в столбцах *days_employed* и *total_income* пропуски на среднее значение столбца. После последней проверки видно, что пропусков больше не осталось. Также проверили и отработали столбец *children*, после чего убедились в отсутствии необычных значений."
      ]
    },
    {
      "cell_type": "markdown",
      "metadata": {
        "id": "mYfmlPBxo0KE"
      },
      "source": [
        "### Замена типа данных"
      ]
    },
    {
      "cell_type": "markdown",
      "metadata": {
        "id": "Q2j_l__Lo0KE"
      },
      "source": [
        "В данном пункте необходимо провести замену вещественного типа данных на целочисленный. Столбцы *days_employed* и *total_income* имеют тип данных *float* (вещественный), в такой точности нет необходимости, поэтому данные можно преобразовать в тип *int* (целый). Для этого применим метод *astype()*."
      ]
    },
    {
      "cell_type": "code",
      "metadata": {
        "id": "UNyxhvk9o0KF",
        "outputId": "a1cba85b-3b98-4a1a-efea-a6cc78d76151"
      },
      "source": [
        "data['days_employed'] = data['days_employed'].astype('int')\n",
        "data['total_income'] = data['total_income'].astype('int')\n",
        "data.info()"
      ],
      "execution_count": null,
      "outputs": [
        {
          "name": "stdout",
          "output_type": "stream",
          "text": [
            "<class 'pandas.core.frame.DataFrame'>\n",
            "RangeIndex: 21525 entries, 0 to 21524\n",
            "Data columns (total 12 columns):\n",
            "children            21525 non-null int64\n",
            "days_employed       21525 non-null int64\n",
            "dob_years           21525 non-null int64\n",
            "education           21525 non-null object\n",
            "education_id        21525 non-null int64\n",
            "family_status       21525 non-null object\n",
            "family_status_id    21525 non-null int64\n",
            "gender              21525 non-null object\n",
            "income_type         21525 non-null object\n",
            "debt                21525 non-null int64\n",
            "total_income        21525 non-null int64\n",
            "purpose             21525 non-null object\n",
            "dtypes: int64(7), object(5)\n",
            "memory usage: 2.0+ MB\n"
          ]
        }
      ]
    },
    {
      "cell_type": "markdown",
      "metadata": {
        "id": "5tt2lAWLo0KG"
      },
      "source": [
        "**Вывод**"
      ]
    },
    {
      "cell_type": "markdown",
      "metadata": {
        "id": "_HwxNUrEo0KG"
      },
      "source": [
        "Провели замену типов данных, после проверки видно, что необходимые столбцы теперь имеют тип *int*."
      ]
    },
    {
      "cell_type": "markdown",
      "metadata": {
        "id": "bwbNwK7Mo0KG"
      },
      "source": [
        "### Обработка дубликатов"
      ]
    },
    {
      "cell_type": "code",
      "metadata": {
        "scrolled": false,
        "id": "JBn-2i1Lo0KH",
        "outputId": "7ad5a74c-0e79-4477-d128-d9a9a76c68d3"
      },
      "source": [
        "data['education'].value_counts() #посчитали частоту встречаемости уникальных значений"
      ],
      "execution_count": null,
      "outputs": [
        {
          "data": {
            "text/plain": [
              "среднее                13750\n",
              "высшее                  4718\n",
              "СРЕДНЕЕ                  772\n",
              "Среднее                  711\n",
              "неоконченное высшее      668\n",
              "ВЫСШЕЕ                   274\n",
              "Высшее                   268\n",
              "начальное                250\n",
              "Неоконченное высшее       47\n",
              "НЕОКОНЧЕННОЕ ВЫСШЕЕ       29\n",
              "НАЧАЛЬНОЕ                 17\n",
              "Начальное                 15\n",
              "ученая степень             4\n",
              "УЧЕНАЯ СТЕПЕНЬ             1\n",
              "Ученая степень             1\n",
              "Name: education, dtype: int64"
            ]
          },
          "execution_count": 17,
          "metadata": {},
          "output_type": "execute_result"
        }
      ]
    },
    {
      "cell_type": "markdown",
      "metadata": {
        "id": "qLYKBxRqo0KH"
      },
      "source": [
        "Можно увидеть, что имеются дубликаты, отличающиеся регистром. Возможная причина - разные менеджера вводили свой вариант значения, из-за чего в итоговом файле они являются дубликатами друг друга. Для исправления этого приведем все строки к нижнему регистру с помощью метода *str.lower()*."
      ]
    },
    {
      "cell_type": "code",
      "metadata": {
        "scrolled": true,
        "id": "oBAYao4Wo0KH",
        "outputId": "1379428b-3ee2-41ea-8784-5f535196d519"
      },
      "source": [
        "data['education'] = data['education'].str.lower()\n",
        "data['education'].value_counts() "
      ],
      "execution_count": null,
      "outputs": [
        {
          "data": {
            "text/plain": [
              "среднее                15233\n",
              "высшее                  5260\n",
              "неоконченное высшее      744\n",
              "начальное                282\n",
              "ученая степень             6\n",
              "Name: education, dtype: int64"
            ]
          },
          "execution_count": 18,
          "metadata": {},
          "output_type": "execute_result"
        }
      ]
    },
    {
      "cell_type": "markdown",
      "metadata": {
        "id": "_8VTO81do0KH"
      },
      "source": [
        "Теперь всё группируется в 5 категорий, и дубликатов нет. Проверим другие столбцы:"
      ]
    },
    {
      "cell_type": "code",
      "metadata": {
        "scrolled": false,
        "id": "6-Wmzl0po0KI",
        "outputId": "cbee51e1-8d71-455e-e344-8b0fed884034"
      },
      "source": [
        "data['income_type'].value_counts()"
      ],
      "execution_count": null,
      "outputs": [
        {
          "data": {
            "text/plain": [
              "сотрудник          11119\n",
              "компаньон           5085\n",
              "пенсионер           3856\n",
              "госслужащий         1459\n",
              "предприниматель        2\n",
              "безработный            2\n",
              "в декрете              1\n",
              "студент                1\n",
              "Name: income_type, dtype: int64"
            ]
          },
          "execution_count": 19,
          "metadata": {},
          "output_type": "execute_result"
        }
      ]
    },
    {
      "cell_type": "markdown",
      "metadata": {
        "id": "sDpFAsfAo0KI"
      },
      "source": [
        "Дубликатов нет, все 8 групп встречааются в одинаковом виде."
      ]
    },
    {
      "cell_type": "code",
      "metadata": {
        "id": "pIComJT_o0KI",
        "outputId": "c0d2aac4-a3e7-4619-973b-062f63399d0f"
      },
      "source": [
        "data['purpose'].value_counts()"
      ],
      "execution_count": null,
      "outputs": [
        {
          "data": {
            "text/plain": [
              "свадьба                                   797\n",
              "на проведение свадьбы                     777\n",
              "сыграть свадьбу                           774\n",
              "операции с недвижимостью                  676\n",
              "покупка коммерческой недвижимости         664\n",
              "операции с жильем                         653\n",
              "покупка жилья для сдачи                   653\n",
              "операции с коммерческой недвижимостью     651\n",
              "жилье                                     647\n",
              "покупка жилья                             647\n",
              "покупка жилья для семьи                   641\n",
              "строительство собственной недвижимости    635\n",
              "недвижимость                              634\n",
              "операции со своей недвижимостью           630\n",
              "строительство жилой недвижимости          626\n",
              "покупка недвижимости                      624\n",
              "покупка своего жилья                      620\n",
              "строительство недвижимости                620\n",
              "ремонт жилью                              612\n",
              "покупка жилой недвижимости                607\n",
              "на покупку своего автомобиля              505\n",
              "заняться высшим образованием              496\n",
              "автомобиль                                495\n",
              "сделка с подержанным автомобилем          489\n",
              "свой автомобиль                           480\n",
              "на покупку подержанного автомобиля        479\n",
              "автомобили                                478\n",
              "на покупку автомобиля                     472\n",
              "приобретение автомобиля                   462\n",
              "дополнительное образование                462\n",
              "сделка с автомобилем                      455\n",
              "высшее образование                        453\n",
              "получение дополнительного образования     447\n",
              "образование                               447\n",
              "получение образования                     443\n",
              "профильное образование                    436\n",
              "получение высшего образования             426\n",
              "заняться образованием                     412\n",
              "Name: purpose, dtype: int64"
            ]
          },
          "execution_count": 20,
          "metadata": {},
          "output_type": "execute_result"
        }
      ]
    },
    {
      "cell_type": "markdown",
      "metadata": {
        "id": "6PRoaDk4o0KI"
      },
      "source": [
        "В столбце *purpose* имеются одинаковые цели, выраженные по-разному. Отработаем этот столбец с помощью лемматизации в следующем пункте."
      ]
    },
    {
      "cell_type": "code",
      "metadata": {
        "id": "aKO3mT8Ro0KI",
        "outputId": "c6c8b95e-0d23-42cb-e230-0bea7c4a31e7"
      },
      "source": [
        "data.duplicated().sum()"
      ],
      "execution_count": null,
      "outputs": [
        {
          "data": {
            "text/plain": [
              "71"
            ]
          },
          "execution_count": 21,
          "metadata": {},
          "output_type": "execute_result"
        }
      ]
    },
    {
      "cell_type": "markdown",
      "metadata": {
        "id": "LBykUygOo0KJ"
      },
      "source": [
        "С помощью функций *duplicated() и sum()* видим, что в таблице одинаковых строк - 71. Удалим их с помощью *drop_duplicates()* и снова проверим таблицу на наличие дубликатов:"
      ]
    },
    {
      "cell_type": "code",
      "metadata": {
        "id": "7xlP-A-Xo0KJ"
      },
      "source": [
        "data = data.drop_duplicates()"
      ],
      "execution_count": null,
      "outputs": []
    },
    {
      "cell_type": "code",
      "metadata": {
        "id": "F1E6oFZno0KJ",
        "outputId": "d290d356-6b36-48fc-b139-19563facdb4e"
      },
      "source": [
        "data.duplicated().sum()"
      ],
      "execution_count": null,
      "outputs": [
        {
          "data": {
            "text/plain": [
              "0"
            ]
          },
          "execution_count": 23,
          "metadata": {},
          "output_type": "execute_result"
        }
      ]
    },
    {
      "cell_type": "markdown",
      "metadata": {
        "id": "nlwlskvso0KJ"
      },
      "source": [
        "**Вывод**"
      ]
    },
    {
      "cell_type": "markdown",
      "metadata": {
        "id": "Lm1g9fyeo0KK"
      },
      "source": [
        "В столбце \"образование\" были обработы дубликаты, в остальных столбцах значения так же были проверены на дубликаты с помощью метода *value_counts()*. После преобразований проверили, имеются ли в таблице дублирующиеся строки. Нашли 71 дубликат и удалили."
      ]
    },
    {
      "cell_type": "markdown",
      "metadata": {
        "id": "npaGHvJyo0KK"
      },
      "source": [
        "### Лемматизация"
      ]
    },
    {
      "cell_type": "markdown",
      "metadata": {
        "id": "3wPa9jwRo0KK"
      },
      "source": [
        "Применим лемматизацию для столбца *purpose*."
      ]
    },
    {
      "cell_type": "code",
      "metadata": {
        "scrolled": true,
        "id": "Yl7HP23lo0KK",
        "outputId": "ab51d3f7-f3a1-47ef-bc89-5195e9b0f929"
      },
      "source": [
        "data['purpose'].unique()"
      ],
      "execution_count": null,
      "outputs": [
        {
          "data": {
            "text/plain": [
              "array(['покупка жилья', 'приобретение автомобиля',\n",
              "       'дополнительное образование', 'сыграть свадьбу',\n",
              "       'операции с жильем', 'образование', 'на проведение свадьбы',\n",
              "       'покупка жилья для семьи', 'покупка недвижимости',\n",
              "       'покупка коммерческой недвижимости', 'покупка жилой недвижимости',\n",
              "       'строительство собственной недвижимости', 'недвижимость',\n",
              "       'строительство недвижимости', 'на покупку подержанного автомобиля',\n",
              "       'на покупку своего автомобиля',\n",
              "       'операции с коммерческой недвижимостью',\n",
              "       'строительство жилой недвижимости', 'жилье',\n",
              "       'операции со своей недвижимостью', 'автомобили',\n",
              "       'заняться образованием', 'сделка с подержанным автомобилем',\n",
              "       'получение образования', 'автомобиль', 'свадьба',\n",
              "       'получение дополнительного образования', 'покупка своего жилья',\n",
              "       'операции с недвижимостью', 'получение высшего образования',\n",
              "       'свой автомобиль', 'сделка с автомобилем',\n",
              "       'профильное образование', 'высшее образование',\n",
              "       'покупка жилья для сдачи', 'на покупку автомобиля', 'ремонт жилью',\n",
              "       'заняться высшим образованием'], dtype=object)"
            ]
          },
          "execution_count": 24,
          "metadata": {},
          "output_type": "execute_result"
        }
      ]
    },
    {
      "cell_type": "markdown",
      "metadata": {
        "id": "FRpDyD5fo0KL"
      },
      "source": [
        "В данном и предыдущем шаге мы можем видеть уникальные цели по заявкам на кредит, среди них можно выделить основные: операции с жильем, операции по автомобилям, образование, операции с недвижимостью и свадьба. \n",
        "\n",
        "В следующем шаге создадим функцию, которая будет лемматизировать все цели, и при нахождении ключевого слова будет выдавать категорию в новом столбце *purpose*. Таким образом, объединим операции с жильем и недвижимостью в единую группу *недвижимость*. Остальные цели сохраним с названиями *свадьба, автомобиль и образование*. Также на случай, если что-то было упущено, добавим опцию *нет категории*."
      ]
    },
    {
      "cell_type": "code",
      "metadata": {
        "id": "1PoLm-rro0KL",
        "outputId": "474d1952-0665-47a1-f9a5-a400e13a244a"
      },
      "source": [
        "from pymystem3 import Mystem\n",
        "m = Mystem()\n",
        "\n",
        "def create_category(purp):\n",
        "    purpose = m.lemmatize(purp)\n",
        "    \n",
        "    try:\n",
        "        if 'свадьба' in purpose:\n",
        "            return 'свадьба'\n",
        "        if 'автомобиль' in purpose:\n",
        "            return 'автомобиль'\n",
        "        if ('жилье' in purpose) or ('недвижимость' in purpose):\n",
        "            return 'недвижимость'\n",
        "        if 'образование' in purpose:\n",
        "            return 'образование'\n",
        "    except:\n",
        "        return 'нет категории'\n",
        "    \n",
        "data['purposes'] = data['purpose'].apply(create_category)\n",
        "data['purposes'].value_counts()"
      ],
      "execution_count": null,
      "outputs": [
        {
          "data": {
            "text/plain": [
              "недвижимость    10811\n",
              "автомобиль       4306\n",
              "образование      4013\n",
              "свадьба          2324\n",
              "Name: purposes, dtype: int64"
            ]
          },
          "execution_count": 25,
          "metadata": {},
          "output_type": "execute_result"
        }
      ]
    },
    {
      "cell_type": "markdown",
      "metadata": {
        "id": "eVhxwob4o0KL"
      },
      "source": [
        "**Вывод**"
      ]
    },
    {
      "cell_type": "markdown",
      "metadata": {
        "id": "w2MTUry0o0KL"
      },
      "source": [
        "Чтобы лемматизировать столбец *purpose*, для начала получили список уникальных значений из этого столбца методом *unique()*. Затем, лемматизировали каждый элемент из данного списка с помощью написанной функции *create_category*, которая была применена ко всему списку методом *apply()*. Также был создан новый столбец *purposes*, в котором сохранились четыре цели, теперь одинаково сформулированные и которые можно сгруппировать. Также видим, что результат не выдал ничего с опцией *нет категории*, следовательно, всё было сгруппировано верно."
      ]
    },
    {
      "cell_type": "markdown",
      "metadata": {
        "id": "MxYCwwbfo0KM"
      },
      "source": [
        "### Категоризация данных"
      ]
    },
    {
      "cell_type": "markdown",
      "metadata": {
        "id": "sBdv0Hwlo0KM"
      },
      "source": [
        "Для дальнейшего анализа необходимо категоризировать данные. В прошлом шаге был категоризирован столбец с целями. Теперь категоризируем столбец с уровнем дохода и добавим новый столбец *children_count*, в котором количество детей будет категоризировано на три группы."
      ]
    },
    {
      "cell_type": "code",
      "metadata": {
        "id": "WRrIzR64o0KM",
        "outputId": "87316d90-9083-49c0-900f-a8c4842c8763"
      },
      "source": [
        "data['income'] = pd.qcut(data['total_income'],3,labels = ['низкий', 'средний', 'высокий'])\n",
        "data['income'].value_counts()"
      ],
      "execution_count": null,
      "outputs": [
        {
          "data": {
            "text/plain": [
              "средний    7285\n",
              "низкий     7152\n",
              "высокий    7017\n",
              "Name: income, dtype: int64"
            ]
          },
          "execution_count": 26,
          "metadata": {},
          "output_type": "execute_result"
        }
      ]
    },
    {
      "cell_type": "markdown",
      "metadata": {
        "id": "8RFRaNlbo0KM"
      },
      "source": [
        "С помощью функции *qcut* разбили доходы на три равные группы (0.25-, 0.5-, 0.75-квантили): *низкий, средний, высокий*. "
      ]
    },
    {
      "cell_type": "code",
      "metadata": {
        "id": "MNeEHX4Xo0KN",
        "outputId": "b1cfea11-7ad6-437f-9618-973b3db2a198"
      },
      "source": [
        "def child_count(children):\n",
        "    if children == 0:\n",
        "        return 'нет детей'\n",
        "    elif children == 1 or children == 2:\n",
        "        return '1-2'\n",
        "    else: return '3+'\n",
        "\n",
        "data['children_count'] = data['children'].apply(child_count)\n",
        "data['children_count'].value_counts()"
      ],
      "execution_count": null,
      "outputs": [
        {
          "data": {
            "text/plain": [
              "нет детей    14091\n",
              "1-2           6983\n",
              "3+             380\n",
              "Name: children_count, dtype: int64"
            ]
          },
          "execution_count": 27,
          "metadata": {},
          "output_type": "execute_result"
        }
      ]
    },
    {
      "cell_type": "markdown",
      "metadata": {
        "id": "J1BkJsO-o0KN"
      },
      "source": [
        "Теперь для анализа будет удобней использовать столбец *children_count*, чтобы понять, к какой категории касательно количества детей относится клиент."
      ]
    },
    {
      "cell_type": "markdown",
      "metadata": {
        "id": "mJYcucuUo0KN"
      },
      "source": [
        "**Вывод**"
      ]
    },
    {
      "cell_type": "markdown",
      "metadata": {
        "id": "PJVK2TOso0KN"
      },
      "source": [
        "Для анализа нам нужны будут категоризированные данные уровня дохода, целей кредита, количества детей, а также семейного положения. Столбец с семейным положением уже был отработан, цели кредита были категоризированы, поэтому в этом пункте был рассмотрен и категоризирован столбец с доходом, а именно поделен на три группы, и добавлен новый столбец *children_id*, где хранятся результаты применения функции *child_id*, оценивающей, имеет ли заемщик детей или нет. Если есть хотя бы один ребенок, функция выдает 1, если нет - 0."
      ]
    },
    {
      "cell_type": "markdown",
      "metadata": {
        "id": "UUbA7p00o0KN"
      },
      "source": [
        "## Шаг 3. Ответьте на вопросы"
      ]
    },
    {
      "cell_type": "markdown",
      "metadata": {
        "id": "Kgk1pWipo0KN"
      },
      "source": [
        "- Есть ли зависимость между наличием детей и возвратом кредита в срок?"
      ]
    },
    {
      "cell_type": "code",
      "metadata": {
        "scrolled": true,
        "id": "VjepzFkJo0KO",
        "outputId": "bda9ac62-58d4-4afd-dd73-0ebff03ec578"
      },
      "source": [
        "data.pivot_table(index=['children_count'],values='debt')"
      ],
      "execution_count": null,
      "outputs": [
        {
          "data": {
            "text/html": [
              "<div>\n",
              "<style scoped>\n",
              "    .dataframe tbody tr th:only-of-type {\n",
              "        vertical-align: middle;\n",
              "    }\n",
              "\n",
              "    .dataframe tbody tr th {\n",
              "        vertical-align: top;\n",
              "    }\n",
              "\n",
              "    .dataframe thead th {\n",
              "        text-align: right;\n",
              "    }\n",
              "</style>\n",
              "<table border=\"1\" class=\"dataframe\">\n",
              "  <thead>\n",
              "    <tr style=\"text-align: right;\">\n",
              "      <th></th>\n",
              "      <th>debt</th>\n",
              "    </tr>\n",
              "    <tr>\n",
              "      <th>children_count</th>\n",
              "      <th></th>\n",
              "    </tr>\n",
              "  </thead>\n",
              "  <tbody>\n",
              "    <tr>\n",
              "      <td>1-2</td>\n",
              "      <td>0.092654</td>\n",
              "    </tr>\n",
              "    <tr>\n",
              "      <td>3+</td>\n",
              "      <td>0.081579</td>\n",
              "    </tr>\n",
              "    <tr>\n",
              "      <td>нет детей</td>\n",
              "      <td>0.075438</td>\n",
              "    </tr>\n",
              "  </tbody>\n",
              "</table>\n",
              "</div>"
            ],
            "text/plain": [
              "                    debt\n",
              "children_count          \n",
              "1-2             0.092654\n",
              "3+              0.081579\n",
              "нет детей       0.075438"
            ]
          },
          "execution_count": 28,
          "metadata": {},
          "output_type": "execute_result"
        }
      ]
    },
    {
      "cell_type": "code",
      "metadata": {
        "id": "AJFJ5YXQo0KO",
        "outputId": "915bb579-b731-45b0-d1cc-8206e504e348"
      },
      "source": [
        "data.pivot_table(index=['children_count'],values='debt',aggfunc='sum')"
      ],
      "execution_count": null,
      "outputs": [
        {
          "data": {
            "text/html": [
              "<div>\n",
              "<style scoped>\n",
              "    .dataframe tbody tr th:only-of-type {\n",
              "        vertical-align: middle;\n",
              "    }\n",
              "\n",
              "    .dataframe tbody tr th {\n",
              "        vertical-align: top;\n",
              "    }\n",
              "\n",
              "    .dataframe thead th {\n",
              "        text-align: right;\n",
              "    }\n",
              "</style>\n",
              "<table border=\"1\" class=\"dataframe\">\n",
              "  <thead>\n",
              "    <tr style=\"text-align: right;\">\n",
              "      <th></th>\n",
              "      <th>debt</th>\n",
              "    </tr>\n",
              "    <tr>\n",
              "      <th>children_count</th>\n",
              "      <th></th>\n",
              "    </tr>\n",
              "  </thead>\n",
              "  <tbody>\n",
              "    <tr>\n",
              "      <td>1-2</td>\n",
              "      <td>647</td>\n",
              "    </tr>\n",
              "    <tr>\n",
              "      <td>3+</td>\n",
              "      <td>31</td>\n",
              "    </tr>\n",
              "    <tr>\n",
              "      <td>нет детей</td>\n",
              "      <td>1063</td>\n",
              "    </tr>\n",
              "  </tbody>\n",
              "</table>\n",
              "</div>"
            ],
            "text/plain": [
              "                debt\n",
              "children_count      \n",
              "1-2              647\n",
              "3+                31\n",
              "нет детей       1063"
            ]
          },
          "execution_count": 29,
          "metadata": {},
          "output_type": "execute_result"
        }
      ]
    },
    {
      "cell_type": "markdown",
      "metadata": {
        "id": "QY5T98IWo0KO"
      },
      "source": [
        "При условии, что детей нет: *P = 1063/14149 = 0.075 = 7.5%*\n",
        "\n",
        "При условии, что детей в семье 1-2: *P = 647/6996 = 0.092 = 9.2%*\n",
        "\n",
        "При условии, что детей в семье трое или больше: *P = 31/380 = 0.082 = 8.2%*"
      ]
    },
    {
      "cell_type": "markdown",
      "metadata": {
        "id": "usv9ImGso0KO"
      },
      "source": [
        "**Вывод**"
      ]
    },
    {
      "cell_type": "markdown",
      "metadata": {
        "id": "Supmz6pCo0KO"
      },
      "source": [
        "В первой таблице мы видим вероятность существования задолженности при условиях, что у заемщика нет детей, 1-2 детей или 3+ детей. \n",
        "\n",
        "Из результата делаем вывод: \n",
        " - вероятность задолженности по сравнению с людьми, у которых нет детей - при наличии одного или двух детей увеличивается на *1.7 процентных пункта до 9.2%*, а при 3+ детей на *0.7 процентных пункта до 8.2%*. "
      ]
    },
    {
      "cell_type": "markdown",
      "metadata": {
        "id": "gjDuA1O1o0KP"
      },
      "source": [
        "- Есть ли зависимость между семейным положением и возвратом кредита в срок?"
      ]
    },
    {
      "cell_type": "code",
      "metadata": {
        "id": "2FuSRsx4o0KP",
        "outputId": "1b09f4d6-8b68-45ef-9dd8-53c3c3bc2164"
      },
      "source": [
        "data.pivot_table(index=['family_status'],values='debt').sort_values(by='debt',ascending=False)"
      ],
      "execution_count": null,
      "outputs": [
        {
          "data": {
            "text/html": [
              "<div>\n",
              "<style scoped>\n",
              "    .dataframe tbody tr th:only-of-type {\n",
              "        vertical-align: middle;\n",
              "    }\n",
              "\n",
              "    .dataframe tbody tr th {\n",
              "        vertical-align: top;\n",
              "    }\n",
              "\n",
              "    .dataframe thead th {\n",
              "        text-align: right;\n",
              "    }\n",
              "</style>\n",
              "<table border=\"1\" class=\"dataframe\">\n",
              "  <thead>\n",
              "    <tr style=\"text-align: right;\">\n",
              "      <th></th>\n",
              "      <th>debt</th>\n",
              "    </tr>\n",
              "    <tr>\n",
              "      <th>family_status</th>\n",
              "      <th></th>\n",
              "    </tr>\n",
              "  </thead>\n",
              "  <tbody>\n",
              "    <tr>\n",
              "      <td>Не женат / не замужем</td>\n",
              "      <td>0.097509</td>\n",
              "    </tr>\n",
              "    <tr>\n",
              "      <td>гражданский брак</td>\n",
              "      <td>0.093471</td>\n",
              "    </tr>\n",
              "    <tr>\n",
              "      <td>женат / замужем</td>\n",
              "      <td>0.075452</td>\n",
              "    </tr>\n",
              "    <tr>\n",
              "      <td>в разводе</td>\n",
              "      <td>0.071130</td>\n",
              "    </tr>\n",
              "    <tr>\n",
              "      <td>вдовец / вдова</td>\n",
              "      <td>0.065693</td>\n",
              "    </tr>\n",
              "  </tbody>\n",
              "</table>\n",
              "</div>"
            ],
            "text/plain": [
              "                           debt\n",
              "family_status                  \n",
              "Не женат / не замужем  0.097509\n",
              "гражданский брак       0.093471\n",
              "женат / замужем        0.075452\n",
              "в разводе              0.071130\n",
              "вдовец / вдова         0.065693"
            ]
          },
          "execution_count": 30,
          "metadata": {},
          "output_type": "execute_result"
        }
      ]
    },
    {
      "cell_type": "markdown",
      "metadata": {
        "id": "NQ27UVsgo0KP"
      },
      "source": [
        "**Вывод**"
      ]
    },
    {
      "cell_type": "markdown",
      "metadata": {
        "id": "q28tRNq6o0KP"
      },
      "source": [
        "В данной сводной таблице отсортированы в порядке убывания вероятности задолженности при различном семейном статусе. Как мы видим, на первом и втором месте статусы *не женат / не замужем* и *гражданский брак* с вероятностью *9.7% и 9.3%*, затем *женат / замужем, в разводе, вдовец / вдова* с вероятностями *7.5%, 7.1% и 6.6%* соотвественно. Значит, вероятность задолженности по возврату кредита выше примерно на *2.5 процентных пункта*, если человек не состоит или не состоял в официальном браке."
      ]
    },
    {
      "cell_type": "markdown",
      "metadata": {
        "id": "BG4eI_7ao0KP"
      },
      "source": [
        "- Есть ли зависимость между уровнем дохода и возвратом кредита в срок?"
      ]
    },
    {
      "cell_type": "code",
      "metadata": {
        "id": "rZBjcuBxo0KP",
        "outputId": "706d8ecc-cec9-4486-ba5b-963d8d373c9e"
      },
      "source": [
        "data.pivot_table(index=['income'],values='debt').sort_values(by='debt',ascending=False)"
      ],
      "execution_count": null,
      "outputs": [
        {
          "data": {
            "text/html": [
              "<div>\n",
              "<style scoped>\n",
              "    .dataframe tbody tr th:only-of-type {\n",
              "        vertical-align: middle;\n",
              "    }\n",
              "\n",
              "    .dataframe tbody tr th {\n",
              "        vertical-align: top;\n",
              "    }\n",
              "\n",
              "    .dataframe thead th {\n",
              "        text-align: right;\n",
              "    }\n",
              "</style>\n",
              "<table border=\"1\" class=\"dataframe\">\n",
              "  <thead>\n",
              "    <tr style=\"text-align: right;\">\n",
              "      <th></th>\n",
              "      <th>debt</th>\n",
              "    </tr>\n",
              "    <tr>\n",
              "      <th>income</th>\n",
              "      <th></th>\n",
              "    </tr>\n",
              "  </thead>\n",
              "  <tbody>\n",
              "    <tr>\n",
              "      <td>средний</td>\n",
              "      <td>0.086754</td>\n",
              "    </tr>\n",
              "    <tr>\n",
              "      <td>низкий</td>\n",
              "      <td>0.081236</td>\n",
              "    </tr>\n",
              "    <tr>\n",
              "      <td>высокий</td>\n",
              "      <td>0.075246</td>\n",
              "    </tr>\n",
              "  </tbody>\n",
              "</table>\n",
              "</div>"
            ],
            "text/plain": [
              "             debt\n",
              "income           \n",
              "средний  0.086754\n",
              "низкий   0.081236\n",
              "высокий  0.075246"
            ]
          },
          "execution_count": 31,
          "metadata": {},
          "output_type": "execute_result"
        }
      ]
    },
    {
      "cell_type": "markdown",
      "metadata": {
        "id": "zzhBWdj2o0KP"
      },
      "source": [
        "**Вывод**"
      ]
    },
    {
      "cell_type": "markdown",
      "metadata": {
        "id": "l097ArX7o0KQ"
      },
      "source": [
        "Из данной таблицы видно, что задолженности имеются у всех трех групп, при этом вероятность невозврата кредита в срок минимальна у людей с высоким доходом, затем идут заемщики с низким доходом, и наибольшая вероятность у людей со средним уровнем дохода.\n",
        "У людей со средним уровнем дохода могут быть совершенно разные причины не погашения кредита в срок, поэтому очень сложно определить зависимость между уровнем дохода и погашением кредита."
      ]
    },
    {
      "cell_type": "markdown",
      "metadata": {
        "id": "3j53zMSwo0KQ"
      },
      "source": [
        "- Как разные цели кредита влияют на его возврат в срок?"
      ]
    },
    {
      "cell_type": "code",
      "metadata": {
        "id": "ls_L9qFLo0KQ",
        "outputId": "e2186dd2-ca84-4edf-e1f2-08f5a4871af8"
      },
      "source": [
        "data.pivot_table(index=['purposes'],values='debt').sort_values(by='debt',ascending=False)"
      ],
      "execution_count": null,
      "outputs": [
        {
          "data": {
            "text/html": [
              "<div>\n",
              "<style scoped>\n",
              "    .dataframe tbody tr th:only-of-type {\n",
              "        vertical-align: middle;\n",
              "    }\n",
              "\n",
              "    .dataframe tbody tr th {\n",
              "        vertical-align: top;\n",
              "    }\n",
              "\n",
              "    .dataframe thead th {\n",
              "        text-align: right;\n",
              "    }\n",
              "</style>\n",
              "<table border=\"1\" class=\"dataframe\">\n",
              "  <thead>\n",
              "    <tr style=\"text-align: right;\">\n",
              "      <th></th>\n",
              "      <th>debt</th>\n",
              "    </tr>\n",
              "    <tr>\n",
              "      <th>purposes</th>\n",
              "      <th></th>\n",
              "    </tr>\n",
              "  </thead>\n",
              "  <tbody>\n",
              "    <tr>\n",
              "      <td>автомобиль</td>\n",
              "      <td>0.093590</td>\n",
              "    </tr>\n",
              "    <tr>\n",
              "      <td>образование</td>\n",
              "      <td>0.092200</td>\n",
              "    </tr>\n",
              "    <tr>\n",
              "      <td>свадьба</td>\n",
              "      <td>0.080034</td>\n",
              "    </tr>\n",
              "    <tr>\n",
              "      <td>недвижимость</td>\n",
              "      <td>0.072334</td>\n",
              "    </tr>\n",
              "  </tbody>\n",
              "</table>\n",
              "</div>"
            ],
            "text/plain": [
              "                  debt\n",
              "purposes              \n",
              "автомобиль    0.093590\n",
              "образование   0.092200\n",
              "свадьба       0.080034\n",
              "недвижимость  0.072334"
            ]
          },
          "execution_count": 32,
          "metadata": {},
          "output_type": "execute_result"
        }
      ]
    },
    {
      "cell_type": "markdown",
      "metadata": {
        "id": "UsZWqVKso0KQ"
      },
      "source": [
        "**Вывод**"
      ]
    },
    {
      "cell_type": "markdown",
      "metadata": {
        "id": "KNDThTwio0KQ"
      },
      "source": [
        "Наибольшую вероятность задолженности имеют люди, взявшие кредит на автомобиль, затем на образование, свадьбу и наименьшую - на недвижимость. "
      ]
    },
    {
      "cell_type": "markdown",
      "metadata": {
        "id": "-inNkboBo0KR"
      },
      "source": [
        "## Шаг 4. Общий вывод"
      ]
    },
    {
      "cell_type": "markdown",
      "metadata": {
        "id": "H6Wn-eZ0o0KR"
      },
      "source": [
        "В проекте был обработан и исследован файл с данными со статистикой о платёжеспособности клиентов. Цель проекта - понять, какие факторы влияют на погашение кредита в срок. Были использованы различные методы обработки данных, группировки, категоризации, чтобы сделать их наиболее \"чистыми\".\n",
        "\n",
        "Из проделанного анализа можно сделать вывод о том, какой клиент является наиболее платежеспособным по кредиту и может вернуть его в срок с наибольшей вероятностью. Портрет такого заемщика выглядит так: *человек, не имеющий детей, который состоял или состоит в официальном браке, имеет высокий уровень дохода и цель его кредита - операции с недвижимостью*."
      ]
    }
  ]
}