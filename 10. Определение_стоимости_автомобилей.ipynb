{
  "cells": [
    {
      "cell_type": "markdown",
      "metadata": {
        "id": "a1gs7GNmiHAr"
      },
      "source": [
        "# Определение стоимости автомобилей"
      ]
    },
    {
      "cell_type": "markdown",
      "metadata": {
        "id": "m0ayhIiDiHAr"
      },
      "source": [
        "Сервис по продаже автомобилей с пробегом «Не бит, не крашен» разрабатывает приложение для привлечения новых клиентов. В нём можно быстро узнать рыночную стоимость своего автомобиля. В вашем распоряжении исторические данные: технические характеристики, комплектации и цены автомобилей. Вам нужно построить модель для определения стоимости. \n",
        "\n",
        "Заказчику важны:\n",
        "\n",
        "- качество предсказания;\n",
        "- скорость предсказания;\n",
        "- время обучения."
      ]
    },
    {
      "cell_type": "markdown",
      "metadata": {
        "id": "FKW-LSRIiHAs"
      },
      "source": [
        "## Подготовка данных"
      ]
    },
    {
      "cell_type": "code",
      "execution_count": null,
      "metadata": {
        "id": "myst6ofciHAs"
      },
      "outputs": [],
      "source": [
        "import pandas as pd\n",
        "import numpy as np\n",
        "import time\n",
        "from sklearn.metrics import mean_squared_error\n",
        "from sklearn.model_selection import train_test_split\n",
        "from sklearn.preprocessing import StandardScaler\n",
        "from sklearn.model_selection import GridSearchCV\n",
        "from sklearn.linear_model import LinearRegression\n",
        "from sklearn.tree import DecisionTreeRegressor\n",
        "from lightgbm import LGBMRegressor\n",
        "from catboost import CatBoostRegressor\n",
        "\n",
        "import warnings\n",
        "warnings.filterwarnings('ignore')"
      ]
    },
    {
      "cell_type": "code",
      "execution_count": null,
      "metadata": {
        "id": "0ksAhdEriHAu"
      },
      "outputs": [],
      "source": [
        "data = pd.read_csv('/datasets/autos.csv')"
      ]
    },
    {
      "cell_type": "code",
      "execution_count": null,
      "metadata": {
        "scrolled": false,
        "id": "5t4Nz0XwiHAu",
        "outputId": "a585de6d-8153-40d4-bf33-f9989853ee68"
      },
      "outputs": [
        {
          "name": "stdout",
          "output_type": "stream",
          "text": [
            "<class 'pandas.core.frame.DataFrame'>\n",
            "RangeIndex: 354369 entries, 0 to 354368\n",
            "Data columns (total 16 columns):\n",
            "DateCrawled          354369 non-null object\n",
            "Price                354369 non-null int64\n",
            "VehicleType          316879 non-null object\n",
            "RegistrationYear     354369 non-null int64\n",
            "Gearbox              334536 non-null object\n",
            "Power                354369 non-null int64\n",
            "Model                334664 non-null object\n",
            "Kilometer            354369 non-null int64\n",
            "RegistrationMonth    354369 non-null int64\n",
            "FuelType             321474 non-null object\n",
            "Brand                354369 non-null object\n",
            "NotRepaired          283215 non-null object\n",
            "DateCreated          354369 non-null object\n",
            "NumberOfPictures     354369 non-null int64\n",
            "PostalCode           354369 non-null int64\n",
            "LastSeen             354369 non-null object\n",
            "dtypes: int64(7), object(9)\n",
            "memory usage: 43.3+ MB\n"
          ]
        },
        {
          "data": {
            "text/html": [
              "<div>\n",
              "<style scoped>\n",
              "    .dataframe tbody tr th:only-of-type {\n",
              "        vertical-align: middle;\n",
              "    }\n",
              "\n",
              "    .dataframe tbody tr th {\n",
              "        vertical-align: top;\n",
              "    }\n",
              "\n",
              "    .dataframe thead th {\n",
              "        text-align: right;\n",
              "    }\n",
              "</style>\n",
              "<table border=\"1\" class=\"dataframe\">\n",
              "  <thead>\n",
              "    <tr style=\"text-align: right;\">\n",
              "      <th></th>\n",
              "      <th>DateCrawled</th>\n",
              "      <th>Price</th>\n",
              "      <th>VehicleType</th>\n",
              "      <th>RegistrationYear</th>\n",
              "      <th>Gearbox</th>\n",
              "      <th>Power</th>\n",
              "      <th>Model</th>\n",
              "      <th>Kilometer</th>\n",
              "      <th>RegistrationMonth</th>\n",
              "      <th>FuelType</th>\n",
              "      <th>Brand</th>\n",
              "      <th>NotRepaired</th>\n",
              "      <th>DateCreated</th>\n",
              "      <th>NumberOfPictures</th>\n",
              "      <th>PostalCode</th>\n",
              "      <th>LastSeen</th>\n",
              "    </tr>\n",
              "  </thead>\n",
              "  <tbody>\n",
              "    <tr>\n",
              "      <td>0</td>\n",
              "      <td>2016-03-24 11:52:17</td>\n",
              "      <td>480</td>\n",
              "      <td>NaN</td>\n",
              "      <td>1993</td>\n",
              "      <td>manual</td>\n",
              "      <td>0</td>\n",
              "      <td>golf</td>\n",
              "      <td>150000</td>\n",
              "      <td>0</td>\n",
              "      <td>petrol</td>\n",
              "      <td>volkswagen</td>\n",
              "      <td>NaN</td>\n",
              "      <td>2016-03-24 00:00:00</td>\n",
              "      <td>0</td>\n",
              "      <td>70435</td>\n",
              "      <td>2016-04-07 03:16:57</td>\n",
              "    </tr>\n",
              "    <tr>\n",
              "      <td>1</td>\n",
              "      <td>2016-03-24 10:58:45</td>\n",
              "      <td>18300</td>\n",
              "      <td>coupe</td>\n",
              "      <td>2011</td>\n",
              "      <td>manual</td>\n",
              "      <td>190</td>\n",
              "      <td>NaN</td>\n",
              "      <td>125000</td>\n",
              "      <td>5</td>\n",
              "      <td>gasoline</td>\n",
              "      <td>audi</td>\n",
              "      <td>yes</td>\n",
              "      <td>2016-03-24 00:00:00</td>\n",
              "      <td>0</td>\n",
              "      <td>66954</td>\n",
              "      <td>2016-04-07 01:46:50</td>\n",
              "    </tr>\n",
              "    <tr>\n",
              "      <td>2</td>\n",
              "      <td>2016-03-14 12:52:21</td>\n",
              "      <td>9800</td>\n",
              "      <td>suv</td>\n",
              "      <td>2004</td>\n",
              "      <td>auto</td>\n",
              "      <td>163</td>\n",
              "      <td>grand</td>\n",
              "      <td>125000</td>\n",
              "      <td>8</td>\n",
              "      <td>gasoline</td>\n",
              "      <td>jeep</td>\n",
              "      <td>NaN</td>\n",
              "      <td>2016-03-14 00:00:00</td>\n",
              "      <td>0</td>\n",
              "      <td>90480</td>\n",
              "      <td>2016-04-05 12:47:46</td>\n",
              "    </tr>\n",
              "    <tr>\n",
              "      <td>3</td>\n",
              "      <td>2016-03-17 16:54:04</td>\n",
              "      <td>1500</td>\n",
              "      <td>small</td>\n",
              "      <td>2001</td>\n",
              "      <td>manual</td>\n",
              "      <td>75</td>\n",
              "      <td>golf</td>\n",
              "      <td>150000</td>\n",
              "      <td>6</td>\n",
              "      <td>petrol</td>\n",
              "      <td>volkswagen</td>\n",
              "      <td>no</td>\n",
              "      <td>2016-03-17 00:00:00</td>\n",
              "      <td>0</td>\n",
              "      <td>91074</td>\n",
              "      <td>2016-03-17 17:40:17</td>\n",
              "    </tr>\n",
              "    <tr>\n",
              "      <td>4</td>\n",
              "      <td>2016-03-31 17:25:20</td>\n",
              "      <td>3600</td>\n",
              "      <td>small</td>\n",
              "      <td>2008</td>\n",
              "      <td>manual</td>\n",
              "      <td>69</td>\n",
              "      <td>fabia</td>\n",
              "      <td>90000</td>\n",
              "      <td>7</td>\n",
              "      <td>gasoline</td>\n",
              "      <td>skoda</td>\n",
              "      <td>no</td>\n",
              "      <td>2016-03-31 00:00:00</td>\n",
              "      <td>0</td>\n",
              "      <td>60437</td>\n",
              "      <td>2016-04-06 10:17:21</td>\n",
              "    </tr>\n",
              "  </tbody>\n",
              "</table>\n",
              "</div>"
            ],
            "text/plain": [
              "           DateCrawled  Price VehicleType  RegistrationYear Gearbox  Power  \\\n",
              "0  2016-03-24 11:52:17    480         NaN              1993  manual      0   \n",
              "1  2016-03-24 10:58:45  18300       coupe              2011  manual    190   \n",
              "2  2016-03-14 12:52:21   9800         suv              2004    auto    163   \n",
              "3  2016-03-17 16:54:04   1500       small              2001  manual     75   \n",
              "4  2016-03-31 17:25:20   3600       small              2008  manual     69   \n",
              "\n",
              "   Model  Kilometer  RegistrationMonth  FuelType       Brand NotRepaired  \\\n",
              "0   golf     150000                  0    petrol  volkswagen         NaN   \n",
              "1    NaN     125000                  5  gasoline        audi         yes   \n",
              "2  grand     125000                  8  gasoline        jeep         NaN   \n",
              "3   golf     150000                  6    petrol  volkswagen          no   \n",
              "4  fabia      90000                  7  gasoline       skoda          no   \n",
              "\n",
              "           DateCreated  NumberOfPictures  PostalCode             LastSeen  \n",
              "0  2016-03-24 00:00:00                 0       70435  2016-04-07 03:16:57  \n",
              "1  2016-03-24 00:00:00                 0       66954  2016-04-07 01:46:50  \n",
              "2  2016-03-14 00:00:00                 0       90480  2016-04-05 12:47:46  \n",
              "3  2016-03-17 00:00:00                 0       91074  2016-03-17 17:40:17  \n",
              "4  2016-03-31 00:00:00                 0       60437  2016-04-06 10:17:21  "
            ]
          },
          "execution_count": 3,
          "metadata": {},
          "output_type": "execute_result"
        }
      ],
      "source": [
        "data.info()\n",
        "data.head()"
      ]
    },
    {
      "cell_type": "markdown",
      "metadata": {
        "id": "5F_usZmjiHAv"
      },
      "source": [
        "Признаки:\n",
        "- DateCrawled — дата скачивания анкеты из базы\n",
        "- VehicleType — тип автомобильного кузова\n",
        "- RegistrationYear — год регистрации автомобиля\n",
        "- Gearbox — тип коробки передач\n",
        "- Power — мощность (л. с.)\n",
        "- Model — модель автомобиля\n",
        "- Kilometer — пробег (км)\n",
        "- RegistrationMonth — месяц регистрации автомобиля\n",
        "- FuelType — тип топлива\n",
        "- Brand — марка автомобиля\n",
        "- NotRepaired — была машина в ремонте или нет\n",
        "- DateCreated — дата создания анкеты\n",
        "- NumberOfPictures — количество фотографий автомобиля\n",
        "- PostalCode — почтовый индекс владельца анкеты (пользователя)\n",
        "- LastSeen — дата последней активности пользователя\n",
        "\n",
        "Целевой признак:\n",
        "- Price — цена (евро)\n",
        "\n",
        "\n",
        "В датасете 16 столбцов, проверим данные на дубликаты, аномальные значения и обработаем пропуски."
      ]
    },
    {
      "cell_type": "code",
      "execution_count": null,
      "metadata": {
        "id": "LBui_oWKiHAw",
        "outputId": "1001e2de-5fd2-4b80-bc09-7611991fa6b2"
      },
      "outputs": [
        {
          "data": {
            "text/plain": [
              "4"
            ]
          },
          "execution_count": 4,
          "metadata": {},
          "output_type": "execute_result"
        }
      ],
      "source": [
        "data.duplicated().sum()"
      ]
    },
    {
      "cell_type": "code",
      "execution_count": null,
      "metadata": {
        "id": "JfmmgfDhiHAw"
      },
      "outputs": [],
      "source": [
        "data = data.drop_duplicates()"
      ]
    },
    {
      "cell_type": "markdown",
      "metadata": {
        "id": "b12XOedNiHAx"
      },
      "source": [
        "Проверим количественные признаки на аномалии, начнем с года регистрации."
      ]
    },
    {
      "cell_type": "code",
      "execution_count": null,
      "metadata": {
        "scrolled": true,
        "id": "W79vlxsRiHAx",
        "outputId": "978d8795-6ea5-4563-b578-2b4d2b327e3e"
      },
      "outputs": [
        {
          "data": {
            "text/plain": [
              "count    354365.000000\n",
              "mean       2004.234481\n",
              "std          90.228466\n",
              "min        1000.000000\n",
              "25%        1999.000000\n",
              "50%        2003.000000\n",
              "75%        2008.000000\n",
              "max        9999.000000\n",
              "Name: RegistrationYear, dtype: float64"
            ]
          },
          "execution_count": 6,
          "metadata": {},
          "output_type": "execute_result"
        }
      ],
      "source": [
        "data['RegistrationYear'].describe()"
      ]
    },
    {
      "cell_type": "markdown",
      "metadata": {
        "id": "uaxl7aqjiHAx"
      },
      "source": [
        "Так как год регистрации автомобиля не может быть позже последней даты скачивания анкеты из базы, проверим ее."
      ]
    },
    {
      "cell_type": "code",
      "execution_count": null,
      "metadata": {
        "id": "oB26VpKNiHAx",
        "outputId": "f71c6ec1-b7da-4764-8948-2a39f4ad898b"
      },
      "outputs": [
        {
          "data": {
            "text/plain": [
              "Timestamp('2016-04-07 14:36:58')"
            ]
          },
          "execution_count": 7,
          "metadata": {},
          "output_type": "execute_result"
        }
      ],
      "source": [
        "last_date = pd.to_datetime(data['DateCrawled'])\n",
        "last_date.max()"
      ]
    },
    {
      "cell_type": "code",
      "execution_count": null,
      "metadata": {
        "id": "9LeixkyTiHAy"
      },
      "outputs": [],
      "source": [
        "data = data.query('1910 < RegistrationYear < 2017')"
      ]
    },
    {
      "cell_type": "code",
      "execution_count": null,
      "metadata": {
        "id": "NrBJn0-UiHAy",
        "outputId": "433eb3fb-cc27-4795-8168-b950a02a8e68"
      },
      "outputs": [
        {
          "data": {
            "text/plain": [
              "<matplotlib.axes._subplots.AxesSubplot at 0x7f0f3f32b910>"
            ]
          },
          "execution_count": 9,
          "metadata": {},
          "output_type": "execute_result"
        },
        {
          "data": {
            "image/png": "[encoded data removed]",
            "text/plain": [
              "<Figure size 720x360 with 1 Axes>"
            ]
          },
          "metadata": {
            "needs_background": "light"
          },
          "output_type": "display_data"
        }
      ],
      "source": [
        "data['RegistrationYear'].hist(bins=100, figsize = (10,5))"
      ]
    },
    {
      "cell_type": "markdown",
      "metadata": {
        "id": "WipKnHEmiHAy"
      },
      "source": [
        "Опираясь на график и последнюю дату скачивания анкеты из базы, сохраним в датасете значения года регистрации автомобиля начиная с 1960 по 2016."
      ]
    },
    {
      "cell_type": "code",
      "execution_count": null,
      "metadata": {
        "id": "y5IbbV9GiHAy"
      },
      "outputs": [],
      "source": [
        "data = data.query('1959 < RegistrationYear < 2017')"
      ]
    },
    {
      "cell_type": "markdown",
      "metadata": {
        "id": "kRZOF45XiHAz"
      },
      "source": [
        "Перейдем к столбцу Power, мощности. Возьмем 2000 л.с. как максимальное значение и проверим распределение на гистограмме."
      ]
    },
    {
      "cell_type": "code",
      "execution_count": null,
      "metadata": {
        "id": "9udk6SsviHAz"
      },
      "outputs": [],
      "source": [
        "data = data.query('Power < 2000')"
      ]
    },
    {
      "cell_type": "code",
      "execution_count": null,
      "metadata": {
        "id": "8D0ayBrQiHAz",
        "outputId": "8dd7637f-163c-4ddb-829a-7b8cca62b5ac"
      },
      "outputs": [
        {
          "data": {
            "text/plain": [
              "<matplotlib.axes._subplots.AxesSubplot at 0x7f0f3e285b50>"
            ]
          },
          "execution_count": 12,
          "metadata": {},
          "output_type": "execute_result"
        },
        {
          "data": {
            "image/png": "[encoded data removed]",
            "text/plain": [
              "<Figure size 720x360 with 1 Axes>"
            ]
          },
          "metadata": {
            "needs_background": "light"
          },
          "output_type": "display_data"
        }
      ],
      "source": [
        "data['Power'].hist(bins=100, figsize = (10,5))"
      ]
    },
    {
      "cell_type": "markdown",
      "metadata": {
        "id": "Fy1bi5MFiHA0"
      },
      "source": [
        "Исходя из графика, удалим выбросы и установим правую границу в 500 л.с. \n",
        "\n",
        "Также можно заметить, что есть значения, равные 0 л.с., удалим их."
      ]
    },
    {
      "cell_type": "code",
      "execution_count": null,
      "metadata": {
        "id": "J68_uiVQiHA0"
      },
      "outputs": [],
      "source": [
        "data = data.query('0 < Power < 500')"
      ]
    },
    {
      "cell_type": "markdown",
      "metadata": {
        "id": "7UHjyWlGiHA0"
      },
      "source": [
        "Проверим столбец цены."
      ]
    },
    {
      "cell_type": "code",
      "execution_count": null,
      "metadata": {
        "id": "u3DN9S1PiHA0",
        "outputId": "fd19cfd3-efc4-41b7-bd2a-24c1dc419020"
      },
      "outputs": [
        {
          "data": {
            "text/plain": [
              "<matplotlib.axes._subplots.AxesSubplot at 0x7f0f3e1ae650>"
            ]
          },
          "execution_count": 14,
          "metadata": {},
          "output_type": "execute_result"
        },
        {
          "data": {
            "image/png": "[encoded data removed]",
            "text/plain": [
              "<Figure size 720x360 with 1 Axes>"
            ]
          },
          "metadata": {
            "needs_background": "light"
          },
          "output_type": "display_data"
        }
      ],
      "source": [
        "data['Price'].hist(bins=100, figsize = (10,5))"
      ]
    },
    {
      "cell_type": "code",
      "execution_count": null,
      "metadata": {
        "scrolled": true,
        "id": "lZxNFGygiHA0",
        "outputId": "964430e6-7892-4ddd-af0b-ed708035a5c9"
      },
      "outputs": [
        {
          "data": {
            "text/plain": [
              "0        6384\n",
              "500      4469\n",
              "1500     4430\n",
              "1200     3735\n",
              "2500     3705\n",
              "         ... \n",
              "3933        1\n",
              "10328       1\n",
              "456         1\n",
              "605         1\n",
              "8188        1\n",
              "Name: Price, Length: 3591, dtype: int64"
            ]
          },
          "execution_count": 15,
          "metadata": {},
          "output_type": "execute_result"
        }
      ],
      "source": [
        "data['Price'].value_counts()"
      ]
    },
    {
      "cell_type": "markdown",
      "metadata": {
        "id": "pvzpNbOCiHA0"
      },
      "source": [
        "Среди цен имеются нулевые значения. Так как признак целевой, восстанавливать значения не будем, удалим их."
      ]
    },
    {
      "cell_type": "code",
      "execution_count": null,
      "metadata": {
        "id": "49pIE8k2iHA1"
      },
      "outputs": [],
      "source": [
        "data = data.query('0 < Price')"
      ]
    },
    {
      "cell_type": "markdown",
      "metadata": {
        "id": "yeZxFEoJiHA1"
      },
      "source": [
        "Некоторые из столбцов не содержат данных об автомобиле, поэтому не являются важными и не нужны для модели. Таким образом, удалим из датасета дату скачивания анкеты из базы, месяц регистрации автомобиля, дату создания анкеты, почтовый индекс владельца, количество фотографий автомобиля и дату последней активности пользователя."
      ]
    },
    {
      "cell_type": "code",
      "execution_count": null,
      "metadata": {
        "id": "G0uXeTqxiHA1"
      },
      "outputs": [],
      "source": [
        "data = data.drop(columns=['DateCrawled', 'DateCreated', 'LastSeen', 'RegistrationMonth', 'PostalCode', 'NumberOfPictures'])"
      ]
    },
    {
      "cell_type": "markdown",
      "metadata": {
        "id": "1ffQqGvTiHA1"
      },
      "source": [
        "Начнем обработку пропусков. "
      ]
    },
    {
      "cell_type": "code",
      "execution_count": null,
      "metadata": {
        "id": "X1p9sNOJiHA1",
        "outputId": "963fc42b-8fad-47ef-8326-a22e0b99e765"
      },
      "outputs": [
        {
          "data": {
            "text/plain": [
              "Price                   0\n",
              "VehicleType         11036\n",
              "RegistrationYear        0\n",
              "Gearbox              5370\n",
              "Power                   0\n",
              "Model               11139\n",
              "Kilometer               0\n",
              "FuelType            15551\n",
              "Brand                   0\n",
              "NotRepaired         42889\n",
              "dtype: int64"
            ]
          },
          "execution_count": 18,
          "metadata": {},
          "output_type": "execute_result"
        }
      ],
      "source": [
        "data.isnull().sum()"
      ]
    },
    {
      "cell_type": "markdown",
      "metadata": {
        "id": "f_8orR3IiHA2"
      },
      "source": [
        "Так как мы не знаем причину пропусков в столбцах VehicleType и Model, введем категорию \"unknown\" (неизвестно)."
      ]
    },
    {
      "cell_type": "code",
      "execution_count": null,
      "metadata": {
        "id": "5R7VBwl8iHA2"
      },
      "outputs": [],
      "source": [
        "data['VehicleType'] = data['VehicleType'].fillna(value=\"unknown\")"
      ]
    },
    {
      "cell_type": "code",
      "execution_count": null,
      "metadata": {
        "id": "H0b71ADxiHA2"
      },
      "outputs": [],
      "source": [
        "data['Model'] = data['Model'].fillna(value=\"unknown\")"
      ]
    },
    {
      "cell_type": "markdown",
      "metadata": {
        "id": "0BMFQe92iHA2"
      },
      "source": [
        "В столбце *NotRepaired* заменим пустые значения на *no*, так как скорее всего люди не заполнили данное поле, потому что не чинили машину. Также переведем данный столбец в булев тип, заменив *yes* (чинилась) на 1, *no* (не чинилась) на 0."
      ]
    },
    {
      "cell_type": "code",
      "execution_count": null,
      "metadata": {
        "id": "wuwJuJsLiHA2"
      },
      "outputs": [],
      "source": [
        "data['NotRepaired'] = data['NotRepaired'].fillna(value=\"no\")"
      ]
    },
    {
      "cell_type": "code",
      "execution_count": null,
      "metadata": {
        "id": "EHpgxFlziHA3"
      },
      "outputs": [],
      "source": [
        "data['NotRepaired'] = data['NotRepaired'].map({'yes':1, 'no':0}).astype(int)"
      ]
    },
    {
      "cell_type": "markdown",
      "metadata": {
        "id": "4KYAEY6giHA3"
      },
      "source": [
        "Заменим пропущенные значения стобцов типа топлива и коробки передач на моду, сгруппировав данные по марке и модели автомобиля.\n",
        "\n",
        "Данные в столбце *Gearbox* переведем в булев тип, заменив auto (автомат) на 1, manual (механика) на 0."
      ]
    },
    {
      "cell_type": "code",
      "execution_count": null,
      "metadata": {
        "id": "fKgDA45ZiHA3"
      },
      "outputs": [],
      "source": [
        "data['FuelType']= data.groupby(['Brand', 'Model'])['FuelType'].transform(lambda x: x.fillna((x.mode()[0])))"
      ]
    },
    {
      "cell_type": "code",
      "execution_count": null,
      "metadata": {
        "id": "MzedkE6tiHA3"
      },
      "outputs": [],
      "source": [
        "data['Gearbox']= data.groupby(['Brand', 'Model'])['Gearbox'].transform(lambda x: x.fillna((x.mode()[0])))"
      ]
    },
    {
      "cell_type": "code",
      "execution_count": null,
      "metadata": {
        "id": "qgga5422iHA3"
      },
      "outputs": [],
      "source": [
        "data['Gearbox'] = data['Gearbox'].map({'auto':1, 'manual':0}).astype(int)"
      ]
    },
    {
      "cell_type": "code",
      "execution_count": null,
      "metadata": {
        "id": "4gl0I1-EiHA3",
        "outputId": "ebab7d2c-c7bd-42be-a3f7-1336b1c1f72f"
      },
      "outputs": [
        {
          "data": {
            "text/plain": [
              "Price               0\n",
              "VehicleType         0\n",
              "RegistrationYear    0\n",
              "Gearbox             0\n",
              "Power               0\n",
              "Model               0\n",
              "Kilometer           0\n",
              "FuelType            0\n",
              "Brand               0\n",
              "NotRepaired         0\n",
              "dtype: int64"
            ]
          },
          "execution_count": 26,
          "metadata": {},
          "output_type": "execute_result"
        }
      ],
      "source": [
        "data.isnull().sum()"
      ]
    },
    {
      "cell_type": "code",
      "execution_count": null,
      "metadata": {
        "id": "LMvKREVEiHA3",
        "outputId": "4ea95db6-7814-41d3-97d4-c142265ed90d"
      },
      "outputs": [
        {
          "name": "stdout",
          "output_type": "stream",
          "text": [
            "<class 'pandas.core.frame.DataFrame'>\n",
            "Int64Index: 296319 entries, 1 to 354368\n",
            "Data columns (total 10 columns):\n",
            "Price               296319 non-null int64\n",
            "VehicleType         296319 non-null object\n",
            "RegistrationYear    296319 non-null int64\n",
            "Gearbox             296319 non-null int64\n",
            "Power               296319 non-null int64\n",
            "Model               296319 non-null object\n",
            "Kilometer           296319 non-null int64\n",
            "FuelType            296319 non-null object\n",
            "Brand               296319 non-null object\n",
            "NotRepaired         296319 non-null int64\n",
            "dtypes: int64(6), object(4)\n",
            "memory usage: 24.9+ MB\n"
          ]
        },
        {
          "data": {
            "text/html": [
              "<div>\n",
              "<style scoped>\n",
              "    .dataframe tbody tr th:only-of-type {\n",
              "        vertical-align: middle;\n",
              "    }\n",
              "\n",
              "    .dataframe tbody tr th {\n",
              "        vertical-align: top;\n",
              "    }\n",
              "\n",
              "    .dataframe thead th {\n",
              "        text-align: right;\n",
              "    }\n",
              "</style>\n",
              "<table border=\"1\" class=\"dataframe\">\n",
              "  <thead>\n",
              "    <tr style=\"text-align: right;\">\n",
              "      <th></th>\n",
              "      <th>Price</th>\n",
              "      <th>VehicleType</th>\n",
              "      <th>RegistrationYear</th>\n",
              "      <th>Gearbox</th>\n",
              "      <th>Power</th>\n",
              "      <th>Model</th>\n",
              "      <th>Kilometer</th>\n",
              "      <th>FuelType</th>\n",
              "      <th>Brand</th>\n",
              "      <th>NotRepaired</th>\n",
              "    </tr>\n",
              "  </thead>\n",
              "  <tbody>\n",
              "    <tr>\n",
              "      <td>1</td>\n",
              "      <td>18300</td>\n",
              "      <td>coupe</td>\n",
              "      <td>2011</td>\n",
              "      <td>0</td>\n",
              "      <td>190</td>\n",
              "      <td>unknown</td>\n",
              "      <td>125000</td>\n",
              "      <td>gasoline</td>\n",
              "      <td>audi</td>\n",
              "      <td>1</td>\n",
              "    </tr>\n",
              "    <tr>\n",
              "      <td>2</td>\n",
              "      <td>9800</td>\n",
              "      <td>suv</td>\n",
              "      <td>2004</td>\n",
              "      <td>1</td>\n",
              "      <td>163</td>\n",
              "      <td>grand</td>\n",
              "      <td>125000</td>\n",
              "      <td>gasoline</td>\n",
              "      <td>jeep</td>\n",
              "      <td>0</td>\n",
              "    </tr>\n",
              "    <tr>\n",
              "      <td>3</td>\n",
              "      <td>1500</td>\n",
              "      <td>small</td>\n",
              "      <td>2001</td>\n",
              "      <td>0</td>\n",
              "      <td>75</td>\n",
              "      <td>golf</td>\n",
              "      <td>150000</td>\n",
              "      <td>petrol</td>\n",
              "      <td>volkswagen</td>\n",
              "      <td>0</td>\n",
              "    </tr>\n",
              "    <tr>\n",
              "      <td>4</td>\n",
              "      <td>3600</td>\n",
              "      <td>small</td>\n",
              "      <td>2008</td>\n",
              "      <td>0</td>\n",
              "      <td>69</td>\n",
              "      <td>fabia</td>\n",
              "      <td>90000</td>\n",
              "      <td>gasoline</td>\n",
              "      <td>skoda</td>\n",
              "      <td>0</td>\n",
              "    </tr>\n",
              "    <tr>\n",
              "      <td>5</td>\n",
              "      <td>650</td>\n",
              "      <td>sedan</td>\n",
              "      <td>1995</td>\n",
              "      <td>0</td>\n",
              "      <td>102</td>\n",
              "      <td>3er</td>\n",
              "      <td>150000</td>\n",
              "      <td>petrol</td>\n",
              "      <td>bmw</td>\n",
              "      <td>1</td>\n",
              "    </tr>\n",
              "  </tbody>\n",
              "</table>\n",
              "</div>"
            ],
            "text/plain": [
              "   Price VehicleType  RegistrationYear  Gearbox  Power    Model  Kilometer  \\\n",
              "1  18300       coupe              2011        0    190  unknown     125000   \n",
              "2   9800         suv              2004        1    163    grand     125000   \n",
              "3   1500       small              2001        0     75     golf     150000   \n",
              "4   3600       small              2008        0     69    fabia      90000   \n",
              "5    650       sedan              1995        0    102      3er     150000   \n",
              "\n",
              "   FuelType       Brand  NotRepaired  \n",
              "1  gasoline        audi            1  \n",
              "2  gasoline        jeep            0  \n",
              "3    petrol  volkswagen            0  \n",
              "4  gasoline       skoda            0  \n",
              "5    petrol         bmw            1  "
            ]
          },
          "execution_count": 27,
          "metadata": {},
          "output_type": "execute_result"
        }
      ],
      "source": [
        "data.info()\n",
        "data.head()"
      ]
    },
    {
      "cell_type": "markdown",
      "metadata": {
        "id": "-5rzZ8saiHA3"
      },
      "source": [
        "В данном шаге:\n",
        "- была изучена таблица;\n",
        "- проверены дубликаты;\n",
        "- обработаны аномальные значения;\n",
        "- обработаны пропущенные значения."
      ]
    },
    {
      "cell_type": "markdown",
      "metadata": {
        "id": "Px0HL-wQiHA4"
      },
      "source": [
        "## Обучение моделей"
      ]
    },
    {
      "cell_type": "markdown",
      "metadata": {
        "id": "vX1bPHsBiHA4"
      },
      "source": [
        "Рассмотрим четыре модели:\n",
        "- LinearRegression\n",
        "- DecisionTreeRegressor\n",
        "- CatBoost\n",
        "- LightGBM\n",
        "\n",
        "Модели CatBoost и LightGBM работают с категориальными данными, только для модели LightGBM приведем категориальные признаки к формату *category*. Для остальных преобразуем признаки техникой One-Hot Encoding и стандартизируем их."
      ]
    },
    {
      "cell_type": "code",
      "execution_count": null,
      "metadata": {
        "id": "19jZ5Zq3iHA4"
      },
      "outputs": [],
      "source": [
        "categorical = ['Brand','Model','VehicleType','FuelType']"
      ]
    },
    {
      "cell_type": "code",
      "execution_count": null,
      "metadata": {
        "id": "_kPFgYHkiHA4"
      },
      "outputs": [],
      "source": [
        "target = data['Price']\n",
        "features = data.drop('Price', axis=1)"
      ]
    },
    {
      "cell_type": "code",
      "execution_count": null,
      "metadata": {
        "id": "2YXNRWcaiHA4"
      },
      "outputs": [],
      "source": [
        "features_train, features_valid, target_train, target_valid = train_test_split(\n",
        "    features, target, test_size=0.2, random_state=12345)\n",
        "features_train, features_test, target_train, target_test = train_test_split(\n",
        "    features_train, target_train, test_size=0.25, random_state=12345)"
      ]
    },
    {
      "cell_type": "code",
      "execution_count": null,
      "metadata": {
        "id": "YrzYMnQdiHA4"
      },
      "outputs": [],
      "source": [
        "data_ohe = pd.get_dummies(data, drop_first=True)"
      ]
    },
    {
      "cell_type": "code",
      "execution_count": null,
      "metadata": {
        "id": "ENEOaP6DiHA4"
      },
      "outputs": [],
      "source": [
        "target_ohe = data_ohe['Price']\n",
        "features_ohe = data_ohe.drop('Price', axis=1)"
      ]
    },
    {
      "cell_type": "code",
      "execution_count": null,
      "metadata": {
        "id": "57jPJwh3iHA5"
      },
      "outputs": [],
      "source": [
        "features_tr_ohe, features_val_ohe, target_tr_ohe, target_valid_ohe = train_test_split(\n",
        "    features_ohe, target_ohe, test_size=0.2, random_state=12345)\n",
        "features_tr_ohe, features_test_ohe, target_tr_ohe, target_test_ohe = train_test_split(\n",
        "    features_tr_ohe, target_tr_ohe, test_size=0.25, random_state=12345)"
      ]
    },
    {
      "cell_type": "code",
      "execution_count": null,
      "metadata": {
        "id": "BJKqX-3piHA5"
      },
      "outputs": [],
      "source": [
        "numeric = ['Power','Kilometer','RegistrationYear']"
      ]
    },
    {
      "cell_type": "code",
      "execution_count": null,
      "metadata": {
        "id": "bETqx0x2iHA5",
        "outputId": "427573a2-b681-4170-ac0d-0d43b312ac1e"
      },
      "outputs": [
        {
          "data": {
            "text/plain": [
              "StandardScaler(copy=True, with_mean=True, with_std=True)"
            ]
          },
          "execution_count": 35,
          "metadata": {},
          "output_type": "execute_result"
        }
      ],
      "source": [
        "scaler = StandardScaler()\n",
        "scaler.fit(features_tr_ohe[numeric])"
      ]
    },
    {
      "cell_type": "code",
      "execution_count": null,
      "metadata": {
        "id": "3oW2BW_PiHA5"
      },
      "outputs": [],
      "source": [
        "features_tr_ohe[numeric] = scaler.transform(features_tr_ohe[numeric])\n",
        "features_val_ohe[numeric] = scaler.transform(features_val_ohe[numeric]) \n",
        "features_test_ohe[numeric] = scaler.transform(features_test_ohe[numeric]) "
      ]
    },
    {
      "cell_type": "markdown",
      "metadata": {
        "id": "h9uvwiO8iHA5"
      },
      "source": [
        "### LinearRegression"
      ]
    },
    {
      "cell_type": "code",
      "execution_count": null,
      "metadata": {
        "id": "xLw6zLs6iHA5"
      },
      "outputs": [],
      "source": [
        "lin = LinearRegression()"
      ]
    },
    {
      "cell_type": "code",
      "execution_count": null,
      "metadata": {
        "id": "NmOfigzeiHA5",
        "outputId": "9c938263-2af8-4ccf-d689-908b9a96eb2d"
      },
      "outputs": [
        {
          "name": "stdout",
          "output_type": "stream",
          "text": [
            "CPU times: user 11 s, sys: 3.76 s, total: 14.8 s\n",
            "Wall time: 14.9 s\n"
          ]
        },
        {
          "data": {
            "text/plain": [
              "LinearRegression(copy_X=True, fit_intercept=True, n_jobs=None, normalize=False)"
            ]
          },
          "execution_count": 38,
          "metadata": {},
          "output_type": "execute_result"
        }
      ],
      "source": [
        "%%time\n",
        "lin.fit(features_tr_ohe,target_tr_ohe)"
      ]
    },
    {
      "cell_type": "code",
      "execution_count": null,
      "metadata": {
        "id": "xCqCZUW6iHA5",
        "outputId": "38bc50fb-ecd3-4360-9ce7-eba47f86b8ed"
      },
      "outputs": [
        {
          "name": "stdout",
          "output_type": "stream",
          "text": [
            "RMSE модели линейной регрессии: 2573.820828273601\n",
            "CPU times: user 45.6 ms, sys: 104 ms, total: 149 ms\n",
            "Wall time: 119 ms\n"
          ]
        }
      ],
      "source": [
        "%%time\n",
        "predictions_valid = lin.predict(features_val_ohe)\n",
        "print('RMSE модели линейной регрессии:', mean_squared_error(target_valid_ohe, predictions_valid)**0.5)"
      ]
    },
    {
      "cell_type": "markdown",
      "metadata": {
        "id": "A8FiDYG-iHA6"
      },
      "source": [
        "### DecisionTreeRegressor"
      ]
    },
    {
      "cell_type": "code",
      "execution_count": null,
      "metadata": {
        "id": "LgZQAwnFiHA6"
      },
      "outputs": [],
      "source": [
        "dec_tree = DecisionTreeRegressor(random_state=12345)"
      ]
    },
    {
      "cell_type": "code",
      "execution_count": null,
      "metadata": {
        "id": "pnQ_WD4tiHA6",
        "outputId": "45ffcac9-354d-44a3-a466-843e2765079c"
      },
      "outputs": [
        {
          "name": "stdout",
          "output_type": "stream",
          "text": [
            "Параметры: {'max_depth': 9}\n",
            "CPU times: user 1min 14s, sys: 8.73 s, total: 1min 22s\n",
            "Wall time: 1min 22s\n"
          ]
        }
      ],
      "source": [
        "%%time\n",
        "\n",
        "parameters = {'max_depth': range (1,10)}\n",
        "\n",
        "clf = GridSearchCV(dec_tree, param_grid = parameters, scoring = 'neg_mean_squared_error', cv = 5)\n",
        "\n",
        "clf.fit(features_tr_ohe,target_tr_ohe)\n",
        "\n",
        "print('Параметры:', clf.best_params_)"
      ]
    },
    {
      "cell_type": "code",
      "execution_count": null,
      "metadata": {
        "id": "PJLEPQEPiHA6",
        "outputId": "bfcd62ad-78d9-4a12-c8b1-663c8c9562bd"
      },
      "outputs": [
        {
          "name": "stdout",
          "output_type": "stream",
          "text": [
            "RMSE модели дерева решений: 2025.6691409930963\n",
            "CPU times: user 54.8 ms, sys: 49 ms, total: 104 ms\n",
            "Wall time: 106 ms\n"
          ]
        }
      ],
      "source": [
        "%%time\n",
        "predictions_valid = clf.predict(features_val_ohe)\n",
        "\n",
        "print('RMSE модели дерева решений:', mean_squared_error(target_valid_ohe, predictions_valid)**0.5)"
      ]
    },
    {
      "cell_type": "markdown",
      "metadata": {
        "id": "Iv3f47OZiHA6"
      },
      "source": [
        "### CatBoost"
      ]
    },
    {
      "cell_type": "code",
      "execution_count": null,
      "metadata": {
        "id": "9y6w6TYKiHA6"
      },
      "outputs": [],
      "source": [
        "cat = CatBoostRegressor(random_state = 12345)"
      ]
    },
    {
      "cell_type": "code",
      "execution_count": null,
      "metadata": {
        "id": "ZMeGj5VbiHA6",
        "outputId": "c83737a8-a2f8-4f7b-d344-84780a9837b2"
      },
      "outputs": [
        {
          "name": "stdout",
          "output_type": "stream",
          "text": [
            "CPU times: user 4min 18s, sys: 38.4 s, total: 4min 56s\n",
            "Wall time: 4min 58s\n"
          ]
        },
        {
          "data": {
            "text/plain": [
              "<catboost.core.CatBoostRegressor at 0x7f0f3dac6590>"
            ]
          },
          "execution_count": 44,
          "metadata": {},
          "output_type": "execute_result"
        }
      ],
      "source": [
        "%%time\n",
        "\n",
        "cat.fit(features_train, target_train, cat_features=categorical, verbose = False)"
      ]
    },
    {
      "cell_type": "code",
      "execution_count": null,
      "metadata": {
        "id": "0uhuFsMliHA7",
        "outputId": "ba25bede-175a-4834-9a4e-3148821ec8ba"
      },
      "outputs": [
        {
          "name": "stdout",
          "output_type": "stream",
          "text": [
            "RMSE модели CatBoost: 1643.4339381851953\n",
            "CPU times: user 350 ms, sys: 54.1 ms, total: 405 ms\n",
            "Wall time: 377 ms\n"
          ]
        }
      ],
      "source": [
        "%%time\n",
        "predictions_valid = cat.predict(features_valid)\n",
        "\n",
        "print('RMSE модели CatBoost:', mean_squared_error(target_valid, predictions_valid)**0.5)"
      ]
    },
    {
      "cell_type": "markdown",
      "metadata": {
        "id": "cQyf2mRTiHA7"
      },
      "source": [
        "### LightGBM"
      ]
    },
    {
      "cell_type": "code",
      "execution_count": null,
      "metadata": {
        "id": "e6B77yTGiHA7"
      },
      "outputs": [],
      "source": [
        "lgbm = LGBMRegressor(random_state = 12345)"
      ]
    },
    {
      "cell_type": "code",
      "execution_count": null,
      "metadata": {
        "id": "onSFy75HiHA7"
      },
      "outputs": [],
      "source": [
        "features_train[categorical] = features_train[categorical].astype('category')\n",
        "features_valid[categorical] = features_valid[categorical].astype('category')\n",
        "features_test[categorical] = features_test[categorical].astype('category')"
      ]
    },
    {
      "cell_type": "code",
      "execution_count": null,
      "metadata": {
        "id": "dWgwggN4iHA7",
        "outputId": "b471b212-22c7-4a86-a1a4-e9f47b5b0924"
      },
      "outputs": [
        {
          "name": "stdout",
          "output_type": "stream",
          "text": [
            "CPU times: user 1min 7s, sys: 1.25 s, total: 1min 8s\n",
            "Wall time: 1min 8s\n"
          ]
        },
        {
          "data": {
            "text/plain": [
              "LGBMRegressor(boosting_type='gbdt', class_weight=None, colsample_bytree=1.0,\n",
              "              importance_type='split', learning_rate=0.1, max_depth=-1,\n",
              "              min_child_samples=20, min_child_weight=0.001, min_split_gain=0.0,\n",
              "              n_estimators=100, n_jobs=-1, num_leaves=31, objective=None,\n",
              "              random_state=12345, reg_alpha=0.0, reg_lambda=0.0, silent=True,\n",
              "              subsample=1.0, subsample_for_bin=200000, subsample_freq=0)"
            ]
          },
          "execution_count": 48,
          "metadata": {},
          "output_type": "execute_result"
        }
      ],
      "source": [
        "%%time\n",
        "\n",
        "lgbm.fit(features_train, target_train)"
      ]
    },
    {
      "cell_type": "code",
      "execution_count": null,
      "metadata": {
        "id": "lxA_hi-jiHA7",
        "outputId": "e08385fb-61a6-4b12-b501-b813af057f66"
      },
      "outputs": [
        {
          "name": "stdout",
          "output_type": "stream",
          "text": [
            "RMSE модели LightGBM: 1614.5344097266689\n",
            "CPU times: user 564 ms, sys: 0 ns, total: 564 ms\n",
            "Wall time: 509 ms\n"
          ]
        }
      ],
      "source": [
        "%%time\n",
        "predictions_valid = lgbm.predict(features_valid)\n",
        "\n",
        "print('RMSE модели LightGBM:', mean_squared_error(target_valid, predictions_valid)**0.5)"
      ]
    },
    {
      "cell_type": "markdown",
      "metadata": {
        "id": "vvyXHm5hiHA8"
      },
      "source": [
        "В данном шаге были обучены и проверены на валидационной выборке четыре модели: LinearRegression, DecisionTreeRegressor, CatBoost, LightGBM. \n",
        "\n",
        "Получили значения:\n",
        "- модель LightGBM со значением RMSE - 1614, скоростью обучения - 7.06 с и скоростью предсказания - 0.597 с;\n",
        "- модель CatBoost со значением RMSE - 1643, скоростью обучения - 307 с и скоростью предсказания - 0.357 с;\n",
        "- модель DecisionTree со значением RMSE - 2026, скоростью обучения - 83 с и скоростью предсказания - 0.103 с;\n",
        "- модель LinearRegression со значением RMSE - 2574, скоростью обучения - 15.4 с и скоростью предсказания - 0.12 с."
      ]
    },
    {
      "cell_type": "markdown",
      "metadata": {
        "id": "h7yyRMzOiHA8"
      },
      "source": [
        "## Анализ моделей"
      ]
    },
    {
      "cell_type": "markdown",
      "metadata": {
        "id": "PgL_3j3siHA8"
      },
      "source": [
        "Проверим модели на тестовой выборке."
      ]
    },
    {
      "cell_type": "code",
      "execution_count": null,
      "metadata": {
        "id": "GWZEm-wliHA8",
        "outputId": "0ce01c99-3291-4a38-9f38-05f102520681"
      },
      "outputs": [
        {
          "name": "stdout",
          "output_type": "stream",
          "text": [
            "RMSE модели линейной регрессии: 2591.755594001532\n",
            "CPU times: user 57.4 ms, sys: 38.3 ms, total: 95.7 ms\n",
            "Wall time: 95.3 ms\n"
          ]
        }
      ],
      "source": [
        "%%time\n",
        "\n",
        "#LinearRegression\n",
        "\n",
        "predictions_test = lin.predict(features_test_ohe)\n",
        "print('RMSE модели линейной регрессии:', mean_squared_error(target_test_ohe, predictions_test)**0.5)"
      ]
    },
    {
      "cell_type": "code",
      "execution_count": null,
      "metadata": {
        "id": "hlIPUWcniHA8",
        "outputId": "e43b93a3-19c8-4503-a857-add7840b8f10"
      },
      "outputs": [
        {
          "name": "stdout",
          "output_type": "stream",
          "text": [
            "RMSE модели дерева решений: 2028.8337457673226\n",
            "CPU times: user 62.3 ms, sys: 66.6 ms, total: 129 ms\n",
            "Wall time: 193 ms\n"
          ]
        }
      ],
      "source": [
        "%%time\n",
        "\n",
        "#DecisionTreeRegressor\n",
        "\n",
        "predictions_test = clf.predict(features_test_ohe)\n",
        "print('RMSE модели дерева решений:', mean_squared_error(target_test_ohe, predictions_test)**0.5)"
      ]
    },
    {
      "cell_type": "code",
      "execution_count": null,
      "metadata": {
        "id": "EacagE6RiHA9",
        "outputId": "20dccf45-033e-45df-8f58-f60ca04a32fe"
      },
      "outputs": [
        {
          "name": "stdout",
          "output_type": "stream",
          "text": [
            "RMSE модели CatBoost: 1656.9959712725129\n",
            "CPU times: user 297 ms, sys: 12.5 ms, total: 309 ms\n",
            "Wall time: 303 ms\n"
          ]
        }
      ],
      "source": [
        "%%time\n",
        "\n",
        "#CatBoost\n",
        "\n",
        "predictions_test = cat.predict(features_test)\n",
        "print('RMSE модели CatBoost:', mean_squared_error(target_test, predictions_test)**0.5)"
      ]
    },
    {
      "cell_type": "code",
      "execution_count": null,
      "metadata": {
        "id": "x1dB4DzkiHA9",
        "outputId": "3cc40be7-6d65-49ac-ec3d-ac564516b176"
      },
      "outputs": [
        {
          "name": "stdout",
          "output_type": "stream",
          "text": [
            "RMSE модели LightGBM: 1624.292763764323\n",
            "CPU times: user 577 ms, sys: 0 ns, total: 577 ms\n",
            "Wall time: 591 ms\n"
          ]
        }
      ],
      "source": [
        "%%time \n",
        "\n",
        "#LightGBM\n",
        "\n",
        "predictions_test = lgbm.predict(features_test)\n",
        "print('RMSE модели LightGBM:', mean_squared_error(target_test, predictions_test)**0.5)"
      ]
    },
    {
      "cell_type": "markdown",
      "metadata": {
        "id": "n3sqrNmeiHA9"
      },
      "source": [
        "На тестовой выборке получили такие же результаты, как и на валидационной."
      ]
    },
    {
      "cell_type": "markdown",
      "metadata": {
        "id": "QhSCr1xdiHA9"
      },
      "source": [
        "## Общий вывод"
      ]
    },
    {
      "cell_type": "markdown",
      "metadata": {
        "id": "2YOOWKNPiHA9"
      },
      "source": [
        "Модели градиентного бустинга показали результаты лучше чем модели линейной регрессии и дерева решений. Наиболее точной оказалась модель LightGBMRegressor и после CatBoostRegressor. При этом модели LinearRegression и DecisionTreeRegressor быстрее моделей градиентного бустинга. Полученные результаты:\n",
        "\n",
        "RMSE метрика:\n",
        "- LightGBM: 1614;\n",
        "- CatBoost: 1643;\n",
        "- DecisionTree: 2026;\n",
        "- LinearRegression: 2574.\n",
        "\n",
        "Скорость обучения:\n",
        "- LightGBM: 7.06 с;\n",
        "- CatBoost: 307 с;\n",
        "- DecisionTree: 83 с;\n",
        "- LinearRegression: 15.4 с.\n",
        "\n",
        "Скорость предсказания на тестовой выборке:\n",
        "- LightGBM: 0.5 с;\n",
        "- CatBoost: 0.3 с;\n",
        "- DecisionTreeRegressor: 0.09 с;\n",
        "- LinearRegression: 0.06 с."
      ]
    }
  ],
  "metadata": {
    "ExecuteTimeLog": [
      {
        "duration": 950,
        "start_time": "2021-11-10T15:01:30.352Z"
      },
      {
        "duration": 773,
        "start_time": "2021-11-10T15:02:07.038Z"
      },
      {
        "duration": 143,
        "start_time": "2021-11-10T15:02:49.108Z"
      },
      {
        "duration": 388,
        "start_time": "2021-11-10T15:09:17.676Z"
      },
      {
        "duration": 433,
        "start_time": "2021-11-10T15:09:37.913Z"
      },
      {
        "duration": 426,
        "start_time": "2021-11-15T18:06:59.188Z"
      },
      {
        "duration": 363,
        "start_time": "2021-11-15T18:12:49.083Z"
      },
      {
        "duration": 380,
        "start_time": "2021-11-15T18:13:12.589Z"
      },
      {
        "duration": 1508,
        "start_time": "2021-11-15T18:13:29.599Z"
      },
      {
        "duration": 1121,
        "start_time": "2021-11-15T18:13:31.110Z"
      },
      {
        "duration": 196,
        "start_time": "2021-11-15T18:13:32.234Z"
      },
      {
        "duration": 638,
        "start_time": "2021-11-15T18:13:32.433Z"
      },
      {
        "duration": 668,
        "start_time": "2021-11-15T18:13:33.073Z"
      },
      {
        "duration": 9839,
        "start_time": "2021-11-15T18:13:33.743Z"
      },
      {
        "duration": 166,
        "start_time": "2021-11-15T18:14:01.487Z"
      },
      {
        "duration": 257,
        "start_time": "2021-11-15T18:15:02.827Z"
      },
      {
        "duration": 1324,
        "start_time": "2021-11-16T17:26:42.934Z"
      },
      {
        "duration": 1339,
        "start_time": "2021-11-16T17:26:44.261Z"
      },
      {
        "duration": 197,
        "start_time": "2021-11-16T17:26:45.604Z"
      },
      {
        "duration": 643,
        "start_time": "2021-11-16T17:26:45.805Z"
      },
      {
        "duration": 700,
        "start_time": "2021-11-16T17:26:46.451Z"
      },
      {
        "duration": 407,
        "start_time": "2021-11-16T17:26:47.154Z"
      },
      {
        "duration": 1731,
        "start_time": "2021-11-21T10:08:48.286Z"
      },
      {
        "duration": 1528,
        "start_time": "2021-11-21T10:08:50.021Z"
      },
      {
        "duration": 290,
        "start_time": "2021-11-21T10:08:51.552Z"
      },
      {
        "duration": 659,
        "start_time": "2021-11-21T10:08:51.845Z"
      },
      {
        "duration": 822,
        "start_time": "2021-11-21T10:08:52.508Z"
      },
      {
        "duration": 403,
        "start_time": "2021-11-21T10:08:53.333Z"
      },
      {
        "duration": 122,
        "start_time": "2021-11-21T10:08:53.739Z"
      },
      {
        "duration": 29,
        "start_time": "2021-11-21T10:18:24.260Z"
      },
      {
        "duration": 113,
        "start_time": "2021-11-21T10:18:30.947Z"
      },
      {
        "duration": 47,
        "start_time": "2021-11-21T10:19:05.654Z"
      },
      {
        "duration": 44,
        "start_time": "2021-11-21T10:19:35.839Z"
      },
      {
        "duration": 1304,
        "start_time": "2021-11-21T10:20:41.490Z"
      },
      {
        "duration": 1143,
        "start_time": "2021-11-21T10:20:42.797Z"
      },
      {
        "duration": 202,
        "start_time": "2021-11-21T10:20:43.943Z"
      },
      {
        "duration": 627,
        "start_time": "2021-11-21T10:20:44.148Z"
      },
      {
        "duration": 704,
        "start_time": "2021-11-21T10:20:44.778Z"
      },
      {
        "duration": 428,
        "start_time": "2021-11-21T10:20:45.484Z"
      },
      {
        "duration": 121,
        "start_time": "2021-11-21T10:20:45.915Z"
      },
      {
        "duration": 28,
        "start_time": "2021-11-21T10:20:46.038Z"
      },
      {
        "duration": 61,
        "start_time": "2021-11-21T10:20:46.069Z"
      },
      {
        "duration": 86,
        "start_time": "2021-11-21T10:20:46.133Z"
      },
      {
        "duration": 49,
        "start_time": "2021-11-21T11:07:25.731Z"
      },
      {
        "duration": 116,
        "start_time": "2021-11-21T11:08:00.191Z"
      },
      {
        "duration": 179,
        "start_time": "2021-11-21T11:08:22.653Z"
      },
      {
        "duration": 1332,
        "start_time": "2021-11-21T11:08:46.261Z"
      },
      {
        "duration": 1150,
        "start_time": "2021-11-21T11:08:47.596Z"
      },
      {
        "duration": 191,
        "start_time": "2021-11-21T11:08:48.749Z"
      },
      {
        "duration": 741,
        "start_time": "2021-11-21T11:08:48.942Z"
      },
      {
        "duration": 748,
        "start_time": "2021-11-21T11:08:49.685Z"
      },
      {
        "duration": 66,
        "start_time": "2021-11-21T11:08:50.436Z"
      },
      {
        "duration": 115,
        "start_time": "2021-11-21T11:08:50.504Z"
      },
      {
        "duration": 36,
        "start_time": "2021-11-21T11:08:50.623Z"
      },
      {
        "duration": 48,
        "start_time": "2021-11-21T11:16:45.902Z"
      },
      {
        "duration": 46,
        "start_time": "2021-11-21T11:17:09.231Z"
      },
      {
        "duration": 13,
        "start_time": "2021-11-21T11:44:43.747Z"
      },
      {
        "duration": 485,
        "start_time": "2021-11-21T11:45:44.599Z"
      },
      {
        "duration": 1369,
        "start_time": "2021-11-21T11:48:51.997Z"
      },
      {
        "duration": 1148,
        "start_time": "2021-11-21T11:48:53.368Z"
      },
      {
        "duration": 200,
        "start_time": "2021-11-21T11:48:54.520Z"
      },
      {
        "duration": 760,
        "start_time": "2021-11-21T11:48:54.723Z"
      },
      {
        "duration": 719,
        "start_time": "2021-11-21T11:48:55.486Z"
      },
      {
        "duration": 107,
        "start_time": "2021-11-21T11:48:56.211Z"
      },
      {
        "duration": 63,
        "start_time": "2021-11-21T11:48:56.322Z"
      },
      {
        "duration": 135,
        "start_time": "2021-11-21T11:48:56.400Z"
      },
      {
        "duration": 28,
        "start_time": "2021-11-21T11:48:56.538Z"
      },
      {
        "duration": 35,
        "start_time": "2021-11-21T11:48:56.569Z"
      },
      {
        "duration": 9924,
        "start_time": "2021-11-21T11:49:55.250Z"
      },
      {
        "duration": 1352,
        "start_time": "2021-11-21T11:50:24.150Z"
      },
      {
        "duration": 1162,
        "start_time": "2021-11-21T11:50:25.505Z"
      },
      {
        "duration": 207,
        "start_time": "2021-11-21T11:50:26.670Z"
      },
      {
        "duration": 672,
        "start_time": "2021-11-21T11:50:26.880Z"
      },
      {
        "duration": 727,
        "start_time": "2021-11-21T11:50:27.555Z"
      },
      {
        "duration": 116,
        "start_time": "2021-11-21T11:50:28.285Z"
      },
      {
        "duration": 62,
        "start_time": "2021-11-21T11:50:28.404Z"
      },
      {
        "duration": 148,
        "start_time": "2021-11-21T11:50:28.469Z"
      },
      {
        "duration": 29,
        "start_time": "2021-11-21T11:50:28.624Z"
      },
      {
        "duration": 12,
        "start_time": "2021-11-21T11:50:28.655Z"
      },
      {
        "duration": 219,
        "start_time": "2021-11-21T12:02:19.875Z"
      },
      {
        "duration": 462,
        "start_time": "2021-11-21T12:02:39.842Z"
      },
      {
        "duration": 4,
        "start_time": "2021-11-21T12:03:57.280Z"
      },
      {
        "duration": 341,
        "start_time": "2021-11-21T12:04:12.184Z"
      },
      {
        "duration": 300,
        "start_time": "2021-11-21T12:04:23.037Z"
      },
      {
        "duration": 562,
        "start_time": "2021-11-21T12:04:29.657Z"
      },
      {
        "duration": 1748,
        "start_time": "2021-11-21T12:04:36.439Z"
      },
      {
        "duration": 557,
        "start_time": "2021-11-21T12:04:43.671Z"
      },
      {
        "duration": 433,
        "start_time": "2021-11-21T12:04:49.138Z"
      },
      {
        "duration": 306,
        "start_time": "2021-11-21T12:04:57.327Z"
      },
      {
        "duration": 599,
        "start_time": "2021-11-21T12:05:43.462Z"
      },
      {
        "duration": 352,
        "start_time": "2021-11-21T12:06:27.064Z"
      },
      {
        "duration": 887,
        "start_time": "2021-11-21T12:06:38.414Z"
      },
      {
        "duration": 142,
        "start_time": "2021-11-21T12:07:30.596Z"
      },
      {
        "duration": 706,
        "start_time": "2021-11-21T12:07:32.336Z"
      },
      {
        "duration": 1372,
        "start_time": "2021-11-21T12:10:22.678Z"
      },
      {
        "duration": 1119,
        "start_time": "2021-11-21T12:10:24.053Z"
      },
      {
        "duration": 189,
        "start_time": "2021-11-21T12:10:25.175Z"
      },
      {
        "duration": 825,
        "start_time": "2021-11-21T12:10:25.367Z"
      },
      {
        "duration": 694,
        "start_time": "2021-11-21T12:10:26.200Z"
      },
      {
        "duration": 105,
        "start_time": "2021-11-21T12:10:26.896Z"
      },
      {
        "duration": 60,
        "start_time": "2021-11-21T12:10:27.004Z"
      },
      {
        "duration": 128,
        "start_time": "2021-11-21T12:10:27.067Z"
      },
      {
        "duration": 27,
        "start_time": "2021-11-21T12:10:27.201Z"
      },
      {
        "duration": 14,
        "start_time": "2021-11-21T12:10:27.231Z"
      },
      {
        "duration": 89,
        "start_time": "2021-11-21T12:10:27.247Z"
      },
      {
        "duration": 703,
        "start_time": "2021-11-21T12:10:27.339Z"
      },
      {
        "duration": 491,
        "start_time": "2021-11-21T12:19:04.090Z"
      },
      {
        "duration": 476,
        "start_time": "2021-11-21T12:19:11.795Z"
      },
      {
        "duration": 891,
        "start_time": "2021-11-21T12:19:17.086Z"
      },
      {
        "duration": 1756,
        "start_time": "2021-11-21T12:19:23.677Z"
      },
      {
        "duration": 625,
        "start_time": "2021-11-21T12:19:31.456Z"
      },
      {
        "duration": 1890,
        "start_time": "2021-11-21T12:20:04.295Z"
      },
      {
        "duration": 1154,
        "start_time": "2021-11-21T12:20:06.188Z"
      },
      {
        "duration": 202,
        "start_time": "2021-11-21T12:20:07.346Z"
      },
      {
        "duration": 720,
        "start_time": "2021-11-21T12:20:07.551Z"
      },
      {
        "duration": 777,
        "start_time": "2021-11-21T12:20:08.273Z"
      },
      {
        "duration": 114,
        "start_time": "2021-11-21T12:20:09.053Z"
      },
      {
        "duration": 80,
        "start_time": "2021-11-21T12:20:09.170Z"
      },
      {
        "duration": 123,
        "start_time": "2021-11-21T12:20:09.254Z"
      },
      {
        "duration": 46,
        "start_time": "2021-11-21T12:20:09.380Z"
      },
      {
        "duration": 14,
        "start_time": "2021-11-21T12:20:09.428Z"
      },
      {
        "duration": 109,
        "start_time": "2021-11-21T12:20:09.445Z"
      },
      {
        "duration": 948,
        "start_time": "2021-11-21T12:20:09.556Z"
      },
      {
        "duration": 8,
        "start_time": "2021-11-21T12:21:12.569Z"
      },
      {
        "duration": 6,
        "start_time": "2021-11-21T12:21:21.751Z"
      },
      {
        "duration": 27,
        "start_time": "2021-11-21T12:22:00.920Z"
      },
      {
        "duration": 70,
        "start_time": "2021-11-21T12:22:57.041Z"
      },
      {
        "duration": 657,
        "start_time": "2021-11-21T12:22:58.977Z"
      },
      {
        "duration": 73,
        "start_time": "2021-11-21T12:27:18.278Z"
      },
      {
        "duration": 1715,
        "start_time": "2021-11-21T13:46:38.295Z"
      },
      {
        "duration": 1520,
        "start_time": "2021-11-21T13:46:40.013Z"
      },
      {
        "duration": 264,
        "start_time": "2021-11-21T13:46:41.536Z"
      },
      {
        "duration": 872,
        "start_time": "2021-11-21T13:46:41.804Z"
      },
      {
        "duration": 932,
        "start_time": "2021-11-21T13:46:42.678Z"
      },
      {
        "duration": 201,
        "start_time": "2021-11-21T13:46:43.614Z"
      },
      {
        "duration": 28,
        "start_time": "2021-11-21T13:46:43.818Z"
      },
      {
        "duration": 150,
        "start_time": "2021-11-21T13:46:43.849Z"
      },
      {
        "duration": 777,
        "start_time": "2021-11-21T13:46:44.004Z"
      },
      {
        "duration": 102,
        "start_time": "2021-11-21T13:46:44.784Z"
      },
      {
        "duration": 65,
        "start_time": "2021-11-21T13:46:44.889Z"
      },
      {
        "duration": 127,
        "start_time": "2021-11-21T13:46:44.956Z"
      },
      {
        "duration": 125,
        "start_time": "2021-11-21T13:46:45.086Z"
      },
      {
        "duration": 132,
        "start_time": "2021-11-21T13:46:45.082Z"
      },
      {
        "duration": 1399,
        "start_time": "2021-11-21T14:36:18.380Z"
      },
      {
        "duration": 1179,
        "start_time": "2021-11-21T14:36:19.782Z"
      },
      {
        "duration": 196,
        "start_time": "2021-11-21T14:36:20.965Z"
      },
      {
        "duration": 688,
        "start_time": "2021-11-21T14:36:21.164Z"
      },
      {
        "duration": 746,
        "start_time": "2021-11-21T14:36:21.854Z"
      },
      {
        "duration": 21,
        "start_time": "2021-11-21T14:36:22.603Z"
      },
      {
        "duration": 116,
        "start_time": "2021-11-21T14:36:22.626Z"
      },
      {
        "duration": 121,
        "start_time": "2021-11-21T14:36:22.746Z"
      },
      {
        "duration": 736,
        "start_time": "2021-11-21T14:36:22.870Z"
      },
      {
        "duration": 116,
        "start_time": "2021-11-21T14:36:23.608Z"
      },
      {
        "duration": 3,
        "start_time": "2021-11-21T14:36:23.726Z"
      },
      {
        "duration": 7,
        "start_time": "2021-11-21T14:36:23.731Z"
      },
      {
        "duration": 8,
        "start_time": "2021-11-21T14:36:23.740Z"
      },
      {
        "duration": 22,
        "start_time": "2021-11-21T15:33:54.521Z"
      },
      {
        "duration": 606,
        "start_time": "2021-11-21T15:46:50.622Z"
      },
      {
        "duration": 110,
        "start_time": "2021-11-21T15:48:43.861Z"
      },
      {
        "duration": 705,
        "start_time": "2021-11-21T15:48:46.149Z"
      },
      {
        "duration": 97,
        "start_time": "2021-11-21T15:48:55.836Z"
      },
      {
        "duration": 746,
        "start_time": "2021-11-21T15:48:57.765Z"
      },
      {
        "duration": 1445,
        "start_time": "2021-11-22T13:02:47.666Z"
      },
      {
        "duration": 1152,
        "start_time": "2021-11-22T13:02:49.113Z"
      },
      {
        "duration": 188,
        "start_time": "2021-11-22T13:02:50.268Z"
      },
      {
        "duration": 674,
        "start_time": "2021-11-22T13:02:50.459Z"
      },
      {
        "duration": 728,
        "start_time": "2021-11-22T13:02:51.135Z"
      },
      {
        "duration": 21,
        "start_time": "2021-11-22T13:02:51.866Z"
      },
      {
        "duration": 114,
        "start_time": "2021-11-22T13:02:51.889Z"
      },
      {
        "duration": 109,
        "start_time": "2021-11-22T13:02:52.005Z"
      },
      {
        "duration": 707,
        "start_time": "2021-11-22T13:02:52.117Z"
      },
      {
        "duration": 108,
        "start_time": "2021-11-22T13:02:52.827Z"
      },
      {
        "duration": 116,
        "start_time": "2021-11-22T13:02:52.937Z"
      },
      {
        "duration": 631,
        "start_time": "2021-11-22T13:02:53.055Z"
      },
      {
        "duration": 478,
        "start_time": "2021-11-22T13:02:53.689Z"
      },
      {
        "duration": 101,
        "start_time": "2021-11-22T13:02:54.068Z"
      },
      {
        "duration": 100,
        "start_time": "2021-11-22T13:02:54.071Z"
      },
      {
        "duration": 98,
        "start_time": "2021-11-22T13:02:54.074Z"
      },
      {
        "duration": 14,
        "start_time": "2021-11-22T13:03:25.637Z"
      },
      {
        "duration": 68,
        "start_time": "2021-11-22T13:27:28.172Z"
      },
      {
        "duration": 85,
        "start_time": "2021-11-22T13:33:58.239Z"
      },
      {
        "duration": 43,
        "start_time": "2021-11-22T13:34:02.409Z"
      },
      {
        "duration": 89,
        "start_time": "2021-11-22T13:34:43.456Z"
      },
      {
        "duration": 23,
        "start_time": "2021-11-22T13:34:49.713Z"
      },
      {
        "duration": 379,
        "start_time": "2021-11-23T12:52:59.724Z"
      },
      {
        "duration": 1042,
        "start_time": "2021-11-23T12:53:14.705Z"
      },
      {
        "duration": 767,
        "start_time": "2021-11-23T12:53:15.749Z"
      },
      {
        "duration": 149,
        "start_time": "2021-11-23T12:53:16.519Z"
      },
      {
        "duration": 407,
        "start_time": "2021-11-23T12:53:16.670Z"
      },
      {
        "duration": 449,
        "start_time": "2021-11-23T12:53:17.080Z"
      },
      {
        "duration": 16,
        "start_time": "2021-11-23T12:53:17.531Z"
      },
      {
        "duration": 74,
        "start_time": "2021-11-23T12:53:17.549Z"
      },
      {
        "duration": 57,
        "start_time": "2021-11-23T12:53:17.625Z"
      },
      {
        "duration": 442,
        "start_time": "2021-11-23T12:53:17.685Z"
      },
      {
        "duration": 54,
        "start_time": "2021-11-23T12:53:18.129Z"
      },
      {
        "duration": 36,
        "start_time": "2021-11-23T12:53:18.184Z"
      },
      {
        "duration": 53,
        "start_time": "2021-11-23T12:53:18.222Z"
      },
      {
        "duration": 388,
        "start_time": "2021-11-23T12:53:18.277Z"
      },
      {
        "duration": 59,
        "start_time": "2021-11-23T12:53:18.668Z"
      },
      {
        "duration": 2,
        "start_time": "2021-11-23T12:53:18.729Z"
      },
      {
        "duration": 13,
        "start_time": "2021-11-23T12:53:18.732Z"
      },
      {
        "duration": 8,
        "start_time": "2021-11-23T12:53:18.747Z"
      },
      {
        "duration": 16,
        "start_time": "2021-11-23T12:55:00.425Z"
      },
      {
        "duration": 470,
        "start_time": "2021-11-23T13:35:11.251Z"
      },
      {
        "duration": 10,
        "start_time": "2021-11-23T13:36:36.961Z"
      },
      {
        "duration": 40,
        "start_time": "2021-11-23T13:40:49.331Z"
      },
      {
        "duration": 27,
        "start_time": "2021-11-23T14:11:36.969Z"
      },
      {
        "duration": 79,
        "start_time": "2021-11-23T14:11:39.874Z"
      },
      {
        "duration": 16,
        "start_time": "2021-11-23T14:12:07.144Z"
      },
      {
        "duration": 31,
        "start_time": "2021-11-23T14:43:30.947Z"
      },
      {
        "duration": 19,
        "start_time": "2021-11-23T14:53:05.041Z"
      },
      {
        "duration": 85,
        "start_time": "2021-11-23T14:53:12.547Z"
      },
      {
        "duration": 345,
        "start_time": "2021-11-24T06:06:15.670Z"
      },
      {
        "duration": 1313,
        "start_time": "2021-11-24T06:06:23.006Z"
      },
      {
        "duration": 2974,
        "start_time": "2021-11-24T06:06:31.716Z"
      },
      {
        "duration": 1112,
        "start_time": "2021-11-29T12:33:27.883Z"
      },
      {
        "duration": 15238,
        "start_time": "2021-11-29T12:33:28.998Z"
      },
      {
        "duration": 137,
        "start_time": "2021-11-29T12:33:44.238Z"
      },
      {
        "duration": 425,
        "start_time": "2021-11-29T12:33:44.377Z"
      },
      {
        "duration": 468,
        "start_time": "2021-11-29T12:33:44.804Z"
      },
      {
        "duration": 18,
        "start_time": "2021-11-29T12:33:45.274Z"
      },
      {
        "duration": 74,
        "start_time": "2021-11-29T12:33:45.294Z"
      },
      {
        "duration": 68,
        "start_time": "2021-11-29T12:33:45.371Z"
      },
      {
        "duration": 526,
        "start_time": "2021-11-29T12:33:45.441Z"
      },
      {
        "duration": 67,
        "start_time": "2021-11-29T12:33:45.968Z"
      },
      {
        "duration": 78,
        "start_time": "2021-11-29T12:33:46.037Z"
      },
      {
        "duration": 430,
        "start_time": "2021-11-29T12:33:46.117Z"
      },
      {
        "duration": 43,
        "start_time": "2021-11-29T12:33:46.549Z"
      },
      {
        "duration": 383,
        "start_time": "2021-11-29T12:33:46.594Z"
      },
      {
        "duration": 10,
        "start_time": "2021-11-29T12:33:46.979Z"
      },
      {
        "duration": 55,
        "start_time": "2021-11-29T12:33:46.991Z"
      },
      {
        "duration": 26,
        "start_time": "2021-11-29T12:33:47.048Z"
      },
      {
        "duration": 88,
        "start_time": "2021-11-29T12:33:47.076Z"
      },
      {
        "duration": 16,
        "start_time": "2021-11-29T12:33:47.165Z"
      },
      {
        "duration": 28,
        "start_time": "2021-11-29T12:33:47.183Z"
      },
      {
        "duration": 70,
        "start_time": "2021-11-29T12:34:07.615Z"
      },
      {
        "duration": 1014,
        "start_time": "2021-11-29T12:45:00.027Z"
      },
      {
        "duration": 1147,
        "start_time": "2021-11-29T12:45:07.679Z"
      },
      {
        "duration": 818,
        "start_time": "2021-11-29T12:45:08.828Z"
      },
      {
        "duration": 149,
        "start_time": "2021-11-29T12:45:09.649Z"
      },
      {
        "duration": 532,
        "start_time": "2021-11-29T12:45:09.800Z"
      },
      {
        "duration": 464,
        "start_time": "2021-11-29T12:45:10.333Z"
      },
      {
        "duration": 17,
        "start_time": "2021-11-29T12:45:10.799Z"
      },
      {
        "duration": 65,
        "start_time": "2021-11-29T12:45:10.818Z"
      },
      {
        "duration": 82,
        "start_time": "2021-11-29T12:45:10.885Z"
      },
      {
        "duration": 527,
        "start_time": "2021-11-29T12:45:10.969Z"
      },
      {
        "duration": 57,
        "start_time": "2021-11-29T12:45:11.498Z"
      },
      {
        "duration": 71,
        "start_time": "2021-11-29T12:45:11.557Z"
      },
      {
        "duration": 364,
        "start_time": "2021-11-29T12:45:11.630Z"
      },
      {
        "duration": 52,
        "start_time": "2021-11-29T12:45:11.997Z"
      },
      {
        "duration": 373,
        "start_time": "2021-11-29T12:45:12.051Z"
      },
      {
        "duration": 9,
        "start_time": "2021-11-29T12:45:12.426Z"
      },
      {
        "duration": 41,
        "start_time": "2021-11-29T12:45:12.437Z"
      },
      {
        "duration": 46,
        "start_time": "2021-11-29T12:45:12.479Z"
      },
      {
        "duration": 92,
        "start_time": "2021-11-29T12:45:12.527Z"
      },
      {
        "duration": 19,
        "start_time": "2021-11-29T12:45:12.621Z"
      },
      {
        "duration": 18,
        "start_time": "2021-11-29T12:45:12.642Z"
      },
      {
        "duration": 88,
        "start_time": "2021-11-29T12:45:12.662Z"
      },
      {
        "duration": 29,
        "start_time": "2021-11-29T12:49:51.415Z"
      },
      {
        "duration": 30,
        "start_time": "2021-11-29T12:52:30.035Z"
      },
      {
        "duration": 30,
        "start_time": "2021-11-29T12:53:47.825Z"
      },
      {
        "duration": 425,
        "start_time": "2021-11-29T12:54:32.668Z"
      },
      {
        "duration": 37,
        "start_time": "2021-11-29T12:54:41.516Z"
      },
      {
        "duration": 10,
        "start_time": "2021-11-29T12:54:45.435Z"
      },
      {
        "duration": 529,
        "start_time": "2021-11-29T12:55:02.146Z"
      },
      {
        "duration": 27,
        "start_time": "2021-11-29T12:57:44.263Z"
      },
      {
        "duration": 383,
        "start_time": "2021-11-29T12:57:46.050Z"
      },
      {
        "duration": 68,
        "start_time": "2021-11-29T12:58:08.134Z"
      },
      {
        "duration": 8,
        "start_time": "2021-11-29T12:58:12.910Z"
      },
      {
        "duration": 1149,
        "start_time": "2021-11-29T12:58:36.068Z"
      },
      {
        "duration": 788,
        "start_time": "2021-11-29T12:58:37.219Z"
      },
      {
        "duration": 143,
        "start_time": "2021-11-29T12:58:38.009Z"
      },
      {
        "duration": 431,
        "start_time": "2021-11-29T12:58:38.154Z"
      },
      {
        "duration": 467,
        "start_time": "2021-11-29T12:58:38.586Z"
      },
      {
        "duration": 18,
        "start_time": "2021-11-29T12:58:39.055Z"
      },
      {
        "duration": 78,
        "start_time": "2021-11-29T12:58:39.074Z"
      },
      {
        "duration": 71,
        "start_time": "2021-11-29T12:58:39.155Z"
      },
      {
        "duration": 431,
        "start_time": "2021-11-29T12:58:39.228Z"
      },
      {
        "duration": 64,
        "start_time": "2021-11-29T12:58:39.660Z"
      },
      {
        "duration": 54,
        "start_time": "2021-11-29T12:58:39.726Z"
      },
      {
        "duration": 382,
        "start_time": "2021-11-29T12:58:39.782Z"
      },
      {
        "duration": 51,
        "start_time": "2021-11-29T12:58:40.165Z"
      },
      {
        "duration": 404,
        "start_time": "2021-11-29T12:58:40.218Z"
      },
      {
        "duration": 9,
        "start_time": "2021-11-29T12:58:40.625Z"
      },
      {
        "duration": 42,
        "start_time": "2021-11-29T12:58:40.636Z"
      },
      {
        "duration": 50,
        "start_time": "2021-11-29T12:58:40.680Z"
      },
      {
        "duration": 87,
        "start_time": "2021-11-29T12:58:40.732Z"
      },
      {
        "duration": 20,
        "start_time": "2021-11-29T12:58:40.821Z"
      },
      {
        "duration": 25,
        "start_time": "2021-11-29T12:58:40.842Z"
      },
      {
        "duration": 35,
        "start_time": "2021-11-29T12:58:40.868Z"
      },
      {
        "duration": 37,
        "start_time": "2021-11-29T12:58:40.905Z"
      },
      {
        "duration": 10,
        "start_time": "2021-11-29T12:58:40.945Z"
      },
      {
        "duration": 302,
        "start_time": "2021-11-29T14:46:26.267Z"
      },
      {
        "duration": 1053,
        "start_time": "2021-11-29T14:46:56.058Z"
      },
      {
        "duration": 800,
        "start_time": "2021-11-29T14:46:57.114Z"
      },
      {
        "duration": 156,
        "start_time": "2021-11-29T14:46:57.916Z"
      },
      {
        "duration": 454,
        "start_time": "2021-11-29T14:46:58.074Z"
      },
      {
        "duration": 497,
        "start_time": "2021-11-29T14:46:58.530Z"
      },
      {
        "duration": 18,
        "start_time": "2021-11-29T14:46:59.029Z"
      },
      {
        "duration": 74,
        "start_time": "2021-11-29T14:46:59.049Z"
      },
      {
        "duration": 80,
        "start_time": "2021-11-29T14:46:59.126Z"
      },
      {
        "duration": 421,
        "start_time": "2021-11-29T14:46:59.208Z"
      },
      {
        "duration": 71,
        "start_time": "2021-11-29T14:46:59.631Z"
      },
      {
        "duration": 73,
        "start_time": "2021-11-29T14:46:59.704Z"
      },
      {
        "duration": 368,
        "start_time": "2021-11-29T14:46:59.779Z"
      },
      {
        "duration": 57,
        "start_time": "2021-11-29T14:47:00.148Z"
      },
      {
        "duration": 388,
        "start_time": "2021-11-29T14:47:00.207Z"
      },
      {
        "duration": 9,
        "start_time": "2021-11-29T14:47:00.597Z"
      },
      {
        "duration": 66,
        "start_time": "2021-11-29T14:47:00.608Z"
      },
      {
        "duration": 30,
        "start_time": "2021-11-29T14:47:00.676Z"
      },
      {
        "duration": 86,
        "start_time": "2021-11-29T14:47:00.708Z"
      },
      {
        "duration": 18,
        "start_time": "2021-11-29T14:47:00.796Z"
      },
      {
        "duration": 24,
        "start_time": "2021-11-29T14:47:00.816Z"
      },
      {
        "duration": 39,
        "start_time": "2021-11-29T14:47:00.842Z"
      },
      {
        "duration": 44,
        "start_time": "2021-11-29T14:47:00.883Z"
      },
      {
        "duration": 70,
        "start_time": "2021-11-29T14:47:00.930Z"
      },
      {
        "duration": 332,
        "start_time": "2021-11-29T14:49:19.542Z"
      },
      {
        "duration": 1095,
        "start_time": "2021-11-29T14:50:31.403Z"
      },
      {
        "duration": 875,
        "start_time": "2021-11-29T14:50:32.500Z"
      },
      {
        "duration": 151,
        "start_time": "2021-11-29T14:50:33.377Z"
      },
      {
        "duration": 576,
        "start_time": "2021-11-29T14:50:33.530Z"
      },
      {
        "duration": 518,
        "start_time": "2021-11-29T14:50:34.108Z"
      },
      {
        "duration": 19,
        "start_time": "2021-11-29T14:50:34.628Z"
      },
      {
        "duration": 73,
        "start_time": "2021-11-29T14:50:34.649Z"
      },
      {
        "duration": 82,
        "start_time": "2021-11-29T14:50:34.725Z"
      },
      {
        "duration": 431,
        "start_time": "2021-11-29T14:50:34.810Z"
      },
      {
        "duration": 73,
        "start_time": "2021-11-29T14:50:35.243Z"
      },
      {
        "duration": 71,
        "start_time": "2021-11-29T14:50:35.317Z"
      },
      {
        "duration": 373,
        "start_time": "2021-11-29T14:50:35.390Z"
      },
      {
        "duration": 52,
        "start_time": "2021-11-29T14:50:35.765Z"
      },
      {
        "duration": 381,
        "start_time": "2021-11-29T14:50:35.818Z"
      },
      {
        "duration": 10,
        "start_time": "2021-11-29T14:50:36.201Z"
      },
      {
        "duration": 63,
        "start_time": "2021-11-29T14:50:36.213Z"
      },
      {
        "duration": 28,
        "start_time": "2021-11-29T14:50:36.278Z"
      },
      {
        "duration": 82,
        "start_time": "2021-11-29T14:50:36.308Z"
      },
      {
        "duration": 16,
        "start_time": "2021-11-29T14:50:36.392Z"
      },
      {
        "duration": 20,
        "start_time": "2021-11-29T14:50:36.410Z"
      },
      {
        "duration": 33,
        "start_time": "2021-11-29T14:50:36.433Z"
      },
      {
        "duration": 37,
        "start_time": "2021-11-29T14:50:36.468Z"
      },
      {
        "duration": 84,
        "start_time": "2021-11-29T14:50:36.508Z"
      },
      {
        "duration": 366,
        "start_time": "2021-11-29T14:53:19.560Z"
      },
      {
        "duration": 85,
        "start_time": "2021-11-29T15:02:27.829Z"
      },
      {
        "duration": 3,
        "start_time": "2021-11-29T15:02:34.725Z"
      },
      {
        "duration": 301,
        "start_time": "2021-11-29T15:02:38.178Z"
      },
      {
        "duration": 271,
        "start_time": "2021-11-29T15:03:19.037Z"
      },
      {
        "duration": 231,
        "start_time": "2021-11-29T15:03:43.853Z"
      },
      {
        "duration": 383,
        "start_time": "2021-11-29T15:07:11.749Z"
      },
      {
        "duration": 67,
        "start_time": "2021-11-29T15:07:19.755Z"
      },
      {
        "duration": 487,
        "start_time": "2021-11-29T15:08:04.992Z"
      },
      {
        "duration": 70,
        "start_time": "2021-11-29T15:08:11.133Z"
      },
      {
        "duration": 31,
        "start_time": "2021-11-29T15:15:54.185Z"
      },
      {
        "duration": 29,
        "start_time": "2021-11-29T15:16:08.713Z"
      },
      {
        "duration": 8,
        "start_time": "2021-11-29T15:23:15.032Z"
      },
      {
        "duration": 30,
        "start_time": "2021-11-29T15:25:04.082Z"
      },
      {
        "duration": 58,
        "start_time": "2021-11-29T15:25:05.808Z"
      },
      {
        "duration": 57,
        "start_time": "2021-11-29T15:25:32.204Z"
      },
      {
        "duration": 90,
        "start_time": "2021-11-29T15:33:57.570Z"
      },
      {
        "duration": 1163,
        "start_time": "2021-11-29T15:34:09.806Z"
      },
      {
        "duration": 880,
        "start_time": "2021-11-29T15:34:10.971Z"
      },
      {
        "duration": 146,
        "start_time": "2021-11-29T15:34:11.853Z"
      },
      {
        "duration": 498,
        "start_time": "2021-11-29T15:34:12.001Z"
      },
      {
        "duration": 555,
        "start_time": "2021-11-29T15:34:12.501Z"
      },
      {
        "duration": 24,
        "start_time": "2021-11-29T15:34:13.057Z"
      },
      {
        "duration": 98,
        "start_time": "2021-11-29T15:34:13.083Z"
      },
      {
        "duration": 86,
        "start_time": "2021-11-29T15:34:13.183Z"
      },
      {
        "duration": 442,
        "start_time": "2021-11-29T15:34:13.272Z"
      },
      {
        "duration": 85,
        "start_time": "2021-11-29T15:34:13.717Z"
      },
      {
        "duration": 72,
        "start_time": "2021-11-29T15:34:13.803Z"
      },
      {
        "duration": 475,
        "start_time": "2021-11-29T15:34:13.877Z"
      },
      {
        "duration": 61,
        "start_time": "2021-11-29T15:34:14.354Z"
      },
      {
        "duration": 475,
        "start_time": "2021-11-29T15:34:14.416Z"
      },
      {
        "duration": 9,
        "start_time": "2021-11-29T15:34:14.893Z"
      },
      {
        "duration": 70,
        "start_time": "2021-11-29T15:34:14.903Z"
      },
      {
        "duration": 37,
        "start_time": "2021-11-29T15:34:14.975Z"
      },
      {
        "duration": 82,
        "start_time": "2021-11-29T15:34:15.014Z"
      },
      {
        "duration": 25,
        "start_time": "2021-11-29T15:34:15.098Z"
      },
      {
        "duration": 31,
        "start_time": "2021-11-29T15:34:15.125Z"
      },
      {
        "duration": 33,
        "start_time": "2021-11-29T15:34:15.158Z"
      },
      {
        "duration": 55,
        "start_time": "2021-11-29T15:34:15.193Z"
      },
      {
        "duration": 382,
        "start_time": "2021-11-29T15:34:15.250Z"
      },
      {
        "duration": 366,
        "start_time": "2021-11-29T15:34:15.634Z"
      },
      {
        "duration": 38,
        "start_time": "2021-11-29T15:34:16.002Z"
      },
      {
        "duration": 71,
        "start_time": "2021-11-29T15:34:16.041Z"
      },
      {
        "duration": 64,
        "start_time": "2021-11-29T15:34:16.115Z"
      },
      {
        "duration": 14,
        "start_time": "2021-11-29T16:50:00.626Z"
      },
      {
        "duration": 746,
        "start_time": "2021-11-29T17:07:47.017Z"
      },
      {
        "duration": 171,
        "start_time": "2021-11-29T17:08:16.793Z"
      },
      {
        "duration": 116,
        "start_time": "2021-11-29T17:38:50.842Z"
      },
      {
        "duration": 1145,
        "start_time": "2021-11-29T17:39:51.088Z"
      },
      {
        "duration": 2,
        "start_time": "2021-11-29T17:41:29.275Z"
      },
      {
        "duration": 3,
        "start_time": "2021-11-29T18:04:34.322Z"
      },
      {
        "duration": 6421,
        "start_time": "2021-11-29T18:05:26.431Z"
      },
      {
        "duration": 3,
        "start_time": "2021-11-29T18:05:40.255Z"
      },
      {
        "duration": 15,
        "start_time": "2021-11-29T18:05:58.614Z"
      },
      {
        "duration": 15,
        "start_time": "2021-11-29T18:13:15.428Z"
      },
      {
        "duration": 146,
        "start_time": "2021-11-29T18:14:27.848Z"
      },
      {
        "duration": 3,
        "start_time": "2021-11-29T18:53:12.848Z"
      },
      {
        "duration": 3,
        "start_time": "2021-11-29T18:55:25.728Z"
      },
      {
        "duration": 73,
        "start_time": "2021-11-29T18:55:56.245Z"
      },
      {
        "duration": 1221,
        "start_time": "2021-11-29T18:56:16.874Z"
      },
      {
        "duration": 1274,
        "start_time": "2021-11-29T18:56:18.097Z"
      },
      {
        "duration": 250,
        "start_time": "2021-11-29T18:56:19.374Z"
      },
      {
        "duration": 640,
        "start_time": "2021-11-29T18:56:19.627Z"
      },
      {
        "duration": 771,
        "start_time": "2021-11-29T18:56:20.269Z"
      },
      {
        "duration": 35,
        "start_time": "2021-11-29T18:56:21.043Z"
      },
      {
        "duration": 126,
        "start_time": "2021-11-29T18:56:21.081Z"
      },
      {
        "duration": 103,
        "start_time": "2021-11-29T18:56:21.211Z"
      },
      {
        "duration": 679,
        "start_time": "2021-11-29T18:56:21.317Z"
      },
      {
        "duration": 94,
        "start_time": "2021-11-29T18:56:21.997Z"
      },
      {
        "duration": 64,
        "start_time": "2021-11-29T18:56:22.095Z"
      },
      {
        "duration": 436,
        "start_time": "2021-11-29T18:56:22.160Z"
      },
      {
        "duration": 73,
        "start_time": "2021-11-29T18:56:22.598Z"
      },
      {
        "duration": 496,
        "start_time": "2021-11-29T18:56:22.674Z"
      },
      {
        "duration": 16,
        "start_time": "2021-11-29T18:56:23.172Z"
      },
      {
        "duration": 54,
        "start_time": "2021-11-29T18:56:23.191Z"
      },
      {
        "duration": 32,
        "start_time": "2021-11-29T18:56:23.263Z"
      },
      {
        "duration": 88,
        "start_time": "2021-11-29T18:56:23.296Z"
      },
      {
        "duration": 17,
        "start_time": "2021-11-29T18:56:23.386Z"
      },
      {
        "duration": 18,
        "start_time": "2021-11-29T18:56:23.405Z"
      },
      {
        "duration": 39,
        "start_time": "2021-11-29T18:56:23.425Z"
      },
      {
        "duration": 50,
        "start_time": "2021-11-29T18:56:23.472Z"
      },
      {
        "duration": 401,
        "start_time": "2021-11-29T18:56:23.526Z"
      },
      {
        "duration": 384,
        "start_time": "2021-11-29T18:56:23.930Z"
      },
      {
        "duration": 28,
        "start_time": "2021-11-29T18:56:24.315Z"
      },
      {
        "duration": 76,
        "start_time": "2021-11-29T18:56:24.345Z"
      },
      {
        "duration": 72,
        "start_time": "2021-11-29T18:56:24.423Z"
      },
      {
        "duration": 2,
        "start_time": "2021-11-29T18:56:24.497Z"
      },
      {
        "duration": 75,
        "start_time": "2021-11-29T18:56:24.501Z"
      },
      {
        "duration": 6099,
        "start_time": "2021-11-29T18:56:24.578Z"
      },
      {
        "duration": 30,
        "start_time": "2021-11-29T18:56:30.650Z"
      },
      {
        "duration": 28,
        "start_time": "2021-11-29T18:56:30.653Z"
      },
      {
        "duration": 26,
        "start_time": "2021-11-29T18:56:30.656Z"
      },
      {
        "duration": 24,
        "start_time": "2021-11-29T18:56:30.659Z"
      },
      {
        "duration": 22,
        "start_time": "2021-11-29T18:56:30.661Z"
      },
      {
        "duration": 22,
        "start_time": "2021-11-29T18:56:30.662Z"
      },
      {
        "duration": 21,
        "start_time": "2021-11-29T18:56:30.664Z"
      },
      {
        "duration": 19,
        "start_time": "2021-11-29T18:56:30.666Z"
      },
      {
        "duration": 6155,
        "start_time": "2021-11-29T19:40:48.846Z"
      },
      {
        "duration": 6316,
        "start_time": "2021-11-29T19:41:09.149Z"
      },
      {
        "duration": 7,
        "start_time": "2021-11-29T19:41:34.817Z"
      },
      {
        "duration": 6631,
        "start_time": "2021-11-29T19:41:37.847Z"
      },
      {
        "duration": 1038,
        "start_time": "2021-11-29T19:41:56.815Z"
      },
      {
        "duration": 841,
        "start_time": "2021-11-29T19:41:57.855Z"
      },
      {
        "duration": 142,
        "start_time": "2021-11-29T19:41:58.698Z"
      },
      {
        "duration": 453,
        "start_time": "2021-11-29T19:41:58.842Z"
      },
      {
        "duration": 492,
        "start_time": "2021-11-29T19:41:59.297Z"
      },
      {
        "duration": 19,
        "start_time": "2021-11-29T19:41:59.791Z"
      },
      {
        "duration": 80,
        "start_time": "2021-11-29T19:41:59.811Z"
      },
      {
        "duration": 80,
        "start_time": "2021-11-29T19:41:59.893Z"
      },
      {
        "duration": 429,
        "start_time": "2021-11-29T19:41:59.975Z"
      },
      {
        "duration": 75,
        "start_time": "2021-11-29T19:42:00.406Z"
      },
      {
        "duration": 64,
        "start_time": "2021-11-29T19:42:00.483Z"
      },
      {
        "duration": 379,
        "start_time": "2021-11-29T19:42:00.549Z"
      },
      {
        "duration": 62,
        "start_time": "2021-11-29T19:42:00.929Z"
      },
      {
        "duration": 463,
        "start_time": "2021-11-29T19:42:00.993Z"
      },
      {
        "duration": 9,
        "start_time": "2021-11-29T19:42:01.463Z"
      },
      {
        "duration": 56,
        "start_time": "2021-11-29T19:42:01.474Z"
      },
      {
        "duration": 43,
        "start_time": "2021-11-29T19:42:01.532Z"
      },
      {
        "duration": 69,
        "start_time": "2021-11-29T19:42:01.577Z"
      },
      {
        "duration": 34,
        "start_time": "2021-11-29T19:42:01.648Z"
      },
      {
        "duration": 36,
        "start_time": "2021-11-29T19:42:01.683Z"
      },
      {
        "duration": 25,
        "start_time": "2021-11-29T19:42:01.721Z"
      },
      {
        "duration": 82,
        "start_time": "2021-11-29T19:42:01.748Z"
      },
      {
        "duration": 366,
        "start_time": "2021-11-29T19:42:01.834Z"
      },
      {
        "duration": 356,
        "start_time": "2021-11-29T19:42:02.202Z"
      },
      {
        "duration": 28,
        "start_time": "2021-11-29T19:42:02.562Z"
      },
      {
        "duration": 67,
        "start_time": "2021-11-29T19:42:02.592Z"
      },
      {
        "duration": 54,
        "start_time": "2021-11-29T19:42:02.661Z"
      },
      {
        "duration": 19,
        "start_time": "2021-11-29T19:42:02.717Z"
      },
      {
        "duration": 87,
        "start_time": "2021-11-29T19:42:02.738Z"
      },
      {
        "duration": 7,
        "start_time": "2021-11-29T19:42:02.827Z"
      },
      {
        "duration": 110,
        "start_time": "2021-11-29T19:42:02.836Z"
      },
      {
        "duration": 580,
        "start_time": "2021-11-29T19:42:02.948Z"
      },
      {
        "duration": 172,
        "start_time": "2021-11-29T19:42:03.530Z"
      },
      {
        "duration": 1149,
        "start_time": "2021-11-29T19:42:03.704Z"
      },
      {
        "duration": 9,
        "start_time": "2021-11-29T19:42:04.855Z"
      },
      {
        "duration": 87,
        "start_time": "2021-11-29T19:42:04.866Z"
      },
      {
        "duration": 154,
        "start_time": "2021-11-29T19:42:04.955Z"
      },
      {
        "duration": 2,
        "start_time": "2021-11-29T19:42:05.111Z"
      },
      {
        "duration": 1043,
        "start_time": "2021-11-30T11:34:10.675Z"
      },
      {
        "duration": 767,
        "start_time": "2021-11-30T11:34:11.720Z"
      },
      {
        "duration": 133,
        "start_time": "2021-11-30T11:34:12.489Z"
      },
      {
        "duration": 426,
        "start_time": "2021-11-30T11:34:12.624Z"
      },
      {
        "duration": 667,
        "start_time": "2021-11-30T11:34:13.052Z"
      },
      {
        "duration": 26,
        "start_time": "2021-11-30T11:34:13.721Z"
      },
      {
        "duration": 118,
        "start_time": "2021-11-30T11:34:13.749Z"
      },
      {
        "duration": 93,
        "start_time": "2021-11-30T11:34:13.869Z"
      },
      {
        "duration": 614,
        "start_time": "2021-11-30T11:34:13.965Z"
      },
      {
        "duration": 83,
        "start_time": "2021-11-30T11:34:14.582Z"
      },
      {
        "duration": 69,
        "start_time": "2021-11-30T11:34:14.667Z"
      },
      {
        "duration": 375,
        "start_time": "2021-11-30T11:34:14.745Z"
      },
      {
        "duration": 53,
        "start_time": "2021-11-30T11:34:15.122Z"
      },
      {
        "duration": 413,
        "start_time": "2021-11-30T11:34:15.177Z"
      },
      {
        "duration": 8,
        "start_time": "2021-11-30T11:34:15.591Z"
      },
      {
        "duration": 59,
        "start_time": "2021-11-30T11:34:15.601Z"
      },
      {
        "duration": 28,
        "start_time": "2021-11-30T11:34:15.662Z"
      },
      {
        "duration": 78,
        "start_time": "2021-11-30T11:34:15.692Z"
      },
      {
        "duration": 18,
        "start_time": "2021-11-30T11:34:15.772Z"
      },
      {
        "duration": 18,
        "start_time": "2021-11-30T11:34:15.792Z"
      },
      {
        "duration": 43,
        "start_time": "2021-11-30T11:34:15.812Z"
      },
      {
        "duration": 32,
        "start_time": "2021-11-30T11:34:15.858Z"
      },
      {
        "duration": 352,
        "start_time": "2021-11-30T11:34:15.892Z"
      },
      {
        "duration": 339,
        "start_time": "2021-11-30T11:34:16.246Z"
      },
      {
        "duration": 28,
        "start_time": "2021-11-30T11:34:16.587Z"
      },
      {
        "duration": 61,
        "start_time": "2021-11-30T11:34:16.617Z"
      },
      {
        "duration": 63,
        "start_time": "2021-11-30T11:34:16.682Z"
      },
      {
        "duration": 3,
        "start_time": "2021-11-30T11:34:16.747Z"
      },
      {
        "duration": 85,
        "start_time": "2021-11-30T11:34:16.751Z"
      },
      {
        "duration": 6,
        "start_time": "2021-11-30T11:34:16.844Z"
      },
      {
        "duration": 77,
        "start_time": "2021-11-30T11:34:16.851Z"
      },
      {
        "duration": 533,
        "start_time": "2021-11-30T11:34:16.930Z"
      },
      {
        "duration": 166,
        "start_time": "2021-11-30T11:34:17.465Z"
      },
      {
        "duration": 1051,
        "start_time": "2021-11-30T11:34:17.633Z"
      },
      {
        "duration": 2,
        "start_time": "2021-11-30T11:34:18.686Z"
      },
      {
        "duration": 35,
        "start_time": "2021-11-30T11:34:18.690Z"
      },
      {
        "duration": 119,
        "start_time": "2021-11-30T11:34:18.727Z"
      },
      {
        "duration": 2,
        "start_time": "2021-11-30T11:34:18.848Z"
      },
      {
        "duration": 3,
        "start_time": "2021-11-30T11:41:18.809Z"
      },
      {
        "duration": 357,
        "start_time": "2021-11-30T11:59:14.273Z"
      },
      {
        "duration": 1124,
        "start_time": "2021-11-30T11:59:26.104Z"
      },
      {
        "duration": 802,
        "start_time": "2021-11-30T11:59:27.230Z"
      },
      {
        "duration": 145,
        "start_time": "2021-11-30T11:59:28.034Z"
      },
      {
        "duration": 565,
        "start_time": "2021-11-30T11:59:28.181Z"
      },
      {
        "duration": 524,
        "start_time": "2021-11-30T11:59:28.748Z"
      },
      {
        "duration": 17,
        "start_time": "2021-11-30T11:59:29.275Z"
      },
      {
        "duration": 94,
        "start_time": "2021-11-30T11:59:29.293Z"
      },
      {
        "duration": 94,
        "start_time": "2021-11-30T11:59:29.391Z"
      },
      {
        "duration": 421,
        "start_time": "2021-11-30T11:59:29.488Z"
      },
      {
        "duration": 65,
        "start_time": "2021-11-30T11:59:29.911Z"
      },
      {
        "duration": 67,
        "start_time": "2021-11-30T11:59:29.978Z"
      },
      {
        "duration": 354,
        "start_time": "2021-11-30T11:59:30.047Z"
      },
      {
        "duration": 51,
        "start_time": "2021-11-30T11:59:30.403Z"
      },
      {
        "duration": 435,
        "start_time": "2021-11-30T11:59:30.455Z"
      },
      {
        "duration": 8,
        "start_time": "2021-11-30T11:59:30.892Z"
      },
      {
        "duration": 52,
        "start_time": "2021-11-30T11:59:30.902Z"
      },
      {
        "duration": 26,
        "start_time": "2021-11-30T11:59:30.956Z"
      },
      {
        "duration": 79,
        "start_time": "2021-11-30T11:59:30.984Z"
      },
      {
        "duration": 16,
        "start_time": "2021-11-30T11:59:31.065Z"
      },
      {
        "duration": 50,
        "start_time": "2021-11-30T11:59:31.083Z"
      },
      {
        "duration": 65,
        "start_time": "2021-11-30T11:59:31.135Z"
      },
      {
        "duration": 48,
        "start_time": "2021-11-30T11:59:31.202Z"
      },
      {
        "duration": 373,
        "start_time": "2021-11-30T11:59:31.255Z"
      },
      {
        "duration": 362,
        "start_time": "2021-11-30T11:59:31.630Z"
      },
      {
        "duration": 27,
        "start_time": "2021-11-30T11:59:31.994Z"
      },
      {
        "duration": 74,
        "start_time": "2021-11-30T11:59:32.023Z"
      },
      {
        "duration": 67,
        "start_time": "2021-11-30T11:59:32.099Z"
      },
      {
        "duration": 4,
        "start_time": "2021-11-30T11:59:32.168Z"
      },
      {
        "duration": 98,
        "start_time": "2021-11-30T11:59:32.174Z"
      },
      {
        "duration": 8,
        "start_time": "2021-11-30T11:59:32.274Z"
      },
      {
        "duration": 87,
        "start_time": "2021-11-30T11:59:32.284Z"
      },
      {
        "duration": 681,
        "start_time": "2021-11-30T11:59:32.372Z"
      },
      {
        "duration": 168,
        "start_time": "2021-11-30T11:59:33.055Z"
      },
      {
        "duration": 1085,
        "start_time": "2021-11-30T11:59:33.225Z"
      },
      {
        "duration": 3,
        "start_time": "2021-11-30T11:59:34.311Z"
      },
      {
        "duration": 20,
        "start_time": "2021-11-30T11:59:34.315Z"
      },
      {
        "duration": 126,
        "start_time": "2021-11-30T11:59:34.336Z"
      },
      {
        "duration": 2,
        "start_time": "2021-11-30T11:59:34.466Z"
      },
      {
        "duration": 385,
        "start_time": "2021-11-30T11:59:34.471Z"
      },
      {
        "duration": 4,
        "start_time": "2021-11-30T11:59:59.841Z"
      },
      {
        "duration": 21925,
        "start_time": "2021-11-30T12:00:41.420Z"
      },
      {
        "duration": 285,
        "start_time": "2021-11-30T12:01:09.717Z"
      },
      {
        "duration": 1141,
        "start_time": "2021-11-30T12:01:22.022Z"
      },
      {
        "duration": 771,
        "start_time": "2021-11-30T12:01:23.165Z"
      },
      {
        "duration": 163,
        "start_time": "2021-11-30T12:01:23.938Z"
      },
      {
        "duration": 422,
        "start_time": "2021-11-30T12:01:24.103Z"
      },
      {
        "duration": 535,
        "start_time": "2021-11-30T12:01:24.527Z"
      },
      {
        "duration": 16,
        "start_time": "2021-11-30T12:01:25.064Z"
      },
      {
        "duration": 76,
        "start_time": "2021-11-30T12:01:25.082Z"
      },
      {
        "duration": 75,
        "start_time": "2021-11-30T12:01:25.160Z"
      },
      {
        "duration": 431,
        "start_time": "2021-11-30T12:01:25.238Z"
      },
      {
        "duration": 56,
        "start_time": "2021-11-30T12:01:25.672Z"
      },
      {
        "duration": 68,
        "start_time": "2021-11-30T12:01:25.729Z"
      },
      {
        "duration": 395,
        "start_time": "2021-11-30T12:01:25.799Z"
      },
      {
        "duration": 50,
        "start_time": "2021-11-30T12:01:26.196Z"
      },
      {
        "duration": 453,
        "start_time": "2021-11-30T12:01:26.248Z"
      },
      {
        "duration": 9,
        "start_time": "2021-11-30T12:01:26.703Z"
      },
      {
        "duration": 50,
        "start_time": "2021-11-30T12:01:26.714Z"
      },
      {
        "duration": 22,
        "start_time": "2021-11-30T12:01:26.766Z"
      },
      {
        "duration": 94,
        "start_time": "2021-11-30T12:01:26.790Z"
      },
      {
        "duration": 24,
        "start_time": "2021-11-30T12:01:26.886Z"
      },
      {
        "duration": 50,
        "start_time": "2021-11-30T12:01:26.912Z"
      },
      {
        "duration": 60,
        "start_time": "2021-11-30T12:01:26.964Z"
      },
      {
        "duration": 59,
        "start_time": "2021-11-30T12:01:27.026Z"
      },
      {
        "duration": 403,
        "start_time": "2021-11-30T12:01:27.087Z"
      },
      {
        "duration": 360,
        "start_time": "2021-11-30T12:01:27.492Z"
      },
      {
        "duration": 33,
        "start_time": "2021-11-30T12:01:27.854Z"
      },
      {
        "duration": 77,
        "start_time": "2021-11-30T12:01:27.889Z"
      },
      {
        "duration": 53,
        "start_time": "2021-11-30T12:01:27.970Z"
      },
      {
        "duration": 3,
        "start_time": "2021-11-30T12:01:28.025Z"
      },
      {
        "duration": 85,
        "start_time": "2021-11-30T12:01:28.029Z"
      },
      {
        "duration": 7,
        "start_time": "2021-11-30T12:01:28.116Z"
      },
      {
        "duration": 92,
        "start_time": "2021-11-30T12:01:28.124Z"
      },
      {
        "duration": 542,
        "start_time": "2021-11-30T12:01:28.217Z"
      },
      {
        "duration": 167,
        "start_time": "2021-11-30T12:01:28.761Z"
      },
      {
        "duration": 1318,
        "start_time": "2021-11-30T12:01:28.930Z"
      },
      {
        "duration": 3,
        "start_time": "2021-11-30T12:01:30.250Z"
      },
      {
        "duration": 25,
        "start_time": "2021-11-30T12:01:30.255Z"
      },
      {
        "duration": 118,
        "start_time": "2021-11-30T12:01:30.282Z"
      },
      {
        "duration": 2,
        "start_time": "2021-11-30T12:01:30.402Z"
      },
      {
        "duration": 23154,
        "start_time": "2021-11-30T12:01:30.406Z"
      },
      {
        "duration": 21049,
        "start_time": "2021-11-30T12:02:04.804Z"
      },
      {
        "duration": 303,
        "start_time": "2021-11-30T13:20:32.718Z"
      },
      {
        "duration": 16296,
        "start_time": "2021-11-30T13:21:36.249Z"
      },
      {
        "duration": 333,
        "start_time": "2021-11-30T13:22:50.483Z"
      },
      {
        "duration": 64,
        "start_time": "2021-11-30T13:23:13.990Z"
      },
      {
        "duration": 1095,
        "start_time": "2021-11-30T13:28:24.831Z"
      },
      {
        "duration": 733,
        "start_time": "2021-11-30T13:28:25.928Z"
      },
      {
        "duration": 134,
        "start_time": "2021-11-30T13:28:26.663Z"
      },
      {
        "duration": 392,
        "start_time": "2021-11-30T13:28:26.799Z"
      },
      {
        "duration": 426,
        "start_time": "2021-11-30T13:28:27.193Z"
      },
      {
        "duration": 24,
        "start_time": "2021-11-30T13:28:27.621Z"
      },
      {
        "duration": 60,
        "start_time": "2021-11-30T13:28:27.647Z"
      },
      {
        "duration": 75,
        "start_time": "2021-11-30T13:28:27.710Z"
      },
      {
        "duration": 389,
        "start_time": "2021-11-30T13:28:27.787Z"
      },
      {
        "duration": 53,
        "start_time": "2021-11-30T13:28:28.178Z"
      },
      {
        "duration": 53,
        "start_time": "2021-11-30T13:28:28.245Z"
      },
      {
        "duration": 355,
        "start_time": "2021-11-30T13:28:28.300Z"
      },
      {
        "duration": 40,
        "start_time": "2021-11-30T13:28:28.657Z"
      },
      {
        "duration": 414,
        "start_time": "2021-11-30T13:28:28.699Z"
      },
      {
        "duration": 8,
        "start_time": "2021-11-30T13:28:29.115Z"
      },
      {
        "duration": 49,
        "start_time": "2021-11-30T13:28:29.125Z"
      },
      {
        "duration": 22,
        "start_time": "2021-11-30T13:28:29.175Z"
      },
      {
        "duration": 76,
        "start_time": "2021-11-30T13:28:29.199Z"
      },
      {
        "duration": 19,
        "start_time": "2021-11-30T13:28:29.277Z"
      },
      {
        "duration": 34,
        "start_time": "2021-11-30T13:28:29.297Z"
      },
      {
        "duration": 36,
        "start_time": "2021-11-30T13:28:29.333Z"
      },
      {
        "duration": 47,
        "start_time": "2021-11-30T13:28:29.371Z"
      },
      {
        "duration": 364,
        "start_time": "2021-11-30T13:28:29.422Z"
      },
      {
        "duration": 342,
        "start_time": "2021-11-30T13:28:29.788Z"
      },
      {
        "duration": 28,
        "start_time": "2021-11-30T13:28:30.132Z"
      },
      {
        "duration": 81,
        "start_time": "2021-11-30T13:28:30.161Z"
      },
      {
        "duration": 55,
        "start_time": "2021-11-30T13:28:30.244Z"
      },
      {
        "duration": 3,
        "start_time": "2021-11-30T13:28:30.301Z"
      },
      {
        "duration": 90,
        "start_time": "2021-11-30T13:28:30.306Z"
      },
      {
        "duration": 6,
        "start_time": "2021-11-30T13:28:30.398Z"
      },
      {
        "duration": 94,
        "start_time": "2021-11-30T13:28:30.405Z"
      },
      {
        "duration": 533,
        "start_time": "2021-11-30T13:28:30.501Z"
      },
      {
        "duration": 165,
        "start_time": "2021-11-30T13:28:31.035Z"
      },
      {
        "duration": 1073,
        "start_time": "2021-11-30T13:28:31.202Z"
      },
      {
        "duration": 3,
        "start_time": "2021-11-30T13:28:32.277Z"
      },
      {
        "duration": 48,
        "start_time": "2021-11-30T13:28:32.283Z"
      },
      {
        "duration": 118,
        "start_time": "2021-11-30T13:28:32.333Z"
      },
      {
        "duration": 2,
        "start_time": "2021-11-30T13:28:32.453Z"
      },
      {
        "duration": 14295,
        "start_time": "2021-11-30T13:28:32.457Z"
      },
      {
        "duration": 197,
        "start_time": "2021-11-30T13:28:46.754Z"
      },
      {
        "duration": 1078,
        "start_time": "2021-11-30T14:40:16.843Z"
      },
      {
        "duration": 774,
        "start_time": "2021-11-30T14:40:17.923Z"
      },
      {
        "duration": 138,
        "start_time": "2021-11-30T14:40:18.700Z"
      },
      {
        "duration": 412,
        "start_time": "2021-11-30T14:40:18.840Z"
      },
      {
        "duration": 544,
        "start_time": "2021-11-30T14:40:19.254Z"
      },
      {
        "duration": 18,
        "start_time": "2021-11-30T14:40:19.800Z"
      },
      {
        "duration": 77,
        "start_time": "2021-11-30T14:40:19.820Z"
      },
      {
        "duration": 101,
        "start_time": "2021-11-30T14:40:19.899Z"
      },
      {
        "duration": 428,
        "start_time": "2021-11-30T14:40:20.003Z"
      },
      {
        "duration": 60,
        "start_time": "2021-11-30T14:40:20.433Z"
      },
      {
        "duration": 63,
        "start_time": "2021-11-30T14:40:20.495Z"
      },
      {
        "duration": 370,
        "start_time": "2021-11-30T14:40:20.561Z"
      },
      {
        "duration": 46,
        "start_time": "2021-11-30T14:40:20.933Z"
      },
      {
        "duration": 433,
        "start_time": "2021-11-30T14:40:20.981Z"
      },
      {
        "duration": 8,
        "start_time": "2021-11-30T14:40:21.416Z"
      },
      {
        "duration": 72,
        "start_time": "2021-11-30T14:40:21.426Z"
      },
      {
        "duration": 24,
        "start_time": "2021-11-30T14:40:21.500Z"
      },
      {
        "duration": 98,
        "start_time": "2021-11-30T14:40:21.526Z"
      },
      {
        "duration": 44,
        "start_time": "2021-11-30T14:40:21.626Z"
      },
      {
        "duration": 42,
        "start_time": "2021-11-30T14:40:21.672Z"
      },
      {
        "duration": 44,
        "start_time": "2021-11-30T14:40:21.716Z"
      },
      {
        "duration": 59,
        "start_time": "2021-11-30T14:40:21.762Z"
      },
      {
        "duration": 379,
        "start_time": "2021-11-30T14:40:21.823Z"
      },
      {
        "duration": 355,
        "start_time": "2021-11-30T14:40:22.204Z"
      },
      {
        "duration": 31,
        "start_time": "2021-11-30T14:40:22.561Z"
      },
      {
        "duration": 79,
        "start_time": "2021-11-30T14:40:22.594Z"
      },
      {
        "duration": 56,
        "start_time": "2021-11-30T14:40:22.676Z"
      },
      {
        "duration": 11,
        "start_time": "2021-11-30T14:40:22.734Z"
      },
      {
        "duration": 93,
        "start_time": "2021-11-30T14:40:22.747Z"
      },
      {
        "duration": 8,
        "start_time": "2021-11-30T14:40:22.841Z"
      },
      {
        "duration": 102,
        "start_time": "2021-11-30T14:40:22.851Z"
      },
      {
        "duration": 505,
        "start_time": "2021-11-30T14:40:22.955Z"
      },
      {
        "duration": 167,
        "start_time": "2021-11-30T14:40:23.462Z"
      },
      {
        "duration": 1047,
        "start_time": "2021-11-30T14:40:23.631Z"
      },
      {
        "duration": 3,
        "start_time": "2021-11-30T14:40:24.680Z"
      },
      {
        "duration": 44,
        "start_time": "2021-11-30T14:40:24.685Z"
      },
      {
        "duration": 128,
        "start_time": "2021-11-30T14:40:24.731Z"
      },
      {
        "duration": 2,
        "start_time": "2021-11-30T14:40:24.861Z"
      },
      {
        "duration": 14987,
        "start_time": "2021-11-30T14:40:24.865Z"
      },
      {
        "duration": 199,
        "start_time": "2021-11-30T14:40:40.147Z"
      },
      {
        "duration": 395,
        "start_time": "2021-11-30T14:45:21.216Z"
      },
      {
        "duration": 1310,
        "start_time": "2021-11-30T14:45:33.023Z"
      },
      {
        "duration": 1009,
        "start_time": "2021-11-30T14:45:34.335Z"
      },
      {
        "duration": 138,
        "start_time": "2021-11-30T14:45:35.346Z"
      },
      {
        "duration": 432,
        "start_time": "2021-11-30T14:45:35.485Z"
      },
      {
        "duration": 469,
        "start_time": "2021-11-30T14:45:35.919Z"
      },
      {
        "duration": 19,
        "start_time": "2021-11-30T14:45:36.389Z"
      },
      {
        "duration": 79,
        "start_time": "2021-11-30T14:45:36.410Z"
      },
      {
        "duration": 86,
        "start_time": "2021-11-30T14:45:36.492Z"
      },
      {
        "duration": 403,
        "start_time": "2021-11-30T14:45:36.580Z"
      },
      {
        "duration": 66,
        "start_time": "2021-11-30T14:45:36.984Z"
      },
      {
        "duration": 56,
        "start_time": "2021-11-30T14:45:37.052Z"
      },
      {
        "duration": 362,
        "start_time": "2021-11-30T14:45:37.109Z"
      },
      {
        "duration": 45,
        "start_time": "2021-11-30T14:45:37.473Z"
      },
      {
        "duration": 431,
        "start_time": "2021-11-30T14:45:37.519Z"
      },
      {
        "duration": 10,
        "start_time": "2021-11-30T14:45:37.952Z"
      },
      {
        "duration": 54,
        "start_time": "2021-11-30T14:45:37.964Z"
      },
      {
        "duration": 34,
        "start_time": "2021-11-30T14:45:38.021Z"
      },
      {
        "duration": 67,
        "start_time": "2021-11-30T14:45:38.057Z"
      },
      {
        "duration": 25,
        "start_time": "2021-11-30T14:45:38.126Z"
      },
      {
        "duration": 45,
        "start_time": "2021-11-30T14:45:38.153Z"
      },
      {
        "duration": 40,
        "start_time": "2021-11-30T14:45:38.200Z"
      },
      {
        "duration": 52,
        "start_time": "2021-11-30T14:45:38.242Z"
      },
      {
        "duration": 381,
        "start_time": "2021-11-30T14:45:38.297Z"
      },
      {
        "duration": 343,
        "start_time": "2021-11-30T14:45:38.680Z"
      },
      {
        "duration": 31,
        "start_time": "2021-11-30T14:45:39.025Z"
      },
      {
        "duration": 72,
        "start_time": "2021-11-30T14:45:39.058Z"
      },
      {
        "duration": 53,
        "start_time": "2021-11-30T14:45:39.132Z"
      },
      {
        "duration": 57,
        "start_time": "2021-11-30T14:45:39.186Z"
      },
      {
        "duration": 91,
        "start_time": "2021-11-30T14:45:39.244Z"
      },
      {
        "duration": 7,
        "start_time": "2021-11-30T14:45:39.337Z"
      },
      {
        "duration": 104,
        "start_time": "2021-11-30T14:45:39.345Z"
      },
      {
        "duration": 538,
        "start_time": "2021-11-30T14:45:39.451Z"
      },
      {
        "duration": 171,
        "start_time": "2021-11-30T14:45:39.991Z"
      },
      {
        "duration": 1163,
        "start_time": "2021-11-30T14:45:40.164Z"
      },
      {
        "duration": 3,
        "start_time": "2021-11-30T14:45:41.328Z"
      },
      {
        "duration": 47,
        "start_time": "2021-11-30T14:45:41.332Z"
      },
      {
        "duration": 269,
        "start_time": "2021-11-30T14:45:41.381Z"
      },
      {
        "duration": 439,
        "start_time": "2021-11-30T14:45:41.652Z"
      },
      {
        "duration": -11,
        "start_time": "2021-11-30T14:45:42.104Z"
      },
      {
        "duration": -13,
        "start_time": "2021-11-30T14:45:42.107Z"
      },
      {
        "duration": -18,
        "start_time": "2021-11-30T14:45:42.113Z"
      },
      {
        "duration": 3,
        "start_time": "2021-11-30T14:45:53.792Z"
      },
      {
        "duration": 15485,
        "start_time": "2021-11-30T14:45:55.266Z"
      },
      {
        "duration": 200,
        "start_time": "2021-11-30T14:46:10.754Z"
      },
      {
        "duration": 3,
        "start_time": "2021-11-30T15:09:10.196Z"
      },
      {
        "duration": 82598,
        "start_time": "2021-11-30T15:11:18.174Z"
      },
      {
        "duration": 95,
        "start_time": "2021-11-30T15:13:09.243Z"
      },
      {
        "duration": 82687,
        "start_time": "2021-11-30T15:13:28.038Z"
      },
      {
        "duration": 101,
        "start_time": "2021-11-30T15:14:50.727Z"
      },
      {
        "duration": 119,
        "start_time": "2021-11-30T15:28:17.645Z"
      },
      {
        "duration": 3,
        "start_time": "2021-11-30T15:44:19.586Z"
      },
      {
        "duration": 1063,
        "start_time": "2021-11-30T15:44:53.098Z"
      },
      {
        "duration": 784,
        "start_time": "2021-11-30T15:44:54.163Z"
      },
      {
        "duration": 132,
        "start_time": "2021-11-30T15:44:54.949Z"
      },
      {
        "duration": 462,
        "start_time": "2021-11-30T15:44:55.082Z"
      },
      {
        "duration": 445,
        "start_time": "2021-11-30T15:44:55.546Z"
      },
      {
        "duration": 16,
        "start_time": "2021-11-30T15:44:55.993Z"
      },
      {
        "duration": 71,
        "start_time": "2021-11-30T15:44:56.010Z"
      },
      {
        "duration": 67,
        "start_time": "2021-11-30T15:44:56.084Z"
      },
      {
        "duration": 401,
        "start_time": "2021-11-30T15:44:56.153Z"
      },
      {
        "duration": 53,
        "start_time": "2021-11-30T15:44:56.555Z"
      },
      {
        "duration": 63,
        "start_time": "2021-11-30T15:44:56.609Z"
      },
      {
        "duration": 355,
        "start_time": "2021-11-30T15:44:56.674Z"
      },
      {
        "duration": 45,
        "start_time": "2021-11-30T15:44:57.030Z"
      },
      {
        "duration": 432,
        "start_time": "2021-11-30T15:44:57.076Z"
      },
      {
        "duration": 7,
        "start_time": "2021-11-30T15:44:57.510Z"
      },
      {
        "duration": 49,
        "start_time": "2021-11-30T15:44:57.519Z"
      },
      {
        "duration": 23,
        "start_time": "2021-11-30T15:44:57.569Z"
      },
      {
        "duration": 73,
        "start_time": "2021-11-30T15:44:57.594Z"
      },
      {
        "duration": 15,
        "start_time": "2021-11-30T15:44:57.668Z"
      },
      {
        "duration": 14,
        "start_time": "2021-11-30T15:44:57.685Z"
      },
      {
        "duration": 16,
        "start_time": "2021-11-30T15:44:57.701Z"
      },
      {
        "duration": 50,
        "start_time": "2021-11-30T15:44:57.719Z"
      },
      {
        "duration": 351,
        "start_time": "2021-11-30T15:44:57.770Z"
      },
      {
        "duration": 340,
        "start_time": "2021-11-30T15:44:58.123Z"
      },
      {
        "duration": 25,
        "start_time": "2021-11-30T15:44:58.464Z"
      },
      {
        "duration": 69,
        "start_time": "2021-11-30T15:44:58.493Z"
      },
      {
        "duration": 53,
        "start_time": "2021-11-30T15:44:58.563Z"
      },
      {
        "duration": 2,
        "start_time": "2021-11-30T15:44:58.617Z"
      },
      {
        "duration": 87,
        "start_time": "2021-11-30T15:44:58.621Z"
      },
      {
        "duration": 6,
        "start_time": "2021-11-30T15:44:58.710Z"
      },
      {
        "duration": 74,
        "start_time": "2021-11-30T15:44:58.718Z"
      },
      {
        "duration": 452,
        "start_time": "2021-11-30T15:44:58.794Z"
      },
      {
        "duration": 158,
        "start_time": "2021-11-30T15:44:59.248Z"
      },
      {
        "duration": 1043,
        "start_time": "2021-11-30T15:44:59.408Z"
      },
      {
        "duration": 2,
        "start_time": "2021-11-30T15:45:00.453Z"
      },
      {
        "duration": 23,
        "start_time": "2021-11-30T15:45:00.456Z"
      },
      {
        "duration": 112,
        "start_time": "2021-11-30T15:45:00.480Z"
      },
      {
        "duration": 2,
        "start_time": "2021-11-30T15:45:00.594Z"
      },
      {
        "duration": 15254,
        "start_time": "2021-11-30T15:45:00.598Z"
      },
      {
        "duration": 296,
        "start_time": "2021-11-30T15:45:15.854Z"
      },
      {
        "duration": 3,
        "start_time": "2021-11-30T15:45:16.152Z"
      },
      {
        "duration": 1118,
        "start_time": "2021-11-30T15:46:11.309Z"
      },
      {
        "duration": 742,
        "start_time": "2021-11-30T15:46:12.429Z"
      },
      {
        "duration": 135,
        "start_time": "2021-11-30T15:46:13.173Z"
      },
      {
        "duration": 404,
        "start_time": "2021-11-30T15:46:13.309Z"
      },
      {
        "duration": 429,
        "start_time": "2021-11-30T15:46:13.715Z"
      },
      {
        "duration": 17,
        "start_time": "2021-11-30T15:46:14.146Z"
      },
      {
        "duration": 67,
        "start_time": "2021-11-30T15:46:14.164Z"
      },
      {
        "duration": 74,
        "start_time": "2021-11-30T15:46:14.232Z"
      },
      {
        "duration": 417,
        "start_time": "2021-11-30T15:46:14.308Z"
      },
      {
        "duration": 63,
        "start_time": "2021-11-30T15:46:14.727Z"
      },
      {
        "duration": 57,
        "start_time": "2021-11-30T15:46:14.792Z"
      },
      {
        "duration": 351,
        "start_time": "2021-11-30T15:46:14.851Z"
      },
      {
        "duration": 50,
        "start_time": "2021-11-30T15:46:15.204Z"
      },
      {
        "duration": 433,
        "start_time": "2021-11-30T15:46:15.256Z"
      },
      {
        "duration": 10,
        "start_time": "2021-11-30T15:46:15.690Z"
      },
      {
        "duration": 55,
        "start_time": "2021-11-30T15:46:15.701Z"
      },
      {
        "duration": 23,
        "start_time": "2021-11-30T15:46:15.758Z"
      },
      {
        "duration": 74,
        "start_time": "2021-11-30T15:46:15.784Z"
      },
      {
        "duration": 16,
        "start_time": "2021-11-30T15:46:15.860Z"
      },
      {
        "duration": 16,
        "start_time": "2021-11-30T15:46:15.878Z"
      },
      {
        "duration": 17,
        "start_time": "2021-11-30T15:46:15.896Z"
      },
      {
        "duration": 51,
        "start_time": "2021-11-30T15:46:15.914Z"
      },
      {
        "duration": 348,
        "start_time": "2021-11-30T15:46:15.967Z"
      },
      {
        "duration": 329,
        "start_time": "2021-11-30T15:46:16.317Z"
      },
      {
        "duration": 26,
        "start_time": "2021-11-30T15:46:16.648Z"
      },
      {
        "duration": 69,
        "start_time": "2021-11-30T15:46:16.676Z"
      },
      {
        "duration": 53,
        "start_time": "2021-11-30T15:46:16.749Z"
      },
      {
        "duration": 3,
        "start_time": "2021-11-30T15:46:16.803Z"
      },
      {
        "duration": 85,
        "start_time": "2021-11-30T15:46:16.808Z"
      },
      {
        "duration": 6,
        "start_time": "2021-11-30T15:46:16.895Z"
      },
      {
        "duration": 85,
        "start_time": "2021-11-30T15:46:16.903Z"
      },
      {
        "duration": 494,
        "start_time": "2021-11-30T15:46:16.989Z"
      },
      {
        "duration": 165,
        "start_time": "2021-11-30T15:46:17.485Z"
      },
      {
        "duration": 1027,
        "start_time": "2021-11-30T15:46:17.652Z"
      },
      {
        "duration": 2,
        "start_time": "2021-11-30T15:46:18.681Z"
      },
      {
        "duration": 15,
        "start_time": "2021-11-30T15:46:18.684Z"
      },
      {
        "duration": 120,
        "start_time": "2021-11-30T15:46:18.700Z"
      },
      {
        "duration": 3,
        "start_time": "2021-11-30T15:46:18.821Z"
      },
      {
        "duration": 15723,
        "start_time": "2021-11-30T15:46:18.825Z"
      },
      {
        "duration": 125,
        "start_time": "2021-11-30T15:46:34.550Z"
      },
      {
        "duration": 4,
        "start_time": "2021-11-30T15:46:34.748Z"
      },
      {
        "duration": 83673,
        "start_time": "2021-11-30T15:46:34.756Z"
      },
      {
        "duration": 103,
        "start_time": "2021-11-30T15:47:58.431Z"
      },
      {
        "duration": 9,
        "start_time": "2021-11-30T15:47:58.536Z"
      },
      {
        "duration": 1193,
        "start_time": "2021-11-30T16:19:30.437Z"
      },
      {
        "duration": 747,
        "start_time": "2021-11-30T16:19:31.632Z"
      },
      {
        "duration": 129,
        "start_time": "2021-11-30T16:19:32.381Z"
      },
      {
        "duration": 409,
        "start_time": "2021-11-30T16:19:32.512Z"
      },
      {
        "duration": 436,
        "start_time": "2021-11-30T16:19:32.922Z"
      },
      {
        "duration": 19,
        "start_time": "2021-11-30T16:19:33.360Z"
      },
      {
        "duration": 74,
        "start_time": "2021-11-30T16:19:33.381Z"
      },
      {
        "duration": 73,
        "start_time": "2021-11-30T16:19:33.457Z"
      },
      {
        "duration": 399,
        "start_time": "2021-11-30T16:19:33.532Z"
      },
      {
        "duration": 62,
        "start_time": "2021-11-30T16:19:33.934Z"
      },
      {
        "duration": 65,
        "start_time": "2021-11-30T16:19:33.998Z"
      },
      {
        "duration": 363,
        "start_time": "2021-11-30T16:19:34.065Z"
      },
      {
        "duration": 55,
        "start_time": "2021-11-30T16:19:34.431Z"
      },
      {
        "duration": 418,
        "start_time": "2021-11-30T16:19:34.488Z"
      },
      {
        "duration": 9,
        "start_time": "2021-11-30T16:19:34.908Z"
      },
      {
        "duration": 55,
        "start_time": "2021-11-30T16:19:34.918Z"
      },
      {
        "duration": 23,
        "start_time": "2021-11-30T16:19:34.974Z"
      },
      {
        "duration": 73,
        "start_time": "2021-11-30T16:19:34.999Z"
      },
      {
        "duration": 17,
        "start_time": "2021-11-30T16:19:35.074Z"
      },
      {
        "duration": 17,
        "start_time": "2021-11-30T16:19:35.093Z"
      },
      {
        "duration": 33,
        "start_time": "2021-11-30T16:19:35.111Z"
      },
      {
        "duration": 31,
        "start_time": "2021-11-30T16:19:35.146Z"
      },
      {
        "duration": 364,
        "start_time": "2021-11-30T16:19:35.178Z"
      },
      {
        "duration": 340,
        "start_time": "2021-11-30T16:19:35.544Z"
      },
      {
        "duration": 26,
        "start_time": "2021-11-30T16:19:35.885Z"
      },
      {
        "duration": 63,
        "start_time": "2021-11-30T16:19:35.913Z"
      },
      {
        "duration": 67,
        "start_time": "2021-11-30T16:19:35.979Z"
      },
      {
        "duration": 3,
        "start_time": "2021-11-30T16:19:36.048Z"
      },
      {
        "duration": 76,
        "start_time": "2021-11-30T16:19:36.053Z"
      },
      {
        "duration": 18,
        "start_time": "2021-11-30T16:19:36.131Z"
      },
      {
        "duration": 99,
        "start_time": "2021-11-30T16:19:36.151Z"
      },
      {
        "duration": 471,
        "start_time": "2021-11-30T16:19:36.252Z"
      },
      {
        "duration": 160,
        "start_time": "2021-11-30T16:19:36.725Z"
      },
      {
        "duration": 1049,
        "start_time": "2021-11-30T16:19:36.886Z"
      },
      {
        "duration": 2,
        "start_time": "2021-11-30T16:19:37.937Z"
      },
      {
        "duration": 25,
        "start_time": "2021-11-30T16:19:37.943Z"
      },
      {
        "duration": 112,
        "start_time": "2021-11-30T16:19:37.970Z"
      },
      {
        "duration": 3,
        "start_time": "2021-11-30T16:19:38.084Z"
      },
      {
        "duration": 15566,
        "start_time": "2021-11-30T16:19:38.088Z"
      },
      {
        "duration": 123,
        "start_time": "2021-11-30T16:19:53.746Z"
      },
      {
        "duration": 4,
        "start_time": "2021-11-30T16:19:53.945Z"
      },
      {
        "duration": 81925,
        "start_time": "2021-11-30T16:19:53.952Z"
      },
      {
        "duration": 105,
        "start_time": "2021-11-30T16:21:15.878Z"
      },
      {
        "duration": 2,
        "start_time": "2021-11-30T16:21:15.985Z"
      },
      {
        "duration": 1172,
        "start_time": "2021-11-30T18:26:57.142Z"
      },
      {
        "duration": 765,
        "start_time": "2021-11-30T18:26:58.316Z"
      },
      {
        "duration": 131,
        "start_time": "2021-11-30T18:26:59.083Z"
      },
      {
        "duration": 545,
        "start_time": "2021-11-30T18:26:59.216Z"
      },
      {
        "duration": 487,
        "start_time": "2021-11-30T18:26:59.762Z"
      },
      {
        "duration": 17,
        "start_time": "2021-11-30T18:27:00.251Z"
      },
      {
        "duration": 76,
        "start_time": "2021-11-30T18:27:00.270Z"
      },
      {
        "duration": 75,
        "start_time": "2021-11-30T18:27:00.349Z"
      },
      {
        "duration": 497,
        "start_time": "2021-11-30T18:27:00.426Z"
      },
      {
        "duration": 68,
        "start_time": "2021-11-30T18:27:00.925Z"
      },
      {
        "duration": 61,
        "start_time": "2021-11-30T18:27:00.995Z"
      },
      {
        "duration": 349,
        "start_time": "2021-11-30T18:27:01.057Z"
      },
      {
        "duration": 61,
        "start_time": "2021-11-30T18:27:01.408Z"
      },
      {
        "duration": 418,
        "start_time": "2021-11-30T18:27:01.470Z"
      },
      {
        "duration": 8,
        "start_time": "2021-11-30T18:27:01.890Z"
      },
      {
        "duration": 54,
        "start_time": "2021-11-30T18:27:01.900Z"
      },
      {
        "duration": 25,
        "start_time": "2021-11-30T18:27:01.956Z"
      },
      {
        "duration": 73,
        "start_time": "2021-11-30T18:27:01.983Z"
      },
      {
        "duration": 27,
        "start_time": "2021-11-30T18:27:02.057Z"
      },
      {
        "duration": 36,
        "start_time": "2021-11-30T18:27:02.086Z"
      },
      {
        "duration": 38,
        "start_time": "2021-11-30T18:27:02.124Z"
      },
      {
        "duration": 62,
        "start_time": "2021-11-30T18:27:02.164Z"
      },
      {
        "duration": 347,
        "start_time": "2021-11-30T18:27:02.230Z"
      },
      {
        "duration": 338,
        "start_time": "2021-11-30T18:27:02.579Z"
      },
      {
        "duration": 29,
        "start_time": "2021-11-30T18:27:02.919Z"
      },
      {
        "duration": 77,
        "start_time": "2021-11-30T18:27:02.950Z"
      },
      {
        "duration": 51,
        "start_time": "2021-11-30T18:27:03.029Z"
      },
      {
        "duration": 2,
        "start_time": "2021-11-30T18:27:03.082Z"
      },
      {
        "duration": 20,
        "start_time": "2021-11-30T18:27:03.086Z"
      },
      {
        "duration": 25,
        "start_time": "2021-11-30T18:27:03.108Z"
      },
      {
        "duration": 102,
        "start_time": "2021-11-30T18:27:03.135Z"
      },
      {
        "duration": 545,
        "start_time": "2021-11-30T18:27:03.238Z"
      },
      {
        "duration": 166,
        "start_time": "2021-11-30T18:27:03.785Z"
      },
      {
        "duration": 1030,
        "start_time": "2021-11-30T18:27:03.952Z"
      },
      {
        "duration": 2,
        "start_time": "2021-11-30T18:27:04.984Z"
      },
      {
        "duration": 21,
        "start_time": "2021-11-30T18:27:04.987Z"
      },
      {
        "duration": 121,
        "start_time": "2021-11-30T18:27:05.010Z"
      },
      {
        "duration": 3,
        "start_time": "2021-11-30T18:27:05.132Z"
      },
      {
        "duration": 15818,
        "start_time": "2021-11-30T18:27:05.136Z"
      },
      {
        "duration": 199,
        "start_time": "2021-11-30T18:27:20.956Z"
      },
      {
        "duration": 88,
        "start_time": "2021-11-30T18:27:21.157Z"
      },
      {
        "duration": 81598,
        "start_time": "2021-11-30T18:27:21.248Z"
      },
      {
        "duration": 105,
        "start_time": "2021-11-30T18:28:42.848Z"
      },
      {
        "duration": 3,
        "start_time": "2021-11-30T18:28:42.954Z"
      },
      {
        "duration": 27750,
        "start_time": "2021-11-30T18:28:42.958Z"
      },
      {
        "duration": 3,
        "start_time": "2021-11-30T18:40:56.360Z"
      },
      {
        "duration": 67089,
        "start_time": "2021-11-30T18:49:14.097Z"
      },
      {
        "duration": 3,
        "start_time": "2021-11-30T18:50:21.188Z"
      },
      {
        "duration": 3,
        "start_time": "2021-11-30T18:53:26.829Z"
      },
      {
        "duration": 264,
        "start_time": "2021-11-30T18:53:28.939Z"
      },
      {
        "duration": 230,
        "start_time": "2021-11-30T18:53:57.280Z"
      },
      {
        "duration": 182,
        "start_time": "2021-11-30T18:54:06.186Z"
      },
      {
        "duration": 191,
        "start_time": "2021-11-30T18:54:13.726Z"
      },
      {
        "duration": 211,
        "start_time": "2021-11-30T18:54:47.766Z"
      },
      {
        "duration": 252,
        "start_time": "2021-11-30T18:55:02.125Z"
      },
      {
        "duration": 186,
        "start_time": "2021-11-30T18:55:40.971Z"
      },
      {
        "duration": 422,
        "start_time": "2021-11-30T18:57:35.866Z"
      },
      {
        "duration": 225,
        "start_time": "2021-11-30T18:58:14.404Z"
      },
      {
        "duration": 182,
        "start_time": "2021-11-30T18:58:18.629Z"
      },
      {
        "duration": 775,
        "start_time": "2021-11-30T19:00:50.583Z"
      },
      {
        "duration": 213,
        "start_time": "2021-11-30T19:01:01.614Z"
      },
      {
        "duration": 182,
        "start_time": "2021-11-30T19:01:16.466Z"
      },
      {
        "duration": 196,
        "start_time": "2021-11-30T19:01:27.282Z"
      },
      {
        "duration": 187,
        "start_time": "2021-11-30T19:10:10.594Z"
      },
      {
        "duration": 7516,
        "start_time": "2021-11-30T19:10:22.946Z"
      },
      {
        "duration": 232,
        "start_time": "2021-11-30T19:11:44.747Z"
      },
      {
        "duration": 97,
        "start_time": "2021-11-30T19:12:38.618Z"
      },
      {
        "duration": 87,
        "start_time": "2021-11-30T19:12:50.637Z"
      },
      {
        "duration": 306464,
        "start_time": "2021-11-30T19:12:56.134Z"
      },
      {
        "duration": 332,
        "start_time": "2021-11-30T19:24:34.623Z"
      },
      {
        "duration": 3,
        "start_time": "2021-11-30T19:27:31.939Z"
      },
      {
        "duration": 77,
        "start_time": "2021-11-30T19:28:02.869Z"
      },
      {
        "duration": 7,
        "start_time": "2021-11-30T19:28:36.307Z"
      },
      {
        "duration": 75,
        "start_time": "2021-11-30T19:28:53.631Z"
      },
      {
        "duration": 7,
        "start_time": "2021-11-30T19:31:52.182Z"
      },
      {
        "duration": 12,
        "start_time": "2021-11-30T19:32:24.033Z"
      },
      {
        "duration": 2,
        "start_time": "2021-11-30T19:32:50.156Z"
      },
      {
        "duration": 9,
        "start_time": "2021-11-30T19:32:51.450Z"
      },
      {
        "duration": 70,
        "start_time": "2021-11-30T19:32:52.803Z"
      },
      {
        "duration": 5915,
        "start_time": "2021-11-30T19:34:13.842Z"
      },
      {
        "duration": 474,
        "start_time": "2021-11-30T19:35:31.686Z"
      },
      {
        "duration": 1049,
        "start_time": "2021-11-30T19:35:46.868Z"
      },
      {
        "duration": 752,
        "start_time": "2021-11-30T19:35:47.919Z"
      },
      {
        "duration": 130,
        "start_time": "2021-11-30T19:35:48.674Z"
      },
      {
        "duration": 424,
        "start_time": "2021-11-30T19:35:48.806Z"
      },
      {
        "duration": 450,
        "start_time": "2021-11-30T19:35:49.232Z"
      },
      {
        "duration": 17,
        "start_time": "2021-11-30T19:35:49.684Z"
      },
      {
        "duration": 71,
        "start_time": "2021-11-30T19:35:49.703Z"
      },
      {
        "duration": 72,
        "start_time": "2021-11-30T19:35:49.777Z"
      },
      {
        "duration": 399,
        "start_time": "2021-11-30T19:35:49.851Z"
      },
      {
        "duration": 59,
        "start_time": "2021-11-30T19:35:50.252Z"
      },
      {
        "duration": 71,
        "start_time": "2021-11-30T19:35:50.313Z"
      },
      {
        "duration": 342,
        "start_time": "2021-11-30T19:35:50.385Z"
      },
      {
        "duration": 47,
        "start_time": "2021-11-30T19:35:50.729Z"
      },
      {
        "duration": 415,
        "start_time": "2021-11-30T19:35:50.777Z"
      },
      {
        "duration": 9,
        "start_time": "2021-11-30T19:35:51.193Z"
      },
      {
        "duration": 59,
        "start_time": "2021-11-30T19:35:51.204Z"
      },
      {
        "duration": 26,
        "start_time": "2021-11-30T19:35:51.265Z"
      },
      {
        "duration": 76,
        "start_time": "2021-11-30T19:35:51.293Z"
      },
      {
        "duration": 15,
        "start_time": "2021-11-30T19:35:51.371Z"
      },
      {
        "duration": 16,
        "start_time": "2021-11-30T19:35:51.388Z"
      },
      {
        "duration": 17,
        "start_time": "2021-11-30T19:35:51.406Z"
      },
      {
        "duration": 50,
        "start_time": "2021-11-30T19:35:51.424Z"
      },
      {
        "duration": 360,
        "start_time": "2021-11-30T19:35:51.477Z"
      },
      {
        "duration": 341,
        "start_time": "2021-11-30T19:35:51.839Z"
      },
      {
        "duration": 29,
        "start_time": "2021-11-30T19:35:52.182Z"
      },
      {
        "duration": 71,
        "start_time": "2021-11-30T19:35:52.212Z"
      },
      {
        "duration": 60,
        "start_time": "2021-11-30T19:35:52.285Z"
      },
      {
        "duration": 3,
        "start_time": "2021-11-30T19:35:52.346Z"
      },
      {
        "duration": 15,
        "start_time": "2021-11-30T19:35:52.350Z"
      },
      {
        "duration": 119,
        "start_time": "2021-11-30T19:35:52.367Z"
      },
      {
        "duration": 547,
        "start_time": "2021-11-30T19:35:52.487Z"
      },
      {
        "duration": 166,
        "start_time": "2021-11-30T19:35:53.036Z"
      },
      {
        "duration": 1124,
        "start_time": "2021-11-30T19:35:53.204Z"
      },
      {
        "duration": 3,
        "start_time": "2021-11-30T19:35:54.330Z"
      },
      {
        "duration": 22,
        "start_time": "2021-11-30T19:35:54.335Z"
      },
      {
        "duration": 124,
        "start_time": "2021-11-30T19:35:54.359Z"
      },
      {
        "duration": 2,
        "start_time": "2021-11-30T19:35:54.485Z"
      },
      {
        "duration": 14566,
        "start_time": "2021-11-30T19:35:54.489Z"
      },
      {
        "duration": 114,
        "start_time": "2021-11-30T19:36:09.145Z"
      },
      {
        "duration": 2,
        "start_time": "2021-11-30T19:36:09.345Z"
      },
      {
        "duration": 79932,
        "start_time": "2021-11-30T19:36:09.350Z"
      },
      {
        "duration": 101,
        "start_time": "2021-11-30T19:37:29.284Z"
      },
      {
        "duration": 3,
        "start_time": "2021-11-30T19:37:29.387Z"
      },
      {
        "duration": 1119,
        "start_time": "2021-11-30T19:41:20.838Z"
      },
      {
        "duration": 824,
        "start_time": "2021-11-30T19:41:21.958Z"
      },
      {
        "duration": 133,
        "start_time": "2021-11-30T19:41:22.784Z"
      },
      {
        "duration": 432,
        "start_time": "2021-11-30T19:41:22.919Z"
      },
      {
        "duration": 465,
        "start_time": "2021-11-30T19:41:23.352Z"
      },
      {
        "duration": 17,
        "start_time": "2021-11-30T19:41:23.818Z"
      },
      {
        "duration": 68,
        "start_time": "2021-11-30T19:41:23.836Z"
      },
      {
        "duration": 80,
        "start_time": "2021-11-30T19:41:23.907Z"
      },
      {
        "duration": 410,
        "start_time": "2021-11-30T19:41:23.989Z"
      },
      {
        "duration": 68,
        "start_time": "2021-11-30T19:41:24.401Z"
      },
      {
        "duration": 56,
        "start_time": "2021-11-30T19:41:24.471Z"
      },
      {
        "duration": 365,
        "start_time": "2021-11-30T19:41:24.529Z"
      },
      {
        "duration": 58,
        "start_time": "2021-11-30T19:41:24.896Z"
      },
      {
        "duration": 426,
        "start_time": "2021-11-30T19:41:24.956Z"
      },
      {
        "duration": 8,
        "start_time": "2021-11-30T19:41:25.384Z"
      },
      {
        "duration": 59,
        "start_time": "2021-11-30T19:41:25.394Z"
      },
      {
        "duration": 24,
        "start_time": "2021-11-30T19:41:25.454Z"
      },
      {
        "duration": 71,
        "start_time": "2021-11-30T19:41:25.479Z"
      },
      {
        "duration": 17,
        "start_time": "2021-11-30T19:41:25.552Z"
      },
      {
        "duration": 18,
        "start_time": "2021-11-30T19:41:25.571Z"
      },
      {
        "duration": 18,
        "start_time": "2021-11-30T19:41:25.591Z"
      },
      {
        "duration": 61,
        "start_time": "2021-11-30T19:41:25.611Z"
      },
      {
        "duration": 375,
        "start_time": "2021-11-30T19:41:25.676Z"
      },
      {
        "duration": 335,
        "start_time": "2021-11-30T19:41:26.053Z"
      },
      {
        "duration": 27,
        "start_time": "2021-11-30T19:41:26.389Z"
      },
      {
        "duration": 64,
        "start_time": "2021-11-30T19:41:26.417Z"
      },
      {
        "duration": 62,
        "start_time": "2021-11-30T19:41:26.483Z"
      },
      {
        "duration": 3,
        "start_time": "2021-11-30T19:41:26.547Z"
      },
      {
        "duration": 17,
        "start_time": "2021-11-30T19:41:26.552Z"
      },
      {
        "duration": 112,
        "start_time": "2021-11-30T19:41:26.571Z"
      },
      {
        "duration": 566,
        "start_time": "2021-11-30T19:41:26.685Z"
      },
      {
        "duration": 164,
        "start_time": "2021-11-30T19:41:27.253Z"
      },
      {
        "duration": 1076,
        "start_time": "2021-11-30T19:41:27.419Z"
      },
      {
        "duration": 3,
        "start_time": "2021-11-30T19:41:28.497Z"
      },
      {
        "duration": 19,
        "start_time": "2021-11-30T19:41:28.501Z"
      },
      {
        "duration": 127,
        "start_time": "2021-11-30T19:41:28.522Z"
      },
      {
        "duration": 3,
        "start_time": "2021-11-30T19:41:28.650Z"
      },
      {
        "duration": 15492,
        "start_time": "2021-11-30T19:41:28.654Z"
      },
      {
        "duration": 199,
        "start_time": "2021-11-30T19:41:44.148Z"
      },
      {
        "duration": 93,
        "start_time": "2021-11-30T19:41:44.350Z"
      },
      {
        "duration": 83234,
        "start_time": "2021-11-30T19:41:44.446Z"
      },
      {
        "duration": 107,
        "start_time": "2021-11-30T19:43:07.683Z"
      },
      {
        "duration": 3,
        "start_time": "2021-11-30T19:43:07.793Z"
      },
      {
        "duration": 307194,
        "start_time": "2021-11-30T19:43:07.798Z"
      },
      {
        "duration": 361,
        "start_time": "2021-11-30T19:48:14.994Z"
      },
      {
        "duration": 3,
        "start_time": "2021-11-30T19:48:15.357Z"
      },
      {
        "duration": 126,
        "start_time": "2021-11-30T19:48:15.362Z"
      },
      {
        "duration": 7064,
        "start_time": "2021-11-30T19:48:15.490Z"
      },
      {
        "duration": 601,
        "start_time": "2021-11-30T19:48:22.556Z"
      },
      {
        "duration": 4,
        "start_time": "2021-11-30T20:01:29.818Z"
      },
      {
        "duration": 3,
        "start_time": "2021-11-30T20:01:34.063Z"
      },
      {
        "duration": 66,
        "start_time": "2021-11-30T20:01:42.387Z"
      },
      {
        "duration": 90,
        "start_time": "2021-11-30T20:04:55.755Z"
      },
      {
        "duration": 293,
        "start_time": "2021-11-30T20:06:23.859Z"
      },
      {
        "duration": 508,
        "start_time": "2021-11-30T20:08:04.571Z"
      },
      {
        "duration": 4,
        "start_time": "2021-11-30T20:23:31.719Z"
      },
      {
        "duration": 1303,
        "start_time": "2021-12-02T15:00:03.949Z"
      },
      {
        "duration": 188,
        "start_time": "2022-02-06T13:33:34.234Z"
      },
      {
        "duration": 1031,
        "start_time": "2022-03-11T06:10:18.179Z"
      },
      {
        "duration": 756,
        "start_time": "2022-03-11T06:10:19.211Z"
      },
      {
        "duration": 136,
        "start_time": "2022-03-11T06:10:19.969Z"
      },
      {
        "duration": 420,
        "start_time": "2022-03-11T06:10:20.107Z"
      },
      {
        "duration": 440,
        "start_time": "2022-03-11T06:10:20.529Z"
      },
      {
        "duration": 17,
        "start_time": "2022-03-11T06:10:20.970Z"
      },
      {
        "duration": 74,
        "start_time": "2022-03-11T06:10:20.989Z"
      },
      {
        "duration": 71,
        "start_time": "2022-03-11T06:10:21.066Z"
      },
      {
        "duration": 401,
        "start_time": "2022-03-11T06:10:21.139Z"
      },
      {
        "duration": 56,
        "start_time": "2022-03-11T06:10:21.541Z"
      },
      {
        "duration": 66,
        "start_time": "2022-03-11T06:10:21.599Z"
      },
      {
        "duration": 344,
        "start_time": "2022-03-11T06:10:21.667Z"
      },
      {
        "duration": 47,
        "start_time": "2022-03-11T06:10:22.013Z"
      },
      {
        "duration": 413,
        "start_time": "2022-03-11T06:10:22.062Z"
      },
      {
        "duration": 8,
        "start_time": "2022-03-11T06:10:22.477Z"
      },
      {
        "duration": 54,
        "start_time": "2022-03-11T06:10:22.486Z"
      },
      {
        "duration": 25,
        "start_time": "2022-03-11T06:10:22.541Z"
      },
      {
        "duration": 77,
        "start_time": "2022-03-11T06:10:22.567Z"
      },
      {
        "duration": 15,
        "start_time": "2022-03-11T06:10:22.646Z"
      },
      {
        "duration": 18,
        "start_time": "2022-03-11T06:10:22.663Z"
      },
      {
        "duration": 18,
        "start_time": "2022-03-11T06:10:22.683Z"
      },
      {
        "duration": 52,
        "start_time": "2022-03-11T06:10:22.703Z"
      },
      {
        "duration": 352,
        "start_time": "2022-03-11T06:10:22.759Z"
      },
      {
        "duration": 329,
        "start_time": "2022-03-11T06:10:23.113Z"
      },
      {
        "duration": 26,
        "start_time": "2022-03-11T06:10:23.444Z"
      },
      {
        "duration": 71,
        "start_time": "2022-03-11T06:10:23.472Z"
      },
      {
        "duration": 52,
        "start_time": "2022-03-11T06:10:23.545Z"
      },
      {
        "duration": 2,
        "start_time": "2022-03-11T06:10:23.599Z"
      },
      {
        "duration": 30,
        "start_time": "2022-03-11T06:10:23.603Z"
      },
      {
        "duration": 109,
        "start_time": "2022-03-11T06:10:23.635Z"
      },
      {
        "duration": 585,
        "start_time": "2022-03-11T06:10:23.745Z"
      },
      {
        "duration": 184,
        "start_time": "2022-03-11T06:10:24.333Z"
      },
      {
        "duration": 1059,
        "start_time": "2022-03-11T06:10:24.519Z"
      },
      {
        "duration": 3,
        "start_time": "2022-03-11T06:10:25.580Z"
      },
      {
        "duration": 17,
        "start_time": "2022-03-11T06:10:25.584Z"
      },
      {
        "duration": 118,
        "start_time": "2022-03-11T06:10:25.603Z"
      },
      {
        "duration": 3,
        "start_time": "2022-03-11T06:10:25.722Z"
      },
      {
        "duration": 14912,
        "start_time": "2022-03-11T06:10:25.726Z"
      },
      {
        "duration": 195,
        "start_time": "2022-03-11T06:10:40.639Z"
      },
      {
        "duration": 3,
        "start_time": "2022-03-11T06:10:40.837Z"
      },
      {
        "duration": 82880,
        "start_time": "2022-03-11T06:10:40.842Z"
      },
      {
        "duration": 117,
        "start_time": "2022-03-11T06:12:03.724Z"
      },
      {
        "duration": 3,
        "start_time": "2022-03-11T06:12:03.843Z"
      },
      {
        "duration": 298127,
        "start_time": "2022-03-11T06:12:03.848Z"
      },
      {
        "duration": 382,
        "start_time": "2022-03-11T06:17:01.977Z"
      },
      {
        "duration": 2,
        "start_time": "2022-03-11T06:17:02.361Z"
      },
      {
        "duration": 150,
        "start_time": "2022-03-11T06:17:02.365Z"
      },
      {
        "duration": 68928,
        "start_time": "2022-03-11T06:17:02.517Z"
      },
      {
        "duration": 600,
        "start_time": "2022-03-11T06:18:11.533Z"
      },
      {
        "duration": 100,
        "start_time": "2022-03-11T06:18:12.135Z"
      },
      {
        "duration": 197,
        "start_time": "2022-03-11T06:18:12.238Z"
      },
      {
        "duration": 307,
        "start_time": "2022-03-11T06:18:12.436Z"
      },
      {
        "duration": 595,
        "start_time": "2022-03-11T06:18:12.744Z"
      }
    ],
    "kernelspec": {
      "display_name": "Python 3",
      "language": "python",
      "name": "python3"
    },
    "language_info": {
      "codemirror_mode": {
        "name": "ipython",
        "version": 3
      },
      "file_extension": ".py",
      "mimetype": "text/x-python",
      "name": "python",
      "nbconvert_exporter": "python",
      "pygments_lexer": "ipython3",
      "version": "3.7.8"
    },
    "toc": {
      "base_numbering": 1,
      "nav_menu": {},
      "number_sections": true,
      "sideBar": true,
      "skip_h1_title": true,
      "title_cell": "Table of Contents",
      "title_sidebar": "Contents",
      "toc_cell": false,
      "toc_position": {},
      "toc_section_display": true,
      "toc_window_display": false
    },
    "colab": {
      "name": "10. Определение стоимости автомобилей.ipynb",
      "provenance": [],
      "collapsed_sections": []
    }
  },
  "nbformat": 4,
  "nbformat_minor": 0
}