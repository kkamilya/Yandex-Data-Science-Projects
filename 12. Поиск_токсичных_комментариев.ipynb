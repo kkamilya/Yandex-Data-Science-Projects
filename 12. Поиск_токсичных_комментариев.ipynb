{
  "cells": [
    {
      "cell_type": "markdown",
      "metadata": {
        "toc": true,
        "id": "TWzVAVznOfxJ"
      },
      "source": [
        "<h1>Содержание<span class=\"tocSkip\"></span></h1>\n",
        "<li><span><a href=\"#Подготовка\" data-toc-modified-id=\"Подготовка-1\"><span class=\"toc-item-num\">1&nbsp;&nbsp;</span>Подготовка</a></span></li><li><span><a href=\"#Обучение\" data-toc-modified-id=\"Обучение-2\"><span class=\"toc-item-num\">2&nbsp;&nbsp;</span>Обучение</a></span></li><li><span><a href=\"#Тестирование\" data-toc-modified-id=\"Тестирование-3\"><span class=\"toc-item-num\">3&nbsp;&nbsp;</span>Тестирование</a></span></li><li><span><a href=\"#Выводы\" data-toc-modified-id=\"Выводы-4\"><span class=\"toc-item-num\">4&nbsp;&nbsp;</span>Выводы</a></span></li><li><span><a href=\"#Чек-лист-проверки\"
    },
    {
      "cell_type": "markdown",
      "metadata": {
        "id": "OLKbLlf2OfxK"
      },
      "source": [
        "# Проект для «Викишоп»"
      ]
    },
    {
      "cell_type": "markdown",
      "metadata": {
        "id": "UG0Vuk35OfxK"
      },
      "source": [
        "Интернет-магазин «Викишоп» запускает новый сервис. Теперь пользователи могут редактировать и дополнять описания товаров, как в вики-сообществах. То есть клиенты предлагают свои правки и комментируют изменения других. Магазину нужен инструмент, который будет искать токсичные комментарии и отправлять их на модерацию. \n",
        "\n",
        "Обучите модель классифицировать комментарии на позитивные и негативные. В вашем распоряжении набор данных с разметкой о токсичности правок.\n",
        "\n",
        "Постройте модель со значением метрики качества *F1* не меньше 0.75. \n",
        "\n",
        "**Инструкция по выполнению проекта**\n",
        "\n",
        "1. Загрузите и подготовьте данные.\n",
        "2. Обучите разные модели. \n",
        "3. Сделайте выводы.\n",
        "\n",
        "Для выполнения проекта применять *BERT* необязательно, но вы можете попробовать.\n",
        "\n",
        "**Описание данных**\n",
        "\n",
        "Данные находятся в файле `toxic_comments.csv`. Столбец *text* в нём содержит текст комментария, а *toxic* — целевой признак."
      ]
    },
    {
      "cell_type": "markdown",
      "metadata": {
        "id": "IgNs5uzEOfxL"
      },
      "source": [
        "## Подготовка"
      ]
    },
    {
      "cell_type": "code",
      "execution_count": 1,
      "metadata": {
        "colab": {
          "base_uri": "https://localhost:8080/"
        },
        "id": "JJJUKpOZOfxL",
        "outputId": "e09aecf8-e6ff-4281-d4c0-89a4d156f6f9"
      },
      "outputs": [
        {
          "output_type": "stream",
          "name": "stdout",
          "text": [
            "[nltk_data] Downloading package stopwords to /root/nltk_data...\n",
            "[nltk_data]   Package stopwords is already up-to-date!\n",
            "[nltk_data] Downloading package wordnet to /root/nltk_data...\n",
            "[nltk_data]   Package wordnet is already up-to-date!\n"
          ]
        }
      ],
      "source": [
        "import pandas as pd\n",
        "import numpy as np\n",
        "import nltk\n",
        "nltk.download('stopwords')\n",
        "nltk.download('wordnet') \n",
        "from nltk.stem import WordNetLemmatizer\n",
        "from nltk.corpus import stopwords \n",
        "from sklearn.metrics import f1_score\n",
        "from sklearn.model_selection import train_test_split\n",
        "from sklearn.feature_extraction.text import TfidfVectorizer \n",
        "from sklearn.model_selection import GridSearchCV\n",
        "from sklearn.linear_model import LogisticRegression\n",
        "from lightgbm import LGBMClassifier\n",
        "\n",
        "import warnings\n",
        "warnings.filterwarnings('ignore')"
      ]
    },
    {
      "cell_type": "code",
      "source": [
        "from google.colab import drive\n",
        "drive.mount('/content/drive')\n",
        "import os\n",
        "os.chdir(\"drive/My Drive/Colab Notebooks\")"
      ],
      "metadata": {
        "colab": {
          "base_uri": "https://localhost:8080/"
        },
        "id": "DloLfow4OwIq",
        "outputId": "c9e8d321-9ca5-45ee-adaf-a2c5191b744d"
      },
      "execution_count": 2,
      "outputs": [
        {
          "output_type": "stream",
          "name": "stdout",
          "text": [
            "Drive already mounted at /content/drive; to attempt to forcibly remount, call drive.mount(\"/content/drive\", force_remount=True).\n"
          ]
        }
      ]
    },
    {
      "cell_type": "code",
      "execution_count": 3,
      "metadata": {
        "id": "HOEyohAeOfxO"
      },
      "outputs": [],
      "source": [
        "data = pd.read_csv('/content/drive/My Drive/Colab Notebooks/toxic_comments.csv')"
      ]
    },
    {
      "cell_type": "code",
      "execution_count": 4,
      "metadata": {
        "scrolled": false,
        "colab": {
          "base_uri": "https://localhost:8080/",
          "height": 367
        },
        "id": "fmnOKzVSOfxP",
        "outputId": "802bfd48-5067-442d-eeb5-6f59343f340d"
      },
      "outputs": [
        {
          "output_type": "stream",
          "name": "stdout",
          "text": [
            "<class 'pandas.core.frame.DataFrame'>\n",
            "RangeIndex: 159571 entries, 0 to 159570\n",
            "Data columns (total 2 columns):\n",
            " #   Column  Non-Null Count   Dtype \n",
            "---  ------  --------------   ----- \n",
            " 0   text    159571 non-null  object\n",
            " 1   toxic   159571 non-null  int64 \n",
            "dtypes: int64(1), object(1)\n",
            "memory usage: 2.4+ MB\n"
          ]
        },
        {
          "output_type": "execute_result",
          "data": {
            "text/plain": [
              "                                                text  toxic\n",
              "0  Explanation\\nWhy the edits made under my usern...      0\n",
              "1  D'aww! He matches this background colour I'm s...      0\n",
              "2  Hey man, I'm really not trying to edit war. It...      0\n",
              "3  \"\\nMore\\nI can't make any real suggestions on ...      0\n",
              "4  You, sir, are my hero. Any chance you remember...      0"
            ],
            "text/html": [
              "\n",
              "  <div id=\"df-353f249c-524e-4c2b-8563-dc33411bced0\">\n",
              "    <div class=\"colab-df-container\">\n",
              "      <div>\n",
              "<style scoped>\n",
              "    .dataframe tbody tr th:only-of-type {\n",
              "        vertical-align: middle;\n",
              "    }\n",
              "\n",
              "    .dataframe tbody tr th {\n",
              "        vertical-align: top;\n",
              "    }\n",
              "\n",
              "    .dataframe thead th {\n",
              "        text-align: right;\n",
              "    }\n",
              "</style>\n",
              "<table border=\"1\" class=\"dataframe\">\n",
              "  <thead>\n",
              "    <tr style=\"text-align: right;\">\n",
              "      <th></th>\n",
              "      <th>text</th>\n",
              "      <th>toxic</th>\n",
              "    </tr>\n",
              "  </thead>\n",
              "  <tbody>\n",
              "    <tr>\n",
              "      <th>0</th>\n",
              "      <td>Explanation\\nWhy the edits made under my usern...</td>\n",
              "      <td>0</td>\n",
              "    </tr>\n",
              "    <tr>\n",
              "      <th>1</th>\n",
              "      <td>D'aww! He matches this background colour I'm s...</td>\n",
              "      <td>0</td>\n",
              "    </tr>\n",
              "    <tr>\n",
              "      <th>2</th>\n",
              "      <td>Hey man, I'm really not trying to edit war. It...</td>\n",
              "      <td>0</td>\n",
              "    </tr>\n",
              "    <tr>\n",
              "      <th>3</th>\n",
              "      <td>\"\\nMore\\nI can't make any real suggestions on ...</td>\n",
              "      <td>0</td>\n",
              "    </tr>\n",
              "    <tr>\n",
              "      <th>4</th>\n",
              "      <td>You, sir, are my hero. Any chance you remember...</td>\n",
              "      <td>0</td>\n",
              "    </tr>\n",
              "  </tbody>\n",
              "</table>\n",
              "</div>\n",
              "      <button class=\"colab-df-convert\" onclick=\"convertToInteractive('df-353f249c-524e-4c2b-8563-dc33411bced0')\"\n",
              "              title=\"Convert this dataframe to an interactive table.\"\n",
              "              style=\"display:none;\">\n",
              "        \n",
              "  <svg xmlns=\"http://www.w3.org/2000/svg\" height=\"24px\"viewBox=\"0 0 24 24\"\n",
              "       width=\"24px\">\n",
              "    <path d=\"M0 0h24v24H0V0z\" fill=\"none\"/>\n",
              "    <path d=\"M18.56 5.44l.94 2.06.94-2.06 2.06-.94-2.06-.94-.94-2.06-.94 2.06-2.06.94zm-11 1L8.5 8.5l.94-2.06 2.06-.94-2.06-.94L8.5 2.5l-.94 2.06-2.06.94zm10 10l.94 2.06.94-2.06 2.06-.94-2.06-.94-.94-2.06-.94 2.06-2.06.94z\"/><path d=\"M17.41 7.96l-1.37-1.37c-.4-.4-.92-.59-1.43-.59-.52 0-1.04.2-1.43.59L10.3 9.45l-7.72 7.72c-.78.78-.78 2.05 0 2.83L4 21.41c.39.39.9.59 1.41.59.51 0 1.02-.2 1.41-.59l7.78-7.78 2.81-2.81c.8-.78.8-2.07 0-2.86zM5.41 20L4 18.59l7.72-7.72 1.47 1.35L5.41 20z\"/>\n",
              "  </svg>\n",
              "      </button>\n",
              "      \n",
              "  <style>\n",
              "    .colab-df-container {\n",
              "      display:flex;\n",
              "      flex-wrap:wrap;\n",
              "      gap: 12px;\n",
              "    }\n",
              "\n",
              "    .colab-df-convert {\n",
              "      background-color: #E8F0FE;\n",
              "      border: none;\n",
              "      border-radius: 50%;\n",
              "      cursor: pointer;\n",
              "      display: none;\n",
              "      fill: #1967D2;\n",
              "      height: 32px;\n",
              "      padding: 0 0 0 0;\n",
              "      width: 32px;\n",
              "    }\n",
              "\n",
              "    .colab-df-convert:hover {\n",
              "      background-color: #E2EBFA;\n",
              "      box-shadow: 0px 1px 2px rgba(60, 64, 67, 0.3), 0px 1px 3px 1px rgba(60, 64, 67, 0.15);\n",
              "      fill: #174EA6;\n",
              "    }\n",
              "\n",
              "    [theme=dark] .colab-df-convert {\n",
              "      background-color: #3B4455;\n",
              "      fill: #D2E3FC;\n",
              "    }\n",
              "\n",
              "    [theme=dark] .colab-df-convert:hover {\n",
              "      background-color: #434B5C;\n",
              "      box-shadow: 0px 1px 3px 1px rgba(0, 0, 0, 0.15);\n",
              "      filter: drop-shadow(0px 1px 2px rgba(0, 0, 0, 0.3));\n",
              "      fill: #FFFFFF;\n",
              "    }\n",
              "  </style>\n",
              "\n",
              "      <script>\n",
              "        const buttonEl =\n",
              "          document.querySelector('#df-353f249c-524e-4c2b-8563-dc33411bced0 button.colab-df-convert');\n",
              "        buttonEl.style.display =\n",
              "          google.colab.kernel.accessAllowed ? 'block' : 'none';\n",
              "\n",
              "        async function convertToInteractive(key) {\n",
              "          const element = document.querySelector('#df-353f249c-524e-4c2b-8563-dc33411bced0');\n",
              "          const dataTable =\n",
              "            await google.colab.kernel.invokeFunction('convertToInteractive',\n",
              "                                                     [key], {});\n",
              "          if (!dataTable) return;\n",
              "\n",
              "          const docLinkHtml = 'Like what you see? Visit the ' +\n",
              "            '<a target=\"_blank\" href=https://colab.research.google.com/notebooks/data_table.ipynb>data table notebook</a>'\n",
              "            + ' to learn more about interactive tables.';\n",
              "          element.innerHTML = '';\n",
              "          dataTable['output_type'] = 'display_data';\n",
              "          await google.colab.output.renderOutput(dataTable, element);\n",
              "          const docLink = document.createElement('div');\n",
              "          docLink.innerHTML = docLinkHtml;\n",
              "          element.appendChild(docLink);\n",
              "        }\n",
              "      </script>\n",
              "    </div>\n",
              "  </div>\n",
              "  "
            ]
          },
          "metadata": {},
          "execution_count": 4
        }
      ],
      "source": [
        "data.info()\n",
        "data.head()"
      ]
    },
    {
      "cell_type": "code",
      "execution_count": 5,
      "metadata": {
        "scrolled": true,
        "colab": {
          "base_uri": "https://localhost:8080/"
        },
        "id": "des3S1vkOfxP",
        "outputId": "73cf7fa8-5437-49f2-b5df-8b9024928c9f"
      },
      "outputs": [
        {
          "output_type": "execute_result",
          "data": {
            "text/plain": [
              "0"
            ]
          },
          "metadata": {},
          "execution_count": 5
        }
      ],
      "source": [
        "data.duplicated().sum()"
      ]
    },
    {
      "cell_type": "code",
      "execution_count": 6,
      "metadata": {
        "colab": {
          "base_uri": "https://localhost:8080/"
        },
        "id": "-qbkGXvYOfxQ",
        "outputId": "71910113-5cec-4b5b-c731-7e629b0dee44"
      },
      "outputs": [
        {
          "output_type": "execute_result",
          "data": {
            "text/plain": [
              "text     0\n",
              "toxic    0\n",
              "dtype: int64"
            ]
          },
          "metadata": {},
          "execution_count": 6
        }
      ],
      "source": [
        "data.isnull().sum()"
      ]
    },
    {
      "cell_type": "markdown",
      "metadata": {
        "id": "KxS3IkZJOfxR"
      },
      "source": [
        "Столбец *text* в таблице содержит текст комментария, а *toxic* — целевой признак. Пропусков и дубликатов в датасете нет.\n",
        "\n",
        "Теперь токенизируем, удалим стоп_слова и лемматизируем твиты."
      ]
    },
    {
      "cell_type": "code",
      "execution_count": 7,
      "metadata": {
        "id": "McgrSEkLOfxS"
      },
      "outputs": [],
      "source": [
        "corpus = data['text']"
      ]
    },
    {
      "cell_type": "code",
      "execution_count": 8,
      "metadata": {
        "id": "6hys8h57OfxS"
      },
      "outputs": [],
      "source": [
        "def tokenize(comment):\n",
        "    tokenizer = nltk.RegexpTokenizer(r\"\\w+\")\n",
        "    tokens = tokenizer.tokenize(comment)\n",
        "    return tokens"
      ]
    },
    {
      "cell_type": "code",
      "execution_count": 9,
      "metadata": {
        "id": "Lw9iuYKpOfxT"
      },
      "outputs": [],
      "source": [
        "data['tokens'] = corpus.apply(lambda x: tokenize(x.lower()))"
      ]
    },
    {
      "cell_type": "code",
      "execution_count": 10,
      "metadata": {
        "id": "pbVF01YgOfxT"
      },
      "outputs": [],
      "source": [
        "stop_words = set(stopwords.words('english')) "
      ]
    },
    {
      "cell_type": "code",
      "execution_count": 11,
      "metadata": {
        "id": "Ov50JBNAOfxT"
      },
      "outputs": [],
      "source": [
        "def remove_stop_words(tokens):\n",
        "    filtered_comment = [w for w in tokens if not w in stop_words]\n",
        "    return filtered_comment"
      ]
    },
    {
      "cell_type": "code",
      "execution_count": 12,
      "metadata": {
        "id": "RSZbnFY2OfxU"
      },
      "outputs": [],
      "source": [
        "data['wo_stopwords'] = data['tokens'].apply(lambda x: remove_stop_words(x))"
      ]
    },
    {
      "cell_type": "code",
      "execution_count": 13,
      "metadata": {
        "id": "zafeIBtZOfxU"
      },
      "outputs": [],
      "source": [
        "def lemmatize(tokens):\n",
        "    wnl = WordNetLemmatizer()\n",
        "    lemmas = [wnl.lemmatize(word) for word in tokens]\n",
        "    return lemmas"
      ]
    },
    {
      "cell_type": "code",
      "execution_count": 14,
      "metadata": {
        "id": "UljUnSxHOfxU"
      },
      "outputs": [],
      "source": [
        "data['lemmas'] = data['wo_stopwords'].apply(lambda x: lemmatize(x))"
      ]
    },
    {
      "cell_type": "code",
      "execution_count": 15,
      "metadata": {
        "scrolled": true,
        "colab": {
          "base_uri": "https://localhost:8080/",
          "height": 319
        },
        "id": "tyl_oMgoOfxU",
        "outputId": "b90aeea4-1232-48d2-cded-385d1f842689"
      },
      "outputs": [
        {
          "output_type": "execute_result",
          "data": {
            "text/plain": [
              "                                                text  toxic  \\\n",
              "0  Explanation\\nWhy the edits made under my usern...      0   \n",
              "1  D'aww! He matches this background colour I'm s...      0   \n",
              "2  Hey man, I'm really not trying to edit war. It...      0   \n",
              "3  \"\\nMore\\nI can't make any real suggestions on ...      0   \n",
              "4  You, sir, are my hero. Any chance you remember...      0   \n",
              "\n",
              "                                              tokens  \\\n",
              "0  [explanation, why, the, edits, made, under, my...   \n",
              "1  [d, aww, he, matches, this, background, colour...   \n",
              "2  [hey, man, i, m, really, not, trying, to, edit...   \n",
              "3  [more, i, can, t, make, any, real, suggestions...   \n",
              "4  [you, sir, are, my, hero, any, chance, you, re...   \n",
              "\n",
              "                                        wo_stopwords  \\\n",
              "0  [explanation, edits, made, username, hardcore,...   \n",
              "1  [aww, matches, background, colour, seemingly, ...   \n",
              "2  [hey, man, really, trying, edit, war, guy, con...   \n",
              "3  [make, real, suggestions, improvement, wondere...   \n",
              "4                [sir, hero, chance, remember, page]   \n",
              "\n",
              "                                              lemmas  \n",
              "0  [explanation, edits, made, username, hardcore,...  \n",
              "1  [aww, match, background, colour, seemingly, st...  \n",
              "2  [hey, man, really, trying, edit, war, guy, con...  \n",
              "3  [make, real, suggestion, improvement, wondered...  \n",
              "4                [sir, hero, chance, remember, page]  "
            ],
            "text/html": [
              "\n",
              "  <div id=\"df-09581bd7-f219-40e4-bf38-82285b0042ef\">\n",
              "    <div class=\"colab-df-container\">\n",
              "      <div>\n",
              "<style scoped>\n",
              "    .dataframe tbody tr th:only-of-type {\n",
              "        vertical-align: middle;\n",
              "    }\n",
              "\n",
              "    .dataframe tbody tr th {\n",
              "        vertical-align: top;\n",
              "    }\n",
              "\n",
              "    .dataframe thead th {\n",
              "        text-align: right;\n",
              "    }\n",
              "</style>\n",
              "<table border=\"1\" class=\"dataframe\">\n",
              "  <thead>\n",
              "    <tr style=\"text-align: right;\">\n",
              "      <th></th>\n",
              "      <th>text</th>\n",
              "      <th>toxic</th>\n",
              "      <th>tokens</th>\n",
              "      <th>wo_stopwords</th>\n",
              "      <th>lemmas</th>\n",
              "    </tr>\n",
              "  </thead>\n",
              "  <tbody>\n",
              "    <tr>\n",
              "      <th>0</th>\n",
              "      <td>Explanation\\nWhy the edits made under my usern...</td>\n",
              "      <td>0</td>\n",
              "      <td>[explanation, why, the, edits, made, under, my...</td>\n",
              "      <td>[explanation, edits, made, username, hardcore,...</td>\n",
              "      <td>[explanation, edits, made, username, hardcore,...</td>\n",
              "    </tr>\n",
              "    <tr>\n",
              "      <th>1</th>\n",
              "      <td>D'aww! He matches this background colour I'm s...</td>\n",
              "      <td>0</td>\n",
              "      <td>[d, aww, he, matches, this, background, colour...</td>\n",
              "      <td>[aww, matches, background, colour, seemingly, ...</td>\n",
              "      <td>[aww, match, background, colour, seemingly, st...</td>\n",
              "    </tr>\n",
              "    <tr>\n",
              "      <th>2</th>\n",
              "      <td>Hey man, I'm really not trying to edit war. It...</td>\n",
              "      <td>0</td>\n",
              "      <td>[hey, man, i, m, really, not, trying, to, edit...</td>\n",
              "      <td>[hey, man, really, trying, edit, war, guy, con...</td>\n",
              "      <td>[hey, man, really, trying, edit, war, guy, con...</td>\n",
              "    </tr>\n",
              "    <tr>\n",
              "      <th>3</th>\n",
              "      <td>\"\\nMore\\nI can't make any real suggestions on ...</td>\n",
              "      <td>0</td>\n",
              "      <td>[more, i, can, t, make, any, real, suggestions...</td>\n",
              "      <td>[make, real, suggestions, improvement, wondere...</td>\n",
              "      <td>[make, real, suggestion, improvement, wondered...</td>\n",
              "    </tr>\n",
              "    <tr>\n",
              "      <th>4</th>\n",
              "      <td>You, sir, are my hero. Any chance you remember...</td>\n",
              "      <td>0</td>\n",
              "      <td>[you, sir, are, my, hero, any, chance, you, re...</td>\n",
              "      <td>[sir, hero, chance, remember, page]</td>\n",
              "      <td>[sir, hero, chance, remember, page]</td>\n",
              "    </tr>\n",
              "  </tbody>\n",
              "</table>\n",
              "</div>\n",
              "      <button class=\"colab-df-convert\" onclick=\"convertToInteractive('df-09581bd7-f219-40e4-bf38-82285b0042ef')\"\n",
              "              title=\"Convert this dataframe to an interactive table.\"\n",
              "              style=\"display:none;\">\n",
              "        \n",
              "  <svg xmlns=\"http://www.w3.org/2000/svg\" height=\"24px\"viewBox=\"0 0 24 24\"\n",
              "       width=\"24px\">\n",
              "    <path d=\"M0 0h24v24H0V0z\" fill=\"none\"/>\n",
              "    <path d=\"M18.56 5.44l.94 2.06.94-2.06 2.06-.94-2.06-.94-.94-2.06-.94 2.06-2.06.94zm-11 1L8.5 8.5l.94-2.06 2.06-.94-2.06-.94L8.5 2.5l-.94 2.06-2.06.94zm10 10l.94 2.06.94-2.06 2.06-.94-2.06-.94-.94-2.06-.94 2.06-2.06.94z\"/><path d=\"M17.41 7.96l-1.37-1.37c-.4-.4-.92-.59-1.43-.59-.52 0-1.04.2-1.43.59L10.3 9.45l-7.72 7.72c-.78.78-.78 2.05 0 2.83L4 21.41c.39.39.9.59 1.41.59.51 0 1.02-.2 1.41-.59l7.78-7.78 2.81-2.81c.8-.78.8-2.07 0-2.86zM5.41 20L4 18.59l7.72-7.72 1.47 1.35L5.41 20z\"/>\n",
              "  </svg>\n",
              "      </button>\n",
              "      \n",
              "  <style>\n",
              "    .colab-df-container {\n",
              "      display:flex;\n",
              "      flex-wrap:wrap;\n",
              "      gap: 12px;\n",
              "    }\n",
              "\n",
              "    .colab-df-convert {\n",
              "      background-color: #E8F0FE;\n",
              "      border: none;\n",
              "      border-radius: 50%;\n",
              "      cursor: pointer;\n",
              "      display: none;\n",
              "      fill: #1967D2;\n",
              "      height: 32px;\n",
              "      padding: 0 0 0 0;\n",
              "      width: 32px;\n",
              "    }\n",
              "\n",
              "    .colab-df-convert:hover {\n",
              "      background-color: #E2EBFA;\n",
              "      box-shadow: 0px 1px 2px rgba(60, 64, 67, 0.3), 0px 1px 3px 1px rgba(60, 64, 67, 0.15);\n",
              "      fill: #174EA6;\n",
              "    }\n",
              "\n",
              "    [theme=dark] .colab-df-convert {\n",
              "      background-color: #3B4455;\n",
              "      fill: #D2E3FC;\n",
              "    }\n",
              "\n",
              "    [theme=dark] .colab-df-convert:hover {\n",
              "      background-color: #434B5C;\n",
              "      box-shadow: 0px 1px 3px 1px rgba(0, 0, 0, 0.15);\n",
              "      filter: drop-shadow(0px 1px 2px rgba(0, 0, 0, 0.3));\n",
              "      fill: #FFFFFF;\n",
              "    }\n",
              "  </style>\n",
              "\n",
              "      <script>\n",
              "        const buttonEl =\n",
              "          document.querySelector('#df-09581bd7-f219-40e4-bf38-82285b0042ef button.colab-df-convert');\n",
              "        buttonEl.style.display =\n",
              "          google.colab.kernel.accessAllowed ? 'block' : 'none';\n",
              "\n",
              "        async function convertToInteractive(key) {\n",
              "          const element = document.querySelector('#df-09581bd7-f219-40e4-bf38-82285b0042ef');\n",
              "          const dataTable =\n",
              "            await google.colab.kernel.invokeFunction('convertToInteractive',\n",
              "                                                     [key], {});\n",
              "          if (!dataTable) return;\n",
              "\n",
              "          const docLinkHtml = 'Like what you see? Visit the ' +\n",
              "            '<a target=\"_blank\" href=https://colab.research.google.com/notebooks/data_table.ipynb>data table notebook</a>'\n",
              "            + ' to learn more about interactive tables.';\n",
              "          element.innerHTML = '';\n",
              "          dataTable['output_type'] = 'display_data';\n",
              "          await google.colab.output.renderOutput(dataTable, element);\n",
              "          const docLink = document.createElement('div');\n",
              "          docLink.innerHTML = docLinkHtml;\n",
              "          element.appendChild(docLink);\n",
              "        }\n",
              "      </script>\n",
              "    </div>\n",
              "  </div>\n",
              "  "
            ]
          },
          "metadata": {},
          "execution_count": 15
        }
      ],
      "source": [
        "data.head()"
      ]
    },
    {
      "cell_type": "markdown",
      "metadata": {
        "id": "q6L-YMh0OfxV"
      },
      "source": [
        "Комментарии были разбиты на токены, очищены от стоп-слов и приведены к леммам. "
      ]
    },
    {
      "cell_type": "markdown",
      "metadata": {
        "id": "-e0K6ZBMOfxV"
      },
      "source": [
        "## Обучение"
      ]
    },
    {
      "cell_type": "markdown",
      "metadata": {
        "id": "8gAmhoY7OfxV"
      },
      "source": [
        "Рассмотрим модели Logistic Regression и LightGBM Classifier."
      ]
    },
    {
      "cell_type": "code",
      "execution_count": 16,
      "metadata": {
        "id": "UD25FykpOfxV"
      },
      "outputs": [],
      "source": [
        "train, test = train_test_split(data, test_size=0.3, random_state=12345)"
      ]
    },
    {
      "cell_type": "code",
      "execution_count": 17,
      "metadata": {
        "id": "ECCiqFSqOfxV"
      },
      "outputs": [],
      "source": [
        "count_tf_idf = TfidfVectorizer()"
      ]
    },
    {
      "cell_type": "code",
      "execution_count": 18,
      "metadata": {
        "id": "uB48wsUfOfxV"
      },
      "outputs": [],
      "source": [
        "target_train = train['toxic']\n",
        "features_train = train['lemmas']\n",
        "target_test = test['toxic']\n",
        "features_test = test['lemmas']"
      ]
    },
    {
      "cell_type": "code",
      "execution_count": 19,
      "metadata": {
        "id": "sJD8SW1KOfxW"
      },
      "outputs": [],
      "source": [
        "corpus_train = features_train.astype('U')\n",
        "corpus_test = features_test.astype('U')"
      ]
    },
    {
      "cell_type": "code",
      "execution_count": 20,
      "metadata": {
        "id": "-VOQwo7sOfxW"
      },
      "outputs": [],
      "source": [
        "tf_idf = count_tf_idf.fit_transform(corpus_train)"
      ]
    },
    {
      "cell_type": "code",
      "execution_count": 21,
      "metadata": {
        "colab": {
          "base_uri": "https://localhost:8080/"
        },
        "id": "62smVbMkOfxW",
        "outputId": "50368f0d-f64f-4b2d-bff4-f0de16ca6180"
      },
      "outputs": [
        {
          "output_type": "stream",
          "name": "stdout",
          "text": [
            "f1 метрика на тренировочной выборке: 0.9713010488730194\n"
          ]
        }
      ],
      "source": [
        "lr = LogisticRegression(random_state=12345)\n",
        "parameters = {'penalty':['l1', 'l2'],\n",
        "              'C': [10,100],\n",
        "              'solver':['liblinear'],\n",
        "              'max_iter':[100,200],\n",
        "              'class_weight':[None]}\n",
        "\n",
        "clf = GridSearchCV(lr, param_grid = parameters, scoring = 'f1', cv = 5)\n",
        "\n",
        "train_clf = clf.fit(tf_idf,target_train)\n",
        "predictions_train = clf.predict(tf_idf)\n",
        "\n",
        "f1 = f1_score(target_train, predictions_train)\n",
        "print('f1 метрика на тренировочной выборке:', f1)"
      ]
    },
    {
      "cell_type": "code",
      "execution_count": 22,
      "metadata": {
        "colab": {
          "base_uri": "https://localhost:8080/"
        },
        "id": "nLpIYCHgOfxX",
        "outputId": "85d80c94-8606-43a6-9d2b-7cdc957dda45"
      },
      "outputs": [
        {
          "output_type": "execute_result",
          "data": {
            "text/plain": [
              "{'C': 10,\n",
              " 'class_weight': None,\n",
              " 'max_iter': 100,\n",
              " 'penalty': 'l1',\n",
              " 'solver': 'liblinear'}"
            ]
          },
          "metadata": {},
          "execution_count": 22
        }
      ],
      "source": [
        "clf.best_params_ "
      ]
    },
    {
      "cell_type": "code",
      "execution_count": 23,
      "metadata": {
        "colab": {
          "base_uri": "https://localhost:8080/"
        },
        "id": "c6ErHEmkOfxX",
        "outputId": "d9741c6c-ecb1-4529-f19d-976a2ee9363d"
      },
      "outputs": [
        {
          "output_type": "stream",
          "name": "stdout",
          "text": [
            "f1 метрика на тренировочной выборке: 0.7889964340295466\n"
          ]
        }
      ],
      "source": [
        "lgbm = LGBMClassifier(random_state=12345)\n",
        "\n",
        "lgbm.fit(tf_idf,target_train)\n",
        "predictions_train = lgbm.predict(tf_idf)\n",
        "\n",
        "f1 = f1_score(target_train, predictions_train)\n",
        "print('f1 метрика на тренировочной выборке:', f1)"
      ]
    },
    {
      "cell_type": "markdown",
      "metadata": {
        "id": "8OaE1naZOfxX"
      },
      "source": [
        "## Тестирование"
      ]
    },
    {
      "cell_type": "code",
      "execution_count": 24,
      "metadata": {
        "id": "04HZIQqeOfxX"
      },
      "outputs": [],
      "source": [
        "tf_idf_test = count_tf_idf.transform(corpus_test)"
      ]
    },
    {
      "cell_type": "code",
      "execution_count": 25,
      "metadata": {
        "colab": {
          "base_uri": "https://localhost:8080/"
        },
        "id": "DDzlshR4OfxY",
        "outputId": "80a1ca8a-64b9-4995-bbf7-d3b0878f1b34"
      },
      "outputs": [
        {
          "output_type": "stream",
          "name": "stdout",
          "text": [
            "f1 метрика логистической регрессии на тестовой выборке: 0.7865290602933189\n"
          ]
        }
      ],
      "source": [
        "#LogisticRegression\n",
        "\n",
        "lr = LogisticRegression(random_state=12345, C = 10, class_weight = None, \n",
        "                        max_iter = 100, penalty = 'l1', solver = 'liblinear')\n",
        "lr.fit(tf_idf,target_train)\n",
        "predictions_test = lr.predict(tf_idf_test)\n",
        "f1 = f1_score(target_test, predictions_test)\n",
        "\n",
        "print('f1 метрика логистической регрессии на тестовой выборке:', f1)"
      ]
    },
    {
      "cell_type": "code",
      "execution_count": 26,
      "metadata": {
        "colab": {
          "base_uri": "https://localhost:8080/"
        },
        "id": "YajsVRUOOfxY",
        "outputId": "80a0c2bf-d7ed-4e0b-f360-3749a4e34c1c"
      },
      "outputs": [
        {
          "output_type": "stream",
          "name": "stdout",
          "text": [
            "f1 метрика LightGBM на тестовой выборке: 0.7538624837834649\n"
          ]
        }
      ],
      "source": [
        "#LGBMClassifier\n",
        "\n",
        "predictions_test = lgbm.predict(tf_idf_test)\n",
        "f1 = f1_score(target_test, predictions_test)\n",
        "\n",
        "print('f1 метрика LightGBM на тестовой выборке:', f1)"
      ]
    },
    {
      "cell_type": "markdown",
      "metadata": {
        "id": "HlxBF58WOfxY"
      },
      "source": [
        "## Выводы"
      ]
    },
    {
      "cell_type": "markdown",
      "metadata": {
        "id": "jqaCOJG6OfxY"
      },
      "source": [
        "В данном проекте были обучены модели, чтобы классифицировать комментарии на позитивные и негативные. Перед этим комментарии были токенизированы, очищены от стоп-слов и лемматизированы.\n",
        "\n",
        "Лучший результат f1 метрики показала модель логистической регрессии - 0.97 на тренировочной выборке и 0.78 на тестовой."
      ]
    }
  ],
  "metadata": {
    "ExecuteTimeLog": [
      {
        "duration": 1386,
        "start_time": "2021-12-05T07:02:09.461Z"
      },
      {
        "duration": 2846,
        "start_time": "2021-12-05T07:02:26.431Z"
      },
      {
        "duration": 11794,
        "start_time": "2021-12-05T07:02:46.800Z"
      },
      {
        "duration": 47,
        "start_time": "2021-12-05T07:03:44.018Z"
      },
      {
        "duration": 400,
        "start_time": "2021-12-05T07:04:02.023Z"
      },
      {
        "duration": 295,
        "start_time": "2021-12-05T07:04:07.349Z"
      },
      {
        "duration": 195,
        "start_time": "2021-12-05T07:05:38.193Z"
      },
      {
        "duration": 30,
        "start_time": "2021-12-05T07:06:54.701Z"
      },
      {
        "duration": 1254,
        "start_time": "2021-12-05T13:33:00.818Z"
      },
      {
        "duration": 655,
        "start_time": "2021-12-05T13:33:02.074Z"
      },
      {
        "duration": 35,
        "start_time": "2021-12-05T13:33:02.731Z"
      },
      {
        "duration": 226,
        "start_time": "2021-12-05T13:33:02.768Z"
      },
      {
        "duration": 23,
        "start_time": "2021-12-05T13:33:02.996Z"
      },
      {
        "duration": 55,
        "start_time": "2021-12-05T13:33:03.021Z"
      },
      {
        "duration": 3,
        "start_time": "2021-12-05T13:34:17.607Z"
      },
      {
        "duration": 2030,
        "start_time": "2021-12-05T13:51:08.587Z"
      },
      {
        "duration": 4,
        "start_time": "2021-12-05T13:54:38.336Z"
      },
      {
        "duration": 292,
        "start_time": "2021-12-05T14:16:32.951Z"
      },
      {
        "duration": 183,
        "start_time": "2021-12-05T14:18:41.751Z"
      },
      {
        "duration": 4,
        "start_time": "2021-12-05T14:24:17.382Z"
      },
      {
        "duration": 210,
        "start_time": "2021-12-05T14:31:16.340Z"
      },
      {
        "duration": 1224,
        "start_time": "2021-12-05T14:31:23.504Z"
      },
      {
        "duration": 651,
        "start_time": "2021-12-05T14:31:24.730Z"
      },
      {
        "duration": 34,
        "start_time": "2021-12-05T14:31:25.383Z"
      },
      {
        "duration": 225,
        "start_time": "2021-12-05T14:31:25.418Z"
      },
      {
        "duration": 23,
        "start_time": "2021-12-05T14:31:25.645Z"
      },
      {
        "duration": 2192,
        "start_time": "2021-12-05T14:31:25.670Z"
      },
      {
        "duration": 198,
        "start_time": "2021-12-05T14:31:59.298Z"
      },
      {
        "duration": 1202,
        "start_time": "2021-12-05T14:32:04.876Z"
      },
      {
        "duration": 641,
        "start_time": "2021-12-05T14:32:10.973Z"
      },
      {
        "duration": 35,
        "start_time": "2021-12-05T14:32:12.547Z"
      },
      {
        "duration": 212,
        "start_time": "2021-12-05T14:32:14.492Z"
      },
      {
        "duration": 25,
        "start_time": "2021-12-05T14:32:15.674Z"
      },
      {
        "duration": 2110,
        "start_time": "2021-12-05T14:32:18.090Z"
      },
      {
        "duration": 235,
        "start_time": "2021-12-05T14:32:21.628Z"
      },
      {
        "duration": 161,
        "start_time": "2021-12-05T14:32:48.333Z"
      },
      {
        "duration": 207,
        "start_time": "2021-12-05T14:39:36.846Z"
      },
      {
        "duration": 1180,
        "start_time": "2021-12-05T14:39:46.525Z"
      },
      {
        "duration": 653,
        "start_time": "2021-12-05T14:39:47.707Z"
      },
      {
        "duration": 34,
        "start_time": "2021-12-05T14:39:48.362Z"
      },
      {
        "duration": 218,
        "start_time": "2021-12-05T14:39:48.398Z"
      },
      {
        "duration": 22,
        "start_time": "2021-12-05T14:39:48.618Z"
      },
      {
        "duration": 212,
        "start_time": "2021-12-05T14:40:00.325Z"
      },
      {
        "duration": 1201,
        "start_time": "2021-12-05T14:40:03.812Z"
      },
      {
        "duration": 647,
        "start_time": "2021-12-05T14:40:06.375Z"
      },
      {
        "duration": 36,
        "start_time": "2021-12-05T14:40:07.998Z"
      },
      {
        "duration": 218,
        "start_time": "2021-12-05T14:40:10.042Z"
      },
      {
        "duration": 24,
        "start_time": "2021-12-05T14:40:13.338Z"
      },
      {
        "duration": 1243,
        "start_time": "2021-12-05T14:42:27.692Z"
      },
      {
        "duration": 662,
        "start_time": "2021-12-05T14:42:28.936Z"
      },
      {
        "duration": 41,
        "start_time": "2021-12-05T14:42:29.600Z"
      },
      {
        "duration": 229,
        "start_time": "2021-12-05T14:42:29.643Z"
      },
      {
        "duration": 29,
        "start_time": "2021-12-05T14:42:29.874Z"
      },
      {
        "duration": 2165,
        "start_time": "2021-12-05T14:42:29.905Z"
      },
      {
        "duration": 6,
        "start_time": "2021-12-05T14:42:32.072Z"
      },
      {
        "duration": 3,
        "start_time": "2021-12-05T14:44:57.901Z"
      },
      {
        "duration": 1234,
        "start_time": "2021-12-05T14:45:17.509Z"
      },
      {
        "duration": 710,
        "start_time": "2021-12-05T14:45:18.745Z"
      },
      {
        "duration": 49,
        "start_time": "2021-12-05T14:45:19.458Z"
      },
      {
        "duration": 261,
        "start_time": "2021-12-05T14:45:19.510Z"
      },
      {
        "duration": 31,
        "start_time": "2021-12-05T14:45:19.773Z"
      },
      {
        "duration": 2369,
        "start_time": "2021-12-05T14:45:19.806Z"
      },
      {
        "duration": 15,
        "start_time": "2021-12-05T14:45:22.177Z"
      },
      {
        "duration": 308,
        "start_time": "2021-12-05T14:51:00.038Z"
      },
      {
        "duration": 3,
        "start_time": "2021-12-05T14:51:08.697Z"
      },
      {
        "duration": 1200,
        "start_time": "2021-12-05T14:53:00.001Z"
      },
      {
        "duration": 621,
        "start_time": "2021-12-05T14:53:01.203Z"
      },
      {
        "duration": 32,
        "start_time": "2021-12-05T14:53:01.828Z"
      },
      {
        "duration": 233,
        "start_time": "2021-12-05T14:53:01.861Z"
      },
      {
        "duration": 26,
        "start_time": "2021-12-05T14:53:02.096Z"
      },
      {
        "duration": 2136,
        "start_time": "2021-12-05T14:53:02.124Z"
      },
      {
        "duration": 24,
        "start_time": "2021-12-05T14:53:04.263Z"
      },
      {
        "duration": 4,
        "start_time": "2021-12-05T14:53:28.417Z"
      },
      {
        "duration": 334,
        "start_time": "2021-12-05T14:54:20.477Z"
      },
      {
        "duration": 1205,
        "start_time": "2021-12-05T14:54:31.101Z"
      },
      {
        "duration": 626,
        "start_time": "2021-12-05T14:54:32.308Z"
      },
      {
        "duration": 32,
        "start_time": "2021-12-05T14:54:32.936Z"
      },
      {
        "duration": 236,
        "start_time": "2021-12-05T14:54:32.970Z"
      },
      {
        "duration": 21,
        "start_time": "2021-12-05T14:54:33.207Z"
      },
      {
        "duration": 2143,
        "start_time": "2021-12-05T14:54:33.230Z"
      },
      {
        "duration": 291,
        "start_time": "2021-12-05T14:54:35.375Z"
      },
      {
        "duration": 46,
        "start_time": "2021-12-05T14:54:35.622Z"
      },
      {
        "duration": 4,
        "start_time": "2021-12-05T14:54:45.423Z"
      },
      {
        "duration": 4,
        "start_time": "2021-12-05T14:55:22.969Z"
      },
      {
        "duration": 177,
        "start_time": "2021-12-05T14:55:26.340Z"
      },
      {
        "duration": 5,
        "start_time": "2021-12-05T16:31:41.520Z"
      },
      {
        "duration": 3,
        "start_time": "2021-12-05T17:14:04.622Z"
      },
      {
        "duration": 3,
        "start_time": "2021-12-05T17:15:05.078Z"
      },
      {
        "duration": 3,
        "start_time": "2021-12-05T17:15:41.048Z"
      },
      {
        "duration": 2,
        "start_time": "2021-12-05T17:17:54.919Z"
      },
      {
        "duration": 1257,
        "start_time": "2021-12-05T17:18:59.983Z"
      },
      {
        "duration": 665,
        "start_time": "2021-12-05T17:19:01.242Z"
      },
      {
        "duration": 34,
        "start_time": "2021-12-05T17:19:01.909Z"
      },
      {
        "duration": 223,
        "start_time": "2021-12-05T17:19:01.945Z"
      },
      {
        "duration": 28,
        "start_time": "2021-12-05T17:19:02.170Z"
      },
      {
        "duration": 10,
        "start_time": "2021-12-05T17:19:02.200Z"
      },
      {
        "duration": 23,
        "start_time": "2021-12-05T17:19:02.212Z"
      },
      {
        "duration": 3971,
        "start_time": "2021-12-05T17:19:02.237Z"
      },
      {
        "duration": 3,
        "start_time": "2021-12-05T17:19:06.210Z"
      },
      {
        "duration": 10,
        "start_time": "2021-12-05T17:19:20.264Z"
      },
      {
        "duration": 4,
        "start_time": "2021-12-05T17:25:09.370Z"
      },
      {
        "duration": 1032,
        "start_time": "2021-12-05T17:25:11.265Z"
      },
      {
        "duration": 57,
        "start_time": "2021-12-05T17:25:29.130Z"
      },
      {
        "duration": 3,
        "start_time": "2021-12-05T17:25:34.252Z"
      },
      {
        "duration": 4591,
        "start_time": "2021-12-05T17:25:35.433Z"
      },
      {
        "duration": 10,
        "start_time": "2021-12-05T17:26:54.045Z"
      },
      {
        "duration": 3,
        "start_time": "2021-12-05T17:27:56.103Z"
      },
      {
        "duration": 4,
        "start_time": "2021-12-05T17:31:45.413Z"
      },
      {
        "duration": 3808,
        "start_time": "2021-12-05T17:32:02.788Z"
      },
      {
        "duration": 937,
        "start_time": "2021-12-05T17:32:12.891Z"
      },
      {
        "duration": 3,
        "start_time": "2021-12-05T17:32:23.173Z"
      },
      {
        "duration": 4345,
        "start_time": "2021-12-05T17:32:25.079Z"
      },
      {
        "duration": 10,
        "start_time": "2021-12-05T17:33:29.949Z"
      },
      {
        "duration": 749,
        "start_time": "2021-12-05T17:36:16.264Z"
      },
      {
        "duration": 2881,
        "start_time": "2021-12-05T17:36:27.941Z"
      },
      {
        "duration": 3,
        "start_time": "2021-12-05T17:36:50.178Z"
      },
      {
        "duration": 953,
        "start_time": "2021-12-05T17:37:06.321Z"
      },
      {
        "duration": 4,
        "start_time": "2021-12-05T17:39:53.412Z"
      },
      {
        "duration": 272,
        "start_time": "2021-12-05T17:40:14.512Z"
      },
      {
        "duration": 575,
        "start_time": "2021-12-05T17:42:01.328Z"
      },
      {
        "duration": 10,
        "start_time": "2021-12-05T17:42:09.576Z"
      },
      {
        "duration": 208,
        "start_time": "2021-12-06T06:58:31.682Z"
      },
      {
        "duration": 1404,
        "start_time": "2021-12-06T06:58:38.052Z"
      },
      {
        "duration": 602,
        "start_time": "2021-12-06T06:58:39.458Z"
      },
      {
        "duration": 40,
        "start_time": "2021-12-06T06:58:40.063Z"
      },
      {
        "duration": 223,
        "start_time": "2021-12-06T06:58:40.105Z"
      },
      {
        "duration": 20,
        "start_time": "2021-12-06T06:58:40.330Z"
      },
      {
        "duration": 3,
        "start_time": "2021-12-06T06:58:40.352Z"
      },
      {
        "duration": 5,
        "start_time": "2021-12-06T06:58:40.356Z"
      },
      {
        "duration": 4,
        "start_time": "2021-12-06T06:58:40.363Z"
      },
      {
        "duration": 3775,
        "start_time": "2021-12-06T06:58:40.369Z"
      },
      {
        "duration": 2,
        "start_time": "2021-12-06T06:58:44.146Z"
      },
      {
        "duration": 3909,
        "start_time": "2021-12-06T06:58:44.150Z"
      },
      {
        "duration": 2957,
        "start_time": "2021-12-06T06:58:48.060Z"
      },
      {
        "duration": -90,
        "start_time": "2021-12-06T06:58:51.109Z"
      },
      {
        "duration": 3,
        "start_time": "2021-12-06T06:59:45.715Z"
      },
      {
        "duration": 925,
        "start_time": "2021-12-06T06:59:47.315Z"
      },
      {
        "duration": 1606,
        "start_time": "2021-12-06T07:02:51.717Z"
      },
      {
        "duration": 12,
        "start_time": "2021-12-06T07:02:54.500Z"
      },
      {
        "duration": 3,
        "start_time": "2021-12-06T07:12:30.702Z"
      },
      {
        "duration": 5,
        "start_time": "2021-12-06T15:41:07.791Z"
      },
      {
        "duration": 565,
        "start_time": "2021-12-06T15:47:47.645Z"
      },
      {
        "duration": 2382,
        "start_time": "2021-12-06T15:47:51.085Z"
      },
      {
        "duration": 7,
        "start_time": "2021-12-06T15:47:57.292Z"
      },
      {
        "duration": 19,
        "start_time": "2021-12-06T15:48:01.785Z"
      },
      {
        "duration": 2340,
        "start_time": "2021-12-06T15:48:47.161Z"
      },
      {
        "duration": 1081,
        "start_time": "2021-12-06T15:48:49.504Z"
      },
      {
        "duration": 74,
        "start_time": "2021-12-06T15:48:50.589Z"
      },
      {
        "duration": 295,
        "start_time": "2021-12-06T15:48:50.666Z"
      },
      {
        "duration": 35,
        "start_time": "2021-12-06T15:48:50.965Z"
      },
      {
        "duration": 3,
        "start_time": "2021-12-06T15:48:51.003Z"
      },
      {
        "duration": 7,
        "start_time": "2021-12-06T15:48:51.009Z"
      },
      {
        "duration": 41,
        "start_time": "2021-12-06T15:48:51.021Z"
      },
      {
        "duration": 5834,
        "start_time": "2021-12-06T15:48:51.066Z"
      },
      {
        "duration": 6,
        "start_time": "2021-12-06T15:48:56.902Z"
      },
      {
        "duration": 24,
        "start_time": "2021-12-06T15:48:56.910Z"
      },
      {
        "duration": 3937,
        "start_time": "2021-12-06T15:48:56.937Z"
      },
      {
        "duration": 3,
        "start_time": "2021-12-06T15:49:00.877Z"
      },
      {
        "duration": 14,
        "start_time": "2021-12-06T15:49:00.883Z"
      },
      {
        "duration": 5,
        "start_time": "2021-12-06T15:49:00.900Z"
      },
      {
        "duration": 53,
        "start_time": "2021-12-06T15:49:00.908Z"
      },
      {
        "duration": 4,
        "start_time": "2021-12-06T15:57:45.875Z"
      },
      {
        "duration": 4,
        "start_time": "2021-12-06T16:00:33.182Z"
      },
      {
        "duration": 2715,
        "start_time": "2021-12-06T16:00:45.120Z"
      },
      {
        "duration": 5,
        "start_time": "2021-12-06T16:01:02.978Z"
      },
      {
        "duration": 38614,
        "start_time": "2021-12-06T16:01:05.118Z"
      },
      {
        "duration": 23,
        "start_time": "2021-12-06T16:02:03.429Z"
      },
      {
        "duration": 7,
        "start_time": "2021-12-06T16:08:23.268Z"
      },
      {
        "duration": 7,
        "start_time": "2021-12-06T16:43:01.665Z"
      },
      {
        "duration": 10,
        "start_time": "2021-12-06T16:43:27.746Z"
      },
      {
        "duration": 107,
        "start_time": "2021-12-06T16:57:49.708Z"
      },
      {
        "duration": 148,
        "start_time": "2021-12-06T17:15:37.875Z"
      },
      {
        "duration": 4,
        "start_time": "2021-12-06T17:17:36.120Z"
      },
      {
        "duration": 390,
        "start_time": "2021-12-06T17:55:20.445Z"
      },
      {
        "duration": 3,
        "start_time": "2021-12-06T17:55:36.300Z"
      },
      {
        "duration": 4,
        "start_time": "2021-12-06T17:56:07.715Z"
      },
      {
        "duration": 703,
        "start_time": "2021-12-06T17:58:11.583Z"
      },
      {
        "duration": 1074,
        "start_time": "2021-12-06T17:58:43.826Z"
      },
      {
        "duration": 6247,
        "start_time": "2021-12-06T17:59:16.095Z"
      },
      {
        "duration": 8272,
        "start_time": "2021-12-06T18:07:27.914Z"
      },
      {
        "duration": 7,
        "start_time": "2021-12-06T18:10:07.932Z"
      },
      {
        "duration": 425,
        "start_time": "2021-12-06T18:35:56.186Z"
      },
      {
        "duration": 270,
        "start_time": "2021-12-06T18:35:56.347Z"
      },
      {
        "duration": 1882,
        "start_time": "2021-12-06T18:36:34.231Z"
      },
      {
        "duration": 761,
        "start_time": "2021-12-06T18:36:36.116Z"
      },
      {
        "duration": 47,
        "start_time": "2021-12-06T18:36:36.880Z"
      },
      {
        "duration": 409,
        "start_time": "2021-12-06T18:36:36.929Z"
      },
      {
        "duration": 39,
        "start_time": "2021-12-06T18:36:37.340Z"
      },
      {
        "duration": 3,
        "start_time": "2021-12-06T18:36:37.382Z"
      },
      {
        "duration": 6,
        "start_time": "2021-12-06T18:36:37.388Z"
      },
      {
        "duration": 6435,
        "start_time": "2021-12-06T18:36:37.396Z"
      },
      {
        "duration": 25,
        "start_time": "2021-12-06T18:36:43.835Z"
      },
      {
        "duration": 3,
        "start_time": "2021-12-06T18:36:43.863Z"
      },
      {
        "duration": 2374,
        "start_time": "2021-12-06T18:36:43.869Z"
      },
      {
        "duration": 13,
        "start_time": "2021-12-06T18:36:46.246Z"
      },
      {
        "duration": 36402,
        "start_time": "2021-12-06T18:36:46.262Z"
      },
      {
        "duration": 22,
        "start_time": "2021-12-06T18:37:22.666Z"
      },
      {
        "duration": 129,
        "start_time": "2021-12-06T18:37:22.690Z"
      },
      {
        "duration": 4,
        "start_time": "2021-12-06T18:37:22.821Z"
      },
      {
        "duration": 6,
        "start_time": "2021-12-06T18:37:22.827Z"
      },
      {
        "duration": 1032,
        "start_time": "2021-12-06T18:37:22.835Z"
      },
      {
        "duration": 5982,
        "start_time": "2021-12-06T18:37:23.870Z"
      },
      {
        "duration": 1815556,
        "start_time": "2021-12-06T18:37:29.854Z"
      },
      {
        "duration": 5,
        "start_time": "2021-12-06T19:07:45.413Z"
      },
      {
        "duration": 4,
        "start_time": "2021-12-06T19:09:19.947Z"
      },
      {
        "duration": 667,
        "start_time": "2021-12-06T19:12:56.714Z"
      },
      {
        "duration": 552,
        "start_time": "2021-12-06T20:12:11.329Z"
      },
      {
        "duration": 1606,
        "start_time": "2021-12-06T20:12:57.513Z"
      },
      {
        "duration": 921,
        "start_time": "2021-12-06T20:12:59.122Z"
      },
      {
        "duration": 57,
        "start_time": "2021-12-06T20:13:00.047Z"
      },
      {
        "duration": 370,
        "start_time": "2021-12-06T20:13:00.108Z"
      },
      {
        "duration": 32,
        "start_time": "2021-12-06T20:13:00.481Z"
      },
      {
        "duration": 4,
        "start_time": "2021-12-06T20:13:00.515Z"
      },
      {
        "duration": 38,
        "start_time": "2021-12-06T20:13:00.521Z"
      },
      {
        "duration": 5883,
        "start_time": "2021-12-06T20:13:00.563Z"
      },
      {
        "duration": 13,
        "start_time": "2021-12-06T20:13:06.449Z"
      },
      {
        "duration": 21,
        "start_time": "2021-12-06T20:13:06.465Z"
      },
      {
        "duration": 2414,
        "start_time": "2021-12-06T20:13:06.488Z"
      },
      {
        "duration": 4,
        "start_time": "2021-12-06T20:13:08.905Z"
      },
      {
        "duration": 38211,
        "start_time": "2021-12-06T20:13:08.911Z"
      },
      {
        "duration": 21,
        "start_time": "2021-12-06T20:13:47.124Z"
      },
      {
        "duration": 136,
        "start_time": "2021-12-06T20:13:47.147Z"
      },
      {
        "duration": 4,
        "start_time": "2021-12-06T20:13:47.285Z"
      },
      {
        "duration": 11,
        "start_time": "2021-12-06T20:13:47.292Z"
      },
      {
        "duration": 1054,
        "start_time": "2021-12-06T20:13:47.306Z"
      },
      {
        "duration": 5991,
        "start_time": "2021-12-06T20:13:48.362Z"
      },
      {
        "duration": 5,
        "start_time": "2021-12-06T20:13:54.355Z"
      },
      {
        "duration": 7,
        "start_time": "2021-12-06T20:13:54.363Z"
      },
      {
        "duration": 409815,
        "start_time": "2021-12-06T20:13:59.017Z"
      },
      {
        "duration": 517,
        "start_time": "2021-12-06T20:21:39.345Z"
      },
      {
        "duration": 2273,
        "start_time": "2021-12-06T20:21:50.880Z"
      },
      {
        "duration": 469,
        "start_time": "2021-12-06T20:21:54.973Z"
      },
      {
        "duration": 397,
        "start_time": "2021-12-06T20:22:18.186Z"
      },
      {
        "duration": 277288,
        "start_time": "2021-12-06T20:22:54.924Z"
      },
      {
        "duration": 5591,
        "start_time": "2021-12-06T20:30:59.222Z"
      },
      {
        "duration": 600441,
        "start_time": "2021-12-06T20:31:18.622Z"
      },
      {
        "duration": 8,
        "start_time": "2021-12-06T20:41:19.067Z"
      },
      {
        "duration": 6050,
        "start_time": "2021-12-06T20:41:19.078Z"
      }
    ],
    "kernelspec": {
      "display_name": "Python 3",
      "language": "python",
      "name": "python3"
    },
    "language_info": {
      "codemirror_mode": {
        "name": "ipython",
        "version": 3
      },
      "file_extension": ".py",
      "mimetype": "text/x-python",
      "name": "python",
      "nbconvert_exporter": "python",
      "pygments_lexer": "ipython3",
      "version": "3.7.8"
    },
    "toc": {
      "base_numbering": 1,
      "nav_menu": {},
      "number_sections": true,
      "sideBar": true,
      "skip_h1_title": true,
      "title_cell": "Содержание",
      "title_sidebar": "Contents",
      "toc_cell": true,
      "toc_position": {
        "height": "calc(100% - 180px)",
        "left": "10px",
        "top": "150px",
        "width": "302.391px"
      },
      "toc_section_display": true,
      "toc_window_display": false
    },
    "colab": {
      "name": "12. Поиск токсичных комментариев.ipynb",
      "provenance": [],
      "collapsed_sections": []
    }
  },
  "nbformat": 4,
  "nbformat_minor": 0
}
