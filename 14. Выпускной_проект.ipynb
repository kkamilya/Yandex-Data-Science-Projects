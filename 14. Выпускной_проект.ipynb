{
  "cells": [
    {
      "cell_type": "markdown",
      "metadata": {
        "id": "SeCG3gc30-D-",
        "toc": true
      },
      "source": [
        "<h1>Содержание:<span class=\"tocSkip\"></span></h1>\n",
        "<div class=\"toc\"><ul class=\"toc-item\"><li><span><a href=\"#Описание-данных\" data-toc-modified-id=\"Описание-данных-1\"><span class=\"toc-item-num\">1&nbsp;&nbsp;</span>Описание данных</a></span></li><li><span><a href=\"#План-работы\" data-toc-modified-id=\"План-работы-2\"><span class=\"toc-item-num\">2&nbsp;&nbsp;</span>План работы</a></span></li><li><span><a href=\"#Изучение-общей-информации-и-предобработка-данных\" data-toc-modified-id=\"Изучение-общей-информации-и-предобработка-данных-3\"><span class=\"toc-item-num\">3&nbsp;&nbsp;</span>Изучение общей информации и предобработка данных</a></span></li><li><span><a href=\"#Исследовательский-анализ\" data-toc-modified-id=\"Исследовательский-анализ-4\"><span class=\"toc-item-num\">4&nbsp;&nbsp;</span>Исследовательский анализ</a></span></li><li><span><a href=\"#Подготовка-признаков\" data-toc-modified-id=\"Подготовка-признаков-5\"><span class=\"toc-item-num\">5&nbsp;&nbsp;</span>Подготовка признаков</a></span></li><li><span><a href=\"#Обучение-моделей\" data-toc-modified-id=\"Обучение-моделей-6\"><span class=\"toc-item-num\">6&nbsp;&nbsp;</span>Обучение моделей</a></span></li><li><span><a href=\"#Анализ-моделей\" data-toc-modified-id=\"Анализ-моделей-7\"><span class=\"toc-item-num\">7&nbsp;&nbsp;</span>Анализ моделей</a></span></li></ul></div>"
      ]
    },
    {
      "cell_type": "markdown",
      "metadata": {
        "id": "h8-bBEPl0-EA"
      },
      "source": [
        "# Выпускной проект"
      ]
    },
    {
      "cell_type": "markdown",
      "metadata": {
        "id": "EDuRRa7W0-EB"
      },
      "source": [
        "# Телеком"
      ]
    },
    {
      "cell_type": "markdown",
      "metadata": {
        "id": "hdhCmoJ40-ED"
      },
      "source": [
        "Оператор связи «Ниединогоразрыва.ком» хочет научиться прогнозировать отток клиентов. Если выяснится, что пользователь планирует уйти, ему будут предложены промокоды и специальные условия. Команда оператора собрала персональные данные о некоторых клиентах, информацию об их тарифах и договорах. \n",
        "\n",
        "\n",
        "## Описание данных\n",
        "Данные состоят из файлов, полученных из разных источников:\n",
        "\n",
        "- `contract.csv` — информация о договоре;\n",
        "- `personal.csv` — персональные данные клиента;\n",
        "- `internet.csv` — информация об интернет-услугах;\n",
        "- `phone.csv` — информация об услугах телефонии.\n",
        "\n",
        "Во всех файлах столбец `customerID` содержит код клиента.\n",
        "\n",
        "Информация о договорах актуальна на 1 февраля 2020.\n",
        "\n",
        "## План работы\n",
        "- Импортировать данные и провести исследовательский анализ данных.\n",
        "- Провести предобработку данных.\n",
        "- Определить и подготовить признаки и выделить целевой.\n",
        "- Объединить таблицы и удалить ненужные столбцы.\n",
        "- Исследовать модели (CatBoost, LightGBM, LogisticRegression) и определить лучшую, подбирая гиперпараметры и рассматривая метрику ROC-AUC.\n",
        "- Проверить модель на тестовой выборке.\n",
        "- Подготовить отчет."
      ]
    },
    {
      "cell_type": "markdown",
      "metadata": {
        "id": "EnEn_YkD0-EE"
      },
      "source": [
        "## Изучение общей информации и предобработка данных"
      ]
    },
    {
      "cell_type": "code",
      "execution_count": null,
      "metadata": {
        "id": "VhvBYRBS0-EF"
      },
      "outputs": [],
      "source": [
        "import pandas as pd\n",
        "import numpy as np\n",
        "import seaborn as sns\n",
        "import lightgbm as lgb\n",
        "from lightgbm import LGBMClassifier\n",
        "import matplotlib.pyplot as plt\n",
        "from catboost import CatBoostClassifier\n",
        "from sklearn.metrics import roc_auc_score, roc_curve, accuracy_score\n",
        "from sklearn.utils import shuffle\n",
        "from sklearn.preprocessing import StandardScaler\n",
        "from sklearn.model_selection import train_test_split\n",
        "from sklearn.utils.class_weight import compute_class_weight\n",
        "from sklearn.model_selection import GridSearchCV\n",
        "from sklearn.linear_model import LogisticRegression\n",
        "import warnings\n",
        "warnings.filterwarnings('ignore')"
      ]
    },
    {
      "cell_type": "code",
      "execution_count": null,
      "metadata": {
        "id": "iA-uinVC0-EQ"
      },
      "outputs": [],
      "source": [
        "contract = pd.read_csv('/datasets/final_provider/contract.csv')\n",
        "personal = pd.read_csv('/datasets/final_provider/personal.csv')\n",
        "internet = pd.read_csv('/datasets/final_provider/internet.csv')\n",
        "phone = pd.read_csv('/datasets/final_provider/phone.csv')"
      ]
    },
    {
      "cell_type": "code",
      "execution_count": null,
      "metadata": {
        "id": "0S1Z7u0f0-ES",
        "outputId": "2fb6b383-1579-45bf-b465-3cda99c2b40f",
        "scrolled": false
      },
      "outputs": [
        {
          "name": "stdout",
          "output_type": "stream",
          "text": [
            "<class 'pandas.core.frame.DataFrame'>\n",
            "RangeIndex: 7043 entries, 0 to 7042\n",
            "Data columns (total 8 columns):\n",
            "customerID          7043 non-null object\n",
            "BeginDate           7043 non-null object\n",
            "EndDate             7043 non-null object\n",
            "Type                7043 non-null object\n",
            "PaperlessBilling    7043 non-null object\n",
            "PaymentMethod       7043 non-null object\n",
            "MonthlyCharges      7043 non-null float64\n",
            "TotalCharges        7043 non-null object\n",
            "dtypes: float64(1), object(7)\n",
            "memory usage: 440.3+ KB\n"
          ]
        },
        {
          "data": {
            "text/html": [
              "<div>\n",
              "<style scoped>\n",
              "    .dataframe tbody tr th:only-of-type {\n",
              "        vertical-align: middle;\n",
              "    }\n",
              "\n",
              "    .dataframe tbody tr th {\n",
              "        vertical-align: top;\n",
              "    }\n",
              "\n",
              "    .dataframe thead th {\n",
              "        text-align: right;\n",
              "    }\n",
              "</style>\n",
              "<table border=\"1\" class=\"dataframe\">\n",
              "  <thead>\n",
              "    <tr style=\"text-align: right;\">\n",
              "      <th></th>\n",
              "      <th>customerID</th>\n",
              "      <th>BeginDate</th>\n",
              "      <th>EndDate</th>\n",
              "      <th>Type</th>\n",
              "      <th>PaperlessBilling</th>\n",
              "      <th>PaymentMethod</th>\n",
              "      <th>MonthlyCharges</th>\n",
              "      <th>TotalCharges</th>\n",
              "    </tr>\n",
              "  </thead>\n",
              "  <tbody>\n",
              "    <tr>\n",
              "      <td>0</td>\n",
              "      <td>7590-VHVEG</td>\n",
              "      <td>2020-01-01</td>\n",
              "      <td>No</td>\n",
              "      <td>Month-to-month</td>\n",
              "      <td>Yes</td>\n",
              "      <td>Electronic check</td>\n",
              "      <td>29.85</td>\n",
              "      <td>29.85</td>\n",
              "    </tr>\n",
              "    <tr>\n",
              "      <td>1</td>\n",
              "      <td>5575-GNVDE</td>\n",
              "      <td>2017-04-01</td>\n",
              "      <td>No</td>\n",
              "      <td>One year</td>\n",
              "      <td>No</td>\n",
              "      <td>Mailed check</td>\n",
              "      <td>56.95</td>\n",
              "      <td>1889.5</td>\n",
              "    </tr>\n",
              "    <tr>\n",
              "      <td>2</td>\n",
              "      <td>3668-QPYBK</td>\n",
              "      <td>2019-10-01</td>\n",
              "      <td>2019-12-01 00:00:00</td>\n",
              "      <td>Month-to-month</td>\n",
              "      <td>Yes</td>\n",
              "      <td>Mailed check</td>\n",
              "      <td>53.85</td>\n",
              "      <td>108.15</td>\n",
              "    </tr>\n",
              "    <tr>\n",
              "      <td>3</td>\n",
              "      <td>7795-CFOCW</td>\n",
              "      <td>2016-05-01</td>\n",
              "      <td>No</td>\n",
              "      <td>One year</td>\n",
              "      <td>No</td>\n",
              "      <td>Bank transfer (automatic)</td>\n",
              "      <td>42.30</td>\n",
              "      <td>1840.75</td>\n",
              "    </tr>\n",
              "    <tr>\n",
              "      <td>4</td>\n",
              "      <td>9237-HQITU</td>\n",
              "      <td>2019-09-01</td>\n",
              "      <td>2019-11-01 00:00:00</td>\n",
              "      <td>Month-to-month</td>\n",
              "      <td>Yes</td>\n",
              "      <td>Electronic check</td>\n",
              "      <td>70.70</td>\n",
              "      <td>151.65</td>\n",
              "    </tr>\n",
              "  </tbody>\n",
              "</table>\n",
              "</div>"
            ],
            "text/plain": [
              "   customerID   BeginDate              EndDate            Type  \\\n",
              "0  7590-VHVEG  2020-01-01                   No  Month-to-month   \n",
              "1  5575-GNVDE  2017-04-01                   No        One year   \n",
              "2  3668-QPYBK  2019-10-01  2019-12-01 00:00:00  Month-to-month   \n",
              "3  7795-CFOCW  2016-05-01                   No        One year   \n",
              "4  9237-HQITU  2019-09-01  2019-11-01 00:00:00  Month-to-month   \n",
              "\n",
              "  PaperlessBilling              PaymentMethod  MonthlyCharges TotalCharges  \n",
              "0              Yes           Electronic check           29.85        29.85  \n",
              "1               No               Mailed check           56.95       1889.5  \n",
              "2              Yes               Mailed check           53.85       108.15  \n",
              "3               No  Bank transfer (automatic)           42.30      1840.75  \n",
              "4              Yes           Electronic check           70.70       151.65  "
            ]
          },
          "execution_count": 3,
          "metadata": {},
          "output_type": "execute_result"
        }
      ],
      "source": [
        "contract.info()\n",
        "contract.head()"
      ]
    },
    {
      "cell_type": "code",
      "execution_count": null,
      "metadata": {
        "id": "Bs_N5Pxz0-EY",
        "outputId": "f7fc0928-d752-453e-c29a-a8138bd1af02"
      },
      "outputs": [
        {
          "data": {
            "text/plain": [
              "Month-to-month    3875\n",
              "Two year          1695\n",
              "One year          1473\n",
              "Name: Type, dtype: int64"
            ]
          },
          "execution_count": 4,
          "metadata": {},
          "output_type": "execute_result"
        }
      ],
      "source": [
        "contract['Type'].value_counts()"
      ]
    },
    {
      "cell_type": "code",
      "execution_count": null,
      "metadata": {
        "id": "pi4GliJ10-EZ",
        "outputId": "ba2d0c9b-4a93-468c-e246-fb6b231eaf8c"
      },
      "outputs": [
        {
          "data": {
            "text/plain": [
              "Electronic check             2365\n",
              "Mailed check                 1612\n",
              "Bank transfer (automatic)    1544\n",
              "Credit card (automatic)      1522\n",
              "Name: PaymentMethod, dtype: int64"
            ]
          },
          "execution_count": 5,
          "metadata": {},
          "output_type": "execute_result"
        }
      ],
      "source": [
        "contract['PaymentMethod'].value_counts()"
      ]
    },
    {
      "cell_type": "markdown",
      "metadata": {
        "id": "71BKOw8U0-Ea"
      },
      "source": [
        "В таблице *contract* 7043 строк, 8 столбцов и нет пропущенных значений. В столбце *Type* три типа контракта: месячный, годичный и двухгодичный, в столбце *PaymentMethod* четыре варианта оплаты: электронный чек, чек по почте, банковский перевод (автоматический) и кредитная карта (автоматический)."
      ]
    },
    {
      "cell_type": "code",
      "execution_count": null,
      "metadata": {
        "id": "cuAXu6oL0-Ea"
      },
      "outputs": [],
      "source": [
        "contract['BeginDate'] = pd.to_datetime(contract['BeginDate'])"
      ]
    },
    {
      "cell_type": "code",
      "execution_count": null,
      "metadata": {
        "id": "cte9n2ng0-Eb"
      },
      "outputs": [],
      "source": [
        "contract['NotClient'] = (contract['EndDate'] != 'No').astype(int) #добавили столбец, показывающий активный клиент или нет"
      ]
    },
    {
      "cell_type": "code",
      "execution_count": null,
      "metadata": {
        "id": "0CUUthqz0-Ed"
      },
      "outputs": [],
      "source": [
        "contract['EndDate'] = pd.to_datetime(contract['EndDate'].replace(['No'], ['2020-02-01']))"
      ]
    },
    {
      "cell_type": "code",
      "execution_count": null,
      "metadata": {
        "id": "Olx4jr_z0-Ed"
      },
      "outputs": [],
      "source": [
        "contract['Lifetime'] = (contract['EndDate'] - contract['BeginDate']).dt.days"
      ]
    },
    {
      "cell_type": "code",
      "execution_count": null,
      "metadata": {
        "id": "1Zb7Dy4e0-Ee",
        "outputId": "fc99eecd-6597-4f42-d4ba-40df089bddb4"
      },
      "outputs": [
        {
          "data": {
            "text/html": [
              "<div>\n",
              "<style scoped>\n",
              "    .dataframe tbody tr th:only-of-type {\n",
              "        vertical-align: middle;\n",
              "    }\n",
              "\n",
              "    .dataframe tbody tr th {\n",
              "        vertical-align: top;\n",
              "    }\n",
              "\n",
              "    .dataframe thead th {\n",
              "        text-align: right;\n",
              "    }\n",
              "</style>\n",
              "<table border=\"1\" class=\"dataframe\">\n",
              "  <thead>\n",
              "    <tr style=\"text-align: right;\">\n",
              "      <th></th>\n",
              "      <th>customerID</th>\n",
              "      <th>BeginDate</th>\n",
              "      <th>EndDate</th>\n",
              "      <th>Type</th>\n",
              "      <th>PaperlessBilling</th>\n",
              "      <th>PaymentMethod</th>\n",
              "      <th>MonthlyCharges</th>\n",
              "      <th>TotalCharges</th>\n",
              "      <th>NotClient</th>\n",
              "      <th>Lifetime</th>\n",
              "    </tr>\n",
              "  </thead>\n",
              "  <tbody>\n",
              "    <tr>\n",
              "      <td>0</td>\n",
              "      <td>7590-VHVEG</td>\n",
              "      <td>2020-01-01</td>\n",
              "      <td>2020-02-01</td>\n",
              "      <td>Month-to-month</td>\n",
              "      <td>Yes</td>\n",
              "      <td>Electronic check</td>\n",
              "      <td>29.85</td>\n",
              "      <td>29.85</td>\n",
              "      <td>0</td>\n",
              "      <td>31</td>\n",
              "    </tr>\n",
              "    <tr>\n",
              "      <td>1</td>\n",
              "      <td>5575-GNVDE</td>\n",
              "      <td>2017-04-01</td>\n",
              "      <td>2020-02-01</td>\n",
              "      <td>One year</td>\n",
              "      <td>No</td>\n",
              "      <td>Mailed check</td>\n",
              "      <td>56.95</td>\n",
              "      <td>1889.5</td>\n",
              "      <td>0</td>\n",
              "      <td>1036</td>\n",
              "    </tr>\n",
              "    <tr>\n",
              "      <td>2</td>\n",
              "      <td>3668-QPYBK</td>\n",
              "      <td>2019-10-01</td>\n",
              "      <td>2019-12-01</td>\n",
              "      <td>Month-to-month</td>\n",
              "      <td>Yes</td>\n",
              "      <td>Mailed check</td>\n",
              "      <td>53.85</td>\n",
              "      <td>108.15</td>\n",
              "      <td>1</td>\n",
              "      <td>61</td>\n",
              "    </tr>\n",
              "    <tr>\n",
              "      <td>3</td>\n",
              "      <td>7795-CFOCW</td>\n",
              "      <td>2016-05-01</td>\n",
              "      <td>2020-02-01</td>\n",
              "      <td>One year</td>\n",
              "      <td>No</td>\n",
              "      <td>Bank transfer (automatic)</td>\n",
              "      <td>42.30</td>\n",
              "      <td>1840.75</td>\n",
              "      <td>0</td>\n",
              "      <td>1371</td>\n",
              "    </tr>\n",
              "    <tr>\n",
              "      <td>4</td>\n",
              "      <td>9237-HQITU</td>\n",
              "      <td>2019-09-01</td>\n",
              "      <td>2019-11-01</td>\n",
              "      <td>Month-to-month</td>\n",
              "      <td>Yes</td>\n",
              "      <td>Electronic check</td>\n",
              "      <td>70.70</td>\n",
              "      <td>151.65</td>\n",
              "      <td>1</td>\n",
              "      <td>61</td>\n",
              "    </tr>\n",
              "  </tbody>\n",
              "</table>\n",
              "</div>"
            ],
            "text/plain": [
              "   customerID  BeginDate    EndDate            Type PaperlessBilling  \\\n",
              "0  7590-VHVEG 2020-01-01 2020-02-01  Month-to-month              Yes   \n",
              "1  5575-GNVDE 2017-04-01 2020-02-01        One year               No   \n",
              "2  3668-QPYBK 2019-10-01 2019-12-01  Month-to-month              Yes   \n",
              "3  7795-CFOCW 2016-05-01 2020-02-01        One year               No   \n",
              "4  9237-HQITU 2019-09-01 2019-11-01  Month-to-month              Yes   \n",
              "\n",
              "               PaymentMethod  MonthlyCharges TotalCharges  NotClient  Lifetime  \n",
              "0           Electronic check           29.85        29.85          0        31  \n",
              "1               Mailed check           56.95       1889.5          0      1036  \n",
              "2               Mailed check           53.85       108.15          1        61  \n",
              "3  Bank transfer (automatic)           42.30      1840.75          0      1371  \n",
              "4           Electronic check           70.70       151.65          1        61  "
            ]
          },
          "execution_count": 10,
          "metadata": {},
          "output_type": "execute_result"
        }
      ],
      "source": [
        "contract.head()"
      ]
    },
    {
      "cell_type": "markdown",
      "metadata": {
        "id": "aPwxKmNV0-Ef"
      },
      "source": [
        "Тип данных в столбце *BeginDate* был преобразован в формат *datetime*, а столбец *EndDate* содержит целевой признак, значение *No* в столбце означает, что контракт действующий.\n",
        "\n",
        "Создали столбец *NotClient* с целевым признаком, который показывает, является ли клиент активным или нет (1 - не клиент, 0 - клиент). Также был создан столбец *Lifetime*, показывающий период использования услуг в днях.\n",
        "\n",
        "Чтобы избежать утечку данных, удалим столбцы с датами."
      ]
    },
    {
      "cell_type": "code",
      "execution_count": null,
      "metadata": {
        "id": "8wHQQbBn0-Ef"
      },
      "outputs": [],
      "source": [
        "contract = contract.drop(['BeginDate','EndDate'], axis=1)"
      ]
    },
    {
      "cell_type": "code",
      "execution_count": null,
      "metadata": {
        "id": "3i4n-kDh0-Eg"
      },
      "outputs": [],
      "source": [
        "contract['TotalCharges'] = pd.to_numeric(contract['TotalCharges'], errors ='coerce')"
      ]
    },
    {
      "cell_type": "code",
      "execution_count": null,
      "metadata": {
        "id": "86o84zki0-Eh",
        "outputId": "b06e41c5-3cd1-4e29-a3a1-7252d0881250"
      },
      "outputs": [
        {
          "name": "stdout",
          "output_type": "stream",
          "text": [
            "<class 'pandas.core.frame.DataFrame'>\n",
            "RangeIndex: 7043 entries, 0 to 7042\n",
            "Data columns (total 8 columns):\n",
            "customerID          7043 non-null object\n",
            "Type                7043 non-null object\n",
            "PaperlessBilling    7043 non-null object\n",
            "PaymentMethod       7043 non-null object\n",
            "MonthlyCharges      7043 non-null float64\n",
            "TotalCharges        7032 non-null float64\n",
            "NotClient           7043 non-null int64\n",
            "Lifetime            7043 non-null int64\n",
            "dtypes: float64(2), int64(2), object(4)\n",
            "memory usage: 440.3+ KB\n"
          ]
        }
      ],
      "source": [
        "contract.info()"
      ]
    },
    {
      "cell_type": "code",
      "execution_count": null,
      "metadata": {
        "id": "otHobNPz0-Ej",
        "outputId": "bc0d63e2-8cef-4ccf-9094-ccaf53b3388e"
      },
      "outputs": [
        {
          "data": {
            "text/plain": [
              "customerID           0\n",
              "Type                 0\n",
              "PaperlessBilling     0\n",
              "PaymentMethod        0\n",
              "MonthlyCharges       0\n",
              "TotalCharges        11\n",
              "NotClient            0\n",
              "Lifetime             0\n",
              "dtype: int64"
            ]
          },
          "execution_count": 14,
          "metadata": {},
          "output_type": "execute_result"
        }
      ],
      "source": [
        "contract.isnull().sum()"
      ]
    },
    {
      "cell_type": "code",
      "execution_count": null,
      "metadata": {
        "id": "0GBuZDdD0-El",
        "outputId": "76cbf342-387c-481a-eb0c-13d092d2666e"
      },
      "outputs": [
        {
          "data": {
            "text/html": [
              "<div>\n",
              "<style scoped>\n",
              "    .dataframe tbody tr th:only-of-type {\n",
              "        vertical-align: middle;\n",
              "    }\n",
              "\n",
              "    .dataframe tbody tr th {\n",
              "        vertical-align: top;\n",
              "    }\n",
              "\n",
              "    .dataframe thead th {\n",
              "        text-align: right;\n",
              "    }\n",
              "</style>\n",
              "<table border=\"1\" class=\"dataframe\">\n",
              "  <thead>\n",
              "    <tr style=\"text-align: right;\">\n",
              "      <th></th>\n",
              "      <th>customerID</th>\n",
              "      <th>Type</th>\n",
              "      <th>PaperlessBilling</th>\n",
              "      <th>PaymentMethod</th>\n",
              "      <th>MonthlyCharges</th>\n",
              "      <th>TotalCharges</th>\n",
              "      <th>NotClient</th>\n",
              "      <th>Lifetime</th>\n",
              "    </tr>\n",
              "  </thead>\n",
              "  <tbody>\n",
              "    <tr>\n",
              "      <td>488</td>\n",
              "      <td>4472-LVYGI</td>\n",
              "      <td>Two year</td>\n",
              "      <td>Yes</td>\n",
              "      <td>Bank transfer (automatic)</td>\n",
              "      <td>52.55</td>\n",
              "      <td>NaN</td>\n",
              "      <td>0</td>\n",
              "      <td>0</td>\n",
              "    </tr>\n",
              "    <tr>\n",
              "      <td>753</td>\n",
              "      <td>3115-CZMZD</td>\n",
              "      <td>Two year</td>\n",
              "      <td>No</td>\n",
              "      <td>Mailed check</td>\n",
              "      <td>20.25</td>\n",
              "      <td>NaN</td>\n",
              "      <td>0</td>\n",
              "      <td>0</td>\n",
              "    </tr>\n",
              "    <tr>\n",
              "      <td>936</td>\n",
              "      <td>5709-LVOEQ</td>\n",
              "      <td>Two year</td>\n",
              "      <td>No</td>\n",
              "      <td>Mailed check</td>\n",
              "      <td>80.85</td>\n",
              "      <td>NaN</td>\n",
              "      <td>0</td>\n",
              "      <td>0</td>\n",
              "    </tr>\n",
              "    <tr>\n",
              "      <td>1082</td>\n",
              "      <td>4367-NUYAO</td>\n",
              "      <td>Two year</td>\n",
              "      <td>No</td>\n",
              "      <td>Mailed check</td>\n",
              "      <td>25.75</td>\n",
              "      <td>NaN</td>\n",
              "      <td>0</td>\n",
              "      <td>0</td>\n",
              "    </tr>\n",
              "    <tr>\n",
              "      <td>1340</td>\n",
              "      <td>1371-DWPAZ</td>\n",
              "      <td>Two year</td>\n",
              "      <td>No</td>\n",
              "      <td>Credit card (automatic)</td>\n",
              "      <td>56.05</td>\n",
              "      <td>NaN</td>\n",
              "      <td>0</td>\n",
              "      <td>0</td>\n",
              "    </tr>\n",
              "    <tr>\n",
              "      <td>3331</td>\n",
              "      <td>7644-OMVMY</td>\n",
              "      <td>Two year</td>\n",
              "      <td>No</td>\n",
              "      <td>Mailed check</td>\n",
              "      <td>19.85</td>\n",
              "      <td>NaN</td>\n",
              "      <td>0</td>\n",
              "      <td>0</td>\n",
              "    </tr>\n",
              "    <tr>\n",
              "      <td>3826</td>\n",
              "      <td>3213-VVOLG</td>\n",
              "      <td>Two year</td>\n",
              "      <td>No</td>\n",
              "      <td>Mailed check</td>\n",
              "      <td>25.35</td>\n",
              "      <td>NaN</td>\n",
              "      <td>0</td>\n",
              "      <td>0</td>\n",
              "    </tr>\n",
              "    <tr>\n",
              "      <td>4380</td>\n",
              "      <td>2520-SGTTA</td>\n",
              "      <td>Two year</td>\n",
              "      <td>No</td>\n",
              "      <td>Mailed check</td>\n",
              "      <td>20.00</td>\n",
              "      <td>NaN</td>\n",
              "      <td>0</td>\n",
              "      <td>0</td>\n",
              "    </tr>\n",
              "    <tr>\n",
              "      <td>5218</td>\n",
              "      <td>2923-ARZLG</td>\n",
              "      <td>One year</td>\n",
              "      <td>Yes</td>\n",
              "      <td>Mailed check</td>\n",
              "      <td>19.70</td>\n",
              "      <td>NaN</td>\n",
              "      <td>0</td>\n",
              "      <td>0</td>\n",
              "    </tr>\n",
              "    <tr>\n",
              "      <td>6670</td>\n",
              "      <td>4075-WKNIU</td>\n",
              "      <td>Two year</td>\n",
              "      <td>No</td>\n",
              "      <td>Mailed check</td>\n",
              "      <td>73.35</td>\n",
              "      <td>NaN</td>\n",
              "      <td>0</td>\n",
              "      <td>0</td>\n",
              "    </tr>\n",
              "    <tr>\n",
              "      <td>6754</td>\n",
              "      <td>2775-SEFEE</td>\n",
              "      <td>Two year</td>\n",
              "      <td>Yes</td>\n",
              "      <td>Bank transfer (automatic)</td>\n",
              "      <td>61.90</td>\n",
              "      <td>NaN</td>\n",
              "      <td>0</td>\n",
              "      <td>0</td>\n",
              "    </tr>\n",
              "  </tbody>\n",
              "</table>\n",
              "</div>"
            ],
            "text/plain": [
              "      customerID      Type PaperlessBilling              PaymentMethod  \\\n",
              "488   4472-LVYGI  Two year              Yes  Bank transfer (automatic)   \n",
              "753   3115-CZMZD  Two year               No               Mailed check   \n",
              "936   5709-LVOEQ  Two year               No               Mailed check   \n",
              "1082  4367-NUYAO  Two year               No               Mailed check   \n",
              "1340  1371-DWPAZ  Two year               No    Credit card (automatic)   \n",
              "3331  7644-OMVMY  Two year               No               Mailed check   \n",
              "3826  3213-VVOLG  Two year               No               Mailed check   \n",
              "4380  2520-SGTTA  Two year               No               Mailed check   \n",
              "5218  2923-ARZLG  One year              Yes               Mailed check   \n",
              "6670  4075-WKNIU  Two year               No               Mailed check   \n",
              "6754  2775-SEFEE  Two year              Yes  Bank transfer (automatic)   \n",
              "\n",
              "      MonthlyCharges  TotalCharges  NotClient  Lifetime  \n",
              "488            52.55           NaN          0         0  \n",
              "753            20.25           NaN          0         0  \n",
              "936            80.85           NaN          0         0  \n",
              "1082           25.75           NaN          0         0  \n",
              "1340           56.05           NaN          0         0  \n",
              "3331           19.85           NaN          0         0  \n",
              "3826           25.35           NaN          0         0  \n",
              "4380           20.00           NaN          0         0  \n",
              "5218           19.70           NaN          0         0  \n",
              "6670           73.35           NaN          0         0  \n",
              "6754           61.90           NaN          0         0  "
            ]
          },
          "execution_count": 15,
          "metadata": {},
          "output_type": "execute_result"
        }
      ],
      "source": [
        "contract[contract['TotalCharges'].isnull()] #проверяем NaN значения столбца TotalCharges"
      ]
    },
    {
      "cell_type": "markdown",
      "metadata": {
        "id": "gRKlSQfk0-Em"
      },
      "source": [
        "Пропуски в столбце *TotalCharges* появились у тех клиентов, кто подключился к услугам 01-02-2020."
      ]
    },
    {
      "cell_type": "code",
      "execution_count": null,
      "metadata": {
        "id": "Yd3VSGGx0-Em"
      },
      "outputs": [],
      "source": [
        "contract['TotalCharges'] = contract['TotalCharges'].fillna(0) #заполнили NaN значения нулями"
      ]
    },
    {
      "cell_type": "code",
      "execution_count": null,
      "metadata": {
        "id": "jWZ0nCW30-En",
        "outputId": "7e11c841-f8b2-4468-9136-39f8c19c750c"
      },
      "outputs": [
        {
          "data": {
            "text/plain": [
              "customerID          0\n",
              "Type                0\n",
              "PaperlessBilling    0\n",
              "PaymentMethod       0\n",
              "MonthlyCharges      0\n",
              "TotalCharges        0\n",
              "NotClient           0\n",
              "Lifetime            0\n",
              "dtype: int64"
            ]
          },
          "execution_count": 17,
          "metadata": {},
          "output_type": "execute_result"
        }
      ],
      "source": [
        "contract.isnull().sum()"
      ]
    },
    {
      "cell_type": "code",
      "execution_count": null,
      "metadata": {
        "id": "diK2Z2Ex0-Er",
        "outputId": "849a934e-2c15-4d4f-a2fc-05048ebd88e2"
      },
      "outputs": [
        {
          "name": "stdout",
          "output_type": "stream",
          "text": [
            "<class 'pandas.core.frame.DataFrame'>\n",
            "RangeIndex: 7043 entries, 0 to 7042\n",
            "Data columns (total 5 columns):\n",
            "customerID       7043 non-null object\n",
            "gender           7043 non-null object\n",
            "SeniorCitizen    7043 non-null int64\n",
            "Partner          7043 non-null object\n",
            "Dependents       7043 non-null object\n",
            "dtypes: int64(1), object(4)\n",
            "memory usage: 275.2+ KB\n"
          ]
        },
        {
          "data": {
            "text/html": [
              "<div>\n",
              "<style scoped>\n",
              "    .dataframe tbody tr th:only-of-type {\n",
              "        vertical-align: middle;\n",
              "    }\n",
              "\n",
              "    .dataframe tbody tr th {\n",
              "        vertical-align: top;\n",
              "    }\n",
              "\n",
              "    .dataframe thead th {\n",
              "        text-align: right;\n",
              "    }\n",
              "</style>\n",
              "<table border=\"1\" class=\"dataframe\">\n",
              "  <thead>\n",
              "    <tr style=\"text-align: right;\">\n",
              "      <th></th>\n",
              "      <th>customerID</th>\n",
              "      <th>gender</th>\n",
              "      <th>SeniorCitizen</th>\n",
              "      <th>Partner</th>\n",
              "      <th>Dependents</th>\n",
              "    </tr>\n",
              "  </thead>\n",
              "  <tbody>\n",
              "    <tr>\n",
              "      <td>0</td>\n",
              "      <td>7590-VHVEG</td>\n",
              "      <td>Female</td>\n",
              "      <td>0</td>\n",
              "      <td>Yes</td>\n",
              "      <td>No</td>\n",
              "    </tr>\n",
              "    <tr>\n",
              "      <td>1</td>\n",
              "      <td>5575-GNVDE</td>\n",
              "      <td>Male</td>\n",
              "      <td>0</td>\n",
              "      <td>No</td>\n",
              "      <td>No</td>\n",
              "    </tr>\n",
              "    <tr>\n",
              "      <td>2</td>\n",
              "      <td>3668-QPYBK</td>\n",
              "      <td>Male</td>\n",
              "      <td>0</td>\n",
              "      <td>No</td>\n",
              "      <td>No</td>\n",
              "    </tr>\n",
              "    <tr>\n",
              "      <td>3</td>\n",
              "      <td>7795-CFOCW</td>\n",
              "      <td>Male</td>\n",
              "      <td>0</td>\n",
              "      <td>No</td>\n",
              "      <td>No</td>\n",
              "    </tr>\n",
              "    <tr>\n",
              "      <td>4</td>\n",
              "      <td>9237-HQITU</td>\n",
              "      <td>Female</td>\n",
              "      <td>0</td>\n",
              "      <td>No</td>\n",
              "      <td>No</td>\n",
              "    </tr>\n",
              "  </tbody>\n",
              "</table>\n",
              "</div>"
            ],
            "text/plain": [
              "   customerID  gender  SeniorCitizen Partner Dependents\n",
              "0  7590-VHVEG  Female              0     Yes         No\n",
              "1  5575-GNVDE    Male              0      No         No\n",
              "2  3668-QPYBK    Male              0      No         No\n",
              "3  7795-CFOCW    Male              0      No         No\n",
              "4  9237-HQITU  Female              0      No         No"
            ]
          },
          "execution_count": 18,
          "metadata": {},
          "output_type": "execute_result"
        }
      ],
      "source": [
        "personal.info()\n",
        "personal.head()"
      ]
    },
    {
      "cell_type": "code",
      "execution_count": null,
      "metadata": {
        "id": "ujJEErN50-Es"
      },
      "outputs": [],
      "source": [
        "personal = personal.rename(columns={'gender':'Gender'})"
      ]
    },
    {
      "cell_type": "code",
      "execution_count": null,
      "metadata": {
        "id": "wx2oHVY_0-Et",
        "outputId": "3d67a8fa-c4a2-42d8-ebf8-65b523da85bf"
      },
      "outputs": [
        {
          "data": {
            "text/html": [
              "<div>\n",
              "<style scoped>\n",
              "    .dataframe tbody tr th:only-of-type {\n",
              "        vertical-align: middle;\n",
              "    }\n",
              "\n",
              "    .dataframe tbody tr th {\n",
              "        vertical-align: top;\n",
              "    }\n",
              "\n",
              "    .dataframe thead th {\n",
              "        text-align: right;\n",
              "    }\n",
              "</style>\n",
              "<table border=\"1\" class=\"dataframe\">\n",
              "  <thead>\n",
              "    <tr style=\"text-align: right;\">\n",
              "      <th></th>\n",
              "      <th>customerID</th>\n",
              "      <th>Gender</th>\n",
              "      <th>SeniorCitizen</th>\n",
              "      <th>Partner</th>\n",
              "      <th>Dependents</th>\n",
              "    </tr>\n",
              "  </thead>\n",
              "  <tbody>\n",
              "    <tr>\n",
              "      <td>0</td>\n",
              "      <td>7590-VHVEG</td>\n",
              "      <td>Female</td>\n",
              "      <td>0</td>\n",
              "      <td>Yes</td>\n",
              "      <td>No</td>\n",
              "    </tr>\n",
              "    <tr>\n",
              "      <td>1</td>\n",
              "      <td>5575-GNVDE</td>\n",
              "      <td>Male</td>\n",
              "      <td>0</td>\n",
              "      <td>No</td>\n",
              "      <td>No</td>\n",
              "    </tr>\n",
              "    <tr>\n",
              "      <td>2</td>\n",
              "      <td>3668-QPYBK</td>\n",
              "      <td>Male</td>\n",
              "      <td>0</td>\n",
              "      <td>No</td>\n",
              "      <td>No</td>\n",
              "    </tr>\n",
              "    <tr>\n",
              "      <td>3</td>\n",
              "      <td>7795-CFOCW</td>\n",
              "      <td>Male</td>\n",
              "      <td>0</td>\n",
              "      <td>No</td>\n",
              "      <td>No</td>\n",
              "    </tr>\n",
              "    <tr>\n",
              "      <td>4</td>\n",
              "      <td>9237-HQITU</td>\n",
              "      <td>Female</td>\n",
              "      <td>0</td>\n",
              "      <td>No</td>\n",
              "      <td>No</td>\n",
              "    </tr>\n",
              "  </tbody>\n",
              "</table>\n",
              "</div>"
            ],
            "text/plain": [
              "   customerID  Gender  SeniorCitizen Partner Dependents\n",
              "0  7590-VHVEG  Female              0     Yes         No\n",
              "1  5575-GNVDE    Male              0      No         No\n",
              "2  3668-QPYBK    Male              0      No         No\n",
              "3  7795-CFOCW    Male              0      No         No\n",
              "4  9237-HQITU  Female              0      No         No"
            ]
          },
          "execution_count": 20,
          "metadata": {},
          "output_type": "execute_result"
        }
      ],
      "source": [
        "personal.head()"
      ]
    },
    {
      "cell_type": "code",
      "execution_count": null,
      "metadata": {
        "id": "Kfye7REI0-Eu",
        "outputId": "56f9c099-907e-471e-e720-3ecf7f62801d"
      },
      "outputs": [
        {
          "name": "stdout",
          "output_type": "stream",
          "text": [
            "<class 'pandas.core.frame.DataFrame'>\n",
            "RangeIndex: 5517 entries, 0 to 5516\n",
            "Data columns (total 8 columns):\n",
            "customerID          5517 non-null object\n",
            "InternetService     5517 non-null object\n",
            "OnlineSecurity      5517 non-null object\n",
            "OnlineBackup        5517 non-null object\n",
            "DeviceProtection    5517 non-null object\n",
            "TechSupport         5517 non-null object\n",
            "StreamingTV         5517 non-null object\n",
            "StreamingMovies     5517 non-null object\n",
            "dtypes: object(8)\n",
            "memory usage: 344.9+ KB\n"
          ]
        },
        {
          "data": {
            "text/html": [
              "<div>\n",
              "<style scoped>\n",
              "    .dataframe tbody tr th:only-of-type {\n",
              "        vertical-align: middle;\n",
              "    }\n",
              "\n",
              "    .dataframe tbody tr th {\n",
              "        vertical-align: top;\n",
              "    }\n",
              "\n",
              "    .dataframe thead th {\n",
              "        text-align: right;\n",
              "    }\n",
              "</style>\n",
              "<table border=\"1\" class=\"dataframe\">\n",
              "  <thead>\n",
              "    <tr style=\"text-align: right;\">\n",
              "      <th></th>\n",
              "      <th>customerID</th>\n",
              "      <th>InternetService</th>\n",
              "      <th>OnlineSecurity</th>\n",
              "      <th>OnlineBackup</th>\n",
              "      <th>DeviceProtection</th>\n",
              "      <th>TechSupport</th>\n",
              "      <th>StreamingTV</th>\n",
              "      <th>StreamingMovies</th>\n",
              "    </tr>\n",
              "  </thead>\n",
              "  <tbody>\n",
              "    <tr>\n",
              "      <td>0</td>\n",
              "      <td>7590-VHVEG</td>\n",
              "      <td>DSL</td>\n",
              "      <td>No</td>\n",
              "      <td>Yes</td>\n",
              "      <td>No</td>\n",
              "      <td>No</td>\n",
              "      <td>No</td>\n",
              "      <td>No</td>\n",
              "    </tr>\n",
              "    <tr>\n",
              "      <td>1</td>\n",
              "      <td>5575-GNVDE</td>\n",
              "      <td>DSL</td>\n",
              "      <td>Yes</td>\n",
              "      <td>No</td>\n",
              "      <td>Yes</td>\n",
              "      <td>No</td>\n",
              "      <td>No</td>\n",
              "      <td>No</td>\n",
              "    </tr>\n",
              "    <tr>\n",
              "      <td>2</td>\n",
              "      <td>3668-QPYBK</td>\n",
              "      <td>DSL</td>\n",
              "      <td>Yes</td>\n",
              "      <td>Yes</td>\n",
              "      <td>No</td>\n",
              "      <td>No</td>\n",
              "      <td>No</td>\n",
              "      <td>No</td>\n",
              "    </tr>\n",
              "    <tr>\n",
              "      <td>3</td>\n",
              "      <td>7795-CFOCW</td>\n",
              "      <td>DSL</td>\n",
              "      <td>Yes</td>\n",
              "      <td>No</td>\n",
              "      <td>Yes</td>\n",
              "      <td>Yes</td>\n",
              "      <td>No</td>\n",
              "      <td>No</td>\n",
              "    </tr>\n",
              "    <tr>\n",
              "      <td>4</td>\n",
              "      <td>9237-HQITU</td>\n",
              "      <td>Fiber optic</td>\n",
              "      <td>No</td>\n",
              "      <td>No</td>\n",
              "      <td>No</td>\n",
              "      <td>No</td>\n",
              "      <td>No</td>\n",
              "      <td>No</td>\n",
              "    </tr>\n",
              "  </tbody>\n",
              "</table>\n",
              "</div>"
            ],
            "text/plain": [
              "   customerID InternetService OnlineSecurity OnlineBackup DeviceProtection  \\\n",
              "0  7590-VHVEG             DSL             No          Yes               No   \n",
              "1  5575-GNVDE             DSL            Yes           No              Yes   \n",
              "2  3668-QPYBK             DSL            Yes          Yes               No   \n",
              "3  7795-CFOCW             DSL            Yes           No              Yes   \n",
              "4  9237-HQITU     Fiber optic             No           No               No   \n",
              "\n",
              "  TechSupport StreamingTV StreamingMovies  \n",
              "0          No          No              No  \n",
              "1          No          No              No  \n",
              "2          No          No              No  \n",
              "3         Yes          No              No  \n",
              "4          No          No              No  "
            ]
          },
          "execution_count": 21,
          "metadata": {},
          "output_type": "execute_result"
        }
      ],
      "source": [
        "internet.info()\n",
        "internet.head()"
      ]
    },
    {
      "cell_type": "code",
      "execution_count": null,
      "metadata": {
        "id": "YXssH2Hg0-Ev",
        "outputId": "8a7defdf-40c5-4ffa-ace9-5e373a4af24b"
      },
      "outputs": [
        {
          "name": "stdout",
          "output_type": "stream",
          "text": [
            "<class 'pandas.core.frame.DataFrame'>\n",
            "RangeIndex: 6361 entries, 0 to 6360\n",
            "Data columns (total 2 columns):\n",
            "customerID       6361 non-null object\n",
            "MultipleLines    6361 non-null object\n",
            "dtypes: object(2)\n",
            "memory usage: 99.5+ KB\n"
          ]
        },
        {
          "data": {
            "text/html": [
              "<div>\n",
              "<style scoped>\n",
              "    .dataframe tbody tr th:only-of-type {\n",
              "        vertical-align: middle;\n",
              "    }\n",
              "\n",
              "    .dataframe tbody tr th {\n",
              "        vertical-align: top;\n",
              "    }\n",
              "\n",
              "    .dataframe thead th {\n",
              "        text-align: right;\n",
              "    }\n",
              "</style>\n",
              "<table border=\"1\" class=\"dataframe\">\n",
              "  <thead>\n",
              "    <tr style=\"text-align: right;\">\n",
              "      <th></th>\n",
              "      <th>customerID</th>\n",
              "      <th>MultipleLines</th>\n",
              "    </tr>\n",
              "  </thead>\n",
              "  <tbody>\n",
              "    <tr>\n",
              "      <td>0</td>\n",
              "      <td>5575-GNVDE</td>\n",
              "      <td>No</td>\n",
              "    </tr>\n",
              "    <tr>\n",
              "      <td>1</td>\n",
              "      <td>3668-QPYBK</td>\n",
              "      <td>No</td>\n",
              "    </tr>\n",
              "    <tr>\n",
              "      <td>2</td>\n",
              "      <td>9237-HQITU</td>\n",
              "      <td>No</td>\n",
              "    </tr>\n",
              "    <tr>\n",
              "      <td>3</td>\n",
              "      <td>9305-CDSKC</td>\n",
              "      <td>Yes</td>\n",
              "    </tr>\n",
              "    <tr>\n",
              "      <td>4</td>\n",
              "      <td>1452-KIOVK</td>\n",
              "      <td>Yes</td>\n",
              "    </tr>\n",
              "  </tbody>\n",
              "</table>\n",
              "</div>"
            ],
            "text/plain": [
              "   customerID MultipleLines\n",
              "0  5575-GNVDE            No\n",
              "1  3668-QPYBK            No\n",
              "2  9237-HQITU            No\n",
              "3  9305-CDSKC           Yes\n",
              "4  1452-KIOVK           Yes"
            ]
          },
          "execution_count": 22,
          "metadata": {},
          "output_type": "execute_result"
        }
      ],
      "source": [
        "phone.info()\n",
        "phone.head()"
      ]
    },
    {
      "cell_type": "code",
      "execution_count": null,
      "metadata": {
        "id": "Z669vjFj0-Ev"
      },
      "outputs": [],
      "source": [
        "data = contract.merge(personal, \n",
        "                      how='left', on='customerID').merge(internet, \n",
        "                      how='left', on='customerID').merge(phone, \n",
        "                      how='left', on='customerID') "
      ]
    },
    {
      "cell_type": "code",
      "execution_count": null,
      "metadata": {
        "id": "lvhy25XY0-Ew",
        "outputId": "22700589-8c2d-4827-df40-9d38d75efda4"
      },
      "outputs": [
        {
          "data": {
            "text/plain": [
              "0"
            ]
          },
          "execution_count": 24,
          "metadata": {},
          "output_type": "execute_result"
        }
      ],
      "source": [
        "data.duplicated().sum()"
      ]
    },
    {
      "cell_type": "code",
      "execution_count": null,
      "metadata": {
        "id": "_-HV8LZ90-Ew"
      },
      "outputs": [],
      "source": [
        "data = data.set_index('customerID')"
      ]
    },
    {
      "cell_type": "code",
      "execution_count": null,
      "metadata": {
        "id": "alCFzIBZ0-Ex",
        "outputId": "f56171b4-7a4e-42c3-af31-c88cc60bee0f"
      },
      "outputs": [
        {
          "data": {
            "text/html": [
              "<div>\n",
              "<style scoped>\n",
              "    .dataframe tbody tr th:only-of-type {\n",
              "        vertical-align: middle;\n",
              "    }\n",
              "\n",
              "    .dataframe tbody tr th {\n",
              "        vertical-align: top;\n",
              "    }\n",
              "\n",
              "    .dataframe thead th {\n",
              "        text-align: right;\n",
              "    }\n",
              "</style>\n",
              "<table border=\"1\" class=\"dataframe\">\n",
              "  <thead>\n",
              "    <tr style=\"text-align: right;\">\n",
              "      <th></th>\n",
              "      <th>Type</th>\n",
              "      <th>PaperlessBilling</th>\n",
              "      <th>PaymentMethod</th>\n",
              "      <th>MonthlyCharges</th>\n",
              "      <th>TotalCharges</th>\n",
              "      <th>NotClient</th>\n",
              "      <th>Lifetime</th>\n",
              "      <th>Gender</th>\n",
              "      <th>SeniorCitizen</th>\n",
              "      <th>Partner</th>\n",
              "      <th>Dependents</th>\n",
              "      <th>InternetService</th>\n",
              "      <th>OnlineSecurity</th>\n",
              "      <th>OnlineBackup</th>\n",
              "      <th>DeviceProtection</th>\n",
              "      <th>TechSupport</th>\n",
              "      <th>StreamingTV</th>\n",
              "      <th>StreamingMovies</th>\n",
              "      <th>MultipleLines</th>\n",
              "    </tr>\n",
              "    <tr>\n",
              "      <th>customerID</th>\n",
              "      <th></th>\n",
              "      <th></th>\n",
              "      <th></th>\n",
              "      <th></th>\n",
              "      <th></th>\n",
              "      <th></th>\n",
              "      <th></th>\n",
              "      <th></th>\n",
              "      <th></th>\n",
              "      <th></th>\n",
              "      <th></th>\n",
              "      <th></th>\n",
              "      <th></th>\n",
              "      <th></th>\n",
              "      <th></th>\n",
              "      <th></th>\n",
              "      <th></th>\n",
              "      <th></th>\n",
              "      <th></th>\n",
              "    </tr>\n",
              "  </thead>\n",
              "  <tbody>\n",
              "    <tr>\n",
              "      <td>7590-VHVEG</td>\n",
              "      <td>Month-to-month</td>\n",
              "      <td>Yes</td>\n",
              "      <td>Electronic check</td>\n",
              "      <td>29.85</td>\n",
              "      <td>29.85</td>\n",
              "      <td>0</td>\n",
              "      <td>31</td>\n",
              "      <td>Female</td>\n",
              "      <td>0</td>\n",
              "      <td>Yes</td>\n",
              "      <td>No</td>\n",
              "      <td>DSL</td>\n",
              "      <td>No</td>\n",
              "      <td>Yes</td>\n",
              "      <td>No</td>\n",
              "      <td>No</td>\n",
              "      <td>No</td>\n",
              "      <td>No</td>\n",
              "      <td>NaN</td>\n",
              "    </tr>\n",
              "    <tr>\n",
              "      <td>5575-GNVDE</td>\n",
              "      <td>One year</td>\n",
              "      <td>No</td>\n",
              "      <td>Mailed check</td>\n",
              "      <td>56.95</td>\n",
              "      <td>1889.50</td>\n",
              "      <td>0</td>\n",
              "      <td>1036</td>\n",
              "      <td>Male</td>\n",
              "      <td>0</td>\n",
              "      <td>No</td>\n",
              "      <td>No</td>\n",
              "      <td>DSL</td>\n",
              "      <td>Yes</td>\n",
              "      <td>No</td>\n",
              "      <td>Yes</td>\n",
              "      <td>No</td>\n",
              "      <td>No</td>\n",
              "      <td>No</td>\n",
              "      <td>No</td>\n",
              "    </tr>\n",
              "    <tr>\n",
              "      <td>3668-QPYBK</td>\n",
              "      <td>Month-to-month</td>\n",
              "      <td>Yes</td>\n",
              "      <td>Mailed check</td>\n",
              "      <td>53.85</td>\n",
              "      <td>108.15</td>\n",
              "      <td>1</td>\n",
              "      <td>61</td>\n",
              "      <td>Male</td>\n",
              "      <td>0</td>\n",
              "      <td>No</td>\n",
              "      <td>No</td>\n",
              "      <td>DSL</td>\n",
              "      <td>Yes</td>\n",
              "      <td>Yes</td>\n",
              "      <td>No</td>\n",
              "      <td>No</td>\n",
              "      <td>No</td>\n",
              "      <td>No</td>\n",
              "      <td>No</td>\n",
              "    </tr>\n",
              "    <tr>\n",
              "      <td>7795-CFOCW</td>\n",
              "      <td>One year</td>\n",
              "      <td>No</td>\n",
              "      <td>Bank transfer (automatic)</td>\n",
              "      <td>42.30</td>\n",
              "      <td>1840.75</td>\n",
              "      <td>0</td>\n",
              "      <td>1371</td>\n",
              "      <td>Male</td>\n",
              "      <td>0</td>\n",
              "      <td>No</td>\n",
              "      <td>No</td>\n",
              "      <td>DSL</td>\n",
              "      <td>Yes</td>\n",
              "      <td>No</td>\n",
              "      <td>Yes</td>\n",
              "      <td>Yes</td>\n",
              "      <td>No</td>\n",
              "      <td>No</td>\n",
              "      <td>NaN</td>\n",
              "    </tr>\n",
              "    <tr>\n",
              "      <td>9237-HQITU</td>\n",
              "      <td>Month-to-month</td>\n",
              "      <td>Yes</td>\n",
              "      <td>Electronic check</td>\n",
              "      <td>70.70</td>\n",
              "      <td>151.65</td>\n",
              "      <td>1</td>\n",
              "      <td>61</td>\n",
              "      <td>Female</td>\n",
              "      <td>0</td>\n",
              "      <td>No</td>\n",
              "      <td>No</td>\n",
              "      <td>Fiber optic</td>\n",
              "      <td>No</td>\n",
              "      <td>No</td>\n",
              "      <td>No</td>\n",
              "      <td>No</td>\n",
              "      <td>No</td>\n",
              "      <td>No</td>\n",
              "      <td>No</td>\n",
              "    </tr>\n",
              "  </tbody>\n",
              "</table>\n",
              "</div>"
            ],
            "text/plain": [
              "                      Type PaperlessBilling              PaymentMethod  \\\n",
              "customerID                                                               \n",
              "7590-VHVEG  Month-to-month              Yes           Electronic check   \n",
              "5575-GNVDE        One year               No               Mailed check   \n",
              "3668-QPYBK  Month-to-month              Yes               Mailed check   \n",
              "7795-CFOCW        One year               No  Bank transfer (automatic)   \n",
              "9237-HQITU  Month-to-month              Yes           Electronic check   \n",
              "\n",
              "            MonthlyCharges  TotalCharges  NotClient  Lifetime  Gender  \\\n",
              "customerID                                                              \n",
              "7590-VHVEG           29.85         29.85          0        31  Female   \n",
              "5575-GNVDE           56.95       1889.50          0      1036    Male   \n",
              "3668-QPYBK           53.85        108.15          1        61    Male   \n",
              "7795-CFOCW           42.30       1840.75          0      1371    Male   \n",
              "9237-HQITU           70.70        151.65          1        61  Female   \n",
              "\n",
              "            SeniorCitizen Partner Dependents InternetService OnlineSecurity  \\\n",
              "customerID                                                                    \n",
              "7590-VHVEG              0     Yes         No             DSL             No   \n",
              "5575-GNVDE              0      No         No             DSL            Yes   \n",
              "3668-QPYBK              0      No         No             DSL            Yes   \n",
              "7795-CFOCW              0      No         No             DSL            Yes   \n",
              "9237-HQITU              0      No         No     Fiber optic             No   \n",
              "\n",
              "           OnlineBackup DeviceProtection TechSupport StreamingTV  \\\n",
              "customerID                                                         \n",
              "7590-VHVEG          Yes               No          No          No   \n",
              "5575-GNVDE           No              Yes          No          No   \n",
              "3668-QPYBK          Yes               No          No          No   \n",
              "7795-CFOCW           No              Yes         Yes          No   \n",
              "9237-HQITU           No               No          No          No   \n",
              "\n",
              "           StreamingMovies MultipleLines  \n",
              "customerID                                \n",
              "7590-VHVEG              No           NaN  \n",
              "5575-GNVDE              No            No  \n",
              "3668-QPYBK              No            No  \n",
              "7795-CFOCW              No           NaN  \n",
              "9237-HQITU              No            No  "
            ]
          },
          "execution_count": 26,
          "metadata": {},
          "output_type": "execute_result"
        }
      ],
      "source": [
        "data.head()"
      ]
    },
    {
      "cell_type": "code",
      "execution_count": null,
      "metadata": {
        "id": "iCRB4Ghq0-Ex",
        "outputId": "1c0ddac3-434a-4d87-8a2b-fba8d31b62b8"
      },
      "outputs": [
        {
          "name": "stdout",
          "output_type": "stream",
          "text": [
            "<class 'pandas.core.frame.DataFrame'>\n",
            "Index: 7043 entries, 7590-VHVEG to 3186-AJIEK\n",
            "Data columns (total 19 columns):\n",
            "Type                7043 non-null object\n",
            "PaperlessBilling    7043 non-null object\n",
            "PaymentMethod       7043 non-null object\n",
            "MonthlyCharges      7043 non-null float64\n",
            "TotalCharges        7043 non-null float64\n",
            "NotClient           7043 non-null int64\n",
            "Lifetime            7043 non-null int64\n",
            "Gender              7043 non-null object\n",
            "SeniorCitizen       7043 non-null int64\n",
            "Partner             7043 non-null object\n",
            "Dependents          7043 non-null object\n",
            "InternetService     5517 non-null object\n",
            "OnlineSecurity      5517 non-null object\n",
            "OnlineBackup        5517 non-null object\n",
            "DeviceProtection    5517 non-null object\n",
            "TechSupport         5517 non-null object\n",
            "StreamingTV         5517 non-null object\n",
            "StreamingMovies     5517 non-null object\n",
            "MultipleLines       6361 non-null object\n",
            "dtypes: float64(2), int64(3), object(14)\n",
            "memory usage: 1.1+ MB\n"
          ]
        }
      ],
      "source": [
        "data.info()"
      ]
    },
    {
      "cell_type": "markdown",
      "metadata": {
        "id": "nLLjoX9e0-Ex"
      },
      "source": [
        "В столбцах *InternetService, OnlineSecurity, OnlineBackup, DeviceProtection, TechSupport, StreamingTV, StreamingMovies, MultipleLines* есть пропуски, заменим их на *No*.  "
      ]
    },
    {
      "cell_type": "code",
      "execution_count": null,
      "metadata": {
        "id": "dmxIavok0-Ey"
      },
      "outputs": [],
      "source": [
        "data = data.fillna('No')"
      ]
    },
    {
      "cell_type": "code",
      "execution_count": null,
      "metadata": {
        "id": "x1o0hdQQ0-Ey",
        "outputId": "ab11aa6e-a255-49e7-c949-25cdc68d28ac"
      },
      "outputs": [
        {
          "name": "stdout",
          "output_type": "stream",
          "text": [
            "<class 'pandas.core.frame.DataFrame'>\n",
            "Index: 7043 entries, 7590-VHVEG to 3186-AJIEK\n",
            "Data columns (total 19 columns):\n",
            "Type                7043 non-null object\n",
            "PaperlessBilling    7043 non-null object\n",
            "PaymentMethod       7043 non-null object\n",
            "MonthlyCharges      7043 non-null float64\n",
            "TotalCharges        7043 non-null float64\n",
            "NotClient           7043 non-null int64\n",
            "Lifetime            7043 non-null int64\n",
            "Gender              7043 non-null object\n",
            "SeniorCitizen       7043 non-null int64\n",
            "Partner             7043 non-null object\n",
            "Dependents          7043 non-null object\n",
            "InternetService     7043 non-null object\n",
            "OnlineSecurity      7043 non-null object\n",
            "OnlineBackup        7043 non-null object\n",
            "DeviceProtection    7043 non-null object\n",
            "TechSupport         7043 non-null object\n",
            "StreamingTV         7043 non-null object\n",
            "StreamingMovies     7043 non-null object\n",
            "MultipleLines       7043 non-null object\n",
            "dtypes: float64(2), int64(3), object(14)\n",
            "memory usage: 1.1+ MB\n"
          ]
        }
      ],
      "source": [
        "data.info()"
      ]
    },
    {
      "cell_type": "markdown",
      "metadata": {
        "id": "Lg4WpTPx0-Ey"
      },
      "source": [
        "## Исследовательский анализ"
      ]
    },
    {
      "cell_type": "code",
      "execution_count": null,
      "metadata": {
        "id": "yhffNmXb0-Ez"
      },
      "outputs": [],
      "source": [
        "numeric = ['MonthlyCharges', 'TotalCharges', 'Lifetime']"
      ]
    },
    {
      "cell_type": "code",
      "execution_count": null,
      "metadata": {
        "id": "qd6_lXtt0-Ez",
        "outputId": "2de4703c-d50c-4713-ae58-d68c32dddb2b"
      },
      "outputs": [
        {
          "data": {
            "image/png": "[encoded data removed]",
            "text/plain": [
              "<Figure size 1224x720 with 6 Axes>"
            ]
          },
          "metadata": {
            "needs_background": "light"
          },
          "output_type": "display_data"
        }
      ],
      "source": [
        "columns = 3\n",
        "rows = 2\n",
        "plt.figure(figsize=(17,10))\n",
        "num = 0\n",
        "for column in numeric:\n",
        "    num += 1\n",
        "    plt.subplot(rows, columns, num)\n",
        "    plt.hist(data[column])\n",
        "    plt.title(column)\n",
        "    \n",
        "\n",
        "for column in numeric:\n",
        "    num += 1\n",
        "    plt.subplot(rows, columns, num)\n",
        "    sns.boxplot(data[column])\n",
        "    plt.title(column)"
      ]
    },
    {
      "cell_type": "code",
      "execution_count": null,
      "metadata": {
        "id": "aOwXM6gC0-E0"
      },
      "outputs": [],
      "source": [
        "categorical = ['Type', 'PaperlessBilling', 'PaymentMethod',\n",
        "                 'Gender', 'SeniorCitizen', 'Partner', 'Dependents',\n",
        "                 'InternetService', 'OnlineSecurity', 'OnlineBackup',\n",
        "                 'DeviceProtection', 'TechSupport', 'StreamingTV', 'StreamingMovies', 'MultipleLines']"
      ]
    },
    {
      "cell_type": "code",
      "execution_count": null,
      "metadata": {
        "id": "dczh5_Js0-E2",
        "outputId": "84adc475-00cf-4e0c-e838-2a05a0d38cb3",
        "scrolled": false
      },
      "outputs": [
        {
          "data": {
            "image/png": "[encoded data removed]",
            "text/plain": [
              "<Figure size 1440x2520 with 15 Axes>"
            ]
          },
          "metadata": {
            "needs_background": "light"
          },
          "output_type": "display_data"
        }
      ],
      "source": [
        "columns=2\n",
        "rows = 8\n",
        "\n",
        "plt.figure(figsize=(20, 35))\n",
        "\n",
        "for idx, column in enumerate(categorical):\n",
        "    ax = plt.subplot(rows, columns, idx + 1)\n",
        "    \n",
        "    data[column].value_counts().plot(\n",
        "        kind='bar', \n",
        "        title=column, \n",
        "        ax=ax,\n",
        "        rot=0,\n",
        "    )\n",
        "        \n",
        "plt.show()"
      ]
    },
    {
      "cell_type": "markdown",
      "metadata": {
        "id": "wWkdjflI0-E3"
      },
      "source": [
        "Проверим количественные признаки на корреляцию:"
      ]
    },
    {
      "cell_type": "code",
      "execution_count": null,
      "metadata": {
        "id": "QxExpowc0-E3",
        "outputId": "106a7266-54b7-4d19-d843-78a641a121c7"
      },
      "outputs": [
        {
          "data": {
            "text/html": [
              "<div>\n",
              "<style scoped>\n",
              "    .dataframe tbody tr th:only-of-type {\n",
              "        vertical-align: middle;\n",
              "    }\n",
              "\n",
              "    .dataframe tbody tr th {\n",
              "        vertical-align: top;\n",
              "    }\n",
              "\n",
              "    .dataframe thead th {\n",
              "        text-align: right;\n",
              "    }\n",
              "</style>\n",
              "<table border=\"1\" class=\"dataframe\">\n",
              "  <thead>\n",
              "    <tr style=\"text-align: right;\">\n",
              "      <th></th>\n",
              "      <th>MonthlyCharges</th>\n",
              "      <th>TotalCharges</th>\n",
              "      <th>Lifetime</th>\n",
              "    </tr>\n",
              "  </thead>\n",
              "  <tbody>\n",
              "    <tr>\n",
              "      <td>MonthlyCharges</td>\n",
              "      <td>1.000000</td>\n",
              "      <td>0.651174</td>\n",
              "      <td>0.247754</td>\n",
              "    </tr>\n",
              "    <tr>\n",
              "      <td>TotalCharges</td>\n",
              "      <td>0.651174</td>\n",
              "      <td>1.000000</td>\n",
              "      <td>0.826109</td>\n",
              "    </tr>\n",
              "    <tr>\n",
              "      <td>Lifetime</td>\n",
              "      <td>0.247754</td>\n",
              "      <td>0.826109</td>\n",
              "      <td>1.000000</td>\n",
              "    </tr>\n",
              "  </tbody>\n",
              "</table>\n",
              "</div>"
            ],
            "text/plain": [
              "                MonthlyCharges  TotalCharges  Lifetime\n",
              "MonthlyCharges        1.000000      0.651174  0.247754\n",
              "TotalCharges          0.651174      1.000000  0.826109\n",
              "Lifetime              0.247754      0.826109  1.000000"
            ]
          },
          "execution_count": 34,
          "metadata": {},
          "output_type": "execute_result"
        }
      ],
      "source": [
        "data[numeric].corr()"
      ]
    },
    {
      "cell_type": "markdown",
      "metadata": {
        "id": "gMgsPAV10-E3"
      },
      "source": [
        "Между признаками *TotalCharges* и *Lifetime* сильная корреляция, 0.82, присутствует проблему мультиколлинеарности. Это объясняется тем, что чем дольше клиент пользуется услугами, тем больше составляют его общие расходы.\n",
        "\n",
        "Удалим признак *TotalCharges*."
      ]
    },
    {
      "cell_type": "code",
      "execution_count": null,
      "metadata": {
        "id": "BlB3mKLp0-E4"
      },
      "outputs": [],
      "source": [
        "data = data.drop('TotalCharges', 1)"
      ]
    },
    {
      "cell_type": "code",
      "execution_count": null,
      "metadata": {
        "id": "diy_4LHs0-E4"
      },
      "outputs": [],
      "source": [
        "numeric = ['MonthlyCharges', 'Lifetime']"
      ]
    },
    {
      "cell_type": "markdown",
      "metadata": {
        "id": "tAvOsJQh0-E5"
      },
      "source": [
        "## Подготовка признаков"
      ]
    },
    {
      "cell_type": "markdown",
      "metadata": {
        "id": "MsF3HBoF0-E5"
      },
      "source": [
        "Модели CatBoost и LightGBM работают с категориальными данными, только для модели LightGBM приведем категориальные признаки к формату category. Для LogisticRegression преобразуем признаки техникой One-Hot Encoding и стандартизируем их."
      ]
    },
    {
      "cell_type": "code",
      "execution_count": null,
      "metadata": {
        "id": "KBDdnqyx0-E6"
      },
      "outputs": [],
      "source": [
        "target = data['NotClient']\n",
        "features = data.drop('NotClient', axis=1)"
      ]
    },
    {
      "cell_type": "code",
      "execution_count": null,
      "metadata": {
        "id": "bZ-kyqqO0-E8"
      },
      "outputs": [],
      "source": [
        "features_train, features_valid, target_train, target_valid = train_test_split(\n",
        "    features, target, test_size=0.2, random_state=12345)\n",
        "features_train, features_test, target_train, target_test = train_test_split(\n",
        "    features_train, target_train, test_size=0.25, random_state=12345)"
      ]
    },
    {
      "cell_type": "code",
      "execution_count": null,
      "metadata": {
        "id": "s9asETyl0-E9"
      },
      "outputs": [],
      "source": [
        "data_ohe = pd.get_dummies(data, drop_first=True)"
      ]
    },
    {
      "cell_type": "code",
      "execution_count": null,
      "metadata": {
        "id": "sV2aEMrB0-E-"
      },
      "outputs": [],
      "source": [
        "target_ohe = data_ohe['NotClient']\n",
        "features_ohe = data_ohe.drop('NotClient', axis=1)"
      ]
    },
    {
      "cell_type": "code",
      "execution_count": null,
      "metadata": {
        "id": "iy8Rf3WZ0-E-"
      },
      "outputs": [],
      "source": [
        "features_train_ohe, features_valid_ohe, target_train_ohe, target_valid_ohe = train_test_split(\n",
        "    features_ohe, target_ohe, test_size=0.2, random_state=12345)\n",
        "features_train_ohe, features_test_ohe, target_train_ohe, target_test_ohe = train_test_split(\n",
        "    features_train_ohe, target_train_ohe, test_size=0.25, random_state=12345)"
      ]
    },
    {
      "cell_type": "markdown",
      "metadata": {
        "id": "43Xy4WKS0-E_"
      },
      "source": [
        "Так как у признаков разный масштаб, приведем их к одному масштабу с помощью стандартизации данных."
      ]
    },
    {
      "cell_type": "code",
      "execution_count": null,
      "metadata": {
        "id": "1Q0e5_RP0-E_",
        "outputId": "bda74c86-b5ee-4324-edba-30010e4418c5"
      },
      "outputs": [
        {
          "data": {
            "text/plain": [
              "StandardScaler(copy=True, with_mean=True, with_std=True)"
            ]
          },
          "execution_count": 42,
          "metadata": {},
          "output_type": "execute_result"
        }
      ],
      "source": [
        "scaler = StandardScaler()\n",
        "scaler.fit(features_train_ohe[numeric])"
      ]
    },
    {
      "cell_type": "code",
      "execution_count": null,
      "metadata": {
        "id": "OPDBjMyS0-E_"
      },
      "outputs": [],
      "source": [
        "features_train_ohe[numeric] = scaler.transform(features_train_ohe[numeric])\n",
        "features_valid_ohe[numeric] = scaler.transform(features_valid_ohe[numeric]) \n",
        "features_test_ohe[numeric] = scaler.transform(features_test_ohe[numeric]) "
      ]
    },
    {
      "cell_type": "markdown",
      "metadata": {
        "id": "WiPVhNoa0-E_"
      },
      "source": [
        "Проверим баланс классов:"
      ]
    },
    {
      "cell_type": "code",
      "execution_count": null,
      "metadata": {
        "id": "yiZMEisV0-FA",
        "outputId": "f3bc141b-5f40-4201-d7a9-c65a699653ba"
      },
      "outputs": [
        {
          "name": "stdout",
          "output_type": "stream",
          "text": [
            "0    0.73463\n",
            "1    0.26537\n",
            "Name: NotClient, dtype: float64\n"
          ]
        },
        {
          "data": {
            "text/plain": [
              "<matplotlib.axes._subplots.AxesSubplot at 0x7f47e8b19c10>"
            ]
          },
          "execution_count": 44,
          "metadata": {},
          "output_type": "execute_result"
        },
        {
          "data": {
            "image/png": "[encoded data removed]",
            "text/plain": [
              "<Figure size 432x288 with 1 Axes>"
            ]
          },
          "metadata": {
            "needs_background": "light"
          },
          "output_type": "display_data"
        }
      ],
      "source": [
        "class_frequency = data_ohe['NotClient'].value_counts(normalize=True)\n",
        "print(class_frequency)\n",
        "class_frequency.plot(kind='bar') "
      ]
    },
    {
      "cell_type": "markdown",
      "metadata": {
        "id": "XAZjhYqX0-FA"
      },
      "source": [
        "Из графика видим, что присутствует дисбаланс классов, соотношение 74% на 26%. Используем метод по взвешиванию классов для устранения дисбаланса, используем аргумент *class_weight* при обучении."
      ]
    },
    {
      "cell_type": "markdown",
      "metadata": {
        "id": "Ybl8SMzO0-FB"
      },
      "source": [
        "## Обучение моделей"
      ]
    },
    {
      "cell_type": "markdown",
      "metadata": {
        "id": "SJsi-g-z0-FB"
      },
      "source": [
        "Рассмотрим модели CatBoostClassifier, LGBMClassifier и LogisticRegression.\n",
        "\n",
        "**CatBoost**"
      ]
    },
    {
      "cell_type": "code",
      "execution_count": null,
      "metadata": {
        "id": "iwQC-fMl0-FC",
        "outputId": "fab73d95-6ca1-43b2-94b9-1119b72d5e09"
      },
      "outputs": [
        {
          "name": "stdout",
          "output_type": "stream",
          "text": [
            "{'iterations': 100, 'l2_leaf_reg': 3, 'learning_rate': 0.3}\n",
            "ROC-AUC: 0.8781041063606322\n",
            "Accuracy: 0.8204400283889283\n"
          ]
        }
      ],
      "source": [
        "param_grid = {\n",
        "    'learning_rate': [0.1, 0.3],\n",
        "    'iterations': [50, 100],\n",
        "    'l2_leaf_reg': [3, 9] }\n",
        "\n",
        "model = CatBoostClassifier(random_state=12345, verbose=False, class_weights = [0.73463,0.26537], cat_features=categorical)\n",
        "\n",
        "cat = GridSearchCV(model, param_grid, cv=5, scoring='roc_auc')\n",
        "cat.fit(features_train, target_train)\n",
        "\n",
        "predictions_valid = cat.predict(features_valid)\n",
        "probabilities_valid = cat.predict_proba(features_valid)\n",
        "probabilities_one_valid = probabilities_valid[:, 1]\n",
        "\n",
        "roc_auc = roc_auc_score(target_valid, probabilities_one_valid)\n",
        "accuracy = accuracy_score(target_valid, predictions_valid)\n",
        "\n",
        "print(cat.best_params_)\n",
        "print('ROC-AUC:', roc_auc)\n",
        "print('Accuracy:', accuracy)"
      ]
    },
    {
      "cell_type": "markdown",
      "metadata": {
        "id": "4JIKI3uL0-FC"
      },
      "source": [
        "**LightGBM**"
      ]
    },
    {
      "cell_type": "code",
      "execution_count": null,
      "metadata": {
        "id": "MyOrLVEQ0-FC"
      },
      "outputs": [],
      "source": [
        "features_train[categorical] = features_train[categorical].astype('category')\n",
        "features_valid[categorical] = features_valid[categorical].astype('category')\n",
        "features_test[categorical] = features_test[categorical].astype('category')"
      ]
    },
    {
      "cell_type": "code",
      "execution_count": null,
      "metadata": {
        "id": "GMogtrLF0-FD",
        "outputId": "9339d96a-ad8a-46de-a127-2d537bc47551"
      },
      "outputs": [
        {
          "name": "stdout",
          "output_type": "stream",
          "text": [
            "{'learning_rate': 0.3, 'max_depth': 5, 'num_leaves': 20, 'reg_alpha': 0.03}\n",
            "ROC-AUC: 0.8968401772677205\n",
            "Accuracy: 0.829666430092264\n"
          ]
        }
      ],
      "source": [
        "param_grid = {'num_leaves':[20,40,60,80,100], \n",
        "              'max_depth':[5,10,20],\n",
        "              'learning_rate':[0.1,0.3],\n",
        "              'reg_alpha':[0,0.01,0.03]}\n",
        "\n",
        "model = LGBMClassifier(random_state=12345, class_weight = 'balanced')\n",
        "\n",
        "lgbm = GridSearchCV(model, param_grid, cv=5, scoring='roc_auc')\n",
        "lgbm.fit(features_train, target_train)\n",
        "\n",
        "predictions_valid = lgbm.predict(features_valid)\n",
        "probabilities_valid = lgbm.predict_proba(features_valid)\n",
        "probabilities_one_valid = probabilities_valid[:, 1]\n",
        "\n",
        "roc_auc = roc_auc_score(target_valid, probabilities_one_valid)\n",
        "accuracy = accuracy_score(target_valid, predictions_valid)\n",
        "\n",
        "print(lgbm.best_params_)\n",
        "print('ROC-AUC:', roc_auc)\n",
        "print('Accuracy:', accuracy)"
      ]
    },
    {
      "cell_type": "markdown",
      "metadata": {
        "id": "IeTKhzYc0-FD"
      },
      "source": [
        "**LogisticRegression**"
      ]
    },
    {
      "cell_type": "code",
      "execution_count": null,
      "metadata": {
        "id": "LeImwxFC0-FD",
        "outputId": "a5665e29-b0d6-4fdd-df42-f021946c34a0"
      },
      "outputs": [
        {
          "name": "stdout",
          "output_type": "stream",
          "text": [
            "{'C': 10, 'max_iter': 100, 'solver': 'lbfgs'}\n",
            "ROC-AUC: 0.8968401772677205\n",
            "Accuracy: 0.7551454932576295\n"
          ]
        }
      ],
      "source": [
        "param_grid = {'C': [0.1,1,10,100],\n",
        "     'solver':['liblinear', 'lbfgs'],\n",
        "     'max_iter':[100,500]}\n",
        "\n",
        "model = LogisticRegression(random_state=12345, class_weight='balanced')\n",
        "\n",
        "lr = GridSearchCV(model, param_grid, scoring = 'roc_auc', cv = 5)\n",
        "lr.fit(features_train_ohe, target_train_ohe)\n",
        "\n",
        "predictions_valid = lr.predict(features_valid_ohe)\n",
        "probabilities_valid = lr.predict_proba(features_valid_ohe)\n",
        "probabilities_one_valid = probabilities_valid[:, 1]\n",
        "\n",
        "auc_roc = roc_auc_score(target_valid_ohe, probabilities_one_valid)\n",
        "accuracy = accuracy_score(target_valid_ohe, predictions_valid)\n",
        "\n",
        "print(lr.best_params_)\n",
        "print('ROC-AUC:', roc_auc)\n",
        "print('Accuracy:', accuracy)"
      ]
    },
    {
      "cell_type": "markdown",
      "metadata": {
        "id": "3fp5ZhiA0-FE"
      },
      "source": [
        "Лучший результат получили на модели LightGBM:\n",
        "- ROC-AUC = 0.897\n",
        "- Accuracy = 0.830"
      ]
    },
    {
      "cell_type": "markdown",
      "metadata": {
        "id": "dhti0mEu0-FE"
      },
      "source": [
        "## Анализ моделей "
      ]
    },
    {
      "cell_type": "markdown",
      "metadata": {
        "id": "t3wvGK_20-FE"
      },
      "source": [
        "Проверим модели на тестовой выборке.\n",
        "\n",
        "**CatBoost**"
      ]
    },
    {
      "cell_type": "code",
      "execution_count": null,
      "metadata": {
        "id": "5or1JtUu0-FF",
        "outputId": "d0df5b0a-0914-4e16-e252-45df8c04e653"
      },
      "outputs": [
        {
          "name": "stdout",
          "output_type": "stream",
          "text": [
            "ROC-AUC: 0.868607283887029\n",
            "Accuracy: 0.8232789212207239\n"
          ]
        }
      ],
      "source": [
        "predictions_test = cat.predict(features_test)\n",
        "probabilities_test = cat.predict_proba(features_test)\n",
        "probabilities_one_test = probabilities_test[:, 1]\n",
        "\n",
        "roc_auc = roc_auc_score(target_test, probabilities_one_test)\n",
        "accuracy = accuracy_score(target_test, predictions_test)\n",
        "\n",
        "print('ROC-AUC:', roc_auc)\n",
        "print('Accuracy:', accuracy)"
      ]
    },
    {
      "cell_type": "markdown",
      "metadata": {
        "id": "RV1nGZHa0-FF"
      },
      "source": [
        "**LightGBM**"
      ]
    },
    {
      "cell_type": "code",
      "execution_count": null,
      "metadata": {
        "id": "BWsRKFnS0-FG",
        "outputId": "2b7e5e0e-8cbd-4c60-cfe8-0de311e32d10"
      },
      "outputs": [
        {
          "name": "stdout",
          "output_type": "stream",
          "text": [
            "ROC-AUC: 0.8882119709846338\n",
            "Accuracy: 0.8261178140525195\n"
          ]
        }
      ],
      "source": [
        "predictions_test = lgbm.predict(features_test)\n",
        "probabilities_test = lgbm.predict_proba(features_test)\n",
        "probabilities_one_test = probabilities_test[:, 1]\n",
        "\n",
        "roc_auc = roc_auc_score(target_test, probabilities_one_test)\n",
        "accuracy = accuracy_score(target_test, predictions_test)\n",
        "\n",
        "print('ROC-AUC:', roc_auc)\n",
        "print('Accuracy:', accuracy)"
      ]
    },
    {
      "cell_type": "markdown",
      "metadata": {
        "id": "7HYy6XbV0-FI"
      },
      "source": [
        "**LogisticRegression**"
      ]
    },
    {
      "cell_type": "code",
      "execution_count": null,
      "metadata": {
        "id": "u9JlvMVd0-FJ",
        "outputId": "ea74e299-5273-4d97-d795-452e8972de04"
      },
      "outputs": [
        {
          "name": "stdout",
          "output_type": "stream",
          "text": [
            "ROC-AUC: 0.8240983668126018\n",
            "Accuracy: 0.7409510290986515\n"
          ]
        }
      ],
      "source": [
        "predictions_test = lr.predict(features_test_ohe)\n",
        "probabilities_test = lr.predict_proba(features_test_ohe)\n",
        "probabilities_one_test = probabilities_test[:, 1]\n",
        "\n",
        "roc_auc = roc_auc_score(target_test_ohe, probabilities_one_test)\n",
        "accuracy = accuracy_score(target_test_ohe, predictions_test)\n",
        "\n",
        "print('ROC-AUC:', roc_auc)\n",
        "print('Accuracy:', accuracy)"
      ]
    },
    {
      "cell_type": "markdown",
      "metadata": {
        "id": "Zcoj1C460-FJ"
      },
      "source": [
        "Лучший результат подтвердила модель LightGBM с результатом *ROC-AUC = 0.888* и *accuracy = 0.826*"
      ]
    },
    {
      "cell_type": "code",
      "execution_count": null,
      "metadata": {
        "id": "t5v1mbE50-FK",
        "outputId": "53746bb3-c850-494e-c2fb-b906506ff030"
      },
      "outputs": [
        {
          "data": {
            "image/png": "[encoded data removed]",
            "text/plain": [
              "<Figure size 1440x720 with 1 Axes>"
            ]
          },
          "metadata": {
            "needs_background": "light"
          },
          "output_type": "display_data"
        }
      ],
      "source": [
        "feature_imp = pd.DataFrame(sorted(zip(lgbm.best_estimator_.feature_importances_, features_test.columns)), \n",
        "                           columns=['Величина','Признак'])\n",
        "\n",
        "plt.figure(figsize=(20, 10))\n",
        "sns.barplot(x=\"Величина\", y=\"Признак\", data=feature_imp.sort_values(by=\"Величина\", ascending=False))\n",
        "plt.title('График важности LightGBM факторов')\n",
        "plt.tight_layout()\n",
        "plt.show()"
      ]
    },
    {
      "cell_type": "markdown",
      "metadata": {
        "id": "FPTGyrpp1VXB"
      },
      "source": [
        "**Вывод:**\n",
        "\n",
        "В данном проекте было необходимо создать модель для прогнозирования оттока клиентов. Были выполнены все пункты плана: \n",
        "- Импортированы данные.\n",
        "- Проведен исследовательский анализ данных.\n",
        "- Проведена предобработка данных.\n",
        "- Определены и подготовлены признаки, найден целевой.\n",
        "- Объединены таблицы и удалены ненужные столбцы с проверкой на корреляцию.\n",
        "- Исследованы три модели (CatBoost, LightGBM, LogisticRegression).\n",
        "- Определена лучшая модель с использованием GridSearchCV для подбора гиперпараметров и изучением метрики ROC-AUC.\n",
        "- Модель проверена на тестовой выборке.\n",
        "\n",
        "\n",
        "Ключевыми шагами в решении являлись предобработка данных и исследовательский анализ, так как от них зависит качество модели. Необходимо было определить, какие признаки являются важными, а какие можно удалить, опираясь на результаты корреляции, чтобы избежать утечки данных. Также важным шагом являлся подбор гиперпараметров моделей для получения необходимой метрики.\n",
        "\n",
        "Самый лучший результат показала модель LightGBM: \n",
        "- ROC-AUC = 0.888 (тест)\n",
        "- Accuracy = 0.826 (тест)"
      ]
    }
  ],
  "metadata": {
    "ExecuteTimeLog": [
      {
        "duration": 2135,
        "start_time": "2022-02-01T17:14:31.668Z"
      },
      {
        "duration": 14,
        "start_time": "2022-02-01T17:14:34.537Z"
      },
      {
        "duration": 137,
        "start_time": "2022-02-01T17:14:45.508Z"
      },
      {
        "duration": 45,
        "start_time": "2022-02-01T17:14:57.557Z"
      },
      {
        "duration": 21,
        "start_time": "2022-02-01T17:15:07.700Z"
      },
      {
        "duration": 31,
        "start_time": "2022-02-01T17:15:16.037Z"
      },
      {
        "duration": 15,
        "start_time": "2022-02-01T17:15:25.973Z"
      },
      {
        "duration": 9,
        "start_time": "2022-02-01T17:17:09.272Z"
      },
      {
        "duration": 8114,
        "start_time": "2022-02-01T17:17:28.719Z"
      },
      {
        "duration": 73,
        "start_time": "2022-02-01T17:18:19.178Z"
      },
      {
        "duration": 73,
        "start_time": "2022-02-01T17:18:19.180Z"
      },
      {
        "duration": 75,
        "start_time": "2022-02-01T17:18:19.181Z"
      },
      {
        "duration": 75,
        "start_time": "2022-02-01T17:18:19.183Z"
      },
      {
        "duration": 76,
        "start_time": "2022-02-01T17:18:19.184Z"
      },
      {
        "duration": 77,
        "start_time": "2022-02-01T17:18:19.185Z"
      },
      {
        "duration": 79,
        "start_time": "2022-02-01T17:18:19.186Z"
      },
      {
        "duration": 1935,
        "start_time": "2022-02-01T17:18:32.467Z"
      },
      {
        "duration": 140,
        "start_time": "2022-02-01T17:18:34.405Z"
      },
      {
        "duration": 40,
        "start_time": "2022-02-01T17:18:34.550Z"
      },
      {
        "duration": 19,
        "start_time": "2022-02-01T17:18:34.593Z"
      },
      {
        "duration": 53,
        "start_time": "2022-02-01T17:18:34.615Z"
      },
      {
        "duration": 22,
        "start_time": "2022-02-01T17:18:34.671Z"
      },
      {
        "duration": 8915,
        "start_time": "2022-02-01T17:18:34.698Z"
      },
      {
        "duration": 9,
        "start_time": "2022-02-01T17:18:57.680Z"
      },
      {
        "duration": 7645,
        "start_time": "2022-02-01T17:18:59.757Z"
      },
      {
        "duration": 5,
        "start_time": "2022-02-01T17:49:10.050Z"
      },
      {
        "duration": 10,
        "start_time": "2022-02-01T17:50:29.127Z"
      },
      {
        "duration": 9,
        "start_time": "2022-02-01T17:50:40.637Z"
      },
      {
        "duration": 12,
        "start_time": "2022-02-01T17:55:40.486Z"
      },
      {
        "duration": 8,
        "start_time": "2022-02-01T17:57:07.526Z"
      },
      {
        "duration": 17,
        "start_time": "2022-02-01T19:01:42.911Z"
      },
      {
        "duration": 388,
        "start_time": "2022-02-01T19:09:48.120Z"
      },
      {
        "duration": 5,
        "start_time": "2022-02-01T19:09:52.453Z"
      },
      {
        "duration": 26,
        "start_time": "2022-02-01T19:10:05.040Z"
      },
      {
        "duration": 7,
        "start_time": "2022-02-01T19:22:45.448Z"
      },
      {
        "duration": 20,
        "start_time": "2022-02-01T19:22:47.464Z"
      },
      {
        "duration": 1858,
        "start_time": "2022-02-01T19:23:07.879Z"
      },
      {
        "duration": 101,
        "start_time": "2022-02-01T19:23:09.740Z"
      },
      {
        "duration": 29,
        "start_time": "2022-02-01T19:23:09.844Z"
      },
      {
        "duration": 8,
        "start_time": "2022-02-01T19:23:09.877Z"
      },
      {
        "duration": 35,
        "start_time": "2022-02-01T19:23:09.888Z"
      },
      {
        "duration": 9,
        "start_time": "2022-02-01T19:23:09.925Z"
      },
      {
        "duration": 11,
        "start_time": "2022-02-01T19:23:09.937Z"
      },
      {
        "duration": 7,
        "start_time": "2022-02-01T19:23:09.951Z"
      },
      {
        "duration": 21,
        "start_time": "2022-02-01T19:23:09.961Z"
      },
      {
        "duration": 58,
        "start_time": "2022-02-01T19:23:09.984Z"
      },
      {
        "duration": 25,
        "start_time": "2022-02-01T19:23:10.045Z"
      },
      {
        "duration": 62,
        "start_time": "2022-02-01T19:23:10.073Z"
      },
      {
        "duration": 6599,
        "start_time": "2022-02-01T19:23:10.138Z"
      },
      {
        "duration": 11,
        "start_time": "2022-02-01T19:26:58.613Z"
      },
      {
        "duration": 17,
        "start_time": "2022-02-01T19:27:09.712Z"
      },
      {
        "duration": 9,
        "start_time": "2022-02-01T19:52:02.660Z"
      },
      {
        "duration": 19,
        "start_time": "2022-02-01T19:52:04.792Z"
      },
      {
        "duration": 9,
        "start_time": "2022-02-01T19:54:39.042Z"
      },
      {
        "duration": 13,
        "start_time": "2022-02-01T19:54:59.138Z"
      },
      {
        "duration": 10,
        "start_time": "2022-02-01T20:02:45.224Z"
      },
      {
        "duration": 339,
        "start_time": "2022-02-01T20:17:38.570Z"
      },
      {
        "duration": 551,
        "start_time": "2022-02-01T20:17:57.513Z"
      },
      {
        "duration": 27,
        "start_time": "2022-02-01T20:18:43.620Z"
      },
      {
        "duration": 48,
        "start_time": "2022-02-01T20:25:55.489Z"
      },
      {
        "duration": 11,
        "start_time": "2022-02-01T20:26:08.111Z"
      },
      {
        "duration": 1734,
        "start_time": "2022-02-01T20:28:06.884Z"
      },
      {
        "duration": 99,
        "start_time": "2022-02-01T20:28:08.621Z"
      },
      {
        "duration": 33,
        "start_time": "2022-02-01T20:28:08.723Z"
      },
      {
        "duration": 18,
        "start_time": "2022-02-01T20:28:08.761Z"
      },
      {
        "duration": 9,
        "start_time": "2022-02-01T20:28:08.782Z"
      },
      {
        "duration": 9,
        "start_time": "2022-02-01T20:28:08.827Z"
      },
      {
        "duration": 8,
        "start_time": "2022-02-01T20:28:08.839Z"
      },
      {
        "duration": 13,
        "start_time": "2022-02-01T20:28:08.850Z"
      },
      {
        "duration": 9,
        "start_time": "2022-02-01T20:28:08.867Z"
      },
      {
        "duration": 55,
        "start_time": "2022-02-01T20:28:08.879Z"
      },
      {
        "duration": 12,
        "start_time": "2022-02-01T20:28:08.937Z"
      },
      {
        "duration": 14,
        "start_time": "2022-02-01T20:28:08.952Z"
      },
      {
        "duration": 11,
        "start_time": "2022-02-01T20:28:08.968Z"
      },
      {
        "duration": 56,
        "start_time": "2022-02-01T20:28:08.982Z"
      },
      {
        "duration": 6,
        "start_time": "2022-02-01T20:28:09.041Z"
      },
      {
        "duration": 18,
        "start_time": "2022-02-01T20:28:09.051Z"
      },
      {
        "duration": 52,
        "start_time": "2022-02-01T20:28:09.073Z"
      },
      {
        "duration": 24,
        "start_time": "2022-02-01T20:28:09.128Z"
      },
      {
        "duration": 15,
        "start_time": "2022-02-01T20:28:09.155Z"
      },
      {
        "duration": 383,
        "start_time": "2022-02-04T15:49:17.241Z"
      },
      {
        "duration": 1112,
        "start_time": "2022-02-04T15:49:22.624Z"
      },
      {
        "duration": 101,
        "start_time": "2022-02-04T15:49:23.738Z"
      },
      {
        "duration": 18,
        "start_time": "2022-02-04T15:49:23.842Z"
      },
      {
        "duration": 6,
        "start_time": "2022-02-04T15:49:23.862Z"
      },
      {
        "duration": 6,
        "start_time": "2022-02-04T15:49:23.870Z"
      },
      {
        "duration": 7,
        "start_time": "2022-02-04T15:49:23.878Z"
      },
      {
        "duration": 4,
        "start_time": "2022-02-04T15:49:23.886Z"
      },
      {
        "duration": 8,
        "start_time": "2022-02-04T15:49:23.892Z"
      },
      {
        "duration": 5,
        "start_time": "2022-02-04T15:49:23.902Z"
      },
      {
        "duration": 11,
        "start_time": "2022-02-04T15:49:23.909Z"
      },
      {
        "duration": 38,
        "start_time": "2022-02-04T15:49:23.922Z"
      },
      {
        "duration": 10,
        "start_time": "2022-02-04T15:49:23.963Z"
      },
      {
        "duration": 8,
        "start_time": "2022-02-04T15:49:23.975Z"
      },
      {
        "duration": 14,
        "start_time": "2022-02-04T15:49:23.985Z"
      },
      {
        "duration": 3,
        "start_time": "2022-02-04T15:49:24.001Z"
      },
      {
        "duration": 9,
        "start_time": "2022-02-04T15:49:24.005Z"
      },
      {
        "duration": 49,
        "start_time": "2022-02-04T15:49:24.015Z"
      },
      {
        "duration": 15,
        "start_time": "2022-02-04T15:49:24.065Z"
      },
      {
        "duration": 12,
        "start_time": "2022-02-04T15:49:24.081Z"
      },
      {
        "duration": 4,
        "start_time": "2022-02-04T15:51:16.282Z"
      },
      {
        "duration": 1160,
        "start_time": "2022-02-04T15:51:26.769Z"
      },
      {
        "duration": 100,
        "start_time": "2022-02-04T15:51:27.932Z"
      },
      {
        "duration": 18,
        "start_time": "2022-02-04T15:51:28.034Z"
      },
      {
        "duration": 6,
        "start_time": "2022-02-04T15:51:28.053Z"
      },
      {
        "duration": 7,
        "start_time": "2022-02-04T15:51:28.060Z"
      },
      {
        "duration": 8,
        "start_time": "2022-02-04T15:51:28.068Z"
      },
      {
        "duration": 4,
        "start_time": "2022-02-04T15:51:28.077Z"
      },
      {
        "duration": 7,
        "start_time": "2022-02-04T15:51:28.083Z"
      },
      {
        "duration": 5,
        "start_time": "2022-02-04T15:51:28.092Z"
      },
      {
        "duration": 12,
        "start_time": "2022-02-04T15:51:28.099Z"
      },
      {
        "duration": 9,
        "start_time": "2022-02-04T15:51:28.112Z"
      },
      {
        "duration": 37,
        "start_time": "2022-02-04T15:51:28.122Z"
      },
      {
        "duration": 7,
        "start_time": "2022-02-04T15:51:28.161Z"
      },
      {
        "duration": 13,
        "start_time": "2022-02-04T15:51:28.169Z"
      },
      {
        "duration": 4,
        "start_time": "2022-02-04T15:51:28.184Z"
      },
      {
        "duration": 12,
        "start_time": "2022-02-04T15:51:28.189Z"
      },
      {
        "duration": 17,
        "start_time": "2022-02-04T15:51:28.203Z"
      },
      {
        "duration": 38,
        "start_time": "2022-02-04T15:51:28.222Z"
      },
      {
        "duration": 9,
        "start_time": "2022-02-04T15:51:28.261Z"
      },
      {
        "duration": 7,
        "start_time": "2022-02-04T16:25:22.260Z"
      },
      {
        "duration": 46,
        "start_time": "2022-02-04T16:25:28.754Z"
      },
      {
        "duration": 13,
        "start_time": "2022-02-04T16:25:33.187Z"
      },
      {
        "duration": 13,
        "start_time": "2022-02-04T16:25:37.228Z"
      },
      {
        "duration": 235,
        "start_time": "2022-02-04T16:25:55.326Z"
      },
      {
        "duration": 7,
        "start_time": "2022-02-04T16:25:57.507Z"
      },
      {
        "duration": 131,
        "start_time": "2022-02-04T16:36:25.629Z"
      },
      {
        "duration": 149,
        "start_time": "2022-02-04T16:36:34.385Z"
      },
      {
        "duration": 4,
        "start_time": "2022-02-04T16:37:28.386Z"
      },
      {
        "duration": 10,
        "start_time": "2022-02-04T16:37:34.178Z"
      },
      {
        "duration": 41,
        "start_time": "2022-02-04T16:46:21.331Z"
      },
      {
        "duration": 8,
        "start_time": "2022-02-04T16:46:48.055Z"
      },
      {
        "duration": 8,
        "start_time": "2022-02-04T16:46:57.312Z"
      },
      {
        "duration": 5,
        "start_time": "2022-02-04T16:47:39.997Z"
      },
      {
        "duration": 8,
        "start_time": "2022-02-04T16:47:41.783Z"
      },
      {
        "duration": 44,
        "start_time": "2022-02-04T17:05:27.481Z"
      },
      {
        "duration": 46,
        "start_time": "2022-02-04T17:05:41.383Z"
      },
      {
        "duration": 45,
        "start_time": "2022-02-04T17:05:49.728Z"
      },
      {
        "duration": 46,
        "start_time": "2022-02-04T17:06:01.474Z"
      },
      {
        "duration": 23,
        "start_time": "2022-02-04T17:06:46.697Z"
      },
      {
        "duration": 16,
        "start_time": "2022-02-04T17:06:54.461Z"
      },
      {
        "duration": 8,
        "start_time": "2022-02-04T17:21:12.082Z"
      },
      {
        "duration": 11,
        "start_time": "2022-02-04T17:22:03.338Z"
      },
      {
        "duration": 204,
        "start_time": "2022-02-04T17:22:20.822Z"
      },
      {
        "duration": 1134,
        "start_time": "2022-02-04T17:22:45.503Z"
      },
      {
        "duration": 100,
        "start_time": "2022-02-04T17:22:46.639Z"
      },
      {
        "duration": 18,
        "start_time": "2022-02-04T17:22:46.741Z"
      },
      {
        "duration": 6,
        "start_time": "2022-02-04T17:22:46.761Z"
      },
      {
        "duration": 8,
        "start_time": "2022-02-04T17:22:46.769Z"
      },
      {
        "duration": 11,
        "start_time": "2022-02-04T17:22:46.778Z"
      },
      {
        "duration": 5,
        "start_time": "2022-02-04T17:22:46.791Z"
      },
      {
        "duration": 8,
        "start_time": "2022-02-04T17:22:46.797Z"
      },
      {
        "duration": 4,
        "start_time": "2022-02-04T17:22:46.808Z"
      },
      {
        "duration": 11,
        "start_time": "2022-02-04T17:22:46.814Z"
      },
      {
        "duration": 32,
        "start_time": "2022-02-04T17:22:46.827Z"
      },
      {
        "duration": 6,
        "start_time": "2022-02-04T17:22:46.861Z"
      },
      {
        "duration": 11,
        "start_time": "2022-02-04T17:22:46.868Z"
      },
      {
        "duration": 6,
        "start_time": "2022-02-04T17:22:46.881Z"
      },
      {
        "duration": 15,
        "start_time": "2022-02-04T17:22:46.888Z"
      },
      {
        "duration": 3,
        "start_time": "2022-02-04T17:22:46.905Z"
      },
      {
        "duration": 13,
        "start_time": "2022-02-04T17:22:46.909Z"
      },
      {
        "duration": 36,
        "start_time": "2022-02-04T17:22:46.924Z"
      },
      {
        "duration": 5,
        "start_time": "2022-02-04T17:22:46.962Z"
      },
      {
        "duration": 15,
        "start_time": "2022-02-04T17:22:46.969Z"
      },
      {
        "duration": 35,
        "start_time": "2022-02-04T17:22:46.986Z"
      },
      {
        "duration": 11,
        "start_time": "2022-02-04T17:22:47.023Z"
      },
      {
        "duration": 44,
        "start_time": "2022-02-04T17:22:47.035Z"
      },
      {
        "duration": 7,
        "start_time": "2022-02-04T17:22:47.081Z"
      },
      {
        "duration": 17,
        "start_time": "2022-02-04T17:22:47.089Z"
      },
      {
        "duration": 20,
        "start_time": "2022-02-04T17:22:47.108Z"
      },
      {
        "duration": 6,
        "start_time": "2022-02-04T17:45:15.115Z"
      },
      {
        "duration": 3372,
        "start_time": "2022-02-04T19:36:47.344Z"
      },
      {
        "duration": 17,
        "start_time": "2022-02-04T19:37:45.458Z"
      },
      {
        "duration": 15,
        "start_time": "2022-02-04T19:37:55.053Z"
      },
      {
        "duration": 13,
        "start_time": "2022-02-04T19:37:59.674Z"
      },
      {
        "duration": 10,
        "start_time": "2022-02-04T19:38:36.857Z"
      },
      {
        "duration": 189,
        "start_time": "2022-02-04T20:02:10.440Z"
      },
      {
        "duration": 177,
        "start_time": "2022-02-04T20:02:16.270Z"
      },
      {
        "duration": 183,
        "start_time": "2022-02-04T20:02:22.678Z"
      },
      {
        "duration": 179,
        "start_time": "2022-02-04T20:02:28.393Z"
      },
      {
        "duration": 241,
        "start_time": "2022-02-04T20:02:36.854Z"
      },
      {
        "duration": 182,
        "start_time": "2022-02-04T20:02:43.586Z"
      },
      {
        "duration": 203,
        "start_time": "2022-02-04T20:02:52.086Z"
      },
      {
        "duration": 180,
        "start_time": "2022-02-04T20:02:58.366Z"
      },
      {
        "duration": 194,
        "start_time": "2022-02-04T20:03:08.279Z"
      },
      {
        "duration": 3797,
        "start_time": "2022-02-04T20:13:46.840Z"
      },
      {
        "duration": 3,
        "start_time": "2022-02-04T20:16:02.532Z"
      },
      {
        "duration": 877,
        "start_time": "2022-02-04T20:16:07.080Z"
      },
      {
        "duration": 413,
        "start_time": "2022-02-04T20:16:43.740Z"
      },
      {
        "duration": 406,
        "start_time": "2022-02-04T20:16:55.444Z"
      },
      {
        "duration": 686,
        "start_time": "2022-02-04T20:17:00.943Z"
      },
      {
        "duration": 511,
        "start_time": "2022-02-04T20:17:15.678Z"
      },
      {
        "duration": 466,
        "start_time": "2022-02-04T20:17:23.929Z"
      },
      {
        "duration": 423,
        "start_time": "2022-02-04T20:17:28.941Z"
      },
      {
        "duration": 455,
        "start_time": "2022-02-04T20:17:33.977Z"
      },
      {
        "duration": 3,
        "start_time": "2022-02-04T20:18:08.308Z"
      },
      {
        "duration": 602,
        "start_time": "2022-02-04T20:18:09.801Z"
      },
      {
        "duration": 271,
        "start_time": "2022-02-04T20:18:25.948Z"
      },
      {
        "duration": 1050,
        "start_time": "2022-02-04T20:19:17.993Z"
      },
      {
        "duration": 98,
        "start_time": "2022-02-04T20:19:19.045Z"
      },
      {
        "duration": 19,
        "start_time": "2022-02-04T20:19:19.145Z"
      },
      {
        "duration": 5,
        "start_time": "2022-02-04T20:19:19.166Z"
      },
      {
        "duration": 6,
        "start_time": "2022-02-04T20:19:19.173Z"
      },
      {
        "duration": 7,
        "start_time": "2022-02-04T20:19:19.181Z"
      },
      {
        "duration": 4,
        "start_time": "2022-02-04T20:19:19.190Z"
      },
      {
        "duration": 17,
        "start_time": "2022-02-04T20:19:19.195Z"
      },
      {
        "duration": 19,
        "start_time": "2022-02-04T20:19:19.215Z"
      },
      {
        "duration": 15,
        "start_time": "2022-02-04T20:19:19.236Z"
      },
      {
        "duration": 19,
        "start_time": "2022-02-04T20:19:19.253Z"
      },
      {
        "duration": 12,
        "start_time": "2022-02-04T20:19:19.273Z"
      },
      {
        "duration": 24,
        "start_time": "2022-02-04T20:19:19.287Z"
      },
      {
        "duration": 25,
        "start_time": "2022-02-04T20:19:19.313Z"
      },
      {
        "duration": 19,
        "start_time": "2022-02-04T20:19:19.340Z"
      },
      {
        "duration": 8,
        "start_time": "2022-02-04T20:19:19.361Z"
      },
      {
        "duration": 17,
        "start_time": "2022-02-04T20:19:19.371Z"
      },
      {
        "duration": 12,
        "start_time": "2022-02-04T20:19:19.390Z"
      },
      {
        "duration": 4,
        "start_time": "2022-02-04T20:19:19.403Z"
      },
      {
        "duration": 9,
        "start_time": "2022-02-04T20:19:19.408Z"
      },
      {
        "duration": 16,
        "start_time": "2022-02-04T20:19:19.418Z"
      },
      {
        "duration": 24,
        "start_time": "2022-02-04T20:19:19.436Z"
      },
      {
        "duration": 25,
        "start_time": "2022-02-04T20:19:19.462Z"
      },
      {
        "duration": 7,
        "start_time": "2022-02-04T20:19:19.489Z"
      },
      {
        "duration": 15,
        "start_time": "2022-02-04T20:19:19.498Z"
      },
      {
        "duration": 10,
        "start_time": "2022-02-04T20:19:19.515Z"
      },
      {
        "duration": 35,
        "start_time": "2022-02-04T20:19:19.528Z"
      },
      {
        "duration": 10,
        "start_time": "2022-02-04T20:19:19.565Z"
      },
      {
        "duration": 3,
        "start_time": "2022-02-04T20:19:19.577Z"
      },
      {
        "duration": 1219,
        "start_time": "2022-02-04T20:20:04.638Z"
      },
      {
        "duration": 98,
        "start_time": "2022-02-04T20:20:05.859Z"
      },
      {
        "duration": 19,
        "start_time": "2022-02-04T20:20:05.959Z"
      },
      {
        "duration": 5,
        "start_time": "2022-02-04T20:20:05.980Z"
      },
      {
        "duration": 11,
        "start_time": "2022-02-04T20:20:05.987Z"
      },
      {
        "duration": 11,
        "start_time": "2022-02-04T20:20:05.999Z"
      },
      {
        "duration": 4,
        "start_time": "2022-02-04T20:20:06.012Z"
      },
      {
        "duration": 9,
        "start_time": "2022-02-04T20:20:06.018Z"
      },
      {
        "duration": 5,
        "start_time": "2022-02-04T20:20:06.028Z"
      },
      {
        "duration": 33,
        "start_time": "2022-02-04T20:20:06.034Z"
      },
      {
        "duration": 5,
        "start_time": "2022-02-04T20:20:06.069Z"
      },
      {
        "duration": 7,
        "start_time": "2022-02-04T20:20:06.075Z"
      },
      {
        "duration": 13,
        "start_time": "2022-02-04T20:20:06.083Z"
      },
      {
        "duration": 5,
        "start_time": "2022-02-04T20:20:06.097Z"
      },
      {
        "duration": 10,
        "start_time": "2022-02-04T20:20:06.104Z"
      },
      {
        "duration": 3,
        "start_time": "2022-02-04T20:20:06.115Z"
      },
      {
        "duration": 10,
        "start_time": "2022-02-04T20:20:06.119Z"
      },
      {
        "duration": 37,
        "start_time": "2022-02-04T20:20:06.130Z"
      },
      {
        "duration": 4,
        "start_time": "2022-02-04T20:20:06.169Z"
      },
      {
        "duration": 15,
        "start_time": "2022-02-04T20:20:06.174Z"
      },
      {
        "duration": 25,
        "start_time": "2022-02-04T20:20:06.190Z"
      },
      {
        "duration": 10,
        "start_time": "2022-02-04T20:20:06.216Z"
      },
      {
        "duration": 40,
        "start_time": "2022-02-04T20:20:06.229Z"
      },
      {
        "duration": 7,
        "start_time": "2022-02-04T20:20:06.271Z"
      },
      {
        "duration": 15,
        "start_time": "2022-02-04T20:20:06.279Z"
      },
      {
        "duration": 10,
        "start_time": "2022-02-04T20:20:06.296Z"
      },
      {
        "duration": 9,
        "start_time": "2022-02-04T20:20:06.307Z"
      },
      {
        "duration": 9,
        "start_time": "2022-02-04T20:20:06.317Z"
      },
      {
        "duration": 31,
        "start_time": "2022-02-04T20:20:06.328Z"
      },
      {
        "duration": 462,
        "start_time": "2022-02-04T20:20:06.361Z"
      },
      {
        "duration": 3,
        "start_time": "2022-02-04T20:21:47.613Z"
      },
      {
        "duration": 3,
        "start_time": "2022-02-04T20:21:51.176Z"
      },
      {
        "duration": 178,
        "start_time": "2022-02-04T20:22:59.343Z"
      },
      {
        "duration": 239,
        "start_time": "2022-02-04T20:23:34.507Z"
      },
      {
        "duration": 467,
        "start_time": "2022-02-04T20:23:54.372Z"
      },
      {
        "duration": 508,
        "start_time": "2022-02-04T20:24:02.361Z"
      },
      {
        "duration": 276,
        "start_time": "2022-02-04T20:24:20.728Z"
      },
      {
        "duration": 236,
        "start_time": "2022-02-04T20:24:27.179Z"
      },
      {
        "duration": 223,
        "start_time": "2022-02-04T20:24:31.854Z"
      },
      {
        "duration": 228,
        "start_time": "2022-02-04T20:24:35.932Z"
      },
      {
        "duration": 429,
        "start_time": "2022-02-04T20:24:42.999Z"
      },
      {
        "duration": 544,
        "start_time": "2022-02-04T20:24:53.525Z"
      },
      {
        "duration": 525,
        "start_time": "2022-02-04T20:25:05.327Z"
      },
      {
        "duration": 477,
        "start_time": "2022-02-04T20:25:12.067Z"
      },
      {
        "duration": 142,
        "start_time": "2022-02-04T20:25:35.508Z"
      },
      {
        "duration": 469,
        "start_time": "2022-02-04T20:25:40.591Z"
      },
      {
        "duration": 992,
        "start_time": "2022-02-04T20:27:48.355Z"
      },
      {
        "duration": 1159,
        "start_time": "2022-02-04T20:28:20.097Z"
      },
      {
        "duration": 734,
        "start_time": "2022-02-04T20:29:15.406Z"
      },
      {
        "duration": 466,
        "start_time": "2022-02-04T20:29:26.305Z"
      },
      {
        "duration": 744,
        "start_time": "2022-02-04T20:30:40.816Z"
      },
      {
        "duration": 738,
        "start_time": "2022-02-04T20:30:49.700Z"
      },
      {
        "duration": 844,
        "start_time": "2022-02-04T20:31:22.419Z"
      },
      {
        "duration": 785,
        "start_time": "2022-02-04T20:31:54.527Z"
      },
      {
        "duration": 691,
        "start_time": "2022-02-04T20:32:03.258Z"
      },
      {
        "duration": 707,
        "start_time": "2022-02-04T20:32:12.920Z"
      },
      {
        "duration": 834,
        "start_time": "2022-02-04T20:32:23.792Z"
      },
      {
        "duration": 649,
        "start_time": "2022-02-04T20:33:42.586Z"
      },
      {
        "duration": 622,
        "start_time": "2022-02-04T20:33:48.508Z"
      },
      {
        "duration": 873,
        "start_time": "2022-02-04T20:33:54.493Z"
      },
      {
        "duration": 784,
        "start_time": "2022-02-04T20:35:58.948Z"
      },
      {
        "duration": 1401,
        "start_time": "2022-02-04T20:37:32.601Z"
      },
      {
        "duration": 130,
        "start_time": "2022-02-04T20:37:52.870Z"
      },
      {
        "duration": 1991,
        "start_time": "2022-02-04T20:37:57.728Z"
      },
      {
        "duration": 1863,
        "start_time": "2022-02-04T20:38:21.013Z"
      },
      {
        "duration": 2065,
        "start_time": "2022-02-04T20:39:00.904Z"
      },
      {
        "duration": 2030,
        "start_time": "2022-02-04T20:39:33.284Z"
      },
      {
        "duration": 252,
        "start_time": "2022-02-06T08:37:11.626Z"
      },
      {
        "duration": 1308,
        "start_time": "2022-02-06T08:37:31.717Z"
      },
      {
        "duration": 99,
        "start_time": "2022-02-06T08:37:33.027Z"
      },
      {
        "duration": 19,
        "start_time": "2022-02-06T08:37:33.129Z"
      },
      {
        "duration": 6,
        "start_time": "2022-02-06T08:37:33.151Z"
      },
      {
        "duration": 8,
        "start_time": "2022-02-06T08:37:33.159Z"
      },
      {
        "duration": 20,
        "start_time": "2022-02-06T08:37:33.169Z"
      },
      {
        "duration": 11,
        "start_time": "2022-02-06T08:37:33.191Z"
      },
      {
        "duration": 16,
        "start_time": "2022-02-06T08:37:33.204Z"
      },
      {
        "duration": 7,
        "start_time": "2022-02-06T08:37:33.224Z"
      },
      {
        "duration": 25,
        "start_time": "2022-02-06T08:37:33.233Z"
      },
      {
        "duration": 14,
        "start_time": "2022-02-06T08:37:33.260Z"
      },
      {
        "duration": 11,
        "start_time": "2022-02-06T08:37:33.276Z"
      },
      {
        "duration": 13,
        "start_time": "2022-02-06T08:37:33.289Z"
      },
      {
        "duration": 6,
        "start_time": "2022-02-06T08:37:33.304Z"
      },
      {
        "duration": 15,
        "start_time": "2022-02-06T08:37:33.312Z"
      },
      {
        "duration": 9,
        "start_time": "2022-02-06T08:37:33.329Z"
      },
      {
        "duration": 12,
        "start_time": "2022-02-06T08:37:33.340Z"
      },
      {
        "duration": 18,
        "start_time": "2022-02-06T08:37:33.354Z"
      },
      {
        "duration": 6,
        "start_time": "2022-02-06T08:37:33.374Z"
      },
      {
        "duration": 33,
        "start_time": "2022-02-06T08:37:33.382Z"
      },
      {
        "duration": 18,
        "start_time": "2022-02-06T08:37:33.416Z"
      },
      {
        "duration": 16,
        "start_time": "2022-02-06T08:37:33.436Z"
      },
      {
        "duration": 31,
        "start_time": "2022-02-06T08:37:33.454Z"
      },
      {
        "duration": 8,
        "start_time": "2022-02-06T08:37:33.507Z"
      },
      {
        "duration": 16,
        "start_time": "2022-02-06T08:37:33.517Z"
      },
      {
        "duration": 14,
        "start_time": "2022-02-06T08:37:33.535Z"
      },
      {
        "duration": 11,
        "start_time": "2022-02-06T08:37:33.553Z"
      },
      {
        "duration": 41,
        "start_time": "2022-02-06T08:37:33.566Z"
      },
      {
        "duration": 3,
        "start_time": "2022-02-06T08:37:33.609Z"
      },
      {
        "duration": 873,
        "start_time": "2022-02-06T08:37:33.614Z"
      },
      {
        "duration": 4,
        "start_time": "2022-02-06T08:37:34.489Z"
      },
      {
        "duration": 2220,
        "start_time": "2022-02-06T08:37:34.494Z"
      },
      {
        "duration": 32,
        "start_time": "2022-02-06T08:37:36.717Z"
      },
      {
        "duration": 17,
        "start_time": "2022-02-06T08:42:31.156Z"
      },
      {
        "duration": 10,
        "start_time": "2022-02-06T08:43:20.758Z"
      },
      {
        "duration": 20,
        "start_time": "2022-02-06T08:44:12.004Z"
      },
      {
        "duration": 1262,
        "start_time": "2022-02-06T09:03:13.274Z"
      },
      {
        "duration": 101,
        "start_time": "2022-02-06T09:03:14.539Z"
      },
      {
        "duration": 22,
        "start_time": "2022-02-06T09:03:14.643Z"
      },
      {
        "duration": 7,
        "start_time": "2022-02-06T09:03:14.667Z"
      },
      {
        "duration": 13,
        "start_time": "2022-02-06T09:03:14.676Z"
      },
      {
        "duration": 9,
        "start_time": "2022-02-06T09:03:14.690Z"
      },
      {
        "duration": 9,
        "start_time": "2022-02-06T09:03:14.701Z"
      },
      {
        "duration": 10,
        "start_time": "2022-02-06T09:03:14.712Z"
      },
      {
        "duration": 8,
        "start_time": "2022-02-06T09:03:14.726Z"
      },
      {
        "duration": 21,
        "start_time": "2022-02-06T09:03:14.736Z"
      },
      {
        "duration": 8,
        "start_time": "2022-02-06T09:03:14.759Z"
      },
      {
        "duration": 9,
        "start_time": "2022-02-06T09:03:14.769Z"
      },
      {
        "duration": 27,
        "start_time": "2022-02-06T09:03:14.780Z"
      },
      {
        "duration": 8,
        "start_time": "2022-02-06T09:03:14.809Z"
      },
      {
        "duration": 18,
        "start_time": "2022-02-06T09:03:14.818Z"
      },
      {
        "duration": 8,
        "start_time": "2022-02-06T09:03:14.839Z"
      },
      {
        "duration": 18,
        "start_time": "2022-02-06T09:03:14.849Z"
      },
      {
        "duration": 17,
        "start_time": "2022-02-06T09:03:14.869Z"
      },
      {
        "duration": 5,
        "start_time": "2022-02-06T09:03:14.908Z"
      },
      {
        "duration": 16,
        "start_time": "2022-02-06T09:03:14.915Z"
      },
      {
        "duration": 21,
        "start_time": "2022-02-06T09:03:14.932Z"
      },
      {
        "duration": 14,
        "start_time": "2022-02-06T09:03:14.955Z"
      },
      {
        "duration": 52,
        "start_time": "2022-02-06T09:03:14.971Z"
      },
      {
        "duration": 8,
        "start_time": "2022-02-06T09:03:15.025Z"
      },
      {
        "duration": 21,
        "start_time": "2022-02-06T09:03:15.035Z"
      },
      {
        "duration": 19,
        "start_time": "2022-02-06T09:03:15.058Z"
      },
      {
        "duration": 32,
        "start_time": "2022-02-06T09:03:15.081Z"
      },
      {
        "duration": 14,
        "start_time": "2022-02-06T09:03:15.115Z"
      },
      {
        "duration": 5,
        "start_time": "2022-02-06T09:03:15.131Z"
      },
      {
        "duration": 900,
        "start_time": "2022-02-06T09:03:15.138Z"
      },
      {
        "duration": 3,
        "start_time": "2022-02-06T09:03:16.040Z"
      },
      {
        "duration": 2268,
        "start_time": "2022-02-06T09:03:16.045Z"
      },
      {
        "duration": 29,
        "start_time": "2022-02-06T09:03:18.315Z"
      },
      {
        "duration": 22,
        "start_time": "2022-02-06T09:03:18.346Z"
      },
      {
        "duration": 4,
        "start_time": "2022-02-06T09:03:18.369Z"
      },
      {
        "duration": 312,
        "start_time": "2022-02-06T09:05:57.348Z"
      },
      {
        "duration": 14,
        "start_time": "2022-02-06T09:06:09.204Z"
      },
      {
        "duration": 11,
        "start_time": "2022-02-06T09:06:15.813Z"
      },
      {
        "duration": 231,
        "start_time": "2022-02-06T09:07:26.199Z"
      },
      {
        "duration": 1275,
        "start_time": "2022-02-06T09:07:34.205Z"
      },
      {
        "duration": 104,
        "start_time": "2022-02-06T09:07:35.482Z"
      },
      {
        "duration": 22,
        "start_time": "2022-02-06T09:07:35.588Z"
      },
      {
        "duration": 8,
        "start_time": "2022-02-06T09:07:35.613Z"
      },
      {
        "duration": 19,
        "start_time": "2022-02-06T09:07:35.623Z"
      },
      {
        "duration": 13,
        "start_time": "2022-02-06T09:07:35.644Z"
      },
      {
        "duration": 7,
        "start_time": "2022-02-06T09:07:35.659Z"
      },
      {
        "duration": 10,
        "start_time": "2022-02-06T09:07:35.668Z"
      },
      {
        "duration": 29,
        "start_time": "2022-02-06T09:07:35.681Z"
      },
      {
        "duration": 14,
        "start_time": "2022-02-06T09:07:35.713Z"
      },
      {
        "duration": 7,
        "start_time": "2022-02-06T09:07:35.730Z"
      },
      {
        "duration": 8,
        "start_time": "2022-02-06T09:07:35.739Z"
      },
      {
        "duration": 12,
        "start_time": "2022-02-06T09:07:35.748Z"
      },
      {
        "duration": 7,
        "start_time": "2022-02-06T09:07:35.762Z"
      },
      {
        "duration": 47,
        "start_time": "2022-02-06T09:07:35.771Z"
      },
      {
        "duration": 6,
        "start_time": "2022-02-06T09:07:35.820Z"
      },
      {
        "duration": 10,
        "start_time": "2022-02-06T09:07:35.827Z"
      },
      {
        "duration": 16,
        "start_time": "2022-02-06T09:07:35.839Z"
      },
      {
        "duration": 6,
        "start_time": "2022-02-06T09:07:35.856Z"
      },
      {
        "duration": 43,
        "start_time": "2022-02-06T09:07:35.864Z"
      },
      {
        "duration": 19,
        "start_time": "2022-02-06T09:07:35.910Z"
      },
      {
        "duration": 13,
        "start_time": "2022-02-06T09:07:35.931Z"
      },
      {
        "duration": 55,
        "start_time": "2022-02-06T09:07:35.945Z"
      },
      {
        "duration": 342,
        "start_time": "2022-02-06T09:07:36.008Z"
      },
      {
        "duration": 18,
        "start_time": "2022-02-06T09:07:36.335Z"
      },
      {
        "duration": 16,
        "start_time": "2022-02-06T09:07:36.339Z"
      },
      {
        "duration": 16,
        "start_time": "2022-02-06T09:07:36.341Z"
      },
      {
        "duration": 15,
        "start_time": "2022-02-06T09:07:36.343Z"
      },
      {
        "duration": 15,
        "start_time": "2022-02-06T09:07:36.345Z"
      },
      {
        "duration": 14,
        "start_time": "2022-02-06T09:07:36.347Z"
      },
      {
        "duration": 5,
        "start_time": "2022-02-06T09:07:36.358Z"
      },
      {
        "duration": 2,
        "start_time": "2022-02-06T09:07:36.363Z"
      },
      {
        "duration": 0,
        "start_time": "2022-02-06T09:07:36.366Z"
      },
      {
        "duration": -1,
        "start_time": "2022-02-06T09:07:36.369Z"
      },
      {
        "duration": -3,
        "start_time": "2022-02-06T09:07:36.372Z"
      },
      {
        "duration": -3,
        "start_time": "2022-02-06T09:07:36.374Z"
      },
      {
        "duration": -3,
        "start_time": "2022-02-06T09:07:36.376Z"
      },
      {
        "duration": -5,
        "start_time": "2022-02-06T09:07:36.379Z"
      },
      {
        "duration": 20,
        "start_time": "2022-02-06T09:07:55.354Z"
      },
      {
        "duration": 1194,
        "start_time": "2022-02-06T09:08:49.948Z"
      },
      {
        "duration": 101,
        "start_time": "2022-02-06T09:08:51.145Z"
      },
      {
        "duration": 20,
        "start_time": "2022-02-06T09:08:51.248Z"
      },
      {
        "duration": 7,
        "start_time": "2022-02-06T09:08:51.270Z"
      },
      {
        "duration": 12,
        "start_time": "2022-02-06T09:08:51.279Z"
      },
      {
        "duration": 16,
        "start_time": "2022-02-06T09:08:51.293Z"
      },
      {
        "duration": 7,
        "start_time": "2022-02-06T09:08:51.311Z"
      },
      {
        "duration": 11,
        "start_time": "2022-02-06T09:08:51.321Z"
      },
      {
        "duration": 7,
        "start_time": "2022-02-06T09:08:51.334Z"
      },
      {
        "duration": 14,
        "start_time": "2022-02-06T09:08:51.343Z"
      },
      {
        "duration": 8,
        "start_time": "2022-02-06T09:08:51.359Z"
      },
      {
        "duration": 9,
        "start_time": "2022-02-06T09:08:51.368Z"
      },
      {
        "duration": 29,
        "start_time": "2022-02-06T09:08:51.379Z"
      },
      {
        "duration": 7,
        "start_time": "2022-02-06T09:08:51.410Z"
      },
      {
        "duration": 17,
        "start_time": "2022-02-06T09:08:51.419Z"
      },
      {
        "duration": 8,
        "start_time": "2022-02-06T09:08:51.438Z"
      },
      {
        "duration": 16,
        "start_time": "2022-02-06T09:08:51.448Z"
      },
      {
        "duration": 23,
        "start_time": "2022-02-06T09:08:51.465Z"
      },
      {
        "duration": 20,
        "start_time": "2022-02-06T09:08:51.490Z"
      },
      {
        "duration": 13,
        "start_time": "2022-02-06T09:08:51.512Z"
      },
      {
        "duration": 28,
        "start_time": "2022-02-06T09:08:51.527Z"
      },
      {
        "duration": 13,
        "start_time": "2022-02-06T09:08:51.557Z"
      },
      {
        "duration": 51,
        "start_time": "2022-02-06T09:08:51.572Z"
      },
      {
        "duration": 18,
        "start_time": "2022-02-06T09:08:51.625Z"
      },
      {
        "duration": 9,
        "start_time": "2022-02-06T09:08:51.645Z"
      },
      {
        "duration": 19,
        "start_time": "2022-02-06T09:08:51.657Z"
      },
      {
        "duration": 42,
        "start_time": "2022-02-06T09:08:51.678Z"
      },
      {
        "duration": 13,
        "start_time": "2022-02-06T09:08:51.723Z"
      },
      {
        "duration": 14,
        "start_time": "2022-02-06T09:08:51.738Z"
      },
      {
        "duration": 4,
        "start_time": "2022-02-06T09:08:51.755Z"
      },
      {
        "duration": 889,
        "start_time": "2022-02-06T09:08:51.761Z"
      },
      {
        "duration": 3,
        "start_time": "2022-02-06T09:08:52.653Z"
      },
      {
        "duration": 2208,
        "start_time": "2022-02-06T09:08:52.658Z"
      },
      {
        "duration": 43,
        "start_time": "2022-02-06T09:08:54.868Z"
      },
      {
        "duration": 24,
        "start_time": "2022-02-06T09:08:54.912Z"
      },
      {
        "duration": 5,
        "start_time": "2022-02-06T09:08:54.938Z"
      },
      {
        "duration": 20,
        "start_time": "2022-02-06T09:08:54.945Z"
      },
      {
        "duration": 49,
        "start_time": "2022-02-06T09:08:54.967Z"
      },
      {
        "duration": 1278,
        "start_time": "2022-02-06T09:50:19.152Z"
      },
      {
        "duration": 104,
        "start_time": "2022-02-06T09:50:20.432Z"
      },
      {
        "duration": 23,
        "start_time": "2022-02-06T09:50:20.538Z"
      },
      {
        "duration": 8,
        "start_time": "2022-02-06T09:50:20.563Z"
      },
      {
        "duration": 13,
        "start_time": "2022-02-06T09:50:20.573Z"
      },
      {
        "duration": 8,
        "start_time": "2022-02-06T09:50:20.588Z"
      },
      {
        "duration": 13,
        "start_time": "2022-02-06T09:50:20.598Z"
      },
      {
        "duration": 9,
        "start_time": "2022-02-06T09:50:20.614Z"
      },
      {
        "duration": 6,
        "start_time": "2022-02-06T09:50:20.626Z"
      },
      {
        "duration": 15,
        "start_time": "2022-02-06T09:50:20.634Z"
      },
      {
        "duration": 6,
        "start_time": "2022-02-06T09:50:20.651Z"
      },
      {
        "duration": 15,
        "start_time": "2022-02-06T09:50:20.658Z"
      },
      {
        "duration": 38,
        "start_time": "2022-02-06T09:50:20.674Z"
      },
      {
        "duration": 7,
        "start_time": "2022-02-06T09:50:20.714Z"
      },
      {
        "duration": 20,
        "start_time": "2022-02-06T09:50:20.723Z"
      },
      {
        "duration": 8,
        "start_time": "2022-02-06T09:50:20.745Z"
      },
      {
        "duration": 14,
        "start_time": "2022-02-06T09:50:20.754Z"
      },
      {
        "duration": 14,
        "start_time": "2022-02-06T09:50:20.770Z"
      },
      {
        "duration": 26,
        "start_time": "2022-02-06T09:50:20.786Z"
      },
      {
        "duration": 13,
        "start_time": "2022-02-06T09:50:20.814Z"
      },
      {
        "duration": 22,
        "start_time": "2022-02-06T09:50:20.828Z"
      },
      {
        "duration": 12,
        "start_time": "2022-02-06T09:50:20.852Z"
      },
      {
        "duration": 52,
        "start_time": "2022-02-06T09:50:20.867Z"
      },
      {
        "duration": 18,
        "start_time": "2022-02-06T09:50:20.921Z"
      },
      {
        "duration": 9,
        "start_time": "2022-02-06T09:50:20.941Z"
      },
      {
        "duration": 18,
        "start_time": "2022-02-06T09:50:20.952Z"
      },
      {
        "duration": 47,
        "start_time": "2022-02-06T09:50:20.972Z"
      },
      {
        "duration": 13,
        "start_time": "2022-02-06T09:50:21.021Z"
      },
      {
        "duration": 15,
        "start_time": "2022-02-06T09:50:21.037Z"
      },
      {
        "duration": 12,
        "start_time": "2022-02-06T09:50:21.054Z"
      },
      {
        "duration": 898,
        "start_time": "2022-02-06T09:50:21.068Z"
      },
      {
        "duration": 2,
        "start_time": "2022-02-06T09:50:21.968Z"
      },
      {
        "duration": 2242,
        "start_time": "2022-02-06T09:50:21.972Z"
      },
      {
        "duration": 31,
        "start_time": "2022-02-06T09:50:24.216Z"
      },
      {
        "duration": 90,
        "start_time": "2022-02-06T09:50:24.249Z"
      },
      {
        "duration": 11,
        "start_time": "2022-02-06T09:50:24.341Z"
      },
      {
        "duration": 19,
        "start_time": "2022-02-06T09:50:24.354Z"
      },
      {
        "duration": 8,
        "start_time": "2022-02-06T09:54:51.238Z"
      },
      {
        "duration": 1419,
        "start_time": "2022-02-06T10:00:05.198Z"
      },
      {
        "duration": 109,
        "start_time": "2022-02-06T10:00:06.621Z"
      },
      {
        "duration": 29,
        "start_time": "2022-02-06T10:00:06.733Z"
      },
      {
        "duration": 9,
        "start_time": "2022-02-06T10:00:06.764Z"
      },
      {
        "duration": 16,
        "start_time": "2022-02-06T10:00:06.776Z"
      },
      {
        "duration": 45,
        "start_time": "2022-02-06T10:00:06.795Z"
      },
      {
        "duration": 30,
        "start_time": "2022-02-06T10:00:06.842Z"
      },
      {
        "duration": 48,
        "start_time": "2022-02-06T10:00:06.874Z"
      },
      {
        "duration": 19,
        "start_time": "2022-02-06T10:00:06.925Z"
      },
      {
        "duration": 49,
        "start_time": "2022-02-06T10:00:06.947Z"
      },
      {
        "duration": 26,
        "start_time": "2022-02-06T10:00:06.997Z"
      },
      {
        "duration": 21,
        "start_time": "2022-02-06T10:00:07.026Z"
      },
      {
        "duration": 21,
        "start_time": "2022-02-06T10:00:07.050Z"
      },
      {
        "duration": 16,
        "start_time": "2022-02-06T10:00:07.074Z"
      },
      {
        "duration": 34,
        "start_time": "2022-02-06T10:00:07.092Z"
      },
      {
        "duration": 50,
        "start_time": "2022-02-06T10:00:07.128Z"
      },
      {
        "duration": 24,
        "start_time": "2022-02-06T10:00:07.180Z"
      },
      {
        "duration": 14,
        "start_time": "2022-02-06T10:00:07.206Z"
      },
      {
        "duration": 13,
        "start_time": "2022-02-06T10:00:07.222Z"
      },
      {
        "duration": 21,
        "start_time": "2022-02-06T10:00:07.238Z"
      },
      {
        "duration": 30,
        "start_time": "2022-02-06T10:00:07.262Z"
      },
      {
        "duration": 25,
        "start_time": "2022-02-06T10:00:07.294Z"
      },
      {
        "duration": 52,
        "start_time": "2022-02-06T10:00:07.321Z"
      },
      {
        "duration": 18,
        "start_time": "2022-02-06T10:00:07.375Z"
      },
      {
        "duration": 14,
        "start_time": "2022-02-06T10:00:07.396Z"
      },
      {
        "duration": 47,
        "start_time": "2022-02-06T10:00:07.413Z"
      },
      {
        "duration": 21,
        "start_time": "2022-02-06T10:00:07.465Z"
      },
      {
        "duration": 18,
        "start_time": "2022-02-06T10:00:07.489Z"
      },
      {
        "duration": 14,
        "start_time": "2022-02-06T10:00:07.510Z"
      },
      {
        "duration": 37,
        "start_time": "2022-02-06T10:00:07.526Z"
      },
      {
        "duration": 1100,
        "start_time": "2022-02-06T10:00:07.566Z"
      },
      {
        "duration": 5,
        "start_time": "2022-02-06T10:00:08.669Z"
      },
      {
        "duration": 2774,
        "start_time": "2022-02-06T10:00:08.676Z"
      },
      {
        "duration": 31,
        "start_time": "2022-02-06T10:00:11.452Z"
      },
      {
        "duration": 40,
        "start_time": "2022-02-06T10:00:11.486Z"
      },
      {
        "duration": 9,
        "start_time": "2022-02-06T10:00:11.528Z"
      },
      {
        "duration": 8,
        "start_time": "2022-02-06T10:00:11.539Z"
      },
      {
        "duration": 11,
        "start_time": "2022-02-06T10:00:11.549Z"
      },
      {
        "duration": 49,
        "start_time": "2022-02-06T10:00:11.562Z"
      },
      {
        "duration": 1325,
        "start_time": "2022-02-06T10:10:50.468Z"
      },
      {
        "duration": 103,
        "start_time": "2022-02-06T10:10:51.796Z"
      },
      {
        "duration": 21,
        "start_time": "2022-02-06T10:10:51.902Z"
      },
      {
        "duration": 7,
        "start_time": "2022-02-06T10:10:51.925Z"
      },
      {
        "duration": 10,
        "start_time": "2022-02-06T10:10:51.934Z"
      },
      {
        "duration": 16,
        "start_time": "2022-02-06T10:10:51.946Z"
      },
      {
        "duration": 5,
        "start_time": "2022-02-06T10:10:51.964Z"
      },
      {
        "duration": 10,
        "start_time": "2022-02-06T10:10:51.971Z"
      },
      {
        "duration": 26,
        "start_time": "2022-02-06T10:10:51.984Z"
      },
      {
        "duration": 14,
        "start_time": "2022-02-06T10:10:52.013Z"
      },
      {
        "duration": 7,
        "start_time": "2022-02-06T10:10:52.029Z"
      },
      {
        "duration": 7,
        "start_time": "2022-02-06T10:10:52.038Z"
      },
      {
        "duration": 13,
        "start_time": "2022-02-06T10:10:52.047Z"
      },
      {
        "duration": 9,
        "start_time": "2022-02-06T10:10:52.061Z"
      },
      {
        "duration": 38,
        "start_time": "2022-02-06T10:10:52.072Z"
      },
      {
        "duration": 7,
        "start_time": "2022-02-06T10:10:52.112Z"
      },
      {
        "duration": 9,
        "start_time": "2022-02-06T10:10:52.121Z"
      },
      {
        "duration": 16,
        "start_time": "2022-02-06T10:10:52.132Z"
      },
      {
        "duration": 5,
        "start_time": "2022-02-06T10:10:52.149Z"
      },
      {
        "duration": 14,
        "start_time": "2022-02-06T10:10:52.156Z"
      },
      {
        "duration": 49,
        "start_time": "2022-02-06T10:10:52.172Z"
      },
      {
        "duration": 11,
        "start_time": "2022-02-06T10:10:52.224Z"
      },
      {
        "duration": 31,
        "start_time": "2022-02-06T10:10:52.237Z"
      },
      {
        "duration": 42,
        "start_time": "2022-02-06T10:10:52.270Z"
      },
      {
        "duration": 8,
        "start_time": "2022-02-06T10:10:52.313Z"
      },
      {
        "duration": 17,
        "start_time": "2022-02-06T10:10:52.323Z"
      },
      {
        "duration": 14,
        "start_time": "2022-02-06T10:10:52.343Z"
      },
      {
        "duration": 13,
        "start_time": "2022-02-06T10:10:52.360Z"
      },
      {
        "duration": 39,
        "start_time": "2022-02-06T10:10:52.375Z"
      },
      {
        "duration": 5,
        "start_time": "2022-02-06T10:10:52.416Z"
      },
      {
        "duration": 886,
        "start_time": "2022-02-06T10:10:52.423Z"
      },
      {
        "duration": 3,
        "start_time": "2022-02-06T10:10:53.311Z"
      },
      {
        "duration": 2213,
        "start_time": "2022-02-06T10:10:53.316Z"
      },
      {
        "duration": 29,
        "start_time": "2022-02-06T10:10:55.531Z"
      },
      {
        "duration": 22,
        "start_time": "2022-02-06T10:10:55.562Z"
      },
      {
        "duration": 7,
        "start_time": "2022-02-06T10:10:55.608Z"
      },
      {
        "duration": 13,
        "start_time": "2022-02-06T10:10:55.616Z"
      },
      {
        "duration": 19,
        "start_time": "2022-02-06T10:10:55.631Z"
      },
      {
        "duration": 12,
        "start_time": "2022-02-06T10:10:55.652Z"
      },
      {
        "duration": 166,
        "start_time": "2022-02-06T10:10:55.666Z"
      },
      {
        "duration": 4,
        "start_time": "2022-02-06T11:08:13.975Z"
      },
      {
        "duration": 5,
        "start_time": "2022-02-06T11:09:33.221Z"
      },
      {
        "duration": 4,
        "start_time": "2022-02-06T11:09:39.871Z"
      },
      {
        "duration": 4,
        "start_time": "2022-02-06T11:10:03.574Z"
      },
      {
        "duration": 6,
        "start_time": "2022-02-06T11:32:25.150Z"
      },
      {
        "duration": 10,
        "start_time": "2022-02-06T11:33:13.682Z"
      },
      {
        "duration": 5,
        "start_time": "2022-02-06T11:33:55.226Z"
      },
      {
        "duration": 7,
        "start_time": "2022-02-06T11:34:53.490Z"
      },
      {
        "duration": 10,
        "start_time": "2022-02-06T11:34:54.980Z"
      },
      {
        "duration": 7,
        "start_time": "2022-02-06T11:35:25.867Z"
      },
      {
        "duration": 13,
        "start_time": "2022-02-06T11:35:47.759Z"
      },
      {
        "duration": 1221,
        "start_time": "2022-02-06T11:36:36.561Z"
      },
      {
        "duration": 105,
        "start_time": "2022-02-06T11:36:37.784Z"
      },
      {
        "duration": 22,
        "start_time": "2022-02-06T11:36:37.891Z"
      },
      {
        "duration": 7,
        "start_time": "2022-02-06T11:36:37.915Z"
      },
      {
        "duration": 11,
        "start_time": "2022-02-06T11:36:37.924Z"
      },
      {
        "duration": 9,
        "start_time": "2022-02-06T11:36:37.936Z"
      },
      {
        "duration": 6,
        "start_time": "2022-02-06T11:36:37.947Z"
      },
      {
        "duration": 22,
        "start_time": "2022-02-06T11:36:37.954Z"
      },
      {
        "duration": 6,
        "start_time": "2022-02-06T11:36:37.979Z"
      },
      {
        "duration": 14,
        "start_time": "2022-02-06T11:36:38.008Z"
      },
      {
        "duration": 5,
        "start_time": "2022-02-06T11:36:38.024Z"
      },
      {
        "duration": 17,
        "start_time": "2022-02-06T11:36:38.031Z"
      },
      {
        "duration": 20,
        "start_time": "2022-02-06T11:36:38.049Z"
      },
      {
        "duration": 8,
        "start_time": "2022-02-06T11:36:38.071Z"
      },
      {
        "duration": 32,
        "start_time": "2022-02-06T11:36:38.081Z"
      },
      {
        "duration": 5,
        "start_time": "2022-02-06T11:36:38.115Z"
      },
      {
        "duration": 12,
        "start_time": "2022-02-06T11:36:38.121Z"
      },
      {
        "duration": 20,
        "start_time": "2022-02-06T11:36:38.135Z"
      },
      {
        "duration": 5,
        "start_time": "2022-02-06T11:36:38.157Z"
      },
      {
        "duration": 15,
        "start_time": "2022-02-06T11:36:38.164Z"
      },
      {
        "duration": 38,
        "start_time": "2022-02-06T11:36:38.181Z"
      },
      {
        "duration": 15,
        "start_time": "2022-02-06T11:36:38.221Z"
      },
      {
        "duration": 33,
        "start_time": "2022-02-06T11:36:38.238Z"
      },
      {
        "duration": 42,
        "start_time": "2022-02-06T11:36:38.273Z"
      },
      {
        "duration": 9,
        "start_time": "2022-02-06T11:36:38.317Z"
      },
      {
        "duration": 23,
        "start_time": "2022-02-06T11:36:38.328Z"
      },
      {
        "duration": 12,
        "start_time": "2022-02-06T11:36:38.355Z"
      },
      {
        "duration": 11,
        "start_time": "2022-02-06T11:36:38.369Z"
      },
      {
        "duration": 14,
        "start_time": "2022-02-06T11:36:38.407Z"
      },
      {
        "duration": 3,
        "start_time": "2022-02-06T11:36:38.422Z"
      },
      {
        "duration": 909,
        "start_time": "2022-02-06T11:36:38.427Z"
      },
      {
        "duration": 4,
        "start_time": "2022-02-06T11:36:39.339Z"
      },
      {
        "duration": 2294,
        "start_time": "2022-02-06T11:36:39.345Z"
      },
      {
        "duration": 7,
        "start_time": "2022-02-06T11:36:41.641Z"
      },
      {
        "duration": 13,
        "start_time": "2022-02-06T11:36:41.650Z"
      },
      {
        "duration": 57,
        "start_time": "2022-02-06T11:36:41.666Z"
      },
      {
        "duration": 7,
        "start_time": "2022-02-06T11:36:41.725Z"
      },
      {
        "duration": 11,
        "start_time": "2022-02-06T11:36:41.734Z"
      },
      {
        "duration": 8,
        "start_time": "2022-02-06T11:36:41.747Z"
      },
      {
        "duration": 13,
        "start_time": "2022-02-06T11:36:41.757Z"
      },
      {
        "duration": 177,
        "start_time": "2022-02-06T11:36:41.771Z"
      },
      {
        "duration": 5,
        "start_time": "2022-02-06T12:10:13.435Z"
      },
      {
        "duration": 6,
        "start_time": "2022-02-06T12:15:14.564Z"
      },
      {
        "duration": 6884,
        "start_time": "2022-02-06T12:18:08.797Z"
      },
      {
        "duration": 3974,
        "start_time": "2022-02-06T12:18:56.584Z"
      },
      {
        "duration": 5,
        "start_time": "2022-02-06T12:25:07.507Z"
      },
      {
        "duration": 5116,
        "start_time": "2022-02-06T12:25:09.251Z"
      },
      {
        "duration": 1304,
        "start_time": "2022-02-06T12:52:37.242Z"
      },
      {
        "duration": 104,
        "start_time": "2022-02-06T12:52:38.548Z"
      },
      {
        "duration": 22,
        "start_time": "2022-02-06T12:52:38.654Z"
      },
      {
        "duration": 7,
        "start_time": "2022-02-06T12:52:38.678Z"
      },
      {
        "duration": 20,
        "start_time": "2022-02-06T12:52:38.687Z"
      },
      {
        "duration": 10,
        "start_time": "2022-02-06T12:52:38.709Z"
      },
      {
        "duration": 6,
        "start_time": "2022-02-06T12:52:38.721Z"
      },
      {
        "duration": 9,
        "start_time": "2022-02-06T12:52:38.730Z"
      },
      {
        "duration": 5,
        "start_time": "2022-02-06T12:52:38.741Z"
      },
      {
        "duration": 13,
        "start_time": "2022-02-06T12:52:38.748Z"
      },
      {
        "duration": 10,
        "start_time": "2022-02-06T12:52:38.762Z"
      },
      {
        "duration": 34,
        "start_time": "2022-02-06T12:52:38.774Z"
      },
      {
        "duration": 10,
        "start_time": "2022-02-06T12:52:38.810Z"
      },
      {
        "duration": 8,
        "start_time": "2022-02-06T12:52:38.821Z"
      },
      {
        "duration": 24,
        "start_time": "2022-02-06T12:52:38.831Z"
      },
      {
        "duration": 6,
        "start_time": "2022-02-06T12:52:38.857Z"
      },
      {
        "duration": 12,
        "start_time": "2022-02-06T12:52:38.865Z"
      },
      {
        "duration": 35,
        "start_time": "2022-02-06T12:52:38.879Z"
      },
      {
        "duration": 5,
        "start_time": "2022-02-06T12:52:38.916Z"
      },
      {
        "duration": 13,
        "start_time": "2022-02-06T12:52:38.922Z"
      },
      {
        "duration": 21,
        "start_time": "2022-02-06T12:52:38.937Z"
      },
      {
        "duration": 19,
        "start_time": "2022-02-06T12:52:38.960Z"
      },
      {
        "duration": 54,
        "start_time": "2022-02-06T12:52:38.983Z"
      },
      {
        "duration": 18,
        "start_time": "2022-02-06T12:52:39.039Z"
      },
      {
        "duration": 8,
        "start_time": "2022-02-06T12:52:39.058Z"
      },
      {
        "duration": 41,
        "start_time": "2022-02-06T12:52:39.068Z"
      },
      {
        "duration": 14,
        "start_time": "2022-02-06T12:52:39.111Z"
      },
      {
        "duration": 11,
        "start_time": "2022-02-06T12:52:39.127Z"
      },
      {
        "duration": 12,
        "start_time": "2022-02-06T12:52:39.140Z"
      },
      {
        "duration": 8,
        "start_time": "2022-02-06T12:52:39.153Z"
      },
      {
        "duration": 930,
        "start_time": "2022-02-06T12:52:39.162Z"
      },
      {
        "duration": 4,
        "start_time": "2022-02-06T12:52:40.094Z"
      },
      {
        "duration": 2272,
        "start_time": "2022-02-06T12:52:40.099Z"
      },
      {
        "duration": 6,
        "start_time": "2022-02-06T12:52:42.373Z"
      },
      {
        "duration": 35,
        "start_time": "2022-02-06T12:52:42.381Z"
      },
      {
        "duration": 31,
        "start_time": "2022-02-06T12:52:42.418Z"
      },
      {
        "duration": 5,
        "start_time": "2022-02-06T12:52:42.451Z"
      },
      {
        "duration": 16,
        "start_time": "2022-02-06T12:52:42.458Z"
      },
      {
        "duration": 33,
        "start_time": "2022-02-06T12:52:42.476Z"
      },
      {
        "duration": 17,
        "start_time": "2022-02-06T12:52:42.511Z"
      },
      {
        "duration": 162,
        "start_time": "2022-02-06T12:52:42.530Z"
      },
      {
        "duration": 5,
        "start_time": "2022-02-06T12:52:42.694Z"
      },
      {
        "duration": 2396,
        "start_time": "2022-02-06T12:52:42.707Z"
      },
      {
        "duration": 2055,
        "start_time": "2022-02-06T12:53:27.293Z"
      },
      {
        "duration": 3041,
        "start_time": "2022-02-06T12:55:37.963Z"
      },
      {
        "duration": 2276,
        "start_time": "2022-02-06T12:56:55.371Z"
      },
      {
        "duration": 8,
        "start_time": "2022-02-06T12:57:35.940Z"
      },
      {
        "duration": 7,
        "start_time": "2022-02-06T12:57:51.660Z"
      },
      {
        "duration": 7,
        "start_time": "2022-02-06T12:58:09.736Z"
      },
      {
        "duration": 5,
        "start_time": "2022-02-06T13:00:31.385Z"
      },
      {
        "duration": 2378,
        "start_time": "2022-02-06T13:00:33.134Z"
      },
      {
        "duration": 7,
        "start_time": "2022-02-06T13:01:31.043Z"
      },
      {
        "duration": 7,
        "start_time": "2022-02-06T13:01:36.713Z"
      },
      {
        "duration": 5,
        "start_time": "2022-02-06T13:02:54.610Z"
      },
      {
        "duration": 3918,
        "start_time": "2022-02-06T13:02:56.857Z"
      },
      {
        "duration": 149,
        "start_time": "2022-02-06T13:24:48.580Z"
      },
      {
        "duration": 1222,
        "start_time": "2022-02-06T13:26:36.645Z"
      },
      {
        "duration": 104,
        "start_time": "2022-02-06T13:26:37.869Z"
      },
      {
        "duration": 26,
        "start_time": "2022-02-06T13:26:37.975Z"
      },
      {
        "duration": 7,
        "start_time": "2022-02-06T13:26:38.004Z"
      },
      {
        "duration": 20,
        "start_time": "2022-02-06T13:26:38.013Z"
      },
      {
        "duration": 11,
        "start_time": "2022-02-06T13:26:38.036Z"
      },
      {
        "duration": 15,
        "start_time": "2022-02-06T13:26:38.049Z"
      },
      {
        "duration": 10,
        "start_time": "2022-02-06T13:26:38.067Z"
      },
      {
        "duration": 8,
        "start_time": "2022-02-06T13:26:38.080Z"
      },
      {
        "duration": 27,
        "start_time": "2022-02-06T13:26:38.090Z"
      },
      {
        "duration": 17,
        "start_time": "2022-02-06T13:26:38.119Z"
      },
      {
        "duration": 8,
        "start_time": "2022-02-06T13:26:38.137Z"
      },
      {
        "duration": 16,
        "start_time": "2022-02-06T13:26:38.146Z"
      },
      {
        "duration": 10,
        "start_time": "2022-02-06T13:26:38.164Z"
      },
      {
        "duration": 31,
        "start_time": "2022-02-06T13:26:38.176Z"
      },
      {
        "duration": 5,
        "start_time": "2022-02-06T13:26:38.209Z"
      },
      {
        "duration": 17,
        "start_time": "2022-02-06T13:26:38.216Z"
      },
      {
        "duration": 17,
        "start_time": "2022-02-06T13:26:38.235Z"
      },
      {
        "duration": 5,
        "start_time": "2022-02-06T13:26:38.254Z"
      },
      {
        "duration": 14,
        "start_time": "2022-02-06T13:26:38.261Z"
      },
      {
        "duration": 43,
        "start_time": "2022-02-06T13:26:38.277Z"
      },
      {
        "duration": 12,
        "start_time": "2022-02-06T13:26:38.322Z"
      },
      {
        "duration": 29,
        "start_time": "2022-02-06T13:26:38.337Z"
      },
      {
        "duration": 42,
        "start_time": "2022-02-06T13:26:38.368Z"
      },
      {
        "duration": 8,
        "start_time": "2022-02-06T13:26:38.412Z"
      },
      {
        "duration": 18,
        "start_time": "2022-02-06T13:26:38.422Z"
      },
      {
        "duration": 14,
        "start_time": "2022-02-06T13:26:38.442Z"
      },
      {
        "duration": 12,
        "start_time": "2022-02-06T13:26:38.459Z"
      },
      {
        "duration": 40,
        "start_time": "2022-02-06T13:26:38.473Z"
      },
      {
        "duration": 9,
        "start_time": "2022-02-06T13:26:38.515Z"
      },
      {
        "duration": 905,
        "start_time": "2022-02-06T13:26:38.526Z"
      },
      {
        "duration": 3,
        "start_time": "2022-02-06T13:26:39.433Z"
      },
      {
        "duration": 2256,
        "start_time": "2022-02-06T13:26:39.438Z"
      },
      {
        "duration": 12,
        "start_time": "2022-02-06T13:26:41.696Z"
      },
      {
        "duration": 16,
        "start_time": "2022-02-06T13:26:41.710Z"
      },
      {
        "duration": 31,
        "start_time": "2022-02-06T13:26:41.728Z"
      },
      {
        "duration": 5,
        "start_time": "2022-02-06T13:26:41.761Z"
      },
      {
        "duration": 14,
        "start_time": "2022-02-06T13:26:41.768Z"
      },
      {
        "duration": 25,
        "start_time": "2022-02-06T13:26:41.784Z"
      },
      {
        "duration": 15,
        "start_time": "2022-02-06T13:26:41.811Z"
      },
      {
        "duration": 161,
        "start_time": "2022-02-06T13:26:41.828Z"
      },
      {
        "duration": 105685,
        "start_time": "2022-02-06T13:26:41.992Z"
      },
      {
        "duration": 117949,
        "start_time": "2022-02-06T13:29:21.146Z"
      },
      {
        "duration": 63,
        "start_time": "2022-02-06T13:33:52.669Z"
      },
      {
        "duration": 763826,
        "start_time": "2022-02-06T14:16:42.403Z"
      },
      {
        "duration": 1190,
        "start_time": "2022-02-06T14:36:31.922Z"
      },
      {
        "duration": 1110,
        "start_time": "2022-02-06T14:36:54.993Z"
      },
      {
        "duration": 21874,
        "start_time": "2022-02-06T14:39:33.447Z"
      },
      {
        "duration": 22280,
        "start_time": "2022-02-06T14:43:11.601Z"
      },
      {
        "duration": 21354,
        "start_time": "2022-02-06T14:43:52.371Z"
      },
      {
        "duration": 1461,
        "start_time": "2022-02-06T14:46:45.748Z"
      },
      {
        "duration": 255,
        "start_time": "2022-02-06T14:46:47.212Z"
      },
      {
        "duration": 21,
        "start_time": "2022-02-06T14:46:47.469Z"
      },
      {
        "duration": 6,
        "start_time": "2022-02-06T14:46:47.492Z"
      },
      {
        "duration": 9,
        "start_time": "2022-02-06T14:46:47.500Z"
      },
      {
        "duration": 13,
        "start_time": "2022-02-06T14:46:47.511Z"
      },
      {
        "duration": 7,
        "start_time": "2022-02-06T14:46:47.526Z"
      },
      {
        "duration": 13,
        "start_time": "2022-02-06T14:46:47.535Z"
      },
      {
        "duration": 6,
        "start_time": "2022-02-06T14:46:47.552Z"
      },
      {
        "duration": 15,
        "start_time": "2022-02-06T14:46:47.560Z"
      },
      {
        "duration": 6,
        "start_time": "2022-02-06T14:46:47.577Z"
      },
      {
        "duration": 27,
        "start_time": "2022-02-06T14:46:47.585Z"
      },
      {
        "duration": 12,
        "start_time": "2022-02-06T14:46:47.614Z"
      },
      {
        "duration": 8,
        "start_time": "2022-02-06T14:46:47.628Z"
      },
      {
        "duration": 31,
        "start_time": "2022-02-06T14:46:47.638Z"
      },
      {
        "duration": 11,
        "start_time": "2022-02-06T14:46:47.671Z"
      },
      {
        "duration": 18,
        "start_time": "2022-02-06T14:46:47.684Z"
      },
      {
        "duration": 21,
        "start_time": "2022-02-06T14:46:47.704Z"
      },
      {
        "duration": 14,
        "start_time": "2022-02-06T14:46:47.727Z"
      },
      {
        "duration": 20,
        "start_time": "2022-02-06T14:46:47.743Z"
      },
      {
        "duration": 23,
        "start_time": "2022-02-06T14:46:47.764Z"
      },
      {
        "duration": 25,
        "start_time": "2022-02-06T14:46:47.789Z"
      },
      {
        "duration": 32,
        "start_time": "2022-02-06T14:46:47.817Z"
      },
      {
        "duration": 20,
        "start_time": "2022-02-06T14:46:47.851Z"
      },
      {
        "duration": 34,
        "start_time": "2022-02-06T14:46:47.873Z"
      },
      {
        "duration": 16,
        "start_time": "2022-02-06T14:46:47.910Z"
      },
      {
        "duration": 14,
        "start_time": "2022-02-06T14:46:47.930Z"
      },
      {
        "duration": 10,
        "start_time": "2022-02-06T14:46:47.947Z"
      },
      {
        "duration": 14,
        "start_time": "2022-02-06T14:46:47.959Z"
      },
      {
        "duration": 5,
        "start_time": "2022-02-06T14:46:47.975Z"
      },
      {
        "duration": 893,
        "start_time": "2022-02-06T14:46:48.008Z"
      },
      {
        "duration": 3,
        "start_time": "2022-02-06T14:46:48.907Z"
      },
      {
        "duration": 2324,
        "start_time": "2022-02-06T14:46:48.912Z"
      },
      {
        "duration": 6,
        "start_time": "2022-02-06T14:46:51.237Z"
      },
      {
        "duration": 22,
        "start_time": "2022-02-06T14:46:51.244Z"
      },
      {
        "duration": 46,
        "start_time": "2022-02-06T14:46:51.268Z"
      },
      {
        "duration": 5,
        "start_time": "2022-02-06T14:46:51.316Z"
      },
      {
        "duration": 13,
        "start_time": "2022-02-06T14:46:51.323Z"
      },
      {
        "duration": 28,
        "start_time": "2022-02-06T14:46:51.338Z"
      },
      {
        "duration": 15,
        "start_time": "2022-02-06T14:46:51.368Z"
      },
      {
        "duration": 164,
        "start_time": "2022-02-06T14:46:51.385Z"
      },
      {
        "duration": 117050,
        "start_time": "2022-02-06T14:46:51.551Z"
      },
      {
        "duration": 55,
        "start_time": "2022-02-06T14:48:48.603Z"
      },
      {
        "duration": 1258,
        "start_time": "2022-02-06T14:51:45.417Z"
      },
      {
        "duration": 104,
        "start_time": "2022-02-06T14:51:46.677Z"
      },
      {
        "duration": 22,
        "start_time": "2022-02-06T14:51:46.783Z"
      },
      {
        "duration": 7,
        "start_time": "2022-02-06T14:51:46.807Z"
      },
      {
        "duration": 11,
        "start_time": "2022-02-06T14:51:46.816Z"
      },
      {
        "duration": 14,
        "start_time": "2022-02-06T14:51:46.829Z"
      },
      {
        "duration": 21,
        "start_time": "2022-02-06T14:51:46.845Z"
      },
      {
        "duration": 14,
        "start_time": "2022-02-06T14:51:46.869Z"
      },
      {
        "duration": 10,
        "start_time": "2022-02-06T14:51:46.885Z"
      },
      {
        "duration": 40,
        "start_time": "2022-02-06T14:51:46.896Z"
      },
      {
        "duration": 12,
        "start_time": "2022-02-06T14:51:46.938Z"
      },
      {
        "duration": 15,
        "start_time": "2022-02-06T14:51:46.952Z"
      },
      {
        "duration": 27,
        "start_time": "2022-02-06T14:51:46.968Z"
      },
      {
        "duration": 17,
        "start_time": "2022-02-06T14:51:46.997Z"
      },
      {
        "duration": 23,
        "start_time": "2022-02-06T14:51:47.016Z"
      },
      {
        "duration": 9,
        "start_time": "2022-02-06T14:51:47.041Z"
      },
      {
        "duration": 39,
        "start_time": "2022-02-06T14:51:47.052Z"
      },
      {
        "duration": 35,
        "start_time": "2022-02-06T14:51:47.093Z"
      },
      {
        "duration": 13,
        "start_time": "2022-02-06T14:51:47.130Z"
      },
      {
        "duration": 48,
        "start_time": "2022-02-06T14:51:47.145Z"
      },
      {
        "duration": 37,
        "start_time": "2022-02-06T14:51:47.195Z"
      },
      {
        "duration": 43,
        "start_time": "2022-02-06T14:51:47.234Z"
      },
      {
        "duration": 50,
        "start_time": "2022-02-06T14:51:47.281Z"
      },
      {
        "duration": 30,
        "start_time": "2022-02-06T14:51:47.333Z"
      },
      {
        "duration": 23,
        "start_time": "2022-02-06T14:51:47.365Z"
      },
      {
        "duration": 35,
        "start_time": "2022-02-06T14:51:47.390Z"
      },
      {
        "duration": 37,
        "start_time": "2022-02-06T14:51:47.427Z"
      },
      {
        "duration": 35,
        "start_time": "2022-02-06T14:51:47.467Z"
      },
      {
        "duration": 19,
        "start_time": "2022-02-06T14:51:47.505Z"
      },
      {
        "duration": 31,
        "start_time": "2022-02-06T14:51:47.526Z"
      },
      {
        "duration": 888,
        "start_time": "2022-02-06T14:51:47.559Z"
      },
      {
        "duration": 3,
        "start_time": "2022-02-06T14:51:48.450Z"
      },
      {
        "duration": 2232,
        "start_time": "2022-02-06T14:51:48.454Z"
      },
      {
        "duration": 5,
        "start_time": "2022-02-06T14:51:50.688Z"
      },
      {
        "duration": 15,
        "start_time": "2022-02-06T14:51:50.707Z"
      },
      {
        "duration": 28,
        "start_time": "2022-02-06T14:51:50.724Z"
      },
      {
        "duration": 7,
        "start_time": "2022-02-06T14:51:50.754Z"
      },
      {
        "duration": 19,
        "start_time": "2022-02-06T14:51:50.763Z"
      },
      {
        "duration": 27,
        "start_time": "2022-02-06T14:51:50.784Z"
      },
      {
        "duration": 15,
        "start_time": "2022-02-06T14:51:50.813Z"
      },
      {
        "duration": 170,
        "start_time": "2022-02-06T14:51:50.830Z"
      },
      {
        "duration": 104457,
        "start_time": "2022-02-06T14:51:51.007Z"
      },
      {
        "duration": 53,
        "start_time": "2022-02-06T14:53:35.467Z"
      },
      {
        "duration": 790504,
        "start_time": "2022-02-06T14:53:35.521Z"
      },
      {
        "duration": 24294,
        "start_time": "2022-02-06T15:06:46.027Z"
      },
      {
        "duration": 21,
        "start_time": "2022-02-06T15:10:53.162Z"
      },
      {
        "duration": 113,
        "start_time": "2022-02-06T15:12:26.696Z"
      },
      {
        "duration": 335,
        "start_time": "2022-02-06T15:13:43.366Z"
      },
      {
        "duration": 68,
        "start_time": "2022-02-06T15:14:19.943Z"
      },
      {
        "duration": 1579,
        "start_time": "2022-02-07T06:09:44.413Z"
      },
      {
        "duration": 110,
        "start_time": "2022-02-07T06:09:45.995Z"
      },
      {
        "duration": 27,
        "start_time": "2022-02-07T06:09:50.998Z"
      },
      {
        "duration": 10,
        "start_time": "2022-02-07T06:10:46.465Z"
      },
      {
        "duration": 8,
        "start_time": "2022-02-07T06:10:47.259Z"
      },
      {
        "duration": 9,
        "start_time": "2022-02-07T06:10:54.156Z"
      },
      {
        "duration": 7,
        "start_time": "2022-02-07T06:10:54.974Z"
      },
      {
        "duration": 11,
        "start_time": "2022-02-07T06:10:55.904Z"
      },
      {
        "duration": 9,
        "start_time": "2022-02-07T06:10:56.698Z"
      },
      {
        "duration": 19,
        "start_time": "2022-02-07T06:10:57.621Z"
      },
      {
        "duration": 7,
        "start_time": "2022-02-07T06:11:49.468Z"
      },
      {
        "duration": 9,
        "start_time": "2022-02-07T06:12:30.662Z"
      },
      {
        "duration": 12,
        "start_time": "2022-02-07T06:12:31.297Z"
      },
      {
        "duration": 9,
        "start_time": "2022-02-07T06:12:31.966Z"
      },
      {
        "duration": 18,
        "start_time": "2022-02-07T06:12:35.699Z"
      },
      {
        "duration": 5,
        "start_time": "2022-02-07T06:12:39.229Z"
      },
      {
        "duration": 10,
        "start_time": "2022-02-07T06:14:01.321Z"
      },
      {
        "duration": 18,
        "start_time": "2022-02-07T06:14:02.801Z"
      },
      {
        "duration": 6,
        "start_time": "2022-02-07T06:14:03.554Z"
      },
      {
        "duration": 13,
        "start_time": "2022-02-07T06:14:06.071Z"
      },
      {
        "duration": 33,
        "start_time": "2022-02-07T06:14:06.655Z"
      },
      {
        "duration": 20,
        "start_time": "2022-02-07T06:14:07.582Z"
      },
      {
        "duration": 54,
        "start_time": "2022-02-07T06:14:08.352Z"
      },
      {
        "duration": 36,
        "start_time": "2022-02-07T06:14:10.864Z"
      },
      {
        "duration": 15,
        "start_time": "2022-02-07T06:14:12.148Z"
      },
      {
        "duration": 41,
        "start_time": "2022-02-07T06:14:12.698Z"
      },
      {
        "duration": 19,
        "start_time": "2022-02-07T06:14:16.736Z"
      },
      {
        "duration": 15,
        "start_time": "2022-02-07T06:14:21.730Z"
      },
      {
        "duration": 17,
        "start_time": "2022-02-07T06:14:44.207Z"
      },
      {
        "duration": 3,
        "start_time": "2022-02-07T06:14:57.959Z"
      },
      {
        "duration": 1264,
        "start_time": "2022-02-07T06:14:59.068Z"
      },
      {
        "duration": 4,
        "start_time": "2022-02-07T06:15:08.310Z"
      },
      {
        "duration": 3270,
        "start_time": "2022-02-07T06:15:09.223Z"
      },
      {
        "duration": 7,
        "start_time": "2022-02-07T06:16:29.632Z"
      },
      {
        "duration": 17,
        "start_time": "2022-02-07T06:16:30.591Z"
      },
      {
        "duration": 43,
        "start_time": "2022-02-07T06:16:31.207Z"
      },
      {
        "duration": 7,
        "start_time": "2022-02-07T06:16:32.159Z"
      },
      {
        "duration": 14,
        "start_time": "2022-02-07T06:16:36.043Z"
      },
      {
        "duration": 11,
        "start_time": "2022-02-07T06:16:36.680Z"
      },
      {
        "duration": 22,
        "start_time": "2022-02-07T06:16:37.272Z"
      },
      {
        "duration": 213,
        "start_time": "2022-02-07T06:16:38.270Z"
      },
      {
        "duration": 1872,
        "start_time": "2022-02-07T07:13:54.852Z"
      },
      {
        "duration": 1490,
        "start_time": "2022-02-07T07:15:22.464Z"
      },
      {
        "duration": 96,
        "start_time": "2022-02-07T07:15:23.957Z"
      },
      {
        "duration": 30,
        "start_time": "2022-02-07T07:15:24.056Z"
      },
      {
        "duration": 9,
        "start_time": "2022-02-07T07:15:24.088Z"
      },
      {
        "duration": 8,
        "start_time": "2022-02-07T07:15:24.100Z"
      },
      {
        "duration": 8,
        "start_time": "2022-02-07T07:15:24.124Z"
      },
      {
        "duration": 5,
        "start_time": "2022-02-07T07:15:24.135Z"
      },
      {
        "duration": 9,
        "start_time": "2022-02-07T07:15:24.144Z"
      },
      {
        "duration": 7,
        "start_time": "2022-02-07T07:15:24.156Z"
      },
      {
        "duration": 17,
        "start_time": "2022-02-07T07:15:24.166Z"
      },
      {
        "duration": 9,
        "start_time": "2022-02-07T07:15:24.224Z"
      },
      {
        "duration": 10,
        "start_time": "2022-02-07T07:15:24.236Z"
      },
      {
        "duration": 11,
        "start_time": "2022-02-07T07:15:24.248Z"
      },
      {
        "duration": 9,
        "start_time": "2022-02-07T07:15:24.261Z"
      },
      {
        "duration": 62,
        "start_time": "2022-02-07T07:15:24.272Z"
      },
      {
        "duration": 20,
        "start_time": "2022-02-07T07:15:24.336Z"
      },
      {
        "duration": 28,
        "start_time": "2022-02-07T07:15:24.359Z"
      },
      {
        "duration": 23,
        "start_time": "2022-02-07T07:15:24.390Z"
      },
      {
        "duration": 8,
        "start_time": "2022-02-07T07:15:24.415Z"
      },
      {
        "duration": 14,
        "start_time": "2022-02-07T07:15:24.426Z"
      },
      {
        "duration": 31,
        "start_time": "2022-02-07T07:15:24.443Z"
      },
      {
        "duration": 18,
        "start_time": "2022-02-07T07:15:24.476Z"
      },
      {
        "duration": 37,
        "start_time": "2022-02-07T07:15:24.527Z"
      },
      {
        "duration": 23,
        "start_time": "2022-02-07T07:15:24.567Z"
      },
      {
        "duration": 36,
        "start_time": "2022-02-07T07:15:24.592Z"
      },
      {
        "duration": 27,
        "start_time": "2022-02-07T07:15:24.630Z"
      },
      {
        "duration": 18,
        "start_time": "2022-02-07T07:15:24.659Z"
      },
      {
        "duration": 44,
        "start_time": "2022-02-07T07:15:24.679Z"
      },
      {
        "duration": 15,
        "start_time": "2022-02-07T07:15:24.726Z"
      },
      {
        "duration": 3,
        "start_time": "2022-02-07T07:15:24.744Z"
      },
      {
        "duration": 1307,
        "start_time": "2022-02-07T07:15:24.750Z"
      },
      {
        "duration": 4,
        "start_time": "2022-02-07T07:15:26.060Z"
      },
      {
        "duration": 3270,
        "start_time": "2022-02-07T07:15:26.066Z"
      },
      {
        "duration": 6,
        "start_time": "2022-02-07T07:15:29.338Z"
      },
      {
        "duration": 26,
        "start_time": "2022-02-07T07:15:29.346Z"
      },
      {
        "duration": 71,
        "start_time": "2022-02-07T07:15:29.376Z"
      },
      {
        "duration": 8,
        "start_time": "2022-02-07T07:15:29.450Z"
      },
      {
        "duration": 15,
        "start_time": "2022-02-07T07:15:29.461Z"
      },
      {
        "duration": 11,
        "start_time": "2022-02-07T07:15:29.478Z"
      },
      {
        "duration": 51,
        "start_time": "2022-02-07T07:15:29.492Z"
      },
      {
        "duration": 230,
        "start_time": "2022-02-07T07:15:29.545Z"
      },
      {
        "duration": 129726,
        "start_time": "2022-02-07T07:15:29.778Z"
      },
      {
        "duration": 79,
        "start_time": "2022-02-07T07:17:39.506Z"
      },
      {
        "duration": 406106,
        "start_time": "2022-02-07T07:17:39.587Z"
      },
      {
        "duration": -392,
        "start_time": "2022-02-07T07:24:26.089Z"
      },
      {
        "duration": -394,
        "start_time": "2022-02-07T07:24:26.093Z"
      },
      {
        "duration": -442,
        "start_time": "2022-02-07T07:24:26.142Z"
      },
      {
        "duration": -443,
        "start_time": "2022-02-07T07:24:26.145Z"
      },
      {
        "duration": -445,
        "start_time": "2022-02-07T07:24:26.148Z"
      },
      {
        "duration": -445,
        "start_time": "2022-02-07T07:24:26.150Z"
      },
      {
        "duration": -447,
        "start_time": "2022-02-07T07:24:26.153Z"
      },
      {
        "duration": -448,
        "start_time": "2022-02-07T07:24:26.155Z"
      },
      {
        "duration": -449,
        "start_time": "2022-02-07T07:24:26.158Z"
      },
      {
        "duration": -451,
        "start_time": "2022-02-07T07:24:26.161Z"
      },
      {
        "duration": -453,
        "start_time": "2022-02-07T07:24:26.164Z"
      },
      {
        "duration": -453,
        "start_time": "2022-02-07T07:24:26.166Z"
      },
      {
        "duration": -454,
        "start_time": "2022-02-07T07:24:26.168Z"
      },
      {
        "duration": -454,
        "start_time": "2022-02-07T07:24:26.170Z"
      },
      {
        "duration": -456,
        "start_time": "2022-02-07T07:24:26.173Z"
      },
      {
        "duration": -457,
        "start_time": "2022-02-07T07:24:26.175Z"
      },
      {
        "duration": -457,
        "start_time": "2022-02-07T07:24:26.177Z"
      },
      {
        "duration": -457,
        "start_time": "2022-02-07T07:24:26.179Z"
      },
      {
        "duration": -458,
        "start_time": "2022-02-07T07:24:26.182Z"
      },
      {
        "duration": -458,
        "start_time": "2022-02-07T07:24:26.184Z"
      },
      {
        "duration": -459,
        "start_time": "2022-02-07T07:24:26.186Z"
      },
      {
        "duration": -459,
        "start_time": "2022-02-07T07:24:26.188Z"
      },
      {
        "duration": -460,
        "start_time": "2022-02-07T07:24:26.190Z"
      },
      {
        "duration": -460,
        "start_time": "2022-02-07T07:24:26.192Z"
      },
      {
        "duration": -461,
        "start_time": "2022-02-07T07:24:26.194Z"
      },
      {
        "duration": -461,
        "start_time": "2022-02-07T07:24:26.196Z"
      },
      {
        "duration": -462,
        "start_time": "2022-02-07T07:24:26.198Z"
      },
      {
        "duration": -462,
        "start_time": "2022-02-07T07:24:26.200Z"
      },
      {
        "duration": -464,
        "start_time": "2022-02-07T07:24:26.203Z"
      },
      {
        "duration": -464,
        "start_time": "2022-02-07T07:24:26.205Z"
      },
      {
        "duration": -465,
        "start_time": "2022-02-07T07:24:26.207Z"
      },
      {
        "duration": -466,
        "start_time": "2022-02-07T07:24:26.209Z"
      },
      {
        "duration": -466,
        "start_time": "2022-02-07T07:24:26.211Z"
      },
      {
        "duration": -468,
        "start_time": "2022-02-07T07:24:26.214Z"
      },
      {
        "duration": -469,
        "start_time": "2022-02-07T07:24:26.216Z"
      },
      {
        "duration": -469,
        "start_time": "2022-02-07T07:24:26.218Z"
      },
      {
        "duration": -470,
        "start_time": "2022-02-07T07:24:26.220Z"
      },
      {
        "duration": -471,
        "start_time": "2022-02-07T07:24:26.222Z"
      },
      {
        "duration": 6,
        "start_time": "2022-02-07T07:24:36.812Z"
      },
      {
        "duration": 95,
        "start_time": "2022-02-07T07:24:36.821Z"
      },
      {
        "duration": 23,
        "start_time": "2022-02-07T07:24:36.918Z"
      },
      {
        "duration": 9,
        "start_time": "2022-02-07T07:24:36.943Z"
      },
      {
        "duration": 10,
        "start_time": "2022-02-07T07:24:36.954Z"
      },
      {
        "duration": 9,
        "start_time": "2022-02-07T07:24:36.966Z"
      },
      {
        "duration": 5,
        "start_time": "2022-02-07T07:24:36.978Z"
      },
      {
        "duration": 44,
        "start_time": "2022-02-07T07:24:36.985Z"
      },
      {
        "duration": 6,
        "start_time": "2022-02-07T07:24:37.034Z"
      },
      {
        "duration": 18,
        "start_time": "2022-02-07T07:24:37.043Z"
      },
      {
        "duration": 8,
        "start_time": "2022-02-07T07:24:37.063Z"
      },
      {
        "duration": 54,
        "start_time": "2022-02-07T07:24:37.074Z"
      },
      {
        "duration": 15,
        "start_time": "2022-02-07T07:24:37.131Z"
      },
      {
        "duration": 11,
        "start_time": "2022-02-07T07:24:37.149Z"
      },
      {
        "duration": 62,
        "start_time": "2022-02-07T07:24:37.163Z"
      },
      {
        "duration": 7,
        "start_time": "2022-02-07T07:24:37.228Z"
      },
      {
        "duration": 11,
        "start_time": "2022-02-07T07:24:37.238Z"
      },
      {
        "duration": 19,
        "start_time": "2022-02-07T07:24:37.252Z"
      },
      {
        "duration": 8,
        "start_time": "2022-02-07T07:24:37.273Z"
      },
      {
        "duration": 12,
        "start_time": "2022-02-07T07:24:37.323Z"
      },
      {
        "duration": 24,
        "start_time": "2022-02-07T07:24:37.337Z"
      },
      {
        "duration": 13,
        "start_time": "2022-02-07T07:24:37.363Z"
      },
      {
        "duration": 76,
        "start_time": "2022-02-07T07:24:37.379Z"
      },
      {
        "duration": 24,
        "start_time": "2022-02-07T07:24:37.457Z"
      },
      {
        "duration": 11,
        "start_time": "2022-02-07T07:24:37.484Z"
      },
      {
        "duration": 27,
        "start_time": "2022-02-07T07:24:37.524Z"
      },
      {
        "duration": 14,
        "start_time": "2022-02-07T07:24:37.556Z"
      },
      {
        "duration": 13,
        "start_time": "2022-02-07T07:24:37.573Z"
      },
      {
        "duration": 16,
        "start_time": "2022-02-07T07:24:37.623Z"
      },
      {
        "duration": 8,
        "start_time": "2022-02-07T07:24:37.641Z"
      },
      {
        "duration": 1393,
        "start_time": "2022-02-07T07:24:37.651Z"
      },
      {
        "duration": 4,
        "start_time": "2022-02-07T07:24:39.046Z"
      },
      {
        "duration": 3350,
        "start_time": "2022-02-07T07:24:39.053Z"
      },
      {
        "duration": 14,
        "start_time": "2022-02-07T07:24:51.442Z"
      },
      {
        "duration": 7,
        "start_time": "2022-02-07T07:31:13.983Z"
      },
      {
        "duration": 4,
        "start_time": "2022-02-07T07:31:36.185Z"
      },
      {
        "duration": 1507,
        "start_time": "2022-02-07T07:33:07.351Z"
      },
      {
        "duration": 101,
        "start_time": "2022-02-07T07:33:08.861Z"
      },
      {
        "duration": 28,
        "start_time": "2022-02-07T07:33:08.965Z"
      },
      {
        "duration": 9,
        "start_time": "2022-02-07T07:33:08.996Z"
      },
      {
        "duration": 10,
        "start_time": "2022-02-07T07:33:09.008Z"
      },
      {
        "duration": 10,
        "start_time": "2022-02-07T07:33:09.025Z"
      },
      {
        "duration": 6,
        "start_time": "2022-02-07T07:33:09.038Z"
      },
      {
        "duration": 11,
        "start_time": "2022-02-07T07:33:09.049Z"
      },
      {
        "duration": 8,
        "start_time": "2022-02-07T07:33:09.064Z"
      },
      {
        "duration": 65,
        "start_time": "2022-02-07T07:33:09.074Z"
      },
      {
        "duration": 8,
        "start_time": "2022-02-07T07:33:09.142Z"
      },
      {
        "duration": 10,
        "start_time": "2022-02-07T07:33:09.153Z"
      },
      {
        "duration": 12,
        "start_time": "2022-02-07T07:33:09.165Z"
      },
      {
        "duration": 9,
        "start_time": "2022-02-07T07:33:09.224Z"
      },
      {
        "duration": 21,
        "start_time": "2022-02-07T07:33:09.236Z"
      },
      {
        "duration": 8,
        "start_time": "2022-02-07T07:33:09.259Z"
      },
      {
        "duration": 12,
        "start_time": "2022-02-07T07:33:09.269Z"
      },
      {
        "duration": 53,
        "start_time": "2022-02-07T07:33:09.283Z"
      },
      {
        "duration": 7,
        "start_time": "2022-02-07T07:33:09.339Z"
      },
      {
        "duration": 18,
        "start_time": "2022-02-07T07:33:09.348Z"
      },
      {
        "duration": 58,
        "start_time": "2022-02-07T07:33:09.369Z"
      },
      {
        "duration": 15,
        "start_time": "2022-02-07T07:33:09.430Z"
      },
      {
        "duration": 37,
        "start_time": "2022-02-07T07:33:09.451Z"
      },
      {
        "duration": 51,
        "start_time": "2022-02-07T07:33:09.491Z"
      },
      {
        "duration": 11,
        "start_time": "2022-02-07T07:33:09.544Z"
      },
      {
        "duration": 25,
        "start_time": "2022-02-07T07:33:09.557Z"
      },
      {
        "duration": 51,
        "start_time": "2022-02-07T07:33:09.585Z"
      },
      {
        "duration": 13,
        "start_time": "2022-02-07T07:33:09.639Z"
      },
      {
        "duration": 14,
        "start_time": "2022-02-07T07:33:09.654Z"
      },
      {
        "duration": 3,
        "start_time": "2022-02-07T07:33:09.670Z"
      },
      {
        "duration": 1482,
        "start_time": "2022-02-07T07:33:09.675Z"
      },
      {
        "duration": 4,
        "start_time": "2022-02-07T07:33:11.160Z"
      },
      {
        "duration": 3331,
        "start_time": "2022-02-07T07:33:11.167Z"
      },
      {
        "duration": 24,
        "start_time": "2022-02-07T07:33:14.500Z"
      },
      {
        "duration": 7,
        "start_time": "2022-02-07T07:33:14.526Z"
      },
      {
        "duration": 6,
        "start_time": "2022-02-07T07:33:14.536Z"
      },
      {
        "duration": 9,
        "start_time": "2022-02-07T07:33:14.544Z"
      },
      {
        "duration": 17,
        "start_time": "2022-02-07T07:33:14.556Z"
      },
      {
        "duration": 79,
        "start_time": "2022-02-07T07:33:14.576Z"
      },
      {
        "duration": 8,
        "start_time": "2022-02-07T07:33:14.658Z"
      },
      {
        "duration": 13,
        "start_time": "2022-02-07T07:33:14.668Z"
      },
      {
        "duration": 39,
        "start_time": "2022-02-07T07:33:14.684Z"
      },
      {
        "duration": 19,
        "start_time": "2022-02-07T07:33:14.725Z"
      },
      {
        "duration": 230,
        "start_time": "2022-02-07T07:33:14.747Z"
      },
      {
        "duration": 130804,
        "start_time": "2022-02-07T07:33:14.979Z"
      },
      {
        "duration": 97,
        "start_time": "2022-02-07T07:35:25.786Z"
      },
      {
        "duration": 996372,
        "start_time": "2022-02-07T07:35:25.885Z"
      },
      {
        "duration": 27169,
        "start_time": "2022-02-07T07:52:02.259Z"
      },
      {
        "duration": 109,
        "start_time": "2022-02-07T07:52:29.435Z"
      },
      {
        "duration": 180,
        "start_time": "2022-02-07T07:52:29.546Z"
      },
      {
        "duration": 194,
        "start_time": "2022-02-07T07:52:29.729Z"
      },
      {
        "duration": 823,
        "start_time": "2022-02-07T07:52:29.926Z"
      },
      {
        "duration": 404,
        "start_time": "2022-02-07T08:24:28.485Z"
      },
      {
        "duration": 343,
        "start_time": "2022-02-07T08:24:33.392Z"
      },
      {
        "duration": 891,
        "start_time": "2022-02-07T08:27:05.893Z"
      },
      {
        "duration": 945,
        "start_time": "2022-02-07T08:27:45.226Z"
      }
    ],
    "colab": {
      "collapsed_sections": [],
      "name": "14. Выпускной проект.ipynb",
      "provenance": []
    },
    "kernelspec": {
      "display_name": "Python 3",
      "language": "python",
      "name": "python3"
    },
    "language_info": {
      "codemirror_mode": {
        "name": "ipython",
        "version": 3
      },
      "file_extension": ".py",
      "mimetype": "text/x-python",
      "name": "python",
      "nbconvert_exporter": "python",
      "pygments_lexer": "ipython3",
      "version": "3.7.8"
    },
    "toc": {
      "base_numbering": 1,
      "nav_menu": {},
      "number_sections": true,
      "sideBar": true,
      "skip_h1_title": true,
      "title_cell": "Содержание:",
      "title_sidebar": "Содержание:",
      "toc_cell": true,
      "toc_position": {},
      "toc_section_display": true,
      "toc_window_display": false
    }
  },
  "nbformat": 4,
  "nbformat_minor": 0
}