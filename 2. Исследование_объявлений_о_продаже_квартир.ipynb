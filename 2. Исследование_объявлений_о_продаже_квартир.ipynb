{
  "nbformat": 4,
  "nbformat_minor": 0,
  "metadata": {
    "kernelspec": {
      "display_name": "Python 3",
      "language": "python",
      "name": "python3"
    },
    "language_info": {
      "codemirror_mode": {
        "name": "ipython",
        "version": 3
      },
      "file_extension": ".py",
      "mimetype": "text/x-python",
      "name": "python",
      "nbconvert_exporter": "python",
      "pygments_lexer": "ipython3",
      "version": "3.7.8"
    },
    "toc": {
      "base_numbering": 1,
      "nav_menu": {},
      "number_sections": true,
      "sideBar": true,
      "skip_h1_title": true,
      "title_cell": "Содержание",
      "title_sidebar": "Contents",
      "toc_cell": true,
      "toc_position": {
        "height": "calc(100% - 180px)",
        "left": "10px",
        "top": "150px",
        "width": "165px"
      },
      "toc_section_display": true,
      "toc_window_display": true
    },
    "colab": {
      "name": "Исследование объявлений о продаже квартир.ipynb",
      "provenance": []
    }
  },
  "cells": [
    {
      "cell_type": "markdown",
      "metadata": {
        "id": "l8QaMYb1sVBm"
      },
      "source": [
        "# Исследование объявлений о продаже квартир\n",
        "\n",
        "В вашем распоряжении данные сервиса Яндекс.Недвижимость — архив объявлений о продаже квартир в Санкт-Петербурге и соседних населённых пунктах за несколько лет. Нужно научиться определять рыночную стоимость объектов недвижимости. Ваша задача — установить параметры. Это позволит построить автоматизированную систему: она отследит аномалии и мошенническую деятельность. \n",
        "\n",
        "По каждой квартире на продажу доступны два вида данных. Первые вписаны пользователем, вторые получены автоматически на основе картографических данных. Например, расстояние до центра, аэропорта, ближайшего парка и водоёма. "
      ]
    },
    {
      "cell_type": "markdown",
      "metadata": {
        "toc": true,
        "id": "5ZpAMgDosVBl"
      },
      "source": [
        "<h1>Содержание<span class=\"tocSkip\"></span></h1>\n",
        "<div class=\"toc\"><ul class=\"toc-item\"><li><span><a href=\"#Изучение-данных-из-файла\" data-toc-modified-id=\"Изучение-данных-из-файла-1\"><span class=\"toc-item-num\">1&nbsp;&nbsp;</span>Изучение данных из файла</a></span><ul class=\"toc-item\"><li><span><a href=\"#Вывод\" data-toc-modified-id=\"Вывод-1.1\"><span class=\"toc-item-num\">1.1&nbsp;&nbsp;</span>Вывод</a></span></li></ul></li><li><span><a href=\"#Предобработка-данных\" data-toc-modified-id=\"Предобработка-данных-2\"><span class=\"toc-item-num\">2&nbsp;&nbsp;</span>Предобработка данных</a></span><ul class=\"toc-item\"><li><span><a href=\"#Вывод\" data-toc-modified-id=\"Вывод-2.1\"><span class=\"toc-item-num\">2.1&nbsp;&nbsp;</span>Вывод</a></span></li></ul></li><li><span><a href=\"#Расчёты-и-добавление-результатов-в-таблицу\" data-toc-modified-id=\"Расчёты-и-добавление-результатов-в-таблицу-3\"><span class=\"toc-item-num\">3&nbsp;&nbsp;</span>Расчёты и добавление результатов в таблицу</a></span></li><li><span><a href=\"#Исследовательский-анализ-данных\" data-toc-modified-id=\"Исследовательский-анализ-данных-4\"><span class=\"toc-item-num\">4&nbsp;&nbsp;</span>Исследовательский анализ данных</a></span></li><li><span><a href=\"#Общий-вывод\" data-toc-modified-id=\"Общий-вывод-5\"><span class=\"toc-item-num\">5&nbsp;&nbsp;</span>Общий вывод</a></span></li><li><span><a href=\"#Чек-лист-готовности-проекта\" data-toc-modified-id=\"Чек-лист-готовности-проекта-6\"><span class=\"toc-item-num\">6&nbsp;&nbsp;</span>Чек-лист готовности проекта</a></span></li></ul></div>"
      ]
    },
    {
      "cell_type": "markdown",
      "metadata": {
        "id": "6ZYtFHHvsVBm"
      },
      "source": [
        "## Изучение данных из файла"
      ]
    },
    {
      "cell_type": "code",
      "metadata": {
        "id": "3Ss7TUEPsVBm"
      },
      "source": [
        "import pandas as pd"
      ],
      "execution_count": null,
      "outputs": []
    },
    {
      "cell_type": "code",
      "metadata": {
        "id": "4dpIaiP2sVBo"
      },
      "source": [
        "import matplotlib.pyplot as plt"
      ],
      "execution_count": null,
      "outputs": []
    },
    {
      "cell_type": "code",
      "metadata": {
        "id": "8x6GS-GnsVBo"
      },
      "source": [
        "import seaborn as sns"
      ],
      "execution_count": null,
      "outputs": []
    },
    {
      "cell_type": "code",
      "metadata": {
        "id": "PVAwSI_dsVBp"
      },
      "source": [
        "data = pd.read_csv('/datasets/real_estate_data.csv',sep='\\t')"
      ],
      "execution_count": null,
      "outputs": []
    },
    {
      "cell_type": "code",
      "metadata": {
        "id": "wey2Jt1msVBp",
        "outputId": "f68a34bc-5553-4b4f-989d-c6ecff56014b"
      },
      "source": [
        "data.info()"
      ],
      "execution_count": null,
      "outputs": [
        {
          "name": "stdout",
          "output_type": "stream",
          "text": [
            "<class 'pandas.core.frame.DataFrame'>\n",
            "RangeIndex: 23699 entries, 0 to 23698\n",
            "Data columns (total 22 columns):\n",
            "total_images            23699 non-null int64\n",
            "last_price              23699 non-null float64\n",
            "total_area              23699 non-null float64\n",
            "first_day_exposition    23699 non-null object\n",
            "rooms                   23699 non-null int64\n",
            "ceiling_height          14504 non-null float64\n",
            "floors_total            23613 non-null float64\n",
            "living_area             21796 non-null float64\n",
            "floor                   23699 non-null int64\n",
            "is_apartment            2775 non-null object\n",
            "studio                  23699 non-null bool\n",
            "open_plan               23699 non-null bool\n",
            "kitchen_area            21421 non-null float64\n",
            "balcony                 12180 non-null float64\n",
            "locality_name           23650 non-null object\n",
            "airports_nearest        18157 non-null float64\n",
            "cityCenters_nearest     18180 non-null float64\n",
            "parks_around3000        18181 non-null float64\n",
            "parks_nearest           8079 non-null float64\n",
            "ponds_around3000        18181 non-null float64\n",
            "ponds_nearest           9110 non-null float64\n",
            "days_exposition         20518 non-null float64\n",
            "dtypes: bool(2), float64(14), int64(3), object(3)\n",
            "memory usage: 3.7+ MB\n"
          ]
        }
      ]
    },
    {
      "cell_type": "markdown",
      "metadata": {
        "id": "8v3g8V5isVBq"
      },
      "source": [
        "Прочитали файл *real_estate_data.csv*, сохранили его в переменной *data* и получили информацию о данных. Так как значения в таблице были разделены *'\\t'*, при чтении файла был использован параметр *sep*.\n",
        "\n",
        "Всего в таблице 22 столбца с типами данных: *object*, *float*, *int* и *bool*.\n",
        "\n",
        "Подробная информация о столбцах: \n",
        "* airports_nearest — расстояние до ближайшего аэропорта в метрах (м)\n",
        "* balcony — число балконов\n",
        "* ceiling_height — высота потолков (м)\n",
        "* cityCenters_nearest — расстояние до центра города (м)\n",
        "* days_exposition — сколько дней было размещено объявление (от публикации до снятия)\n",
        "* first_day_exposition — дата публикации\n",
        "* floor — этаж\n",
        "* floors_total — всего этажей в доме\n",
        "* is_apartment — апартаменты (булев тип)\n",
        "* kitchen_area — площадь кухни в квадратных метрах (м²)\n",
        "* last_price — цена на момент снятия с публикации\n",
        "* living_area — жилая площадь в квадратных метрах(м²)\n",
        "* locality_name — название населённого пункта\n",
        "* open_plan — свободная планировка (булев тип)\n",
        "* parks_around3000 — число парков в радиусе 3 км\n",
        "* parks_nearest — расстояние до ближайшего парка (м)\n",
        "* ponds_around3000 — число водоёмов в радиусе 3 км\n",
        "* ponds_nearest — расстояние до ближайшего водоёма (м)\n",
        "* rooms — число комнат\n",
        "* studio — квартира-студия (булев тип)\n",
        "* total_area — площадь квартиры в квадратных метрах (м²)\n",
        "* total_images — число фотографий квартиры в объявлении\n",
        "\n",
        "В некоторых столбцах можно заметить пропущенные значения, которые нужно будет отработать."
      ]
    },
    {
      "cell_type": "code",
      "metadata": {
        "id": "gb-09fF0sVBr"
      },
      "source": [
        "pd.set_option('display.max_columns', None) #для отображения всех столбцов"
      ],
      "execution_count": null,
      "outputs": []
    },
    {
      "cell_type": "code",
      "metadata": {
        "scrolled": true,
        "id": "2QOInNGusVBr",
        "outputId": "2ec88f08-d87d-43f5-f4ca-c85912175fd7"
      },
      "source": [
        "data.head()"
      ],
      "execution_count": null,
      "outputs": [
        {
          "data": {
            "text/html": [
              "<div>\n",
              "<style scoped>\n",
              "    .dataframe tbody tr th:only-of-type {\n",
              "        vertical-align: middle;\n",
              "    }\n",
              "\n",
              "    .dataframe tbody tr th {\n",
              "        vertical-align: top;\n",
              "    }\n",
              "\n",
              "    .dataframe thead th {\n",
              "        text-align: right;\n",
              "    }\n",
              "</style>\n",
              "<table border=\"1\" class=\"dataframe\">\n",
              "  <thead>\n",
              "    <tr style=\"text-align: right;\">\n",
              "      <th></th>\n",
              "      <th>total_images</th>\n",
              "      <th>last_price</th>\n",
              "      <th>total_area</th>\n",
              "      <th>first_day_exposition</th>\n",
              "      <th>rooms</th>\n",
              "      <th>ceiling_height</th>\n",
              "      <th>floors_total</th>\n",
              "      <th>living_area</th>\n",
              "      <th>floor</th>\n",
              "      <th>is_apartment</th>\n",
              "      <th>studio</th>\n",
              "      <th>open_plan</th>\n",
              "      <th>kitchen_area</th>\n",
              "      <th>balcony</th>\n",
              "      <th>locality_name</th>\n",
              "      <th>airports_nearest</th>\n",
              "      <th>cityCenters_nearest</th>\n",
              "      <th>parks_around3000</th>\n",
              "      <th>parks_nearest</th>\n",
              "      <th>ponds_around3000</th>\n",
              "      <th>ponds_nearest</th>\n",
              "      <th>days_exposition</th>\n",
              "    </tr>\n",
              "  </thead>\n",
              "  <tbody>\n",
              "    <tr>\n",
              "      <td>0</td>\n",
              "      <td>20</td>\n",
              "      <td>13000000.0</td>\n",
              "      <td>108.0</td>\n",
              "      <td>2019-03-07T00:00:00</td>\n",
              "      <td>3</td>\n",
              "      <td>2.70</td>\n",
              "      <td>16.0</td>\n",
              "      <td>51.0</td>\n",
              "      <td>8</td>\n",
              "      <td>NaN</td>\n",
              "      <td>False</td>\n",
              "      <td>False</td>\n",
              "      <td>25.0</td>\n",
              "      <td>NaN</td>\n",
              "      <td>Санкт-Петербург</td>\n",
              "      <td>18863.0</td>\n",
              "      <td>16028.0</td>\n",
              "      <td>1.0</td>\n",
              "      <td>482.0</td>\n",
              "      <td>2.0</td>\n",
              "      <td>755.0</td>\n",
              "      <td>NaN</td>\n",
              "    </tr>\n",
              "    <tr>\n",
              "      <td>1</td>\n",
              "      <td>7</td>\n",
              "      <td>3350000.0</td>\n",
              "      <td>40.4</td>\n",
              "      <td>2018-12-04T00:00:00</td>\n",
              "      <td>1</td>\n",
              "      <td>NaN</td>\n",
              "      <td>11.0</td>\n",
              "      <td>18.6</td>\n",
              "      <td>1</td>\n",
              "      <td>NaN</td>\n",
              "      <td>False</td>\n",
              "      <td>False</td>\n",
              "      <td>11.0</td>\n",
              "      <td>2.0</td>\n",
              "      <td>посёлок Шушары</td>\n",
              "      <td>12817.0</td>\n",
              "      <td>18603.0</td>\n",
              "      <td>0.0</td>\n",
              "      <td>NaN</td>\n",
              "      <td>0.0</td>\n",
              "      <td>NaN</td>\n",
              "      <td>81.0</td>\n",
              "    </tr>\n",
              "    <tr>\n",
              "      <td>2</td>\n",
              "      <td>10</td>\n",
              "      <td>5196000.0</td>\n",
              "      <td>56.0</td>\n",
              "      <td>2015-08-20T00:00:00</td>\n",
              "      <td>2</td>\n",
              "      <td>NaN</td>\n",
              "      <td>5.0</td>\n",
              "      <td>34.3</td>\n",
              "      <td>4</td>\n",
              "      <td>NaN</td>\n",
              "      <td>False</td>\n",
              "      <td>False</td>\n",
              "      <td>8.3</td>\n",
              "      <td>0.0</td>\n",
              "      <td>Санкт-Петербург</td>\n",
              "      <td>21741.0</td>\n",
              "      <td>13933.0</td>\n",
              "      <td>1.0</td>\n",
              "      <td>90.0</td>\n",
              "      <td>2.0</td>\n",
              "      <td>574.0</td>\n",
              "      <td>558.0</td>\n",
              "    </tr>\n",
              "    <tr>\n",
              "      <td>3</td>\n",
              "      <td>0</td>\n",
              "      <td>64900000.0</td>\n",
              "      <td>159.0</td>\n",
              "      <td>2015-07-24T00:00:00</td>\n",
              "      <td>3</td>\n",
              "      <td>NaN</td>\n",
              "      <td>14.0</td>\n",
              "      <td>NaN</td>\n",
              "      <td>9</td>\n",
              "      <td>NaN</td>\n",
              "      <td>False</td>\n",
              "      <td>False</td>\n",
              "      <td>NaN</td>\n",
              "      <td>0.0</td>\n",
              "      <td>Санкт-Петербург</td>\n",
              "      <td>28098.0</td>\n",
              "      <td>6800.0</td>\n",
              "      <td>2.0</td>\n",
              "      <td>84.0</td>\n",
              "      <td>3.0</td>\n",
              "      <td>234.0</td>\n",
              "      <td>424.0</td>\n",
              "    </tr>\n",
              "    <tr>\n",
              "      <td>4</td>\n",
              "      <td>2</td>\n",
              "      <td>10000000.0</td>\n",
              "      <td>100.0</td>\n",
              "      <td>2018-06-19T00:00:00</td>\n",
              "      <td>2</td>\n",
              "      <td>3.03</td>\n",
              "      <td>14.0</td>\n",
              "      <td>32.0</td>\n",
              "      <td>13</td>\n",
              "      <td>NaN</td>\n",
              "      <td>False</td>\n",
              "      <td>False</td>\n",
              "      <td>41.0</td>\n",
              "      <td>NaN</td>\n",
              "      <td>Санкт-Петербург</td>\n",
              "      <td>31856.0</td>\n",
              "      <td>8098.0</td>\n",
              "      <td>2.0</td>\n",
              "      <td>112.0</td>\n",
              "      <td>1.0</td>\n",
              "      <td>48.0</td>\n",
              "      <td>121.0</td>\n",
              "    </tr>\n",
              "  </tbody>\n",
              "</table>\n",
              "</div>"
            ],
            "text/plain": [
              "   total_images  last_price  total_area first_day_exposition  rooms  \\\n",
              "0            20  13000000.0       108.0  2019-03-07T00:00:00      3   \n",
              "1             7   3350000.0        40.4  2018-12-04T00:00:00      1   \n",
              "2            10   5196000.0        56.0  2015-08-20T00:00:00      2   \n",
              "3             0  64900000.0       159.0  2015-07-24T00:00:00      3   \n",
              "4             2  10000000.0       100.0  2018-06-19T00:00:00      2   \n",
              "\n",
              "   ceiling_height  floors_total  living_area  floor is_apartment  studio  \\\n",
              "0            2.70          16.0         51.0      8          NaN   False   \n",
              "1             NaN          11.0         18.6      1          NaN   False   \n",
              "2             NaN           5.0         34.3      4          NaN   False   \n",
              "3             NaN          14.0          NaN      9          NaN   False   \n",
              "4            3.03          14.0         32.0     13          NaN   False   \n",
              "\n",
              "   open_plan  kitchen_area  balcony    locality_name  airports_nearest  \\\n",
              "0      False          25.0      NaN  Санкт-Петербург           18863.0   \n",
              "1      False          11.0      2.0   посёлок Шушары           12817.0   \n",
              "2      False           8.3      0.0  Санкт-Петербург           21741.0   \n",
              "3      False           NaN      0.0  Санкт-Петербург           28098.0   \n",
              "4      False          41.0      NaN  Санкт-Петербург           31856.0   \n",
              "\n",
              "   cityCenters_nearest  parks_around3000  parks_nearest  ponds_around3000  \\\n",
              "0              16028.0               1.0          482.0               2.0   \n",
              "1              18603.0               0.0            NaN               0.0   \n",
              "2              13933.0               1.0           90.0               2.0   \n",
              "3               6800.0               2.0           84.0               3.0   \n",
              "4               8098.0               2.0          112.0               1.0   \n",
              "\n",
              "   ponds_nearest  days_exposition  \n",
              "0          755.0              NaN  \n",
              "1            NaN             81.0  \n",
              "2          574.0            558.0  \n",
              "3          234.0            424.0  \n",
              "4           48.0            121.0  "
            ]
          },
          "execution_count": 7,
          "metadata": {},
          "output_type": "execute_result"
        }
      ]
    },
    {
      "cell_type": "markdown",
      "metadata": {
        "id": "PkX6ta1nsVBs"
      },
      "source": [
        "### Вывод"
      ]
    },
    {
      "cell_type": "markdown",
      "metadata": {
        "id": "P6G24ShksVBs"
      },
      "source": [
        "Из таблицы мы можем видеть пропущенные значения во многих столбцах, которые мы обработаем в следующем шаге. А также есть необходимость изменения типов данных в столбцах как *floors_total, balcony, last_price и столбцы о количестве и расстоянии до других объектов*. Стоит отметить, что обработаны будут только те столбцы, которые так или иначе могут повлиять на рыночную стоимость квартир и необходимы для исследования."
      ]
    },
    {
      "cell_type": "markdown",
      "metadata": {
        "id": "e7Q2o6b1sVBt"
      },
      "source": [
        "## Предобработка данных"
      ]
    },
    {
      "cell_type": "markdown",
      "metadata": {
        "id": "n-j1-JD0sVBt"
      },
      "source": [
        "В данном шаге определим и изучим пропущенные значения."
      ]
    },
    {
      "cell_type": "code",
      "metadata": {
        "id": "2QIkJ1RHsVBu",
        "outputId": "d19265fe-7b8b-4267-d45d-dfc5f9161037"
      },
      "source": [
        "data.isnull().sum()"
      ],
      "execution_count": null,
      "outputs": [
        {
          "data": {
            "text/plain": [
              "total_images                0\n",
              "last_price                  0\n",
              "total_area                  0\n",
              "first_day_exposition        0\n",
              "rooms                       0\n",
              "ceiling_height           9195\n",
              "floors_total               86\n",
              "living_area              1903\n",
              "floor                       0\n",
              "is_apartment            20924\n",
              "studio                      0\n",
              "open_plan                   0\n",
              "kitchen_area             2278\n",
              "balcony                 11519\n",
              "locality_name              49\n",
              "airports_nearest         5542\n",
              "cityCenters_nearest      5519\n",
              "parks_around3000         5518\n",
              "parks_nearest           15620\n",
              "ponds_around3000         5518\n",
              "ponds_nearest           14589\n",
              "days_exposition          3181\n",
              "dtype: int64"
            ]
          },
          "execution_count": 8,
          "metadata": {},
          "output_type": "execute_result"
        }
      ]
    },
    {
      "cell_type": "markdown",
      "metadata": {
        "id": "-kY1Hq9IsVBu"
      },
      "source": [
        "Рассмотрим столбцы, в которых имеются пропущенные значения:\n",
        "* высота потолков \n",
        "* общее количество этажей в доме\n",
        "* жилая площадь\n",
        "* является ли квартира аппартаментами\n",
        "* площадь кухни\n",
        "* количество балконов\n",
        "* название населенного пункта\n",
        "* расстояние до центра города\n",
        "* расстояние до ближайшего аэропорта\n",
        "* число парков в радиусе 3 км\n",
        "* расстояние до ближайшего парка\n",
        "* число водоёмов в радиусе 3 км\n",
        "* расстояние до ближайшего водоёма \n",
        "* сколько дней было размещено объявление\n",
        "\n",
        "Проанализируем необходимые нам столбцы и произведем логичные замены."
      ]
    },
    {
      "cell_type": "code",
      "metadata": {
        "id": "eenjueXqsVBu",
        "outputId": "6f8b9c95-eddc-47f2-f659-f01bc4a970b3"
      },
      "source": [
        "data['is_apartment'].value_counts()"
      ],
      "execution_count": null,
      "outputs": [
        {
          "data": {
            "text/plain": [
              "False    2725\n",
              "True       50\n",
              "Name: is_apartment, dtype: int64"
            ]
          },
          "execution_count": 9,
          "metadata": {},
          "output_type": "execute_result"
        }
      ]
    },
    {
      "cell_type": "markdown",
      "metadata": {
        "id": "AU5wMYh6sVBv"
      },
      "source": [
        "В наш анализ должны войти только жилые квартиры, и так как в столбце *is_apartment* очень много пустых значений помимо должных False и True, заменим пустые значения на False, чтобы не отбрасывать такое большое количество данных. С помощью *value_counts* также видим, что в столбце есть 50 апартаментов, отбросим эти строчки и оставим только жилые квартиры с помощью *query*. "
      ]
    },
    {
      "cell_type": "code",
      "metadata": {
        "id": "mOJZVKY4sVBv"
      },
      "source": [
        "data['is_apartment'] = data['is_apartment'].fillna(value=\"False\")"
      ],
      "execution_count": null,
      "outputs": []
    },
    {
      "cell_type": "code",
      "metadata": {
        "id": "Qs2SnZ0IsVBw"
      },
      "source": [
        "data = data.query('is_apartment == \"False\"')"
      ],
      "execution_count": null,
      "outputs": []
    },
    {
      "cell_type": "code",
      "metadata": {
        "id": "wgtYJ9rosVBw",
        "outputId": "95de64da-79a9-4630-f66a-c61d72393cc4"
      },
      "source": [
        "data['is_apartment'].value_counts()"
      ],
      "execution_count": null,
      "outputs": [
        {
          "data": {
            "text/plain": [
              "False    20924\n",
              "Name: is_apartment, dtype: int64"
            ]
          },
          "execution_count": 12,
          "metadata": {},
          "output_type": "execute_result"
        }
      ]
    },
    {
      "cell_type": "code",
      "metadata": {
        "id": "cds9hkMasVBx"
      },
      "source": [
        "data.dropna(subset=['floors_total'], inplace=True)\n",
        "data.dropna(subset=['locality_name'], inplace=True)"
      ],
      "execution_count": null,
      "outputs": []
    },
    {
      "cell_type": "markdown",
      "metadata": {
        "id": "15ZwJhaAsVBx"
      },
      "source": [
        "Удалили строки, в которых отсутствует общее количество этажей в доме и название населенного пункта, пропущенных значений было незначительное количество, поэтому их удаление не повлияет на общий результат."
      ]
    },
    {
      "cell_type": "code",
      "metadata": {
        "id": "yA4657mgsVBy",
        "outputId": "703fc4dd-d94e-4f7d-f51a-8d979c59fc76"
      },
      "source": [
        "data.isnull().sum() "
      ],
      "execution_count": null,
      "outputs": [
        {
          "data": {
            "text/plain": [
              "total_images                0\n",
              "last_price                  0\n",
              "total_area                  0\n",
              "first_day_exposition        0\n",
              "rooms                       0\n",
              "ceiling_height           8180\n",
              "floors_total                0\n",
              "living_area              1747\n",
              "floor                       0\n",
              "is_apartment                0\n",
              "studio                      0\n",
              "open_plan                   0\n",
              "kitchen_area             2035\n",
              "balcony                 11001\n",
              "locality_name               0\n",
              "airports_nearest         4898\n",
              "cityCenters_nearest      4878\n",
              "parks_around3000         4877\n",
              "parks_nearest           13716\n",
              "ponds_around3000         4877\n",
              "ponds_nearest           12839\n",
              "days_exposition          2896\n",
              "dtype: int64"
            ]
          },
          "execution_count": 14,
          "metadata": {},
          "output_type": "execute_result"
        }
      ]
    },
    {
      "cell_type": "markdown",
      "metadata": {
        "id": "CuiEBGfdsVBy"
      },
      "source": [
        "Провели проверку. В столбце *is_apartment* больше нет пропусков и все значения в датасете являются жилыми квартирами.\n",
        "Далее можно заметить большое количество пропусков в столбце *balcony*. Заменим их на 0, так как, вероятней всего, их в квартирах нет."
      ]
    },
    {
      "cell_type": "code",
      "metadata": {
        "id": "Usbopz9ssVBy"
      },
      "source": [
        "data['balcony'] = data['balcony'].fillna(0)"
      ],
      "execution_count": null,
      "outputs": []
    },
    {
      "cell_type": "markdown",
      "metadata": {
        "id": "MGgkOeiXsVBy"
      },
      "source": [
        "Теперь в столбце *balcony* тоже нет пустых значений. Перейдем к столбцам общего количества этажей, названия населенного пункта, числу парков и водоемов, расстояний до них и количеству дней на сайте. Оставим эти пропуски пустыми, потому что логической замены произвести невозможно, а терять данные строки - терять большую часть сета.   \n",
        "\n",
        "В столбце высоты потолков заменим пустые значения на медиану:"
      ]
    },
    {
      "cell_type": "code",
      "metadata": {
        "id": "Q7CY6-mTsVBz"
      },
      "source": [
        "ceiling_height_avg = data['ceiling_height'].median()\n",
        "data['ceiling_height'] = data['ceiling_height'].fillna(value=ceiling_height_avg)"
      ],
      "execution_count": null,
      "outputs": []
    },
    {
      "cell_type": "markdown",
      "metadata": {
        "id": "xN3nfCJOsVB1"
      },
      "source": [
        "Теперь перейдем к столбцам жилой площади и площади кухни. Заполним пропуски путем умножения общей площади на средний коэффициент по известным данным - жилая площадь/общая площадь или площадь кухни/общая площадь. Данная нормировка необходима, чтобы пустые значения были заполнены корректно."
      ]
    },
    {
      "cell_type": "code",
      "metadata": {
        "id": "yJCe-ciNsVB3"
      },
      "source": [
        "living_avg = data['living_area'].mean()\n",
        "kitchen_avg = data['kitchen_area'].mean()\n",
        "total_avg = data['total_area'].mean()\n",
        "liv_coef = living_avg/total_avg\n",
        "kit_coef = kitchen_avg/total_avg"
      ],
      "execution_count": null,
      "outputs": []
    },
    {
      "cell_type": "code",
      "metadata": {
        "id": "5N9VdbV_sVB3"
      },
      "source": [
        "data['living_area'] = data['living_area'].fillna(value=data['total_area']*liv_coef)"
      ],
      "execution_count": null,
      "outputs": []
    },
    {
      "cell_type": "code",
      "metadata": {
        "id": "H-iSMOQzsVB4"
      },
      "source": [
        "data['kitchen_area'] = data['kitchen_area'].fillna(value=data['total_area']*kit_coef)"
      ],
      "execution_count": null,
      "outputs": []
    },
    {
      "cell_type": "code",
      "metadata": {
        "id": "Enwn5SZasVB4",
        "outputId": "c8a9b36c-9bcc-4fd9-9d32-2cb5402211ec"
      },
      "source": [
        "data.isnull().sum()"
      ],
      "execution_count": null,
      "outputs": [
        {
          "data": {
            "text/plain": [
              "total_images                0\n",
              "last_price                  0\n",
              "total_area                  0\n",
              "first_day_exposition        0\n",
              "rooms                       0\n",
              "ceiling_height              0\n",
              "floors_total                0\n",
              "living_area                 0\n",
              "floor                       0\n",
              "is_apartment                0\n",
              "studio                      0\n",
              "open_plan                   0\n",
              "kitchen_area                0\n",
              "balcony                     0\n",
              "locality_name               0\n",
              "airports_nearest         4898\n",
              "cityCenters_nearest      4878\n",
              "parks_around3000         4877\n",
              "parks_nearest           13716\n",
              "ponds_around3000         4877\n",
              "ponds_nearest           12839\n",
              "days_exposition          2896\n",
              "dtype: int64"
            ]
          },
          "execution_count": 20,
          "metadata": {},
          "output_type": "execute_result"
        }
      ]
    },
    {
      "cell_type": "code",
      "metadata": {
        "id": "qFruy0aYsVB4",
        "outputId": "d12b35b7-e5c7-4fc0-82db-7a9436684081"
      },
      "source": [
        "data.head()"
      ],
      "execution_count": null,
      "outputs": [
        {
          "data": {
            "text/html": [
              "<div>\n",
              "<style scoped>\n",
              "    .dataframe tbody tr th:only-of-type {\n",
              "        vertical-align: middle;\n",
              "    }\n",
              "\n",
              "    .dataframe tbody tr th {\n",
              "        vertical-align: top;\n",
              "    }\n",
              "\n",
              "    .dataframe thead th {\n",
              "        text-align: right;\n",
              "    }\n",
              "</style>\n",
              "<table border=\"1\" class=\"dataframe\">\n",
              "  <thead>\n",
              "    <tr style=\"text-align: right;\">\n",
              "      <th></th>\n",
              "      <th>total_images</th>\n",
              "      <th>last_price</th>\n",
              "      <th>total_area</th>\n",
              "      <th>first_day_exposition</th>\n",
              "      <th>rooms</th>\n",
              "      <th>ceiling_height</th>\n",
              "      <th>floors_total</th>\n",
              "      <th>living_area</th>\n",
              "      <th>floor</th>\n",
              "      <th>is_apartment</th>\n",
              "      <th>studio</th>\n",
              "      <th>open_plan</th>\n",
              "      <th>kitchen_area</th>\n",
              "      <th>balcony</th>\n",
              "      <th>locality_name</th>\n",
              "      <th>airports_nearest</th>\n",
              "      <th>cityCenters_nearest</th>\n",
              "      <th>parks_around3000</th>\n",
              "      <th>parks_nearest</th>\n",
              "      <th>ponds_around3000</th>\n",
              "      <th>ponds_nearest</th>\n",
              "      <th>days_exposition</th>\n",
              "    </tr>\n",
              "  </thead>\n",
              "  <tbody>\n",
              "    <tr>\n",
              "      <td>0</td>\n",
              "      <td>20</td>\n",
              "      <td>13000000.0</td>\n",
              "      <td>108.0</td>\n",
              "      <td>2019-03-07T00:00:00</td>\n",
              "      <td>3</td>\n",
              "      <td>2.70</td>\n",
              "      <td>16.0</td>\n",
              "      <td>51.000000</td>\n",
              "      <td>8</td>\n",
              "      <td>False</td>\n",
              "      <td>False</td>\n",
              "      <td>False</td>\n",
              "      <td>25.000000</td>\n",
              "      <td>0.0</td>\n",
              "      <td>Санкт-Петербург</td>\n",
              "      <td>18863.0</td>\n",
              "      <td>16028.0</td>\n",
              "      <td>1.0</td>\n",
              "      <td>482.0</td>\n",
              "      <td>2.0</td>\n",
              "      <td>755.0</td>\n",
              "      <td>NaN</td>\n",
              "    </tr>\n",
              "    <tr>\n",
              "      <td>1</td>\n",
              "      <td>7</td>\n",
              "      <td>3350000.0</td>\n",
              "      <td>40.4</td>\n",
              "      <td>2018-12-04T00:00:00</td>\n",
              "      <td>1</td>\n",
              "      <td>2.65</td>\n",
              "      <td>11.0</td>\n",
              "      <td>18.600000</td>\n",
              "      <td>1</td>\n",
              "      <td>False</td>\n",
              "      <td>False</td>\n",
              "      <td>False</td>\n",
              "      <td>11.000000</td>\n",
              "      <td>2.0</td>\n",
              "      <td>посёлок Шушары</td>\n",
              "      <td>12817.0</td>\n",
              "      <td>18603.0</td>\n",
              "      <td>0.0</td>\n",
              "      <td>NaN</td>\n",
              "      <td>0.0</td>\n",
              "      <td>NaN</td>\n",
              "      <td>81.0</td>\n",
              "    </tr>\n",
              "    <tr>\n",
              "      <td>2</td>\n",
              "      <td>10</td>\n",
              "      <td>5196000.0</td>\n",
              "      <td>56.0</td>\n",
              "      <td>2015-08-20T00:00:00</td>\n",
              "      <td>2</td>\n",
              "      <td>2.65</td>\n",
              "      <td>5.0</td>\n",
              "      <td>34.300000</td>\n",
              "      <td>4</td>\n",
              "      <td>False</td>\n",
              "      <td>False</td>\n",
              "      <td>False</td>\n",
              "      <td>8.300000</td>\n",
              "      <td>0.0</td>\n",
              "      <td>Санкт-Петербург</td>\n",
              "      <td>21741.0</td>\n",
              "      <td>13933.0</td>\n",
              "      <td>1.0</td>\n",
              "      <td>90.0</td>\n",
              "      <td>2.0</td>\n",
              "      <td>574.0</td>\n",
              "      <td>558.0</td>\n",
              "    </tr>\n",
              "    <tr>\n",
              "      <td>3</td>\n",
              "      <td>0</td>\n",
              "      <td>64900000.0</td>\n",
              "      <td>159.0</td>\n",
              "      <td>2015-07-24T00:00:00</td>\n",
              "      <td>3</td>\n",
              "      <td>2.65</td>\n",
              "      <td>14.0</td>\n",
              "      <td>90.770436</td>\n",
              "      <td>9</td>\n",
              "      <td>False</td>\n",
              "      <td>False</td>\n",
              "      <td>False</td>\n",
              "      <td>27.809136</td>\n",
              "      <td>0.0</td>\n",
              "      <td>Санкт-Петербург</td>\n",
              "      <td>28098.0</td>\n",
              "      <td>6800.0</td>\n",
              "      <td>2.0</td>\n",
              "      <td>84.0</td>\n",
              "      <td>3.0</td>\n",
              "      <td>234.0</td>\n",
              "      <td>424.0</td>\n",
              "    </tr>\n",
              "    <tr>\n",
              "      <td>4</td>\n",
              "      <td>2</td>\n",
              "      <td>10000000.0</td>\n",
              "      <td>100.0</td>\n",
              "      <td>2018-06-19T00:00:00</td>\n",
              "      <td>2</td>\n",
              "      <td>3.03</td>\n",
              "      <td>14.0</td>\n",
              "      <td>32.000000</td>\n",
              "      <td>13</td>\n",
              "      <td>False</td>\n",
              "      <td>False</td>\n",
              "      <td>False</td>\n",
              "      <td>41.000000</td>\n",
              "      <td>0.0</td>\n",
              "      <td>Санкт-Петербург</td>\n",
              "      <td>31856.0</td>\n",
              "      <td>8098.0</td>\n",
              "      <td>2.0</td>\n",
              "      <td>112.0</td>\n",
              "      <td>1.0</td>\n",
              "      <td>48.0</td>\n",
              "      <td>121.0</td>\n",
              "    </tr>\n",
              "  </tbody>\n",
              "</table>\n",
              "</div>"
            ],
            "text/plain": [
              "   total_images  last_price  total_area first_day_exposition  rooms  \\\n",
              "0            20  13000000.0       108.0  2019-03-07T00:00:00      3   \n",
              "1             7   3350000.0        40.4  2018-12-04T00:00:00      1   \n",
              "2            10   5196000.0        56.0  2015-08-20T00:00:00      2   \n",
              "3             0  64900000.0       159.0  2015-07-24T00:00:00      3   \n",
              "4             2  10000000.0       100.0  2018-06-19T00:00:00      2   \n",
              "\n",
              "   ceiling_height  floors_total  living_area  floor is_apartment  studio  \\\n",
              "0            2.70          16.0    51.000000      8        False   False   \n",
              "1            2.65          11.0    18.600000      1        False   False   \n",
              "2            2.65           5.0    34.300000      4        False   False   \n",
              "3            2.65          14.0    90.770436      9        False   False   \n",
              "4            3.03          14.0    32.000000     13        False   False   \n",
              "\n",
              "   open_plan  kitchen_area  balcony    locality_name  airports_nearest  \\\n",
              "0      False     25.000000      0.0  Санкт-Петербург           18863.0   \n",
              "1      False     11.000000      2.0   посёлок Шушары           12817.0   \n",
              "2      False      8.300000      0.0  Санкт-Петербург           21741.0   \n",
              "3      False     27.809136      0.0  Санкт-Петербург           28098.0   \n",
              "4      False     41.000000      0.0  Санкт-Петербург           31856.0   \n",
              "\n",
              "   cityCenters_nearest  parks_around3000  parks_nearest  ponds_around3000  \\\n",
              "0              16028.0               1.0          482.0               2.0   \n",
              "1              18603.0               0.0            NaN               0.0   \n",
              "2              13933.0               1.0           90.0               2.0   \n",
              "3               6800.0               2.0           84.0               3.0   \n",
              "4               8098.0               2.0          112.0               1.0   \n",
              "\n",
              "   ponds_nearest  days_exposition  \n",
              "0          755.0              NaN  \n",
              "1            NaN             81.0  \n",
              "2          574.0            558.0  \n",
              "3          234.0            424.0  \n",
              "4           48.0            121.0  "
            ]
          },
          "execution_count": 21,
          "metadata": {},
          "output_type": "execute_result"
        }
      ]
    },
    {
      "cell_type": "markdown",
      "metadata": {
        "id": "OV9srPQUsVB5"
      },
      "source": [
        "Отработали все пропуски. Теперь перейдем к изменению типов данных. Заменим в некоторых столбцах, где уместно, вещественный тип данных на целочисленный. Столбцы с пустыми значениями оставим как есть, так как пропуски нельзя заменить на целочисленный тип данных."
      ]
    },
    {
      "cell_type": "code",
      "metadata": {
        "id": "lgeAjI0hsVB5"
      },
      "source": [
        "data['balcony'] = data['balcony'].astype('int')\n",
        "data['last_price'] = data['last_price'].astype('int')"
      ],
      "execution_count": null,
      "outputs": []
    },
    {
      "cell_type": "markdown",
      "metadata": {
        "id": "2KND6PJ4sVB6"
      },
      "source": [
        "В столбце с датой публикации заменим данные на тип *datetime*"
      ]
    },
    {
      "cell_type": "code",
      "metadata": {
        "id": "7SHn0GfqsVB6"
      },
      "source": [
        "data['first_day_exposition'] = pd.to_datetime(data['first_day_exposition'], format='%Y-%m-%dT%H:%M:%S')"
      ],
      "execution_count": null,
      "outputs": []
    },
    {
      "cell_type": "code",
      "metadata": {
        "scrolled": false,
        "id": "BDLLPR7fsVB6",
        "outputId": "8a22cefb-529b-4083-d098-99f42f745fb1"
      },
      "source": [
        "data.info()"
      ],
      "execution_count": null,
      "outputs": [
        {
          "name": "stdout",
          "output_type": "stream",
          "text": [
            "<class 'pandas.core.frame.DataFrame'>\n",
            "Int64Index: 20805 entries, 0 to 23698\n",
            "Data columns (total 22 columns):\n",
            "total_images            20805 non-null int64\n",
            "last_price              20805 non-null int64\n",
            "total_area              20805 non-null float64\n",
            "first_day_exposition    20805 non-null datetime64[ns]\n",
            "rooms                   20805 non-null int64\n",
            "ceiling_height          20805 non-null float64\n",
            "floors_total            20805 non-null float64\n",
            "living_area             20805 non-null float64\n",
            "floor                   20805 non-null int64\n",
            "is_apartment            20805 non-null object\n",
            "studio                  20805 non-null bool\n",
            "open_plan               20805 non-null bool\n",
            "kitchen_area            20805 non-null float64\n",
            "balcony                 20805 non-null int64\n",
            "locality_name           20805 non-null object\n",
            "airports_nearest        15907 non-null float64\n",
            "cityCenters_nearest     15927 non-null float64\n",
            "parks_around3000        15928 non-null float64\n",
            "parks_nearest           7089 non-null float64\n",
            "ponds_around3000        15928 non-null float64\n",
            "ponds_nearest           7966 non-null float64\n",
            "days_exposition         17909 non-null float64\n",
            "dtypes: bool(2), datetime64[ns](1), float64(12), int64(5), object(2)\n",
            "memory usage: 3.4+ MB\n"
          ]
        }
      ]
    },
    {
      "cell_type": "markdown",
      "metadata": {
        "id": "WcDYXRHcsVB7"
      },
      "source": [
        "### Вывод"
      ]
    },
    {
      "cell_type": "markdown",
      "metadata": {
        "id": "C0Pdf8JVsVB7"
      },
      "source": [
        "В данном шаге отработали пропуски и где возможно, были проведены логические замены. Пропуски в столбцах являются естественными, так как люди заполняют объявления по-разному и не всегда указывают все из возможных опций. Далее, в необходимых столбцах были заменены типы данных на целочисленный, и также был преобразован столбец с датой публикации."
      ]
    },
    {
      "cell_type": "markdown",
      "metadata": {
        "id": "kquzi1ntsVB7"
      },
      "source": [
        "## Расчёты и добавление результатов в таблицу"
      ]
    },
    {
      "cell_type": "markdown",
      "metadata": {
        "id": "nMTWlz_dsVB7"
      },
      "source": [
        "В данном шаге необходимо добавить в таблицу: \n",
        "* цену квадратного метра;\n",
        "* день недели, месяц и год публикации объявления;\n",
        "* этаж квартиры; варианты — первый, последний, другой;\n",
        "* соотношение жилой и общей площади, а также отношение площади кухни к общей."
      ]
    },
    {
      "cell_type": "code",
      "metadata": {
        "id": "ghI2DKyjsVB8"
      },
      "source": [
        "data['price_sq'] = (data['last_price']/data['total_area']).astype('int')"
      ],
      "execution_count": null,
      "outputs": []
    },
    {
      "cell_type": "markdown",
      "metadata": {
        "id": "0aM00uPssVB8"
      },
      "source": [
        "Создали новый столбец с ценой квадратного метра путем деления стоимости квартиры на её площадь, сразу же заменили тип данных на целочисленный."
      ]
    },
    {
      "cell_type": "code",
      "metadata": {
        "id": "RNMNGMT4sVB8"
      },
      "source": [
        "data['weekday'] = data['first_day_exposition'].dt.weekday\n",
        "data['month'] = pd.DatetimeIndex(data['first_day_exposition']).month\n",
        "data['year'] = pd.DatetimeIndex(data['first_day_exposition']).year"
      ],
      "execution_count": null,
      "outputs": []
    },
    {
      "cell_type": "markdown",
      "metadata": {
        "id": "zotbO3_IsVB8"
      },
      "source": [
        "Добавили три столбца с днем недели, месяцем и годом публикации."
      ]
    },
    {
      "cell_type": "code",
      "metadata": {
        "id": "SRDA168EsVB8"
      },
      "source": [
        "def floor_category(floors):\n",
        "    if floors['floor'] == 1:\n",
        "        return 'первый'\n",
        "    if floors['floor'] == floors['floors_total']:\n",
        "        return 'последний'\n",
        "    else: return 'другой'\n",
        "    \n",
        "data['floor_category'] = data.apply(floor_category,1)"
      ],
      "execution_count": null,
      "outputs": []
    },
    {
      "cell_type": "markdown",
      "metadata": {
        "id": "jjYRcJ1EsVB9"
      },
      "source": [
        "Создали функцию *floor_category*, которая сравнивает значения в столбцах *floor* и *floors_total* и делает вывод, является ли этаж первым, последним и другим. Затем применили эту функцию ко всем строкам и добавили новый столбец с выводом."
      ]
    },
    {
      "cell_type": "code",
      "metadata": {
        "id": "YKFm66NOsVB9"
      },
      "source": [
        "data['living_to_total'] = data['living_area']/data['total_area']\n",
        "data['kitchen_to_total'] = data['kitchen_area']/data['total_area']"
      ],
      "execution_count": null,
      "outputs": []
    },
    {
      "cell_type": "code",
      "metadata": {
        "scrolled": true,
        "id": "9gNWAOfDsVB9",
        "outputId": "fe478adb-d41d-4048-f033-b22feb625eb9"
      },
      "source": [
        "data.head()"
      ],
      "execution_count": null,
      "outputs": [
        {
          "data": {
            "text/html": [
              "<div>\n",
              "<style scoped>\n",
              "    .dataframe tbody tr th:only-of-type {\n",
              "        vertical-align: middle;\n",
              "    }\n",
              "\n",
              "    .dataframe tbody tr th {\n",
              "        vertical-align: top;\n",
              "    }\n",
              "\n",
              "    .dataframe thead th {\n",
              "        text-align: right;\n",
              "    }\n",
              "</style>\n",
              "<table border=\"1\" class=\"dataframe\">\n",
              "  <thead>\n",
              "    <tr style=\"text-align: right;\">\n",
              "      <th></th>\n",
              "      <th>total_images</th>\n",
              "      <th>last_price</th>\n",
              "      <th>total_area</th>\n",
              "      <th>first_day_exposition</th>\n",
              "      <th>rooms</th>\n",
              "      <th>ceiling_height</th>\n",
              "      <th>floors_total</th>\n",
              "      <th>living_area</th>\n",
              "      <th>floor</th>\n",
              "      <th>is_apartment</th>\n",
              "      <th>studio</th>\n",
              "      <th>open_plan</th>\n",
              "      <th>kitchen_area</th>\n",
              "      <th>balcony</th>\n",
              "      <th>locality_name</th>\n",
              "      <th>airports_nearest</th>\n",
              "      <th>cityCenters_nearest</th>\n",
              "      <th>parks_around3000</th>\n",
              "      <th>parks_nearest</th>\n",
              "      <th>ponds_around3000</th>\n",
              "      <th>ponds_nearest</th>\n",
              "      <th>days_exposition</th>\n",
              "      <th>price_sq</th>\n",
              "      <th>weekday</th>\n",
              "      <th>month</th>\n",
              "      <th>year</th>\n",
              "      <th>floor_category</th>\n",
              "      <th>living_to_total</th>\n",
              "      <th>kitchen_to_total</th>\n",
              "    </tr>\n",
              "  </thead>\n",
              "  <tbody>\n",
              "    <tr>\n",
              "      <td>0</td>\n",
              "      <td>20</td>\n",
              "      <td>13000000</td>\n",
              "      <td>108.0</td>\n",
              "      <td>2019-03-07</td>\n",
              "      <td>3</td>\n",
              "      <td>2.70</td>\n",
              "      <td>16.0</td>\n",
              "      <td>51.000000</td>\n",
              "      <td>8</td>\n",
              "      <td>False</td>\n",
              "      <td>False</td>\n",
              "      <td>False</td>\n",
              "      <td>25.000000</td>\n",
              "      <td>0</td>\n",
              "      <td>Санкт-Петербург</td>\n",
              "      <td>18863.0</td>\n",
              "      <td>16028.0</td>\n",
              "      <td>1.0</td>\n",
              "      <td>482.0</td>\n",
              "      <td>2.0</td>\n",
              "      <td>755.0</td>\n",
              "      <td>NaN</td>\n",
              "      <td>120370</td>\n",
              "      <td>3</td>\n",
              "      <td>3</td>\n",
              "      <td>2019</td>\n",
              "      <td>другой</td>\n",
              "      <td>0.472222</td>\n",
              "      <td>0.231481</td>\n",
              "    </tr>\n",
              "    <tr>\n",
              "      <td>1</td>\n",
              "      <td>7</td>\n",
              "      <td>3350000</td>\n",
              "      <td>40.4</td>\n",
              "      <td>2018-12-04</td>\n",
              "      <td>1</td>\n",
              "      <td>2.65</td>\n",
              "      <td>11.0</td>\n",
              "      <td>18.600000</td>\n",
              "      <td>1</td>\n",
              "      <td>False</td>\n",
              "      <td>False</td>\n",
              "      <td>False</td>\n",
              "      <td>11.000000</td>\n",
              "      <td>2</td>\n",
              "      <td>посёлок Шушары</td>\n",
              "      <td>12817.0</td>\n",
              "      <td>18603.0</td>\n",
              "      <td>0.0</td>\n",
              "      <td>NaN</td>\n",
              "      <td>0.0</td>\n",
              "      <td>NaN</td>\n",
              "      <td>81.0</td>\n",
              "      <td>82920</td>\n",
              "      <td>1</td>\n",
              "      <td>12</td>\n",
              "      <td>2018</td>\n",
              "      <td>первый</td>\n",
              "      <td>0.460396</td>\n",
              "      <td>0.272277</td>\n",
              "    </tr>\n",
              "    <tr>\n",
              "      <td>2</td>\n",
              "      <td>10</td>\n",
              "      <td>5196000</td>\n",
              "      <td>56.0</td>\n",
              "      <td>2015-08-20</td>\n",
              "      <td>2</td>\n",
              "      <td>2.65</td>\n",
              "      <td>5.0</td>\n",
              "      <td>34.300000</td>\n",
              "      <td>4</td>\n",
              "      <td>False</td>\n",
              "      <td>False</td>\n",
              "      <td>False</td>\n",
              "      <td>8.300000</td>\n",
              "      <td>0</td>\n",
              "      <td>Санкт-Петербург</td>\n",
              "      <td>21741.0</td>\n",
              "      <td>13933.0</td>\n",
              "      <td>1.0</td>\n",
              "      <td>90.0</td>\n",
              "      <td>2.0</td>\n",
              "      <td>574.0</td>\n",
              "      <td>558.0</td>\n",
              "      <td>92785</td>\n",
              "      <td>3</td>\n",
              "      <td>8</td>\n",
              "      <td>2015</td>\n",
              "      <td>другой</td>\n",
              "      <td>0.612500</td>\n",
              "      <td>0.148214</td>\n",
              "    </tr>\n",
              "    <tr>\n",
              "      <td>3</td>\n",
              "      <td>0</td>\n",
              "      <td>64900000</td>\n",
              "      <td>159.0</td>\n",
              "      <td>2015-07-24</td>\n",
              "      <td>3</td>\n",
              "      <td>2.65</td>\n",
              "      <td>14.0</td>\n",
              "      <td>90.770436</td>\n",
              "      <td>9</td>\n",
              "      <td>False</td>\n",
              "      <td>False</td>\n",
              "      <td>False</td>\n",
              "      <td>27.809136</td>\n",
              "      <td>0</td>\n",
              "      <td>Санкт-Петербург</td>\n",
              "      <td>28098.0</td>\n",
              "      <td>6800.0</td>\n",
              "      <td>2.0</td>\n",
              "      <td>84.0</td>\n",
              "      <td>3.0</td>\n",
              "      <td>234.0</td>\n",
              "      <td>424.0</td>\n",
              "      <td>408176</td>\n",
              "      <td>4</td>\n",
              "      <td>7</td>\n",
              "      <td>2015</td>\n",
              "      <td>другой</td>\n",
              "      <td>0.570883</td>\n",
              "      <td>0.174900</td>\n",
              "    </tr>\n",
              "    <tr>\n",
              "      <td>4</td>\n",
              "      <td>2</td>\n",
              "      <td>10000000</td>\n",
              "      <td>100.0</td>\n",
              "      <td>2018-06-19</td>\n",
              "      <td>2</td>\n",
              "      <td>3.03</td>\n",
              "      <td>14.0</td>\n",
              "      <td>32.000000</td>\n",
              "      <td>13</td>\n",
              "      <td>False</td>\n",
              "      <td>False</td>\n",
              "      <td>False</td>\n",
              "      <td>41.000000</td>\n",
              "      <td>0</td>\n",
              "      <td>Санкт-Петербург</td>\n",
              "      <td>31856.0</td>\n",
              "      <td>8098.0</td>\n",
              "      <td>2.0</td>\n",
              "      <td>112.0</td>\n",
              "      <td>1.0</td>\n",
              "      <td>48.0</td>\n",
              "      <td>121.0</td>\n",
              "      <td>100000</td>\n",
              "      <td>1</td>\n",
              "      <td>6</td>\n",
              "      <td>2018</td>\n",
              "      <td>другой</td>\n",
              "      <td>0.320000</td>\n",
              "      <td>0.410000</td>\n",
              "    </tr>\n",
              "  </tbody>\n",
              "</table>\n",
              "</div>"
            ],
            "text/plain": [
              "   total_images  last_price  total_area first_day_exposition  rooms  \\\n",
              "0            20    13000000       108.0           2019-03-07      3   \n",
              "1             7     3350000        40.4           2018-12-04      1   \n",
              "2            10     5196000        56.0           2015-08-20      2   \n",
              "3             0    64900000       159.0           2015-07-24      3   \n",
              "4             2    10000000       100.0           2018-06-19      2   \n",
              "\n",
              "   ceiling_height  floors_total  living_area  floor is_apartment  studio  \\\n",
              "0            2.70          16.0    51.000000      8        False   False   \n",
              "1            2.65          11.0    18.600000      1        False   False   \n",
              "2            2.65           5.0    34.300000      4        False   False   \n",
              "3            2.65          14.0    90.770436      9        False   False   \n",
              "4            3.03          14.0    32.000000     13        False   False   \n",
              "\n",
              "   open_plan  kitchen_area  balcony    locality_name  airports_nearest  \\\n",
              "0      False     25.000000        0  Санкт-Петербург           18863.0   \n",
              "1      False     11.000000        2   посёлок Шушары           12817.0   \n",
              "2      False      8.300000        0  Санкт-Петербург           21741.0   \n",
              "3      False     27.809136        0  Санкт-Петербург           28098.0   \n",
              "4      False     41.000000        0  Санкт-Петербург           31856.0   \n",
              "\n",
              "   cityCenters_nearest  parks_around3000  parks_nearest  ponds_around3000  \\\n",
              "0              16028.0               1.0          482.0               2.0   \n",
              "1              18603.0               0.0            NaN               0.0   \n",
              "2              13933.0               1.0           90.0               2.0   \n",
              "3               6800.0               2.0           84.0               3.0   \n",
              "4               8098.0               2.0          112.0               1.0   \n",
              "\n",
              "   ponds_nearest  days_exposition  price_sq  weekday  month  year  \\\n",
              "0          755.0              NaN    120370        3      3  2019   \n",
              "1            NaN             81.0     82920        1     12  2018   \n",
              "2          574.0            558.0     92785        3      8  2015   \n",
              "3          234.0            424.0    408176        4      7  2015   \n",
              "4           48.0            121.0    100000        1      6  2018   \n",
              "\n",
              "  floor_category  living_to_total  kitchen_to_total  \n",
              "0         другой         0.472222          0.231481  \n",
              "1         первый         0.460396          0.272277  \n",
              "2         другой         0.612500          0.148214  \n",
              "3         другой         0.570883          0.174900  \n",
              "4         другой         0.320000          0.410000  "
            ]
          },
          "execution_count": 29,
          "metadata": {},
          "output_type": "execute_result"
        }
      ]
    },
    {
      "cell_type": "markdown",
      "metadata": {
        "id": "4pU6Jc2fsVB9"
      },
      "source": [
        "Добавили необходимые для исследования столбцы, переходим к анализу."
      ]
    },
    {
      "cell_type": "markdown",
      "metadata": {
        "id": "bnCudODhsVB9"
      },
      "source": [
        "## Исследовательский анализ данных"
      ]
    },
    {
      "cell_type": "markdown",
      "metadata": {
        "id": "OJ_D8mmUsVB-"
      },
      "source": [
        "Изучим следующие параметры: площадь, цена, число комнат, высота потолков и построим для них гистограммы."
      ]
    },
    {
      "cell_type": "code",
      "metadata": {
        "scrolled": true,
        "id": "Zx5jRPbssVB-",
        "outputId": "132c5003-06dc-43d4-a747-40d1e1834b1f"
      },
      "source": [
        "data['total_area'].hist(range=(0,350))"
      ],
      "execution_count": null,
      "outputs": [
        {
          "data": {
            "text/plain": [
              "<matplotlib.axes._subplots.AxesSubplot at 0x7fc522f61fd0>"
            ]
          },
          "execution_count": 30,
          "metadata": {},
          "output_type": "execute_result"
        },
        {
          "data": {
            "image/png": "[encoded data removed]",
            "text/plain": [
              "<Figure size 432x288 with 1 Axes>"
            ]
          },
          "metadata": {
            "needs_background": "light"
          },
          "output_type": "display_data"
        }
      ]
    },
    {
      "cell_type": "markdown",
      "metadata": {
        "id": "RfCHyYRYsVB-"
      },
      "source": [
        "Из гистограммы видно, что большинство выставленных квартир имеют площадь 40-60 квадратных метров, дальше 60-105 и 40 и меньше. Имеется длинный хвост высоких значений."
      ]
    },
    {
      "cell_type": "code",
      "metadata": {
        "id": "riIBDs_KsVB-",
        "outputId": "1eb2d0cb-863f-427c-e4d8-4ad5761ce655"
      },
      "source": [
        "data['last_price'].hist(range=(0,60000000))"
      ],
      "execution_count": null,
      "outputs": [
        {
          "data": {
            "text/plain": [
              "<matplotlib.axes._subplots.AxesSubplot at 0x7fc522852710>"
            ]
          },
          "execution_count": 31,
          "metadata": {},
          "output_type": "execute_result"
        },
        {
          "data": {
            "image/png": "[encoded data removed]",
            "text/plain": [
              "<Figure size 432x288 with 1 Axes>"
            ]
          },
          "metadata": {
            "needs_background": "light"
          },
          "output_type": "display_data"
        }
      ]
    },
    {
      "cell_type": "markdown",
      "metadata": {
        "id": "pObHXBaXsVB-"
      },
      "source": [
        "Основная ценовая категория располагается в пределе 6 млн, около 4400 квартир - 6-12 млн, также имеется длинный хвост высоких цен."
      ]
    },
    {
      "cell_type": "code",
      "metadata": {
        "id": "lrJQosSTsVB_",
        "outputId": "db98396c-a3bc-4e21-de92-9344078ee458"
      },
      "source": [
        "data['rooms'].hist(range=(0,10))"
      ],
      "execution_count": null,
      "outputs": [
        {
          "data": {
            "text/plain": [
              "<matplotlib.axes._subplots.AxesSubplot at 0x7fc522816d90>"
            ]
          },
          "execution_count": 32,
          "metadata": {},
          "output_type": "execute_result"
        },
        {
          "data": {
            "image/png": "[encoded data removed]",
            "text/plain": [
              "<Figure size 432x288 with 1 Axes>"
            ]
          },
          "metadata": {
            "needs_background": "light"
          },
          "output_type": "display_data"
        }
      ]
    },
    {
      "cell_type": "markdown",
      "metadata": {
        "id": "0hIflWd_sVB_"
      },
      "source": [
        "Чуть больше 7 тысяч выставленных квартир - однокомнатные, двухкомнатных - около 7000, трехкомнатных - немного больше 5 тысяч, четырехкомнатных около 1000 и в остальных квартирах 5 комнат и больше."
      ]
    },
    {
      "cell_type": "code",
      "metadata": {
        "id": "mQYdc81tsVB_",
        "outputId": "77652188-8087-4143-bfcb-bb454de00a78"
      },
      "source": [
        "data['ceiling_height'].hist(range=(2,4.5))"
      ],
      "execution_count": null,
      "outputs": [
        {
          "data": {
            "text/plain": [
              "<matplotlib.axes._subplots.AxesSubplot at 0x7fc522707290>"
            ]
          },
          "execution_count": 33,
          "metadata": {},
          "output_type": "execute_result"
        },
        {
          "data": {
            "image/png": "[encoded data removed]",
            "text/plain": [
              "<Figure size 432x288 with 1 Axes>"
            ]
          },
          "metadata": {
            "needs_background": "light"
          },
          "output_type": "display_data"
        }
      ]
    },
    {
      "cell_type": "markdown",
      "metadata": {
        "id": "ay_HwyWWsVB_"
      },
      "source": [
        "Высота потолков в большинстве квартир (16500) составляет 2.5 м, 2.75 м - в 2000 квартир, 3 м - 1800 квартирах.\n",
        "\n",
        "Теперь рассмотрим время продажи квартиры и построим гистограмму."
      ]
    },
    {
      "cell_type": "code",
      "metadata": {
        "id": "tlc_OhIlsVCA",
        "outputId": "8bfa36aa-2f3d-462b-d4c1-0bcd7cac8c6b"
      },
      "source": [
        "data['days_exposition'].hist()"
      ],
      "execution_count": null,
      "outputs": [
        {
          "data": {
            "text/plain": [
              "<matplotlib.axes._subplots.AxesSubplot at 0x7fc52268f110>"
            ]
          },
          "execution_count": 34,
          "metadata": {},
          "output_type": "execute_result"
        },
        {
          "data": {
            "image/png": "[encoded data removed]",
            "text/plain": [
              "<Figure size 432x288 with 1 Axes>"
            ]
          },
          "metadata": {
            "needs_background": "light"
          },
          "output_type": "display_data"
        }
      ]
    },
    {
      "cell_type": "markdown",
      "metadata": {
        "id": "fMmEWdRZsVCA"
      },
      "source": [
        "Можно увидеть, что, в основном, квартиры продаются в течение 150 дней - 5 месяцев. Найдем среднее значение и медиану."
      ]
    },
    {
      "cell_type": "code",
      "metadata": {
        "id": "bVw0su8YsVCA",
        "outputId": "b0235877-05e7-44a5-c9bd-e3125f9c46dd"
      },
      "source": [
        "data['days_exposition'].mean()"
      ],
      "execution_count": null,
      "outputs": [
        {
          "data": {
            "text/plain": [
              "175.41688536490034"
            ]
          },
          "execution_count": 35,
          "metadata": {},
          "output_type": "execute_result"
        }
      ]
    },
    {
      "cell_type": "code",
      "metadata": {
        "id": "vd1AiIxxsVCA",
        "outputId": "c0bf90a2-85b5-4a58-f229-c27ece63a611"
      },
      "source": [
        "data['days_exposition'].median()"
      ],
      "execution_count": null,
      "outputs": [
        {
          "data": {
            "text/plain": [
              "91.0"
            ]
          },
          "execution_count": 36,
          "metadata": {},
          "output_type": "execute_result"
        }
      ]
    },
    {
      "cell_type": "markdown",
      "metadata": {
        "id": "Tly93pgBsVCB"
      },
      "source": [
        "Видим, что среднее почти в два раза больше медианы, значит, в распределении длинный хвост больших значений, что мы можем также видеть из гистограммы. Значения 800-1400 дней можно считать необычно долгими, в то время как значения до 92 дней - быстрыми.\n",
        "\n",
        "\n",
        "Удалим выбросы для некоторых параметров исходя из их гистограмм, а для некоторых построим ящики с усами для определения верхних границ.\n",
        "\n",
        "На гистограмме общей площади видим длинный хвост значений свыше 210 кв. м., примем это число за верхнюю границу."
      ]
    },
    {
      "cell_type": "code",
      "metadata": {
        "id": "cxMgeJItsVCB"
      },
      "source": [
        "data = data.query('total_area<210')"
      ],
      "execution_count": null,
      "outputs": []
    },
    {
      "cell_type": "code",
      "metadata": {
        "scrolled": true,
        "id": "WptbroZgsVCB",
        "outputId": "065e77c8-ad10-4ef8-91d1-d9625a1efa1e"
      },
      "source": [
        "data['total_area'].hist(range=(0,210))"
      ],
      "execution_count": null,
      "outputs": [
        {
          "data": {
            "text/plain": [
              "<matplotlib.axes._subplots.AxesSubplot at 0x7fc522609d90>"
            ]
          },
          "execution_count": 38,
          "metadata": {},
          "output_type": "execute_result"
        },
        {
          "data": {
            "image/png": "[encoded data removed]",
            "text/plain": [
              "<Figure size 432x288 with 1 Axes>"
            ]
          },
          "metadata": {
            "needs_background": "light"
          },
          "output_type": "display_data"
        }
      ]
    },
    {
      "cell_type": "markdown",
      "metadata": {
        "id": "GM8xoyZmsVCC"
      },
      "source": [
        "Перейдем к цене, для нахождения границы построим ящик с усами. "
      ]
    },
    {
      "cell_type": "code",
      "metadata": {
        "id": "_v7carK8sVCC",
        "outputId": "1630e984-2496-49e6-c776-9bc997ac9c7f"
      },
      "source": [
        "sns.boxplot(data['last_price'])\n",
        "plt.xlim(0, 12000000)"
      ],
      "execution_count": null,
      "outputs": [
        {
          "data": {
            "text/plain": [
              "(0, 12000000)"
            ]
          },
          "execution_count": 39,
          "metadata": {},
          "output_type": "execute_result"
        },
        {
          "data": {
            "image/png": "[encoded data removed]",
            "text/plain": [
              "<Figure size 432x288 with 1 Axes>"
            ]
          },
          "metadata": {
            "needs_background": "light"
          },
          "output_type": "display_data"
        }
      ]
    },
    {
      "cell_type": "code",
      "metadata": {
        "id": "LTJIuq9ksVCC"
      },
      "source": [
        "data = data.query('last_price<11600000')"
      ],
      "execution_count": null,
      "outputs": []
    },
    {
      "cell_type": "markdown",
      "metadata": {
        "id": "cd2ykjP8sVCC"
      },
      "source": [
        "Верхняя граница цен составляет около 11.6 млн., отбросили значения, находящиеся выше.\n",
        "\n",
        "Переходим к количеству комнат. Из гистограммы видим, что количество квартир, имеющих свыше 8 комнат - незначительное, примем 8 за верхнюю границу, а остальное уберем как выброс."
      ]
    },
    {
      "cell_type": "code",
      "metadata": {
        "id": "fe-c0jd4sVCC"
      },
      "source": [
        "data = data.query('rooms>0 and rooms<8')"
      ],
      "execution_count": null,
      "outputs": []
    },
    {
      "cell_type": "markdown",
      "metadata": {
        "id": "31g3vjYvsVCC"
      },
      "source": [
        "Рассматривая высоту потолков, из гистограммы видим редкие значения с высотой ниже 2.5 м, что вероятней всего являлось опечаткой в объявлении и также довольно редкие значения свыше 3.5 м, отбросим то, что не входит в эти границы."
      ]
    },
    {
      "cell_type": "code",
      "metadata": {
        "id": "VzhBmggtsVCD"
      },
      "source": [
        "data = data.query('ceiling_height>2.5 and ceiling_height<3.5')"
      ],
      "execution_count": null,
      "outputs": []
    },
    {
      "cell_type": "code",
      "metadata": {
        "scrolled": false,
        "id": "yXhD99I7sVCD",
        "outputId": "5ba762a0-8b13-45c1-a904-ff0f26a64a18"
      },
      "source": [
        "sns.boxplot(data['days_exposition'])\n",
        "plt.xlim(0, 600)"
      ],
      "execution_count": null,
      "outputs": [
        {
          "data": {
            "text/plain": [
              "(0, 600)"
            ]
          },
          "execution_count": 43,
          "metadata": {},
          "output_type": "execute_result"
        },
        {
          "data": {
            "image/png": "[encoded data removed]",
            "text/plain": [
              "<Figure size 432x288 with 1 Axes>"
            ]
          },
          "metadata": {
            "needs_background": "light"
          },
          "output_type": "display_data"
        }
      ]
    },
    {
      "cell_type": "markdown",
      "metadata": {
        "id": "8rHTCA8ysVCD"
      },
      "source": [
        "Из графика сверху видим, что верхняя граница количества дней нахождения объявления на сайте - 465, уберем выбросы."
      ]
    },
    {
      "cell_type": "code",
      "metadata": {
        "scrolled": true,
        "id": "dytq2HyCsVCD"
      },
      "source": [
        "data = data.query('days_exposition<465')"
      ],
      "execution_count": null,
      "outputs": []
    },
    {
      "cell_type": "markdown",
      "metadata": {
        "id": "TkyNzepGsVCD"
      },
      "source": [
        "Изучим зависимость цены от площади, числа комнат, удалённости от центра, также, на каком этаже расположена квартира: первом, последнем или другом и зависимость от даты размещения: дня недели, месяца и года."
      ]
    },
    {
      "cell_type": "code",
      "metadata": {
        "id": "PBJ9kt7CsVCE",
        "outputId": "f9c67019-646b-409f-b0a3-4f1b0e448d37"
      },
      "source": [
        "data.plot(x='total_area', y='last_price',kind='scatter',grid=True)"
      ],
      "execution_count": null,
      "outputs": [
        {
          "data": {
            "text/plain": [
              "<matplotlib.axes._subplots.AxesSubplot at 0x7fc522478310>"
            ]
          },
          "execution_count": 45,
          "metadata": {},
          "output_type": "execute_result"
        },
        {
          "data": {
            "image/png": "[encoded data removed]",
            "text/plain": [
              "<Figure size 432x288 with 1 Axes>"
            ]
          },
          "metadata": {
            "needs_background": "light"
          },
          "output_type": "display_data"
        }
      ]
    },
    {
      "cell_type": "markdown",
      "metadata": {
        "id": "2SH_DcuBsVCE"
      },
      "source": [
        "Из данного графика зависимости цены от площади квартиры можно увидеть, что график уходит вправо, то есть увеличиваются цены с увеличением площади, при этом распределение равномерное и также присутствуют некоторые исключения, где цена высокая при небольшой площади или низкая при большой площади. На такие выбросы влияют другие возможные факторы, как расположение квартиры, этажность дома, ремонт и тд."
      ]
    },
    {
      "cell_type": "code",
      "metadata": {
        "id": "sl0uSkggsVCE",
        "outputId": "41d2e922-1a79-4209-a536-0e08e2f771d9"
      },
      "source": [
        "sns.boxplot(x=\"rooms\", y=\"last_price\", data=data)"
      ],
      "execution_count": null,
      "outputs": [
        {
          "data": {
            "text/plain": [
              "<matplotlib.axes._subplots.AxesSubplot at 0x7fc522419490>"
            ]
          },
          "execution_count": 46,
          "metadata": {},
          "output_type": "execute_result"
        },
        {
          "data": {
            "image/png": "[encoded data removed]",
            "text/plain": [
              "<Figure size 432x288 with 1 Axes>"
            ]
          },
          "metadata": {
            "needs_background": "light"
          },
          "output_type": "display_data"
        }
      ]
    },
    {
      "cell_type": "markdown",
      "metadata": {
        "id": "MVVfeFCUsVCF"
      },
      "source": [
        "Из данного графика явно видим, что цены на квартиры зависят от количества комнат - чем больше комнат, тем порядок цен квартир увеличивается."
      ]
    },
    {
      "cell_type": "code",
      "metadata": {
        "id": "YvoGWoTzsVCF",
        "outputId": "8573e416-91b5-454b-c5dc-f066b0601709"
      },
      "source": [
        "data.plot(x='cityCenters_nearest', y='last_price',kind='scatter',grid=True)"
      ],
      "execution_count": null,
      "outputs": [
        {
          "data": {
            "text/plain": [
              "<matplotlib.axes._subplots.AxesSubplot at 0x7fc5223eec50>"
            ]
          },
          "execution_count": 47,
          "metadata": {},
          "output_type": "execute_result"
        },
        {
          "data": {
            "image/png": "[encoded data removed]",
            "text/plain": [
              "<Figure size 432x288 with 1 Axes>"
            ]
          },
          "metadata": {
            "needs_background": "light"
          },
          "output_type": "display_data"
        }
      ]
    },
    {
      "cell_type": "markdown",
      "metadata": {
        "id": "ry9fK2gKsVCF"
      },
      "source": [
        "На данном графике можно увидеть зависимость цены от удаленности от центра. Мы видим большое скопление квартир в диапазоне до 11.5 млн. рублей при расстоянии до 18 км от центра, после цены спадают. То есть даже если квартира находится в центре, она может стоить дешево. При этом верхние значения на графике находятся в левой части, то есть квартиры, которые находятся наиболее далеко от центра имеют низкую цену, в то время как самые дорогие квартиры находятся в центре. \n",
        "\n",
        "Зависимость есть, но данный фактор нельзя назвать основным."
      ]
    },
    {
      "cell_type": "code",
      "metadata": {
        "scrolled": true,
        "id": "27hzWNK8sVCG",
        "outputId": "cc512c59-b5d0-44ae-ce47-1b10a2226c91"
      },
      "source": [
        "sns.boxplot(x=\"floor_category\", y=\"last_price\", data=data)"
      ],
      "execution_count": null,
      "outputs": [
        {
          "data": {
            "text/plain": [
              "<matplotlib.axes._subplots.AxesSubplot at 0x7fc522297650>"
            ]
          },
          "execution_count": 48,
          "metadata": {},
          "output_type": "execute_result"
        },
        {
          "data": {
            "image/png": "[encoded data removed]",
            "text/plain": [
              "<Figure size 432x288 with 1 Axes>"
            ]
          },
          "metadata": {
            "needs_background": "light"
          },
          "output_type": "display_data"
        }
      ]
    },
    {
      "cell_type": "markdown",
      "metadata": {
        "id": "G-15ZREasVCG"
      },
      "source": [
        "Здесь можем видеть, что порядок цен квартир на других этажах выше, чем на первом и последнем."
      ]
    },
    {
      "cell_type": "code",
      "metadata": {
        "id": "0zG07353sVCG",
        "outputId": "080701f4-d4b6-4ffe-f5ee-47b19ff532ac"
      },
      "source": [
        "sns.boxplot(x=\"weekday\", y=\"last_price\", data=data)"
      ],
      "execution_count": null,
      "outputs": [
        {
          "data": {
            "text/plain": [
              "<matplotlib.axes._subplots.AxesSubplot at 0x7fc5221aa2d0>"
            ]
          },
          "execution_count": 49,
          "metadata": {},
          "output_type": "execute_result"
        },
        {
          "data": {
            "image/png": "[encoded data removed]",
            "text/plain": [
              "<Figure size 432x288 with 1 Axes>"
            ]
          },
          "metadata": {
            "needs_background": "light"
          },
          "output_type": "display_data"
        }
      ]
    },
    {
      "cell_type": "code",
      "metadata": {
        "id": "LjAAZZsysVCG",
        "outputId": "757c9d61-5a91-45a3-c3ba-96fdc4627599"
      },
      "source": [
        "sns.boxplot(x=\"month\", y=\"last_price\", data=data)"
      ],
      "execution_count": null,
      "outputs": [
        {
          "data": {
            "text/plain": [
              "<matplotlib.axes._subplots.AxesSubplot at 0x7fc5221230d0>"
            ]
          },
          "execution_count": 50,
          "metadata": {},
          "output_type": "execute_result"
        },
        {
          "data": {
            "image/png": "[encoded data removed]",
            "text/plain": [
              "<Figure size 432x288 with 1 Axes>"
            ]
          },
          "metadata": {
            "needs_background": "light"
          },
          "output_type": "display_data"
        }
      ]
    },
    {
      "cell_type": "code",
      "metadata": {
        "id": "QiTjajqosVCG",
        "outputId": "51379901-018c-4da3-ab3b-ad6b5b58c402"
      },
      "source": [
        "sns.boxplot(x=\"year\", y=\"last_price\", data=data)"
      ],
      "execution_count": null,
      "outputs": [
        {
          "data": {
            "text/plain": [
              "<matplotlib.axes._subplots.AxesSubplot at 0x7fc519f178d0>"
            ]
          },
          "execution_count": 51,
          "metadata": {},
          "output_type": "execute_result"
        },
        {
          "data": {
            "image/png": "[encoded data removed]",
            "text/plain": [
              "<Figure size 432x288 with 1 Axes>"
            ]
          },
          "metadata": {
            "needs_background": "light"
          },
          "output_type": "display_data"
        }
      ]
    },
    {
      "cell_type": "markdown",
      "metadata": {
        "id": "oWWgDGrZsVCH"
      },
      "source": [
        "Видим, что в зависимости от даты объявления цены меняются незначительно, но в 2019 году можно наблюдать общий рост цен на квартиры."
      ]
    },
    {
      "cell_type": "markdown",
      "metadata": {
        "id": "Tz7TYNxGsVCH"
      },
      "source": [
        "Найдем 10 населённых пунктов с наибольшим числом объявлений. Выделим среди них населённые пункты с самой высокой и низкой стоимостью жилья."
      ]
    },
    {
      "cell_type": "code",
      "metadata": {
        "id": "VGaAcjb4sVCH",
        "outputId": "a79104ad-defe-4a87-85b3-cdacc4ac9395"
      },
      "source": [
        "median_price_sq = data.pivot_table(index='locality_name', values='price_sq', aggfunc=['count','median'])\n",
        "median_price_sq.columns = ['count','median']\n",
        "median_price_sq.sort_values(by = 'count',ascending=False).head(10)"
      ],
      "execution_count": null,
      "outputs": [
        {
          "data": {
            "text/html": [
              "<div>\n",
              "<style scoped>\n",
              "    .dataframe tbody tr th:only-of-type {\n",
              "        vertical-align: middle;\n",
              "    }\n",
              "\n",
              "    .dataframe tbody tr th {\n",
              "        vertical-align: top;\n",
              "    }\n",
              "\n",
              "    .dataframe thead th {\n",
              "        text-align: right;\n",
              "    }\n",
              "</style>\n",
              "<table border=\"1\" class=\"dataframe\">\n",
              "  <thead>\n",
              "    <tr style=\"text-align: right;\">\n",
              "      <th></th>\n",
              "      <th>count</th>\n",
              "      <th>median</th>\n",
              "    </tr>\n",
              "    <tr>\n",
              "      <th>locality_name</th>\n",
              "      <th></th>\n",
              "      <th></th>\n",
              "    </tr>\n",
              "  </thead>\n",
              "  <tbody>\n",
              "    <tr>\n",
              "      <td>Санкт-Петербург</td>\n",
              "      <td>7995</td>\n",
              "      <td>101891.0</td>\n",
              "    </tr>\n",
              "    <tr>\n",
              "      <td>посёлок Мурино</td>\n",
              "      <td>398</td>\n",
              "      <td>85145.0</td>\n",
              "    </tr>\n",
              "    <tr>\n",
              "      <td>посёлок Шушары</td>\n",
              "      <td>303</td>\n",
              "      <td>76666.0</td>\n",
              "    </tr>\n",
              "    <tr>\n",
              "      <td>Всеволожск</td>\n",
              "      <td>248</td>\n",
              "      <td>66034.5</td>\n",
              "    </tr>\n",
              "    <tr>\n",
              "      <td>посёлок Парголово</td>\n",
              "      <td>235</td>\n",
              "      <td>91917.0</td>\n",
              "    </tr>\n",
              "    <tr>\n",
              "      <td>деревня Кудрово</td>\n",
              "      <td>208</td>\n",
              "      <td>91617.5</td>\n",
              "    </tr>\n",
              "    <tr>\n",
              "      <td>Колпино</td>\n",
              "      <td>172</td>\n",
              "      <td>74117.0</td>\n",
              "    </tr>\n",
              "    <tr>\n",
              "      <td>Пушкин</td>\n",
              "      <td>165</td>\n",
              "      <td>98601.0</td>\n",
              "    </tr>\n",
              "    <tr>\n",
              "      <td>Гатчина</td>\n",
              "      <td>155</td>\n",
              "      <td>67796.0</td>\n",
              "    </tr>\n",
              "    <tr>\n",
              "      <td>Выборг</td>\n",
              "      <td>133</td>\n",
              "      <td>56451.0</td>\n",
              "    </tr>\n",
              "  </tbody>\n",
              "</table>\n",
              "</div>"
            ],
            "text/plain": [
              "                   count    median\n",
              "locality_name                     \n",
              "Санкт-Петербург     7995  101891.0\n",
              "посёлок Мурино       398   85145.0\n",
              "посёлок Шушары       303   76666.0\n",
              "Всеволожск           248   66034.5\n",
              "посёлок Парголово    235   91917.0\n",
              "деревня Кудрово      208   91617.5\n",
              "Колпино              172   74117.0\n",
              "Пушкин               165   98601.0\n",
              "Гатчина              155   67796.0\n",
              "Выборг               133   56451.0"
            ]
          },
          "execution_count": 52,
          "metadata": {},
          "output_type": "execute_result"
        }
      ]
    },
    {
      "cell_type": "markdown",
      "metadata": {
        "id": "MbhQfCzWsVCH"
      },
      "source": [
        "Из данного списка можем видеть, что самая высокая стоимость жилья в Санкт-Петербурге, а низкая в Выборге, цена за квадратный метр составляет 101891 и 56451 рублей соответственно."
      ]
    },
    {
      "cell_type": "markdown",
      "metadata": {
        "id": "cXJwQRg6sVCH"
      },
      "source": [
        "Разберем квартиры в Санкт-Петербурге, нужно выяснить, какая область входит в центр. Для этого по графику зависимости цены от расстояния до центра определим границу центральной зоны."
      ]
    },
    {
      "cell_type": "code",
      "metadata": {
        "id": "totiLfOusVCH"
      },
      "source": [
        "data['cityCenters_nearest'] = data['cityCenters_nearest'].fillna(0)\n",
        "data['center_km'] = data['cityCenters_nearest']/1000\n",
        "data['center_km'] = data['center_km'].astype('int')"
      ],
      "execution_count": null,
      "outputs": []
    },
    {
      "cell_type": "code",
      "metadata": {
        "id": "lOCHXGihsVCI",
        "outputId": "a189155d-2aeb-4d5b-8288-80a3a30b3add"
      },
      "source": [
        "center_price = data.query('locality_name == \"Санкт-Петербург\"').pivot_table(index='center_km', values='last_price', aggfunc='median')\n",
        "center_price.columns = ['median_price']\n",
        "center_price.sort_values(by = 'center_km',ascending=True).head(10)"
      ],
      "execution_count": null,
      "outputs": [
        {
          "data": {
            "text/html": [
              "<div>\n",
              "<style scoped>\n",
              "    .dataframe tbody tr th:only-of-type {\n",
              "        vertical-align: middle;\n",
              "    }\n",
              "\n",
              "    .dataframe tbody tr th {\n",
              "        vertical-align: top;\n",
              "    }\n",
              "\n",
              "    .dataframe thead th {\n",
              "        text-align: right;\n",
              "    }\n",
              "</style>\n",
              "<table border=\"1\" class=\"dataframe\">\n",
              "  <thead>\n",
              "    <tr style=\"text-align: right;\">\n",
              "      <th></th>\n",
              "      <th>median_price</th>\n",
              "    </tr>\n",
              "    <tr>\n",
              "      <th>center_km</th>\n",
              "      <th></th>\n",
              "    </tr>\n",
              "  </thead>\n",
              "  <tbody>\n",
              "    <tr>\n",
              "      <td>0</td>\n",
              "      <td>7424500.0</td>\n",
              "    </tr>\n",
              "    <tr>\n",
              "      <td>1</td>\n",
              "      <td>7940000.0</td>\n",
              "    </tr>\n",
              "    <tr>\n",
              "      <td>2</td>\n",
              "      <td>7500000.0</td>\n",
              "    </tr>\n",
              "    <tr>\n",
              "      <td>3</td>\n",
              "      <td>6970000.0</td>\n",
              "    </tr>\n",
              "    <tr>\n",
              "      <td>4</td>\n",
              "      <td>7315000.0</td>\n",
              "    </tr>\n",
              "    <tr>\n",
              "      <td>5</td>\n",
              "      <td>7200000.0</td>\n",
              "    </tr>\n",
              "    <tr>\n",
              "      <td>6</td>\n",
              "      <td>6500000.0</td>\n",
              "    </tr>\n",
              "    <tr>\n",
              "      <td>7</td>\n",
              "      <td>6490000.0</td>\n",
              "    </tr>\n",
              "    <tr>\n",
              "      <td>8</td>\n",
              "      <td>5969322.0</td>\n",
              "    </tr>\n",
              "    <tr>\n",
              "      <td>9</td>\n",
              "      <td>4800000.0</td>\n",
              "    </tr>\n",
              "  </tbody>\n",
              "</table>\n",
              "</div>"
            ],
            "text/plain": [
              "           median_price\n",
              "center_km              \n",
              "0             7424500.0\n",
              "1             7940000.0\n",
              "2             7500000.0\n",
              "3             6970000.0\n",
              "4             7315000.0\n",
              "5             7200000.0\n",
              "6             6500000.0\n",
              "7             6490000.0\n",
              "8             5969322.0\n",
              "9             4800000.0"
            ]
          },
          "execution_count": 54,
          "metadata": {},
          "output_type": "execute_result"
        }
      ]
    },
    {
      "cell_type": "code",
      "metadata": {
        "id": "Y02aP0JXsVCI",
        "outputId": "e1da0edd-702d-418b-9b74-617ef61f56f4"
      },
      "source": [
        "center_price.plot(grid=True)"
      ],
      "execution_count": null,
      "outputs": [
        {
          "data": {
            "text/plain": [
              "<matplotlib.axes._subplots.AxesSubplot at 0x7fc5224e0e10>"
            ]
          },
          "execution_count": 55,
          "metadata": {},
          "output_type": "execute_result"
        },
        {
          "data": {
            "image/png": "[encoded data removed]",
            "text/plain": [
              "<Figure size 432x288 with 1 Axes>"
            ]
          },
          "metadata": {
            "needs_background": "light"
          },
          "output_type": "display_data"
        }
      ]
    },
    {
      "cell_type": "markdown",
      "metadata": {
        "id": "KzJFb9MxsVCI"
      },
      "source": [
        "Из графика зависимости удаленности квартир от центра и средней цены можем видеть, что график меняется на 8.5 км, поэтому возьмем радиус 8.5 км за центральную зону.\n",
        "\n",
        "Выделим сегмент квартир в центре Санкт-Петербурга. Проанализируем эту территорию и изучим следующие параметры: площадь, цена, число комнат, высота потолков. Также рассмотрим факторы, влияющие на стоимость квартиры: число комнат, этаж, удалённость от центра, дата размещения объявления."
      ]
    },
    {
      "cell_type": "code",
      "metadata": {
        "id": "zPHVJbRHsVCI"
      },
      "source": [
        "center_data = data.query('locality_name == \"Санкт-Петербург\" and center_km < 8.5')"
      ],
      "execution_count": null,
      "outputs": []
    },
    {
      "cell_type": "code",
      "metadata": {
        "id": "0PYHL3EgsVCI",
        "outputId": "efc42555-2869-40cd-9ef7-56132d025aee"
      },
      "source": [
        "print(center_data['total_area'].describe())\n",
        "sns.boxplot(center_data['total_area'])"
      ],
      "execution_count": null,
      "outputs": [
        {
          "name": "stdout",
          "output_type": "stream",
          "text": [
            "count    1712.000000\n",
            "mean       63.034527\n",
            "std        21.736883\n",
            "min        12.000000\n",
            "25%        46.000000\n",
            "50%        60.000000\n",
            "75%        76.850000\n",
            "max       152.200000\n",
            "Name: total_area, dtype: float64\n"
          ]
        },
        {
          "data": {
            "text/plain": [
              "<matplotlib.axes._subplots.AxesSubplot at 0x7fc519e77210>"
            ]
          },
          "execution_count": 57,
          "metadata": {},
          "output_type": "execute_result"
        },
        {
          "data": {
            "image/png": "[encoded data removed]",
            "text/plain": [
              "<Figure size 432x288 with 1 Axes>"
            ]
          },
          "metadata": {
            "needs_background": "light"
          },
          "output_type": "display_data"
        }
      ]
    },
    {
      "cell_type": "markdown",
      "metadata": {
        "id": "slF-cFNrsVCJ"
      },
      "source": [
        "Из диаграммы размаха и описания данных видим, что в центре города основная часть квартир имеет площадь в диапазоне 46-77 кв.м. Далее рассмотрим цены."
      ]
    },
    {
      "cell_type": "code",
      "metadata": {
        "id": "26tXxi9UsVCJ",
        "outputId": "170dad2e-2ca9-4d6d-fb5e-1e404feae9e4"
      },
      "source": [
        "print(center_data['last_price'].describe())\n",
        "sns.boxplot(center_data['last_price'])"
      ],
      "execution_count": null,
      "outputs": [
        {
          "name": "stdout",
          "output_type": "stream",
          "text": [
            "count    1.712000e+03\n",
            "mean     7.014173e+06\n",
            "std      2.142801e+06\n",
            "min      1.600000e+06\n",
            "25%      5.400000e+06\n",
            "50%      6.885000e+06\n",
            "75%      8.565000e+06\n",
            "max      1.154500e+07\n",
            "Name: last_price, dtype: float64\n"
          ]
        },
        {
          "data": {
            "text/plain": [
              "<matplotlib.axes._subplots.AxesSubplot at 0x7fc522545410>"
            ]
          },
          "execution_count": 58,
          "metadata": {},
          "output_type": "execute_result"
        },
        {
          "data": {
            "image/png": "[encoded data removed]",
            "text/plain": [
              "<Figure size 432x288 with 1 Axes>"
            ]
          },
          "metadata": {
            "needs_background": "light"
          },
          "output_type": "display_data"
        }
      ]
    },
    {
      "cell_type": "markdown",
      "metadata": {
        "id": "zhwO4eCfsVCJ"
      },
      "source": [
        "Из диаграммы размаха и описания данных видим, что в центре города цены в среднем находятся в диапазоне 1.6 - 8.6 млн рублей. Переходим к количеству комнат. "
      ]
    },
    {
      "cell_type": "code",
      "metadata": {
        "id": "3IaR04HSsVCJ",
        "outputId": "e20f3212-3c22-43ae-ca25-a0e266431e04"
      },
      "source": [
        "print(center_data['rooms'].describe())\n",
        "sns.boxplot(center_data['rooms'])"
      ],
      "execution_count": null,
      "outputs": [
        {
          "name": "stdout",
          "output_type": "stream",
          "text": [
            "count    1712.000000\n",
            "mean        2.233645\n",
            "std         0.955021\n",
            "min         1.000000\n",
            "25%         2.000000\n",
            "50%         2.000000\n",
            "75%         3.000000\n",
            "max         6.000000\n",
            "Name: rooms, dtype: float64\n"
          ]
        },
        {
          "data": {
            "text/plain": [
              "<matplotlib.axes._subplots.AxesSubplot at 0x7fc519d87350>"
            ]
          },
          "execution_count": 59,
          "metadata": {},
          "output_type": "execute_result"
        },
        {
          "data": {
            "image/png": "[encoded data removed]",
            "text/plain": [
              "<Figure size 432x288 with 1 Axes>"
            ]
          },
          "metadata": {
            "needs_background": "light"
          },
          "output_type": "display_data"
        }
      ]
    },
    {
      "cell_type": "markdown",
      "metadata": {
        "id": "Xk1mS95IsVCJ"
      },
      "source": [
        "Из диаграммы размаха и описания данных видим, что в центре города большинтсво квартир 2-3-комнатные. "
      ]
    },
    {
      "cell_type": "code",
      "metadata": {
        "id": "KFYdaHY8sVCK",
        "outputId": "24fd27db-481a-404c-ddb5-16c64126d20f"
      },
      "source": [
        "print(center_data['ceiling_height'].describe())\n",
        "sns.boxplot(center_data['ceiling_height'])"
      ],
      "execution_count": null,
      "outputs": [
        {
          "name": "stdout",
          "output_type": "stream",
          "text": [
            "count    1712.000000\n",
            "mean        2.811139\n",
            "std         0.223509\n",
            "min         2.510000\n",
            "25%         2.650000\n",
            "50%         2.650000\n",
            "75%         3.000000\n",
            "max         3.490000\n",
            "Name: ceiling_height, dtype: float64\n"
          ]
        },
        {
          "data": {
            "text/plain": [
              "<matplotlib.axes._subplots.AxesSubplot at 0x7fc519cf1850>"
            ]
          },
          "execution_count": 60,
          "metadata": {},
          "output_type": "execute_result"
        },
        {
          "data": {
            "image/png": "[encoded data removed]",
            "text/plain": [
              "<Figure size 432x288 with 1 Axes>"
            ]
          },
          "metadata": {
            "needs_background": "light"
          },
          "output_type": "display_data"
        }
      ]
    },
    {
      "cell_type": "markdown",
      "metadata": {
        "id": "1xMCbRy8sVCK"
      },
      "source": [
        "Высота потолков в квартирах в центре составляет 2.65 - 3 м. Также рассмотрим факторы, влияющие на стоимость квартиры: число комнат, этаж, удалённость от центра, дата размещения объявления."
      ]
    },
    {
      "cell_type": "code",
      "metadata": {
        "id": "IalBDk-jsVCK",
        "outputId": "bb500e46-a97c-4b91-a3a8-3f715ed511cf"
      },
      "source": [
        "sns.boxplot(x='rooms', y=\"last_price\", data=center_data)"
      ],
      "execution_count": null,
      "outputs": [
        {
          "data": {
            "text/plain": [
              "<matplotlib.axes._subplots.AxesSubplot at 0x7fc519cdc590>"
            ]
          },
          "execution_count": 61,
          "metadata": {},
          "output_type": "execute_result"
        },
        {
          "data": {
            "image/png": "[encoded data removed]",
            "text/plain": [
              "<Figure size 432x288 with 1 Axes>"
            ]
          },
          "metadata": {
            "needs_background": "light"
          },
          "output_type": "display_data"
        }
      ]
    },
    {
      "cell_type": "code",
      "metadata": {
        "id": "vWk5ovdasVCL",
        "outputId": "6347dc2b-23d3-4f57-9790-5f31660f9092"
      },
      "source": [
        "sns.boxplot(x='floor_category', y=\"last_price\", data=center_data)"
      ],
      "execution_count": null,
      "outputs": [
        {
          "data": {
            "text/plain": [
              "<matplotlib.axes._subplots.AxesSubplot at 0x7fc519bb9690>"
            ]
          },
          "execution_count": 62,
          "metadata": {},
          "output_type": "execute_result"
        },
        {
          "data": {
            "image/png": "[encoded data removed]",
            "text/plain": [
              "<Figure size 432x288 with 1 Axes>"
            ]
          },
          "metadata": {
            "needs_background": "light"
          },
          "output_type": "display_data"
        }
      ]
    },
    {
      "cell_type": "code",
      "metadata": {
        "id": "DRTim0KrsVCL",
        "outputId": "d3d4af4b-2282-48bc-cb22-db86cfc77530"
      },
      "source": [
        "sns.boxplot(x='center_km', y=\"last_price\", data=center_data)"
      ],
      "execution_count": null,
      "outputs": [
        {
          "data": {
            "text/plain": [
              "<matplotlib.axes._subplots.AxesSubplot at 0x7fc519b4ca90>"
            ]
          },
          "execution_count": 63,
          "metadata": {},
          "output_type": "execute_result"
        },
        {
          "data": {
            "image/png": "[encoded data removed]",
            "text/plain": [
              "<Figure size 432x288 with 1 Axes>"
            ]
          },
          "metadata": {
            "needs_background": "light"
          },
          "output_type": "display_data"
        }
      ]
    },
    {
      "cell_type": "code",
      "metadata": {
        "id": "V6Hpv8-3sVCL",
        "outputId": "3418f920-ecd3-44fa-b557-7f48e34969a4"
      },
      "source": [
        "sns.boxplot(x='weekday', y=\"last_price\", data=center_data)"
      ],
      "execution_count": null,
      "outputs": [
        {
          "data": {
            "text/plain": [
              "<matplotlib.axes._subplots.AxesSubplot at 0x7fc519a096d0>"
            ]
          },
          "execution_count": 64,
          "metadata": {},
          "output_type": "execute_result"
        },
        {
          "data": {
            "image/png": "[encoded data removed]",
            "text/plain": [
              "<Figure size 432x288 with 1 Axes>"
            ]
          },
          "metadata": {
            "needs_background": "light"
          },
          "output_type": "display_data"
        }
      ]
    },
    {
      "cell_type": "code",
      "metadata": {
        "id": "G9Stf9a7sVCM",
        "outputId": "467140a0-1734-45b9-ef48-c5f3f3121427"
      },
      "source": [
        "sns.boxplot(x='month', y=\"last_price\", data=center_data)"
      ],
      "execution_count": null,
      "outputs": [
        {
          "data": {
            "text/plain": [
              "<matplotlib.axes._subplots.AxesSubplot at 0x7fc5198f4190>"
            ]
          },
          "execution_count": 65,
          "metadata": {},
          "output_type": "execute_result"
        },
        {
          "data": {
            "image/png": "[encoded data removed]",
            "text/plain": [
              "<Figure size 432x288 with 1 Axes>"
            ]
          },
          "metadata": {
            "needs_background": "light"
          },
          "output_type": "display_data"
        }
      ]
    },
    {
      "cell_type": "code",
      "metadata": {
        "id": "M4AEtV2tsVCM",
        "outputId": "81ac9f7e-a50c-4c52-ae1f-99095e45985b"
      },
      "source": [
        "sns.boxplot(x='year', y=\"last_price\", data=center_data)"
      ],
      "execution_count": null,
      "outputs": [
        {
          "data": {
            "text/plain": [
              "<matplotlib.axes._subplots.AxesSubplot at 0x7fc5197e0410>"
            ]
          },
          "execution_count": 66,
          "metadata": {},
          "output_type": "execute_result"
        },
        {
          "data": {
            "image/png": "[encoded data removed]",
            "text/plain": [
              "<Figure size 432x288 with 1 Axes>"
            ]
          },
          "metadata": {
            "needs_background": "light"
          },
          "output_type": "display_data"
        }
      ]
    },
    {
      "cell_type": "markdown",
      "metadata": {
        "id": "2GnGZzlHsVCM"
      },
      "source": [
        "- Цены на квартиры в центре продаются в соответсвие с количеством комнат: чем больше комнат, тем дороже стоит квартира. Зависимость аналогична всем городам.\n",
        "- Этажность также влияет как и в других городах, квартиры на первом этаже продаются дешевле всего, затем квартиры на последнем этаже и дороже всего - квартиры на других этажах.\n",
        "- Удаленность от центра значительно влияет на цены, квартиры, расположенные в 1-2 км от центра наиболее дорогие.\n",
        "- По дням видно, что в воскресенье квартиры продаются дороже чем в другие дни недели. Среди других городов такого не наблюдалось.\n",
        "- В сентябре и ноябре 2015 - 2019 г. квартиры продавались дороже, в то время как в декабре были самые низкие цены. В то время как в других городах такой разницы не наблюдалось.\n",
        "- Рассматривая год продаж видим, что в 2016 квартиры продавались по более высокой цене чем в остальные четыре года. Сравнивая с основным анализом наблюдается разница, так как в 2019 наблюдались пиковые цены в других городах."
      ]
    },
    {
      "cell_type": "markdown",
      "metadata": {
        "id": "TW8VdI5nsVCM"
      },
      "source": [
        "## Общий вывод"
      ]
    },
    {
      "cell_type": "markdown",
      "metadata": {
        "id": "y_GTXe6MsVCM"
      },
      "source": [
        "В данном проекте были изучены и проанализованы объявления по продаже квартир на Яндекс.Недвижимости. Целью было определить параметры, которые влияют на рыночную стоимость квартиры. Данные были изучены, где необходимо, пропущенные значения найдены и заполнены. \n",
        "\n",
        "На основе данных были найдены дополнительные параметры, необходимые для дальнейшего анализа. Таким образом, параметры, влияющие на стоимость квартиры:\n",
        "\n",
        " - количество комнат: с увеличением количества комнат возрастает цена;\n",
        " - площадь квартиры: с увеличением площади увеличивается порядок цен;\n",
        " - этажность: квартиры на первом и последнем этажах дешевле;\n",
        " - расстояние до центра: чем дальше квартира расположена от центра, тем она дешевле."
      ]
    }
  ]
}