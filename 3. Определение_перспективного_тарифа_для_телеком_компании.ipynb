{
  "nbformat": 4,
  "nbformat_minor": 0,
  "metadata": {
    "kernelspec": {
      "display_name": "Python 3",
      "language": "python",
      "name": "python3"
    },
    "language_info": {
      "codemirror_mode": {
        "name": "ipython",
        "version": 3
      },
      "file_extension": ".py",
      "mimetype": "text/x-python",
      "name": "python",
      "nbconvert_exporter": "python",
      "pygments_lexer": "ipython3",
      "version": "3.7.8"
    },
    "toc": {
      "base_numbering": 1,
      "nav_menu": {},
      "number_sections": true,
      "sideBar": true,
      "skip_h1_title": true,
      "title_cell": "Содержание",
      "title_sidebar": "Contents",
      "toc_cell": true,
      "toc_position": {
        "height": "calc(100% - 180px)",
        "left": "10px",
        "top": "150px",
        "width": "165px"
      },
      "toc_section_display": true,
      "toc_window_display": false
    },
    "colab": {
      "name": "Определение перспективного тарифа для телеком компании.ipynb",
      "provenance": [],
      "collapsed_sections": []
    }
  },
  "cells": [
    {
      "cell_type": "markdown",
      "metadata": {
        "toc": true,
        "id": "WjKwuUKiu0C9"
      },
      "source": [
        "<h1>Содержание<span class=\"tocSkip\"></span></h1>\n",
        "<div class=\"toc\"><ul class=\"toc-item\"><li><span><a href=\"#Изучение-данных-из-файла\" data-toc-modified-id=\"Изучение-данных-из-файла-1\"><span class=\"toc-item-num\">1&nbsp;&nbsp;</span>Изучение данных из файла</a></span></li><li><span><a href=\"#Подготовка-данных-и-расчеты\" data-toc-modified-id=\"Подготовка-данных-и-расчеты-2\"><span class=\"toc-item-num\">2&nbsp;&nbsp;</span>Подготовка данных и расчеты</a></span></li><li><span><a href=\"#Анализ-данных\" data-toc-modified-id=\"Анализ-данных-3\"><span class=\"toc-item-num\">3&nbsp;&nbsp;</span>Анализ данных</a></span></li><li><span><a href=\"#Проверка-гипотез\" data-toc-modified-id=\"Проверка-гипотез-4\"><span class=\"toc-item-num\">4&nbsp;&nbsp;</span>Проверка гипотез</a></span></li><li><span><a href=\"#Общий-вывод\" data-toc-modified-id=\"Общий-вывод-5\"><span class=\"toc-item-num\">5&nbsp;&nbsp;</span>Общий вывод</a></span></li></ul></div>"
      ]
    },
    {
      "cell_type": "markdown",
      "metadata": {
        "id": "-DLltUO1u0C9"
      },
      "source": [
        "# Определение перспективного тарифа для телеком компании\n",
        "\n",
        "Вы аналитик компании «Мегалайн» — федерального оператора сотовой связи. Клиентам предлагают два тарифных плана: «Смарт» и «Ультра». Чтобы скорректировать рекламный бюджет, коммерческий департамент хочет понять, какой тариф приносит больше денег.\n",
        "\n",
        "Вам предстоит сделать предварительный анализ тарифов на небольшой выборке клиентов. В вашем распоряжении данные 500 пользователей «Мегалайна»: кто они, откуда, каким тарифом пользуются, сколько звонков и сообщений каждый отправил за 2018 год. Нужно проанализировать поведение клиентов и сделать вывод — какой тариф лучше.\n",
        "\n",
        "Описание данных: \n",
        "\n",
        "Таблица users (информация о пользователях):\n",
        "- user_id — уникальный идентификатор пользователя\n",
        "- first_name — имя пользователя\n",
        "- last_name — фамилия пользователя\n",
        "- age — возраст пользователя (годы)\n",
        "- reg_date — дата подключения тарифа (день, месяц, год)\n",
        "- churn_date — дата прекращения пользования тарифом (если значение пропущено, то тариф ещё действовал на момент выгрузки данных)\n",
        "- city — город проживания пользователя\n",
        "- tariff — название тарифного плана\n",
        "\n",
        "Таблица calls (информация о звонках):\n",
        "- id — уникальный номер звонка\n",
        "- call_date — дата звонка\n",
        "- duration — длительность звонка в минутах\n",
        "- user_id — идентификатор пользователя, сделавшего звонок\n",
        "\n",
        "Таблица messages (информация о сообщениях):\n",
        "- id — уникальный номер сообщения\n",
        "- message_date — дата сообщения\n",
        "- user_id — идентификатор пользователя, отправившего сообщение\n",
        "\n",
        "Таблица internet (информация об интернет-сессиях):\n",
        "- id — уникальный номер сессии\n",
        "- mb_used — объём потраченного за сессию интернет-трафика (в мегабайтах)\n",
        "- session_date — дата интернет-сессии\n",
        "- user_id — идентификатор пользователя\n",
        "\n",
        "Таблица tariffs (информация о тарифах):\n",
        "- tariff_name — название тарифа\n",
        "- rub_monthly_fee — ежемесячная абонентская плата в рублях\n",
        "- minutes_included — количество минут разговора в месяц, включённых в абонентскую плату\n",
        "- messages_included — количество сообщений в месяц, включённых в абонентскую плату\n",
        "- mb_per_month_included — объём интернет-трафика, включённого в абонентскую плату (в мегабайтах)\n",
        "- rub_per_minute — стоимость минуты разговора сверх тарифного пакета (например, если в тарифе 100 минут разговора в месяц, то со 101 минуты будет взиматься плата)\n",
        "- rub_per_message — стоимость отправки сообщения сверх тарифного пакета\n",
        "- rub_per_gb — стоимость дополнительного гигабайта интернет-трафика сверх тарифного пакета (1 гигабайт = 1024 мегабайта)\n"
      ]
    },
    {
      "cell_type": "markdown",
      "metadata": {
        "id": "fpjK85ZNu0C_"
      },
      "source": [
        "## Изучение данных из файла"
      ]
    },
    {
      "cell_type": "code",
      "metadata": {
        "id": "OWZzLeAKu0C_"
      },
      "source": [
        "import pandas as pd\n",
        "import numpy as np\n",
        "from scipy import stats as st\n",
        "import seaborn as sns\n",
        "import matplotlib.pyplot as plt"
      ],
      "execution_count": null,
      "outputs": []
    },
    {
      "cell_type": "code",
      "metadata": {
        "id": "HRiHwTpOu0DA"
      },
      "source": [
        "calls = pd.read_csv('/datasets/calls.csv')\n",
        "internet = pd.read_csv('/datasets/internet.csv')\n",
        "messages = pd.read_csv('/datasets/messages.csv')\n",
        "tariffs = pd.read_csv('/datasets/tariffs.csv')\n",
        "users = pd.read_csv('/datasets/users.csv')"
      ],
      "execution_count": null,
      "outputs": []
    },
    {
      "cell_type": "code",
      "metadata": {
        "id": "Tg3ILVlzu0DB",
        "outputId": "8b4bb395-7a58-42e0-bec7-1e3fba820625"
      },
      "source": [
        "calls.info()\n",
        "calls.head()"
      ],
      "execution_count": null,
      "outputs": [
        {
          "name": "stdout",
          "output_type": "stream",
          "text": [
            "<class 'pandas.core.frame.DataFrame'>\n",
            "RangeIndex: 202607 entries, 0 to 202606\n",
            "Data columns (total 4 columns):\n",
            "id           202607 non-null object\n",
            "call_date    202607 non-null object\n",
            "duration     202607 non-null float64\n",
            "user_id      202607 non-null int64\n",
            "dtypes: float64(1), int64(1), object(2)\n",
            "memory usage: 6.2+ MB\n"
          ]
        },
        {
          "data": {
            "text/html": [
              "<div>\n",
              "<style scoped>\n",
              "    .dataframe tbody tr th:only-of-type {\n",
              "        vertical-align: middle;\n",
              "    }\n",
              "\n",
              "    .dataframe tbody tr th {\n",
              "        vertical-align: top;\n",
              "    }\n",
              "\n",
              "    .dataframe thead th {\n",
              "        text-align: right;\n",
              "    }\n",
              "</style>\n",
              "<table border=\"1\" class=\"dataframe\">\n",
              "  <thead>\n",
              "    <tr style=\"text-align: right;\">\n",
              "      <th></th>\n",
              "      <th>id</th>\n",
              "      <th>call_date</th>\n",
              "      <th>duration</th>\n",
              "      <th>user_id</th>\n",
              "    </tr>\n",
              "  </thead>\n",
              "  <tbody>\n",
              "    <tr>\n",
              "      <td>0</td>\n",
              "      <td>1000_0</td>\n",
              "      <td>2018-07-25</td>\n",
              "      <td>0.00</td>\n",
              "      <td>1000</td>\n",
              "    </tr>\n",
              "    <tr>\n",
              "      <td>1</td>\n",
              "      <td>1000_1</td>\n",
              "      <td>2018-08-17</td>\n",
              "      <td>0.00</td>\n",
              "      <td>1000</td>\n",
              "    </tr>\n",
              "    <tr>\n",
              "      <td>2</td>\n",
              "      <td>1000_2</td>\n",
              "      <td>2018-06-11</td>\n",
              "      <td>2.85</td>\n",
              "      <td>1000</td>\n",
              "    </tr>\n",
              "    <tr>\n",
              "      <td>3</td>\n",
              "      <td>1000_3</td>\n",
              "      <td>2018-09-21</td>\n",
              "      <td>13.80</td>\n",
              "      <td>1000</td>\n",
              "    </tr>\n",
              "    <tr>\n",
              "      <td>4</td>\n",
              "      <td>1000_4</td>\n",
              "      <td>2018-12-15</td>\n",
              "      <td>5.18</td>\n",
              "      <td>1000</td>\n",
              "    </tr>\n",
              "  </tbody>\n",
              "</table>\n",
              "</div>"
            ],
            "text/plain": [
              "       id   call_date  duration  user_id\n",
              "0  1000_0  2018-07-25      0.00     1000\n",
              "1  1000_1  2018-08-17      0.00     1000\n",
              "2  1000_2  2018-06-11      2.85     1000\n",
              "3  1000_3  2018-09-21     13.80     1000\n",
              "4  1000_4  2018-12-15      5.18     1000"
            ]
          },
          "execution_count": 3,
          "metadata": {},
          "output_type": "execute_result"
        }
      ]
    },
    {
      "cell_type": "code",
      "metadata": {
        "id": "tNJagCjHu0DB",
        "outputId": "81e05b5a-25bc-4300-ad13-c3e900c0cd6a"
      },
      "source": [
        "calls.isnull().sum()"
      ],
      "execution_count": null,
      "outputs": [
        {
          "data": {
            "text/plain": [
              "id           0\n",
              "call_date    0\n",
              "duration     0\n",
              "user_id      0\n",
              "dtype: int64"
            ]
          },
          "execution_count": 4,
          "metadata": {},
          "output_type": "execute_result"
        }
      ]
    },
    {
      "cell_type": "code",
      "metadata": {
        "id": "nNmd_a0mu0DC",
        "outputId": "2b53d837-f4fe-4e31-f3a3-85214cd180a6"
      },
      "source": [
        "calls.duplicated().sum()"
      ],
      "execution_count": null,
      "outputs": [
        {
          "data": {
            "text/plain": [
              "0"
            ]
          },
          "execution_count": 5,
          "metadata": {},
          "output_type": "execute_result"
        }
      ]
    },
    {
      "cell_type": "code",
      "metadata": {
        "id": "PydvymLIu0DC",
        "outputId": "fde2831b-5043-4051-b86b-c9f68cb2a13a"
      },
      "source": [
        "internet.info()\n",
        "internet.head()"
      ],
      "execution_count": null,
      "outputs": [
        {
          "name": "stdout",
          "output_type": "stream",
          "text": [
            "<class 'pandas.core.frame.DataFrame'>\n",
            "RangeIndex: 149396 entries, 0 to 149395\n",
            "Data columns (total 5 columns):\n",
            "Unnamed: 0      149396 non-null int64\n",
            "id              149396 non-null object\n",
            "mb_used         149396 non-null float64\n",
            "session_date    149396 non-null object\n",
            "user_id         149396 non-null int64\n",
            "dtypes: float64(1), int64(2), object(2)\n",
            "memory usage: 5.7+ MB\n"
          ]
        },
        {
          "data": {
            "text/html": [
              "<div>\n",
              "<style scoped>\n",
              "    .dataframe tbody tr th:only-of-type {\n",
              "        vertical-align: middle;\n",
              "    }\n",
              "\n",
              "    .dataframe tbody tr th {\n",
              "        vertical-align: top;\n",
              "    }\n",
              "\n",
              "    .dataframe thead th {\n",
              "        text-align: right;\n",
              "    }\n",
              "</style>\n",
              "<table border=\"1\" class=\"dataframe\">\n",
              "  <thead>\n",
              "    <tr style=\"text-align: right;\">\n",
              "      <th></th>\n",
              "      <th>Unnamed: 0</th>\n",
              "      <th>id</th>\n",
              "      <th>mb_used</th>\n",
              "      <th>session_date</th>\n",
              "      <th>user_id</th>\n",
              "    </tr>\n",
              "  </thead>\n",
              "  <tbody>\n",
              "    <tr>\n",
              "      <td>0</td>\n",
              "      <td>0</td>\n",
              "      <td>1000_0</td>\n",
              "      <td>112.95</td>\n",
              "      <td>2018-11-25</td>\n",
              "      <td>1000</td>\n",
              "    </tr>\n",
              "    <tr>\n",
              "      <td>1</td>\n",
              "      <td>1</td>\n",
              "      <td>1000_1</td>\n",
              "      <td>1052.81</td>\n",
              "      <td>2018-09-07</td>\n",
              "      <td>1000</td>\n",
              "    </tr>\n",
              "    <tr>\n",
              "      <td>2</td>\n",
              "      <td>2</td>\n",
              "      <td>1000_2</td>\n",
              "      <td>1197.26</td>\n",
              "      <td>2018-06-25</td>\n",
              "      <td>1000</td>\n",
              "    </tr>\n",
              "    <tr>\n",
              "      <td>3</td>\n",
              "      <td>3</td>\n",
              "      <td>1000_3</td>\n",
              "      <td>550.27</td>\n",
              "      <td>2018-08-22</td>\n",
              "      <td>1000</td>\n",
              "    </tr>\n",
              "    <tr>\n",
              "      <td>4</td>\n",
              "      <td>4</td>\n",
              "      <td>1000_4</td>\n",
              "      <td>302.56</td>\n",
              "      <td>2018-09-24</td>\n",
              "      <td>1000</td>\n",
              "    </tr>\n",
              "  </tbody>\n",
              "</table>\n",
              "</div>"
            ],
            "text/plain": [
              "   Unnamed: 0      id  mb_used session_date  user_id\n",
              "0           0  1000_0   112.95   2018-11-25     1000\n",
              "1           1  1000_1  1052.81   2018-09-07     1000\n",
              "2           2  1000_2  1197.26   2018-06-25     1000\n",
              "3           3  1000_3   550.27   2018-08-22     1000\n",
              "4           4  1000_4   302.56   2018-09-24     1000"
            ]
          },
          "execution_count": 6,
          "metadata": {},
          "output_type": "execute_result"
        }
      ]
    },
    {
      "cell_type": "markdown",
      "metadata": {
        "id": "lpFMsAw9u0DD"
      },
      "source": [
        "В таблице можем заметить столбец Unnamed, в котором нет необходимости, так как он повторяет уже имеющуюся индексацию."
      ]
    },
    {
      "cell_type": "code",
      "metadata": {
        "id": "Txz6zWgGu0DE"
      },
      "source": [
        "internet = internet.drop('Unnamed: 0', 1)"
      ],
      "execution_count": null,
      "outputs": []
    },
    {
      "cell_type": "code",
      "metadata": {
        "scrolled": true,
        "id": "pNvemJ7gu0DE",
        "outputId": "59f7928a-3d64-462c-afc4-f76d539cdc3a"
      },
      "source": [
        "internet.head()"
      ],
      "execution_count": null,
      "outputs": [
        {
          "data": {
            "text/html": [
              "<div>\n",
              "<style scoped>\n",
              "    .dataframe tbody tr th:only-of-type {\n",
              "        vertical-align: middle;\n",
              "    }\n",
              "\n",
              "    .dataframe tbody tr th {\n",
              "        vertical-align: top;\n",
              "    }\n",
              "\n",
              "    .dataframe thead th {\n",
              "        text-align: right;\n",
              "    }\n",
              "</style>\n",
              "<table border=\"1\" class=\"dataframe\">\n",
              "  <thead>\n",
              "    <tr style=\"text-align: right;\">\n",
              "      <th></th>\n",
              "      <th>id</th>\n",
              "      <th>mb_used</th>\n",
              "      <th>session_date</th>\n",
              "      <th>user_id</th>\n",
              "    </tr>\n",
              "  </thead>\n",
              "  <tbody>\n",
              "    <tr>\n",
              "      <td>0</td>\n",
              "      <td>1000_0</td>\n",
              "      <td>112.95</td>\n",
              "      <td>2018-11-25</td>\n",
              "      <td>1000</td>\n",
              "    </tr>\n",
              "    <tr>\n",
              "      <td>1</td>\n",
              "      <td>1000_1</td>\n",
              "      <td>1052.81</td>\n",
              "      <td>2018-09-07</td>\n",
              "      <td>1000</td>\n",
              "    </tr>\n",
              "    <tr>\n",
              "      <td>2</td>\n",
              "      <td>1000_2</td>\n",
              "      <td>1197.26</td>\n",
              "      <td>2018-06-25</td>\n",
              "      <td>1000</td>\n",
              "    </tr>\n",
              "    <tr>\n",
              "      <td>3</td>\n",
              "      <td>1000_3</td>\n",
              "      <td>550.27</td>\n",
              "      <td>2018-08-22</td>\n",
              "      <td>1000</td>\n",
              "    </tr>\n",
              "    <tr>\n",
              "      <td>4</td>\n",
              "      <td>1000_4</td>\n",
              "      <td>302.56</td>\n",
              "      <td>2018-09-24</td>\n",
              "      <td>1000</td>\n",
              "    </tr>\n",
              "  </tbody>\n",
              "</table>\n",
              "</div>"
            ],
            "text/plain": [
              "       id  mb_used session_date  user_id\n",
              "0  1000_0   112.95   2018-11-25     1000\n",
              "1  1000_1  1052.81   2018-09-07     1000\n",
              "2  1000_2  1197.26   2018-06-25     1000\n",
              "3  1000_3   550.27   2018-08-22     1000\n",
              "4  1000_4   302.56   2018-09-24     1000"
            ]
          },
          "execution_count": 8,
          "metadata": {},
          "output_type": "execute_result"
        }
      ]
    },
    {
      "cell_type": "code",
      "metadata": {
        "id": "8skyvPFUu0DF",
        "outputId": "c815b0c2-f5fa-4c03-805f-a41d042442c4"
      },
      "source": [
        "internet.isnull().sum()"
      ],
      "execution_count": null,
      "outputs": [
        {
          "data": {
            "text/plain": [
              "id              0\n",
              "mb_used         0\n",
              "session_date    0\n",
              "user_id         0\n",
              "dtype: int64"
            ]
          },
          "execution_count": 9,
          "metadata": {},
          "output_type": "execute_result"
        }
      ]
    },
    {
      "cell_type": "code",
      "metadata": {
        "id": "cOxM2RVmu0DF",
        "outputId": "b4e6b4a4-35d3-4351-996d-14cf0e354464"
      },
      "source": [
        "internet.duplicated().sum()"
      ],
      "execution_count": null,
      "outputs": [
        {
          "data": {
            "text/plain": [
              "0"
            ]
          },
          "execution_count": 10,
          "metadata": {},
          "output_type": "execute_result"
        }
      ]
    },
    {
      "cell_type": "code",
      "metadata": {
        "scrolled": true,
        "id": "R93k768-u0DF",
        "outputId": "733780c6-9dde-449f-9db3-d768e62ee382"
      },
      "source": [
        "messages.info()\n",
        "messages.head()"
      ],
      "execution_count": null,
      "outputs": [
        {
          "name": "stdout",
          "output_type": "stream",
          "text": [
            "<class 'pandas.core.frame.DataFrame'>\n",
            "RangeIndex: 123036 entries, 0 to 123035\n",
            "Data columns (total 3 columns):\n",
            "id              123036 non-null object\n",
            "message_date    123036 non-null object\n",
            "user_id         123036 non-null int64\n",
            "dtypes: int64(1), object(2)\n",
            "memory usage: 2.8+ MB\n"
          ]
        },
        {
          "data": {
            "text/html": [
              "<div>\n",
              "<style scoped>\n",
              "    .dataframe tbody tr th:only-of-type {\n",
              "        vertical-align: middle;\n",
              "    }\n",
              "\n",
              "    .dataframe tbody tr th {\n",
              "        vertical-align: top;\n",
              "    }\n",
              "\n",
              "    .dataframe thead th {\n",
              "        text-align: right;\n",
              "    }\n",
              "</style>\n",
              "<table border=\"1\" class=\"dataframe\">\n",
              "  <thead>\n",
              "    <tr style=\"text-align: right;\">\n",
              "      <th></th>\n",
              "      <th>id</th>\n",
              "      <th>message_date</th>\n",
              "      <th>user_id</th>\n",
              "    </tr>\n",
              "  </thead>\n",
              "  <tbody>\n",
              "    <tr>\n",
              "      <td>0</td>\n",
              "      <td>1000_0</td>\n",
              "      <td>2018-06-27</td>\n",
              "      <td>1000</td>\n",
              "    </tr>\n",
              "    <tr>\n",
              "      <td>1</td>\n",
              "      <td>1000_1</td>\n",
              "      <td>2018-10-08</td>\n",
              "      <td>1000</td>\n",
              "    </tr>\n",
              "    <tr>\n",
              "      <td>2</td>\n",
              "      <td>1000_2</td>\n",
              "      <td>2018-08-04</td>\n",
              "      <td>1000</td>\n",
              "    </tr>\n",
              "    <tr>\n",
              "      <td>3</td>\n",
              "      <td>1000_3</td>\n",
              "      <td>2018-06-16</td>\n",
              "      <td>1000</td>\n",
              "    </tr>\n",
              "    <tr>\n",
              "      <td>4</td>\n",
              "      <td>1000_4</td>\n",
              "      <td>2018-12-05</td>\n",
              "      <td>1000</td>\n",
              "    </tr>\n",
              "  </tbody>\n",
              "</table>\n",
              "</div>"
            ],
            "text/plain": [
              "       id message_date  user_id\n",
              "0  1000_0   2018-06-27     1000\n",
              "1  1000_1   2018-10-08     1000\n",
              "2  1000_2   2018-08-04     1000\n",
              "3  1000_3   2018-06-16     1000\n",
              "4  1000_4   2018-12-05     1000"
            ]
          },
          "execution_count": 11,
          "metadata": {},
          "output_type": "execute_result"
        }
      ]
    },
    {
      "cell_type": "code",
      "metadata": {
        "id": "McqOP7svu0DG",
        "outputId": "7e610a92-20a3-425c-bdb7-f6414f2afa85"
      },
      "source": [
        "messages.isnull().sum()"
      ],
      "execution_count": null,
      "outputs": [
        {
          "data": {
            "text/plain": [
              "id              0\n",
              "message_date    0\n",
              "user_id         0\n",
              "dtype: int64"
            ]
          },
          "execution_count": 12,
          "metadata": {},
          "output_type": "execute_result"
        }
      ]
    },
    {
      "cell_type": "code",
      "metadata": {
        "id": "IrYInZoTu0DG",
        "outputId": "b752a337-e182-48df-c2c9-fbffde2e0c13"
      },
      "source": [
        "messages.duplicated().sum()"
      ],
      "execution_count": null,
      "outputs": [
        {
          "data": {
            "text/plain": [
              "0"
            ]
          },
          "execution_count": 13,
          "metadata": {},
          "output_type": "execute_result"
        }
      ]
    },
    {
      "cell_type": "code",
      "metadata": {
        "scrolled": true,
        "id": "J7ex3AEDu0DH",
        "outputId": "c5c159a1-0e8d-4ca8-e642-e2c0ee10a3ad"
      },
      "source": [
        "tariffs.info()\n",
        "tariffs.head()"
      ],
      "execution_count": null,
      "outputs": [
        {
          "name": "stdout",
          "output_type": "stream",
          "text": [
            "<class 'pandas.core.frame.DataFrame'>\n",
            "RangeIndex: 2 entries, 0 to 1\n",
            "Data columns (total 8 columns):\n",
            "messages_included        2 non-null int64\n",
            "mb_per_month_included    2 non-null int64\n",
            "minutes_included         2 non-null int64\n",
            "rub_monthly_fee          2 non-null int64\n",
            "rub_per_gb               2 non-null int64\n",
            "rub_per_message          2 non-null int64\n",
            "rub_per_minute           2 non-null int64\n",
            "tariff_name              2 non-null object\n",
            "dtypes: int64(7), object(1)\n",
            "memory usage: 256.0+ bytes\n"
          ]
        },
        {
          "data": {
            "text/html": [
              "<div>\n",
              "<style scoped>\n",
              "    .dataframe tbody tr th:only-of-type {\n",
              "        vertical-align: middle;\n",
              "    }\n",
              "\n",
              "    .dataframe tbody tr th {\n",
              "        vertical-align: top;\n",
              "    }\n",
              "\n",
              "    .dataframe thead th {\n",
              "        text-align: right;\n",
              "    }\n",
              "</style>\n",
              "<table border=\"1\" class=\"dataframe\">\n",
              "  <thead>\n",
              "    <tr style=\"text-align: right;\">\n",
              "      <th></th>\n",
              "      <th>messages_included</th>\n",
              "      <th>mb_per_month_included</th>\n",
              "      <th>minutes_included</th>\n",
              "      <th>rub_monthly_fee</th>\n",
              "      <th>rub_per_gb</th>\n",
              "      <th>rub_per_message</th>\n",
              "      <th>rub_per_minute</th>\n",
              "      <th>tariff_name</th>\n",
              "    </tr>\n",
              "  </thead>\n",
              "  <tbody>\n",
              "    <tr>\n",
              "      <td>0</td>\n",
              "      <td>50</td>\n",
              "      <td>15360</td>\n",
              "      <td>500</td>\n",
              "      <td>550</td>\n",
              "      <td>200</td>\n",
              "      <td>3</td>\n",
              "      <td>3</td>\n",
              "      <td>smart</td>\n",
              "    </tr>\n",
              "    <tr>\n",
              "      <td>1</td>\n",
              "      <td>1000</td>\n",
              "      <td>30720</td>\n",
              "      <td>3000</td>\n",
              "      <td>1950</td>\n",
              "      <td>150</td>\n",
              "      <td>1</td>\n",
              "      <td>1</td>\n",
              "      <td>ultra</td>\n",
              "    </tr>\n",
              "  </tbody>\n",
              "</table>\n",
              "</div>"
            ],
            "text/plain": [
              "   messages_included  mb_per_month_included  minutes_included  \\\n",
              "0                 50                  15360               500   \n",
              "1               1000                  30720              3000   \n",
              "\n",
              "   rub_monthly_fee  rub_per_gb  rub_per_message  rub_per_minute tariff_name  \n",
              "0              550         200                3               3       smart  \n",
              "1             1950         150                1               1       ultra  "
            ]
          },
          "execution_count": 14,
          "metadata": {},
          "output_type": "execute_result"
        }
      ]
    },
    {
      "cell_type": "code",
      "metadata": {
        "id": "VezoOCFQu0DH",
        "outputId": "5c8bbe2f-add5-4809-8447-4c60dfdb0347"
      },
      "source": [
        "users.info()\n",
        "users.head()"
      ],
      "execution_count": null,
      "outputs": [
        {
          "name": "stdout",
          "output_type": "stream",
          "text": [
            "<class 'pandas.core.frame.DataFrame'>\n",
            "RangeIndex: 500 entries, 0 to 499\n",
            "Data columns (total 8 columns):\n",
            "user_id       500 non-null int64\n",
            "age           500 non-null int64\n",
            "churn_date    38 non-null object\n",
            "city          500 non-null object\n",
            "first_name    500 non-null object\n",
            "last_name     500 non-null object\n",
            "reg_date      500 non-null object\n",
            "tariff        500 non-null object\n",
            "dtypes: int64(2), object(6)\n",
            "memory usage: 31.4+ KB\n"
          ]
        },
        {
          "data": {
            "text/html": [
              "<div>\n",
              "<style scoped>\n",
              "    .dataframe tbody tr th:only-of-type {\n",
              "        vertical-align: middle;\n",
              "    }\n",
              "\n",
              "    .dataframe tbody tr th {\n",
              "        vertical-align: top;\n",
              "    }\n",
              "\n",
              "    .dataframe thead th {\n",
              "        text-align: right;\n",
              "    }\n",
              "</style>\n",
              "<table border=\"1\" class=\"dataframe\">\n",
              "  <thead>\n",
              "    <tr style=\"text-align: right;\">\n",
              "      <th></th>\n",
              "      <th>user_id</th>\n",
              "      <th>age</th>\n",
              "      <th>churn_date</th>\n",
              "      <th>city</th>\n",
              "      <th>first_name</th>\n",
              "      <th>last_name</th>\n",
              "      <th>reg_date</th>\n",
              "      <th>tariff</th>\n",
              "    </tr>\n",
              "  </thead>\n",
              "  <tbody>\n",
              "    <tr>\n",
              "      <td>0</td>\n",
              "      <td>1000</td>\n",
              "      <td>52</td>\n",
              "      <td>NaN</td>\n",
              "      <td>Краснодар</td>\n",
              "      <td>Рафаил</td>\n",
              "      <td>Верещагин</td>\n",
              "      <td>2018-05-25</td>\n",
              "      <td>ultra</td>\n",
              "    </tr>\n",
              "    <tr>\n",
              "      <td>1</td>\n",
              "      <td>1001</td>\n",
              "      <td>41</td>\n",
              "      <td>NaN</td>\n",
              "      <td>Москва</td>\n",
              "      <td>Иван</td>\n",
              "      <td>Ежов</td>\n",
              "      <td>2018-11-01</td>\n",
              "      <td>smart</td>\n",
              "    </tr>\n",
              "    <tr>\n",
              "      <td>2</td>\n",
              "      <td>1002</td>\n",
              "      <td>59</td>\n",
              "      <td>NaN</td>\n",
              "      <td>Стерлитамак</td>\n",
              "      <td>Евгений</td>\n",
              "      <td>Абрамович</td>\n",
              "      <td>2018-06-17</td>\n",
              "      <td>smart</td>\n",
              "    </tr>\n",
              "    <tr>\n",
              "      <td>3</td>\n",
              "      <td>1003</td>\n",
              "      <td>23</td>\n",
              "      <td>NaN</td>\n",
              "      <td>Москва</td>\n",
              "      <td>Белла</td>\n",
              "      <td>Белякова</td>\n",
              "      <td>2018-08-17</td>\n",
              "      <td>ultra</td>\n",
              "    </tr>\n",
              "    <tr>\n",
              "      <td>4</td>\n",
              "      <td>1004</td>\n",
              "      <td>68</td>\n",
              "      <td>NaN</td>\n",
              "      <td>Новокузнецк</td>\n",
              "      <td>Татьяна</td>\n",
              "      <td>Авдеенко</td>\n",
              "      <td>2018-05-14</td>\n",
              "      <td>ultra</td>\n",
              "    </tr>\n",
              "  </tbody>\n",
              "</table>\n",
              "</div>"
            ],
            "text/plain": [
              "   user_id  age churn_date         city first_name  last_name    reg_date  \\\n",
              "0     1000   52        NaN    Краснодар     Рафаил  Верещагин  2018-05-25   \n",
              "1     1001   41        NaN       Москва       Иван       Ежов  2018-11-01   \n",
              "2     1002   59        NaN  Стерлитамак    Евгений  Абрамович  2018-06-17   \n",
              "3     1003   23        NaN       Москва      Белла   Белякова  2018-08-17   \n",
              "4     1004   68        NaN  Новокузнецк    Татьяна   Авдеенко  2018-05-14   \n",
              "\n",
              "  tariff  \n",
              "0  ultra  \n",
              "1  smart  \n",
              "2  smart  \n",
              "3  ultra  \n",
              "4  ultra  "
            ]
          },
          "execution_count": 15,
          "metadata": {},
          "output_type": "execute_result"
        }
      ]
    },
    {
      "cell_type": "code",
      "metadata": {
        "id": "PPfF-uvTu0DH",
        "outputId": "80178132-31df-41c2-c998-8f4e92295f87"
      },
      "source": [
        "users.isnull().sum()"
      ],
      "execution_count": null,
      "outputs": [
        {
          "data": {
            "text/plain": [
              "user_id         0\n",
              "age             0\n",
              "churn_date    462\n",
              "city            0\n",
              "first_name      0\n",
              "last_name       0\n",
              "reg_date        0\n",
              "tariff          0\n",
              "dtype: int64"
            ]
          },
          "execution_count": 16,
          "metadata": {},
          "output_type": "execute_result"
        }
      ]
    },
    {
      "cell_type": "code",
      "metadata": {
        "id": "c9YOW_vJu0DI",
        "outputId": "487b11ae-34db-4cbf-887d-21718e9a3463"
      },
      "source": [
        "users.duplicated().sum()"
      ],
      "execution_count": null,
      "outputs": [
        {
          "data": {
            "text/plain": [
              "0"
            ]
          },
          "execution_count": 17,
          "metadata": {},
          "output_type": "execute_result"
        }
      ]
    },
    {
      "cell_type": "markdown",
      "metadata": {
        "id": "WBfvO1C7u0DI"
      },
      "source": [
        "В первом шаге были прочитаны файлы с данными о звонках, интернет-трафике, сообщениях, тарифах и пользователях, сохранены в таблицы с соответствующими названиями и по ним была получена общая информация с помощью функции *info*. Также были проверены данные на пропущенные и повторяющиеся значения, которые найдены не были помимо пропущенных значений в столбце с датой прекращения пользования тарифом, что объясняется тем, что на момент выгрузки данных тариф еще действовал.\n",
        "\n",
        "Перейдем к предобработке данных."
      ]
    },
    {
      "cell_type": "markdown",
      "metadata": {
        "id": "-OazMwkGu0DJ"
      },
      "source": [
        "## Подготовка данных и расчеты"
      ]
    },
    {
      "cell_type": "markdown",
      "metadata": {
        "id": "Yl3mW_pUu0DJ"
      },
      "source": [
        "В данном шаге необходимо привести данные к нужному типу, найти и исправить ошибки, а также посчитать некоторые параметры для каждого пользователя."
      ]
    },
    {
      "cell_type": "code",
      "metadata": {
        "id": "qsOf3slGu0DJ"
      },
      "source": [
        "calls['call_date'] = pd.to_datetime(calls['call_date'], format='%Y-%m-%d')\n",
        "internet['session_date'] = pd.to_datetime(internet['session_date'], format='%Y-%m-%d')\n",
        "messages['message_date'] = pd.to_datetime(messages['message_date'], format='%Y-%m-%d')\n",
        "users['reg_date'] = pd.to_datetime(users['reg_date'], format='%Y-%m-%d')\n",
        "users['churn_date'] = pd.to_datetime(users['churn_date'], format='%Y-%m-%d')"
      ],
      "execution_count": null,
      "outputs": []
    },
    {
      "cell_type": "markdown",
      "metadata": {
        "id": "IBcmT7dSu0DK"
      },
      "source": [
        "В столбцах с датами заменили данные на тип *datetime*."
      ]
    },
    {
      "cell_type": "code",
      "metadata": {
        "id": "AwIQA654u0DK"
      },
      "source": [
        "calls['duration'] = np.ceil(calls['duration']).astype('int')\n",
        "internet['mb_used'] = np.ceil(internet['mb_used']).astype('int')"
      ],
      "execution_count": null,
      "outputs": []
    },
    {
      "cell_type": "markdown",
      "metadata": {
        "id": "zDcYKmATu0DK"
      },
      "source": [
        "Так как значения минут и мегабайтов в тарифах всегда округляются вверх, воспользовались функцией *ceil* и также изменили тип данных на целочисленный. \n",
        "\n",
        "Рассмотрим ошибки в данных. В датасете звонков уже в первых двух строчках можем видеть, что длительность разговора составляла 0 минут. Данные звонки можно рассматривать как пропущенные, поэтому они не повлияют на дальнейший анализ и их можно отбросить из выборки. Проведем то же самое с истраченными мегабайтами,  равными 0. Сделаем проверку после данной обработки."
      ]
    },
    {
      "cell_type": "code",
      "metadata": {
        "id": "40E5CR8Yu0DL"
      },
      "source": [
        "calls = calls.query('duration != 0')\n",
        "internet = internet.query('mb_used != 0')"
      ],
      "execution_count": null,
      "outputs": []
    },
    {
      "cell_type": "code",
      "metadata": {
        "id": "20iTaKOzu0DL",
        "outputId": "dff2184b-7478-49ca-c167-521ff0fcf051"
      },
      "source": [
        "calls.info()\n",
        "internet.info()"
      ],
      "execution_count": null,
      "outputs": [
        {
          "name": "stdout",
          "output_type": "stream",
          "text": [
            "<class 'pandas.core.frame.DataFrame'>\n",
            "Int64Index: 162994 entries, 2 to 202606\n",
            "Data columns (total 4 columns):\n",
            "id           162994 non-null object\n",
            "call_date    162994 non-null datetime64[ns]\n",
            "duration     162994 non-null int64\n",
            "user_id      162994 non-null int64\n",
            "dtypes: datetime64[ns](1), int64(2), object(1)\n",
            "memory usage: 6.2+ MB\n",
            "<class 'pandas.core.frame.DataFrame'>\n",
            "Int64Index: 129798 entries, 0 to 149395\n",
            "Data columns (total 4 columns):\n",
            "id              129798 non-null object\n",
            "mb_used         129798 non-null int64\n",
            "session_date    129798 non-null datetime64[ns]\n",
            "user_id         129798 non-null int64\n",
            "dtypes: datetime64[ns](1), int64(2), object(1)\n",
            "memory usage: 5.0+ MB\n"
          ]
        }
      ]
    },
    {
      "cell_type": "markdown",
      "metadata": {
        "id": "ib6Jj3Jsu0DM"
      },
      "source": [
        "Видим, что количество звонков и строк в таблице по истраченному интернету значительно уменьшилось. Несмотря на это, их отсутствие не повлияет на дальнейший расчет и анализ.\n",
        "\n",
        "Перейдем к необходимым расчетам. Нужно найти для каждого пользователя: \n",
        "- количество сделанных звонков и израсходованных минут разговора по месяцам;\n",
        "- количество отправленных сообщений по месяцам;\n",
        "- объем израсходованного интернет-трафика по месяцам;\n",
        "- помесячную выручку с каждого пользователя.\n",
        "\n",
        "Для начала добавим новые столбцы в таблицы с месяцами. Затем создадим сводные таблицы для расчетов необходимых параметров."
      ]
    },
    {
      "cell_type": "code",
      "metadata": {
        "id": "2zLKjFHdu0DM"
      },
      "source": [
        "calls['month'] = calls['call_date'].dt.month\n",
        "messages['month'] = messages['message_date'].dt.month\n",
        "internet['month'] = internet['session_date'].dt.month"
      ],
      "execution_count": null,
      "outputs": []
    },
    {
      "cell_type": "code",
      "metadata": {
        "id": "3TmjwCUsu0DN",
        "outputId": "ccf25859-cd6d-47d8-b1e8-1ea0269ad31f"
      },
      "source": [
        "calls_count = calls.pivot_table(index=['user_id','month'], values='duration', aggfunc=['count','sum'])\n",
        "calls_count.columns = ['calls','total_duration']\n",
        "calls_count.head(10)"
      ],
      "execution_count": null,
      "outputs": [
        {
          "data": {
            "text/html": [
              "<div>\n",
              "<style scoped>\n",
              "    .dataframe tbody tr th:only-of-type {\n",
              "        vertical-align: middle;\n",
              "    }\n",
              "\n",
              "    .dataframe tbody tr th {\n",
              "        vertical-align: top;\n",
              "    }\n",
              "\n",
              "    .dataframe thead th {\n",
              "        text-align: right;\n",
              "    }\n",
              "</style>\n",
              "<table border=\"1\" class=\"dataframe\">\n",
              "  <thead>\n",
              "    <tr style=\"text-align: right;\">\n",
              "      <th></th>\n",
              "      <th></th>\n",
              "      <th>calls</th>\n",
              "      <th>total_duration</th>\n",
              "    </tr>\n",
              "    <tr>\n",
              "      <th>user_id</th>\n",
              "      <th>month</th>\n",
              "      <th></th>\n",
              "      <th></th>\n",
              "    </tr>\n",
              "  </thead>\n",
              "  <tbody>\n",
              "    <tr>\n",
              "      <td rowspan=\"8\" valign=\"top\">1000</td>\n",
              "      <td>5</td>\n",
              "      <td>17</td>\n",
              "      <td>159</td>\n",
              "    </tr>\n",
              "    <tr>\n",
              "      <td>6</td>\n",
              "      <td>28</td>\n",
              "      <td>172</td>\n",
              "    </tr>\n",
              "    <tr>\n",
              "      <td>7</td>\n",
              "      <td>41</td>\n",
              "      <td>340</td>\n",
              "    </tr>\n",
              "    <tr>\n",
              "      <td>8</td>\n",
              "      <td>42</td>\n",
              "      <td>408</td>\n",
              "    </tr>\n",
              "    <tr>\n",
              "      <td>9</td>\n",
              "      <td>46</td>\n",
              "      <td>466</td>\n",
              "    </tr>\n",
              "    <tr>\n",
              "      <td>10</td>\n",
              "      <td>44</td>\n",
              "      <td>350</td>\n",
              "    </tr>\n",
              "    <tr>\n",
              "      <td>11</td>\n",
              "      <td>37</td>\n",
              "      <td>338</td>\n",
              "    </tr>\n",
              "    <tr>\n",
              "      <td>12</td>\n",
              "      <td>38</td>\n",
              "      <td>333</td>\n",
              "    </tr>\n",
              "    <tr>\n",
              "      <td rowspan=\"2\" valign=\"top\">1001</td>\n",
              "      <td>11</td>\n",
              "      <td>45</td>\n",
              "      <td>430</td>\n",
              "    </tr>\n",
              "    <tr>\n",
              "      <td>12</td>\n",
              "      <td>47</td>\n",
              "      <td>414</td>\n",
              "    </tr>\n",
              "  </tbody>\n",
              "</table>\n",
              "</div>"
            ],
            "text/plain": [
              "               calls  total_duration\n",
              "user_id month                       \n",
              "1000    5         17             159\n",
              "        6         28             172\n",
              "        7         41             340\n",
              "        8         42             408\n",
              "        9         46             466\n",
              "        10        44             350\n",
              "        11        37             338\n",
              "        12        38             333\n",
              "1001    11        45             430\n",
              "        12        47             414"
            ]
          },
          "execution_count": 23,
          "metadata": {},
          "output_type": "execute_result"
        }
      ]
    },
    {
      "cell_type": "code",
      "metadata": {
        "id": "F_W_ALXWu0DN",
        "outputId": "84eccf8b-f15d-42b5-80d1-89760f113715"
      },
      "source": [
        "messages_count = messages.pivot_table(index=['user_id','month'], values='id', aggfunc='count')\n",
        "messages_count.columns = ['messages']\n",
        "messages_count.head(10)"
      ],
      "execution_count": null,
      "outputs": [
        {
          "data": {
            "text/html": [
              "<div>\n",
              "<style scoped>\n",
              "    .dataframe tbody tr th:only-of-type {\n",
              "        vertical-align: middle;\n",
              "    }\n",
              "\n",
              "    .dataframe tbody tr th {\n",
              "        vertical-align: top;\n",
              "    }\n",
              "\n",
              "    .dataframe thead th {\n",
              "        text-align: right;\n",
              "    }\n",
              "</style>\n",
              "<table border=\"1\" class=\"dataframe\">\n",
              "  <thead>\n",
              "    <tr style=\"text-align: right;\">\n",
              "      <th></th>\n",
              "      <th></th>\n",
              "      <th>messages</th>\n",
              "    </tr>\n",
              "    <tr>\n",
              "      <th>user_id</th>\n",
              "      <th>month</th>\n",
              "      <th></th>\n",
              "    </tr>\n",
              "  </thead>\n",
              "  <tbody>\n",
              "    <tr>\n",
              "      <td rowspan=\"8\" valign=\"top\">1000</td>\n",
              "      <td>5</td>\n",
              "      <td>22</td>\n",
              "    </tr>\n",
              "    <tr>\n",
              "      <td>6</td>\n",
              "      <td>60</td>\n",
              "    </tr>\n",
              "    <tr>\n",
              "      <td>7</td>\n",
              "      <td>75</td>\n",
              "    </tr>\n",
              "    <tr>\n",
              "      <td>8</td>\n",
              "      <td>81</td>\n",
              "    </tr>\n",
              "    <tr>\n",
              "      <td>9</td>\n",
              "      <td>57</td>\n",
              "    </tr>\n",
              "    <tr>\n",
              "      <td>10</td>\n",
              "      <td>73</td>\n",
              "    </tr>\n",
              "    <tr>\n",
              "      <td>11</td>\n",
              "      <td>58</td>\n",
              "    </tr>\n",
              "    <tr>\n",
              "      <td>12</td>\n",
              "      <td>70</td>\n",
              "    </tr>\n",
              "    <tr>\n",
              "      <td rowspan=\"2\" valign=\"top\">1002</td>\n",
              "      <td>6</td>\n",
              "      <td>4</td>\n",
              "    </tr>\n",
              "    <tr>\n",
              "      <td>7</td>\n",
              "      <td>11</td>\n",
              "    </tr>\n",
              "  </tbody>\n",
              "</table>\n",
              "</div>"
            ],
            "text/plain": [
              "               messages\n",
              "user_id month          \n",
              "1000    5            22\n",
              "        6            60\n",
              "        7            75\n",
              "        8            81\n",
              "        9            57\n",
              "        10           73\n",
              "        11           58\n",
              "        12           70\n",
              "1002    6             4\n",
              "        7            11"
            ]
          },
          "execution_count": 24,
          "metadata": {},
          "output_type": "execute_result"
        }
      ]
    },
    {
      "cell_type": "code",
      "metadata": {
        "id": "ME0-9lCtu0DN",
        "outputId": "48ff50c6-a2e0-40dc-fc0e-4a10e8d5b4c7"
      },
      "source": [
        "internet_count = internet.pivot_table(index=['user_id','month'], values='mb_used', aggfunc='sum')\n",
        "internet_count.columns = ['total_mb']\n",
        "internet_count.head(10)"
      ],
      "execution_count": null,
      "outputs": [
        {
          "data": {
            "text/html": [
              "<div>\n",
              "<style scoped>\n",
              "    .dataframe tbody tr th:only-of-type {\n",
              "        vertical-align: middle;\n",
              "    }\n",
              "\n",
              "    .dataframe tbody tr th {\n",
              "        vertical-align: top;\n",
              "    }\n",
              "\n",
              "    .dataframe thead th {\n",
              "        text-align: right;\n",
              "    }\n",
              "</style>\n",
              "<table border=\"1\" class=\"dataframe\">\n",
              "  <thead>\n",
              "    <tr style=\"text-align: right;\">\n",
              "      <th></th>\n",
              "      <th></th>\n",
              "      <th>total_mb</th>\n",
              "    </tr>\n",
              "    <tr>\n",
              "      <th>user_id</th>\n",
              "      <th>month</th>\n",
              "      <th></th>\n",
              "    </tr>\n",
              "  </thead>\n",
              "  <tbody>\n",
              "    <tr>\n",
              "      <td rowspan=\"8\" valign=\"top\">1000</td>\n",
              "      <td>5</td>\n",
              "      <td>2256</td>\n",
              "    </tr>\n",
              "    <tr>\n",
              "      <td>6</td>\n",
              "      <td>23257</td>\n",
              "    </tr>\n",
              "    <tr>\n",
              "      <td>7</td>\n",
              "      <td>14016</td>\n",
              "    </tr>\n",
              "    <tr>\n",
              "      <td>8</td>\n",
              "      <td>14070</td>\n",
              "    </tr>\n",
              "    <tr>\n",
              "      <td>9</td>\n",
              "      <td>14581</td>\n",
              "    </tr>\n",
              "    <tr>\n",
              "      <td>10</td>\n",
              "      <td>14717</td>\n",
              "    </tr>\n",
              "    <tr>\n",
              "      <td>11</td>\n",
              "      <td>14768</td>\n",
              "    </tr>\n",
              "    <tr>\n",
              "      <td>12</td>\n",
              "      <td>9827</td>\n",
              "    </tr>\n",
              "    <tr>\n",
              "      <td rowspan=\"2\" valign=\"top\">1001</td>\n",
              "      <td>11</td>\n",
              "      <td>18452</td>\n",
              "    </tr>\n",
              "    <tr>\n",
              "      <td>12</td>\n",
              "      <td>14053</td>\n",
              "    </tr>\n",
              "  </tbody>\n",
              "</table>\n",
              "</div>"
            ],
            "text/plain": [
              "               total_mb\n",
              "user_id month          \n",
              "1000    5          2256\n",
              "        6         23257\n",
              "        7         14016\n",
              "        8         14070\n",
              "        9         14581\n",
              "        10        14717\n",
              "        11        14768\n",
              "        12         9827\n",
              "1001    11        18452\n",
              "        12        14053"
            ]
          },
          "execution_count": 25,
          "metadata": {},
          "output_type": "execute_result"
        }
      ]
    },
    {
      "cell_type": "code",
      "metadata": {
        "id": "C93-z-Dvu0DO"
      },
      "source": [
        "#объединяем таблицы в одну\n",
        "\n",
        "data = calls_count.merge(messages_count, on=['user_id', 'month'], how='outer')\n",
        "data = data.merge(internet_count, on=['user_id', 'month'], how='outer')"
      ],
      "execution_count": null,
      "outputs": []
    },
    {
      "cell_type": "code",
      "metadata": {
        "id": "EX7zR7Kvu0DO",
        "outputId": "8c81c4ea-f495-49e2-c57f-c820d4d0b4fc"
      },
      "source": [
        "data"
      ],
      "execution_count": null,
      "outputs": [
        {
          "data": {
            "text/html": [
              "<div>\n",
              "<style scoped>\n",
              "    .dataframe tbody tr th:only-of-type {\n",
              "        vertical-align: middle;\n",
              "    }\n",
              "\n",
              "    .dataframe tbody tr th {\n",
              "        vertical-align: top;\n",
              "    }\n",
              "\n",
              "    .dataframe thead th {\n",
              "        text-align: right;\n",
              "    }\n",
              "</style>\n",
              "<table border=\"1\" class=\"dataframe\">\n",
              "  <thead>\n",
              "    <tr style=\"text-align: right;\">\n",
              "      <th></th>\n",
              "      <th></th>\n",
              "      <th>calls</th>\n",
              "      <th>total_duration</th>\n",
              "      <th>messages</th>\n",
              "      <th>total_mb</th>\n",
              "    </tr>\n",
              "    <tr>\n",
              "      <th>user_id</th>\n",
              "      <th>month</th>\n",
              "      <th></th>\n",
              "      <th></th>\n",
              "      <th></th>\n",
              "      <th></th>\n",
              "    </tr>\n",
              "  </thead>\n",
              "  <tbody>\n",
              "    <tr>\n",
              "      <td rowspan=\"5\" valign=\"top\">1000</td>\n",
              "      <td>5</td>\n",
              "      <td>17.0</td>\n",
              "      <td>159.0</td>\n",
              "      <td>22.0</td>\n",
              "      <td>2256.0</td>\n",
              "    </tr>\n",
              "    <tr>\n",
              "      <td>6</td>\n",
              "      <td>28.0</td>\n",
              "      <td>172.0</td>\n",
              "      <td>60.0</td>\n",
              "      <td>23257.0</td>\n",
              "    </tr>\n",
              "    <tr>\n",
              "      <td>7</td>\n",
              "      <td>41.0</td>\n",
              "      <td>340.0</td>\n",
              "      <td>75.0</td>\n",
              "      <td>14016.0</td>\n",
              "    </tr>\n",
              "    <tr>\n",
              "      <td>8</td>\n",
              "      <td>42.0</td>\n",
              "      <td>408.0</td>\n",
              "      <td>81.0</td>\n",
              "      <td>14070.0</td>\n",
              "    </tr>\n",
              "    <tr>\n",
              "      <td>9</td>\n",
              "      <td>46.0</td>\n",
              "      <td>466.0</td>\n",
              "      <td>57.0</td>\n",
              "      <td>14581.0</td>\n",
              "    </tr>\n",
              "    <tr>\n",
              "      <td>...</td>\n",
              "      <td>...</td>\n",
              "      <td>...</td>\n",
              "      <td>...</td>\n",
              "      <td>...</td>\n",
              "      <td>...</td>\n",
              "    </tr>\n",
              "    <tr>\n",
              "      <td rowspan=\"3\" valign=\"top\">1489</td>\n",
              "      <td>10</td>\n",
              "      <td>NaN</td>\n",
              "      <td>NaN</td>\n",
              "      <td>21.0</td>\n",
              "      <td>19588.0</td>\n",
              "    </tr>\n",
              "    <tr>\n",
              "      <td>11</td>\n",
              "      <td>NaN</td>\n",
              "      <td>NaN</td>\n",
              "      <td>20.0</td>\n",
              "      <td>17516.0</td>\n",
              "    </tr>\n",
              "    <tr>\n",
              "      <td>12</td>\n",
              "      <td>NaN</td>\n",
              "      <td>NaN</td>\n",
              "      <td>35.0</td>\n",
              "      <td>17341.0</td>\n",
              "    </tr>\n",
              "    <tr>\n",
              "      <td>1240</td>\n",
              "      <td>2</td>\n",
              "      <td>NaN</td>\n",
              "      <td>NaN</td>\n",
              "      <td>NaN</td>\n",
              "      <td>961.0</td>\n",
              "    </tr>\n",
              "    <tr>\n",
              "      <td>1476</td>\n",
              "      <td>4</td>\n",
              "      <td>NaN</td>\n",
              "      <td>NaN</td>\n",
              "      <td>NaN</td>\n",
              "      <td>531.0</td>\n",
              "    </tr>\n",
              "  </tbody>\n",
              "</table>\n",
              "<p>3214 rows × 4 columns</p>\n",
              "</div>"
            ],
            "text/plain": [
              "               calls  total_duration  messages  total_mb\n",
              "user_id month                                           \n",
              "1000    5       17.0           159.0      22.0    2256.0\n",
              "        6       28.0           172.0      60.0   23257.0\n",
              "        7       41.0           340.0      75.0   14016.0\n",
              "        8       42.0           408.0      81.0   14070.0\n",
              "        9       46.0           466.0      57.0   14581.0\n",
              "...              ...             ...       ...       ...\n",
              "1489    10       NaN             NaN      21.0   19588.0\n",
              "        11       NaN             NaN      20.0   17516.0\n",
              "        12       NaN             NaN      35.0   17341.0\n",
              "1240    2        NaN             NaN       NaN     961.0\n",
              "1476    4        NaN             NaN       NaN     531.0\n",
              "\n",
              "[3214 rows x 4 columns]"
            ]
          },
          "execution_count": 27,
          "metadata": {},
          "output_type": "execute_result"
        }
      ]
    },
    {
      "cell_type": "code",
      "metadata": {
        "id": "WGUKuNF5u0DP"
      },
      "source": [
        "#заменим отсутствующие значения на 0 для более удобного дальнейшего расчета и изменим тип данных на целочисленный\n",
        "\n",
        "data['calls'] = data['calls'].fillna(value=0).astype('int')\n",
        "data['total_duration'] = data['total_duration'].fillna(value=0).astype('int')\n",
        "data['messages'] = data['messages'].fillna(value=0).astype('int')\n",
        "data['total_mb'] = data['total_mb'].fillna(value=0).astype('int')\n",
        "\n",
        "#data.fillna(value=0).astype('int')"
      ],
      "execution_count": null,
      "outputs": []
    },
    {
      "cell_type": "code",
      "metadata": {
        "id": "58MhbiNHu0DP",
        "outputId": "ddd3117b-df19-4fbc-a12b-d2cd46b82543"
      },
      "source": [
        "data"
      ],
      "execution_count": null,
      "outputs": [
        {
          "data": {
            "text/html": [
              "<div>\n",
              "<style scoped>\n",
              "    .dataframe tbody tr th:only-of-type {\n",
              "        vertical-align: middle;\n",
              "    }\n",
              "\n",
              "    .dataframe tbody tr th {\n",
              "        vertical-align: top;\n",
              "    }\n",
              "\n",
              "    .dataframe thead th {\n",
              "        text-align: right;\n",
              "    }\n",
              "</style>\n",
              "<table border=\"1\" class=\"dataframe\">\n",
              "  <thead>\n",
              "    <tr style=\"text-align: right;\">\n",
              "      <th></th>\n",
              "      <th></th>\n",
              "      <th>calls</th>\n",
              "      <th>total_duration</th>\n",
              "      <th>messages</th>\n",
              "      <th>total_mb</th>\n",
              "    </tr>\n",
              "    <tr>\n",
              "      <th>user_id</th>\n",
              "      <th>month</th>\n",
              "      <th></th>\n",
              "      <th></th>\n",
              "      <th></th>\n",
              "      <th></th>\n",
              "    </tr>\n",
              "  </thead>\n",
              "  <tbody>\n",
              "    <tr>\n",
              "      <td rowspan=\"5\" valign=\"top\">1000</td>\n",
              "      <td>5</td>\n",
              "      <td>17</td>\n",
              "      <td>159</td>\n",
              "      <td>22</td>\n",
              "      <td>2256</td>\n",
              "    </tr>\n",
              "    <tr>\n",
              "      <td>6</td>\n",
              "      <td>28</td>\n",
              "      <td>172</td>\n",
              "      <td>60</td>\n",
              "      <td>23257</td>\n",
              "    </tr>\n",
              "    <tr>\n",
              "      <td>7</td>\n",
              "      <td>41</td>\n",
              "      <td>340</td>\n",
              "      <td>75</td>\n",
              "      <td>14016</td>\n",
              "    </tr>\n",
              "    <tr>\n",
              "      <td>8</td>\n",
              "      <td>42</td>\n",
              "      <td>408</td>\n",
              "      <td>81</td>\n",
              "      <td>14070</td>\n",
              "    </tr>\n",
              "    <tr>\n",
              "      <td>9</td>\n",
              "      <td>46</td>\n",
              "      <td>466</td>\n",
              "      <td>57</td>\n",
              "      <td>14581</td>\n",
              "    </tr>\n",
              "    <tr>\n",
              "      <td>...</td>\n",
              "      <td>...</td>\n",
              "      <td>...</td>\n",
              "      <td>...</td>\n",
              "      <td>...</td>\n",
              "      <td>...</td>\n",
              "    </tr>\n",
              "    <tr>\n",
              "      <td rowspan=\"3\" valign=\"top\">1489</td>\n",
              "      <td>10</td>\n",
              "      <td>0</td>\n",
              "      <td>0</td>\n",
              "      <td>21</td>\n",
              "      <td>19588</td>\n",
              "    </tr>\n",
              "    <tr>\n",
              "      <td>11</td>\n",
              "      <td>0</td>\n",
              "      <td>0</td>\n",
              "      <td>20</td>\n",
              "      <td>17516</td>\n",
              "    </tr>\n",
              "    <tr>\n",
              "      <td>12</td>\n",
              "      <td>0</td>\n",
              "      <td>0</td>\n",
              "      <td>35</td>\n",
              "      <td>17341</td>\n",
              "    </tr>\n",
              "    <tr>\n",
              "      <td>1240</td>\n",
              "      <td>2</td>\n",
              "      <td>0</td>\n",
              "      <td>0</td>\n",
              "      <td>0</td>\n",
              "      <td>961</td>\n",
              "    </tr>\n",
              "    <tr>\n",
              "      <td>1476</td>\n",
              "      <td>4</td>\n",
              "      <td>0</td>\n",
              "      <td>0</td>\n",
              "      <td>0</td>\n",
              "      <td>531</td>\n",
              "    </tr>\n",
              "  </tbody>\n",
              "</table>\n",
              "<p>3214 rows × 4 columns</p>\n",
              "</div>"
            ],
            "text/plain": [
              "               calls  total_duration  messages  total_mb\n",
              "user_id month                                           \n",
              "1000    5         17             159        22      2256\n",
              "        6         28             172        60     23257\n",
              "        7         41             340        75     14016\n",
              "        8         42             408        81     14070\n",
              "        9         46             466        57     14581\n",
              "...              ...             ...       ...       ...\n",
              "1489    10         0               0        21     19588\n",
              "        11         0               0        20     17516\n",
              "        12         0               0        35     17341\n",
              "1240    2          0               0         0       961\n",
              "1476    4          0               0         0       531\n",
              "\n",
              "[3214 rows x 4 columns]"
            ]
          },
          "execution_count": 29,
          "metadata": {},
          "output_type": "execute_result"
        }
      ]
    },
    {
      "cell_type": "code",
      "metadata": {
        "id": "ruDXh0Gmu0DQ"
      },
      "source": [
        "#добавляем в таблицу тарифы и город для каждой строки\n",
        "\n",
        "data = data.reset_index()\n",
        "data = data.merge(users[['user_id','tariff','city']], on='user_id', how='left')"
      ],
      "execution_count": null,
      "outputs": []
    },
    {
      "cell_type": "markdown",
      "metadata": {
        "id": "sRsT3hMiu0DQ"
      },
      "source": [
        "Далее добавим в таблицу необходимые параметры по тарифу."
      ]
    },
    {
      "cell_type": "code",
      "metadata": {
        "id": "y7jYLS37u0DQ"
      },
      "source": [
        "tariffs.rename(columns={'tariff_name':'tariff'}, inplace=True)"
      ],
      "execution_count": null,
      "outputs": []
    },
    {
      "cell_type": "code",
      "metadata": {
        "id": "P6WpAHWuu0DQ"
      },
      "source": [
        "data = data.merge(tariffs, on='tariff', how='left')"
      ],
      "execution_count": null,
      "outputs": []
    },
    {
      "cell_type": "code",
      "metadata": {
        "id": "YDS5zpjLu0DR",
        "outputId": "1b579c5f-c894-47ab-ad44-08f648f19605"
      },
      "source": [
        "data.head()"
      ],
      "execution_count": null,
      "outputs": [
        {
          "data": {
            "text/html": [
              "<div>\n",
              "<style scoped>\n",
              "    .dataframe tbody tr th:only-of-type {\n",
              "        vertical-align: middle;\n",
              "    }\n",
              "\n",
              "    .dataframe tbody tr th {\n",
              "        vertical-align: top;\n",
              "    }\n",
              "\n",
              "    .dataframe thead th {\n",
              "        text-align: right;\n",
              "    }\n",
              "</style>\n",
              "<table border=\"1\" class=\"dataframe\">\n",
              "  <thead>\n",
              "    <tr style=\"text-align: right;\">\n",
              "      <th></th>\n",
              "      <th>user_id</th>\n",
              "      <th>month</th>\n",
              "      <th>calls</th>\n",
              "      <th>total_duration</th>\n",
              "      <th>messages</th>\n",
              "      <th>total_mb</th>\n",
              "      <th>tariff</th>\n",
              "      <th>city</th>\n",
              "      <th>messages_included</th>\n",
              "      <th>mb_per_month_included</th>\n",
              "      <th>minutes_included</th>\n",
              "      <th>rub_monthly_fee</th>\n",
              "      <th>rub_per_gb</th>\n",
              "      <th>rub_per_message</th>\n",
              "      <th>rub_per_minute</th>\n",
              "    </tr>\n",
              "  </thead>\n",
              "  <tbody>\n",
              "    <tr>\n",
              "      <td>0</td>\n",
              "      <td>1000</td>\n",
              "      <td>5</td>\n",
              "      <td>17</td>\n",
              "      <td>159</td>\n",
              "      <td>22</td>\n",
              "      <td>2256</td>\n",
              "      <td>ultra</td>\n",
              "      <td>Краснодар</td>\n",
              "      <td>1000</td>\n",
              "      <td>30720</td>\n",
              "      <td>3000</td>\n",
              "      <td>1950</td>\n",
              "      <td>150</td>\n",
              "      <td>1</td>\n",
              "      <td>1</td>\n",
              "    </tr>\n",
              "    <tr>\n",
              "      <td>1</td>\n",
              "      <td>1000</td>\n",
              "      <td>6</td>\n",
              "      <td>28</td>\n",
              "      <td>172</td>\n",
              "      <td>60</td>\n",
              "      <td>23257</td>\n",
              "      <td>ultra</td>\n",
              "      <td>Краснодар</td>\n",
              "      <td>1000</td>\n",
              "      <td>30720</td>\n",
              "      <td>3000</td>\n",
              "      <td>1950</td>\n",
              "      <td>150</td>\n",
              "      <td>1</td>\n",
              "      <td>1</td>\n",
              "    </tr>\n",
              "    <tr>\n",
              "      <td>2</td>\n",
              "      <td>1000</td>\n",
              "      <td>7</td>\n",
              "      <td>41</td>\n",
              "      <td>340</td>\n",
              "      <td>75</td>\n",
              "      <td>14016</td>\n",
              "      <td>ultra</td>\n",
              "      <td>Краснодар</td>\n",
              "      <td>1000</td>\n",
              "      <td>30720</td>\n",
              "      <td>3000</td>\n",
              "      <td>1950</td>\n",
              "      <td>150</td>\n",
              "      <td>1</td>\n",
              "      <td>1</td>\n",
              "    </tr>\n",
              "    <tr>\n",
              "      <td>3</td>\n",
              "      <td>1000</td>\n",
              "      <td>8</td>\n",
              "      <td>42</td>\n",
              "      <td>408</td>\n",
              "      <td>81</td>\n",
              "      <td>14070</td>\n",
              "      <td>ultra</td>\n",
              "      <td>Краснодар</td>\n",
              "      <td>1000</td>\n",
              "      <td>30720</td>\n",
              "      <td>3000</td>\n",
              "      <td>1950</td>\n",
              "      <td>150</td>\n",
              "      <td>1</td>\n",
              "      <td>1</td>\n",
              "    </tr>\n",
              "    <tr>\n",
              "      <td>4</td>\n",
              "      <td>1000</td>\n",
              "      <td>9</td>\n",
              "      <td>46</td>\n",
              "      <td>466</td>\n",
              "      <td>57</td>\n",
              "      <td>14581</td>\n",
              "      <td>ultra</td>\n",
              "      <td>Краснодар</td>\n",
              "      <td>1000</td>\n",
              "      <td>30720</td>\n",
              "      <td>3000</td>\n",
              "      <td>1950</td>\n",
              "      <td>150</td>\n",
              "      <td>1</td>\n",
              "      <td>1</td>\n",
              "    </tr>\n",
              "  </tbody>\n",
              "</table>\n",
              "</div>"
            ],
            "text/plain": [
              "   user_id  month  calls  total_duration  messages  total_mb tariff  \\\n",
              "0     1000      5     17             159        22      2256  ultra   \n",
              "1     1000      6     28             172        60     23257  ultra   \n",
              "2     1000      7     41             340        75     14016  ultra   \n",
              "3     1000      8     42             408        81     14070  ultra   \n",
              "4     1000      9     46             466        57     14581  ultra   \n",
              "\n",
              "        city  messages_included  mb_per_month_included  minutes_included  \\\n",
              "0  Краснодар               1000                  30720              3000   \n",
              "1  Краснодар               1000                  30720              3000   \n",
              "2  Краснодар               1000                  30720              3000   \n",
              "3  Краснодар               1000                  30720              3000   \n",
              "4  Краснодар               1000                  30720              3000   \n",
              "\n",
              "   rub_monthly_fee  rub_per_gb  rub_per_message  rub_per_minute  \n",
              "0             1950         150                1               1  \n",
              "1             1950         150                1               1  \n",
              "2             1950         150                1               1  \n",
              "3             1950         150                1               1  \n",
              "4             1950         150                1               1  "
            ]
          },
          "execution_count": 33,
          "metadata": {},
          "output_type": "execute_result"
        }
      ]
    },
    {
      "cell_type": "code",
      "metadata": {
        "id": "htF47IlLu0DR"
      },
      "source": [
        "#находим превышения по тарифу\n",
        "\n",
        "data['minutes_overrun'] = data['total_duration'] - data['minutes_included'] \n",
        "data['messages_overrun'] = data['messages'] - data['messages_included']\n",
        "data['mb_overrun'] = data['total_mb'] - data['mb_per_month_included']"
      ],
      "execution_count": null,
      "outputs": []
    },
    {
      "cell_type": "code",
      "metadata": {
        "id": "LVRAIOjAu0DS"
      },
      "source": [
        "#создаем функцию для расчета выручки по превышениям тарифа\n",
        "\n",
        "def get_revenue(row):\n",
        "    revenue_by_min = 0\n",
        "    revenue_by_messages = 0\n",
        "    revenue_mb = 0\n",
        "    if row['minutes_overrun'] > 0:\n",
        "        revenue_by_min = row['minutes_overrun'] * row['rub_per_minute']\n",
        "    if row['messages_overrun'] > 0:\n",
        "        revenue_by_messages = row['messages_overrun'] * row['rub_per_message']\n",
        "    if row['mb_overrun'] > 0:\n",
        "        revenue_mb = (row['mb_overrun'] / 1024) * row['rub_per_gb']\n",
        "    return revenue_by_min + revenue_by_messages + revenue_mb\n",
        "\n",
        "data['total_revenue'] = data['rub_monthly_fee'] + data.apply(get_revenue,1)"
      ],
      "execution_count": null,
      "outputs": []
    },
    {
      "cell_type": "code",
      "metadata": {
        "id": "GAAGr2Jfu0DS",
        "outputId": "79be0b40-5dc2-4081-9a1e-611b6811ae50"
      },
      "source": [
        "data.head()"
      ],
      "execution_count": null,
      "outputs": [
        {
          "data": {
            "text/html": [
              "<div>\n",
              "<style scoped>\n",
              "    .dataframe tbody tr th:only-of-type {\n",
              "        vertical-align: middle;\n",
              "    }\n",
              "\n",
              "    .dataframe tbody tr th {\n",
              "        vertical-align: top;\n",
              "    }\n",
              "\n",
              "    .dataframe thead th {\n",
              "        text-align: right;\n",
              "    }\n",
              "</style>\n",
              "<table border=\"1\" class=\"dataframe\">\n",
              "  <thead>\n",
              "    <tr style=\"text-align: right;\">\n",
              "      <th></th>\n",
              "      <th>user_id</th>\n",
              "      <th>month</th>\n",
              "      <th>calls</th>\n",
              "      <th>total_duration</th>\n",
              "      <th>messages</th>\n",
              "      <th>total_mb</th>\n",
              "      <th>tariff</th>\n",
              "      <th>city</th>\n",
              "      <th>messages_included</th>\n",
              "      <th>mb_per_month_included</th>\n",
              "      <th>minutes_included</th>\n",
              "      <th>rub_monthly_fee</th>\n",
              "      <th>rub_per_gb</th>\n",
              "      <th>rub_per_message</th>\n",
              "      <th>rub_per_minute</th>\n",
              "      <th>minutes_overrun</th>\n",
              "      <th>messages_overrun</th>\n",
              "      <th>mb_overrun</th>\n",
              "      <th>total_revenue</th>\n",
              "    </tr>\n",
              "  </thead>\n",
              "  <tbody>\n",
              "    <tr>\n",
              "      <td>0</td>\n",
              "      <td>1000</td>\n",
              "      <td>5</td>\n",
              "      <td>17</td>\n",
              "      <td>159</td>\n",
              "      <td>22</td>\n",
              "      <td>2256</td>\n",
              "      <td>ultra</td>\n",
              "      <td>Краснодар</td>\n",
              "      <td>1000</td>\n",
              "      <td>30720</td>\n",
              "      <td>3000</td>\n",
              "      <td>1950</td>\n",
              "      <td>150</td>\n",
              "      <td>1</td>\n",
              "      <td>1</td>\n",
              "      <td>-2841</td>\n",
              "      <td>-978</td>\n",
              "      <td>-28464</td>\n",
              "      <td>1950.0</td>\n",
              "    </tr>\n",
              "    <tr>\n",
              "      <td>1</td>\n",
              "      <td>1000</td>\n",
              "      <td>6</td>\n",
              "      <td>28</td>\n",
              "      <td>172</td>\n",
              "      <td>60</td>\n",
              "      <td>23257</td>\n",
              "      <td>ultra</td>\n",
              "      <td>Краснодар</td>\n",
              "      <td>1000</td>\n",
              "      <td>30720</td>\n",
              "      <td>3000</td>\n",
              "      <td>1950</td>\n",
              "      <td>150</td>\n",
              "      <td>1</td>\n",
              "      <td>1</td>\n",
              "      <td>-2828</td>\n",
              "      <td>-940</td>\n",
              "      <td>-7463</td>\n",
              "      <td>1950.0</td>\n",
              "    </tr>\n",
              "    <tr>\n",
              "      <td>2</td>\n",
              "      <td>1000</td>\n",
              "      <td>7</td>\n",
              "      <td>41</td>\n",
              "      <td>340</td>\n",
              "      <td>75</td>\n",
              "      <td>14016</td>\n",
              "      <td>ultra</td>\n",
              "      <td>Краснодар</td>\n",
              "      <td>1000</td>\n",
              "      <td>30720</td>\n",
              "      <td>3000</td>\n",
              "      <td>1950</td>\n",
              "      <td>150</td>\n",
              "      <td>1</td>\n",
              "      <td>1</td>\n",
              "      <td>-2660</td>\n",
              "      <td>-925</td>\n",
              "      <td>-16704</td>\n",
              "      <td>1950.0</td>\n",
              "    </tr>\n",
              "    <tr>\n",
              "      <td>3</td>\n",
              "      <td>1000</td>\n",
              "      <td>8</td>\n",
              "      <td>42</td>\n",
              "      <td>408</td>\n",
              "      <td>81</td>\n",
              "      <td>14070</td>\n",
              "      <td>ultra</td>\n",
              "      <td>Краснодар</td>\n",
              "      <td>1000</td>\n",
              "      <td>30720</td>\n",
              "      <td>3000</td>\n",
              "      <td>1950</td>\n",
              "      <td>150</td>\n",
              "      <td>1</td>\n",
              "      <td>1</td>\n",
              "      <td>-2592</td>\n",
              "      <td>-919</td>\n",
              "      <td>-16650</td>\n",
              "      <td>1950.0</td>\n",
              "    </tr>\n",
              "    <tr>\n",
              "      <td>4</td>\n",
              "      <td>1000</td>\n",
              "      <td>9</td>\n",
              "      <td>46</td>\n",
              "      <td>466</td>\n",
              "      <td>57</td>\n",
              "      <td>14581</td>\n",
              "      <td>ultra</td>\n",
              "      <td>Краснодар</td>\n",
              "      <td>1000</td>\n",
              "      <td>30720</td>\n",
              "      <td>3000</td>\n",
              "      <td>1950</td>\n",
              "      <td>150</td>\n",
              "      <td>1</td>\n",
              "      <td>1</td>\n",
              "      <td>-2534</td>\n",
              "      <td>-943</td>\n",
              "      <td>-16139</td>\n",
              "      <td>1950.0</td>\n",
              "    </tr>\n",
              "  </tbody>\n",
              "</table>\n",
              "</div>"
            ],
            "text/plain": [
              "   user_id  month  calls  total_duration  messages  total_mb tariff  \\\n",
              "0     1000      5     17             159        22      2256  ultra   \n",
              "1     1000      6     28             172        60     23257  ultra   \n",
              "2     1000      7     41             340        75     14016  ultra   \n",
              "3     1000      8     42             408        81     14070  ultra   \n",
              "4     1000      9     46             466        57     14581  ultra   \n",
              "\n",
              "        city  messages_included  mb_per_month_included  minutes_included  \\\n",
              "0  Краснодар               1000                  30720              3000   \n",
              "1  Краснодар               1000                  30720              3000   \n",
              "2  Краснодар               1000                  30720              3000   \n",
              "3  Краснодар               1000                  30720              3000   \n",
              "4  Краснодар               1000                  30720              3000   \n",
              "\n",
              "   rub_monthly_fee  rub_per_gb  rub_per_message  rub_per_minute  \\\n",
              "0             1950         150                1               1   \n",
              "1             1950         150                1               1   \n",
              "2             1950         150                1               1   \n",
              "3             1950         150                1               1   \n",
              "4             1950         150                1               1   \n",
              "\n",
              "   minutes_overrun  messages_overrun  mb_overrun  total_revenue  \n",
              "0            -2841              -978      -28464         1950.0  \n",
              "1            -2828              -940       -7463         1950.0  \n",
              "2            -2660              -925      -16704         1950.0  \n",
              "3            -2592              -919      -16650         1950.0  \n",
              "4            -2534              -943      -16139         1950.0  "
            ]
          },
          "execution_count": 36,
          "metadata": {},
          "output_type": "execute_result"
        }
      ]
    },
    {
      "cell_type": "code",
      "metadata": {
        "scrolled": true,
        "id": "nqwoptZvu0DS"
      },
      "source": [
        "data['total_revenue'] = np.ceil(data['total_revenue']).astype('int')"
      ],
      "execution_count": null,
      "outputs": []
    },
    {
      "cell_type": "code",
      "metadata": {
        "id": "aSg2EmKau0DT"
      },
      "source": [
        "#убираем лишние столбцы из таблицы\n",
        "\n",
        "data = data.drop(['messages_included','mb_per_month_included','minutes_included','rub_monthly_fee','rub_per_gb','rub_per_message','rub_per_minute'], 1)\n",
        "\n"
      ],
      "execution_count": null,
      "outputs": []
    },
    {
      "cell_type": "code",
      "metadata": {
        "id": "-i9NKLIsu0DT",
        "outputId": "51432213-56ab-4ec6-a4ed-e96882b088f5"
      },
      "source": [
        "data.head()"
      ],
      "execution_count": null,
      "outputs": [
        {
          "data": {
            "text/html": [
              "<div>\n",
              "<style scoped>\n",
              "    .dataframe tbody tr th:only-of-type {\n",
              "        vertical-align: middle;\n",
              "    }\n",
              "\n",
              "    .dataframe tbody tr th {\n",
              "        vertical-align: top;\n",
              "    }\n",
              "\n",
              "    .dataframe thead th {\n",
              "        text-align: right;\n",
              "    }\n",
              "</style>\n",
              "<table border=\"1\" class=\"dataframe\">\n",
              "  <thead>\n",
              "    <tr style=\"text-align: right;\">\n",
              "      <th></th>\n",
              "      <th>user_id</th>\n",
              "      <th>month</th>\n",
              "      <th>calls</th>\n",
              "      <th>total_duration</th>\n",
              "      <th>messages</th>\n",
              "      <th>total_mb</th>\n",
              "      <th>tariff</th>\n",
              "      <th>city</th>\n",
              "      <th>minutes_overrun</th>\n",
              "      <th>messages_overrun</th>\n",
              "      <th>mb_overrun</th>\n",
              "      <th>total_revenue</th>\n",
              "    </tr>\n",
              "  </thead>\n",
              "  <tbody>\n",
              "    <tr>\n",
              "      <td>0</td>\n",
              "      <td>1000</td>\n",
              "      <td>5</td>\n",
              "      <td>17</td>\n",
              "      <td>159</td>\n",
              "      <td>22</td>\n",
              "      <td>2256</td>\n",
              "      <td>ultra</td>\n",
              "      <td>Краснодар</td>\n",
              "      <td>-2841</td>\n",
              "      <td>-978</td>\n",
              "      <td>-28464</td>\n",
              "      <td>1950</td>\n",
              "    </tr>\n",
              "    <tr>\n",
              "      <td>1</td>\n",
              "      <td>1000</td>\n",
              "      <td>6</td>\n",
              "      <td>28</td>\n",
              "      <td>172</td>\n",
              "      <td>60</td>\n",
              "      <td>23257</td>\n",
              "      <td>ultra</td>\n",
              "      <td>Краснодар</td>\n",
              "      <td>-2828</td>\n",
              "      <td>-940</td>\n",
              "      <td>-7463</td>\n",
              "      <td>1950</td>\n",
              "    </tr>\n",
              "    <tr>\n",
              "      <td>2</td>\n",
              "      <td>1000</td>\n",
              "      <td>7</td>\n",
              "      <td>41</td>\n",
              "      <td>340</td>\n",
              "      <td>75</td>\n",
              "      <td>14016</td>\n",
              "      <td>ultra</td>\n",
              "      <td>Краснодар</td>\n",
              "      <td>-2660</td>\n",
              "      <td>-925</td>\n",
              "      <td>-16704</td>\n",
              "      <td>1950</td>\n",
              "    </tr>\n",
              "    <tr>\n",
              "      <td>3</td>\n",
              "      <td>1000</td>\n",
              "      <td>8</td>\n",
              "      <td>42</td>\n",
              "      <td>408</td>\n",
              "      <td>81</td>\n",
              "      <td>14070</td>\n",
              "      <td>ultra</td>\n",
              "      <td>Краснодар</td>\n",
              "      <td>-2592</td>\n",
              "      <td>-919</td>\n",
              "      <td>-16650</td>\n",
              "      <td>1950</td>\n",
              "    </tr>\n",
              "    <tr>\n",
              "      <td>4</td>\n",
              "      <td>1000</td>\n",
              "      <td>9</td>\n",
              "      <td>46</td>\n",
              "      <td>466</td>\n",
              "      <td>57</td>\n",
              "      <td>14581</td>\n",
              "      <td>ultra</td>\n",
              "      <td>Краснодар</td>\n",
              "      <td>-2534</td>\n",
              "      <td>-943</td>\n",
              "      <td>-16139</td>\n",
              "      <td>1950</td>\n",
              "    </tr>\n",
              "  </tbody>\n",
              "</table>\n",
              "</div>"
            ],
            "text/plain": [
              "   user_id  month  calls  total_duration  messages  total_mb tariff  \\\n",
              "0     1000      5     17             159        22      2256  ultra   \n",
              "1     1000      6     28             172        60     23257  ultra   \n",
              "2     1000      7     41             340        75     14016  ultra   \n",
              "3     1000      8     42             408        81     14070  ultra   \n",
              "4     1000      9     46             466        57     14581  ultra   \n",
              "\n",
              "        city  minutes_overrun  messages_overrun  mb_overrun  total_revenue  \n",
              "0  Краснодар            -2841              -978      -28464           1950  \n",
              "1  Краснодар            -2828              -940       -7463           1950  \n",
              "2  Краснодар            -2660              -925      -16704           1950  \n",
              "3  Краснодар            -2592              -919      -16650           1950  \n",
              "4  Краснодар            -2534              -943      -16139           1950  "
            ]
          },
          "execution_count": 39,
          "metadata": {},
          "output_type": "execute_result"
        }
      ]
    },
    {
      "cell_type": "markdown",
      "metadata": {
        "id": "pX5IzHphu0DU"
      },
      "source": [
        "В данном шаге были подготовлены данные для дальнейшего анализа: для каждого пользователя были посчитаны по месяцам составляющие тарифов и помесячная выручка."
      ]
    },
    {
      "cell_type": "markdown",
      "metadata": {
        "id": "RClllB4su0DU"
      },
      "source": [
        "## Анализ данных"
      ]
    },
    {
      "cell_type": "markdown",
      "metadata": {
        "id": "tQPunYEvu0DV"
      },
      "source": [
        "Необходимо описать поведение клиентов оператора, исходя из выборки, а именно сколько минут разговора, сколько сообщений и какой объём интернет-трафика требуется пользователям каждого тарифа в месяц. Нужно посчитать среднее количество, дисперсию и стандартное отклонение, построить гистограммы и описать распределения.\n",
        "\n",
        "Найдем среднее количество, дисперсию и стандартное отклонение для сообщений, минут разговора и потраченному интернет-трафику каждого тарифа."
      ]
    },
    {
      "cell_type": "code",
      "metadata": {
        "id": "Vz5tRBfru0DV"
      },
      "source": [
        "parameters = data.pivot_table(index='tariff', values=['total_duration','messages','total_mb'], aggfunc=[np.mean,np.var,np.std])"
      ],
      "execution_count": null,
      "outputs": []
    },
    {
      "cell_type": "code",
      "metadata": {
        "scrolled": true,
        "id": "W3iClyJcu0DV",
        "outputId": "f5285e45-7fa8-4ed7-bf12-798968eea1c8"
      },
      "source": [
        "parameters"
      ],
      "execution_count": null,
      "outputs": [
        {
          "data": {
            "text/html": [
              "<div>\n",
              "<style scoped>\n",
              "    .dataframe tbody tr th:only-of-type {\n",
              "        vertical-align: middle;\n",
              "    }\n",
              "\n",
              "    .dataframe tbody tr th {\n",
              "        vertical-align: top;\n",
              "    }\n",
              "\n",
              "    .dataframe thead tr th {\n",
              "        text-align: left;\n",
              "    }\n",
              "\n",
              "    .dataframe thead tr:last-of-type th {\n",
              "        text-align: right;\n",
              "    }\n",
              "</style>\n",
              "<table border=\"1\" class=\"dataframe\">\n",
              "  <thead>\n",
              "    <tr>\n",
              "      <th></th>\n",
              "      <th colspan=\"3\" halign=\"left\">mean</th>\n",
              "      <th colspan=\"3\" halign=\"left\">var</th>\n",
              "      <th colspan=\"3\" halign=\"left\">std</th>\n",
              "    </tr>\n",
              "    <tr>\n",
              "      <th></th>\n",
              "      <th>messages</th>\n",
              "      <th>total_duration</th>\n",
              "      <th>total_mb</th>\n",
              "      <th>messages</th>\n",
              "      <th>total_duration</th>\n",
              "      <th>total_mb</th>\n",
              "      <th>messages</th>\n",
              "      <th>total_duration</th>\n",
              "      <th>total_mb</th>\n",
              "    </tr>\n",
              "    <tr>\n",
              "      <th>tariff</th>\n",
              "      <th></th>\n",
              "      <th></th>\n",
              "      <th></th>\n",
              "      <th></th>\n",
              "      <th></th>\n",
              "      <th></th>\n",
              "      <th></th>\n",
              "      <th></th>\n",
              "      <th></th>\n",
              "    </tr>\n",
              "  </thead>\n",
              "  <tbody>\n",
              "    <tr>\n",
              "      <td>smart</td>\n",
              "      <td>33.384029</td>\n",
              "      <td>417.934948</td>\n",
              "      <td>16229.188425</td>\n",
              "      <td>796.812958</td>\n",
              "      <td>36219.315784</td>\n",
              "      <td>3.454591e+07</td>\n",
              "      <td>28.227876</td>\n",
              "      <td>190.313730</td>\n",
              "      <td>5877.576978</td>\n",
              "    </tr>\n",
              "    <tr>\n",
              "      <td>ultra</td>\n",
              "      <td>49.363452</td>\n",
              "      <td>526.623350</td>\n",
              "      <td>19486.901523</td>\n",
              "      <td>2285.266143</td>\n",
              "      <td>100873.633397</td>\n",
              "      <td>1.019356e+08</td>\n",
              "      <td>47.804457</td>\n",
              "      <td>317.606098</td>\n",
              "      <td>10096.317202</td>\n",
              "    </tr>\n",
              "  </tbody>\n",
              "</table>\n",
              "</div>"
            ],
            "text/plain": [
              "             mean                                       var                 \\\n",
              "         messages total_duration      total_mb     messages total_duration   \n",
              "tariff                                                                       \n",
              "smart   33.384029     417.934948  16229.188425   796.812958   36219.315784   \n",
              "ultra   49.363452     526.623350  19486.901523  2285.266143  100873.633397   \n",
              "\n",
              "                            std                               \n",
              "            total_mb   messages total_duration      total_mb  \n",
              "tariff                                                        \n",
              "smart   3.454591e+07  28.227876     190.313730   5877.576978  \n",
              "ultra   1.019356e+08  47.804457     317.606098  10096.317202  "
            ]
          },
          "execution_count": 41,
          "metadata": {},
          "output_type": "execute_result"
        }
      ]
    },
    {
      "cell_type": "markdown",
      "metadata": {
        "id": "rJ2PiHAeu0DV"
      },
      "source": [
        "Сравним два тарифа, построив диаграммы размаха и гистограммы для каждого параметра."
      ]
    },
    {
      "cell_type": "code",
      "metadata": {
        "id": "Cy3-fG7xu0DW",
        "outputId": "3f1ca147-ce19-42c0-da9e-53a905f9d8d0"
      },
      "source": [
        "sns.boxplot(x=\"tariff\", y='messages', data=data).set_title('Messages boxplot')"
      ],
      "execution_count": null,
      "outputs": [
        {
          "data": {
            "text/plain": [
              "Text(0.5, 1.0, 'Messages boxplot')"
            ]
          },
          "execution_count": 42,
          "metadata": {},
          "output_type": "execute_result"
        },
        {
          "data": {
            "image/png": "[encoded data removed]",
            "text/plain": [
              "<Figure size 432x288 with 1 Axes>"
            ]
          },
          "metadata": {
            "needs_background": "light"
          },
          "output_type": "display_data"
        }
      ]
    },
    {
      "cell_type": "code",
      "metadata": {
        "id": "u1_qelnQu0DW",
        "outputId": "9d0476d0-7695-4648-ce2c-793beb930890"
      },
      "source": [
        "sns.boxplot(x=\"tariff\", y='total_duration', data=data).set_title('Duration in mins boxplot')"
      ],
      "execution_count": null,
      "outputs": [
        {
          "data": {
            "text/plain": [
              "Text(0.5, 1.0, 'Duration in mins boxplot')"
            ]
          },
          "execution_count": 43,
          "metadata": {},
          "output_type": "execute_result"
        },
        {
          "data": {
            "image/png": "[encoded data removed]",
            "text/plain": [
              "<Figure size 432x288 with 1 Axes>"
            ]
          },
          "metadata": {
            "needs_background": "light"
          },
          "output_type": "display_data"
        }
      ]
    },
    {
      "cell_type": "code",
      "metadata": {
        "scrolled": false,
        "id": "slo7YYTwu0DW",
        "outputId": "6ee6e079-c1f7-4ea2-b03f-718f5c554476"
      },
      "source": [
        "sns.boxplot(x=\"tariff\", y='total_mb', data=data).set_title('MB used boxplot')"
      ],
      "execution_count": null,
      "outputs": [
        {
          "data": {
            "text/plain": [
              "Text(0.5, 1.0, 'MB used boxplot')"
            ]
          },
          "execution_count": 44,
          "metadata": {},
          "output_type": "execute_result"
        },
        {
          "data": {
            "image/png": "[encoded data removed]",
            "text/plain": [
              "<Figure size 432x288 with 1 Axes>"
            ]
          },
          "metadata": {
            "needs_background": "light"
          },
          "output_type": "display_data"
        }
      ]
    },
    {
      "cell_type": "markdown",
      "metadata": {
        "id": "XKe6EtFnu0DX"
      },
      "source": [
        "Сделаем срезы данных по двум тарифам, чтобы построить гистограммы:"
      ]
    },
    {
      "cell_type": "code",
      "metadata": {
        "id": "PqB2SMNpu0DX"
      },
      "source": [
        "smart = data.query('tariff == \"smart\"')\n",
        "ultra = data.query('tariff == \"ultra\"')"
      ],
      "execution_count": null,
      "outputs": []
    },
    {
      "cell_type": "code",
      "metadata": {
        "id": "I4xoh98Cu0DX",
        "outputId": "d998659b-77dd-48fc-f633-420700bd4b3c"
      },
      "source": [
        "sns.distplot(smart['messages'], hist=True, kde=False, label = 'Smart')\n",
        "sns.distplot(ultra['messages'], hist=True, kde=False, label = 'Ultra')\n",
        "plt.grid(True)\n",
        "plt.ylabel(\"number of uses\")\n",
        "plt.title(\"Распределение по сообщениям\")\n",
        "plt.legend()"
      ],
      "execution_count": null,
      "outputs": [
        {
          "data": {
            "text/plain": [
              "<matplotlib.legend.Legend at 0x7f6d7b24cc90>"
            ]
          },
          "execution_count": 46,
          "metadata": {},
          "output_type": "execute_result"
        },
        {
          "data": {
            "image/png": "[encoded data removed]",
            "text/plain": [
              "<Figure size 432x288 with 1 Axes>"
            ]
          },
          "metadata": {
            "needs_background": "light"
          },
          "output_type": "display_data"
        }
      ]
    },
    {
      "cell_type": "code",
      "metadata": {
        "id": "c5c7ESeou0DY",
        "outputId": "9b153332-cde5-489e-c16e-8f5e353f9757"
      },
      "source": [
        "sns.distplot(smart['total_duration'], hist=True, kde=False, label = 'Smart')\n",
        "sns.distplot(ultra['total_duration'], hist=True, kde=False, label = 'Ultra')\n",
        "plt.grid(True)\n",
        "plt.ylabel(\"number of uses\")\n",
        "plt.title(\"Распределение по длительности разговора в минутах\")\n",
        "plt.legend()"
      ],
      "execution_count": null,
      "outputs": [
        {
          "data": {
            "text/plain": [
              "<matplotlib.legend.Legend at 0x7f6d79f2e510>"
            ]
          },
          "execution_count": 47,
          "metadata": {},
          "output_type": "execute_result"
        },
        {
          "data": {
            "image/png": "[encoded data removed]",
            "text/plain": [
              "<Figure size 432x288 with 1 Axes>"
            ]
          },
          "metadata": {
            "needs_background": "light"
          },
          "output_type": "display_data"
        }
      ]
    },
    {
      "cell_type": "code",
      "metadata": {
        "id": "WvIVyPQWu0DY",
        "outputId": "f80133ee-4dc6-4db7-ec27-1fa8f8a875f8"
      },
      "source": [
        "sns.distplot(smart['total_mb'], hist=True, kde=False, label = 'Smart')\n",
        "sns.distplot(ultra['total_mb'], hist=True, kde=False, label = 'Ultra')\n",
        "plt.grid(True)\n",
        "plt.ylabel(\"number of uses\")\n",
        "plt.title(\"Распределение по использованному интернет-трафику в мб\")\n",
        "plt.legend()"
      ],
      "execution_count": null,
      "outputs": [
        {
          "data": {
            "text/plain": [
              "<matplotlib.legend.Legend at 0x7f6d79e6a190>"
            ]
          },
          "execution_count": 48,
          "metadata": {},
          "output_type": "execute_result"
        },
        {
          "data": {
            "image/png": "[encoded data removed]",
            "text/plain": [
              "<Figure size 432x288 with 1 Axes>"
            ]
          },
          "metadata": {
            "needs_background": "light"
          },
          "output_type": "display_data"
        }
      ]
    },
    {
      "cell_type": "markdown",
      "metadata": {
        "id": "4afM6aO0u0DY"
      },
      "source": [
        "Из полученных диаграмм и гистограмм видим, что показатели тарифа Ultra распределены шире, то есть дисперсия больше, что мы также видим из таблицы. Также медианы по тарифу Ultra имеют большие значения: в среднем пользователи данного тарифа отправляют около 40 сообщений, в то время как пользователи Smart тарифа - 25; разговаривают около 525 минут (Ultra), по Smart - примерно 380 минут; тратят 20 гб, а по Smart - 16 гб.\n",
        "\n",
        "Тариф Smart имеет 15 гб интернет тарифа, значит большое количество пользователей превышает тариф в данном показателе.\n",
        "\n",
        "При том, что в тариф Ultra включено значительно большее количество единиц по каждому показателю (сообщения, минуты разговора, интернет-трафик), видим, что большая часть пользователей тратят сообщения, минуты и мегабайты в диапазоне тарифа Smart."
      ]
    },
    {
      "cell_type": "markdown",
      "metadata": {
        "id": "VU8SQxfPu0DZ"
      },
      "source": [
        "Построим графики, чтобы показать как меняется использование тарифов по каждому показателю в течение года. "
      ]
    },
    {
      "cell_type": "code",
      "metadata": {
        "scrolled": true,
        "id": "Ba1oN3Euu0DZ",
        "outputId": "d8baa0fe-3895-45f5-a368-4f8dbe04febc"
      },
      "source": [
        "sns.barplot(x='month',y='messages', hue='tariff', data=data)\n",
        "plt.title(\"Распределение сообщений по месяцам\")"
      ],
      "execution_count": null,
      "outputs": [
        {
          "data": {
            "text/plain": [
              "Text(0.5, 1.0, 'Распределение сообщений по месяцам')"
            ]
          },
          "execution_count": 71,
          "metadata": {},
          "output_type": "execute_result"
        },
        {
          "data": {
            "image/png": "[encoded data removed]",
            "text/plain": [
              "<Figure size 432x288 with 1 Axes>"
            ]
          },
          "metadata": {
            "needs_background": "light"
          },
          "output_type": "display_data"
        }
      ]
    },
    {
      "cell_type": "code",
      "metadata": {
        "id": "kKWKTGhku0Da",
        "outputId": "9c74ff63-8ea3-443d-cb08-85e199052763"
      },
      "source": [
        "sns.barplot(x='month',y='total_duration', hue='tariff', data=data)\n",
        "plt.title(\"Распределение затраченных минут по месяцам\")"
      ],
      "execution_count": null,
      "outputs": [
        {
          "data": {
            "text/plain": [
              "Text(0.5, 1.0, 'Распределение затраченных минут по месяцам')"
            ]
          },
          "execution_count": 72,
          "metadata": {},
          "output_type": "execute_result"
        },
        {
          "data": {
            "image/png": "[encoded data removed]",
            "text/plain": [
              "<Figure size 432x288 with 1 Axes>"
            ]
          },
          "metadata": {
            "needs_background": "light"
          },
          "output_type": "display_data"
        }
      ]
    },
    {
      "cell_type": "code",
      "metadata": {
        "id": "UbMopB3gu0Da",
        "outputId": "371df75b-b767-4d6f-8635-e5d8f85adb42"
      },
      "source": [
        "sns.barplot(x='month',y='total_mb', hue='tariff', data=data)\n",
        "plt.title(\"Распределение интернет-трафика по месяцам\")"
      ],
      "execution_count": null,
      "outputs": [
        {
          "data": {
            "text/plain": [
              "Text(0.5, 1.0, 'Распределение интернет-трафика по месяцам')"
            ]
          },
          "execution_count": 73,
          "metadata": {},
          "output_type": "execute_result"
        },
        {
          "data": {
            "image/png": "[encoded data removed]",
            "text/plain": [
              "<Figure size 432x288 with 1 Axes>"
            ]
          },
          "metadata": {
            "needs_background": "light"
          },
          "output_type": "display_data"
        }
      ]
    },
    {
      "cell_type": "markdown",
      "metadata": {
        "id": "TnmwiaiPu0Da"
      },
      "source": [
        "Из полученных графиков видим, что пользователи отправляют больше всего сообщений, тратят больше минут разговора и интернет-трафика по обоим тарифам в декабре. Также видим превышение по интернет-трафику среди пользователей тарифа Smart с мая до конца месяца. \n",
        "\n",
        "Проанализируем эти превышения."
      ]
    },
    {
      "cell_type": "code",
      "metadata": {
        "id": "S5w_Amw_u0Db"
      },
      "source": [
        "over_limits = data.query('tariff == \"smart\" and mb_overrun > 0')"
      ],
      "execution_count": null,
      "outputs": []
    },
    {
      "cell_type": "code",
      "metadata": {
        "id": "9ZIz6X5ku0Db",
        "outputId": "460eb0b3-b146-4958-d416-30e5ba1cf9f9"
      },
      "source": [
        "over_limits['mb_overrun'].median()/1024"
      ],
      "execution_count": null,
      "outputs": [
        {
          "data": {
            "text/plain": [
              "3.9443359375"
            ]
          },
          "execution_count": 90,
          "metadata": {},
          "output_type": "execute_result"
        }
      ]
    },
    {
      "cell_type": "markdown",
      "metadata": {
        "id": "Un3ca6tbu0Db"
      },
      "source": [
        "Среди пользователей, превышающих тариф Smart, среднее количество превышения составляет 3.95 гб сверх интернет-трафика. Проверим, есть ли пользователи, которые по тарифу Smart тратят не меньше чем плата по тарифу Ultra."
      ]
    },
    {
      "cell_type": "code",
      "metadata": {
        "id": "81w5MCn8u0Db",
        "outputId": "fa82694d-c42f-482e-9777-ccce204a5e54"
      },
      "source": [
        "data.query('tariff == \"smart\" and total_revenue > 1950').count()"
      ],
      "execution_count": null,
      "outputs": [
        {
          "data": {
            "text/plain": [
              "user_id             385\n",
              "month               385\n",
              "calls               385\n",
              "total_duration      385\n",
              "messages            385\n",
              "total_mb            385\n",
              "tariff              385\n",
              "city                385\n",
              "minutes_overrun     385\n",
              "messages_overrun    385\n",
              "mb_overrun          385\n",
              "total_revenue       385\n",
              "city_category       385\n",
              "dtype: int64"
            ]
          },
          "execution_count": 104,
          "metadata": {},
          "output_type": "execute_result"
        }
      ]
    },
    {
      "cell_type": "markdown",
      "metadata": {
        "id": "9rtoN-ENu0Db"
      },
      "source": [
        "Видим, что такое встречается 385 раз, таким пользователям можно посоветовать приобретать тариф Ultra, чтобы сэкономить и тратить параметры внутри тарифа, не переплачивая."
      ]
    },
    {
      "cell_type": "markdown",
      "metadata": {
        "id": "1sCjTH9Eu0Dc"
      },
      "source": [
        "Найдем средние значения параметров, которые тратят клиенты в месяц."
      ]
    },
    {
      "cell_type": "code",
      "metadata": {
        "id": "MaP9U1lMu0Dc",
        "outputId": "4c656be3-bf97-401d-aa01-539822140b36"
      },
      "source": [
        "median_parameters = data.pivot_table(index=['user_id','tariff'],values=['total_duration','messages','total_mb','total_revenue'], aggfunc='median').astype('int')\n",
        "median_parameters                        "
      ],
      "execution_count": null,
      "outputs": [
        {
          "data": {
            "text/html": [
              "<div>\n",
              "<style scoped>\n",
              "    .dataframe tbody tr th:only-of-type {\n",
              "        vertical-align: middle;\n",
              "    }\n",
              "\n",
              "    .dataframe tbody tr th {\n",
              "        vertical-align: top;\n",
              "    }\n",
              "\n",
              "    .dataframe thead th {\n",
              "        text-align: right;\n",
              "    }\n",
              "</style>\n",
              "<table border=\"1\" class=\"dataframe\">\n",
              "  <thead>\n",
              "    <tr style=\"text-align: right;\">\n",
              "      <th></th>\n",
              "      <th></th>\n",
              "      <th>messages</th>\n",
              "      <th>total_duration</th>\n",
              "      <th>total_mb</th>\n",
              "      <th>total_revenue</th>\n",
              "    </tr>\n",
              "    <tr>\n",
              "      <th>user_id</th>\n",
              "      <th>tariff</th>\n",
              "      <th></th>\n",
              "      <th></th>\n",
              "      <th></th>\n",
              "      <th></th>\n",
              "    </tr>\n",
              "  </thead>\n",
              "  <tbody>\n",
              "    <tr>\n",
              "      <td>1000</td>\n",
              "      <td>ultra</td>\n",
              "      <td>65</td>\n",
              "      <td>339</td>\n",
              "      <td>14325</td>\n",
              "      <td>1950</td>\n",
              "    </tr>\n",
              "    <tr>\n",
              "      <td>1001</td>\n",
              "      <td>smart</td>\n",
              "      <td>0</td>\n",
              "      <td>422</td>\n",
              "      <td>16252</td>\n",
              "      <td>852</td>\n",
              "    </tr>\n",
              "    <tr>\n",
              "      <td>1002</td>\n",
              "      <td>smart</td>\n",
              "      <td>11</td>\n",
              "      <td>214</td>\n",
              "      <td>17601</td>\n",
              "      <td>988</td>\n",
              "    </tr>\n",
              "    <tr>\n",
              "      <td>1003</td>\n",
              "      <td>ultra</td>\n",
              "      <td>83</td>\n",
              "      <td>824</td>\n",
              "      <td>11368</td>\n",
              "      <td>1950</td>\n",
              "    </tr>\n",
              "    <tr>\n",
              "      <td>1004</td>\n",
              "      <td>ultra</td>\n",
              "      <td>154</td>\n",
              "      <td>132</td>\n",
              "      <td>17828</td>\n",
              "      <td>1950</td>\n",
              "    </tr>\n",
              "    <tr>\n",
              "      <td>...</td>\n",
              "      <td>...</td>\n",
              "      <td>...</td>\n",
              "      <td>...</td>\n",
              "      <td>...</td>\n",
              "      <td>...</td>\n",
              "    </tr>\n",
              "    <tr>\n",
              "      <td>1495</td>\n",
              "      <td>ultra</td>\n",
              "      <td>82</td>\n",
              "      <td>954</td>\n",
              "      <td>29393</td>\n",
              "      <td>1950</td>\n",
              "    </tr>\n",
              "    <tr>\n",
              "      <td>1496</td>\n",
              "      <td>smart</td>\n",
              "      <td>41</td>\n",
              "      <td>524</td>\n",
              "      <td>24067</td>\n",
              "      <td>2397</td>\n",
              "    </tr>\n",
              "    <tr>\n",
              "      <td>1497</td>\n",
              "      <td>smart</td>\n",
              "      <td>17</td>\n",
              "      <td>490</td>\n",
              "      <td>14174</td>\n",
              "      <td>550</td>\n",
              "    </tr>\n",
              "    <tr>\n",
              "      <td>1498</td>\n",
              "      <td>smart</td>\n",
              "      <td>43</td>\n",
              "      <td>323</td>\n",
              "      <td>21385</td>\n",
              "      <td>1727</td>\n",
              "    </tr>\n",
              "    <tr>\n",
              "      <td>1499</td>\n",
              "      <td>smart</td>\n",
              "      <td>53</td>\n",
              "      <td>470</td>\n",
              "      <td>15443</td>\n",
              "      <td>813</td>\n",
              "    </tr>\n",
              "  </tbody>\n",
              "</table>\n",
              "<p>498 rows × 4 columns</p>\n",
              "</div>"
            ],
            "text/plain": [
              "                messages  total_duration  total_mb  total_revenue\n",
              "user_id tariff                                                   \n",
              "1000    ultra         65             339     14325           1950\n",
              "1001    smart          0             422     16252            852\n",
              "1002    smart         11             214     17601            988\n",
              "1003    ultra         83             824     11368           1950\n",
              "1004    ultra        154             132     17828           1950\n",
              "...                  ...             ...       ...            ...\n",
              "1495    ultra         82             954     29393           1950\n",
              "1496    smart         41             524     24067           2397\n",
              "1497    smart         17             490     14174            550\n",
              "1498    smart         43             323     21385           1727\n",
              "1499    smart         53             470     15443            813\n",
              "\n",
              "[498 rows x 4 columns]"
            ]
          },
          "execution_count": 52,
          "metadata": {},
          "output_type": "execute_result"
        }
      ]
    },
    {
      "cell_type": "code",
      "metadata": {
        "scrolled": true,
        "id": "JEitrKMyu0Dc",
        "outputId": "739f18bf-fbdc-4bad-dd64-42fcb73f9c3c"
      },
      "source": [
        "sns.distplot(smart['total_revenue'], hist=True, kde=False, label = 'Smart')\n",
        "sns.distplot(ultra['total_revenue'], hist=True, kde=False, label = 'Ultra')\n",
        "plt.grid(True)\n",
        "plt.ylabel(\"number of uses\")\n",
        "plt.title(\"Распределение помесячной выручки\")\n",
        "plt.legend()"
      ],
      "execution_count": null,
      "outputs": [
        {
          "data": {
            "text/plain": [
              "<matplotlib.legend.Legend at 0x7f6d791d2990>"
            ]
          },
          "execution_count": 53,
          "metadata": {},
          "output_type": "execute_result"
        },
        {
          "data": {
            "image/png": "[encoded data removed]",
            "text/plain": [
              "<Figure size 432x288 with 1 Axes>"
            ]
          },
          "metadata": {
            "needs_background": "light"
          },
          "output_type": "display_data"
        }
      ]
    },
    {
      "cell_type": "code",
      "metadata": {
        "id": "hfIh4K55u0Dd",
        "outputId": "3f4a04a5-4014-4ee6-f40a-fd8fbcfecf76"
      },
      "source": [
        "revenue = data.pivot_table(index='tariff',values='total_revenue',aggfunc=['sum'])\n",
        "revenue"
      ],
      "execution_count": null,
      "outputs": [
        {
          "data": {
            "text/html": [
              "<div>\n",
              "<style scoped>\n",
              "    .dataframe tbody tr th:only-of-type {\n",
              "        vertical-align: middle;\n",
              "    }\n",
              "\n",
              "    .dataframe tbody tr th {\n",
              "        vertical-align: top;\n",
              "    }\n",
              "\n",
              "    .dataframe thead tr th {\n",
              "        text-align: left;\n",
              "    }\n",
              "\n",
              "    .dataframe thead tr:last-of-type th {\n",
              "        text-align: right;\n",
              "    }\n",
              "</style>\n",
              "<table border=\"1\" class=\"dataframe\">\n",
              "  <thead>\n",
              "    <tr>\n",
              "      <th></th>\n",
              "      <th>sum</th>\n",
              "    </tr>\n",
              "    <tr>\n",
              "      <th></th>\n",
              "      <th>total_revenue</th>\n",
              "    </tr>\n",
              "    <tr>\n",
              "      <th>tariff</th>\n",
              "      <th></th>\n",
              "    </tr>\n",
              "  </thead>\n",
              "  <tbody>\n",
              "    <tr>\n",
              "      <td>smart</td>\n",
              "      <td>2749786</td>\n",
              "    </tr>\n",
              "    <tr>\n",
              "      <td>ultra</td>\n",
              "      <td>2029690</td>\n",
              "    </tr>\n",
              "  </tbody>\n",
              "</table>\n",
              "</div>"
            ],
            "text/plain": [
              "                 sum\n",
              "       total_revenue\n",
              "tariff              \n",
              "smart        2749786\n",
              "ultra        2029690"
            ]
          },
          "execution_count": 54,
          "metadata": {},
          "output_type": "execute_result"
        }
      ]
    },
    {
      "cell_type": "code",
      "metadata": {
        "id": "fpV0p3C-u0Dd",
        "outputId": "211b682d-c5e3-40e0-d04c-f6f64cdf6979"
      },
      "source": [
        "users['tariff'].value_counts()"
      ],
      "execution_count": null,
      "outputs": [
        {
          "data": {
            "text/plain": [
              "smart    351\n",
              "ultra    149\n",
              "Name: tariff, dtype: int64"
            ]
          },
          "execution_count": 55,
          "metadata": {},
          "output_type": "execute_result"
        }
      ]
    },
    {
      "cell_type": "markdown",
      "metadata": {
        "id": "G96G11Fvu0Dd"
      },
      "source": [
        "Из таблицы видим, что тариф Smart за год принес 2.75 млн рублей, а тариф Ultra - 2.03 млн рублей при количестве пользователей 351 и 149 соответственно."
      ]
    },
    {
      "cell_type": "markdown",
      "metadata": {
        "id": "yiUYnOQ7u0Dd"
      },
      "source": [
        "## Проверка гипотез"
      ]
    },
    {
      "cell_type": "markdown",
      "metadata": {
        "id": "n6y3VIU0u0Dd"
      },
      "source": [
        "В данном шаге нужно проверить гипотезы:\n",
        "- средняя выручка пользователей тарифов «Ультра» и «Смарт» различается;\n",
        "- средняя выручка пользователей из Москвы отличается от выручки пользователей из других регионов."
      ]
    },
    {
      "cell_type": "markdown",
      "metadata": {
        "id": "XwJYiODgu0Dd"
      },
      "source": [
        "Начнём с формулировки нулевой гипотезы H₀ (она всегда должна содержать в себе равенство): средняя выручка пользователей тарифа «Ультра» равна средней выручке тарифа «Смарт».\n",
        "\n",
        "Альтернативная гипотеза H₁: средняя выручка пользователей тарифов «Ультра» и «Смарт» различается. \n",
        "\n",
        "В нашей выборке 500 единиц, поэтому возьмем уровень значимости alpha равным 1%."
      ]
    },
    {
      "cell_type": "code",
      "metadata": {
        "id": "HPooZWX4u0De"
      },
      "source": [
        "smart_rev = data.query('tariff == \"smart\"')['total_revenue']\n",
        "ultra_rev = data.query('tariff == \"ultra\"')['total_revenue']"
      ],
      "execution_count": null,
      "outputs": []
    },
    {
      "cell_type": "code",
      "metadata": {
        "id": "fDbxYlHtu0De",
        "outputId": "8cf50906-b9f2-4af5-98b5-2e6d3dd670f6"
      },
      "source": [
        "alpha = 0.01\n",
        "\n",
        "results = st.ttest_ind (smart_rev, ultra_rev, equal_var=False)\n",
        "\n",
        "print('p-значение:', results.pvalue)\n",
        "\n",
        "if results.pvalue < alpha:\n",
        "    print('Отвергаем нулевую гипотезу')\n",
        "else:\n",
        "    print('Не получилось отвергнуть нулевую гипотезу')"
      ],
      "execution_count": null,
      "outputs": [
        {
          "name": "stdout",
          "output_type": "stream",
          "text": [
            "p-значение: 1.6205727991960766e-295\n",
            "Отвергаем нулевую гипотезу\n"
          ]
        }
      ]
    },
    {
      "cell_type": "markdown",
      "metadata": {
        "id": "ylEfGW__u0De"
      },
      "source": [
        "При проверке гипотезы видим, что нулевая гипотеза была опровергнута, то есть средняя выручка пользователей тарифов «Ультра» и «Смарт» различается. Посчитаем среднюю выручку, чтобы наглядно увидеть числа."
      ]
    },
    {
      "cell_type": "code",
      "metadata": {
        "id": "VXFrYS-Vu0De",
        "outputId": "b498c859-0a5a-4e38-ab94-8546ae4f9efc"
      },
      "source": [
        "median_revenue = data.pivot_table(index='tariff', values=['total_revenue'], aggfunc='median')\n",
        "median_revenue"
      ],
      "execution_count": null,
      "outputs": [
        {
          "data": {
            "text/html": [
              "<div>\n",
              "<style scoped>\n",
              "    .dataframe tbody tr th:only-of-type {\n",
              "        vertical-align: middle;\n",
              "    }\n",
              "\n",
              "    .dataframe tbody tr th {\n",
              "        vertical-align: top;\n",
              "    }\n",
              "\n",
              "    .dataframe thead th {\n",
              "        text-align: right;\n",
              "    }\n",
              "</style>\n",
              "<table border=\"1\" class=\"dataframe\">\n",
              "  <thead>\n",
              "    <tr style=\"text-align: right;\">\n",
              "      <th></th>\n",
              "      <th>total_revenue</th>\n",
              "    </tr>\n",
              "    <tr>\n",
              "      <th>tariff</th>\n",
              "      <th></th>\n",
              "    </tr>\n",
              "  </thead>\n",
              "  <tbody>\n",
              "    <tr>\n",
              "      <td>smart</td>\n",
              "      <td>960</td>\n",
              "    </tr>\n",
              "    <tr>\n",
              "      <td>ultra</td>\n",
              "      <td>1950</td>\n",
              "    </tr>\n",
              "  </tbody>\n",
              "</table>\n",
              "</div>"
            ],
            "text/plain": [
              "        total_revenue\n",
              "tariff               \n",
              "smart             960\n",
              "ultra            1950"
            ]
          },
          "execution_count": 58,
          "metadata": {},
          "output_type": "execute_result"
        }
      ]
    },
    {
      "cell_type": "markdown",
      "metadata": {
        "id": "r0Y92qelu0Df"
      },
      "source": [
        "Из полученного результата видим, что по тарифу Ultra пользователи укладываются в тариф, и выручка составляет только ежемесячную плату за тариф. В то время как по тарифу Smart пользователи выходят сверх тарифного плана, ежемесячная плата за который составляет 550 рублей.\n",
        "\n",
        "Перейдем к проверке второй гипотезы.\n",
        "\n",
        "Нулевая гипотеза H₀: средняя выручка пользователей из Москвы равна выручке пользователей из других регионов.\n",
        "\n",
        "Альтернативная гипотеза H₁: средняя выручка пользователей из Москвы отличается от выручки пользователей из других регионов."
      ]
    },
    {
      "cell_type": "code",
      "metadata": {
        "id": "8wavaTk9u0Df"
      },
      "source": [
        "moscow_rev = data.query('city == \"Москва\"')['total_revenue']\n",
        "others_rev = data.query('city != \"Москва\"')['total_revenue']"
      ],
      "execution_count": null,
      "outputs": []
    },
    {
      "cell_type": "code",
      "metadata": {
        "id": "3CPrnkGcu0Df",
        "outputId": "10fbce93-1404-4678-c4f1-8728a9e94114"
      },
      "source": [
        "alpha = 0.01\n",
        "\n",
        "results = st.ttest_ind (moscow_rev, others_rev, equal_var=False)\n",
        "\n",
        "print('p-значение:', results.pvalue)\n",
        "\n",
        "if results.pvalue < alpha:\n",
        "    print('Отвергаем нулевую гипотезу')\n",
        "else:\n",
        "    print('Не получилось отвергнуть нулевую гипотезу')"
      ],
      "execution_count": null,
      "outputs": [
        {
          "name": "stdout",
          "output_type": "stream",
          "text": [
            "p-значение: 0.4553974892423337\n",
            "Не получилось отвергнуть нулевую гипотезу\n"
          ]
        }
      ]
    },
    {
      "cell_type": "markdown",
      "metadata": {
        "id": "lvDYoq5wu0Df"
      },
      "source": [
        "Нулевую гипотезу опровергнуть не получилось, значит средняя выручка пользователей из Москвы равна средней выручке пользователей из других регионов. Посчитаем выручки, чтобы увидеть результат. Для этого города кроме Москвы соберем в одну группу."
      ]
    },
    {
      "cell_type": "code",
      "metadata": {
        "id": "Ph2qzUthu0Df"
      },
      "source": [
        "def city(city):\n",
        "    if city['city'] == \"Москва\":\n",
        "        return 'Москва'\n",
        "    else: return 'Другие города'\n",
        "    \n",
        "data['city_category'] = data.apply(city,1)"
      ],
      "execution_count": null,
      "outputs": []
    },
    {
      "cell_type": "code",
      "metadata": {
        "id": "3KjtGt1Ru0Dg",
        "outputId": "2937aac6-312a-4294-a668-ef04c9e6c9f2"
      },
      "source": [
        "data"
      ],
      "execution_count": null,
      "outputs": [
        {
          "data": {
            "text/html": [
              "<div>\n",
              "<style scoped>\n",
              "    .dataframe tbody tr th:only-of-type {\n",
              "        vertical-align: middle;\n",
              "    }\n",
              "\n",
              "    .dataframe tbody tr th {\n",
              "        vertical-align: top;\n",
              "    }\n",
              "\n",
              "    .dataframe thead th {\n",
              "        text-align: right;\n",
              "    }\n",
              "</style>\n",
              "<table border=\"1\" class=\"dataframe\">\n",
              "  <thead>\n",
              "    <tr style=\"text-align: right;\">\n",
              "      <th></th>\n",
              "      <th>user_id</th>\n",
              "      <th>month</th>\n",
              "      <th>calls</th>\n",
              "      <th>total_duration</th>\n",
              "      <th>messages</th>\n",
              "      <th>total_mb</th>\n",
              "      <th>tariff</th>\n",
              "      <th>city</th>\n",
              "      <th>minutes_overrun</th>\n",
              "      <th>messages_overrun</th>\n",
              "      <th>mb_overrun</th>\n",
              "      <th>total_revenue</th>\n",
              "      <th>city_category</th>\n",
              "    </tr>\n",
              "  </thead>\n",
              "  <tbody>\n",
              "    <tr>\n",
              "      <td>0</td>\n",
              "      <td>1000</td>\n",
              "      <td>5</td>\n",
              "      <td>17</td>\n",
              "      <td>159</td>\n",
              "      <td>22</td>\n",
              "      <td>2256</td>\n",
              "      <td>ultra</td>\n",
              "      <td>Краснодар</td>\n",
              "      <td>-2841</td>\n",
              "      <td>-978</td>\n",
              "      <td>-28464</td>\n",
              "      <td>1950</td>\n",
              "      <td>Другие города</td>\n",
              "    </tr>\n",
              "    <tr>\n",
              "      <td>1</td>\n",
              "      <td>1000</td>\n",
              "      <td>6</td>\n",
              "      <td>28</td>\n",
              "      <td>172</td>\n",
              "      <td>60</td>\n",
              "      <td>23257</td>\n",
              "      <td>ultra</td>\n",
              "      <td>Краснодар</td>\n",
              "      <td>-2828</td>\n",
              "      <td>-940</td>\n",
              "      <td>-7463</td>\n",
              "      <td>1950</td>\n",
              "      <td>Другие города</td>\n",
              "    </tr>\n",
              "    <tr>\n",
              "      <td>2</td>\n",
              "      <td>1000</td>\n",
              "      <td>7</td>\n",
              "      <td>41</td>\n",
              "      <td>340</td>\n",
              "      <td>75</td>\n",
              "      <td>14016</td>\n",
              "      <td>ultra</td>\n",
              "      <td>Краснодар</td>\n",
              "      <td>-2660</td>\n",
              "      <td>-925</td>\n",
              "      <td>-16704</td>\n",
              "      <td>1950</td>\n",
              "      <td>Другие города</td>\n",
              "    </tr>\n",
              "    <tr>\n",
              "      <td>3</td>\n",
              "      <td>1000</td>\n",
              "      <td>8</td>\n",
              "      <td>42</td>\n",
              "      <td>408</td>\n",
              "      <td>81</td>\n",
              "      <td>14070</td>\n",
              "      <td>ultra</td>\n",
              "      <td>Краснодар</td>\n",
              "      <td>-2592</td>\n",
              "      <td>-919</td>\n",
              "      <td>-16650</td>\n",
              "      <td>1950</td>\n",
              "      <td>Другие города</td>\n",
              "    </tr>\n",
              "    <tr>\n",
              "      <td>4</td>\n",
              "      <td>1000</td>\n",
              "      <td>9</td>\n",
              "      <td>46</td>\n",
              "      <td>466</td>\n",
              "      <td>57</td>\n",
              "      <td>14581</td>\n",
              "      <td>ultra</td>\n",
              "      <td>Краснодар</td>\n",
              "      <td>-2534</td>\n",
              "      <td>-943</td>\n",
              "      <td>-16139</td>\n",
              "      <td>1950</td>\n",
              "      <td>Другие города</td>\n",
              "    </tr>\n",
              "    <tr>\n",
              "      <td>...</td>\n",
              "      <td>...</td>\n",
              "      <td>...</td>\n",
              "      <td>...</td>\n",
              "      <td>...</td>\n",
              "      <td>...</td>\n",
              "      <td>...</td>\n",
              "      <td>...</td>\n",
              "      <td>...</td>\n",
              "      <td>...</td>\n",
              "      <td>...</td>\n",
              "      <td>...</td>\n",
              "      <td>...</td>\n",
              "      <td>...</td>\n",
              "    </tr>\n",
              "    <tr>\n",
              "      <td>3209</td>\n",
              "      <td>1489</td>\n",
              "      <td>10</td>\n",
              "      <td>0</td>\n",
              "      <td>0</td>\n",
              "      <td>21</td>\n",
              "      <td>19588</td>\n",
              "      <td>smart</td>\n",
              "      <td>Санкт-Петербург</td>\n",
              "      <td>-500</td>\n",
              "      <td>-29</td>\n",
              "      <td>4228</td>\n",
              "      <td>1376</td>\n",
              "      <td>Другие города</td>\n",
              "    </tr>\n",
              "    <tr>\n",
              "      <td>3210</td>\n",
              "      <td>1489</td>\n",
              "      <td>11</td>\n",
              "      <td>0</td>\n",
              "      <td>0</td>\n",
              "      <td>20</td>\n",
              "      <td>17516</td>\n",
              "      <td>smart</td>\n",
              "      <td>Санкт-Петербург</td>\n",
              "      <td>-500</td>\n",
              "      <td>-30</td>\n",
              "      <td>2156</td>\n",
              "      <td>972</td>\n",
              "      <td>Другие города</td>\n",
              "    </tr>\n",
              "    <tr>\n",
              "      <td>3211</td>\n",
              "      <td>1489</td>\n",
              "      <td>12</td>\n",
              "      <td>0</td>\n",
              "      <td>0</td>\n",
              "      <td>35</td>\n",
              "      <td>17341</td>\n",
              "      <td>smart</td>\n",
              "      <td>Санкт-Петербург</td>\n",
              "      <td>-500</td>\n",
              "      <td>-15</td>\n",
              "      <td>1981</td>\n",
              "      <td>937</td>\n",
              "      <td>Другие города</td>\n",
              "    </tr>\n",
              "    <tr>\n",
              "      <td>3212</td>\n",
              "      <td>1240</td>\n",
              "      <td>2</td>\n",
              "      <td>0</td>\n",
              "      <td>0</td>\n",
              "      <td>0</td>\n",
              "      <td>961</td>\n",
              "      <td>ultra</td>\n",
              "      <td>Воронеж</td>\n",
              "      <td>-3000</td>\n",
              "      <td>-1000</td>\n",
              "      <td>-29759</td>\n",
              "      <td>1950</td>\n",
              "      <td>Другие города</td>\n",
              "    </tr>\n",
              "    <tr>\n",
              "      <td>3213</td>\n",
              "      <td>1476</td>\n",
              "      <td>4</td>\n",
              "      <td>0</td>\n",
              "      <td>0</td>\n",
              "      <td>0</td>\n",
              "      <td>531</td>\n",
              "      <td>ultra</td>\n",
              "      <td>Москва</td>\n",
              "      <td>-3000</td>\n",
              "      <td>-1000</td>\n",
              "      <td>-30189</td>\n",
              "      <td>1950</td>\n",
              "      <td>Москва</td>\n",
              "    </tr>\n",
              "  </tbody>\n",
              "</table>\n",
              "<p>3214 rows × 13 columns</p>\n",
              "</div>"
            ],
            "text/plain": [
              "      user_id  month  calls  total_duration  messages  total_mb tariff  \\\n",
              "0        1000      5     17             159        22      2256  ultra   \n",
              "1        1000      6     28             172        60     23257  ultra   \n",
              "2        1000      7     41             340        75     14016  ultra   \n",
              "3        1000      8     42             408        81     14070  ultra   \n",
              "4        1000      9     46             466        57     14581  ultra   \n",
              "...       ...    ...    ...             ...       ...       ...    ...   \n",
              "3209     1489     10      0               0        21     19588  smart   \n",
              "3210     1489     11      0               0        20     17516  smart   \n",
              "3211     1489     12      0               0        35     17341  smart   \n",
              "3212     1240      2      0               0         0       961  ultra   \n",
              "3213     1476      4      0               0         0       531  ultra   \n",
              "\n",
              "                 city  minutes_overrun  messages_overrun  mb_overrun  \\\n",
              "0           Краснодар            -2841              -978      -28464   \n",
              "1           Краснодар            -2828              -940       -7463   \n",
              "2           Краснодар            -2660              -925      -16704   \n",
              "3           Краснодар            -2592              -919      -16650   \n",
              "4           Краснодар            -2534              -943      -16139   \n",
              "...               ...              ...               ...         ...   \n",
              "3209  Санкт-Петербург             -500               -29        4228   \n",
              "3210  Санкт-Петербург             -500               -30        2156   \n",
              "3211  Санкт-Петербург             -500               -15        1981   \n",
              "3212          Воронеж            -3000             -1000      -29759   \n",
              "3213           Москва            -3000             -1000      -30189   \n",
              "\n",
              "      total_revenue  city_category  \n",
              "0              1950  Другие города  \n",
              "1              1950  Другие города  \n",
              "2              1950  Другие города  \n",
              "3              1950  Другие города  \n",
              "4              1950  Другие города  \n",
              "...             ...            ...  \n",
              "3209           1376  Другие города  \n",
              "3210            972  Другие города  \n",
              "3211            937  Другие города  \n",
              "3212           1950  Другие города  \n",
              "3213           1950         Москва  \n",
              "\n",
              "[3214 rows x 13 columns]"
            ]
          },
          "execution_count": 62,
          "metadata": {},
          "output_type": "execute_result"
        }
      ]
    },
    {
      "cell_type": "code",
      "metadata": {
        "id": "g9qBubL1u0Dg",
        "outputId": "27875c8d-7706-4fef-89e9-2514567d75bc"
      },
      "source": [
        "cities_revenue = data.pivot_table(index='city_category', values=['total_revenue'], aggfunc='median')\n",
        "cities_revenue"
      ],
      "execution_count": null,
      "outputs": [
        {
          "data": {
            "text/html": [
              "<div>\n",
              "<style scoped>\n",
              "    .dataframe tbody tr th:only-of-type {\n",
              "        vertical-align: middle;\n",
              "    }\n",
              "\n",
              "    .dataframe tbody tr th {\n",
              "        vertical-align: top;\n",
              "    }\n",
              "\n",
              "    .dataframe thead th {\n",
              "        text-align: right;\n",
              "    }\n",
              "</style>\n",
              "<table border=\"1\" class=\"dataframe\">\n",
              "  <thead>\n",
              "    <tr style=\"text-align: right;\">\n",
              "      <th></th>\n",
              "      <th>total_revenue</th>\n",
              "    </tr>\n",
              "    <tr>\n",
              "      <th>city_category</th>\n",
              "      <th></th>\n",
              "    </tr>\n",
              "  </thead>\n",
              "  <tbody>\n",
              "    <tr>\n",
              "      <td>Другие города</td>\n",
              "      <td>1519</td>\n",
              "    </tr>\n",
              "    <tr>\n",
              "      <td>Москва</td>\n",
              "      <td>1705</td>\n",
              "    </tr>\n",
              "  </tbody>\n",
              "</table>\n",
              "</div>"
            ],
            "text/plain": [
              "               total_revenue\n",
              "city_category               \n",
              "Другие города           1519\n",
              "Москва                  1705"
            ]
          },
          "execution_count": 63,
          "metadata": {},
          "output_type": "execute_result"
        }
      ]
    },
    {
      "cell_type": "markdown",
      "metadata": {
        "id": "Lh6S5BBmu0Dg"
      },
      "source": [
        "Из полученного результата видим, что выручка пользователей из Москвы и других городов отличается немного, она выше на 12%."
      ]
    },
    {
      "cell_type": "markdown",
      "metadata": {
        "id": "1TUV7XXMu0Dh"
      },
      "source": [
        "## Общий вывод"
      ]
    },
    {
      "cell_type": "markdown",
      "metadata": {
        "id": "kuwIWOvYu0Dh"
      },
      "source": [
        "В ходе данного проекта были проанализированы данные 500 пользователей тарифов Smart и Ultra сети \"Мегалайн\". \n",
        "\n",
        "Из полученных результатов можно сделать вывод, что в среднем компания получает от пользователя тарифа Ultra 1950 рублей в месяц, а от пользователя тарифа Smart - 960 рублей. При этом, значительное количество пользователей тарифа Smart выходят сверх тарифного плана по интернет-трафику на 3.95 гб. Сумма превышения по тарифу составляет 410 рублей (960 р - 550р). Были найдены пользователи, которые по тарифу Smart платят больше чем за тариф Ultra, таким пользователям лучше перейти на тариф Ultra.\n",
        "\n",
        "Пользователи тарифа Ultra стабильней пользуются тарифом, не выходя сверх включенных единиц. \n",
        "\n",
        "Несмотря на то, что выручка от тарифа Ultra меньше и составляет 2.03 млн рублей, а от тарифа Smart - 2.75 млн рублей, количество пользователей в 2.4 раза меньше, 351 против 149. Поэтому для дальнейшего продвижения и рекламы наиболее подходит тариф Ultra. \n",
        "\n",
        "Также при проверке гипотез было показано, что выручка пользователей из Москвы и других городов в среднем практически не различается."
      ]
    }
  ]
}