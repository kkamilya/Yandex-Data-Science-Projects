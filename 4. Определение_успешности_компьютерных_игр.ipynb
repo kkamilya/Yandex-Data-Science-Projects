{
  "nbformat": 4,
  "nbformat_minor": 0,
  "metadata": {
    "ExecuteTimeLog": [
      {
        "duration": 1503,
        "start_time": "2021-06-08T17:11:24.022Z"
      },
      {
        "duration": 48,
        "start_time": "2021-06-08T17:11:50.251Z"
      },
      {
        "duration": 33,
        "start_time": "2021-06-08T17:12:07.870Z"
      },
      {
        "duration": 30,
        "start_time": "2021-06-08T17:12:22.081Z"
      },
      {
        "duration": 29,
        "start_time": "2021-06-08T17:12:33.253Z"
      },
      {
        "duration": 417,
        "start_time": "2021-06-10T09:45:13.695Z"
      },
      {
        "duration": 1612,
        "start_time": "2021-06-10T09:45:22.614Z"
      },
      {
        "duration": 48,
        "start_time": "2021-06-10T09:45:24.229Z"
      },
      {
        "duration": 52,
        "start_time": "2021-06-10T09:45:24.279Z"
      },
      {
        "duration": 4,
        "start_time": "2021-06-10T09:45:24.334Z"
      },
      {
        "duration": 37,
        "start_time": "2021-06-10T09:45:33.021Z"
      },
      {
        "duration": 9,
        "start_time": "2021-06-10T09:48:29.240Z"
      },
      {
        "duration": 15,
        "start_time": "2021-06-10T09:48:35.442Z"
      },
      {
        "duration": 31,
        "start_time": "2021-06-10T09:48:43.963Z"
      },
      {
        "duration": 11,
        "start_time": "2021-06-10T09:58:47.009Z"
      },
      {
        "duration": 32,
        "start_time": "2021-06-10T09:58:50.533Z"
      },
      {
        "duration": 15,
        "start_time": "2021-06-10T09:58:57.257Z"
      },
      {
        "duration": 9,
        "start_time": "2021-06-10T09:59:17.357Z"
      },
      {
        "duration": 14,
        "start_time": "2021-06-10T09:59:21.594Z"
      },
      {
        "duration": 13,
        "start_time": "2021-06-10T10:09:47.929Z"
      },
      {
        "duration": 1559,
        "start_time": "2021-06-11T13:57:52.654Z"
      },
      {
        "duration": 50,
        "start_time": "2021-06-11T13:57:54.216Z"
      },
      {
        "duration": 35,
        "start_time": "2021-06-11T13:57:54.270Z"
      },
      {
        "duration": 18,
        "start_time": "2021-06-11T13:57:54.309Z"
      },
      {
        "duration": 13,
        "start_time": "2021-06-11T13:57:54.330Z"
      },
      {
        "duration": 23,
        "start_time": "2021-06-11T13:57:54.347Z"
      },
      {
        "duration": 12,
        "start_time": "2021-06-11T13:57:54.372Z"
      },
      {
        "duration": 406,
        "start_time": "2021-06-12T19:14:27.181Z"
      },
      {
        "duration": 1580,
        "start_time": "2021-06-12T19:14:37.214Z"
      },
      {
        "duration": 47,
        "start_time": "2021-06-12T19:14:38.796Z"
      },
      {
        "duration": 33,
        "start_time": "2021-06-12T19:14:38.846Z"
      },
      {
        "duration": 3,
        "start_time": "2021-06-12T19:14:38.882Z"
      },
      {
        "duration": 492,
        "start_time": "2021-06-12T19:14:38.908Z"
      },
      {
        "duration": -295,
        "start_time": "2021-06-12T19:14:39.697Z"
      },
      {
        "duration": -297,
        "start_time": "2021-06-12T19:14:39.700Z"
      },
      {
        "duration": 7,
        "start_time": "2021-06-12T19:15:33.751Z"
      },
      {
        "duration": 17,
        "start_time": "2021-06-12T19:15:38.007Z"
      },
      {
        "duration": 13,
        "start_time": "2021-06-12T19:15:41.831Z"
      },
      {
        "duration": 10,
        "start_time": "2021-06-12T19:24:47.130Z"
      },
      {
        "duration": 11,
        "start_time": "2021-06-12T19:25:07.188Z"
      },
      {
        "duration": 7,
        "start_time": "2021-06-12T19:45:27.192Z"
      },
      {
        "duration": 12,
        "start_time": "2021-06-12T19:45:35.347Z"
      },
      {
        "duration": 11,
        "start_time": "2021-06-12T19:46:32.428Z"
      },
      {
        "duration": 6,
        "start_time": "2021-06-12T19:46:35.231Z"
      },
      {
        "duration": 6,
        "start_time": "2021-06-12T19:46:36.415Z"
      },
      {
        "duration": 1341,
        "start_time": "2021-06-13T06:39:55.810Z"
      },
      {
        "duration": 47,
        "start_time": "2021-06-13T06:39:57.154Z"
      },
      {
        "duration": 34,
        "start_time": "2021-06-13T06:39:57.205Z"
      },
      {
        "duration": 4,
        "start_time": "2021-06-13T06:39:57.243Z"
      },
      {
        "duration": 40,
        "start_time": "2021-06-13T06:39:57.250Z"
      },
      {
        "duration": 14,
        "start_time": "2021-06-13T06:39:57.292Z"
      },
      {
        "duration": 12,
        "start_time": "2021-06-13T06:39:57.308Z"
      },
      {
        "duration": 9,
        "start_time": "2021-06-13T06:39:57.323Z"
      },
      {
        "duration": 6,
        "start_time": "2021-06-13T06:39:57.334Z"
      },
      {
        "duration": 50,
        "start_time": "2021-06-13T06:39:57.342Z"
      },
      {
        "duration": 54,
        "start_time": "2021-06-13T07:08:27.042Z"
      },
      {
        "duration": 7,
        "start_time": "2021-06-13T07:09:40.436Z"
      },
      {
        "duration": 31,
        "start_time": "2021-06-13T07:09:53.333Z"
      },
      {
        "duration": 95,
        "start_time": "2021-06-13T07:24:25.179Z"
      },
      {
        "duration": 90,
        "start_time": "2021-06-13T07:24:44.017Z"
      },
      {
        "duration": 87,
        "start_time": "2021-06-13T07:25:14.993Z"
      },
      {
        "duration": 301,
        "start_time": "2021-06-13T07:25:37.124Z"
      },
      {
        "duration": 9,
        "start_time": "2021-06-13T07:25:46.802Z"
      },
      {
        "duration": 9,
        "start_time": "2021-06-13T07:25:56.633Z"
      },
      {
        "duration": 9,
        "start_time": "2021-06-13T07:35:11.453Z"
      },
      {
        "duration": 35,
        "start_time": "2021-06-13T07:38:11.125Z"
      },
      {
        "duration": 22,
        "start_time": "2021-06-13T07:38:40.069Z"
      },
      {
        "duration": 8,
        "start_time": "2021-06-13T07:46:22.014Z"
      },
      {
        "duration": 15,
        "start_time": "2021-06-13T08:07:26.398Z"
      },
      {
        "duration": 11,
        "start_time": "2021-06-13T08:07:41.410Z"
      },
      {
        "duration": 439,
        "start_time": "2021-06-13T08:08:09.919Z"
      },
      {
        "duration": 16,
        "start_time": "2021-06-13T08:08:39.557Z"
      },
      {
        "duration": 10,
        "start_time": "2021-06-13T08:08:42.022Z"
      },
      {
        "duration": 7,
        "start_time": "2021-06-13T08:31:39.014Z"
      },
      {
        "duration": 296,
        "start_time": "2021-06-13T08:32:24.720Z"
      },
      {
        "duration": 37,
        "start_time": "2021-06-13T08:32:42.769Z"
      },
      {
        "duration": 7,
        "start_time": "2021-06-13T08:32:49.062Z"
      },
      {
        "duration": 14,
        "start_time": "2021-06-13T08:33:16.550Z"
      },
      {
        "duration": 16,
        "start_time": "2021-06-13T08:33:28.483Z"
      },
      {
        "duration": 9,
        "start_time": "2021-06-13T08:33:34.643Z"
      },
      {
        "duration": 10,
        "start_time": "2021-06-13T08:35:23.229Z"
      },
      {
        "duration": 16,
        "start_time": "2021-06-13T08:35:26.897Z"
      },
      {
        "duration": 1379,
        "start_time": "2021-06-13T08:35:35.337Z"
      },
      {
        "duration": 47,
        "start_time": "2021-06-13T08:35:36.719Z"
      },
      {
        "duration": 39,
        "start_time": "2021-06-13T08:35:36.769Z"
      },
      {
        "duration": 4,
        "start_time": "2021-06-13T08:35:36.811Z"
      },
      {
        "duration": 10,
        "start_time": "2021-06-13T08:35:36.818Z"
      },
      {
        "duration": 15,
        "start_time": "2021-06-13T08:35:36.831Z"
      },
      {
        "duration": 57,
        "start_time": "2021-06-13T08:35:36.849Z"
      },
      {
        "duration": 10,
        "start_time": "2021-06-13T08:35:36.909Z"
      },
      {
        "duration": 13,
        "start_time": "2021-06-13T08:35:36.922Z"
      },
      {
        "duration": 49,
        "start_time": "2021-06-13T08:35:36.939Z"
      },
      {
        "duration": 9,
        "start_time": "2021-06-13T08:35:36.992Z"
      },
      {
        "duration": 16,
        "start_time": "2021-06-13T08:35:37.004Z"
      },
      {
        "duration": 16,
        "start_time": "2021-06-13T08:35:37.023Z"
      },
      {
        "duration": 49,
        "start_time": "2021-06-13T08:35:37.042Z"
      },
      {
        "duration": 10,
        "start_time": "2021-06-13T08:35:37.093Z"
      },
      {
        "duration": 18,
        "start_time": "2021-06-13T08:35:37.105Z"
      },
      {
        "duration": 10,
        "start_time": "2021-06-13T08:35:37.126Z"
      },
      {
        "duration": 45,
        "start_time": "2021-06-13T08:35:37.138Z"
      },
      {
        "duration": 13,
        "start_time": "2021-06-13T08:35:37.186Z"
      },
      {
        "duration": 35,
        "start_time": "2021-06-13T08:35:37.202Z"
      },
      {
        "duration": 13,
        "start_time": "2021-06-13T08:35:37.240Z"
      },
      {
        "duration": 32,
        "start_time": "2021-06-13T08:38:44.660Z"
      },
      {
        "duration": 7,
        "start_time": "2021-06-13T08:39:00.456Z"
      },
      {
        "duration": 12,
        "start_time": "2021-06-13T08:39:02.572Z"
      },
      {
        "duration": 6,
        "start_time": "2021-06-13T08:40:19.019Z"
      },
      {
        "duration": 9,
        "start_time": "2021-06-13T08:40:22.094Z"
      },
      {
        "duration": 21,
        "start_time": "2021-06-13T08:40:30.791Z"
      },
      {
        "duration": 8,
        "start_time": "2021-06-13T08:40:34.656Z"
      },
      {
        "duration": 5,
        "start_time": "2021-06-13T08:42:35.431Z"
      },
      {
        "duration": 21,
        "start_time": "2021-06-13T08:42:38.305Z"
      },
      {
        "duration": 8,
        "start_time": "2021-06-13T08:42:39.985Z"
      },
      {
        "duration": 23,
        "start_time": "2021-06-13T08:42:56.478Z"
      },
      {
        "duration": 15,
        "start_time": "2021-06-13T08:42:57.943Z"
      },
      {
        "duration": 12,
        "start_time": "2021-06-13T08:43:37.012Z"
      },
      {
        "duration": 22,
        "start_time": "2021-06-13T08:44:15.182Z"
      },
      {
        "duration": 8,
        "start_time": "2021-06-13T08:44:16.958Z"
      },
      {
        "duration": 6638,
        "start_time": "2021-06-13T08:44:35.144Z"
      },
      {
        "duration": 3,
        "start_time": "2021-06-13T08:46:07.937Z"
      },
      {
        "duration": 25,
        "start_time": "2021-06-13T08:46:10.110Z"
      },
      {
        "duration": 15,
        "start_time": "2021-06-13T08:46:12.041Z"
      },
      {
        "duration": 11,
        "start_time": "2021-06-13T08:48:12.330Z"
      },
      {
        "duration": 15,
        "start_time": "2021-06-13T08:48:23.091Z"
      },
      {
        "duration": 310,
        "start_time": "2021-06-13T08:51:16.491Z"
      },
      {
        "duration": 16,
        "start_time": "2021-06-13T08:51:22.590Z"
      },
      {
        "duration": 11,
        "start_time": "2021-06-13T08:51:29.224Z"
      },
      {
        "duration": 268,
        "start_time": "2021-06-13T08:51:40.371Z"
      },
      {
        "duration": 12,
        "start_time": "2021-06-13T08:51:45.158Z"
      },
      {
        "duration": 4,
        "start_time": "2021-06-13T08:52:43.583Z"
      },
      {
        "duration": 25,
        "start_time": "2021-06-13T08:52:45.116Z"
      },
      {
        "duration": 15,
        "start_time": "2021-06-13T08:52:46.996Z"
      },
      {
        "duration": 23,
        "start_time": "2021-06-13T08:53:56.377Z"
      },
      {
        "duration": 7,
        "start_time": "2021-06-13T08:53:58.359Z"
      },
      {
        "duration": 25,
        "start_time": "2021-06-13T08:54:03.765Z"
      },
      {
        "duration": 16,
        "start_time": "2021-06-13T08:54:05.684Z"
      },
      {
        "duration": 1540,
        "start_time": "2021-06-13T08:56:08.436Z"
      },
      {
        "duration": 1131,
        "start_time": "2021-06-13T08:58:42.530Z"
      },
      {
        "duration": 265,
        "start_time": "2021-06-13T09:03:09.789Z"
      },
      {
        "duration": 9,
        "start_time": "2021-06-13T09:03:17.476Z"
      },
      {
        "duration": 494,
        "start_time": "2021-06-13T09:03:33.158Z"
      },
      {
        "duration": 8,
        "start_time": "2021-06-13T09:03:54.280Z"
      },
      {
        "duration": 425,
        "start_time": "2021-06-13T09:04:00.972Z"
      },
      {
        "duration": 421,
        "start_time": "2021-06-13T09:04:11.465Z"
      },
      {
        "duration": 404,
        "start_time": "2021-06-13T09:04:43.724Z"
      },
      {
        "duration": 409,
        "start_time": "2021-06-13T09:05:33.493Z"
      },
      {
        "duration": 401,
        "start_time": "2021-06-13T09:05:41.816Z"
      },
      {
        "duration": 389,
        "start_time": "2021-06-13T09:06:09.643Z"
      },
      {
        "duration": 1600,
        "start_time": "2021-06-13T09:07:00.453Z"
      },
      {
        "duration": 72,
        "start_time": "2021-06-13T09:07:02.056Z"
      },
      {
        "duration": 35,
        "start_time": "2021-06-13T09:07:02.132Z"
      },
      {
        "duration": 4,
        "start_time": "2021-06-13T09:07:02.170Z"
      },
      {
        "duration": 6,
        "start_time": "2021-06-13T09:07:02.184Z"
      },
      {
        "duration": 15,
        "start_time": "2021-06-13T09:07:02.193Z"
      },
      {
        "duration": 38,
        "start_time": "2021-06-13T09:07:02.211Z"
      },
      {
        "duration": 9,
        "start_time": "2021-06-13T09:07:02.252Z"
      },
      {
        "duration": 13,
        "start_time": "2021-06-13T09:07:02.283Z"
      },
      {
        "duration": 14,
        "start_time": "2021-06-13T09:07:02.300Z"
      },
      {
        "duration": 17,
        "start_time": "2021-06-13T09:07:02.316Z"
      },
      {
        "duration": 14,
        "start_time": "2021-06-13T09:07:02.336Z"
      },
      {
        "duration": 9,
        "start_time": "2021-06-13T09:07:02.384Z"
      },
      {
        "duration": 23,
        "start_time": "2021-06-13T09:07:02.396Z"
      },
      {
        "duration": 16,
        "start_time": "2021-06-13T09:07:02.422Z"
      },
      {
        "duration": 51,
        "start_time": "2021-06-13T09:07:02.440Z"
      },
      {
        "duration": 11,
        "start_time": "2021-06-13T09:07:02.494Z"
      },
      {
        "duration": 20,
        "start_time": "2021-06-13T09:07:02.508Z"
      },
      {
        "duration": 8,
        "start_time": "2021-06-13T09:07:02.531Z"
      },
      {
        "duration": 51,
        "start_time": "2021-06-13T09:07:02.541Z"
      },
      {
        "duration": 19,
        "start_time": "2021-06-13T09:07:02.594Z"
      },
      {
        "duration": 407,
        "start_time": "2021-06-13T09:07:02.616Z"
      },
      {
        "duration": 421,
        "start_time": "2021-06-13T09:07:03.026Z"
      },
      {
        "duration": 400,
        "start_time": "2021-06-13T09:07:03.450Z"
      },
      {
        "duration": 378,
        "start_time": "2021-06-13T09:07:03.852Z"
      },
      {
        "duration": 495,
        "start_time": "2021-06-13T09:07:04.232Z"
      },
      {
        "duration": 504,
        "start_time": "2021-06-13T09:09:38.610Z"
      },
      {
        "duration": 1391,
        "start_time": "2021-06-13T09:11:16.779Z"
      },
      {
        "duration": 48,
        "start_time": "2021-06-13T09:11:18.172Z"
      },
      {
        "duration": 34,
        "start_time": "2021-06-13T09:11:18.223Z"
      },
      {
        "duration": 4,
        "start_time": "2021-06-13T09:11:18.260Z"
      },
      {
        "duration": 4,
        "start_time": "2021-06-13T09:11:18.282Z"
      },
      {
        "duration": 16,
        "start_time": "2021-06-13T09:11:18.288Z"
      },
      {
        "duration": 22,
        "start_time": "2021-06-13T09:11:18.306Z"
      },
      {
        "duration": 7,
        "start_time": "2021-06-13T09:11:18.330Z"
      },
      {
        "duration": 46,
        "start_time": "2021-06-13T09:11:18.343Z"
      },
      {
        "duration": 9,
        "start_time": "2021-06-13T09:11:18.394Z"
      },
      {
        "duration": 8,
        "start_time": "2021-06-13T09:11:18.406Z"
      },
      {
        "duration": 13,
        "start_time": "2021-06-13T09:11:18.416Z"
      },
      {
        "duration": 60,
        "start_time": "2021-06-13T09:11:18.432Z"
      },
      {
        "duration": 20,
        "start_time": "2021-06-13T09:11:18.494Z"
      },
      {
        "duration": 9,
        "start_time": "2021-06-13T09:11:18.517Z"
      },
      {
        "duration": 17,
        "start_time": "2021-06-13T09:11:18.528Z"
      },
      {
        "duration": 43,
        "start_time": "2021-06-13T09:11:18.547Z"
      },
      {
        "duration": 12,
        "start_time": "2021-06-13T09:11:18.593Z"
      },
      {
        "duration": 6,
        "start_time": "2021-06-13T09:11:18.607Z"
      },
      {
        "duration": 26,
        "start_time": "2021-06-13T09:11:18.615Z"
      },
      {
        "duration": 49,
        "start_time": "2021-06-13T09:11:18.643Z"
      },
      {
        "duration": 410,
        "start_time": "2021-06-13T09:11:18.695Z"
      },
      {
        "duration": 411,
        "start_time": "2021-06-13T09:11:19.108Z"
      },
      {
        "duration": 377,
        "start_time": "2021-06-13T09:11:19.522Z"
      },
      {
        "duration": 373,
        "start_time": "2021-06-13T09:11:19.901Z"
      },
      {
        "duration": 381,
        "start_time": "2021-06-13T09:11:20.276Z"
      },
      {
        "duration": 6,
        "start_time": "2021-06-13T09:17:47.735Z"
      },
      {
        "duration": 5,
        "start_time": "2021-06-13T09:18:14.224Z"
      },
      {
        "duration": 1322,
        "start_time": "2021-06-13T09:18:21.108Z"
      },
      {
        "duration": 46,
        "start_time": "2021-06-13T09:18:22.433Z"
      },
      {
        "duration": 32,
        "start_time": "2021-06-13T09:18:22.483Z"
      },
      {
        "duration": 4,
        "start_time": "2021-06-13T09:18:22.517Z"
      },
      {
        "duration": 6,
        "start_time": "2021-06-13T09:18:22.524Z"
      },
      {
        "duration": 16,
        "start_time": "2021-06-13T09:18:22.532Z"
      },
      {
        "duration": 51,
        "start_time": "2021-06-13T09:18:22.550Z"
      },
      {
        "duration": 7,
        "start_time": "2021-06-13T09:18:22.603Z"
      },
      {
        "duration": 11,
        "start_time": "2021-06-13T09:18:22.614Z"
      },
      {
        "duration": 8,
        "start_time": "2021-06-13T09:18:22.628Z"
      },
      {
        "duration": 47,
        "start_time": "2021-06-13T09:18:22.638Z"
      },
      {
        "duration": 10,
        "start_time": "2021-06-13T09:18:22.687Z"
      },
      {
        "duration": 6,
        "start_time": "2021-06-13T09:18:22.700Z"
      },
      {
        "duration": 12,
        "start_time": "2021-06-13T09:18:22.709Z"
      },
      {
        "duration": 7,
        "start_time": "2021-06-13T09:18:22.723Z"
      },
      {
        "duration": 55,
        "start_time": "2021-06-13T09:18:22.733Z"
      },
      {
        "duration": 13,
        "start_time": "2021-06-13T09:18:22.790Z"
      },
      {
        "duration": 15,
        "start_time": "2021-06-13T09:18:22.806Z"
      },
      {
        "duration": 11,
        "start_time": "2021-06-13T09:18:22.823Z"
      },
      {
        "duration": 48,
        "start_time": "2021-06-13T09:18:22.836Z"
      },
      {
        "duration": 5,
        "start_time": "2021-06-13T09:18:22.887Z"
      },
      {
        "duration": 25,
        "start_time": "2021-06-13T09:18:22.895Z"
      },
      {
        "duration": 14,
        "start_time": "2021-06-13T09:18:22.922Z"
      },
      {
        "duration": 411,
        "start_time": "2021-06-13T09:18:22.939Z"
      },
      {
        "duration": 377,
        "start_time": "2021-06-13T09:18:23.353Z"
      },
      {
        "duration": 378,
        "start_time": "2021-06-13T09:18:23.733Z"
      },
      {
        "duration": 376,
        "start_time": "2021-06-13T09:18:24.117Z"
      },
      {
        "duration": 364,
        "start_time": "2021-06-13T09:18:24.496Z"
      },
      {
        "duration": 349,
        "start_time": "2021-06-13T09:19:45.304Z"
      },
      {
        "duration": 1406,
        "start_time": "2021-06-13T09:23:45.545Z"
      },
      {
        "duration": 52,
        "start_time": "2021-06-13T09:23:46.953Z"
      },
      {
        "duration": 35,
        "start_time": "2021-06-13T09:23:47.008Z"
      },
      {
        "duration": 4,
        "start_time": "2021-06-13T09:23:47.047Z"
      },
      {
        "duration": 9,
        "start_time": "2021-06-13T09:23:47.053Z"
      },
      {
        "duration": 14,
        "start_time": "2021-06-13T09:23:47.084Z"
      },
      {
        "duration": 25,
        "start_time": "2021-06-13T09:23:47.101Z"
      },
      {
        "duration": 8,
        "start_time": "2021-06-13T09:23:47.128Z"
      },
      {
        "duration": 58,
        "start_time": "2021-06-13T09:23:47.141Z"
      },
      {
        "duration": 10,
        "start_time": "2021-06-13T09:23:47.202Z"
      },
      {
        "duration": 7,
        "start_time": "2021-06-13T09:23:47.214Z"
      },
      {
        "duration": 10,
        "start_time": "2021-06-13T09:23:47.224Z"
      },
      {
        "duration": 7,
        "start_time": "2021-06-13T09:23:47.237Z"
      },
      {
        "duration": 51,
        "start_time": "2021-06-13T09:23:47.246Z"
      },
      {
        "duration": 7,
        "start_time": "2021-06-13T09:23:47.300Z"
      },
      {
        "duration": 19,
        "start_time": "2021-06-13T09:23:47.310Z"
      },
      {
        "duration": 8,
        "start_time": "2021-06-13T09:23:47.333Z"
      },
      {
        "duration": 52,
        "start_time": "2021-06-13T09:23:47.343Z"
      },
      {
        "duration": 10,
        "start_time": "2021-06-13T09:23:47.398Z"
      },
      {
        "duration": 14,
        "start_time": "2021-06-13T09:23:47.410Z"
      },
      {
        "duration": 6,
        "start_time": "2021-06-13T09:23:47.426Z"
      },
      {
        "duration": 25,
        "start_time": "2021-06-13T09:23:47.435Z"
      },
      {
        "duration": 22,
        "start_time": "2021-06-13T09:23:47.463Z"
      },
      {
        "duration": 422,
        "start_time": "2021-06-13T09:23:47.489Z"
      },
      {
        "duration": 491,
        "start_time": "2021-06-13T09:23:47.913Z"
      },
      {
        "duration": 483,
        "start_time": "2021-06-13T09:23:48.406Z"
      },
      {
        "duration": 424,
        "start_time": "2021-06-13T09:23:48.896Z"
      },
      {
        "duration": 405,
        "start_time": "2021-06-13T09:23:49.323Z"
      },
      {
        "duration": 404,
        "start_time": "2021-06-13T09:23:49.731Z"
      },
      {
        "duration": 9,
        "start_time": "2021-06-13T11:03:13.502Z"
      },
      {
        "duration": 1356,
        "start_time": "2021-06-13T11:15:41.388Z"
      },
      {
        "duration": 47,
        "start_time": "2021-06-13T11:15:42.747Z"
      },
      {
        "duration": 31,
        "start_time": "2021-06-13T11:15:42.797Z"
      },
      {
        "duration": 4,
        "start_time": "2021-06-13T11:15:42.831Z"
      },
      {
        "duration": 17,
        "start_time": "2021-06-13T11:15:42.837Z"
      },
      {
        "duration": 42,
        "start_time": "2021-06-13T11:15:42.856Z"
      },
      {
        "duration": 7,
        "start_time": "2021-06-13T11:15:42.901Z"
      },
      {
        "duration": 11,
        "start_time": "2021-06-13T11:15:42.911Z"
      },
      {
        "duration": 5,
        "start_time": "2021-06-13T11:15:42.925Z"
      },
      {
        "duration": 8,
        "start_time": "2021-06-13T11:15:42.932Z"
      },
      {
        "duration": 49,
        "start_time": "2021-06-13T11:15:42.942Z"
      },
      {
        "duration": 8,
        "start_time": "2021-06-13T11:15:42.994Z"
      },
      {
        "duration": 12,
        "start_time": "2021-06-13T11:15:43.005Z"
      },
      {
        "duration": 9,
        "start_time": "2021-06-13T11:15:43.019Z"
      },
      {
        "duration": 57,
        "start_time": "2021-06-13T11:15:43.030Z"
      },
      {
        "duration": 9,
        "start_time": "2021-06-13T11:15:43.089Z"
      },
      {
        "duration": 17,
        "start_time": "2021-06-13T11:15:43.101Z"
      },
      {
        "duration": 11,
        "start_time": "2021-06-13T11:15:43.120Z"
      },
      {
        "duration": 51,
        "start_time": "2021-06-13T11:15:43.133Z"
      },
      {
        "duration": 3,
        "start_time": "2021-06-13T11:15:43.187Z"
      },
      {
        "duration": 26,
        "start_time": "2021-06-13T11:15:43.193Z"
      },
      {
        "duration": 13,
        "start_time": "2021-06-13T11:15:43.221Z"
      },
      {
        "duration": 417,
        "start_time": "2021-06-13T11:15:43.239Z"
      },
      {
        "duration": 401,
        "start_time": "2021-06-13T11:15:43.659Z"
      },
      {
        "duration": 392,
        "start_time": "2021-06-13T11:15:44.062Z"
      },
      {
        "duration": 395,
        "start_time": "2021-06-13T11:15:44.457Z"
      },
      {
        "duration": 391,
        "start_time": "2021-06-13T11:15:44.855Z"
      },
      {
        "duration": 382,
        "start_time": "2021-06-13T11:15:45.248Z"
      },
      {
        "duration": 9,
        "start_time": "2021-06-13T11:15:45.632Z"
      },
      {
        "duration": 15,
        "start_time": "2021-06-13T11:15:45.643Z"
      },
      {
        "duration": 15,
        "start_time": "2021-06-13T11:16:38.027Z"
      },
      {
        "duration": 21,
        "start_time": "2021-06-13T11:16:49.313Z"
      },
      {
        "duration": 8,
        "start_time": "2021-06-13T11:20:40.018Z"
      },
      {
        "duration": 21,
        "start_time": "2021-06-13T11:20:42.580Z"
      },
      {
        "duration": 7,
        "start_time": "2021-06-13T11:28:53.804Z"
      },
      {
        "duration": 366,
        "start_time": "2021-06-13T11:29:27.447Z"
      },
      {
        "duration": 366,
        "start_time": "2021-06-13T11:29:41.288Z"
      },
      {
        "duration": 283,
        "start_time": "2021-06-13T11:30:01.541Z"
      },
      {
        "duration": 572,
        "start_time": "2021-06-13T11:32:46.485Z"
      },
      {
        "duration": 8,
        "start_time": "2021-06-13T11:35:02.143Z"
      },
      {
        "duration": 279,
        "start_time": "2021-06-13T11:35:11.938Z"
      },
      {
        "duration": 740,
        "start_time": "2021-06-13T11:40:57.351Z"
      },
      {
        "duration": 282,
        "start_time": "2021-06-13T11:41:21.901Z"
      },
      {
        "duration": 252,
        "start_time": "2021-06-13T13:32:23.667Z"
      },
      {
        "duration": 260,
        "start_time": "2021-06-13T13:41:47.981Z"
      },
      {
        "duration": 250,
        "start_time": "2021-06-13T13:42:47.240Z"
      },
      {
        "duration": 10,
        "start_time": "2021-06-13T13:45:38.948Z"
      },
      {
        "duration": 14,
        "start_time": "2021-06-13T13:46:27.981Z"
      },
      {
        "duration": 43,
        "start_time": "2021-06-13T13:49:02.949Z"
      },
      {
        "duration": 1458,
        "start_time": "2021-06-13T13:49:09.318Z"
      },
      {
        "duration": 47,
        "start_time": "2021-06-13T13:49:10.778Z"
      },
      {
        "duration": 33,
        "start_time": "2021-06-13T13:49:10.828Z"
      },
      {
        "duration": 4,
        "start_time": "2021-06-13T13:49:10.864Z"
      },
      {
        "duration": 17,
        "start_time": "2021-06-13T13:49:10.885Z"
      },
      {
        "duration": 27,
        "start_time": "2021-06-13T13:49:10.905Z"
      },
      {
        "duration": 11,
        "start_time": "2021-06-13T13:49:10.935Z"
      },
      {
        "duration": 14,
        "start_time": "2021-06-13T13:49:10.987Z"
      },
      {
        "duration": 5,
        "start_time": "2021-06-13T13:49:11.005Z"
      },
      {
        "duration": 5,
        "start_time": "2021-06-13T13:49:11.013Z"
      },
      {
        "duration": 9,
        "start_time": "2021-06-13T13:49:11.021Z"
      },
      {
        "duration": 7,
        "start_time": "2021-06-13T13:49:11.032Z"
      },
      {
        "duration": 11,
        "start_time": "2021-06-13T13:49:11.084Z"
      },
      {
        "duration": 40,
        "start_time": "2021-06-13T13:49:11.098Z"
      },
      {
        "duration": 6,
        "start_time": "2021-06-13T13:49:11.141Z"
      },
      {
        "duration": 54,
        "start_time": "2021-06-13T13:49:11.149Z"
      },
      {
        "duration": 9,
        "start_time": "2021-06-13T13:49:11.205Z"
      },
      {
        "duration": 18,
        "start_time": "2021-06-13T13:49:11.216Z"
      },
      {
        "duration": 15,
        "start_time": "2021-06-13T13:49:11.236Z"
      },
      {
        "duration": 12,
        "start_time": "2021-06-13T13:49:11.284Z"
      },
      {
        "duration": 5,
        "start_time": "2021-06-13T13:49:11.299Z"
      },
      {
        "duration": 23,
        "start_time": "2021-06-13T13:49:11.307Z"
      },
      {
        "duration": 49,
        "start_time": "2021-06-13T13:49:11.334Z"
      },
      {
        "duration": 427,
        "start_time": "2021-06-13T13:49:11.386Z"
      },
      {
        "duration": 397,
        "start_time": "2021-06-13T13:49:11.815Z"
      },
      {
        "duration": 399,
        "start_time": "2021-06-13T13:49:12.214Z"
      },
      {
        "duration": 382,
        "start_time": "2021-06-13T13:49:12.616Z"
      },
      {
        "duration": 373,
        "start_time": "2021-06-13T13:49:13.001Z"
      },
      {
        "duration": 368,
        "start_time": "2021-06-13T13:49:13.377Z"
      },
      {
        "duration": 9,
        "start_time": "2021-06-13T13:49:13.748Z"
      },
      {
        "duration": 35,
        "start_time": "2021-06-13T13:49:13.759Z"
      },
      {
        "duration": 7,
        "start_time": "2021-06-13T13:49:13.796Z"
      },
      {
        "duration": 393,
        "start_time": "2021-06-13T13:49:13.805Z"
      },
      {
        "duration": 408,
        "start_time": "2021-06-13T13:49:14.200Z"
      },
      {
        "duration": 14,
        "start_time": "2021-06-13T13:50:19.260Z"
      },
      {
        "duration": 1005,
        "start_time": "2021-06-13T13:50:55.252Z"
      },
      {
        "duration": 45,
        "start_time": "2021-06-13T13:51:16.714Z"
      },
      {
        "duration": 1419,
        "start_time": "2021-06-13T13:51:22.535Z"
      },
      {
        "duration": 47,
        "start_time": "2021-06-13T13:51:23.957Z"
      },
      {
        "duration": 33,
        "start_time": "2021-06-13T13:51:24.007Z"
      },
      {
        "duration": 4,
        "start_time": "2021-06-13T13:51:24.043Z"
      },
      {
        "duration": 41,
        "start_time": "2021-06-13T13:51:24.050Z"
      },
      {
        "duration": 24,
        "start_time": "2021-06-13T13:51:24.094Z"
      },
      {
        "duration": 7,
        "start_time": "2021-06-13T13:51:24.121Z"
      },
      {
        "duration": 13,
        "start_time": "2021-06-13T13:51:24.131Z"
      },
      {
        "duration": 38,
        "start_time": "2021-06-13T13:51:24.148Z"
      },
      {
        "duration": 6,
        "start_time": "2021-06-13T13:51:24.189Z"
      },
      {
        "duration": 9,
        "start_time": "2021-06-13T13:51:24.197Z"
      },
      {
        "duration": 6,
        "start_time": "2021-06-13T13:51:24.209Z"
      },
      {
        "duration": 12,
        "start_time": "2021-06-13T13:51:24.217Z"
      },
      {
        "duration": 85,
        "start_time": "2021-06-13T13:51:24.231Z"
      },
      {
        "duration": 6,
        "start_time": "2021-06-13T13:51:24.319Z"
      },
      {
        "duration": 19,
        "start_time": "2021-06-13T13:51:24.328Z"
      },
      {
        "duration": 39,
        "start_time": "2021-06-13T13:51:24.350Z"
      },
      {
        "duration": 19,
        "start_time": "2021-06-13T13:51:24.392Z"
      },
      {
        "duration": 10,
        "start_time": "2021-06-13T13:51:24.413Z"
      },
      {
        "duration": 13,
        "start_time": "2021-06-13T13:51:24.425Z"
      },
      {
        "duration": 43,
        "start_time": "2021-06-13T13:51:24.440Z"
      },
      {
        "duration": 22,
        "start_time": "2021-06-13T13:51:24.486Z"
      },
      {
        "duration": 14,
        "start_time": "2021-06-13T13:51:24.511Z"
      },
      {
        "duration": 427,
        "start_time": "2021-06-13T13:51:24.528Z"
      },
      {
        "duration": 391,
        "start_time": "2021-06-13T13:51:24.958Z"
      },
      {
        "duration": 388,
        "start_time": "2021-06-13T13:51:25.352Z"
      },
      {
        "duration": 403,
        "start_time": "2021-06-13T13:51:25.744Z"
      },
      {
        "duration": 383,
        "start_time": "2021-06-13T13:51:26.149Z"
      },
      {
        "duration": 480,
        "start_time": "2021-06-13T13:51:26.535Z"
      },
      {
        "duration": 9,
        "start_time": "2021-06-13T13:51:27.018Z"
      },
      {
        "duration": 21,
        "start_time": "2021-06-13T13:51:27.030Z"
      },
      {
        "duration": 8,
        "start_time": "2021-06-13T13:51:27.082Z"
      },
      {
        "duration": 359,
        "start_time": "2021-06-13T13:51:27.092Z"
      },
      {
        "duration": 420,
        "start_time": "2021-06-13T13:51:27.455Z"
      },
      {
        "duration": 16,
        "start_time": "2021-06-13T13:51:27.877Z"
      },
      {
        "duration": 83,
        "start_time": "2021-06-13T14:00:44.584Z"
      },
      {
        "duration": 87,
        "start_time": "2021-06-13T14:01:05.509Z"
      },
      {
        "duration": 78,
        "start_time": "2021-06-13T14:01:17.566Z"
      },
      {
        "duration": 8,
        "start_time": "2021-06-13T14:01:27.590Z"
      },
      {
        "duration": 364,
        "start_time": "2021-06-13T14:01:34.005Z"
      },
      {
        "duration": 16,
        "start_time": "2021-06-13T14:02:32.809Z"
      },
      {
        "duration": 359,
        "start_time": "2021-06-13T14:02:35.802Z"
      },
      {
        "duration": 362,
        "start_time": "2021-06-13T14:02:47.903Z"
      },
      {
        "duration": 357,
        "start_time": "2021-06-13T14:03:08.911Z"
      },
      {
        "duration": 393,
        "start_time": "2021-06-13T14:03:26.260Z"
      },
      {
        "duration": 356,
        "start_time": "2021-06-13T14:08:27.986Z"
      },
      {
        "duration": 375,
        "start_time": "2021-06-13T14:10:08.381Z"
      },
      {
        "duration": 389,
        "start_time": "2021-06-13T14:10:12.343Z"
      },
      {
        "duration": 372,
        "start_time": "2021-06-13T14:12:13.520Z"
      },
      {
        "duration": 416,
        "start_time": "2021-06-13T14:12:17.778Z"
      },
      {
        "duration": 421,
        "start_time": "2021-06-13T14:12:22.062Z"
      },
      {
        "duration": 432,
        "start_time": "2021-06-13T14:12:25.575Z"
      },
      {
        "duration": 367,
        "start_time": "2021-06-13T14:14:06.803Z"
      },
      {
        "duration": 495,
        "start_time": "2021-06-13T14:14:13.572Z"
      },
      {
        "duration": 404,
        "start_time": "2021-06-13T14:14:21.134Z"
      },
      {
        "duration": 363,
        "start_time": "2021-06-13T14:14:36.923Z"
      },
      {
        "duration": 372,
        "start_time": "2021-06-13T14:14:50.207Z"
      },
      {
        "duration": 406,
        "start_time": "2021-06-13T14:15:15.652Z"
      },
      {
        "duration": 386,
        "start_time": "2021-06-13T14:15:28.400Z"
      },
      {
        "duration": 396,
        "start_time": "2021-06-13T14:16:04.739Z"
      },
      {
        "duration": 424,
        "start_time": "2021-06-13T14:16:17.163Z"
      },
      {
        "duration": 7,
        "start_time": "2021-06-13T14:23:02.234Z"
      },
      {
        "duration": 7,
        "start_time": "2021-06-13T14:35:01.189Z"
      },
      {
        "duration": 8,
        "start_time": "2021-06-13T14:35:07.040Z"
      },
      {
        "duration": 7,
        "start_time": "2021-06-13T14:46:06.946Z"
      },
      {
        "duration": 371,
        "start_time": "2021-06-13T14:47:47.411Z"
      },
      {
        "duration": 389,
        "start_time": "2021-06-13T14:48:06.431Z"
      },
      {
        "duration": 367,
        "start_time": "2021-06-13T14:48:28.418Z"
      },
      {
        "duration": 440,
        "start_time": "2021-06-13T14:48:47.953Z"
      },
      {
        "duration": 408,
        "start_time": "2021-06-13T14:49:01.791Z"
      },
      {
        "duration": 384,
        "start_time": "2021-06-13T14:49:12.530Z"
      },
      {
        "duration": 415,
        "start_time": "2021-06-13T14:49:40.028Z"
      },
      {
        "duration": 430,
        "start_time": "2021-06-13T14:49:52.447Z"
      },
      {
        "duration": 6,
        "start_time": "2021-06-13T15:10:05.066Z"
      },
      {
        "duration": 6,
        "start_time": "2021-06-13T15:10:19.043Z"
      },
      {
        "duration": 7,
        "start_time": "2021-06-13T15:10:49.748Z"
      },
      {
        "duration": 6,
        "start_time": "2021-06-13T15:10:51.311Z"
      },
      {
        "duration": 7,
        "start_time": "2021-06-13T15:11:16.300Z"
      },
      {
        "duration": 7,
        "start_time": "2021-06-13T15:11:22.873Z"
      },
      {
        "duration": 728,
        "start_time": "2021-06-13T15:27:53.920Z"
      },
      {
        "duration": 819,
        "start_time": "2021-06-13T15:29:54.938Z"
      },
      {
        "duration": 804,
        "start_time": "2021-06-13T15:37:35.586Z"
      },
      {
        "duration": 803,
        "start_time": "2021-06-13T15:37:43.371Z"
      },
      {
        "duration": 1399,
        "start_time": "2021-06-13T15:41:22.810Z"
      },
      {
        "duration": 47,
        "start_time": "2021-06-13T15:41:24.212Z"
      },
      {
        "duration": 34,
        "start_time": "2021-06-13T15:41:24.262Z"
      },
      {
        "duration": 4,
        "start_time": "2021-06-13T15:41:24.299Z"
      },
      {
        "duration": 14,
        "start_time": "2021-06-13T15:41:24.305Z"
      },
      {
        "duration": 21,
        "start_time": "2021-06-13T15:41:24.321Z"
      },
      {
        "duration": 39,
        "start_time": "2021-06-13T15:41:24.344Z"
      },
      {
        "duration": 12,
        "start_time": "2021-06-13T15:41:24.385Z"
      },
      {
        "duration": 4,
        "start_time": "2021-06-13T15:41:24.401Z"
      },
      {
        "duration": 7,
        "start_time": "2021-06-13T15:41:24.408Z"
      },
      {
        "duration": 10,
        "start_time": "2021-06-13T15:41:24.417Z"
      },
      {
        "duration": 7,
        "start_time": "2021-06-13T15:41:24.430Z"
      },
      {
        "duration": 12,
        "start_time": "2021-06-13T15:41:24.483Z"
      },
      {
        "duration": 389,
        "start_time": "2021-06-13T15:41:24.498Z"
      },
      {
        "duration": -776,
        "start_time": "2021-06-13T15:41:25.666Z"
      },
      {
        "duration": -778,
        "start_time": "2021-06-13T15:41:25.670Z"
      },
      {
        "duration": -780,
        "start_time": "2021-06-13T15:41:25.673Z"
      },
      {
        "duration": -783,
        "start_time": "2021-06-13T15:41:25.677Z"
      },
      {
        "duration": -784,
        "start_time": "2021-06-13T15:41:25.680Z"
      },
      {
        "duration": -786,
        "start_time": "2021-06-13T15:41:25.683Z"
      },
      {
        "duration": -787,
        "start_time": "2021-06-13T15:41:25.686Z"
      },
      {
        "duration": -791,
        "start_time": "2021-06-13T15:41:25.691Z"
      },
      {
        "duration": -793,
        "start_time": "2021-06-13T15:41:25.694Z"
      },
      {
        "duration": -793,
        "start_time": "2021-06-13T15:41:25.697Z"
      },
      {
        "duration": -796,
        "start_time": "2021-06-13T15:41:25.701Z"
      },
      {
        "duration": -797,
        "start_time": "2021-06-13T15:41:25.704Z"
      },
      {
        "duration": -799,
        "start_time": "2021-06-13T15:41:25.707Z"
      },
      {
        "duration": -801,
        "start_time": "2021-06-13T15:41:25.711Z"
      },
      {
        "duration": -802,
        "start_time": "2021-06-13T15:41:25.713Z"
      },
      {
        "duration": -804,
        "start_time": "2021-06-13T15:41:25.716Z"
      },
      {
        "duration": -810,
        "start_time": "2021-06-13T15:41:25.724Z"
      },
      {
        "duration": -811,
        "start_time": "2021-06-13T15:41:25.726Z"
      },
      {
        "duration": -813,
        "start_time": "2021-06-13T15:41:25.729Z"
      },
      {
        "duration": -813,
        "start_time": "2021-06-13T15:41:25.731Z"
      },
      {
        "duration": -816,
        "start_time": "2021-06-13T15:41:25.735Z"
      },
      {
        "duration": -817,
        "start_time": "2021-06-13T15:41:25.737Z"
      },
      {
        "duration": -818,
        "start_time": "2021-06-13T15:41:25.739Z"
      },
      {
        "duration": -818,
        "start_time": "2021-06-13T15:41:25.741Z"
      },
      {
        "duration": -819,
        "start_time": "2021-06-13T15:41:25.743Z"
      },
      {
        "duration": -821,
        "start_time": "2021-06-13T15:41:25.746Z"
      },
      {
        "duration": -823,
        "start_time": "2021-06-13T15:41:25.749Z"
      },
      {
        "duration": -768,
        "start_time": "2021-06-13T15:41:25.751Z"
      },
      {
        "duration": -770,
        "start_time": "2021-06-13T15:41:25.754Z"
      },
      {
        "duration": -771,
        "start_time": "2021-06-13T15:41:25.756Z"
      },
      {
        "duration": -771,
        "start_time": "2021-06-13T15:41:25.758Z"
      },
      {
        "duration": -772,
        "start_time": "2021-06-13T15:41:25.760Z"
      },
      {
        "duration": -774,
        "start_time": "2021-06-13T15:41:25.763Z"
      },
      {
        "duration": -774,
        "start_time": "2021-06-13T15:41:25.765Z"
      },
      {
        "duration": -775,
        "start_time": "2021-06-13T15:41:25.767Z"
      },
      {
        "duration": -777,
        "start_time": "2021-06-13T15:41:25.770Z"
      },
      {
        "duration": -779,
        "start_time": "2021-06-13T15:41:25.774Z"
      },
      {
        "duration": 260,
        "start_time": "2021-06-13T15:42:10.796Z"
      },
      {
        "duration": 35,
        "start_time": "2021-06-13T15:42:18.912Z"
      },
      {
        "duration": 44,
        "start_time": "2021-06-13T15:42:34.579Z"
      },
      {
        "duration": 1464,
        "start_time": "2021-06-13T15:44:45.976Z"
      },
      {
        "duration": 49,
        "start_time": "2021-06-13T15:44:47.442Z"
      },
      {
        "duration": 32,
        "start_time": "2021-06-13T15:44:47.494Z"
      },
      {
        "duration": 4,
        "start_time": "2021-06-13T15:44:47.529Z"
      },
      {
        "duration": 18,
        "start_time": "2021-06-13T15:44:47.535Z"
      },
      {
        "duration": 23,
        "start_time": "2021-06-13T15:44:47.583Z"
      },
      {
        "duration": 8,
        "start_time": "2021-06-13T15:44:47.608Z"
      },
      {
        "duration": 11,
        "start_time": "2021-06-13T15:44:47.619Z"
      },
      {
        "duration": 5,
        "start_time": "2021-06-13T15:44:47.636Z"
      },
      {
        "duration": 44,
        "start_time": "2021-06-13T15:44:47.644Z"
      },
      {
        "duration": 12,
        "start_time": "2021-06-13T15:44:47.691Z"
      },
      {
        "duration": 13,
        "start_time": "2021-06-13T15:44:47.706Z"
      },
      {
        "duration": 13,
        "start_time": "2021-06-13T15:44:47.721Z"
      },
      {
        "duration": 72,
        "start_time": "2021-06-13T15:44:47.737Z"
      },
      {
        "duration": 7,
        "start_time": "2021-06-13T15:44:47.812Z"
      },
      {
        "duration": 24,
        "start_time": "2021-06-13T15:44:47.822Z"
      },
      {
        "duration": 10,
        "start_time": "2021-06-13T15:44:47.849Z"
      },
      {
        "duration": 18,
        "start_time": "2021-06-13T15:44:47.883Z"
      },
      {
        "duration": 10,
        "start_time": "2021-06-13T15:44:47.904Z"
      },
      {
        "duration": 16,
        "start_time": "2021-06-13T15:44:47.916Z"
      },
      {
        "duration": 7,
        "start_time": "2021-06-13T15:44:47.934Z"
      },
      {
        "duration": 56,
        "start_time": "2021-06-13T15:44:47.943Z"
      },
      {
        "duration": 14,
        "start_time": "2021-06-13T15:44:48.001Z"
      },
      {
        "duration": 409,
        "start_time": "2021-06-13T15:44:48.018Z"
      },
      {
        "duration": 396,
        "start_time": "2021-06-13T15:44:48.430Z"
      },
      {
        "duration": 385,
        "start_time": "2021-06-13T15:44:48.828Z"
      },
      {
        "duration": 387,
        "start_time": "2021-06-13T15:44:49.218Z"
      },
      {
        "duration": 394,
        "start_time": "2021-06-13T15:44:49.608Z"
      },
      {
        "duration": 390,
        "start_time": "2021-06-13T15:44:50.005Z"
      },
      {
        "duration": 9,
        "start_time": "2021-06-13T15:44:50.398Z"
      },
      {
        "duration": 19,
        "start_time": "2021-06-13T15:44:50.410Z"
      },
      {
        "duration": 8,
        "start_time": "2021-06-13T15:44:50.432Z"
      },
      {
        "duration": 393,
        "start_time": "2021-06-13T15:44:50.442Z"
      },
      {
        "duration": 17,
        "start_time": "2021-06-13T15:44:50.838Z"
      },
      {
        "duration": 409,
        "start_time": "2021-06-13T15:44:50.858Z"
      },
      {
        "duration": 392,
        "start_time": "2021-06-13T15:44:51.270Z"
      },
      {
        "duration": 7,
        "start_time": "2021-06-13T15:44:51.665Z"
      },
      {
        "duration": 7,
        "start_time": "2021-06-13T15:44:51.684Z"
      },
      {
        "duration": 398,
        "start_time": "2021-06-13T15:44:51.693Z"
      },
      {
        "duration": 401,
        "start_time": "2021-06-13T15:44:52.094Z"
      },
      {
        "duration": 7,
        "start_time": "2021-06-13T15:44:52.497Z"
      },
      {
        "duration": 8,
        "start_time": "2021-06-13T15:44:52.506Z"
      },
      {
        "duration": 468,
        "start_time": "2021-06-13T15:44:52.517Z"
      },
      {
        "duration": 441,
        "start_time": "2021-06-13T15:44:52.988Z"
      },
      {
        "duration": 7,
        "start_time": "2021-06-13T15:44:53.431Z"
      },
      {
        "duration": 12,
        "start_time": "2021-06-13T15:44:53.440Z"
      },
      {
        "duration": 456,
        "start_time": "2021-06-13T15:44:53.454Z"
      },
      {
        "duration": 413,
        "start_time": "2021-06-13T15:44:53.912Z"
      },
      {
        "duration": 9,
        "start_time": "2021-06-13T15:44:54.328Z"
      },
      {
        "duration": 9,
        "start_time": "2021-06-13T15:44:54.340Z"
      },
      {
        "duration": 799,
        "start_time": "2021-06-13T15:44:54.352Z"
      },
      {
        "duration": 41,
        "start_time": "2021-06-13T15:45:30.640Z"
      },
      {
        "duration": 1420,
        "start_time": "2021-06-13T15:45:37.191Z"
      },
      {
        "duration": 49,
        "start_time": "2021-06-13T15:45:38.613Z"
      },
      {
        "duration": 40,
        "start_time": "2021-06-13T15:45:38.665Z"
      },
      {
        "duration": 4,
        "start_time": "2021-06-13T15:45:38.709Z"
      },
      {
        "duration": 16,
        "start_time": "2021-06-13T15:45:38.716Z"
      },
      {
        "duration": 61,
        "start_time": "2021-06-13T15:45:38.735Z"
      },
      {
        "duration": 9,
        "start_time": "2021-06-13T15:45:38.799Z"
      },
      {
        "duration": 12,
        "start_time": "2021-06-13T15:45:38.812Z"
      },
      {
        "duration": 5,
        "start_time": "2021-06-13T15:45:38.828Z"
      },
      {
        "duration": 48,
        "start_time": "2021-06-13T15:45:38.835Z"
      },
      {
        "duration": 11,
        "start_time": "2021-06-13T15:45:38.885Z"
      },
      {
        "duration": 7,
        "start_time": "2021-06-13T15:45:38.898Z"
      },
      {
        "duration": 12,
        "start_time": "2021-06-13T15:45:38.907Z"
      },
      {
        "duration": 66,
        "start_time": "2021-06-13T15:45:38.921Z"
      },
      {
        "duration": 7,
        "start_time": "2021-06-13T15:45:38.990Z"
      },
      {
        "duration": 21,
        "start_time": "2021-06-13T15:45:38.999Z"
      },
      {
        "duration": 11,
        "start_time": "2021-06-13T15:45:39.022Z"
      },
      {
        "duration": 50,
        "start_time": "2021-06-13T15:45:39.036Z"
      },
      {
        "duration": 11,
        "start_time": "2021-06-13T15:45:39.089Z"
      },
      {
        "duration": 16,
        "start_time": "2021-06-13T15:45:39.102Z"
      },
      {
        "duration": 5,
        "start_time": "2021-06-13T15:45:39.121Z"
      },
      {
        "duration": 60,
        "start_time": "2021-06-13T15:45:39.129Z"
      },
      {
        "duration": 14,
        "start_time": "2021-06-13T15:45:39.194Z"
      },
      {
        "duration": 415,
        "start_time": "2021-06-13T15:45:39.212Z"
      },
      {
        "duration": 423,
        "start_time": "2021-06-13T15:45:39.629Z"
      },
      {
        "duration": 410,
        "start_time": "2021-06-13T15:45:40.054Z"
      },
      {
        "duration": 417,
        "start_time": "2021-06-13T15:45:40.466Z"
      },
      {
        "duration": 428,
        "start_time": "2021-06-13T15:45:40.886Z"
      },
      {
        "duration": 398,
        "start_time": "2021-06-13T15:45:41.316Z"
      },
      {
        "duration": 8,
        "start_time": "2021-06-13T15:45:41.716Z"
      },
      {
        "duration": 20,
        "start_time": "2021-06-13T15:45:41.727Z"
      },
      {
        "duration": 7,
        "start_time": "2021-06-13T15:45:41.750Z"
      },
      {
        "duration": 401,
        "start_time": "2021-06-13T15:45:41.784Z"
      },
      {
        "duration": 15,
        "start_time": "2021-06-13T15:45:42.188Z"
      },
      {
        "duration": 409,
        "start_time": "2021-06-13T15:45:42.205Z"
      },
      {
        "duration": 626,
        "start_time": "2021-06-13T15:45:42.616Z"
      },
      {
        "duration": 9,
        "start_time": "2021-06-13T15:45:43.245Z"
      },
      {
        "duration": 7,
        "start_time": "2021-06-13T15:45:43.257Z"
      },
      {
        "duration": 571,
        "start_time": "2021-06-13T15:45:43.267Z"
      },
      {
        "duration": 663,
        "start_time": "2021-06-13T15:45:43.841Z"
      },
      {
        "duration": 9,
        "start_time": "2021-06-13T15:45:44.507Z"
      },
      {
        "duration": 66,
        "start_time": "2021-06-13T15:45:44.519Z"
      },
      {
        "duration": 624,
        "start_time": "2021-06-13T15:45:44.588Z"
      },
      {
        "duration": 416,
        "start_time": "2021-06-13T15:45:45.215Z"
      },
      {
        "duration": 9,
        "start_time": "2021-06-13T15:45:45.634Z"
      },
      {
        "duration": 37,
        "start_time": "2021-06-13T15:45:45.646Z"
      },
      {
        "duration": 415,
        "start_time": "2021-06-13T15:45:45.686Z"
      },
      {
        "duration": 409,
        "start_time": "2021-06-13T15:45:46.104Z"
      },
      {
        "duration": 8,
        "start_time": "2021-06-13T15:45:46.516Z"
      },
      {
        "duration": 9,
        "start_time": "2021-06-13T15:45:46.527Z"
      },
      {
        "duration": 900,
        "start_time": "2021-06-13T15:45:46.538Z"
      },
      {
        "duration": 10,
        "start_time": "2021-06-13T15:47:57.826Z"
      },
      {
        "duration": 1571,
        "start_time": "2021-06-13T15:48:03.809Z"
      },
      {
        "duration": 46,
        "start_time": "2021-06-13T15:48:05.382Z"
      },
      {
        "duration": 32,
        "start_time": "2021-06-13T15:48:05.430Z"
      },
      {
        "duration": 21,
        "start_time": "2021-06-13T15:48:05.465Z"
      },
      {
        "duration": 16,
        "start_time": "2021-06-13T15:48:05.488Z"
      },
      {
        "duration": 21,
        "start_time": "2021-06-13T15:48:05.507Z"
      },
      {
        "duration": 7,
        "start_time": "2021-06-13T15:48:05.531Z"
      },
      {
        "duration": 12,
        "start_time": "2021-06-13T15:48:05.585Z"
      },
      {
        "duration": 9,
        "start_time": "2021-06-13T15:48:05.600Z"
      },
      {
        "duration": 6,
        "start_time": "2021-06-13T15:48:05.611Z"
      },
      {
        "duration": 10,
        "start_time": "2021-06-13T15:48:05.619Z"
      },
      {
        "duration": 53,
        "start_time": "2021-06-13T15:48:05.631Z"
      },
      {
        "duration": 15,
        "start_time": "2021-06-13T15:48:05.687Z"
      },
      {
        "duration": 33,
        "start_time": "2021-06-13T15:48:05.705Z"
      },
      {
        "duration": 7,
        "start_time": "2021-06-13T15:48:05.741Z"
      },
      {
        "duration": 20,
        "start_time": "2021-06-13T15:48:05.784Z"
      },
      {
        "duration": 11,
        "start_time": "2021-06-13T15:48:05.806Z"
      },
      {
        "duration": 17,
        "start_time": "2021-06-13T15:48:05.820Z"
      },
      {
        "duration": 52,
        "start_time": "2021-06-13T15:48:05.839Z"
      },
      {
        "duration": 14,
        "start_time": "2021-06-13T15:48:05.893Z"
      },
      {
        "duration": 5,
        "start_time": "2021-06-13T15:48:05.909Z"
      },
      {
        "duration": 23,
        "start_time": "2021-06-13T15:48:05.916Z"
      },
      {
        "duration": 49,
        "start_time": "2021-06-13T15:48:05.944Z"
      },
      {
        "duration": 398,
        "start_time": "2021-06-13T15:48:05.996Z"
      },
      {
        "duration": 399,
        "start_time": "2021-06-13T15:48:06.397Z"
      },
      {
        "duration": 379,
        "start_time": "2021-06-13T15:48:06.799Z"
      },
      {
        "duration": 374,
        "start_time": "2021-06-13T15:48:07.184Z"
      },
      {
        "duration": 365,
        "start_time": "2021-06-13T15:48:07.561Z"
      },
      {
        "duration": 358,
        "start_time": "2021-06-13T15:48:07.929Z"
      },
      {
        "duration": 8,
        "start_time": "2021-06-13T15:48:08.290Z"
      },
      {
        "duration": 29,
        "start_time": "2021-06-13T15:48:08.302Z"
      },
      {
        "duration": 11,
        "start_time": "2021-06-13T15:48:08.334Z"
      },
      {
        "duration": 595,
        "start_time": "2021-06-13T15:48:08.348Z"
      },
      {
        "duration": 37,
        "start_time": "2021-06-13T15:48:08.946Z"
      },
      {
        "duration": 525,
        "start_time": "2021-06-13T15:48:08.986Z"
      },
      {
        "duration": 581,
        "start_time": "2021-06-13T15:48:09.515Z"
      },
      {
        "duration": 8,
        "start_time": "2021-06-13T15:48:10.099Z"
      },
      {
        "duration": 8,
        "start_time": "2021-06-13T15:48:10.109Z"
      },
      {
        "duration": 387,
        "start_time": "2021-06-13T15:48:10.119Z"
      },
      {
        "duration": 426,
        "start_time": "2021-06-13T15:48:10.508Z"
      },
      {
        "duration": 9,
        "start_time": "2021-06-13T15:48:10.937Z"
      },
      {
        "duration": 34,
        "start_time": "2021-06-13T15:48:10.949Z"
      },
      {
        "duration": 435,
        "start_time": "2021-06-13T15:48:10.986Z"
      },
      {
        "duration": 434,
        "start_time": "2021-06-13T15:48:11.423Z"
      },
      {
        "duration": 23,
        "start_time": "2021-06-13T15:48:11.860Z"
      },
      {
        "duration": 6,
        "start_time": "2021-06-13T15:48:11.886Z"
      },
      {
        "duration": 402,
        "start_time": "2021-06-13T15:48:11.895Z"
      },
      {
        "duration": 403,
        "start_time": "2021-06-13T15:48:12.300Z"
      },
      {
        "duration": 7,
        "start_time": "2021-06-13T15:48:12.706Z"
      },
      {
        "duration": 10,
        "start_time": "2021-06-13T15:48:12.715Z"
      },
      {
        "duration": 786,
        "start_time": "2021-06-13T15:48:12.727Z"
      },
      {
        "duration": 7,
        "start_time": "2021-06-13T15:52:45.413Z"
      },
      {
        "duration": 4,
        "start_time": "2021-06-13T15:52:47.764Z"
      },
      {
        "duration": 23,
        "start_time": "2021-06-13T15:52:49.472Z"
      },
      {
        "duration": 15,
        "start_time": "2021-06-13T15:52:51.850Z"
      },
      {
        "duration": 398,
        "start_time": "2021-06-13T15:53:00.059Z"
      },
      {
        "duration": 1906,
        "start_time": "2021-06-13T15:53:05.739Z"
      },
      {
        "duration": 48,
        "start_time": "2021-06-13T15:53:07.648Z"
      },
      {
        "duration": 32,
        "start_time": "2021-06-13T15:53:07.700Z"
      },
      {
        "duration": 5,
        "start_time": "2021-06-13T15:53:07.736Z"
      },
      {
        "duration": 49,
        "start_time": "2021-06-13T15:53:07.744Z"
      },
      {
        "duration": 32,
        "start_time": "2021-06-13T15:53:07.796Z"
      },
      {
        "duration": 10,
        "start_time": "2021-06-13T15:53:07.831Z"
      },
      {
        "duration": 46,
        "start_time": "2021-06-13T15:53:07.846Z"
      },
      {
        "duration": 13,
        "start_time": "2021-06-13T15:53:07.896Z"
      },
      {
        "duration": 7,
        "start_time": "2021-06-13T15:53:07.912Z"
      },
      {
        "duration": 15,
        "start_time": "2021-06-13T15:53:07.922Z"
      },
      {
        "duration": 12,
        "start_time": "2021-06-13T15:53:07.940Z"
      },
      {
        "duration": 15,
        "start_time": "2021-06-13T15:53:07.984Z"
      },
      {
        "duration": 54,
        "start_time": "2021-06-13T15:53:08.001Z"
      },
      {
        "duration": 34,
        "start_time": "2021-06-13T15:53:08.058Z"
      },
      {
        "duration": 21,
        "start_time": "2021-06-13T15:53:08.095Z"
      },
      {
        "duration": 16,
        "start_time": "2021-06-13T15:53:08.119Z"
      },
      {
        "duration": 50,
        "start_time": "2021-06-13T15:53:08.137Z"
      },
      {
        "duration": 10,
        "start_time": "2021-06-13T15:53:08.190Z"
      },
      {
        "duration": 9,
        "start_time": "2021-06-13T15:53:08.202Z"
      },
      {
        "duration": 8,
        "start_time": "2021-06-13T15:53:08.214Z"
      },
      {
        "duration": 61,
        "start_time": "2021-06-13T15:53:08.224Z"
      },
      {
        "duration": 635,
        "start_time": "2021-06-13T15:53:08.292Z"
      },
      {
        "duration": 408,
        "start_time": "2021-06-13T15:53:08.932Z"
      },
      {
        "duration": 390,
        "start_time": "2021-06-13T15:53:09.342Z"
      },
      {
        "duration": 376,
        "start_time": "2021-06-13T15:53:09.734Z"
      },
      {
        "duration": 387,
        "start_time": "2021-06-13T15:53:10.113Z"
      },
      {
        "duration": 398,
        "start_time": "2021-06-13T15:53:10.502Z"
      },
      {
        "duration": 23,
        "start_time": "2021-06-13T15:53:10.903Z"
      },
      {
        "duration": 29,
        "start_time": "2021-06-13T15:53:10.929Z"
      },
      {
        "duration": 19,
        "start_time": "2021-06-13T15:53:10.984Z"
      },
      {
        "duration": 391,
        "start_time": "2021-06-13T15:53:11.007Z"
      },
      {
        "duration": 16,
        "start_time": "2021-06-13T15:53:11.400Z"
      },
      {
        "duration": 414,
        "start_time": "2021-06-13T15:53:11.419Z"
      },
      {
        "duration": 424,
        "start_time": "2021-06-13T15:53:11.835Z"
      },
      {
        "duration": 22,
        "start_time": "2021-06-13T15:53:12.261Z"
      },
      {
        "duration": 9,
        "start_time": "2021-06-13T15:53:12.286Z"
      },
      {
        "duration": 511,
        "start_time": "2021-06-13T15:53:12.298Z"
      },
      {
        "duration": 547,
        "start_time": "2021-06-13T15:53:12.812Z"
      },
      {
        "duration": 22,
        "start_time": "2021-06-13T15:53:13.362Z"
      },
      {
        "duration": 15,
        "start_time": "2021-06-13T15:53:13.387Z"
      },
      {
        "duration": 546,
        "start_time": "2021-06-13T15:53:13.404Z"
      },
      {
        "duration": 608,
        "start_time": "2021-06-13T15:53:13.953Z"
      },
      {
        "duration": 19,
        "start_time": "2021-06-13T15:53:14.564Z"
      },
      {
        "duration": 9,
        "start_time": "2021-06-13T15:53:14.586Z"
      },
      {
        "duration": 420,
        "start_time": "2021-06-13T15:53:14.598Z"
      },
      {
        "duration": 565,
        "start_time": "2021-06-13T15:53:15.021Z"
      },
      {
        "duration": 9,
        "start_time": "2021-06-13T15:53:15.590Z"
      },
      {
        "duration": 15,
        "start_time": "2021-06-13T15:53:15.602Z"
      },
      {
        "duration": 770,
        "start_time": "2021-06-13T15:53:15.621Z"
      },
      {
        "duration": 397,
        "start_time": "2021-06-13T15:56:57.536Z"
      },
      {
        "duration": 14,
        "start_time": "2021-06-13T15:57:06.089Z"
      },
      {
        "duration": 20,
        "start_time": "2021-06-13T15:57:09.267Z"
      },
      {
        "duration": 254,
        "start_time": "2021-06-13T15:58:31.467Z"
      },
      {
        "duration": 270,
        "start_time": "2021-06-13T15:59:05.582Z"
      },
      {
        "duration": 20,
        "start_time": "2021-06-13T15:59:16.280Z"
      },
      {
        "duration": 21,
        "start_time": "2021-06-13T16:00:47.718Z"
      },
      {
        "duration": 18,
        "start_time": "2021-06-13T16:22:15.831Z"
      },
      {
        "duration": 256,
        "start_time": "2021-06-13T16:26:39.780Z"
      },
      {
        "duration": 238,
        "start_time": "2021-06-13T16:27:02.852Z"
      },
      {
        "duration": 15,
        "start_time": "2021-06-13T16:27:13.097Z"
      },
      {
        "duration": 22,
        "start_time": "2021-06-13T16:27:18.031Z"
      },
      {
        "duration": 303,
        "start_time": "2021-06-13T16:29:00.303Z"
      },
      {
        "duration": 331,
        "start_time": "2021-06-13T16:29:07.229Z"
      },
      {
        "duration": 411,
        "start_time": "2021-06-13T16:30:47.796Z"
      },
      {
        "duration": 299,
        "start_time": "2021-06-13T16:31:57.508Z"
      },
      {
        "duration": 22,
        "start_time": "2021-06-13T16:33:42.439Z"
      },
      {
        "duration": 322,
        "start_time": "2021-06-13T16:33:55.779Z"
      },
      {
        "duration": 21,
        "start_time": "2021-06-13T16:34:25.108Z"
      },
      {
        "duration": 298,
        "start_time": "2021-06-13T16:34:48.716Z"
      },
      {
        "duration": 308,
        "start_time": "2021-06-13T16:34:57.492Z"
      },
      {
        "duration": 22,
        "start_time": "2021-06-13T16:37:36.229Z"
      },
      {
        "duration": 322,
        "start_time": "2021-06-13T16:37:45.606Z"
      },
      {
        "duration": 20,
        "start_time": "2021-06-13T16:38:07.898Z"
      },
      {
        "duration": 315,
        "start_time": "2021-06-13T16:38:14.571Z"
      },
      {
        "duration": 20,
        "start_time": "2021-06-13T16:39:01.611Z"
      },
      {
        "duration": 261,
        "start_time": "2021-06-13T16:40:02.071Z"
      },
      {
        "duration": 258,
        "start_time": "2021-06-13T16:41:34.612Z"
      },
      {
        "duration": 1579,
        "start_time": "2021-06-13T16:49:16.749Z"
      },
      {
        "duration": 48,
        "start_time": "2021-06-13T16:49:18.330Z"
      },
      {
        "duration": 31,
        "start_time": "2021-06-13T16:49:18.382Z"
      },
      {
        "duration": 4,
        "start_time": "2021-06-13T16:49:18.416Z"
      },
      {
        "duration": 18,
        "start_time": "2021-06-13T16:49:18.423Z"
      },
      {
        "duration": 51,
        "start_time": "2021-06-13T16:49:18.444Z"
      },
      {
        "duration": 8,
        "start_time": "2021-06-13T16:49:18.497Z"
      },
      {
        "duration": 16,
        "start_time": "2021-06-13T16:49:18.507Z"
      },
      {
        "duration": 10,
        "start_time": "2021-06-13T16:49:18.527Z"
      },
      {
        "duration": 5,
        "start_time": "2021-06-13T16:49:18.540Z"
      },
      {
        "duration": 44,
        "start_time": "2021-06-13T16:49:18.547Z"
      },
      {
        "duration": 8,
        "start_time": "2021-06-13T16:49:18.593Z"
      },
      {
        "duration": 14,
        "start_time": "2021-06-13T16:49:18.603Z"
      },
      {
        "duration": 35,
        "start_time": "2021-06-13T16:49:18.619Z"
      },
      {
        "duration": 7,
        "start_time": "2021-06-13T16:49:18.684Z"
      },
      {
        "duration": 30,
        "start_time": "2021-06-13T16:49:18.694Z"
      },
      {
        "duration": 9,
        "start_time": "2021-06-13T16:49:18.726Z"
      },
      {
        "duration": 26,
        "start_time": "2021-06-13T16:49:18.737Z"
      },
      {
        "duration": 11,
        "start_time": "2021-06-13T16:49:18.782Z"
      },
      {
        "duration": 8,
        "start_time": "2021-06-13T16:49:18.796Z"
      },
      {
        "duration": 6,
        "start_time": "2021-06-13T16:49:18.806Z"
      },
      {
        "duration": 22,
        "start_time": "2021-06-13T16:49:18.815Z"
      },
      {
        "duration": 412,
        "start_time": "2021-06-13T16:49:18.840Z"
      },
      {
        "duration": 396,
        "start_time": "2021-06-13T16:49:19.255Z"
      },
      {
        "duration": 378,
        "start_time": "2021-06-13T16:49:19.654Z"
      },
      {
        "duration": 380,
        "start_time": "2021-06-13T16:49:20.035Z"
      },
      {
        "duration": 376,
        "start_time": "2021-06-13T16:49:20.422Z"
      },
      {
        "duration": 395,
        "start_time": "2021-06-13T16:49:20.802Z"
      },
      {
        "duration": 9,
        "start_time": "2021-06-13T16:49:21.200Z"
      },
      {
        "duration": 24,
        "start_time": "2021-06-13T16:49:21.212Z"
      },
      {
        "duration": 8,
        "start_time": "2021-06-13T16:49:21.238Z"
      },
      {
        "duration": 394,
        "start_time": "2021-06-13T16:49:21.249Z"
      },
      {
        "duration": 17,
        "start_time": "2021-06-13T16:49:21.646Z"
      },
      {
        "duration": 410,
        "start_time": "2021-06-13T16:49:21.665Z"
      },
      {
        "duration": 388,
        "start_time": "2021-06-13T16:49:22.078Z"
      },
      {
        "duration": 6,
        "start_time": "2021-06-13T16:49:22.469Z"
      },
      {
        "duration": 8,
        "start_time": "2021-06-13T16:49:22.484Z"
      },
      {
        "duration": 398,
        "start_time": "2021-06-13T16:49:22.496Z"
      },
      {
        "duration": 411,
        "start_time": "2021-06-13T16:49:22.897Z"
      },
      {
        "duration": 6,
        "start_time": "2021-06-13T16:49:23.311Z"
      },
      {
        "duration": 8,
        "start_time": "2021-06-13T16:49:23.319Z"
      },
      {
        "duration": 443,
        "start_time": "2021-06-13T16:49:23.329Z"
      },
      {
        "duration": 425,
        "start_time": "2021-06-13T16:49:23.774Z"
      },
      {
        "duration": 6,
        "start_time": "2021-06-13T16:49:24.201Z"
      },
      {
        "duration": 10,
        "start_time": "2021-06-13T16:49:24.209Z"
      },
      {
        "duration": 450,
        "start_time": "2021-06-13T16:49:24.221Z"
      },
      {
        "duration": 424,
        "start_time": "2021-06-13T16:49:24.674Z"
      },
      {
        "duration": 6,
        "start_time": "2021-06-13T16:49:25.101Z"
      },
      {
        "duration": 8,
        "start_time": "2021-06-13T16:49:25.109Z"
      },
      {
        "duration": 20,
        "start_time": "2021-06-13T16:49:25.120Z"
      },
      {
        "duration": 371,
        "start_time": "2021-06-13T16:49:25.142Z"
      },
      {
        "duration": 23,
        "start_time": "2021-06-13T16:49:25.516Z"
      },
      {
        "duration": 46,
        "start_time": "2021-06-13T16:49:25.542Z"
      },
      {
        "duration": 338,
        "start_time": "2021-06-13T16:49:25.590Z"
      },
      {
        "duration": 23,
        "start_time": "2021-06-13T16:49:25.931Z"
      },
      {
        "duration": 351,
        "start_time": "2021-06-13T16:49:25.957Z"
      },
      {
        "duration": 20,
        "start_time": "2021-06-13T16:49:26.311Z"
      },
      {
        "duration": 362,
        "start_time": "2021-06-13T16:49:26.333Z"
      },
      {
        "duration": 22,
        "start_time": "2021-06-13T16:49:26.697Z"
      },
      {
        "duration": 344,
        "start_time": "2021-06-13T16:49:26.721Z"
      },
      {
        "duration": 23,
        "start_time": "2021-06-13T16:49:27.067Z"
      },
      {
        "duration": 357,
        "start_time": "2021-06-13T16:49:27.093Z"
      },
      {
        "duration": 31,
        "start_time": "2021-06-13T16:49:27.452Z"
      },
      {
        "duration": 265,
        "start_time": "2021-06-13T16:49:27.485Z"
      },
      {
        "duration": 32,
        "start_time": "2021-06-13T16:49:27.752Z"
      },
      {
        "duration": 327,
        "start_time": "2021-06-13T16:49:27.787Z"
      },
      {
        "duration": 20,
        "start_time": "2021-06-13T16:49:28.116Z"
      },
      {
        "duration": 343,
        "start_time": "2021-06-13T16:49:28.138Z"
      },
      {
        "duration": 20,
        "start_time": "2021-06-13T16:49:28.484Z"
      },
      {
        "duration": 279,
        "start_time": "2021-06-13T16:49:28.506Z"
      },
      {
        "duration": 12,
        "start_time": "2021-06-13T18:24:18.829Z"
      },
      {
        "duration": 7,
        "start_time": "2021-06-13T18:30:35.254Z"
      },
      {
        "duration": 6,
        "start_time": "2021-06-13T18:31:03.247Z"
      },
      {
        "duration": 424,
        "start_time": "2021-06-13T18:31:17.233Z"
      },
      {
        "duration": 5,
        "start_time": "2021-06-13T18:31:59.892Z"
      },
      {
        "duration": 246,
        "start_time": "2021-06-13T18:32:03.346Z"
      },
      {
        "duration": 5,
        "start_time": "2021-06-13T18:32:05.921Z"
      },
      {
        "duration": 290,
        "start_time": "2021-06-13T18:32:35.996Z"
      },
      {
        "duration": 234,
        "start_time": "2021-06-13T18:33:12.511Z"
      },
      {
        "duration": 5,
        "start_time": "2021-06-13T18:33:59.454Z"
      },
      {
        "duration": 5,
        "start_time": "2021-06-13T18:34:04.517Z"
      },
      {
        "duration": 7,
        "start_time": "2021-06-13T18:41:43.521Z"
      },
      {
        "duration": 79,
        "start_time": "2021-06-13T18:44:04.360Z"
      },
      {
        "duration": 10,
        "start_time": "2021-06-13T18:44:28.309Z"
      },
      {
        "duration": 23,
        "start_time": "2021-06-13T18:48:38.590Z"
      },
      {
        "duration": 13,
        "start_time": "2021-06-13T18:52:25.395Z"
      },
      {
        "duration": 5,
        "start_time": "2021-06-13T18:52:33.807Z"
      },
      {
        "duration": 5,
        "start_time": "2021-06-13T18:52:40.181Z"
      },
      {
        "duration": 14,
        "start_time": "2021-06-13T18:52:49.292Z"
      },
      {
        "duration": 6,
        "start_time": "2021-06-13T18:52:52.170Z"
      },
      {
        "duration": 6,
        "start_time": "2021-06-13T18:52:53.740Z"
      },
      {
        "duration": 7,
        "start_time": "2021-06-13T18:55:10.701Z"
      },
      {
        "duration": 10,
        "start_time": "2021-06-13T18:55:15.577Z"
      },
      {
        "duration": 24,
        "start_time": "2021-06-13T18:56:48.056Z"
      },
      {
        "duration": 1365,
        "start_time": "2021-06-13T19:43:27.703Z"
      },
      {
        "duration": 48,
        "start_time": "2021-06-13T19:43:29.071Z"
      },
      {
        "duration": 31,
        "start_time": "2021-06-13T19:43:29.122Z"
      },
      {
        "duration": 4,
        "start_time": "2021-06-13T19:43:29.155Z"
      },
      {
        "duration": 33,
        "start_time": "2021-06-13T19:43:29.161Z"
      },
      {
        "duration": 22,
        "start_time": "2021-06-13T19:43:29.197Z"
      },
      {
        "duration": 9,
        "start_time": "2021-06-13T19:43:29.221Z"
      },
      {
        "duration": 51,
        "start_time": "2021-06-13T19:43:29.234Z"
      },
      {
        "duration": 13,
        "start_time": "2021-06-13T19:43:29.288Z"
      },
      {
        "duration": 6,
        "start_time": "2021-06-13T19:43:29.303Z"
      },
      {
        "duration": 14,
        "start_time": "2021-06-13T19:43:29.311Z"
      },
      {
        "duration": 7,
        "start_time": "2021-06-13T19:43:29.328Z"
      },
      {
        "duration": 46,
        "start_time": "2021-06-13T19:43:29.337Z"
      },
      {
        "duration": 34,
        "start_time": "2021-06-13T19:43:29.385Z"
      },
      {
        "duration": 7,
        "start_time": "2021-06-13T19:43:29.422Z"
      },
      {
        "duration": 24,
        "start_time": "2021-06-13T19:43:29.431Z"
      },
      {
        "duration": 7,
        "start_time": "2021-06-13T19:43:29.483Z"
      },
      {
        "duration": 15,
        "start_time": "2021-06-13T19:43:29.493Z"
      },
      {
        "duration": 11,
        "start_time": "2021-06-13T19:43:29.510Z"
      },
      {
        "duration": 7,
        "start_time": "2021-06-13T19:43:29.523Z"
      },
      {
        "duration": 5,
        "start_time": "2021-06-13T19:43:29.533Z"
      },
      {
        "duration": 61,
        "start_time": "2021-06-13T19:43:29.541Z"
      },
      {
        "duration": 391,
        "start_time": "2021-06-13T19:43:29.608Z"
      },
      {
        "duration": 385,
        "start_time": "2021-06-13T19:43:30.003Z"
      },
      {
        "duration": 378,
        "start_time": "2021-06-13T19:43:30.391Z"
      },
      {
        "duration": 481,
        "start_time": "2021-06-13T19:43:30.771Z"
      },
      {
        "duration": 386,
        "start_time": "2021-06-13T19:43:31.255Z"
      },
      {
        "duration": 368,
        "start_time": "2021-06-13T19:43:31.643Z"
      },
      {
        "duration": 8,
        "start_time": "2021-06-13T19:43:32.014Z"
      },
      {
        "duration": 26,
        "start_time": "2021-06-13T19:43:32.024Z"
      },
      {
        "duration": 32,
        "start_time": "2021-06-13T19:43:32.053Z"
      },
      {
        "duration": 368,
        "start_time": "2021-06-13T19:43:32.089Z"
      },
      {
        "duration": 30,
        "start_time": "2021-06-13T19:43:32.459Z"
      },
      {
        "duration": 374,
        "start_time": "2021-06-13T19:43:32.491Z"
      },
      {
        "duration": 396,
        "start_time": "2021-06-13T19:43:32.868Z"
      },
      {
        "duration": 6,
        "start_time": "2021-06-13T19:43:33.267Z"
      },
      {
        "duration": 8,
        "start_time": "2021-06-13T19:43:33.284Z"
      },
      {
        "duration": 392,
        "start_time": "2021-06-13T19:43:33.294Z"
      },
      {
        "duration": 453,
        "start_time": "2021-06-13T19:43:33.689Z"
      },
      {
        "duration": 6,
        "start_time": "2021-06-13T19:43:34.145Z"
      },
      {
        "duration": 28,
        "start_time": "2021-06-13T19:43:34.154Z"
      },
      {
        "duration": 422,
        "start_time": "2021-06-13T19:43:34.184Z"
      },
      {
        "duration": 399,
        "start_time": "2021-06-13T19:43:34.609Z"
      },
      {
        "duration": 9,
        "start_time": "2021-06-13T19:43:35.011Z"
      },
      {
        "duration": 9,
        "start_time": "2021-06-13T19:43:35.023Z"
      },
      {
        "duration": 448,
        "start_time": "2021-06-13T19:43:35.035Z"
      },
      {
        "duration": 401,
        "start_time": "2021-06-13T19:43:35.486Z"
      },
      {
        "duration": 6,
        "start_time": "2021-06-13T19:43:35.889Z"
      },
      {
        "duration": 8,
        "start_time": "2021-06-13T19:43:35.898Z"
      },
      {
        "duration": 21,
        "start_time": "2021-06-13T19:43:35.908Z"
      },
      {
        "duration": 461,
        "start_time": "2021-06-13T19:43:35.931Z"
      },
      {
        "duration": 18,
        "start_time": "2021-06-13T19:43:36.394Z"
      },
      {
        "duration": 21,
        "start_time": "2021-06-13T19:43:36.415Z"
      },
      {
        "duration": 345,
        "start_time": "2021-06-13T19:43:36.438Z"
      },
      {
        "duration": 23,
        "start_time": "2021-06-13T19:43:36.786Z"
      },
      {
        "duration": 346,
        "start_time": "2021-06-13T19:43:36.811Z"
      },
      {
        "duration": 29,
        "start_time": "2021-06-13T19:43:37.160Z"
      },
      {
        "duration": 367,
        "start_time": "2021-06-13T19:43:37.191Z"
      },
      {
        "duration": 29,
        "start_time": "2021-06-13T19:43:37.561Z"
      },
      {
        "duration": 328,
        "start_time": "2021-06-13T19:43:37.593Z"
      },
      {
        "duration": 21,
        "start_time": "2021-06-13T19:43:37.923Z"
      },
      {
        "duration": 389,
        "start_time": "2021-06-13T19:43:37.947Z"
      },
      {
        "duration": 20,
        "start_time": "2021-06-13T19:43:38.338Z"
      },
      {
        "duration": 275,
        "start_time": "2021-06-13T19:43:38.361Z"
      },
      {
        "duration": 21,
        "start_time": "2021-06-13T19:43:38.638Z"
      },
      {
        "duration": 330,
        "start_time": "2021-06-13T19:43:38.661Z"
      },
      {
        "duration": 21,
        "start_time": "2021-06-13T19:43:38.993Z"
      },
      {
        "duration": 377,
        "start_time": "2021-06-13T19:43:39.021Z"
      },
      {
        "duration": 20,
        "start_time": "2021-06-13T19:43:39.401Z"
      },
      {
        "duration": 290,
        "start_time": "2021-06-13T19:43:39.424Z"
      },
      {
        "duration": 11,
        "start_time": "2021-06-13T19:43:39.717Z"
      },
      {
        "duration": 7,
        "start_time": "2021-06-13T19:43:39.731Z"
      },
      {
        "duration": 8,
        "start_time": "2021-06-13T19:43:39.741Z"
      },
      {
        "duration": 35,
        "start_time": "2021-06-13T19:43:39.751Z"
      },
      {
        "duration": 23,
        "start_time": "2021-06-13T19:43:39.789Z"
      },
      {
        "duration": 13,
        "start_time": "2021-06-13T19:43:39.815Z"
      },
      {
        "duration": 5,
        "start_time": "2021-06-13T19:43:39.831Z"
      },
      {
        "duration": 47,
        "start_time": "2021-06-13T19:43:39.838Z"
      },
      {
        "duration": 10,
        "start_time": "2021-06-13T19:43:39.887Z"
      },
      {
        "duration": 23,
        "start_time": "2021-06-13T19:43:39.899Z"
      },
      {
        "duration": 87,
        "start_time": "2021-06-13T22:01:56.107Z"
      },
      {
        "duration": 1437,
        "start_time": "2021-06-13T22:07:57.777Z"
      },
      {
        "duration": 47,
        "start_time": "2021-06-13T22:07:59.217Z"
      },
      {
        "duration": 33,
        "start_time": "2021-06-13T22:07:59.267Z"
      },
      {
        "duration": 4,
        "start_time": "2021-06-13T22:07:59.303Z"
      },
      {
        "duration": 19,
        "start_time": "2021-06-13T22:07:59.309Z"
      },
      {
        "duration": 49,
        "start_time": "2021-06-13T22:07:59.330Z"
      },
      {
        "duration": 7,
        "start_time": "2021-06-13T22:07:59.382Z"
      },
      {
        "duration": 13,
        "start_time": "2021-06-13T22:07:59.393Z"
      },
      {
        "duration": 11,
        "start_time": "2021-06-13T22:07:59.409Z"
      },
      {
        "duration": 44,
        "start_time": "2021-06-13T22:07:59.423Z"
      },
      {
        "duration": 16,
        "start_time": "2021-06-13T22:07:59.470Z"
      },
      {
        "duration": 7,
        "start_time": "2021-06-13T22:07:59.489Z"
      },
      {
        "duration": 11,
        "start_time": "2021-06-13T22:07:59.499Z"
      },
      {
        "duration": 63,
        "start_time": "2021-06-13T22:07:59.513Z"
      },
      {
        "duration": 8,
        "start_time": "2021-06-13T22:07:59.578Z"
      },
      {
        "duration": 20,
        "start_time": "2021-06-13T22:07:59.588Z"
      },
      {
        "duration": 17,
        "start_time": "2021-06-13T22:07:59.611Z"
      },
      {
        "duration": 43,
        "start_time": "2021-06-13T22:07:59.631Z"
      },
      {
        "duration": 14,
        "start_time": "2021-06-13T22:07:59.677Z"
      },
      {
        "duration": 8,
        "start_time": "2021-06-13T22:07:59.694Z"
      },
      {
        "duration": 6,
        "start_time": "2021-06-13T22:07:59.704Z"
      },
      {
        "duration": 49,
        "start_time": "2021-06-13T22:07:59.713Z"
      },
      {
        "duration": 484,
        "start_time": "2021-06-13T22:07:59.768Z"
      },
      {
        "duration": 604,
        "start_time": "2021-06-13T22:08:00.263Z"
      },
      {
        "duration": 623,
        "start_time": "2021-06-13T22:08:00.871Z"
      },
      {
        "duration": 626,
        "start_time": "2021-06-13T22:08:01.497Z"
      },
      {
        "duration": 424,
        "start_time": "2021-06-13T22:08:02.126Z"
      },
      {
        "duration": 404,
        "start_time": "2021-06-13T22:08:02.552Z"
      },
      {
        "duration": 440,
        "start_time": "2021-06-13T22:08:02.958Z"
      },
      {
        "duration": -20709,
        "start_time": "2021-06-13T22:08:24.110Z"
      },
      {
        "duration": -20709,
        "start_time": "2021-06-13T22:08:24.112Z"
      },
      {
        "duration": -20713,
        "start_time": "2021-06-13T22:08:24.117Z"
      },
      {
        "duration": -20714,
        "start_time": "2021-06-13T22:08:24.120Z"
      },
      {
        "duration": -20715,
        "start_time": "2021-06-13T22:08:24.122Z"
      },
      {
        "duration": -20720,
        "start_time": "2021-06-13T22:08:24.128Z"
      },
      {
        "duration": -20722,
        "start_time": "2021-06-13T22:08:24.132Z"
      },
      {
        "duration": -20724,
        "start_time": "2021-06-13T22:08:24.135Z"
      },
      {
        "duration": -20725,
        "start_time": "2021-06-13T22:08:24.137Z"
      },
      {
        "duration": -20726,
        "start_time": "2021-06-13T22:08:24.139Z"
      },
      {
        "duration": -20726,
        "start_time": "2021-06-13T22:08:24.141Z"
      },
      {
        "duration": -20727,
        "start_time": "2021-06-13T22:08:24.143Z"
      },
      {
        "duration": -20726,
        "start_time": "2021-06-13T22:08:24.144Z"
      },
      {
        "duration": -20731,
        "start_time": "2021-06-13T22:08:24.151Z"
      },
      {
        "duration": -20731,
        "start_time": "2021-06-13T22:08:24.153Z"
      },
      {
        "duration": -20733,
        "start_time": "2021-06-13T22:08:24.156Z"
      },
      {
        "duration": -20732,
        "start_time": "2021-06-13T22:08:24.157Z"
      },
      {
        "duration": -20733,
        "start_time": "2021-06-13T22:08:24.159Z"
      },
      {
        "duration": -20734,
        "start_time": "2021-06-13T22:08:24.162Z"
      },
      {
        "duration": -20736,
        "start_time": "2021-06-13T22:08:24.165Z"
      },
      {
        "duration": -20740,
        "start_time": "2021-06-13T22:08:24.171Z"
      },
      {
        "duration": -20740,
        "start_time": "2021-06-13T22:08:24.173Z"
      },
      {
        "duration": -20741,
        "start_time": "2021-06-13T22:08:24.175Z"
      },
      {
        "duration": -20740,
        "start_time": "2021-06-13T22:08:24.176Z"
      },
      {
        "duration": -20718,
        "start_time": "2021-06-13T22:08:24.178Z"
      },
      {
        "duration": -20718,
        "start_time": "2021-06-13T22:08:24.181Z"
      },
      {
        "duration": -20718,
        "start_time": "2021-06-13T22:08:24.182Z"
      },
      {
        "duration": -20723,
        "start_time": "2021-06-13T22:08:24.189Z"
      },
      {
        "duration": -20724,
        "start_time": "2021-06-13T22:08:24.191Z"
      },
      {
        "duration": -20733,
        "start_time": "2021-06-13T22:08:24.201Z"
      },
      {
        "duration": -20734,
        "start_time": "2021-06-13T22:08:24.203Z"
      },
      {
        "duration": -20735,
        "start_time": "2021-06-13T22:08:24.206Z"
      },
      {
        "duration": -20736,
        "start_time": "2021-06-13T22:08:24.208Z"
      },
      {
        "duration": -20737,
        "start_time": "2021-06-13T22:08:24.210Z"
      },
      {
        "duration": -20737,
        "start_time": "2021-06-13T22:08:24.212Z"
      },
      {
        "duration": -20737,
        "start_time": "2021-06-13T22:08:24.214Z"
      },
      {
        "duration": -20799,
        "start_time": "2021-06-13T22:08:24.277Z"
      },
      {
        "duration": -20863,
        "start_time": "2021-06-13T22:08:24.342Z"
      },
      {
        "duration": -20863,
        "start_time": "2021-06-13T22:08:24.344Z"
      },
      {
        "duration": -20864,
        "start_time": "2021-06-13T22:08:24.346Z"
      },
      {
        "duration": -20865,
        "start_time": "2021-06-13T22:08:24.348Z"
      },
      {
        "duration": -20866,
        "start_time": "2021-06-13T22:08:24.350Z"
      },
      {
        "duration": -20867,
        "start_time": "2021-06-13T22:08:24.352Z"
      },
      {
        "duration": -20867,
        "start_time": "2021-06-13T22:08:24.354Z"
      },
      {
        "duration": -20868,
        "start_time": "2021-06-13T22:08:24.356Z"
      },
      {
        "duration": -20869,
        "start_time": "2021-06-13T22:08:24.358Z"
      },
      {
        "duration": -20869,
        "start_time": "2021-06-13T22:08:24.360Z"
      },
      {
        "duration": -20894,
        "start_time": "2021-06-13T22:08:24.386Z"
      },
      {
        "duration": -20895,
        "start_time": "2021-06-13T22:08:24.388Z"
      },
      {
        "duration": -20895,
        "start_time": "2021-06-13T22:08:24.390Z"
      },
      {
        "duration": -20896,
        "start_time": "2021-06-13T22:08:24.392Z"
      },
      {
        "duration": -20897,
        "start_time": "2021-06-13T22:08:24.394Z"
      },
      {
        "duration": 1039,
        "start_time": "2021-06-13T22:08:22.824Z"
      },
      {
        "duration": 5,
        "start_time": "2021-06-13T22:09:55.103Z"
      },
      {
        "duration": 68,
        "start_time": "2021-06-13T22:09:55.112Z"
      },
      {
        "duration": 30,
        "start_time": "2021-06-13T22:09:55.183Z"
      },
      {
        "duration": 4,
        "start_time": "2021-06-13T22:09:55.216Z"
      },
      {
        "duration": 50,
        "start_time": "2021-06-13T22:09:55.222Z"
      },
      {
        "duration": 24,
        "start_time": "2021-06-13T22:09:55.274Z"
      },
      {
        "duration": 7,
        "start_time": "2021-06-13T22:09:55.300Z"
      },
      {
        "duration": 15,
        "start_time": "2021-06-13T22:09:55.309Z"
      },
      {
        "duration": 10,
        "start_time": "2021-06-13T22:09:55.364Z"
      },
      {
        "duration": 5,
        "start_time": "2021-06-13T22:09:55.377Z"
      },
      {
        "duration": 14,
        "start_time": "2021-06-13T22:09:55.384Z"
      },
      {
        "duration": 10,
        "start_time": "2021-06-13T22:09:55.400Z"
      },
      {
        "duration": 54,
        "start_time": "2021-06-13T22:09:55.412Z"
      },
      {
        "duration": 37,
        "start_time": "2021-06-13T22:09:55.468Z"
      },
      {
        "duration": 6,
        "start_time": "2021-06-13T22:09:55.507Z"
      },
      {
        "duration": 51,
        "start_time": "2021-06-13T22:09:55.516Z"
      },
      {
        "duration": 13,
        "start_time": "2021-06-13T22:09:55.569Z"
      },
      {
        "duration": 17,
        "start_time": "2021-06-13T22:09:55.584Z"
      },
      {
        "duration": 11,
        "start_time": "2021-06-13T22:09:55.603Z"
      },
      {
        "duration": 49,
        "start_time": "2021-06-13T22:09:55.616Z"
      },
      {
        "duration": 6,
        "start_time": "2021-06-13T22:09:55.667Z"
      },
      {
        "duration": 27,
        "start_time": "2021-06-13T22:09:55.675Z"
      },
      {
        "duration": 442,
        "start_time": "2021-06-13T22:09:55.704Z"
      },
      {
        "duration": 644,
        "start_time": "2021-06-13T22:09:56.148Z"
      },
      {
        "duration": 422,
        "start_time": "2021-06-13T22:09:56.795Z"
      },
      {
        "duration": 436,
        "start_time": "2021-06-13T22:09:57.219Z"
      },
      {
        "duration": 662,
        "start_time": "2021-06-13T22:09:57.662Z"
      },
      {
        "duration": 548,
        "start_time": "2021-06-13T22:09:58.328Z"
      },
      {
        "duration": 736,
        "start_time": "2021-06-13T22:09:58.879Z"
      },
      {
        "duration": 8,
        "start_time": "2021-06-13T22:09:59.618Z"
      },
      {
        "duration": 46,
        "start_time": "2021-06-13T22:09:59.629Z"
      },
      {
        "duration": 11,
        "start_time": "2021-06-13T22:09:59.678Z"
      },
      {
        "duration": 485,
        "start_time": "2021-06-13T22:09:59.692Z"
      },
      {
        "duration": 24,
        "start_time": "2021-06-13T22:10:00.180Z"
      },
      {
        "duration": 475,
        "start_time": "2021-06-13T22:10:00.207Z"
      },
      {
        "duration": 412,
        "start_time": "2021-06-13T22:10:00.684Z"
      },
      {
        "duration": 8,
        "start_time": "2021-06-13T22:10:01.098Z"
      },
      {
        "duration": 34,
        "start_time": "2021-06-13T22:10:01.108Z"
      },
      {
        "duration": 435,
        "start_time": "2021-06-13T22:10:01.145Z"
      },
      {
        "duration": 437,
        "start_time": "2021-06-13T22:10:01.582Z"
      },
      {
        "duration": 7,
        "start_time": "2021-06-13T22:10:02.022Z"
      },
      {
        "duration": 31,
        "start_time": "2021-06-13T22:10:02.031Z"
      },
      {
        "duration": 430,
        "start_time": "2021-06-13T22:10:02.064Z"
      },
      {
        "duration": 426,
        "start_time": "2021-06-13T22:10:02.497Z"
      },
      {
        "duration": 8,
        "start_time": "2021-06-13T22:10:02.925Z"
      },
      {
        "duration": 38,
        "start_time": "2021-06-13T22:10:02.935Z"
      },
      {
        "duration": 414,
        "start_time": "2021-06-13T22:10:02.975Z"
      },
      {
        "duration": 408,
        "start_time": "2021-06-13T22:10:03.392Z"
      },
      {
        "duration": 6,
        "start_time": "2021-06-13T22:10:03.803Z"
      },
      {
        "duration": 10,
        "start_time": "2021-06-13T22:10:03.811Z"
      },
      {
        "duration": 47,
        "start_time": "2021-06-13T22:10:03.823Z"
      },
      {
        "duration": 365,
        "start_time": "2021-06-13T22:10:03.872Z"
      },
      {
        "duration": 28,
        "start_time": "2021-06-13T22:10:04.240Z"
      },
      {
        "duration": 27,
        "start_time": "2021-06-13T22:10:04.270Z"
      },
      {
        "duration": 376,
        "start_time": "2021-06-13T22:10:04.300Z"
      },
      {
        "duration": 20,
        "start_time": "2021-06-13T22:10:04.678Z"
      },
      {
        "duration": 378,
        "start_time": "2021-06-13T22:10:04.701Z"
      },
      {
        "duration": 23,
        "start_time": "2021-06-13T22:10:05.082Z"
      },
      {
        "duration": 318,
        "start_time": "2021-06-13T22:10:05.108Z"
      },
      {
        "duration": 42,
        "start_time": "2021-06-13T22:10:05.430Z"
      },
      {
        "duration": 394,
        "start_time": "2021-06-13T22:10:05.475Z"
      },
      {
        "duration": 22,
        "start_time": "2021-06-13T22:10:05.872Z"
      },
      {
        "duration": 529,
        "start_time": "2021-06-13T22:10:05.898Z"
      },
      {
        "duration": 35,
        "start_time": "2021-06-13T22:10:06.429Z"
      },
      {
        "duration": 300,
        "start_time": "2021-06-13T22:10:06.466Z"
      },
      {
        "duration": 21,
        "start_time": "2021-06-13T22:10:06.768Z"
      },
      {
        "duration": 376,
        "start_time": "2021-06-13T22:10:06.791Z"
      },
      {
        "duration": 21,
        "start_time": "2021-06-13T22:10:07.170Z"
      },
      {
        "duration": 397,
        "start_time": "2021-06-13T22:10:07.194Z"
      },
      {
        "duration": 23,
        "start_time": "2021-06-13T22:10:07.594Z"
      },
      {
        "duration": 304,
        "start_time": "2021-06-13T22:10:07.620Z"
      },
      {
        "duration": 14,
        "start_time": "2021-06-13T22:10:07.927Z"
      },
      {
        "duration": 23,
        "start_time": "2021-06-13T22:10:07.944Z"
      },
      {
        "duration": 6,
        "start_time": "2021-06-13T22:10:07.970Z"
      },
      {
        "duration": 12,
        "start_time": "2021-06-13T22:10:07.979Z"
      },
      {
        "duration": 26,
        "start_time": "2021-06-13T22:10:07.993Z"
      },
      {
        "duration": 50,
        "start_time": "2021-06-13T22:10:08.021Z"
      },
      {
        "duration": 4,
        "start_time": "2021-06-13T22:10:08.074Z"
      },
      {
        "duration": 10,
        "start_time": "2021-06-13T22:10:08.080Z"
      },
      {
        "duration": 9,
        "start_time": "2021-06-13T22:10:08.092Z"
      },
      {
        "duration": 60,
        "start_time": "2021-06-13T22:10:08.109Z"
      },
      {
        "duration": 112,
        "start_time": "2021-06-13T22:14:28.492Z"
      },
      {
        "duration": 96,
        "start_time": "2021-06-13T22:16:17.218Z"
      },
      {
        "duration": 115,
        "start_time": "2021-06-13T22:27:20.108Z"
      },
      {
        "duration": 1016,
        "start_time": "2021-06-14T03:39:04.793Z"
      },
      {
        "duration": 377,
        "start_time": "2021-06-14T06:44:15.103Z"
      },
      {
        "duration": 2145,
        "start_time": "2021-06-14T06:44:20.952Z"
      },
      {
        "duration": 49,
        "start_time": "2021-06-14T06:44:23.100Z"
      },
      {
        "duration": 37,
        "start_time": "2021-06-14T06:44:23.152Z"
      },
      {
        "duration": 4,
        "start_time": "2021-06-14T06:44:23.192Z"
      },
      {
        "duration": 24,
        "start_time": "2021-06-14T06:44:23.198Z"
      },
      {
        "duration": 48,
        "start_time": "2021-06-14T06:44:23.224Z"
      },
      {
        "duration": 9,
        "start_time": "2021-06-14T06:44:23.274Z"
      },
      {
        "duration": 18,
        "start_time": "2021-06-14T06:44:23.287Z"
      },
      {
        "duration": 12,
        "start_time": "2021-06-14T06:44:23.308Z"
      },
      {
        "duration": 41,
        "start_time": "2021-06-14T06:44:23.323Z"
      },
      {
        "duration": 18,
        "start_time": "2021-06-14T06:44:23.367Z"
      },
      {
        "duration": 537,
        "start_time": "2021-06-14T06:44:23.389Z"
      },
      {
        "duration": -176,
        "start_time": "2021-06-14T06:44:24.111Z"
      },
      {
        "duration": -178,
        "start_time": "2021-06-14T06:44:24.115Z"
      },
      {
        "duration": -180,
        "start_time": "2021-06-14T06:44:24.119Z"
      },
      {
        "duration": -182,
        "start_time": "2021-06-14T06:44:24.123Z"
      },
      {
        "duration": -183,
        "start_time": "2021-06-14T06:44:24.126Z"
      },
      {
        "duration": -185,
        "start_time": "2021-06-14T06:44:24.130Z"
      },
      {
        "duration": -199,
        "start_time": "2021-06-14T06:44:24.146Z"
      },
      {
        "duration": -200,
        "start_time": "2021-06-14T06:44:24.149Z"
      },
      {
        "duration": -203,
        "start_time": "2021-06-14T06:44:24.154Z"
      },
      {
        "duration": -205,
        "start_time": "2021-06-14T06:44:24.158Z"
      },
      {
        "duration": -205,
        "start_time": "2021-06-14T06:44:24.161Z"
      },
      {
        "duration": -207,
        "start_time": "2021-06-14T06:44:24.165Z"
      },
      {
        "duration": -208,
        "start_time": "2021-06-14T06:44:24.168Z"
      },
      {
        "duration": -210,
        "start_time": "2021-06-14T06:44:24.172Z"
      },
      {
        "duration": -210,
        "start_time": "2021-06-14T06:44:24.174Z"
      },
      {
        "duration": -212,
        "start_time": "2021-06-14T06:44:24.178Z"
      },
      {
        "duration": -213,
        "start_time": "2021-06-14T06:44:24.181Z"
      },
      {
        "duration": -226,
        "start_time": "2021-06-14T06:44:24.197Z"
      },
      {
        "duration": -227,
        "start_time": "2021-06-14T06:44:24.200Z"
      },
      {
        "duration": -229,
        "start_time": "2021-06-14T06:44:24.204Z"
      },
      {
        "duration": -229,
        "start_time": "2021-06-14T06:44:24.206Z"
      },
      {
        "duration": -231,
        "start_time": "2021-06-14T06:44:24.210Z"
      },
      {
        "duration": -232,
        "start_time": "2021-06-14T06:44:24.213Z"
      },
      {
        "duration": -244,
        "start_time": "2021-06-14T06:44:24.227Z"
      },
      {
        "duration": -245,
        "start_time": "2021-06-14T06:44:24.231Z"
      },
      {
        "duration": -250,
        "start_time": "2021-06-14T06:44:24.238Z"
      },
      {
        "duration": -251,
        "start_time": "2021-06-14T06:44:24.241Z"
      },
      {
        "duration": -253,
        "start_time": "2021-06-14T06:44:24.245Z"
      },
      {
        "duration": -258,
        "start_time": "2021-06-14T06:44:24.252Z"
      },
      {
        "duration": -259,
        "start_time": "2021-06-14T06:44:24.255Z"
      },
      {
        "duration": -260,
        "start_time": "2021-06-14T06:44:24.258Z"
      },
      {
        "duration": -262,
        "start_time": "2021-06-14T06:44:24.262Z"
      },
      {
        "duration": -268,
        "start_time": "2021-06-14T06:44:24.270Z"
      },
      {
        "duration": -270,
        "start_time": "2021-06-14T06:44:24.274Z"
      },
      {
        "duration": -214,
        "start_time": "2021-06-14T06:44:24.277Z"
      },
      {
        "duration": -215,
        "start_time": "2021-06-14T06:44:24.280Z"
      },
      {
        "duration": -216,
        "start_time": "2021-06-14T06:44:24.283Z"
      },
      {
        "duration": -228,
        "start_time": "2021-06-14T06:44:24.298Z"
      },
      {
        "duration": -230,
        "start_time": "2021-06-14T06:44:24.301Z"
      },
      {
        "duration": -231,
        "start_time": "2021-06-14T06:44:24.304Z"
      },
      {
        "duration": -233,
        "start_time": "2021-06-14T06:44:24.307Z"
      },
      {
        "duration": -234,
        "start_time": "2021-06-14T06:44:24.310Z"
      },
      {
        "duration": -253,
        "start_time": "2021-06-14T06:44:24.330Z"
      },
      {
        "duration": -256,
        "start_time": "2021-06-14T06:44:24.334Z"
      },
      {
        "duration": -258,
        "start_time": "2021-06-14T06:44:24.337Z"
      },
      {
        "duration": -259,
        "start_time": "2021-06-14T06:44:24.340Z"
      },
      {
        "duration": -261,
        "start_time": "2021-06-14T06:44:24.343Z"
      },
      {
        "duration": -263,
        "start_time": "2021-06-14T06:44:24.346Z"
      },
      {
        "duration": -276,
        "start_time": "2021-06-14T06:44:24.361Z"
      },
      {
        "duration": -279,
        "start_time": "2021-06-14T06:44:24.365Z"
      },
      {
        "duration": -281,
        "start_time": "2021-06-14T06:44:24.368Z"
      },
      {
        "duration": -283,
        "start_time": "2021-06-14T06:44:24.371Z"
      },
      {
        "duration": -285,
        "start_time": "2021-06-14T06:44:24.374Z"
      },
      {
        "duration": -286,
        "start_time": "2021-06-14T06:44:24.377Z"
      },
      {
        "duration": -311,
        "start_time": "2021-06-14T06:44:24.403Z"
      },
      {
        "duration": -369,
        "start_time": "2021-06-14T06:44:24.462Z"
      },
      {
        "duration": -371,
        "start_time": "2021-06-14T06:44:24.466Z"
      },
      {
        "duration": -394,
        "start_time": "2021-06-14T06:44:24.490Z"
      },
      {
        "duration": -396,
        "start_time": "2021-06-14T06:44:24.493Z"
      },
      {
        "duration": -397,
        "start_time": "2021-06-14T06:44:24.496Z"
      },
      {
        "duration": -350,
        "start_time": "2021-06-14T06:44:24.511Z"
      },
      {
        "duration": -353,
        "start_time": "2021-06-14T06:44:24.515Z"
      },
      {
        "duration": -354,
        "start_time": "2021-06-14T06:44:24.518Z"
      },
      {
        "duration": -356,
        "start_time": "2021-06-14T06:44:24.521Z"
      },
      {
        "duration": -357,
        "start_time": "2021-06-14T06:44:24.524Z"
      },
      {
        "duration": -379,
        "start_time": "2021-06-14T06:44:24.547Z"
      },
      {
        "duration": -381,
        "start_time": "2021-06-14T06:44:24.550Z"
      },
      {
        "duration": -389,
        "start_time": "2021-06-14T06:44:24.559Z"
      },
      {
        "duration": -393,
        "start_time": "2021-06-14T06:44:24.565Z"
      },
      {
        "duration": -396,
        "start_time": "2021-06-14T06:44:24.569Z"
      },
      {
        "duration": 351,
        "start_time": "2021-06-14T06:44:34.415Z"
      },
      {
        "duration": 8,
        "start_time": "2021-06-14T06:53:20.978Z"
      },
      {
        "duration": 1454,
        "start_time": "2021-06-14T06:53:28.186Z"
      },
      {
        "duration": 53,
        "start_time": "2021-06-14T06:53:29.643Z"
      },
      {
        "duration": 34,
        "start_time": "2021-06-14T06:53:29.700Z"
      },
      {
        "duration": 38,
        "start_time": "2021-06-14T06:53:29.737Z"
      },
      {
        "duration": 15,
        "start_time": "2021-06-14T06:53:29.778Z"
      },
      {
        "duration": 23,
        "start_time": "2021-06-14T06:53:29.796Z"
      },
      {
        "duration": 8,
        "start_time": "2021-06-14T06:53:29.821Z"
      },
      {
        "duration": 48,
        "start_time": "2021-06-14T06:53:29.833Z"
      },
      {
        "duration": 9,
        "start_time": "2021-06-14T06:53:29.885Z"
      },
      {
        "duration": 6,
        "start_time": "2021-06-14T06:53:29.897Z"
      },
      {
        "duration": 11,
        "start_time": "2021-06-14T06:53:29.905Z"
      },
      {
        "duration": 53,
        "start_time": "2021-06-14T06:53:29.919Z"
      },
      {
        "duration": 13,
        "start_time": "2021-06-14T06:53:29.976Z"
      },
      {
        "duration": 42,
        "start_time": "2021-06-14T06:53:29.992Z"
      },
      {
        "duration": 31,
        "start_time": "2021-06-14T06:53:30.037Z"
      },
      {
        "duration": 29,
        "start_time": "2021-06-14T06:53:30.071Z"
      },
      {
        "duration": 30,
        "start_time": "2021-06-14T06:53:30.102Z"
      },
      {
        "duration": 62,
        "start_time": "2021-06-14T06:53:30.134Z"
      },
      {
        "duration": 12,
        "start_time": "2021-06-14T06:53:30.199Z"
      },
      {
        "duration": 19,
        "start_time": "2021-06-14T06:53:30.213Z"
      },
      {
        "duration": 8,
        "start_time": "2021-06-14T06:53:30.235Z"
      },
      {
        "duration": 41,
        "start_time": "2021-06-14T06:53:30.246Z"
      },
      {
        "duration": 431,
        "start_time": "2021-06-14T06:53:30.293Z"
      },
      {
        "duration": 450,
        "start_time": "2021-06-14T06:53:30.728Z"
      },
      {
        "duration": 430,
        "start_time": "2021-06-14T06:53:31.181Z"
      },
      {
        "duration": 428,
        "start_time": "2021-06-14T06:53:31.614Z"
      },
      {
        "duration": 427,
        "start_time": "2021-06-14T06:53:32.045Z"
      },
      {
        "duration": 418,
        "start_time": "2021-06-14T06:53:32.477Z"
      },
      {
        "duration": 2394,
        "start_time": "2021-06-14T06:53:32.898Z"
      },
      {
        "duration": 8,
        "start_time": "2021-06-14T06:53:35.295Z"
      },
      {
        "duration": 75,
        "start_time": "2021-06-14T06:53:35.306Z"
      },
      {
        "duration": 8,
        "start_time": "2021-06-14T06:53:35.383Z"
      },
      {
        "duration": 451,
        "start_time": "2021-06-14T06:53:35.394Z"
      },
      {
        "duration": 35,
        "start_time": "2021-06-14T06:53:35.847Z"
      },
      {
        "duration": 388,
        "start_time": "2021-06-14T06:53:35.885Z"
      },
      {
        "duration": 406,
        "start_time": "2021-06-14T06:53:36.276Z"
      },
      {
        "duration": 6,
        "start_time": "2021-06-14T06:53:36.685Z"
      },
      {
        "duration": 14,
        "start_time": "2021-06-14T06:53:36.693Z"
      },
      {
        "duration": 481,
        "start_time": "2021-06-14T06:53:36.709Z"
      },
      {
        "duration": 424,
        "start_time": "2021-06-14T06:53:37.193Z"
      },
      {
        "duration": 6,
        "start_time": "2021-06-14T06:53:37.619Z"
      },
      {
        "duration": 7,
        "start_time": "2021-06-14T06:53:37.627Z"
      },
      {
        "duration": 445,
        "start_time": "2021-06-14T06:53:37.636Z"
      },
      {
        "duration": 411,
        "start_time": "2021-06-14T06:53:38.084Z"
      },
      {
        "duration": 6,
        "start_time": "2021-06-14T06:53:38.497Z"
      },
      {
        "duration": 12,
        "start_time": "2021-06-14T06:53:38.505Z"
      },
      {
        "duration": 447,
        "start_time": "2021-06-14T06:53:38.519Z"
      },
      {
        "duration": 448,
        "start_time": "2021-06-14T06:53:38.969Z"
      },
      {
        "duration": 7,
        "start_time": "2021-06-14T06:53:39.420Z"
      },
      {
        "duration": 31,
        "start_time": "2021-06-14T06:53:39.430Z"
      },
      {
        "duration": 31,
        "start_time": "2021-06-14T06:53:39.464Z"
      },
      {
        "duration": 405,
        "start_time": "2021-06-14T06:53:39.498Z"
      },
      {
        "duration": 20,
        "start_time": "2021-06-14T06:53:39.905Z"
      },
      {
        "duration": 48,
        "start_time": "2021-06-14T06:53:39.928Z"
      },
      {
        "duration": 379,
        "start_time": "2021-06-14T06:53:39.979Z"
      },
      {
        "duration": 31,
        "start_time": "2021-06-14T06:53:40.363Z"
      },
      {
        "duration": 622,
        "start_time": "2021-06-14T06:53:40.397Z"
      },
      {
        "duration": 45,
        "start_time": "2021-06-14T06:53:41.023Z"
      },
      {
        "duration": 415,
        "start_time": "2021-06-14T06:53:41.071Z"
      },
      {
        "duration": 29,
        "start_time": "2021-06-14T06:53:41.490Z"
      },
      {
        "duration": 543,
        "start_time": "2021-06-14T06:53:41.522Z"
      },
      {
        "duration": 29,
        "start_time": "2021-06-14T06:53:42.069Z"
      },
      {
        "duration": 568,
        "start_time": "2021-06-14T06:53:42.101Z"
      },
      {
        "duration": 20,
        "start_time": "2021-06-14T06:53:42.672Z"
      },
      {
        "duration": 294,
        "start_time": "2021-06-14T06:53:42.695Z"
      },
      {
        "duration": 23,
        "start_time": "2021-06-14T06:53:42.991Z"
      },
      {
        "duration": 585,
        "start_time": "2021-06-14T06:53:43.017Z"
      },
      {
        "duration": 21,
        "start_time": "2021-06-14T06:53:43.610Z"
      },
      {
        "duration": 400,
        "start_time": "2021-06-14T06:53:43.634Z"
      },
      {
        "duration": 32,
        "start_time": "2021-06-14T06:53:44.037Z"
      },
      {
        "duration": 301,
        "start_time": "2021-06-14T06:53:44.071Z"
      },
      {
        "duration": 17,
        "start_time": "2021-06-14T06:53:44.376Z"
      },
      {
        "duration": 8,
        "start_time": "2021-06-14T06:53:44.396Z"
      },
      {
        "duration": 8,
        "start_time": "2021-06-14T06:53:44.407Z"
      },
      {
        "duration": 49,
        "start_time": "2021-06-14T06:53:44.419Z"
      },
      {
        "duration": 25,
        "start_time": "2021-06-14T06:53:44.470Z"
      },
      {
        "duration": 13,
        "start_time": "2021-06-14T06:53:44.497Z"
      },
      {
        "duration": 6,
        "start_time": "2021-06-14T06:53:44.512Z"
      },
      {
        "duration": 7,
        "start_time": "2021-06-14T06:53:44.561Z"
      },
      {
        "duration": 16,
        "start_time": "2021-06-14T06:53:44.570Z"
      },
      {
        "duration": 38,
        "start_time": "2021-06-14T06:53:44.589Z"
      },
      {
        "duration": 10,
        "start_time": "2021-06-14T07:10:50.210Z"
      },
      {
        "duration": 1564,
        "start_time": "2021-06-14T07:10:59.126Z"
      },
      {
        "duration": 50,
        "start_time": "2021-06-14T07:11:00.694Z"
      },
      {
        "duration": 47,
        "start_time": "2021-06-14T07:11:00.748Z"
      },
      {
        "duration": 5,
        "start_time": "2021-06-14T07:11:00.799Z"
      },
      {
        "duration": 32,
        "start_time": "2021-06-14T07:11:00.808Z"
      },
      {
        "duration": 27,
        "start_time": "2021-06-14T07:11:00.862Z"
      },
      {
        "duration": 16,
        "start_time": "2021-06-14T07:11:00.892Z"
      },
      {
        "duration": 16,
        "start_time": "2021-06-14T07:11:00.913Z"
      },
      {
        "duration": 38,
        "start_time": "2021-06-14T07:11:00.933Z"
      },
      {
        "duration": 13,
        "start_time": "2021-06-14T07:11:00.974Z"
      },
      {
        "duration": 25,
        "start_time": "2021-06-14T07:11:00.990Z"
      },
      {
        "duration": 15,
        "start_time": "2021-06-14T07:11:01.018Z"
      },
      {
        "duration": 28,
        "start_time": "2021-06-14T07:11:01.036Z"
      },
      {
        "duration": 41,
        "start_time": "2021-06-14T07:11:01.067Z"
      },
      {
        "duration": 11,
        "start_time": "2021-06-14T07:11:01.111Z"
      },
      {
        "duration": 41,
        "start_time": "2021-06-14T07:11:01.124Z"
      },
      {
        "duration": 14,
        "start_time": "2021-06-14T07:11:01.168Z"
      },
      {
        "duration": 24,
        "start_time": "2021-06-14T07:11:01.185Z"
      },
      {
        "duration": 16,
        "start_time": "2021-06-14T07:11:01.211Z"
      },
      {
        "duration": 32,
        "start_time": "2021-06-14T07:11:01.230Z"
      },
      {
        "duration": 10,
        "start_time": "2021-06-14T07:11:01.264Z"
      },
      {
        "duration": 29,
        "start_time": "2021-06-14T07:11:01.277Z"
      },
      {
        "duration": 418,
        "start_time": "2021-06-14T07:11:01.313Z"
      },
      {
        "duration": 415,
        "start_time": "2021-06-14T07:11:01.735Z"
      },
      {
        "duration": 496,
        "start_time": "2021-06-14T07:11:02.153Z"
      },
      {
        "duration": 403,
        "start_time": "2021-06-14T07:11:02.652Z"
      },
      {
        "duration": 378,
        "start_time": "2021-06-14T07:11:03.061Z"
      },
      {
        "duration": 379,
        "start_time": "2021-06-14T07:11:03.441Z"
      },
      {
        "duration": 2103,
        "start_time": "2021-06-14T07:11:03.822Z"
      },
      {
        "duration": 36,
        "start_time": "2021-06-14T07:11:05.927Z"
      },
      {
        "duration": 28,
        "start_time": "2021-06-14T07:11:05.966Z"
      },
      {
        "duration": 7,
        "start_time": "2021-06-14T07:11:05.997Z"
      },
      {
        "duration": 449,
        "start_time": "2021-06-14T07:11:06.007Z"
      },
      {
        "duration": 15,
        "start_time": "2021-06-14T07:11:06.459Z"
      },
      {
        "duration": 388,
        "start_time": "2021-06-14T07:11:06.476Z"
      },
      {
        "duration": 410,
        "start_time": "2021-06-14T07:11:06.866Z"
      },
      {
        "duration": 6,
        "start_time": "2021-06-14T07:11:07.278Z"
      },
      {
        "duration": 10,
        "start_time": "2021-06-14T07:11:07.286Z"
      },
      {
        "duration": 470,
        "start_time": "2021-06-14T07:11:07.299Z"
      },
      {
        "duration": 560,
        "start_time": "2021-06-14T07:11:07.772Z"
      },
      {
        "duration": 6,
        "start_time": "2021-06-14T07:11:08.335Z"
      },
      {
        "duration": 27,
        "start_time": "2021-06-14T07:11:08.343Z"
      },
      {
        "duration": 430,
        "start_time": "2021-06-14T07:11:08.373Z"
      },
      {
        "duration": 430,
        "start_time": "2021-06-14T07:11:08.806Z"
      },
      {
        "duration": 8,
        "start_time": "2021-06-14T07:11:09.238Z"
      },
      {
        "duration": 8,
        "start_time": "2021-06-14T07:11:09.263Z"
      },
      {
        "duration": 445,
        "start_time": "2021-06-14T07:11:09.274Z"
      },
      {
        "duration": 471,
        "start_time": "2021-06-14T07:11:09.722Z"
      },
      {
        "duration": 7,
        "start_time": "2021-06-14T07:11:10.195Z"
      },
      {
        "duration": 11,
        "start_time": "2021-06-14T07:11:10.204Z"
      },
      {
        "duration": 54,
        "start_time": "2021-06-14T07:11:10.217Z"
      },
      {
        "duration": 391,
        "start_time": "2021-06-14T07:11:10.274Z"
      },
      {
        "duration": 21,
        "start_time": "2021-06-14T07:11:10.667Z"
      },
      {
        "duration": 20,
        "start_time": "2021-06-14T07:11:10.690Z"
      },
      {
        "duration": 366,
        "start_time": "2021-06-14T07:11:10.713Z"
      },
      {
        "duration": 21,
        "start_time": "2021-06-14T07:11:11.082Z"
      },
      {
        "duration": 510,
        "start_time": "2021-06-14T07:11:11.106Z"
      },
      {
        "duration": 21,
        "start_time": "2021-06-14T07:11:11.619Z"
      },
      {
        "duration": 285,
        "start_time": "2021-06-14T07:11:11.662Z"
      },
      {
        "duration": 31,
        "start_time": "2021-06-14T07:11:11.949Z"
      },
      {
        "duration": 346,
        "start_time": "2021-06-14T07:11:11.983Z"
      },
      {
        "duration": 35,
        "start_time": "2021-06-14T07:11:12.332Z"
      },
      {
        "duration": 389,
        "start_time": "2021-06-14T07:11:12.369Z"
      },
      {
        "duration": 20,
        "start_time": "2021-06-14T07:11:12.762Z"
      },
      {
        "duration": 276,
        "start_time": "2021-06-14T07:11:12.785Z"
      },
      {
        "duration": 25,
        "start_time": "2021-06-14T07:11:13.064Z"
      },
      {
        "duration": 490,
        "start_time": "2021-06-14T07:11:13.092Z"
      },
      {
        "duration": 20,
        "start_time": "2021-06-14T07:11:13.589Z"
      },
      {
        "duration": 385,
        "start_time": "2021-06-14T07:11:13.612Z"
      },
      {
        "duration": 21,
        "start_time": "2021-06-14T07:11:13.999Z"
      },
      {
        "duration": 293,
        "start_time": "2021-06-14T07:11:14.022Z"
      },
      {
        "duration": 12,
        "start_time": "2021-06-14T07:11:14.317Z"
      },
      {
        "duration": 8,
        "start_time": "2021-06-14T07:11:14.331Z"
      },
      {
        "duration": 8,
        "start_time": "2021-06-14T07:11:14.362Z"
      },
      {
        "duration": 10,
        "start_time": "2021-06-14T07:11:14.373Z"
      },
      {
        "duration": 23,
        "start_time": "2021-06-14T07:11:14.385Z"
      },
      {
        "duration": 57,
        "start_time": "2021-06-14T07:11:14.410Z"
      },
      {
        "duration": 4,
        "start_time": "2021-06-14T07:11:14.470Z"
      },
      {
        "duration": 7,
        "start_time": "2021-06-14T07:11:14.476Z"
      },
      {
        "duration": 8,
        "start_time": "2021-06-14T07:11:14.486Z"
      },
      {
        "duration": 69,
        "start_time": "2021-06-14T07:11:14.496Z"
      },
      {
        "duration": 8,
        "start_time": "2021-06-14T07:15:04.148Z"
      },
      {
        "duration": 1642,
        "start_time": "2021-06-14T07:16:28.049Z"
      },
      {
        "duration": 51,
        "start_time": "2021-06-14T07:16:29.694Z"
      },
      {
        "duration": 33,
        "start_time": "2021-06-14T07:16:29.747Z"
      },
      {
        "duration": 4,
        "start_time": "2021-06-14T07:16:29.782Z"
      },
      {
        "duration": 17,
        "start_time": "2021-06-14T07:16:29.788Z"
      },
      {
        "duration": 26,
        "start_time": "2021-06-14T07:16:29.807Z"
      },
      {
        "duration": 7,
        "start_time": "2021-06-14T07:16:29.835Z"
      },
      {
        "duration": 15,
        "start_time": "2021-06-14T07:16:29.846Z"
      },
      {
        "duration": 8,
        "start_time": "2021-06-14T07:16:29.865Z"
      },
      {
        "duration": 5,
        "start_time": "2021-06-14T07:16:29.876Z"
      },
      {
        "duration": 12,
        "start_time": "2021-06-14T07:16:29.884Z"
      },
      {
        "duration": 9,
        "start_time": "2021-06-14T07:16:29.899Z"
      },
      {
        "duration": 16,
        "start_time": "2021-06-14T07:16:29.910Z"
      },
      {
        "duration": 47,
        "start_time": "2021-06-14T07:16:29.928Z"
      },
      {
        "duration": 14,
        "start_time": "2021-06-14T07:16:29.977Z"
      },
      {
        "duration": 26,
        "start_time": "2021-06-14T07:16:29.994Z"
      },
      {
        "duration": 27,
        "start_time": "2021-06-14T07:16:30.023Z"
      },
      {
        "duration": 27,
        "start_time": "2021-06-14T07:16:30.052Z"
      },
      {
        "duration": 12,
        "start_time": "2021-06-14T07:16:30.082Z"
      },
      {
        "duration": 22,
        "start_time": "2021-06-14T07:16:30.097Z"
      },
      {
        "duration": 34,
        "start_time": "2021-06-14T07:16:30.121Z"
      },
      {
        "duration": 43,
        "start_time": "2021-06-14T07:16:30.158Z"
      },
      {
        "duration": 460,
        "start_time": "2021-06-14T07:16:30.207Z"
      },
      {
        "duration": 593,
        "start_time": "2021-06-14T07:16:30.673Z"
      },
      {
        "duration": 506,
        "start_time": "2021-06-14T07:16:31.269Z"
      },
      {
        "duration": 695,
        "start_time": "2021-06-14T07:16:31.778Z"
      },
      {
        "duration": 413,
        "start_time": "2021-06-14T07:16:32.475Z"
      },
      {
        "duration": 396,
        "start_time": "2021-06-14T07:16:32.891Z"
      },
      {
        "duration": 2191,
        "start_time": "2021-06-14T07:16:33.289Z"
      },
      {
        "duration": 7,
        "start_time": "2021-06-14T07:16:35.483Z"
      },
      {
        "duration": 74,
        "start_time": "2021-06-14T07:16:35.492Z"
      },
      {
        "duration": 8,
        "start_time": "2021-06-14T07:16:35.568Z"
      },
      {
        "duration": 426,
        "start_time": "2021-06-14T07:16:35.579Z"
      },
      {
        "duration": 15,
        "start_time": "2021-06-14T07:16:36.008Z"
      },
      {
        "duration": 426,
        "start_time": "2021-06-14T07:16:36.025Z"
      },
      {
        "duration": 418,
        "start_time": "2021-06-14T07:16:36.454Z"
      },
      {
        "duration": 6,
        "start_time": "2021-06-14T07:16:36.874Z"
      },
      {
        "duration": 18,
        "start_time": "2021-06-14T07:16:36.892Z"
      },
      {
        "duration": 548,
        "start_time": "2021-06-14T07:16:36.912Z"
      },
      {
        "duration": -2038,
        "start_time": "2021-06-14T07:16:39.501Z"
      },
      {
        "duration": -2042,
        "start_time": "2021-06-14T07:16:39.507Z"
      },
      {
        "duration": -2047,
        "start_time": "2021-06-14T07:16:39.513Z"
      },
      {
        "duration": -2103,
        "start_time": "2021-06-14T07:16:39.571Z"
      },
      {
        "duration": -2110,
        "start_time": "2021-06-14T07:16:39.580Z"
      },
      {
        "duration": -2115,
        "start_time": "2021-06-14T07:16:39.586Z"
      },
      {
        "duration": -2120,
        "start_time": "2021-06-14T07:16:39.592Z"
      },
      {
        "duration": -2125,
        "start_time": "2021-06-14T07:16:39.599Z"
      },
      {
        "duration": -2132,
        "start_time": "2021-06-14T07:16:39.607Z"
      },
      {
        "duration": -2135,
        "start_time": "2021-06-14T07:16:39.612Z"
      },
      {
        "duration": -2140,
        "start_time": "2021-06-14T07:16:39.618Z"
      },
      {
        "duration": -2143,
        "start_time": "2021-06-14T07:16:39.623Z"
      },
      {
        "duration": -2147,
        "start_time": "2021-06-14T07:16:39.628Z"
      },
      {
        "duration": -2151,
        "start_time": "2021-06-14T07:16:39.633Z"
      },
      {
        "duration": -2154,
        "start_time": "2021-06-14T07:16:39.638Z"
      },
      {
        "duration": -2158,
        "start_time": "2021-06-14T07:16:39.643Z"
      },
      {
        "duration": -2162,
        "start_time": "2021-06-14T07:16:39.649Z"
      },
      {
        "duration": -2165,
        "start_time": "2021-06-14T07:16:39.653Z"
      },
      {
        "duration": -2169,
        "start_time": "2021-06-14T07:16:39.659Z"
      },
      {
        "duration": -2173,
        "start_time": "2021-06-14T07:16:39.664Z"
      },
      {
        "duration": -2188,
        "start_time": "2021-06-14T07:16:39.680Z"
      },
      {
        "duration": -2193,
        "start_time": "2021-06-14T07:16:39.686Z"
      },
      {
        "duration": -2196,
        "start_time": "2021-06-14T07:16:39.691Z"
      },
      {
        "duration": -2201,
        "start_time": "2021-06-14T07:16:39.697Z"
      },
      {
        "duration": -2207,
        "start_time": "2021-06-14T07:16:39.704Z"
      },
      {
        "duration": -2210,
        "start_time": "2021-06-14T07:16:39.709Z"
      },
      {
        "duration": -2214,
        "start_time": "2021-06-14T07:16:39.714Z"
      },
      {
        "duration": -2219,
        "start_time": "2021-06-14T07:16:39.720Z"
      },
      {
        "duration": -2224,
        "start_time": "2021-06-14T07:16:39.726Z"
      },
      {
        "duration": -2226,
        "start_time": "2021-06-14T07:16:39.730Z"
      },
      {
        "duration": -2175,
        "start_time": "2021-06-14T07:16:39.737Z"
      },
      {
        "duration": -2179,
        "start_time": "2021-06-14T07:16:39.742Z"
      },
      {
        "duration": -2183,
        "start_time": "2021-06-14T07:16:39.748Z"
      },
      {
        "duration": -2186,
        "start_time": "2021-06-14T07:16:39.752Z"
      },
      {
        "duration": -2190,
        "start_time": "2021-06-14T07:16:39.758Z"
      },
      {
        "duration": -2193,
        "start_time": "2021-06-14T07:16:39.763Z"
      },
      {
        "duration": -2197,
        "start_time": "2021-06-14T07:16:39.768Z"
      },
      {
        "duration": -2200,
        "start_time": "2021-06-14T07:16:39.773Z"
      },
      {
        "duration": -2215,
        "start_time": "2021-06-14T07:16:39.789Z"
      },
      {
        "duration": -2219,
        "start_time": "2021-06-14T07:16:39.795Z"
      },
      {
        "duration": -2224,
        "start_time": "2021-06-14T07:16:39.802Z"
      },
      {
        "duration": -2227,
        "start_time": "2021-06-14T07:16:39.807Z"
      },
      {
        "duration": 326,
        "start_time": "2021-06-14T07:21:14.832Z"
      },
      {
        "duration": 314,
        "start_time": "2021-06-14T07:21:22.019Z"
      },
      {
        "duration": 345,
        "start_time": "2021-06-14T07:21:26.698Z"
      },
      {
        "duration": 321,
        "start_time": "2021-06-14T07:21:36.734Z"
      },
      {
        "duration": 15,
        "start_time": "2021-06-14T07:22:29.615Z"
      },
      {
        "duration": 450,
        "start_time": "2021-06-14T07:22:51.831Z"
      },
      {
        "duration": 440,
        "start_time": "2021-06-14T07:23:07.141Z"
      },
      {
        "duration": 7,
        "start_time": "2021-06-14T07:23:25.552Z"
      },
      {
        "duration": 7,
        "start_time": "2021-06-14T07:23:27.224Z"
      },
      {
        "duration": 430,
        "start_time": "2021-06-14T07:24:19.463Z"
      },
      {
        "duration": 448,
        "start_time": "2021-06-14T07:24:31.627Z"
      },
      {
        "duration": 7,
        "start_time": "2021-06-14T07:26:01.636Z"
      },
      {
        "duration": 7,
        "start_time": "2021-06-14T07:26:08.360Z"
      },
      {
        "duration": 457,
        "start_time": "2021-06-14T07:26:27.228Z"
      },
      {
        "duration": 6,
        "start_time": "2021-06-14T07:26:56.919Z"
      },
      {
        "duration": 7,
        "start_time": "2021-06-14T07:26:58.602Z"
      },
      {
        "duration": 484,
        "start_time": "2021-06-14T07:27:12.532Z"
      },
      {
        "duration": 362,
        "start_time": "2021-06-14T07:28:40.191Z"
      },
      {
        "duration": 394,
        "start_time": "2021-06-14T07:28:43.604Z"
      },
      {
        "duration": 6,
        "start_time": "2021-06-14T07:28:46.261Z"
      },
      {
        "duration": 7,
        "start_time": "2021-06-14T07:28:49.929Z"
      },
      {
        "duration": 1569,
        "start_time": "2021-06-14T13:13:36.506Z"
      },
      {
        "duration": 47,
        "start_time": "2021-06-14T13:13:38.078Z"
      },
      {
        "duration": 34,
        "start_time": "2021-06-14T13:13:38.128Z"
      },
      {
        "duration": 3,
        "start_time": "2021-06-14T13:13:38.165Z"
      },
      {
        "duration": 41,
        "start_time": "2021-06-14T13:13:38.170Z"
      },
      {
        "duration": 22,
        "start_time": "2021-06-14T13:13:38.214Z"
      },
      {
        "duration": 21,
        "start_time": "2021-06-14T13:13:38.238Z"
      },
      {
        "duration": 20,
        "start_time": "2021-06-14T13:13:38.263Z"
      },
      {
        "duration": 30,
        "start_time": "2021-06-14T13:13:38.285Z"
      },
      {
        "duration": 29,
        "start_time": "2021-06-14T13:13:38.317Z"
      },
      {
        "duration": 20,
        "start_time": "2021-06-14T13:13:38.348Z"
      },
      {
        "duration": 16,
        "start_time": "2021-06-14T13:13:38.370Z"
      },
      {
        "duration": 14,
        "start_time": "2021-06-14T13:13:38.388Z"
      },
      {
        "duration": 41,
        "start_time": "2021-06-14T13:13:38.404Z"
      },
      {
        "duration": 11,
        "start_time": "2021-06-14T13:13:38.448Z"
      },
      {
        "duration": 22,
        "start_time": "2021-06-14T13:13:38.461Z"
      },
      {
        "duration": 24,
        "start_time": "2021-06-14T13:13:38.485Z"
      },
      {
        "duration": 17,
        "start_time": "2021-06-14T13:13:38.511Z"
      },
      {
        "duration": 10,
        "start_time": "2021-06-14T13:13:38.531Z"
      },
      {
        "duration": 20,
        "start_time": "2021-06-14T13:13:38.544Z"
      },
      {
        "duration": 12,
        "start_time": "2021-06-14T13:13:38.567Z"
      },
      {
        "duration": 42,
        "start_time": "2021-06-14T13:13:38.582Z"
      },
      {
        "duration": 413,
        "start_time": "2021-06-14T13:13:38.631Z"
      },
      {
        "duration": 433,
        "start_time": "2021-06-14T13:13:39.048Z"
      },
      {
        "duration": 416,
        "start_time": "2021-06-14T13:13:39.483Z"
      },
      {
        "duration": 418,
        "start_time": "2021-06-14T13:13:39.909Z"
      },
      {
        "duration": 404,
        "start_time": "2021-06-14T13:13:40.329Z"
      },
      {
        "duration": 398,
        "start_time": "2021-06-14T13:13:40.736Z"
      },
      {
        "duration": 2154,
        "start_time": "2021-06-14T13:13:41.137Z"
      },
      {
        "duration": 17,
        "start_time": "2021-06-14T13:13:43.293Z"
      },
      {
        "duration": 26,
        "start_time": "2021-06-14T13:13:43.312Z"
      },
      {
        "duration": 22,
        "start_time": "2021-06-14T13:13:43.340Z"
      },
      {
        "duration": 431,
        "start_time": "2021-06-14T13:13:43.410Z"
      },
      {
        "duration": 16,
        "start_time": "2021-06-14T13:13:43.844Z"
      },
      {
        "duration": 474,
        "start_time": "2021-06-14T13:13:43.862Z"
      },
      {
        "duration": 420,
        "start_time": "2021-06-14T13:13:44.338Z"
      },
      {
        "duration": 6,
        "start_time": "2021-06-14T13:13:44.761Z"
      },
      {
        "duration": 25,
        "start_time": "2021-06-14T13:13:44.770Z"
      },
      {
        "duration": 419,
        "start_time": "2021-06-14T13:13:44.797Z"
      },
      {
        "duration": 427,
        "start_time": "2021-06-14T13:13:45.219Z"
      },
      {
        "duration": 7,
        "start_time": "2021-06-14T13:13:45.648Z"
      },
      {
        "duration": 12,
        "start_time": "2021-06-14T13:13:45.657Z"
      },
      {
        "duration": 453,
        "start_time": "2021-06-14T13:13:45.671Z"
      },
      {
        "duration": 523,
        "start_time": "2021-06-14T13:13:46.127Z"
      },
      {
        "duration": 6,
        "start_time": "2021-06-14T13:13:46.652Z"
      },
      {
        "duration": 19,
        "start_time": "2021-06-14T13:13:46.660Z"
      },
      {
        "duration": 431,
        "start_time": "2021-06-14T13:13:46.682Z"
      },
      {
        "duration": 424,
        "start_time": "2021-06-14T13:13:47.115Z"
      },
      {
        "duration": 7,
        "start_time": "2021-06-14T13:13:47.541Z"
      },
      {
        "duration": 35,
        "start_time": "2021-06-14T13:13:47.550Z"
      },
      {
        "duration": 36,
        "start_time": "2021-06-14T13:13:47.588Z"
      },
      {
        "duration": 375,
        "start_time": "2021-06-14T13:13:47.626Z"
      },
      {
        "duration": 22,
        "start_time": "2021-06-14T13:13:48.004Z"
      },
      {
        "duration": 19,
        "start_time": "2021-06-14T13:13:48.028Z"
      },
      {
        "duration": 352,
        "start_time": "2021-06-14T13:13:48.049Z"
      },
      {
        "duration": 21,
        "start_time": "2021-06-14T13:13:48.408Z"
      },
      {
        "duration": 390,
        "start_time": "2021-06-14T13:13:48.431Z"
      },
      {
        "duration": 19,
        "start_time": "2021-06-14T13:13:48.823Z"
      },
      {
        "duration": 287,
        "start_time": "2021-06-14T13:13:48.845Z"
      },
      {
        "duration": 20,
        "start_time": "2021-06-14T13:13:49.135Z"
      },
      {
        "duration": 367,
        "start_time": "2021-06-14T13:13:49.158Z"
      },
      {
        "duration": 22,
        "start_time": "2021-06-14T13:13:49.529Z"
      },
      {
        "duration": 395,
        "start_time": "2021-06-14T13:13:49.554Z"
      },
      {
        "duration": 19,
        "start_time": "2021-06-14T13:13:49.952Z"
      },
      {
        "duration": 277,
        "start_time": "2021-06-14T13:13:49.973Z"
      },
      {
        "duration": 24,
        "start_time": "2021-06-14T13:13:50.253Z"
      },
      {
        "duration": 511,
        "start_time": "2021-06-14T13:13:50.280Z"
      },
      {
        "duration": 23,
        "start_time": "2021-06-14T13:13:50.808Z"
      },
      {
        "duration": 378,
        "start_time": "2021-06-14T13:13:50.834Z"
      },
      {
        "duration": 20,
        "start_time": "2021-06-14T13:13:51.214Z"
      },
      {
        "duration": 298,
        "start_time": "2021-06-14T13:13:51.237Z"
      },
      {
        "duration": 13,
        "start_time": "2021-06-14T13:13:51.537Z"
      },
      {
        "duration": 11,
        "start_time": "2021-06-14T13:13:51.553Z"
      },
      {
        "duration": 13,
        "start_time": "2021-06-14T13:13:51.566Z"
      },
      {
        "duration": 28,
        "start_time": "2021-06-14T13:13:51.582Z"
      },
      {
        "duration": 32,
        "start_time": "2021-06-14T13:13:51.613Z"
      },
      {
        "duration": 12,
        "start_time": "2021-06-14T13:13:51.647Z"
      },
      {
        "duration": 20,
        "start_time": "2021-06-14T13:13:51.661Z"
      },
      {
        "duration": 16,
        "start_time": "2021-06-14T13:13:51.684Z"
      },
      {
        "duration": 20,
        "start_time": "2021-06-14T13:13:51.702Z"
      },
      {
        "duration": 27,
        "start_time": "2021-06-14T13:13:51.724Z"
      },
      {
        "duration": 317,
        "start_time": "2021-06-14T16:59:35.818Z"
      },
      {
        "duration": 1440,
        "start_time": "2021-06-14T16:59:44.697Z"
      },
      {
        "duration": 50,
        "start_time": "2021-06-14T16:59:46.140Z"
      },
      {
        "duration": 34,
        "start_time": "2021-06-14T16:59:46.194Z"
      },
      {
        "duration": 23,
        "start_time": "2021-06-14T16:59:46.231Z"
      },
      {
        "duration": 17,
        "start_time": "2021-06-14T16:59:46.257Z"
      },
      {
        "duration": 35,
        "start_time": "2021-06-14T16:59:46.277Z"
      },
      {
        "duration": 41,
        "start_time": "2021-06-14T16:59:46.315Z"
      },
      {
        "duration": 19,
        "start_time": "2021-06-14T16:59:46.362Z"
      },
      {
        "duration": 14,
        "start_time": "2021-06-14T16:59:46.385Z"
      },
      {
        "duration": 10,
        "start_time": "2021-06-14T16:59:46.402Z"
      },
      {
        "duration": 21,
        "start_time": "2021-06-14T16:59:46.414Z"
      },
      {
        "duration": 19,
        "start_time": "2021-06-14T16:59:46.438Z"
      },
      {
        "duration": 25,
        "start_time": "2021-06-14T16:59:46.459Z"
      },
      {
        "duration": 58,
        "start_time": "2021-06-14T16:59:46.487Z"
      },
      {
        "duration": 7,
        "start_time": "2021-06-14T16:59:46.547Z"
      },
      {
        "duration": 41,
        "start_time": "2021-06-14T16:59:46.556Z"
      },
      {
        "duration": 23,
        "start_time": "2021-06-14T16:59:46.600Z"
      },
      {
        "duration": 33,
        "start_time": "2021-06-14T16:59:46.626Z"
      },
      {
        "duration": 21,
        "start_time": "2021-06-14T16:59:46.661Z"
      },
      {
        "duration": 27,
        "start_time": "2021-06-14T16:59:46.685Z"
      },
      {
        "duration": 14,
        "start_time": "2021-06-14T16:59:46.715Z"
      },
      {
        "duration": 34,
        "start_time": "2021-06-14T16:59:46.731Z"
      },
      {
        "duration": 391,
        "start_time": "2021-06-14T16:59:46.771Z"
      },
      {
        "duration": 404,
        "start_time": "2021-06-14T16:59:47.167Z"
      },
      {
        "duration": 381,
        "start_time": "2021-06-14T16:59:47.573Z"
      },
      {
        "duration": 383,
        "start_time": "2021-06-14T16:59:47.956Z"
      },
      {
        "duration": 390,
        "start_time": "2021-06-14T16:59:48.343Z"
      },
      {
        "duration": 385,
        "start_time": "2021-06-14T16:59:48.736Z"
      },
      {
        "duration": 2081,
        "start_time": "2021-06-14T16:59:49.124Z"
      },
      {
        "duration": 8,
        "start_time": "2021-06-14T16:59:51.208Z"
      },
      {
        "duration": 55,
        "start_time": "2021-06-14T16:59:51.218Z"
      },
      {
        "duration": 14,
        "start_time": "2021-06-14T16:59:51.275Z"
      },
      {
        "duration": 429,
        "start_time": "2021-06-14T16:59:51.292Z"
      },
      {
        "duration": 16,
        "start_time": "2021-06-14T16:59:51.724Z"
      },
      {
        "duration": 415,
        "start_time": "2021-06-14T16:59:51.754Z"
      },
      {
        "duration": 418,
        "start_time": "2021-06-14T16:59:52.171Z"
      },
      {
        "duration": 6,
        "start_time": "2021-06-14T16:59:52.591Z"
      },
      {
        "duration": 11,
        "start_time": "2021-06-14T16:59:52.599Z"
      },
      {
        "duration": 449,
        "start_time": "2021-06-14T16:59:52.612Z"
      },
      {
        "duration": 432,
        "start_time": "2021-06-14T16:59:53.064Z"
      },
      {
        "duration": 7,
        "start_time": "2021-06-14T16:59:53.498Z"
      },
      {
        "duration": 17,
        "start_time": "2021-06-14T16:59:53.507Z"
      },
      {
        "duration": 440,
        "start_time": "2021-06-14T16:59:53.526Z"
      },
      {
        "duration": 418,
        "start_time": "2021-06-14T16:59:53.969Z"
      },
      {
        "duration": 7,
        "start_time": "2021-06-14T16:59:54.390Z"
      },
      {
        "duration": 24,
        "start_time": "2021-06-14T16:59:54.400Z"
      },
      {
        "duration": 418,
        "start_time": "2021-06-14T16:59:54.427Z"
      },
      {
        "duration": 410,
        "start_time": "2021-06-14T16:59:54.848Z"
      },
      {
        "duration": 7,
        "start_time": "2021-06-14T16:59:55.260Z"
      },
      {
        "duration": 24,
        "start_time": "2021-06-14T16:59:55.269Z"
      },
      {
        "duration": 44,
        "start_time": "2021-06-14T16:59:55.295Z"
      },
      {
        "duration": 353,
        "start_time": "2021-06-14T16:59:55.341Z"
      },
      {
        "duration": 20,
        "start_time": "2021-06-14T16:59:55.696Z"
      },
      {
        "duration": 40,
        "start_time": "2021-06-14T16:59:55.718Z"
      },
      {
        "duration": 413,
        "start_time": "2021-06-14T16:59:55.760Z"
      },
      {
        "duration": 19,
        "start_time": "2021-06-14T16:59:56.176Z"
      },
      {
        "duration": 364,
        "start_time": "2021-06-14T16:59:56.198Z"
      },
      {
        "duration": 21,
        "start_time": "2021-06-14T16:59:56.565Z"
      },
      {
        "duration": 272,
        "start_time": "2021-06-14T16:59:56.588Z"
      },
      {
        "duration": 21,
        "start_time": "2021-06-14T16:59:56.863Z"
      },
      {
        "duration": 332,
        "start_time": "2021-06-14T16:59:56.886Z"
      },
      {
        "duration": 21,
        "start_time": "2021-06-14T16:59:57.220Z"
      },
      {
        "duration": 371,
        "start_time": "2021-06-14T16:59:57.255Z"
      },
      {
        "duration": 29,
        "start_time": "2021-06-14T16:59:57.628Z"
      },
      {
        "duration": 253,
        "start_time": "2021-06-14T16:59:57.659Z"
      },
      {
        "duration": 21,
        "start_time": "2021-06-14T16:59:57.915Z"
      },
      {
        "duration": 497,
        "start_time": "2021-06-14T16:59:57.938Z"
      },
      {
        "duration": 31,
        "start_time": "2021-06-14T16:59:58.442Z"
      },
      {
        "duration": 358,
        "start_time": "2021-06-14T16:59:58.477Z"
      },
      {
        "duration": 28,
        "start_time": "2021-06-14T16:59:58.839Z"
      },
      {
        "duration": 264,
        "start_time": "2021-06-14T16:59:58.870Z"
      },
      {
        "duration": 20,
        "start_time": "2021-06-14T16:59:59.137Z"
      },
      {
        "duration": 14,
        "start_time": "2021-06-14T16:59:59.159Z"
      },
      {
        "duration": 9,
        "start_time": "2021-06-14T16:59:59.175Z"
      },
      {
        "duration": 15,
        "start_time": "2021-06-14T16:59:59.186Z"
      },
      {
        "duration": 30,
        "start_time": "2021-06-14T16:59:59.203Z"
      },
      {
        "duration": 27,
        "start_time": "2021-06-14T16:59:59.235Z"
      },
      {
        "duration": 4,
        "start_time": "2021-06-14T16:59:59.265Z"
      },
      {
        "duration": 14,
        "start_time": "2021-06-14T16:59:59.271Z"
      },
      {
        "duration": 32,
        "start_time": "2021-06-14T16:59:59.288Z"
      },
      {
        "duration": 32,
        "start_time": "2021-06-14T16:59:59.322Z"
      },
      {
        "duration": 584,
        "start_time": "2021-06-14T17:06:00.722Z"
      },
      {
        "duration": 526,
        "start_time": "2021-06-14T17:06:23.687Z"
      },
      {
        "duration": 540,
        "start_time": "2021-06-14T17:06:29.233Z"
      },
      {
        "duration": 550,
        "start_time": "2021-06-14T17:06:39.573Z"
      },
      {
        "duration": 537,
        "start_time": "2021-06-14T17:06:55.654Z"
      },
      {
        "duration": 1547,
        "start_time": "2021-06-14T17:10:05.214Z"
      },
      {
        "duration": 51,
        "start_time": "2021-06-14T17:10:06.765Z"
      },
      {
        "duration": 36,
        "start_time": "2021-06-14T17:10:06.819Z"
      },
      {
        "duration": 4,
        "start_time": "2021-06-14T17:10:06.859Z"
      },
      {
        "duration": 19,
        "start_time": "2021-06-14T17:10:06.865Z"
      },
      {
        "duration": 22,
        "start_time": "2021-06-14T17:10:06.886Z"
      },
      {
        "duration": 7,
        "start_time": "2021-06-14T17:10:06.910Z"
      },
      {
        "duration": 13,
        "start_time": "2021-06-14T17:10:06.955Z"
      },
      {
        "duration": 12,
        "start_time": "2021-06-14T17:10:06.971Z"
      },
      {
        "duration": 7,
        "start_time": "2021-06-14T17:10:06.986Z"
      },
      {
        "duration": 11,
        "start_time": "2021-06-14T17:10:06.996Z"
      },
      {
        "duration": 47,
        "start_time": "2021-06-14T17:10:07.009Z"
      },
      {
        "duration": 10,
        "start_time": "2021-06-14T17:10:07.059Z"
      },
      {
        "duration": 37,
        "start_time": "2021-06-14T17:10:07.071Z"
      },
      {
        "duration": 11,
        "start_time": "2021-06-14T17:10:07.111Z"
      },
      {
        "duration": 44,
        "start_time": "2021-06-14T17:10:07.125Z"
      },
      {
        "duration": 14,
        "start_time": "2021-06-14T17:10:07.171Z"
      },
      {
        "duration": 19,
        "start_time": "2021-06-14T17:10:07.187Z"
      },
      {
        "duration": 10,
        "start_time": "2021-06-14T17:10:07.209Z"
      },
      {
        "duration": 36,
        "start_time": "2021-06-14T17:10:07.222Z"
      },
      {
        "duration": 8,
        "start_time": "2021-06-14T17:10:07.261Z"
      },
      {
        "duration": 27,
        "start_time": "2021-06-14T17:10:07.271Z"
      },
      {
        "duration": 420,
        "start_time": "2021-06-14T17:10:07.304Z"
      },
      {
        "duration": 405,
        "start_time": "2021-06-14T17:10:07.728Z"
      },
      {
        "duration": 400,
        "start_time": "2021-06-14T17:10:08.136Z"
      },
      {
        "duration": 502,
        "start_time": "2021-06-14T17:10:08.538Z"
      },
      {
        "duration": 389,
        "start_time": "2021-06-14T17:10:09.043Z"
      },
      {
        "duration": 383,
        "start_time": "2021-06-14T17:10:09.434Z"
      },
      {
        "duration": 2334,
        "start_time": "2021-06-14T17:10:09.820Z"
      },
      {
        "duration": 8,
        "start_time": "2021-06-14T17:10:12.157Z"
      },
      {
        "duration": 25,
        "start_time": "2021-06-14T17:10:12.167Z"
      },
      {
        "duration": 61,
        "start_time": "2021-06-14T17:10:12.195Z"
      },
      {
        "duration": 479,
        "start_time": "2021-06-14T17:10:12.258Z"
      },
      {
        "duration": 19,
        "start_time": "2021-06-14T17:10:12.739Z"
      },
      {
        "duration": 429,
        "start_time": "2021-06-14T17:10:12.762Z"
      },
      {
        "duration": 434,
        "start_time": "2021-06-14T17:10:13.194Z"
      },
      {
        "duration": 7,
        "start_time": "2021-06-14T17:10:13.631Z"
      },
      {
        "duration": 19,
        "start_time": "2021-06-14T17:10:13.641Z"
      },
      {
        "duration": 441,
        "start_time": "2021-06-14T17:10:13.662Z"
      },
      {
        "duration": 460,
        "start_time": "2021-06-14T17:10:14.105Z"
      },
      {
        "duration": 8,
        "start_time": "2021-06-14T17:10:14.568Z"
      },
      {
        "duration": 17,
        "start_time": "2021-06-14T17:10:14.579Z"
      },
      {
        "duration": 487,
        "start_time": "2021-06-14T17:10:14.599Z"
      },
      {
        "duration": 402,
        "start_time": "2021-06-14T17:10:15.088Z"
      },
      {
        "duration": 7,
        "start_time": "2021-06-14T17:10:15.493Z"
      },
      {
        "duration": 7,
        "start_time": "2021-06-14T17:10:15.503Z"
      },
      {
        "duration": 423,
        "start_time": "2021-06-14T17:10:15.512Z"
      },
      {
        "duration": 418,
        "start_time": "2021-06-14T17:10:15.938Z"
      },
      {
        "duration": 7,
        "start_time": "2021-06-14T17:10:16.359Z"
      },
      {
        "duration": 8,
        "start_time": "2021-06-14T17:10:16.368Z"
      },
      {
        "duration": 20,
        "start_time": "2021-06-14T17:10:16.378Z"
      },
      {
        "duration": 398,
        "start_time": "2021-06-14T17:10:16.401Z"
      },
      {
        "duration": 670,
        "start_time": "2021-06-14T17:10:16.802Z"
      },
      {
        "duration": 19,
        "start_time": "2021-06-14T17:10:17.475Z"
      },
      {
        "duration": 29,
        "start_time": "2021-06-14T17:10:17.496Z"
      },
      {
        "duration": 334,
        "start_time": "2021-06-14T17:10:17.527Z"
      },
      {
        "duration": 22,
        "start_time": "2021-06-14T17:10:17.863Z"
      },
      {
        "duration": 380,
        "start_time": "2021-06-14T17:10:17.887Z"
      },
      {
        "duration": 21,
        "start_time": "2021-06-14T17:10:18.270Z"
      },
      {
        "duration": 285,
        "start_time": "2021-06-14T17:10:18.294Z"
      },
      {
        "duration": 21,
        "start_time": "2021-06-14T17:10:18.582Z"
      },
      {
        "duration": 343,
        "start_time": "2021-06-14T17:10:18.605Z"
      },
      {
        "duration": 21,
        "start_time": "2021-06-14T17:10:18.955Z"
      },
      {
        "duration": 547,
        "start_time": "2021-06-14T17:10:18.978Z"
      },
      {
        "duration": 34,
        "start_time": "2021-06-14T17:10:19.527Z"
      },
      {
        "duration": 261,
        "start_time": "2021-06-14T17:10:19.564Z"
      },
      {
        "duration": 29,
        "start_time": "2021-06-14T17:10:19.827Z"
      },
      {
        "duration": 317,
        "start_time": "2021-06-14T17:10:19.864Z"
      },
      {
        "duration": 22,
        "start_time": "2021-06-14T17:10:20.183Z"
      },
      {
        "duration": 363,
        "start_time": "2021-06-14T17:10:20.207Z"
      },
      {
        "duration": 20,
        "start_time": "2021-06-14T17:10:20.573Z"
      },
      {
        "duration": 288,
        "start_time": "2021-06-14T17:10:20.595Z"
      },
      {
        "duration": 12,
        "start_time": "2021-06-14T17:10:20.885Z"
      },
      {
        "duration": 8,
        "start_time": "2021-06-14T17:10:20.899Z"
      },
      {
        "duration": 10,
        "start_time": "2021-06-14T17:10:20.909Z"
      },
      {
        "duration": 35,
        "start_time": "2021-06-14T17:10:20.921Z"
      },
      {
        "duration": 32,
        "start_time": "2021-06-14T17:10:20.959Z"
      },
      {
        "duration": 12,
        "start_time": "2021-06-14T17:10:20.994Z"
      },
      {
        "duration": 13,
        "start_time": "2021-06-14T17:10:21.008Z"
      },
      {
        "duration": 10,
        "start_time": "2021-06-14T17:10:21.023Z"
      },
      {
        "duration": 8,
        "start_time": "2021-06-14T17:10:21.055Z"
      },
      {
        "duration": 40,
        "start_time": "2021-06-14T17:10:21.065Z"
      },
      {
        "duration": 10,
        "start_time": "2021-06-14T17:33:25.609Z"
      },
      {
        "duration": 6,
        "start_time": "2021-06-14T17:33:28.791Z"
      },
      {
        "duration": 6,
        "start_time": "2021-06-14T17:33:30.148Z"
      },
      {
        "duration": 8,
        "start_time": "2021-06-14T17:33:39.554Z"
      },
      {
        "duration": 34,
        "start_time": "2021-06-14T17:34:11.003Z"
      },
      {
        "duration": 10,
        "start_time": "2021-06-14T17:34:33.176Z"
      },
      {
        "duration": 6,
        "start_time": "2021-06-14T17:34:34.800Z"
      },
      {
        "duration": 8,
        "start_time": "2021-06-14T17:34:36.225Z"
      },
      {
        "duration": 10,
        "start_time": "2021-06-14T17:35:00.899Z"
      },
      {
        "duration": 21,
        "start_time": "2021-06-14T17:35:27.361Z"
      }
    ],
    "kernelspec": {
      "display_name": "Python 3",
      "language": "python",
      "name": "python3"
    },
    "language_info": {
      "codemirror_mode": {
        "name": "ipython",
        "version": 3
      },
      "file_extension": ".py",
      "mimetype": "text/x-python",
      "name": "python",
      "nbconvert_exporter": "python",
      "pygments_lexer": "ipython3",
      "version": "3.7.8"
    },
    "toc": {
      "base_numbering": 1,
      "nav_menu": {},
      "number_sections": true,
      "sideBar": true,
      "skip_h1_title": true,
      "title_cell": "Содержание",
      "title_sidebar": "Содержание",
      "toc_cell": true,
      "toc_position": {},
      "toc_section_display": true,
      "toc_window_display": false
    },
    "colab": {
      "name": "Определение успешности компьютерных игр.ipynb",
      "provenance": [],
      "collapsed_sections": []
    }
  },
  "cells": [
    {
      "cell_type": "markdown",
      "metadata": {
        "id": "Gm-0APWBxeiq"
      },
      "source": [
        "# Сборный проект. Определение параметров, определяющих успешность игры"
      ]
    },
    {
      "cell_type": "markdown",
      "metadata": {
        "id": "ZoosYTqzxeir"
      },
      "source": [
        "Вы работаете в интернет-магазине «Стримчик», который продаёт по всему миру компьютерные игры. Из открытых источников доступны исторические данные о продажах игр, оценки пользователей и экспертов, жанры и платформы (например, Xbox или PlayStation). Вам нужно выявить определяющие успешность игры закономерности. Это позволит сделать ставку на потенциально популярный продукт и спланировать рекламные кампании.\n",
        "\n",
        "Описание данных:\n",
        "- *Name* — название игры\n",
        "- *Platform* — платформа\n",
        "- *Year_of_Release* — год выпуска\n",
        "- *Genre* — жанр игры\n",
        "- *NA_sales* — продажи в Северной Америке (миллионы проданных копий)\n",
        "- *EU_sales* — продажи в Европе (миллионы проданных копий)\n",
        "- *JP_sales* — продажи в Японии (миллионы проданных копий)\n",
        "- *Other_sales* — продажи в других странах (миллионы проданных копий)\n",
        "- *Critic_Score* — оценка критиков (максимум 100)\n",
        "- *User_Score* — оценка пользователей (максимум 10)\n",
        "- *Rating* — рейтинг от организации ESRB (англ. Entertainment Software Rating Board). Эта ассоциация определяет рейтинг компьютерных игр и присваивает им подходящую возрастную категорию."
      ]
    },
    {
      "cell_type": "markdown",
      "metadata": {
        "id": "t38YYjzYxeir"
      },
      "source": [
        "## Изучение данных из файла"
      ]
    },
    {
      "cell_type": "code",
      "metadata": {
        "id": "PLxeZx6txeir"
      },
      "source": [
        "import pandas as pd\n",
        "import numpy as np\n",
        "from scipy import stats as st\n",
        "import seaborn as sns\n",
        "import matplotlib.pyplot as plt"
      ],
      "execution_count": null,
      "outputs": []
    },
    {
      "cell_type": "code",
      "metadata": {
        "id": "2NZ4xh53xeit"
      },
      "source": [
        "data = pd.read_csv('/datasets/games.csv')"
      ],
      "execution_count": null,
      "outputs": []
    },
    {
      "cell_type": "code",
      "metadata": {
        "id": "KXwqYX1Txeit",
        "outputId": "b3d95aaf-921f-4b94-936a-cf73b774e38f"
      },
      "source": [
        "data.info()\n",
        "data.head()"
      ],
      "execution_count": null,
      "outputs": [
        {
          "name": "stdout",
          "output_type": "stream",
          "text": [
            "<class 'pandas.core.frame.DataFrame'>\n",
            "RangeIndex: 16715 entries, 0 to 16714\n",
            "Data columns (total 11 columns):\n",
            "Name               16713 non-null object\n",
            "Platform           16715 non-null object\n",
            "Year_of_Release    16446 non-null float64\n",
            "Genre              16713 non-null object\n",
            "NA_sales           16715 non-null float64\n",
            "EU_sales           16715 non-null float64\n",
            "JP_sales           16715 non-null float64\n",
            "Other_sales        16715 non-null float64\n",
            "Critic_Score       8137 non-null float64\n",
            "User_Score         10014 non-null object\n",
            "Rating             9949 non-null object\n",
            "dtypes: float64(6), object(5)\n",
            "memory usage: 1.4+ MB\n"
          ]
        },
        {
          "data": {
            "text/html": [
              "<div>\n",
              "<style scoped>\n",
              "    .dataframe tbody tr th:only-of-type {\n",
              "        vertical-align: middle;\n",
              "    }\n",
              "\n",
              "    .dataframe tbody tr th {\n",
              "        vertical-align: top;\n",
              "    }\n",
              "\n",
              "    .dataframe thead th {\n",
              "        text-align: right;\n",
              "    }\n",
              "</style>\n",
              "<table border=\"1\" class=\"dataframe\">\n",
              "  <thead>\n",
              "    <tr style=\"text-align: right;\">\n",
              "      <th></th>\n",
              "      <th>Name</th>\n",
              "      <th>Platform</th>\n",
              "      <th>Year_of_Release</th>\n",
              "      <th>Genre</th>\n",
              "      <th>NA_sales</th>\n",
              "      <th>EU_sales</th>\n",
              "      <th>JP_sales</th>\n",
              "      <th>Other_sales</th>\n",
              "      <th>Critic_Score</th>\n",
              "      <th>User_Score</th>\n",
              "      <th>Rating</th>\n",
              "    </tr>\n",
              "  </thead>\n",
              "  <tbody>\n",
              "    <tr>\n",
              "      <td>0</td>\n",
              "      <td>Wii Sports</td>\n",
              "      <td>Wii</td>\n",
              "      <td>2006.0</td>\n",
              "      <td>Sports</td>\n",
              "      <td>41.36</td>\n",
              "      <td>28.96</td>\n",
              "      <td>3.77</td>\n",
              "      <td>8.45</td>\n",
              "      <td>76.0</td>\n",
              "      <td>8</td>\n",
              "      <td>E</td>\n",
              "    </tr>\n",
              "    <tr>\n",
              "      <td>1</td>\n",
              "      <td>Super Mario Bros.</td>\n",
              "      <td>NES</td>\n",
              "      <td>1985.0</td>\n",
              "      <td>Platform</td>\n",
              "      <td>29.08</td>\n",
              "      <td>3.58</td>\n",
              "      <td>6.81</td>\n",
              "      <td>0.77</td>\n",
              "      <td>NaN</td>\n",
              "      <td>NaN</td>\n",
              "      <td>NaN</td>\n",
              "    </tr>\n",
              "    <tr>\n",
              "      <td>2</td>\n",
              "      <td>Mario Kart Wii</td>\n",
              "      <td>Wii</td>\n",
              "      <td>2008.0</td>\n",
              "      <td>Racing</td>\n",
              "      <td>15.68</td>\n",
              "      <td>12.76</td>\n",
              "      <td>3.79</td>\n",
              "      <td>3.29</td>\n",
              "      <td>82.0</td>\n",
              "      <td>8.3</td>\n",
              "      <td>E</td>\n",
              "    </tr>\n",
              "    <tr>\n",
              "      <td>3</td>\n",
              "      <td>Wii Sports Resort</td>\n",
              "      <td>Wii</td>\n",
              "      <td>2009.0</td>\n",
              "      <td>Sports</td>\n",
              "      <td>15.61</td>\n",
              "      <td>10.93</td>\n",
              "      <td>3.28</td>\n",
              "      <td>2.95</td>\n",
              "      <td>80.0</td>\n",
              "      <td>8</td>\n",
              "      <td>E</td>\n",
              "    </tr>\n",
              "    <tr>\n",
              "      <td>4</td>\n",
              "      <td>Pokemon Red/Pokemon Blue</td>\n",
              "      <td>GB</td>\n",
              "      <td>1996.0</td>\n",
              "      <td>Role-Playing</td>\n",
              "      <td>11.27</td>\n",
              "      <td>8.89</td>\n",
              "      <td>10.22</td>\n",
              "      <td>1.00</td>\n",
              "      <td>NaN</td>\n",
              "      <td>NaN</td>\n",
              "      <td>NaN</td>\n",
              "    </tr>\n",
              "  </tbody>\n",
              "</table>\n",
              "</div>"
            ],
            "text/plain": [
              "                       Name Platform  Year_of_Release         Genre  NA_sales  \\\n",
              "0                Wii Sports      Wii           2006.0        Sports     41.36   \n",
              "1         Super Mario Bros.      NES           1985.0      Platform     29.08   \n",
              "2            Mario Kart Wii      Wii           2008.0        Racing     15.68   \n",
              "3         Wii Sports Resort      Wii           2009.0        Sports     15.61   \n",
              "4  Pokemon Red/Pokemon Blue       GB           1996.0  Role-Playing     11.27   \n",
              "\n",
              "   EU_sales  JP_sales  Other_sales  Critic_Score User_Score Rating  \n",
              "0     28.96      3.77         8.45          76.0          8      E  \n",
              "1      3.58      6.81         0.77           NaN        NaN    NaN  \n",
              "2     12.76      3.79         3.29          82.0        8.3      E  \n",
              "3     10.93      3.28         2.95          80.0          8      E  \n",
              "4      8.89     10.22         1.00           NaN        NaN    NaN  "
            ]
          },
          "execution_count": 3,
          "metadata": {},
          "output_type": "execute_result"
        }
      ]
    },
    {
      "cell_type": "markdown",
      "metadata": {
        "id": "VckyOfYIxeiv"
      },
      "source": [
        "В таблице 11 столбцов с разным количеством значений, в некоторых имеются пропуски. \n",
        "\n",
        "Из таблицы и описания файла видим, что в таблице названия столбцов начинаются с верхнего регистра, который нужно будет преобразовать в нижний. Также имеются пропущенные значения. В столбце с годом выпуска нужно будет изменить тип данных."
      ]
    },
    {
      "cell_type": "markdown",
      "metadata": {
        "id": "hD8QZDItxeiv"
      },
      "source": [
        "## Предобработка данных"
      ]
    },
    {
      "cell_type": "markdown",
      "metadata": {
        "id": "ymsw6H7oxeiv"
      },
      "source": [
        "В данном шаге необходимо привести названия столбцов к нижнему регистру, преобразовать данные в нужные типы, обработать пропуски при необходимости. А также посчитать суммарные продажи во всех регионах и сохранить их в отдельном столбце."
      ]
    },
    {
      "cell_type": "code",
      "metadata": {
        "id": "6IO6aPgexeiw"
      },
      "source": [
        "data.columns = data.columns.str.lower()"
      ],
      "execution_count": null,
      "outputs": []
    },
    {
      "cell_type": "code",
      "metadata": {
        "scrolled": true,
        "id": "GpGlqD1Exeiw",
        "outputId": "c593d5e1-9d8b-4ead-f13d-f63cee5652b2"
      },
      "source": [
        "data.info()"
      ],
      "execution_count": null,
      "outputs": [
        {
          "name": "stdout",
          "output_type": "stream",
          "text": [
            "<class 'pandas.core.frame.DataFrame'>\n",
            "RangeIndex: 16715 entries, 0 to 16714\n",
            "Data columns (total 11 columns):\n",
            "name               16713 non-null object\n",
            "platform           16715 non-null object\n",
            "year_of_release    16446 non-null float64\n",
            "genre              16713 non-null object\n",
            "na_sales           16715 non-null float64\n",
            "eu_sales           16715 non-null float64\n",
            "jp_sales           16715 non-null float64\n",
            "other_sales        16715 non-null float64\n",
            "critic_score       8137 non-null float64\n",
            "user_score         10014 non-null object\n",
            "rating             9949 non-null object\n",
            "dtypes: float64(6), object(5)\n",
            "memory usage: 1.4+ MB\n"
          ]
        }
      ]
    },
    {
      "cell_type": "code",
      "metadata": {
        "id": "aphEBOU1xeix",
        "outputId": "9d61b377-308b-4a99-9dd5-a94ec1f6e571"
      },
      "source": [
        "data.duplicated().sum()"
      ],
      "execution_count": null,
      "outputs": [
        {
          "data": {
            "text/plain": [
              "0"
            ]
          },
          "execution_count": 6,
          "metadata": {},
          "output_type": "execute_result"
        }
      ]
    },
    {
      "cell_type": "code",
      "metadata": {
        "id": "zWCTeUMvxeix",
        "outputId": "d10b37f4-229a-4862-83de-d6850a3b1f97"
      },
      "source": [
        "data['name'].duplicated().sum()"
      ],
      "execution_count": null,
      "outputs": [
        {
          "data": {
            "text/plain": [
              "5155"
            ]
          },
          "execution_count": 7,
          "metadata": {},
          "output_type": "execute_result"
        }
      ]
    },
    {
      "cell_type": "markdown",
      "metadata": {
        "id": "Zjh3X37gxeiy"
      },
      "source": [
        "Проверили таблицу на дубликаты, их нет, но видим, что по названиям игр дубликаты есть, то есть в таблице представлены одни и те же игры с разных платформ."
      ]
    },
    {
      "cell_type": "code",
      "metadata": {
        "scrolled": true,
        "id": "aAaJUn3exeiy",
        "outputId": "e914a137-dd79-4c8d-9ec4-649113ba76d4"
      },
      "source": [
        "data.isnull().sum()"
      ],
      "execution_count": null,
      "outputs": [
        {
          "data": {
            "text/plain": [
              "name                  2\n",
              "platform              0\n",
              "year_of_release     269\n",
              "genre                 2\n",
              "na_sales              0\n",
              "eu_sales              0\n",
              "jp_sales              0\n",
              "other_sales           0\n",
              "critic_score       8578\n",
              "user_score         6701\n",
              "rating             6766\n",
              "dtype: int64"
            ]
          },
          "execution_count": 8,
          "metadata": {},
          "output_type": "execute_result"
        }
      ]
    },
    {
      "cell_type": "code",
      "metadata": {
        "id": "0u-aam6zxeiz"
      },
      "source": [
        "data.dropna(subset=['year_of_release'], inplace=True)"
      ],
      "execution_count": null,
      "outputs": []
    },
    {
      "cell_type": "code",
      "metadata": {
        "id": "l4d8a5daxeiz"
      },
      "source": [
        "data['year_of_release'] = data['year_of_release'].astype('int')"
      ],
      "execution_count": null,
      "outputs": []
    },
    {
      "cell_type": "markdown",
      "metadata": {
        "id": "DivLGoWRxeiz"
      },
      "source": [
        "В столбцах с названием игры и жанра имеется незначительное количество пропусков. Произвести логическую замену в них не получится, поэтому оставим их. \n",
        "\n",
        "Удалили строки, где отсутствует год выпуска игры, так как их мало и будет удобней заменить тип данных на целочисленный для дальнейшего анализа. Также среди оценок критиков и пользователей около половины и трети значений соответственно - пропуски. При их замене на среднее или медианное значение, распределение сместится и показатели перестанут показывать реальные значения, поэтому замена здесь не является необходимой. Рассмотрим также столбец с возрастным рейтингом.  "
      ]
    },
    {
      "cell_type": "code",
      "metadata": {
        "id": "dddBsGQ-xei0",
        "outputId": "9185c20d-ceb6-4e2e-bd65-27277f7c380f"
      },
      "source": [
        "data['rating'].value_counts()"
      ],
      "execution_count": null,
      "outputs": [
        {
          "data": {
            "text/plain": [
              "E       3921\n",
              "T       2905\n",
              "M       1536\n",
              "E10+    1393\n",
              "EC         8\n",
              "K-A        3\n",
              "AO         1\n",
              "RP         1\n",
              "Name: rating, dtype: int64"
            ]
          },
          "execution_count": 11,
          "metadata": {},
          "output_type": "execute_result"
        }
      ]
    },
    {
      "cell_type": "markdown",
      "metadata": {
        "id": "3Wqh6ljVxei0"
      },
      "source": [
        "Возрастной рейтинг подразделяется на 8 типов, самый популярный среди них E - Everyone, то есть игры для всех, затем идет рейтинг T - Teen, M - Mature 17+,  E10+ - Everyone 10+. Пропусков в этом столбце также значительное число, поэтому заменять их на моду или медиану будет нелогично, но чтобы пропуски не мешали при дальнейшем анализе, заменим их на рейтинг RP (Rating Pending) - ожидающие рейтинга."
      ]
    },
    {
      "cell_type": "code",
      "metadata": {
        "id": "1bvAFVAnxei1"
      },
      "source": [
        "data['rating'] = data['rating'].fillna(value='RP')"
      ],
      "execution_count": null,
      "outputs": []
    },
    {
      "cell_type": "markdown",
      "metadata": {
        "id": "Z11J5wg5xei2"
      },
      "source": [
        "Рассмотрим подробней столбец с пользовательским рейтингом."
      ]
    },
    {
      "cell_type": "code",
      "metadata": {
        "id": "R9BXi7FFxei2",
        "outputId": "d7f9f1f9-34b7-47b4-c53b-2fed2f95dfb6"
      },
      "source": [
        "data['user_score'].value_counts()"
      ],
      "execution_count": null,
      "outputs": [
        {
          "data": {
            "text/plain": [
              "tbd    2376\n",
              "7.8     322\n",
              "8       285\n",
              "8.2     276\n",
              "8.3     252\n",
              "       ... \n",
              "0.3       2\n",
              "1         2\n",
              "9.6       2\n",
              "9.7       1\n",
              "0         1\n",
              "Name: user_score, Length: 96, dtype: int64"
            ]
          },
          "execution_count": 13,
          "metadata": {},
          "output_type": "execute_result"
        }
      ]
    },
    {
      "cell_type": "markdown",
      "metadata": {
        "id": "Zdng-89Vxei3"
      },
      "source": [
        "Помимо пропущенных значений в столбце с оценкой пользователей есть 2424 значения \"tbd\" - to be defined/determined, то есть показатели, по которым оценки еще не определены. Возможно это игры, на которые еще мало отзывов и оценок, поэтому, чтобы рейтинг был справедливым, они отмечены tbd. Заполним эти значения NaN, чтобы данные оставались релевантными, так как в дальнейшем нам нужно будет призводить расчеты по этому столбцу и необходимо, чтобы он имел численный тип данных."
      ]
    },
    {
      "cell_type": "code",
      "metadata": {
        "id": "BSAE7JbRxei3"
      },
      "source": [
        "data = data.replace(to_replace =\"tbd\", value = 'NaN')\n",
        "data['user_score'] = data['user_score'].astype('float')"
      ],
      "execution_count": null,
      "outputs": []
    },
    {
      "cell_type": "markdown",
      "metadata": {
        "id": "Kyw9Y3bwxei3"
      },
      "source": [
        "Посчитаем суммарные продажи по каждой игре во всех регионах и запишим их в отдельный столбец."
      ]
    },
    {
      "cell_type": "code",
      "metadata": {
        "id": "CuRI52M3xei4"
      },
      "source": [
        "data['total_sales'] = data['na_sales'] + data['eu_sales'] + data['jp_sales'] + data['other_sales']"
      ],
      "execution_count": null,
      "outputs": []
    },
    {
      "cell_type": "code",
      "metadata": {
        "id": "i9W7O-d8xei7",
        "outputId": "3210f287-0b9b-416a-f520-4df315221645"
      },
      "source": [
        "data.head()"
      ],
      "execution_count": null,
      "outputs": [
        {
          "data": {
            "text/html": [
              "<div>\n",
              "<style scoped>\n",
              "    .dataframe tbody tr th:only-of-type {\n",
              "        vertical-align: middle;\n",
              "    }\n",
              "\n",
              "    .dataframe tbody tr th {\n",
              "        vertical-align: top;\n",
              "    }\n",
              "\n",
              "    .dataframe thead th {\n",
              "        text-align: right;\n",
              "    }\n",
              "</style>\n",
              "<table border=\"1\" class=\"dataframe\">\n",
              "  <thead>\n",
              "    <tr style=\"text-align: right;\">\n",
              "      <th></th>\n",
              "      <th>name</th>\n",
              "      <th>platform</th>\n",
              "      <th>year_of_release</th>\n",
              "      <th>genre</th>\n",
              "      <th>na_sales</th>\n",
              "      <th>eu_sales</th>\n",
              "      <th>jp_sales</th>\n",
              "      <th>other_sales</th>\n",
              "      <th>critic_score</th>\n",
              "      <th>user_score</th>\n",
              "      <th>rating</th>\n",
              "      <th>total_sales</th>\n",
              "    </tr>\n",
              "  </thead>\n",
              "  <tbody>\n",
              "    <tr>\n",
              "      <td>0</td>\n",
              "      <td>Wii Sports</td>\n",
              "      <td>Wii</td>\n",
              "      <td>2006</td>\n",
              "      <td>Sports</td>\n",
              "      <td>41.36</td>\n",
              "      <td>28.96</td>\n",
              "      <td>3.77</td>\n",
              "      <td>8.45</td>\n",
              "      <td>76.0</td>\n",
              "      <td>8.0</td>\n",
              "      <td>E</td>\n",
              "      <td>82.54</td>\n",
              "    </tr>\n",
              "    <tr>\n",
              "      <td>1</td>\n",
              "      <td>Super Mario Bros.</td>\n",
              "      <td>NES</td>\n",
              "      <td>1985</td>\n",
              "      <td>Platform</td>\n",
              "      <td>29.08</td>\n",
              "      <td>3.58</td>\n",
              "      <td>6.81</td>\n",
              "      <td>0.77</td>\n",
              "      <td>NaN</td>\n",
              "      <td>NaN</td>\n",
              "      <td>RP</td>\n",
              "      <td>40.24</td>\n",
              "    </tr>\n",
              "    <tr>\n",
              "      <td>2</td>\n",
              "      <td>Mario Kart Wii</td>\n",
              "      <td>Wii</td>\n",
              "      <td>2008</td>\n",
              "      <td>Racing</td>\n",
              "      <td>15.68</td>\n",
              "      <td>12.76</td>\n",
              "      <td>3.79</td>\n",
              "      <td>3.29</td>\n",
              "      <td>82.0</td>\n",
              "      <td>8.3</td>\n",
              "      <td>E</td>\n",
              "      <td>35.52</td>\n",
              "    </tr>\n",
              "    <tr>\n",
              "      <td>3</td>\n",
              "      <td>Wii Sports Resort</td>\n",
              "      <td>Wii</td>\n",
              "      <td>2009</td>\n",
              "      <td>Sports</td>\n",
              "      <td>15.61</td>\n",
              "      <td>10.93</td>\n",
              "      <td>3.28</td>\n",
              "      <td>2.95</td>\n",
              "      <td>80.0</td>\n",
              "      <td>8.0</td>\n",
              "      <td>E</td>\n",
              "      <td>32.77</td>\n",
              "    </tr>\n",
              "    <tr>\n",
              "      <td>4</td>\n",
              "      <td>Pokemon Red/Pokemon Blue</td>\n",
              "      <td>GB</td>\n",
              "      <td>1996</td>\n",
              "      <td>Role-Playing</td>\n",
              "      <td>11.27</td>\n",
              "      <td>8.89</td>\n",
              "      <td>10.22</td>\n",
              "      <td>1.00</td>\n",
              "      <td>NaN</td>\n",
              "      <td>NaN</td>\n",
              "      <td>RP</td>\n",
              "      <td>31.38</td>\n",
              "    </tr>\n",
              "  </tbody>\n",
              "</table>\n",
              "</div>"
            ],
            "text/plain": [
              "                       name platform  year_of_release         genre  na_sales  \\\n",
              "0                Wii Sports      Wii             2006        Sports     41.36   \n",
              "1         Super Mario Bros.      NES             1985      Platform     29.08   \n",
              "2            Mario Kart Wii      Wii             2008        Racing     15.68   \n",
              "3         Wii Sports Resort      Wii             2009        Sports     15.61   \n",
              "4  Pokemon Red/Pokemon Blue       GB             1996  Role-Playing     11.27   \n",
              "\n",
              "   eu_sales  jp_sales  other_sales  critic_score  user_score rating  \\\n",
              "0     28.96      3.77         8.45          76.0         8.0      E   \n",
              "1      3.58      6.81         0.77           NaN         NaN     RP   \n",
              "2     12.76      3.79         3.29          82.0         8.3      E   \n",
              "3     10.93      3.28         2.95          80.0         8.0      E   \n",
              "4      8.89     10.22         1.00           NaN         NaN     RP   \n",
              "\n",
              "   total_sales  \n",
              "0        82.54  \n",
              "1        40.24  \n",
              "2        35.52  \n",
              "3        32.77  \n",
              "4        31.38  "
            ]
          },
          "execution_count": 16,
          "metadata": {},
          "output_type": "execute_result"
        }
      ]
    },
    {
      "cell_type": "markdown",
      "metadata": {
        "id": "zAqR6WcUxei8"
      },
      "source": [
        "## Исследовательский анализ данных"
      ]
    },
    {
      "cell_type": "markdown",
      "metadata": {
        "id": "9-Yt9Dw7xei9"
      },
      "source": [
        "Проверим, сколько игр выпускалось в разные годы."
      ]
    },
    {
      "cell_type": "code",
      "metadata": {
        "id": "C4BYUdyOxei-",
        "outputId": "7846ed23-7925-4542-813f-1c3967cb98af"
      },
      "source": [
        "data['year_of_release'].value_counts()"
      ],
      "execution_count": null,
      "outputs": [
        {
          "data": {
            "text/plain": [
              "2008    1427\n",
              "2009    1426\n",
              "2010    1255\n",
              "2007    1197\n",
              "2011    1136\n",
              "2006    1006\n",
              "2005     939\n",
              "2002     829\n",
              "2003     775\n",
              "2004     762\n",
              "2012     653\n",
              "2015     606\n",
              "2014     581\n",
              "2013     544\n",
              "2016     502\n",
              "2001     482\n",
              "1998     379\n",
              "2000     350\n",
              "1999     338\n",
              "1997     289\n",
              "1996     263\n",
              "1995     219\n",
              "1994     121\n",
              "1993      62\n",
              "1981      46\n",
              "1992      43\n",
              "1991      41\n",
              "1982      36\n",
              "1986      21\n",
              "1983      17\n",
              "1989      17\n",
              "1987      16\n",
              "1990      16\n",
              "1988      15\n",
              "1984      14\n",
              "1985      14\n",
              "1980       9\n",
              "Name: year_of_release, dtype: int64"
            ]
          },
          "execution_count": 17,
          "metadata": {},
          "output_type": "execute_result"
        }
      ]
    },
    {
      "cell_type": "markdown",
      "metadata": {
        "id": "AYmeNIbBxei_"
      },
      "source": [
        "Видим, что в период с 2006-2011 выпускалось свыше тысячи игр каждый код. Самое большое число в 2008 и 2009 году, 1427 и 1426 соответственно.\n",
        "\n",
        "Проверим, как менялись продажи по платформам. Выберим платформы с наибольшими суммарными продажами и построим распределение по годам."
      ]
    },
    {
      "cell_type": "code",
      "metadata": {
        "id": "FEGyxi7pxei_"
      },
      "source": [
        "platform_sales = data.pivot_table(index = 'platform', values = 'total_sales', aggfunc = 'sum')\n",
        "platform_sales.columns = ['platform_sales']\n",
        "platform_sales = platform_sales.sort_values(by = 'platform_sales', ascending = False)"
      ],
      "execution_count": null,
      "outputs": []
    },
    {
      "cell_type": "code",
      "metadata": {
        "id": "80VedOtdxei_",
        "outputId": "c3dfbc15-47c2-4993-cb3e-a99eae336135"
      },
      "source": [
        "platform_sales"
      ],
      "execution_count": null,
      "outputs": [
        {
          "data": {
            "text/html": [
              "<div>\n",
              "<style scoped>\n",
              "    .dataframe tbody tr th:only-of-type {\n",
              "        vertical-align: middle;\n",
              "    }\n",
              "\n",
              "    .dataframe tbody tr th {\n",
              "        vertical-align: top;\n",
              "    }\n",
              "\n",
              "    .dataframe thead th {\n",
              "        text-align: right;\n",
              "    }\n",
              "</style>\n",
              "<table border=\"1\" class=\"dataframe\">\n",
              "  <thead>\n",
              "    <tr style=\"text-align: right;\">\n",
              "      <th></th>\n",
              "      <th>platform_sales</th>\n",
              "    </tr>\n",
              "    <tr>\n",
              "      <th>platform</th>\n",
              "      <th></th>\n",
              "    </tr>\n",
              "  </thead>\n",
              "  <tbody>\n",
              "    <tr>\n",
              "      <td>PS2</td>\n",
              "      <td>1233.56</td>\n",
              "    </tr>\n",
              "    <tr>\n",
              "      <td>X360</td>\n",
              "      <td>961.24</td>\n",
              "    </tr>\n",
              "    <tr>\n",
              "      <td>PS3</td>\n",
              "      <td>931.34</td>\n",
              "    </tr>\n",
              "    <tr>\n",
              "      <td>Wii</td>\n",
              "      <td>891.18</td>\n",
              "    </tr>\n",
              "    <tr>\n",
              "      <td>DS</td>\n",
              "      <td>802.78</td>\n",
              "    </tr>\n",
              "    <tr>\n",
              "      <td>PS</td>\n",
              "      <td>727.58</td>\n",
              "    </tr>\n",
              "    <tr>\n",
              "      <td>PS4</td>\n",
              "      <td>314.14</td>\n",
              "    </tr>\n",
              "    <tr>\n",
              "      <td>GBA</td>\n",
              "      <td>312.88</td>\n",
              "    </tr>\n",
              "    <tr>\n",
              "      <td>PSP</td>\n",
              "      <td>289.53</td>\n",
              "    </tr>\n",
              "    <tr>\n",
              "      <td>3DS</td>\n",
              "      <td>257.81</td>\n",
              "    </tr>\n",
              "    <tr>\n",
              "      <td>PC</td>\n",
              "      <td>255.76</td>\n",
              "    </tr>\n",
              "    <tr>\n",
              "      <td>GB</td>\n",
              "      <td>254.43</td>\n",
              "    </tr>\n",
              "    <tr>\n",
              "      <td>XB</td>\n",
              "      <td>251.57</td>\n",
              "    </tr>\n",
              "    <tr>\n",
              "      <td>NES</td>\n",
              "      <td>251.05</td>\n",
              "    </tr>\n",
              "    <tr>\n",
              "      <td>N64</td>\n",
              "      <td>218.01</td>\n",
              "    </tr>\n",
              "    <tr>\n",
              "      <td>SNES</td>\n",
              "      <td>200.04</td>\n",
              "    </tr>\n",
              "    <tr>\n",
              "      <td>GC</td>\n",
              "      <td>196.73</td>\n",
              "    </tr>\n",
              "    <tr>\n",
              "      <td>XOne</td>\n",
              "      <td>159.32</td>\n",
              "    </tr>\n",
              "    <tr>\n",
              "      <td>2600</td>\n",
              "      <td>86.48</td>\n",
              "    </tr>\n",
              "    <tr>\n",
              "      <td>WiiU</td>\n",
              "      <td>82.19</td>\n",
              "    </tr>\n",
              "    <tr>\n",
              "      <td>PSV</td>\n",
              "      <td>53.81</td>\n",
              "    </tr>\n",
              "    <tr>\n",
              "      <td>SAT</td>\n",
              "      <td>33.59</td>\n",
              "    </tr>\n",
              "    <tr>\n",
              "      <td>GEN</td>\n",
              "      <td>30.77</td>\n",
              "    </tr>\n",
              "    <tr>\n",
              "      <td>DC</td>\n",
              "      <td>15.95</td>\n",
              "    </tr>\n",
              "    <tr>\n",
              "      <td>SCD</td>\n",
              "      <td>1.86</td>\n",
              "    </tr>\n",
              "    <tr>\n",
              "      <td>NG</td>\n",
              "      <td>1.44</td>\n",
              "    </tr>\n",
              "    <tr>\n",
              "      <td>WS</td>\n",
              "      <td>1.42</td>\n",
              "    </tr>\n",
              "    <tr>\n",
              "      <td>TG16</td>\n",
              "      <td>0.16</td>\n",
              "    </tr>\n",
              "    <tr>\n",
              "      <td>3DO</td>\n",
              "      <td>0.10</td>\n",
              "    </tr>\n",
              "    <tr>\n",
              "      <td>GG</td>\n",
              "      <td>0.04</td>\n",
              "    </tr>\n",
              "    <tr>\n",
              "      <td>PCFX</td>\n",
              "      <td>0.03</td>\n",
              "    </tr>\n",
              "  </tbody>\n",
              "</table>\n",
              "</div>"
            ],
            "text/plain": [
              "          platform_sales\n",
              "platform                \n",
              "PS2              1233.56\n",
              "X360              961.24\n",
              "PS3               931.34\n",
              "Wii               891.18\n",
              "DS                802.78\n",
              "PS                727.58\n",
              "PS4               314.14\n",
              "GBA               312.88\n",
              "PSP               289.53\n",
              "3DS               257.81\n",
              "PC                255.76\n",
              "GB                254.43\n",
              "XB                251.57\n",
              "NES               251.05\n",
              "N64               218.01\n",
              "SNES              200.04\n",
              "GC                196.73\n",
              "XOne              159.32\n",
              "2600               86.48\n",
              "WiiU               82.19\n",
              "PSV                53.81\n",
              "SAT                33.59\n",
              "GEN                30.77\n",
              "DC                 15.95\n",
              "SCD                 1.86\n",
              "NG                  1.44\n",
              "WS                  1.42\n",
              "TG16                0.16\n",
              "3DO                 0.10\n",
              "GG                  0.04\n",
              "PCFX                0.03"
            ]
          },
          "execution_count": 19,
          "metadata": {},
          "output_type": "execute_result"
        }
      ]
    },
    {
      "cell_type": "markdown",
      "metadata": {
        "id": "CyLWt2kJxei_"
      },
      "source": [
        "Из списка видим, что наибольшие продажи были на шести платформах, начиная с седьмой разница в продажах значительная. Построим распределение по годам для каждой из этих шести платформ."
      ]
    },
    {
      "cell_type": "code",
      "metadata": {
        "id": "St_VMV2MxejA"
      },
      "source": [
        "top = platform_sales.query('platform_sales > 700')"
      ],
      "execution_count": null,
      "outputs": []
    },
    {
      "cell_type": "code",
      "metadata": {
        "id": "-gaCS3-BxejA"
      },
      "source": [
        "top1=top.index.values"
      ],
      "execution_count": null,
      "outputs": []
    },
    {
      "cell_type": "code",
      "metadata": {
        "id": "Awyn8lrwxejB"
      },
      "source": [
        "top6 = data[data['platform'].isin(top1)].pivot_table(\n",
        "                        index=['year_of_release', 'platform'], \n",
        "                        values='total_sales', \n",
        "                        aggfunc=sum).reset_index()"
      ],
      "execution_count": null,
      "outputs": []
    },
    {
      "cell_type": "code",
      "metadata": {
        "id": "t-IN3g0NxejB",
        "outputId": "e26c0340-1683-4b58-efda-86d4ca545fb2"
      },
      "source": [
        "PS2 = top6.query('platform == \"PS2\"')\n",
        "sns.barplot(x = 'year_of_release', y = 'total_sales', hue = 'platform', data = PS2)\n",
        "plt.title(\"Распределение продаж по годам платформы PS2\")"
      ],
      "execution_count": null,
      "outputs": [
        {
          "data": {
            "text/plain": [
              "Text(0.5, 1.0, 'Распределение продаж по годам платформы PS2')"
            ]
          },
          "execution_count": 23,
          "metadata": {},
          "output_type": "execute_result"
        },
        {
          "data": {
            "image/png": "[encoded data removed]",
            "text/plain": [
              "<Figure size 432x288 with 1 Axes>"
            ]
          },
          "metadata": {
            "needs_background": "light"
          },
          "output_type": "display_data"
        }
      ]
    },
    {
      "cell_type": "code",
      "metadata": {
        "id": "SVGulrSXxejC",
        "outputId": "70c16331-7ca0-4642-e092-85844133f370"
      },
      "source": [
        "X360 = top6.query('platform == \"X360\"')\n",
        "sns.barplot(x = 'year_of_release', y = 'total_sales', hue = 'platform', data = X360)\n",
        "plt.title(\"Распределение продаж по годам платформы X360\")"
      ],
      "execution_count": null,
      "outputs": [
        {
          "data": {
            "text/plain": [
              "Text(0.5, 1.0, 'Распределение продаж по годам платформы X360')"
            ]
          },
          "execution_count": 24,
          "metadata": {},
          "output_type": "execute_result"
        },
        {
          "data": {
            "image/png": "[encoded data removed]",
            "text/plain": [
              "<Figure size 432x288 with 1 Axes>"
            ]
          },
          "metadata": {
            "needs_background": "light"
          },
          "output_type": "display_data"
        }
      ]
    },
    {
      "cell_type": "code",
      "metadata": {
        "id": "LIPDajyAxejC",
        "outputId": "3c6c60a2-7bc4-46ab-c16a-389859b86064"
      },
      "source": [
        "PS3 = top6.query('platform == \"PS3\"')\n",
        "sns.barplot(x = 'year_of_release', y = 'total_sales', hue = 'platform', data = PS3)\n",
        "plt.title(\"Распределение продаж по годам платформы PS3\")"
      ],
      "execution_count": null,
      "outputs": [
        {
          "data": {
            "text/plain": [
              "Text(0.5, 1.0, 'Распределение продаж по годам платформы PS3')"
            ]
          },
          "execution_count": 25,
          "metadata": {},
          "output_type": "execute_result"
        },
        {
          "data": {
            "image/png": "[encoded data removed]",
            "text/plain": [
              "<Figure size 432x288 with 1 Axes>"
            ]
          },
          "metadata": {
            "needs_background": "light"
          },
          "output_type": "display_data"
        }
      ]
    },
    {
      "cell_type": "code",
      "metadata": {
        "id": "y8L_PAdoxejC",
        "outputId": "cd10e50e-fe6e-44d5-bf77-78060f9f47a6"
      },
      "source": [
        "Wii = top6.query('platform == \"Wii\"')\n",
        "sns.barplot(x = 'year_of_release', y = 'total_sales', hue = 'platform', data = Wii)\n",
        "plt.title(\"Распределение продаж по годам платформы Wii\")"
      ],
      "execution_count": null,
      "outputs": [
        {
          "data": {
            "text/plain": [
              "Text(0.5, 1.0, 'Распределение продаж по годам платформы Wii')"
            ]
          },
          "execution_count": 26,
          "metadata": {},
          "output_type": "execute_result"
        },
        {
          "data": {
            "image/png": "[encoded data removed]",
            "text/plain": [
              "<Figure size 432x288 with 1 Axes>"
            ]
          },
          "metadata": {
            "needs_background": "light"
          },
          "output_type": "display_data"
        }
      ]
    },
    {
      "cell_type": "code",
      "metadata": {
        "id": "r2vQbSP_xejD",
        "outputId": "3b8207d4-a24f-4d70-8f66-452f8d502b8d"
      },
      "source": [
        "DS = top6.query('platform == \"DS\"')\n",
        "sns.barplot(x = 'year_of_release', y = 'total_sales', hue = 'platform', data = DS)\n",
        "plt.title(\"Распределение продаж по годам платформы DS\")"
      ],
      "execution_count": null,
      "outputs": [
        {
          "data": {
            "text/plain": [
              "Text(0.5, 1.0, 'Распределение продаж по годам платформы DS')"
            ]
          },
          "execution_count": 27,
          "metadata": {},
          "output_type": "execute_result"
        },
        {
          "data": {
            "image/png": "[encoded data removed]",
            "text/plain": [
              "<Figure size 432x288 with 1 Axes>"
            ]
          },
          "metadata": {
            "needs_background": "light"
          },
          "output_type": "display_data"
        }
      ]
    },
    {
      "cell_type": "code",
      "metadata": {
        "id": "Fqm4S6ixxejD",
        "outputId": "eb772556-8149-4746-c936-a66e9a705a47"
      },
      "source": [
        "PS = top6.query('platform == \"PS\"')\n",
        "sns.barplot(x = 'year_of_release', y = 'total_sales', hue = 'platform', data = PS)\n",
        "plt.title(\"Распределение продаж по годам платформы PS\")"
      ],
      "execution_count": null,
      "outputs": [
        {
          "data": {
            "text/plain": [
              "Text(0.5, 1.0, 'Распределение продаж по годам платформы PS')"
            ]
          },
          "execution_count": 28,
          "metadata": {},
          "output_type": "execute_result"
        },
        {
          "data": {
            "image/png": "[encoded data removed]",
            "text/plain": [
              "<Figure size 432x288 with 1 Axes>"
            ]
          },
          "metadata": {
            "needs_background": "light"
          },
          "output_type": "display_data"
        }
      ]
    },
    {
      "cell_type": "markdown",
      "metadata": {
        "id": "8mlkjbEIxejD"
      },
      "source": [
        "Рассмотрим время жизни каждой платформы с момента роста до момента спада продаж на платформе. Продажи игр платформы PS начались в 1994 году и росли до 1998, самой высокой точки продаж, затем они начали падать и пришли к 0 в 2003. Видим, что в 2000 году начались продажи игр платформы PS2 и росли до 2004 года, затем начался спад продажи упали в 2011. В 2006 году начались продажи игр PS3 и достигли максимума в 2011, после чего был спад и продажи упали в 2016 году. Это объясняется тем, что PlayStation выпускал новые модели, поэтому одна модель сменяла другую.\n",
        "\n",
        "Платформа X360 начала продажи игр в 2005 и самое высокое число продаж было в 2010, после был спад и в 0 продажи пришли в 2016, платформа Wii - с 2006, рост до 2009 и падение в 2016, и платформа DS - рост с 2004 до 2008, продажи пришли в 0 в 2013.\n",
        "\n",
        "Таким образом жизнь платформ составляет 9, 11, 10, 11, 10, 9, в среднем 9 лет.\n",
        "\n",
        "Для планирования кампании на 2017 год и для дальнейшего анализа возьмем период 2014-2016 как актуальный, так как три года - это срок, за который продажи падают с пика до 0."
      ]
    },
    {
      "cell_type": "code",
      "metadata": {
        "id": "aKJOV9IuxejE"
      },
      "source": [
        "actual_data = data.query('year_of_release >= 2014')"
      ],
      "execution_count": null,
      "outputs": []
    },
    {
      "cell_type": "markdown",
      "metadata": {
        "id": "EXWoBF-9xejE"
      },
      "source": [
        "Рассмотрим, какие платформы лидируют по продажам, растут или падают в выбранный период."
      ]
    },
    {
      "cell_type": "code",
      "metadata": {
        "id": "-gbPhNW4xejE",
        "outputId": "33f76105-e90d-45e3-bdbf-4664ea089875"
      },
      "source": [
        "platform_leaders = actual_data.pivot_table(index = 'platform', values = 'total_sales', aggfunc = 'sum').sort_values(by = 'total_sales', ascending = False)\n",
        "platform_leaders"
      ],
      "execution_count": null,
      "outputs": [
        {
          "data": {
            "text/html": [
              "<div>\n",
              "<style scoped>\n",
              "    .dataframe tbody tr th:only-of-type {\n",
              "        vertical-align: middle;\n",
              "    }\n",
              "\n",
              "    .dataframe tbody tr th {\n",
              "        vertical-align: top;\n",
              "    }\n",
              "\n",
              "    .dataframe thead th {\n",
              "        text-align: right;\n",
              "    }\n",
              "</style>\n",
              "<table border=\"1\" class=\"dataframe\">\n",
              "  <thead>\n",
              "    <tr style=\"text-align: right;\">\n",
              "      <th></th>\n",
              "      <th>total_sales</th>\n",
              "    </tr>\n",
              "    <tr>\n",
              "      <th>platform</th>\n",
              "      <th></th>\n",
              "    </tr>\n",
              "  </thead>\n",
              "  <tbody>\n",
              "    <tr>\n",
              "      <td>PS4</td>\n",
              "      <td>288.15</td>\n",
              "    </tr>\n",
              "    <tr>\n",
              "      <td>XOne</td>\n",
              "      <td>140.36</td>\n",
              "    </tr>\n",
              "    <tr>\n",
              "      <td>3DS</td>\n",
              "      <td>86.68</td>\n",
              "    </tr>\n",
              "    <tr>\n",
              "      <td>PS3</td>\n",
              "      <td>68.18</td>\n",
              "    </tr>\n",
              "    <tr>\n",
              "      <td>X360</td>\n",
              "      <td>48.22</td>\n",
              "    </tr>\n",
              "    <tr>\n",
              "      <td>WiiU</td>\n",
              "      <td>42.98</td>\n",
              "    </tr>\n",
              "    <tr>\n",
              "      <td>PC</td>\n",
              "      <td>27.05</td>\n",
              "    </tr>\n",
              "    <tr>\n",
              "      <td>PSV</td>\n",
              "      <td>22.40</td>\n",
              "    </tr>\n",
              "    <tr>\n",
              "      <td>Wii</td>\n",
              "      <td>5.07</td>\n",
              "    </tr>\n",
              "    <tr>\n",
              "      <td>PSP</td>\n",
              "      <td>0.36</td>\n",
              "    </tr>\n",
              "  </tbody>\n",
              "</table>\n",
              "</div>"
            ],
            "text/plain": [
              "          total_sales\n",
              "platform             \n",
              "PS4            288.15\n",
              "XOne           140.36\n",
              "3DS             86.68\n",
              "PS3             68.18\n",
              "X360            48.22\n",
              "WiiU            42.98\n",
              "PC              27.05\n",
              "PSV             22.40\n",
              "Wii              5.07\n",
              "PSP              0.36"
            ]
          },
          "execution_count": 31,
          "metadata": {},
          "output_type": "execute_result"
        }
      ]
    },
    {
      "cell_type": "markdown",
      "metadata": {
        "id": "GHDyOsHMxejF"
      },
      "source": [
        "Сравнивая с предыдущим выводом, видим, что в выбранный период платформы Wii, DS, PS2, X360, PS упали в продажах. Теперь лидерами являются PS4, XOne, 3DS и PS3. \n",
        "\n",
        "Построим график «ящик с усами» по глобальным продажам игр в разбивке по лидирующим платформам и опишем полученный результат."
      ]
    },
    {
      "cell_type": "code",
      "metadata": {
        "id": "hkkS6S-9xejF"
      },
      "source": [
        "leaders = actual_data.query('platform == [\"PS4\",\"XOne\",\"3DS\",\"PS3\"]')"
      ],
      "execution_count": null,
      "outputs": []
    },
    {
      "cell_type": "code",
      "metadata": {
        "id": "nAC_5NehxejF",
        "outputId": "7a4284f8-f128-404d-aa0b-999b6e16b66d"
      },
      "source": [
        "sns.boxplot(y=\"platform\", x='total_sales',orient = \"h\", data=leaders).set_title('Global sales boxplot')\n",
        "plt.xlim(0, 2)"
      ],
      "execution_count": null,
      "outputs": [
        {
          "data": {
            "text/plain": [
              "(0, 2)"
            ]
          },
          "execution_count": 33,
          "metadata": {},
          "output_type": "execute_result"
        },
        {
          "data": {
            "image/png": "[encoded data removed]",
            "text/plain": [
              "<Figure size 432x288 with 1 Axes>"
            ]
          },
          "metadata": {
            "needs_background": "light"
          },
          "output_type": "display_data"
        }
      ]
    },
    {
      "cell_type": "markdown",
      "metadata": {
        "id": "xZqPcFq6xejF"
      },
      "source": [
        "Из полученных боксплотов видим, что по всем платформам имеется длинный хвост выбросов. Самая большая медиана у платформы XOne, затем PS4, PS3 и 3DS."
      ]
    },
    {
      "cell_type": "markdown",
      "metadata": {
        "id": "rjqjwRcbxejF"
      },
      "source": [
        "Посмотрим, как влияют на продажи внутри одной популярной платформы отзывы пользователей и критиков. Построим диаграмму рассеяния и посчитаем корреляцию между отзывами и продажами для каждой платформы. Сравним полученные данные."
      ]
    },
    {
      "cell_type": "code",
      "metadata": {
        "id": "TRwsEecdxejG"
      },
      "source": [
        "ps4_data = leaders.query('platform == \"PS4\"')\n",
        "xone_data = leaders.query('platform == \"XOne\"')\n",
        "ds3_data = leaders.query('platform == \"3DS\"')\n",
        "ps3_data = leaders.query('platform == \"PS3\"')"
      ],
      "execution_count": null,
      "outputs": []
    },
    {
      "cell_type": "code",
      "metadata": {
        "id": "x0vVe_q_xejG",
        "outputId": "c05f491b-8dac-41e0-c4f1-7ac6e8ae3add"
      },
      "source": [
        "ps4_data.plot(x='user_score', y='total_sales', kind='scatter', grid=True)\n",
        "plt.title(\"Зависимость продаж от оценок пользователей (PS4)\")"
      ],
      "execution_count": null,
      "outputs": [
        {
          "data": {
            "text/plain": [
              "Text(0.5, 1.0, 'Зависимость продаж от оценок пользователей (PS4)')"
            ]
          },
          "execution_count": 35,
          "metadata": {},
          "output_type": "execute_result"
        },
        {
          "data": {
            "image/png": "[encoded data removed]",
            "text/plain": [
              "<Figure size 432x288 with 1 Axes>"
            ]
          },
          "metadata": {
            "needs_background": "light"
          },
          "output_type": "display_data"
        }
      ]
    },
    {
      "cell_type": "code",
      "metadata": {
        "id": "5hmXv-y8xejG",
        "outputId": "73ea0a04-7603-4fdf-faa0-d7a1d9ac4ba7"
      },
      "source": [
        "ps4_data.plot(x='critic_score', y='total_sales', kind='scatter', grid=True)\n",
        "plt.title(\"Зависимость продаж от оценок критиков (PS4)\")"
      ],
      "execution_count": null,
      "outputs": [
        {
          "data": {
            "text/plain": [
              "Text(0.5, 1.0, 'Зависимость продаж от оценок критиков (PS4)')"
            ]
          },
          "execution_count": 36,
          "metadata": {},
          "output_type": "execute_result"
        },
        {
          "data": {
            "image/png": "[encoded data removed]",
            "text/plain": [
              "<Figure size 432x288 with 1 Axes>"
            ]
          },
          "metadata": {
            "needs_background": "light"
          },
          "output_type": "display_data"
        }
      ]
    },
    {
      "cell_type": "code",
      "metadata": {
        "id": "Giv5spgMxejG",
        "outputId": "3af9cf93-d347-48ae-d3c2-917b1956ca24"
      },
      "source": [
        "ps4_data['user_score'].corr(ps4_data['total_sales'])"
      ],
      "execution_count": null,
      "outputs": [
        {
          "data": {
            "text/plain": [
              "-0.040131589472697356"
            ]
          },
          "execution_count": 37,
          "metadata": {},
          "output_type": "execute_result"
        }
      ]
    },
    {
      "cell_type": "code",
      "metadata": {
        "id": "ogYMYuzOxejH",
        "outputId": "87da3b2f-6a50-4536-d49b-7002d8b90c64"
      },
      "source": [
        "ps4_data['critic_score'].corr(ps4_data['total_sales'])"
      ],
      "execution_count": null,
      "outputs": [
        {
          "data": {
            "text/plain": [
              "0.40266141068104083"
            ]
          },
          "execution_count": 38,
          "metadata": {},
          "output_type": "execute_result"
        }
      ]
    },
    {
      "cell_type": "markdown",
      "metadata": {
        "id": "v9rqYH6ZxejH"
      },
      "source": [
        "Исходя из диаграммы рассеяния по платформе PS4 и коэффициента корреляции Пирсона, видим, что есть зависимость общего количества продаж от оценок критиков. Коэффициент равен 0.40, зависимость не ярко-выраженная, но имеется. По диаграмме видим, что игры с самыми высокими продажами имеют высокие оценки критиков и значения справа тянутся вверх.\n",
        "\n",
        "В то время как на диаграмме зависимости продаж от оценок пользователей, игры с высокими продажами имеют также и низкие оценки, и коэффициент корреляции близок к нулю, то есть зависимость очень слабая.\n",
        "\n",
        "Рассмотрим также другие лидирующие платформы."
      ]
    },
    {
      "cell_type": "code",
      "metadata": {
        "id": "9q_pVk5FxejH",
        "outputId": "4e8b3b74-2a8d-4d47-ee92-3e44b79e7ede"
      },
      "source": [
        "xone_data.plot(x='user_score', y='total_sales', kind='scatter', c =\"green\", grid=True) \n",
        "plt.title(\"Зависимость продаж от оценок пользователей (XOne)\")"
      ],
      "execution_count": null,
      "outputs": [
        {
          "data": {
            "text/plain": [
              "Text(0.5, 1.0, 'Зависимость продаж от оценок пользователей (XOne)')"
            ]
          },
          "execution_count": 39,
          "metadata": {},
          "output_type": "execute_result"
        },
        {
          "data": {
            "image/png": "[encoded data removed]",
            "text/plain": [
              "<Figure size 432x288 with 1 Axes>"
            ]
          },
          "metadata": {
            "needs_background": "light"
          },
          "output_type": "display_data"
        }
      ]
    },
    {
      "cell_type": "code",
      "metadata": {
        "scrolled": true,
        "id": "lHgKGzydxejI",
        "outputId": "74c2741c-6cf1-4517-f7f5-d0573f8d290a"
      },
      "source": [
        "xone_data.plot(x='critic_score', y='total_sales', kind='scatter', c =\"green\", grid=True) \n",
        "plt.title(\"Зависимость продаж от оценок критиков (XOne)\")"
      ],
      "execution_count": null,
      "outputs": [
        {
          "data": {
            "text/plain": [
              "Text(0.5, 1.0, 'Зависимость продаж от оценок критиков (XOne)')"
            ]
          },
          "execution_count": 40,
          "metadata": {},
          "output_type": "execute_result"
        },
        {
          "data": {
            "image/png": "[encoded data removed]",
            "text/plain": [
              "<Figure size 432x288 with 1 Axes>"
            ]
          },
          "metadata": {
            "needs_background": "light"
          },
          "output_type": "display_data"
        }
      ]
    },
    {
      "cell_type": "code",
      "metadata": {
        "id": "2GgURzzLxejI",
        "outputId": "f3ae78c9-f5c9-4ab9-8874-624e55cb6337"
      },
      "source": [
        "xone_data['user_score'].corr(xone_data['total_sales'])"
      ],
      "execution_count": null,
      "outputs": [
        {
          "data": {
            "text/plain": [
              "-0.0703839280647581"
            ]
          },
          "execution_count": 41,
          "metadata": {},
          "output_type": "execute_result"
        }
      ]
    },
    {
      "cell_type": "code",
      "metadata": {
        "id": "04PZ3DRwxejI",
        "outputId": "956906ec-2a7e-4206-92aa-4f8c0aff6429"
      },
      "source": [
        "xone_data['critic_score'].corr(xone_data['total_sales'])"
      ],
      "execution_count": null,
      "outputs": [
        {
          "data": {
            "text/plain": [
              "0.42867694370333226"
            ]
          },
          "execution_count": 42,
          "metadata": {},
          "output_type": "execute_result"
        }
      ]
    },
    {
      "cell_type": "code",
      "metadata": {
        "id": "4sblmBY3xejI",
        "outputId": "cf0a83bf-aba7-4b7a-c1b6-4f9d79a5ff90"
      },
      "source": [
        "ds3_data.plot(x='user_score', y='total_sales', kind='scatter', c =\"red\", grid=True) \n",
        "plt.title(\"Зависимость продаж от оценок пользователей (3DS)\")"
      ],
      "execution_count": null,
      "outputs": [
        {
          "data": {
            "text/plain": [
              "Text(0.5, 1.0, 'Зависимость продаж от оценок пользователей (3DS)')"
            ]
          },
          "execution_count": 43,
          "metadata": {},
          "output_type": "execute_result"
        },
        {
          "data": {
            "image/png": "[encoded data removed]",
            "text/plain": [
              "<Figure size 432x288 with 1 Axes>"
            ]
          },
          "metadata": {
            "needs_background": "light"
          },
          "output_type": "display_data"
        }
      ]
    },
    {
      "cell_type": "code",
      "metadata": {
        "scrolled": true,
        "id": "LUEJQ6SUxejJ",
        "outputId": "855685b7-06b1-43b3-b1c1-19be739c8dbe"
      },
      "source": [
        "ds3_data.plot(x='critic_score', y='total_sales', kind='scatter', c =\"red\", grid=True) \n",
        "plt.title(\"Зависимость продаж от оценок критиков (3DS)\")"
      ],
      "execution_count": null,
      "outputs": [
        {
          "data": {
            "text/plain": [
              "Text(0.5, 1.0, 'Зависимость продаж от оценок критиков (3DS)')"
            ]
          },
          "execution_count": 44,
          "metadata": {},
          "output_type": "execute_result"
        },
        {
          "data": {
            "image/png": "[encoded data removed]",
            "text/plain": [
              "<Figure size 432x288 with 1 Axes>"
            ]
          },
          "metadata": {
            "needs_background": "light"
          },
          "output_type": "display_data"
        }
      ]
    },
    {
      "cell_type": "code",
      "metadata": {
        "id": "Q2zllIWqxejJ",
        "outputId": "61b6baed-07c6-47a1-84d3-f0e11830e9c5"
      },
      "source": [
        "ds3_data['user_score'].corr(ds3_data['total_sales'])"
      ],
      "execution_count": null,
      "outputs": [
        {
          "data": {
            "text/plain": [
              "0.2151932718527028"
            ]
          },
          "execution_count": 45,
          "metadata": {},
          "output_type": "execute_result"
        }
      ]
    },
    {
      "cell_type": "code",
      "metadata": {
        "id": "o_4_AprPxejJ",
        "outputId": "bf2ceca5-ef7b-4856-cf9b-51b6d1d9fa7a"
      },
      "source": [
        "ds3_data['critic_score'].corr(ds3_data['total_sales'])"
      ],
      "execution_count": null,
      "outputs": [
        {
          "data": {
            "text/plain": [
              "0.314117492869051"
            ]
          },
          "execution_count": 46,
          "metadata": {},
          "output_type": "execute_result"
        }
      ]
    },
    {
      "cell_type": "code",
      "metadata": {
        "scrolled": true,
        "id": "uZEQLuxuxejJ",
        "outputId": "a2391b9d-d8a1-4891-e392-022e392b198e"
      },
      "source": [
        "ps3_data.plot(x='user_score', y='total_sales', kind='scatter', c = \"grey\",grid=True) \n",
        "plt.title(\"Зависимость продаж от оценок пользователей (PS3)\")"
      ],
      "execution_count": null,
      "outputs": [
        {
          "data": {
            "text/plain": [
              "Text(0.5, 1.0, 'Зависимость продаж от оценок пользователей (PS3)')"
            ]
          },
          "execution_count": 47,
          "metadata": {},
          "output_type": "execute_result"
        },
        {
          "data": {
            "image/png": "[encoded data removed]",
            "text/plain": [
              "<Figure size 432x288 with 1 Axes>"
            ]
          },
          "metadata": {
            "needs_background": "light"
          },
          "output_type": "display_data"
        }
      ]
    },
    {
      "cell_type": "code",
      "metadata": {
        "id": "40unDMV6xejK",
        "outputId": "987e37b6-204c-4240-db94-2c2a76781bfd"
      },
      "source": [
        "ps3_data.plot(x='critic_score', y='total_sales', kind='scatter', c = \"grey\",grid=True) \n",
        "plt.title(\"Зависимость продаж от оценок критиков (PS3)\")"
      ],
      "execution_count": null,
      "outputs": [
        {
          "data": {
            "text/plain": [
              "Text(0.5, 1.0, 'Зависимость продаж от оценок критиков (PS3)')"
            ]
          },
          "execution_count": 48,
          "metadata": {},
          "output_type": "execute_result"
        },
        {
          "data": {
            "image/png": "[encoded data removed]",
            "text/plain": [
              "<Figure size 432x288 with 1 Axes>"
            ]
          },
          "metadata": {
            "needs_background": "light"
          },
          "output_type": "display_data"
        }
      ]
    },
    {
      "cell_type": "code",
      "metadata": {
        "id": "Y2pjDHBqxejK",
        "outputId": "7b7bb4d9-7081-4f5a-80ef-f7c529acfc73"
      },
      "source": [
        "ps3_data['user_score'].corr(ps3_data['total_sales'])"
      ],
      "execution_count": null,
      "outputs": [
        {
          "data": {
            "text/plain": [
              "-0.16676141347662118"
            ]
          },
          "execution_count": 49,
          "metadata": {},
          "output_type": "execute_result"
        }
      ]
    },
    {
      "cell_type": "code",
      "metadata": {
        "id": "z-KcRLdRxejK",
        "outputId": "28da2ff7-09ad-4cd9-a608-e37b9788eb2c"
      },
      "source": [
        "ps3_data['critic_score'].corr(ps3_data['total_sales'])"
      ],
      "execution_count": null,
      "outputs": [
        {
          "data": {
            "text/plain": [
              "0.44657460493190704"
            ]
          },
          "execution_count": 50,
          "metadata": {},
          "output_type": "execute_result"
        }
      ]
    },
    {
      "cell_type": "markdown",
      "metadata": {
        "id": "Y4bLdy3AxejL"
      },
      "source": [
        "Диаграммы по другим платформам также подтверждают, что продажи больше зависят от оценок критиков, чем пользователей, видим, что точки на графиках тянутся вверх вправо. Только на платформе 3DS коэффициент корреляции по оценкам пользователей больше чем на других платформах, но все равно меньше чем по оценкам критиков.\n",
        "\n",
        "Перейдем к жанрам игр. Рассмотрим их распределение и найдем самые прибыльные жанры."
      ]
    },
    {
      "cell_type": "code",
      "metadata": {
        "id": "eAyyjZu9xejL",
        "outputId": "f84e208e-779a-46e0-b05d-b6c40ce5851e"
      },
      "source": [
        "genres = actual_data.pivot_table(index = 'genre', values = 'total_sales', aggfunc = 'sum').sort_values(by = 'total_sales', ascending = False)\n",
        "genres"
      ],
      "execution_count": null,
      "outputs": [
        {
          "data": {
            "text/html": [
              "<div>\n",
              "<style scoped>\n",
              "    .dataframe tbody tr th:only-of-type {\n",
              "        vertical-align: middle;\n",
              "    }\n",
              "\n",
              "    .dataframe tbody tr th {\n",
              "        vertical-align: top;\n",
              "    }\n",
              "\n",
              "    .dataframe thead th {\n",
              "        text-align: right;\n",
              "    }\n",
              "</style>\n",
              "<table border=\"1\" class=\"dataframe\">\n",
              "  <thead>\n",
              "    <tr style=\"text-align: right;\">\n",
              "      <th></th>\n",
              "      <th>total_sales</th>\n",
              "    </tr>\n",
              "    <tr>\n",
              "      <th>genre</th>\n",
              "      <th></th>\n",
              "    </tr>\n",
              "  </thead>\n",
              "  <tbody>\n",
              "    <tr>\n",
              "      <td>Action</td>\n",
              "      <td>199.36</td>\n",
              "    </tr>\n",
              "    <tr>\n",
              "      <td>Shooter</td>\n",
              "      <td>170.94</td>\n",
              "    </tr>\n",
              "    <tr>\n",
              "      <td>Sports</td>\n",
              "      <td>109.48</td>\n",
              "    </tr>\n",
              "    <tr>\n",
              "      <td>Role-Playing</td>\n",
              "      <td>101.44</td>\n",
              "    </tr>\n",
              "    <tr>\n",
              "      <td>Misc</td>\n",
              "      <td>37.55</td>\n",
              "    </tr>\n",
              "    <tr>\n",
              "      <td>Fighting</td>\n",
              "      <td>28.22</td>\n",
              "    </tr>\n",
              "    <tr>\n",
              "      <td>Racing</td>\n",
              "      <td>27.52</td>\n",
              "    </tr>\n",
              "    <tr>\n",
              "      <td>Platform</td>\n",
              "      <td>18.09</td>\n",
              "    </tr>\n",
              "    <tr>\n",
              "      <td>Adventure</td>\n",
              "      <td>17.55</td>\n",
              "    </tr>\n",
              "    <tr>\n",
              "      <td>Simulation</td>\n",
              "      <td>13.13</td>\n",
              "    </tr>\n",
              "    <tr>\n",
              "      <td>Strategy</td>\n",
              "      <td>3.96</td>\n",
              "    </tr>\n",
              "    <tr>\n",
              "      <td>Puzzle</td>\n",
              "      <td>2.21</td>\n",
              "    </tr>\n",
              "  </tbody>\n",
              "</table>\n",
              "</div>"
            ],
            "text/plain": [
              "              total_sales\n",
              "genre                    \n",
              "Action             199.36\n",
              "Shooter            170.94\n",
              "Sports             109.48\n",
              "Role-Playing       101.44\n",
              "Misc                37.55\n",
              "Fighting            28.22\n",
              "Racing              27.52\n",
              "Platform            18.09\n",
              "Adventure           17.55\n",
              "Simulation          13.13\n",
              "Strategy             3.96\n",
              "Puzzle               2.21"
            ]
          },
          "execution_count": 51,
          "metadata": {},
          "output_type": "execute_result"
        }
      ]
    },
    {
      "cell_type": "code",
      "metadata": {
        "scrolled": true,
        "id": "_zQyRhc8xejL",
        "outputId": "b9cc8386-4f04-4353-b01b-e59fb3c155da"
      },
      "source": [
        "sns.barplot(y=genres.index, x=\"total_sales\", data=genres)\n",
        "plt.title(\"Распределение продаж по жанрам\")"
      ],
      "execution_count": null,
      "outputs": [
        {
          "data": {
            "text/plain": [
              "Text(0.5, 1.0, 'Распределение продаж по жанрам')"
            ]
          },
          "execution_count": 52,
          "metadata": {},
          "output_type": "execute_result"
        },
        {
          "data": {
            "image/png": "[encoded data removed]",
            "text/plain": [
              "<Figure size 432x288 with 1 Axes>"
            ]
          },
          "metadata": {
            "needs_background": "light"
          },
          "output_type": "display_data"
        }
      ]
    },
    {
      "cell_type": "code",
      "metadata": {
        "id": "tVfdlS_9xejM",
        "outputId": "95779bd0-d8db-42eb-a800-3f9dac461f47"
      },
      "source": [
        "sns.boxplot(y=\"genre\", x='total_sales', data=actual_data).set_title('Genres sales boxplot')\n",
        "plt.xlim(0, 2)"
      ],
      "execution_count": null,
      "outputs": [
        {
          "data": {
            "text/plain": [
              "(0, 2)"
            ]
          },
          "execution_count": 53,
          "metadata": {},
          "output_type": "execute_result"
        },
        {
          "data": {
            "image/png": "[encoded data removed]",
            "text/plain": [
              "<Figure size 432x288 with 1 Axes>"
            ]
          },
          "metadata": {
            "needs_background": "light"
          },
          "output_type": "display_data"
        }
      ]
    },
    {
      "cell_type": "markdown",
      "metadata": {
        "id": "EhHULfvFxejM"
      },
      "source": [
        "Из таблицы и графика видим, что самый прибыльный жанр за актуальный период - action, затем идет shooter, sports и role-playing. Из боксплота видим, что средняя цена за игру shooter выше, чем за все остальные.\n",
        "\n",
        "Наименее прибыльные жанры - puzzle, strategy и simulation."
      ]
    },
    {
      "cell_type": "markdown",
      "metadata": {
        "id": "-C67zhk_xejM"
      },
      "source": [
        "## Портрет пользователя каждого региона"
      ]
    },
    {
      "cell_type": "markdown",
      "metadata": {
        "id": "OBYFh-5qxejN"
      },
      "source": [
        "В данном шаге необходимо определить для пользователя каждого региона (NA, EU, JP):\n",
        "- самые популярные платформы (топ-5);\n",
        "- самые популярные жанры (топ-5);\n",
        "- влияние рейтинга ESRB на продажи в отдельном регионе."
      ]
    },
    {
      "cell_type": "code",
      "metadata": {
        "id": "1ctmvKgvxejN",
        "outputId": "07846ce0-3475-42ff-a64f-3f7620bacff6"
      },
      "source": [
        "actual_data.head()"
      ],
      "execution_count": null,
      "outputs": [
        {
          "data": {
            "text/html": [
              "<div>\n",
              "<style scoped>\n",
              "    .dataframe tbody tr th:only-of-type {\n",
              "        vertical-align: middle;\n",
              "    }\n",
              "\n",
              "    .dataframe tbody tr th {\n",
              "        vertical-align: top;\n",
              "    }\n",
              "\n",
              "    .dataframe thead th {\n",
              "        text-align: right;\n",
              "    }\n",
              "</style>\n",
              "<table border=\"1\" class=\"dataframe\">\n",
              "  <thead>\n",
              "    <tr style=\"text-align: right;\">\n",
              "      <th></th>\n",
              "      <th>name</th>\n",
              "      <th>platform</th>\n",
              "      <th>year_of_release</th>\n",
              "      <th>genre</th>\n",
              "      <th>na_sales</th>\n",
              "      <th>eu_sales</th>\n",
              "      <th>jp_sales</th>\n",
              "      <th>other_sales</th>\n",
              "      <th>critic_score</th>\n",
              "      <th>user_score</th>\n",
              "      <th>rating</th>\n",
              "      <th>total_sales</th>\n",
              "    </tr>\n",
              "  </thead>\n",
              "  <tbody>\n",
              "    <tr>\n",
              "      <td>31</td>\n",
              "      <td>Call of Duty: Black Ops 3</td>\n",
              "      <td>PS4</td>\n",
              "      <td>2015</td>\n",
              "      <td>Shooter</td>\n",
              "      <td>6.03</td>\n",
              "      <td>5.86</td>\n",
              "      <td>0.36</td>\n",
              "      <td>2.38</td>\n",
              "      <td>NaN</td>\n",
              "      <td>NaN</td>\n",
              "      <td>RP</td>\n",
              "      <td>14.63</td>\n",
              "    </tr>\n",
              "    <tr>\n",
              "      <td>42</td>\n",
              "      <td>Grand Theft Auto V</td>\n",
              "      <td>PS4</td>\n",
              "      <td>2014</td>\n",
              "      <td>Action</td>\n",
              "      <td>3.96</td>\n",
              "      <td>6.31</td>\n",
              "      <td>0.38</td>\n",
              "      <td>1.97</td>\n",
              "      <td>97.0</td>\n",
              "      <td>8.3</td>\n",
              "      <td>M</td>\n",
              "      <td>12.62</td>\n",
              "    </tr>\n",
              "    <tr>\n",
              "      <td>47</td>\n",
              "      <td>Pokemon Omega Ruby/Pokemon Alpha Sapphire</td>\n",
              "      <td>3DS</td>\n",
              "      <td>2014</td>\n",
              "      <td>Role-Playing</td>\n",
              "      <td>4.35</td>\n",
              "      <td>3.49</td>\n",
              "      <td>3.10</td>\n",
              "      <td>0.74</td>\n",
              "      <td>NaN</td>\n",
              "      <td>NaN</td>\n",
              "      <td>RP</td>\n",
              "      <td>11.68</td>\n",
              "    </tr>\n",
              "    <tr>\n",
              "      <td>77</td>\n",
              "      <td>FIFA 16</td>\n",
              "      <td>PS4</td>\n",
              "      <td>2015</td>\n",
              "      <td>Sports</td>\n",
              "      <td>1.12</td>\n",
              "      <td>6.12</td>\n",
              "      <td>0.06</td>\n",
              "      <td>1.28</td>\n",
              "      <td>82.0</td>\n",
              "      <td>4.3</td>\n",
              "      <td>E</td>\n",
              "      <td>8.58</td>\n",
              "    </tr>\n",
              "    <tr>\n",
              "      <td>87</td>\n",
              "      <td>Star Wars Battlefront (2015)</td>\n",
              "      <td>PS4</td>\n",
              "      <td>2015</td>\n",
              "      <td>Shooter</td>\n",
              "      <td>2.99</td>\n",
              "      <td>3.49</td>\n",
              "      <td>0.22</td>\n",
              "      <td>1.28</td>\n",
              "      <td>NaN</td>\n",
              "      <td>NaN</td>\n",
              "      <td>RP</td>\n",
              "      <td>7.98</td>\n",
              "    </tr>\n",
              "  </tbody>\n",
              "</table>\n",
              "</div>"
            ],
            "text/plain": [
              "                                         name platform  year_of_release  \\\n",
              "31                  Call of Duty: Black Ops 3      PS4             2015   \n",
              "42                         Grand Theft Auto V      PS4             2014   \n",
              "47  Pokemon Omega Ruby/Pokemon Alpha Sapphire      3DS             2014   \n",
              "77                                    FIFA 16      PS4             2015   \n",
              "87               Star Wars Battlefront (2015)      PS4             2015   \n",
              "\n",
              "           genre  na_sales  eu_sales  jp_sales  other_sales  critic_score  \\\n",
              "31       Shooter      6.03      5.86      0.36         2.38           NaN   \n",
              "42        Action      3.96      6.31      0.38         1.97          97.0   \n",
              "47  Role-Playing      4.35      3.49      3.10         0.74           NaN   \n",
              "77        Sports      1.12      6.12      0.06         1.28          82.0   \n",
              "87       Shooter      2.99      3.49      0.22         1.28           NaN   \n",
              "\n",
              "    user_score rating  total_sales  \n",
              "31         NaN     RP        14.63  \n",
              "42         8.3      M        12.62  \n",
              "47         NaN     RP        11.68  \n",
              "77         4.3      E         8.58  \n",
              "87         NaN     RP         7.98  "
            ]
          },
          "execution_count": 54,
          "metadata": {},
          "output_type": "execute_result"
        }
      ]
    },
    {
      "cell_type": "markdown",
      "metadata": {
        "id": "7TNTrEtkxejN"
      },
      "source": [
        "Построим сводные таблицы и графики для каждого региона и сделаем выводы."
      ]
    },
    {
      "cell_type": "code",
      "metadata": {
        "id": "FKEoaEAwxejN",
        "outputId": "5cab51e1-5089-4028-c022-9f108474adf4"
      },
      "source": [
        "na_pl = actual_data.pivot_table(index='platform',values='na_sales',aggfunc='sum').sort_values(by = 'na_sales', ascending = False)\n",
        "na_pl"
      ],
      "execution_count": null,
      "outputs": [
        {
          "data": {
            "text/html": [
              "<div>\n",
              "<style scoped>\n",
              "    .dataframe tbody tr th:only-of-type {\n",
              "        vertical-align: middle;\n",
              "    }\n",
              "\n",
              "    .dataframe tbody tr th {\n",
              "        vertical-align: top;\n",
              "    }\n",
              "\n",
              "    .dataframe thead th {\n",
              "        text-align: right;\n",
              "    }\n",
              "</style>\n",
              "<table border=\"1\" class=\"dataframe\">\n",
              "  <thead>\n",
              "    <tr style=\"text-align: right;\">\n",
              "      <th></th>\n",
              "      <th>na_sales</th>\n",
              "    </tr>\n",
              "    <tr>\n",
              "      <th>platform</th>\n",
              "      <th></th>\n",
              "    </tr>\n",
              "  </thead>\n",
              "  <tbody>\n",
              "    <tr>\n",
              "      <td>PS4</td>\n",
              "      <td>98.61</td>\n",
              "    </tr>\n",
              "    <tr>\n",
              "      <td>XOne</td>\n",
              "      <td>81.27</td>\n",
              "    </tr>\n",
              "    <tr>\n",
              "      <td>X360</td>\n",
              "      <td>28.30</td>\n",
              "    </tr>\n",
              "    <tr>\n",
              "      <td>3DS</td>\n",
              "      <td>22.64</td>\n",
              "    </tr>\n",
              "    <tr>\n",
              "      <td>PS3</td>\n",
              "      <td>22.05</td>\n",
              "    </tr>\n",
              "    <tr>\n",
              "      <td>WiiU</td>\n",
              "      <td>19.36</td>\n",
              "    </tr>\n",
              "    <tr>\n",
              "      <td>PC</td>\n",
              "      <td>7.23</td>\n",
              "    </tr>\n",
              "    <tr>\n",
              "      <td>PSV</td>\n",
              "      <td>2.52</td>\n",
              "    </tr>\n",
              "    <tr>\n",
              "      <td>Wii</td>\n",
              "      <td>2.08</td>\n",
              "    </tr>\n",
              "    <tr>\n",
              "      <td>PSP</td>\n",
              "      <td>0.00</td>\n",
              "    </tr>\n",
              "  </tbody>\n",
              "</table>\n",
              "</div>"
            ],
            "text/plain": [
              "          na_sales\n",
              "platform          \n",
              "PS4          98.61\n",
              "XOne         81.27\n",
              "X360         28.30\n",
              "3DS          22.64\n",
              "PS3          22.05\n",
              "WiiU         19.36\n",
              "PC            7.23\n",
              "PSV           2.52\n",
              "Wii           2.08\n",
              "PSP           0.00"
            ]
          },
          "execution_count": 55,
          "metadata": {},
          "output_type": "execute_result"
        }
      ]
    },
    {
      "cell_type": "code",
      "metadata": {
        "id": "3HI8l6QUxejN",
        "outputId": "9c497a9a-b2fe-415b-b87e-626b04d485d8"
      },
      "source": [
        "sns.barplot(y=na_pl.index, x=\"na_sales\", data=na_pl)\n",
        "plt.title(\"Распределение продаж по платформам в Северной Америке\")"
      ],
      "execution_count": null,
      "outputs": [
        {
          "data": {
            "text/plain": [
              "Text(0.5, 1.0, 'Распределение продаж по платформам в Северной Америке')"
            ]
          },
          "execution_count": 56,
          "metadata": {},
          "output_type": "execute_result"
        },
        {
          "data": {
            "image/png": "[encoded data removed]",
            "text/plain": [
              "<Figure size 432x288 with 1 Axes>"
            ]
          },
          "metadata": {
            "needs_background": "light"
          },
          "output_type": "display_data"
        }
      ]
    },
    {
      "cell_type": "code",
      "metadata": {
        "id": "L27GbuRaxejO",
        "outputId": "7cef307f-e1c1-4813-971d-dbed120a99a2"
      },
      "source": [
        "na_g = actual_data.pivot_table(index='genre',values='na_sales',aggfunc='sum').sort_values(by = 'na_sales', ascending = False)\n",
        "na_g"
      ],
      "execution_count": null,
      "outputs": [
        {
          "data": {
            "text/html": [
              "<div>\n",
              "<style scoped>\n",
              "    .dataframe tbody tr th:only-of-type {\n",
              "        vertical-align: middle;\n",
              "    }\n",
              "\n",
              "    .dataframe tbody tr th {\n",
              "        vertical-align: top;\n",
              "    }\n",
              "\n",
              "    .dataframe thead th {\n",
              "        text-align: right;\n",
              "    }\n",
              "</style>\n",
              "<table border=\"1\" class=\"dataframe\">\n",
              "  <thead>\n",
              "    <tr style=\"text-align: right;\">\n",
              "      <th></th>\n",
              "      <th>na_sales</th>\n",
              "    </tr>\n",
              "    <tr>\n",
              "      <th>genre</th>\n",
              "      <th></th>\n",
              "    </tr>\n",
              "  </thead>\n",
              "  <tbody>\n",
              "    <tr>\n",
              "      <td>Shooter</td>\n",
              "      <td>79.02</td>\n",
              "    </tr>\n",
              "    <tr>\n",
              "      <td>Action</td>\n",
              "      <td>72.53</td>\n",
              "    </tr>\n",
              "    <tr>\n",
              "      <td>Sports</td>\n",
              "      <td>46.13</td>\n",
              "    </tr>\n",
              "    <tr>\n",
              "      <td>Role-Playing</td>\n",
              "      <td>33.47</td>\n",
              "    </tr>\n",
              "    <tr>\n",
              "      <td>Misc</td>\n",
              "      <td>15.05</td>\n",
              "    </tr>\n",
              "    <tr>\n",
              "      <td>Fighting</td>\n",
              "      <td>12.43</td>\n",
              "    </tr>\n",
              "    <tr>\n",
              "      <td>Racing</td>\n",
              "      <td>8.74</td>\n",
              "    </tr>\n",
              "    <tr>\n",
              "      <td>Platform</td>\n",
              "      <td>6.79</td>\n",
              "    </tr>\n",
              "    <tr>\n",
              "      <td>Adventure</td>\n",
              "      <td>5.64</td>\n",
              "    </tr>\n",
              "    <tr>\n",
              "      <td>Simulation</td>\n",
              "      <td>2.63</td>\n",
              "    </tr>\n",
              "    <tr>\n",
              "      <td>Strategy</td>\n",
              "      <td>0.98</td>\n",
              "    </tr>\n",
              "    <tr>\n",
              "      <td>Puzzle</td>\n",
              "      <td>0.65</td>\n",
              "    </tr>\n",
              "  </tbody>\n",
              "</table>\n",
              "</div>"
            ],
            "text/plain": [
              "              na_sales\n",
              "genre                 \n",
              "Shooter          79.02\n",
              "Action           72.53\n",
              "Sports           46.13\n",
              "Role-Playing     33.47\n",
              "Misc             15.05\n",
              "Fighting         12.43\n",
              "Racing            8.74\n",
              "Platform          6.79\n",
              "Adventure         5.64\n",
              "Simulation        2.63\n",
              "Strategy          0.98\n",
              "Puzzle            0.65"
            ]
          },
          "execution_count": 57,
          "metadata": {},
          "output_type": "execute_result"
        }
      ]
    },
    {
      "cell_type": "code",
      "metadata": {
        "id": "lTyU8TNDxejO",
        "outputId": "69350cfc-7740-40c5-db00-d30b7b9f33aa"
      },
      "source": [
        "sns.barplot(y=na_g.index, x=\"na_sales\", data=na_g)\n",
        "plt.title(\"Распределение продаж по жанрам в Северной Америке\")"
      ],
      "execution_count": null,
      "outputs": [
        {
          "data": {
            "text/plain": [
              "Text(0.5, 1.0, 'Распределение продаж по жанрам в Северной Америке')"
            ]
          },
          "execution_count": 58,
          "metadata": {},
          "output_type": "execute_result"
        },
        {
          "data": {
            "image/png": "[encoded data removed]",
            "text/plain": [
              "<Figure size 432x288 with 1 Axes>"
            ]
          },
          "metadata": {
            "needs_background": "light"
          },
          "output_type": "display_data"
        }
      ]
    },
    {
      "cell_type": "code",
      "metadata": {
        "id": "iN73rI_rxejO",
        "outputId": "5533011d-60c5-485f-b07b-9cb0d43d5676"
      },
      "source": [
        "na_rating = actual_data.pivot_table(index='rating',values='na_sales',aggfunc='sum').sort_values(by = 'na_sales', ascending = False)\n",
        "na_rating"
      ],
      "execution_count": null,
      "outputs": [
        {
          "data": {
            "text/html": [
              "<div>\n",
              "<style scoped>\n",
              "    .dataframe tbody tr th:only-of-type {\n",
              "        vertical-align: middle;\n",
              "    }\n",
              "\n",
              "    .dataframe tbody tr th {\n",
              "        vertical-align: top;\n",
              "    }\n",
              "\n",
              "    .dataframe thead th {\n",
              "        text-align: right;\n",
              "    }\n",
              "</style>\n",
              "<table border=\"1\" class=\"dataframe\">\n",
              "  <thead>\n",
              "    <tr style=\"text-align: right;\">\n",
              "      <th></th>\n",
              "      <th>na_sales</th>\n",
              "    </tr>\n",
              "    <tr>\n",
              "      <th>rating</th>\n",
              "      <th></th>\n",
              "    </tr>\n",
              "  </thead>\n",
              "  <tbody>\n",
              "    <tr>\n",
              "      <td>M</td>\n",
              "      <td>96.42</td>\n",
              "    </tr>\n",
              "    <tr>\n",
              "      <td>RP</td>\n",
              "      <td>64.72</td>\n",
              "    </tr>\n",
              "    <tr>\n",
              "      <td>E</td>\n",
              "      <td>50.74</td>\n",
              "    </tr>\n",
              "    <tr>\n",
              "      <td>T</td>\n",
              "      <td>38.95</td>\n",
              "    </tr>\n",
              "    <tr>\n",
              "      <td>E10+</td>\n",
              "      <td>33.23</td>\n",
              "    </tr>\n",
              "  </tbody>\n",
              "</table>\n",
              "</div>"
            ],
            "text/plain": [
              "        na_sales\n",
              "rating          \n",
              "M          96.42\n",
              "RP         64.72\n",
              "E          50.74\n",
              "T          38.95\n",
              "E10+       33.23"
            ]
          },
          "execution_count": 59,
          "metadata": {},
          "output_type": "execute_result"
        }
      ]
    },
    {
      "cell_type": "code",
      "metadata": {
        "id": "gc0jwUHaxejO",
        "outputId": "60888aa3-da51-460c-93ad-53fe3be7f2d5"
      },
      "source": [
        "sns.barplot(y=na_rating.index, x=\"na_sales\", data=na_rating)\n",
        "plt.title(\"Распределение продаж по рейтингу ESRB в Северной Америке\")"
      ],
      "execution_count": null,
      "outputs": [
        {
          "data": {
            "text/plain": [
              "Text(0.5, 1.0, 'Распределение продаж по рейтингу ESRB в Северной Америке')"
            ]
          },
          "execution_count": 60,
          "metadata": {},
          "output_type": "execute_result"
        },
        {
          "data": {
            "image/png": "[encoded data removed]",
            "text/plain": [
              "<Figure size 432x288 with 1 Axes>"
            ]
          },
          "metadata": {
            "needs_background": "light"
          },
          "output_type": "display_data"
        }
      ]
    },
    {
      "cell_type": "code",
      "metadata": {
        "id": "kQNHbZiQxejP",
        "outputId": "0865421d-d643-46a1-a4e5-804a227474d2"
      },
      "source": [
        "eu_pl = actual_data.pivot_table(index='platform',values='eu_sales',aggfunc='sum').sort_values(by = 'eu_sales', ascending = False)\n",
        "eu_pl"
      ],
      "execution_count": null,
      "outputs": [
        {
          "data": {
            "text/html": [
              "<div>\n",
              "<style scoped>\n",
              "    .dataframe tbody tr th:only-of-type {\n",
              "        vertical-align: middle;\n",
              "    }\n",
              "\n",
              "    .dataframe tbody tr th {\n",
              "        vertical-align: top;\n",
              "    }\n",
              "\n",
              "    .dataframe thead th {\n",
              "        text-align: right;\n",
              "    }\n",
              "</style>\n",
              "<table border=\"1\" class=\"dataframe\">\n",
              "  <thead>\n",
              "    <tr style=\"text-align: right;\">\n",
              "      <th></th>\n",
              "      <th>eu_sales</th>\n",
              "    </tr>\n",
              "    <tr>\n",
              "      <th>platform</th>\n",
              "      <th></th>\n",
              "    </tr>\n",
              "  </thead>\n",
              "  <tbody>\n",
              "    <tr>\n",
              "      <td>PS4</td>\n",
              "      <td>130.04</td>\n",
              "    </tr>\n",
              "    <tr>\n",
              "      <td>XOne</td>\n",
              "      <td>46.25</td>\n",
              "    </tr>\n",
              "    <tr>\n",
              "      <td>PS3</td>\n",
              "      <td>25.54</td>\n",
              "    </tr>\n",
              "    <tr>\n",
              "      <td>PC</td>\n",
              "      <td>17.97</td>\n",
              "    </tr>\n",
              "    <tr>\n",
              "      <td>3DS</td>\n",
              "      <td>16.12</td>\n",
              "    </tr>\n",
              "    <tr>\n",
              "      <td>X360</td>\n",
              "      <td>15.49</td>\n",
              "    </tr>\n",
              "    <tr>\n",
              "      <td>WiiU</td>\n",
              "      <td>13.15</td>\n",
              "    </tr>\n",
              "    <tr>\n",
              "      <td>PSV</td>\n",
              "      <td>3.53</td>\n",
              "    </tr>\n",
              "    <tr>\n",
              "      <td>Wii</td>\n",
              "      <td>2.59</td>\n",
              "    </tr>\n",
              "    <tr>\n",
              "      <td>PSP</td>\n",
              "      <td>0.00</td>\n",
              "    </tr>\n",
              "  </tbody>\n",
              "</table>\n",
              "</div>"
            ],
            "text/plain": [
              "          eu_sales\n",
              "platform          \n",
              "PS4         130.04\n",
              "XOne         46.25\n",
              "PS3          25.54\n",
              "PC           17.97\n",
              "3DS          16.12\n",
              "X360         15.49\n",
              "WiiU         13.15\n",
              "PSV           3.53\n",
              "Wii           2.59\n",
              "PSP           0.00"
            ]
          },
          "execution_count": 61,
          "metadata": {},
          "output_type": "execute_result"
        }
      ]
    },
    {
      "cell_type": "code",
      "metadata": {
        "id": "VNls79sfxejP",
        "outputId": "200d01e7-8bed-417b-ff18-f8ae138c33e3"
      },
      "source": [
        "sns.barplot(y=eu_pl.index, x=\"eu_sales\", data=eu_pl)\n",
        "plt.title(\"Распределение продаж по платформам в Европе\")"
      ],
      "execution_count": null,
      "outputs": [
        {
          "data": {
            "text/plain": [
              "Text(0.5, 1.0, 'Распределение продаж по платформам в Европе')"
            ]
          },
          "execution_count": 62,
          "metadata": {},
          "output_type": "execute_result"
        },
        {
          "data": {
            "image/png": "[encoded data removed]",
            "text/plain": [
              "<Figure size 432x288 with 1 Axes>"
            ]
          },
          "metadata": {
            "needs_background": "light"
          },
          "output_type": "display_data"
        }
      ]
    },
    {
      "cell_type": "code",
      "metadata": {
        "id": "wz9lnQytxejP",
        "outputId": "0dc4c26a-80bb-48f9-9af0-f98c9a872e82"
      },
      "source": [
        "eu_g = actual_data.pivot_table(index='genre',values='eu_sales',aggfunc='sum').sort_values(by = 'eu_sales', ascending = False)\n",
        "eu_g"
      ],
      "execution_count": null,
      "outputs": [
        {
          "data": {
            "text/html": [
              "<div>\n",
              "<style scoped>\n",
              "    .dataframe tbody tr th:only-of-type {\n",
              "        vertical-align: middle;\n",
              "    }\n",
              "\n",
              "    .dataframe tbody tr th {\n",
              "        vertical-align: top;\n",
              "    }\n",
              "\n",
              "    .dataframe thead th {\n",
              "        text-align: right;\n",
              "    }\n",
              "</style>\n",
              "<table border=\"1\" class=\"dataframe\">\n",
              "  <thead>\n",
              "    <tr style=\"text-align: right;\">\n",
              "      <th></th>\n",
              "      <th>eu_sales</th>\n",
              "    </tr>\n",
              "    <tr>\n",
              "      <th>genre</th>\n",
              "      <th></th>\n",
              "    </tr>\n",
              "  </thead>\n",
              "  <tbody>\n",
              "    <tr>\n",
              "      <td>Action</td>\n",
              "      <td>74.68</td>\n",
              "    </tr>\n",
              "    <tr>\n",
              "      <td>Shooter</td>\n",
              "      <td>65.52</td>\n",
              "    </tr>\n",
              "    <tr>\n",
              "      <td>Sports</td>\n",
              "      <td>45.73</td>\n",
              "    </tr>\n",
              "    <tr>\n",
              "      <td>Role-Playing</td>\n",
              "      <td>28.17</td>\n",
              "    </tr>\n",
              "    <tr>\n",
              "      <td>Racing</td>\n",
              "      <td>14.13</td>\n",
              "    </tr>\n",
              "    <tr>\n",
              "      <td>Misc</td>\n",
              "      <td>12.86</td>\n",
              "    </tr>\n",
              "    <tr>\n",
              "      <td>Simulation</td>\n",
              "      <td>7.30</td>\n",
              "    </tr>\n",
              "    <tr>\n",
              "      <td>Platform</td>\n",
              "      <td>6.80</td>\n",
              "    </tr>\n",
              "    <tr>\n",
              "      <td>Fighting</td>\n",
              "      <td>6.69</td>\n",
              "    </tr>\n",
              "    <tr>\n",
              "      <td>Adventure</td>\n",
              "      <td>6.49</td>\n",
              "    </tr>\n",
              "    <tr>\n",
              "      <td>Strategy</td>\n",
              "      <td>1.79</td>\n",
              "    </tr>\n",
              "    <tr>\n",
              "      <td>Puzzle</td>\n",
              "      <td>0.52</td>\n",
              "    </tr>\n",
              "  </tbody>\n",
              "</table>\n",
              "</div>"
            ],
            "text/plain": [
              "              eu_sales\n",
              "genre                 \n",
              "Action           74.68\n",
              "Shooter          65.52\n",
              "Sports           45.73\n",
              "Role-Playing     28.17\n",
              "Racing           14.13\n",
              "Misc             12.86\n",
              "Simulation        7.30\n",
              "Platform          6.80\n",
              "Fighting          6.69\n",
              "Adventure         6.49\n",
              "Strategy          1.79\n",
              "Puzzle            0.52"
            ]
          },
          "execution_count": 63,
          "metadata": {},
          "output_type": "execute_result"
        }
      ]
    },
    {
      "cell_type": "code",
      "metadata": {
        "id": "c4mq2eMkxejQ",
        "outputId": "4b01174b-643b-488e-c8d9-bc70da7bcb2a"
      },
      "source": [
        "sns.barplot(y=eu_g.index, x=\"eu_sales\", data=eu_g)\n",
        "plt.title(\"Распределение продаж по жанрам в Европе\")"
      ],
      "execution_count": null,
      "outputs": [
        {
          "data": {
            "text/plain": [
              "Text(0.5, 1.0, 'Распределение продаж по жанрам в Европе')"
            ]
          },
          "execution_count": 64,
          "metadata": {},
          "output_type": "execute_result"
        },
        {
          "data": {
            "image/png": "[encoded data removed]",
            "text/plain": [
              "<Figure size 432x288 with 1 Axes>"
            ]
          },
          "metadata": {
            "needs_background": "light"
          },
          "output_type": "display_data"
        }
      ]
    },
    {
      "cell_type": "code",
      "metadata": {
        "id": "RuE_TlFfxejQ",
        "outputId": "9ec31f91-575f-4927-af6b-a0d2669c43e7"
      },
      "source": [
        "eu_rating = actual_data.pivot_table(index='rating',values='eu_sales',aggfunc='sum').sort_values(by = 'eu_sales', ascending = False)\n",
        "eu_rating"
      ],
      "execution_count": null,
      "outputs": [
        {
          "data": {
            "text/html": [
              "<div>\n",
              "<style scoped>\n",
              "    .dataframe tbody tr th:only-of-type {\n",
              "        vertical-align: middle;\n",
              "    }\n",
              "\n",
              "    .dataframe tbody tr th {\n",
              "        vertical-align: top;\n",
              "    }\n",
              "\n",
              "    .dataframe thead th {\n",
              "        text-align: right;\n",
              "    }\n",
              "</style>\n",
              "<table border=\"1\" class=\"dataframe\">\n",
              "  <thead>\n",
              "    <tr style=\"text-align: right;\">\n",
              "      <th></th>\n",
              "      <th>eu_sales</th>\n",
              "    </tr>\n",
              "    <tr>\n",
              "      <th>rating</th>\n",
              "      <th></th>\n",
              "    </tr>\n",
              "  </thead>\n",
              "  <tbody>\n",
              "    <tr>\n",
              "      <td>M</td>\n",
              "      <td>93.44</td>\n",
              "    </tr>\n",
              "    <tr>\n",
              "      <td>RP</td>\n",
              "      <td>58.95</td>\n",
              "    </tr>\n",
              "    <tr>\n",
              "      <td>E</td>\n",
              "      <td>58.06</td>\n",
              "    </tr>\n",
              "    <tr>\n",
              "      <td>T</td>\n",
              "      <td>34.07</td>\n",
              "    </tr>\n",
              "    <tr>\n",
              "      <td>E10+</td>\n",
              "      <td>26.16</td>\n",
              "    </tr>\n",
              "  </tbody>\n",
              "</table>\n",
              "</div>"
            ],
            "text/plain": [
              "        eu_sales\n",
              "rating          \n",
              "M          93.44\n",
              "RP         58.95\n",
              "E          58.06\n",
              "T          34.07\n",
              "E10+       26.16"
            ]
          },
          "execution_count": 65,
          "metadata": {},
          "output_type": "execute_result"
        }
      ]
    },
    {
      "cell_type": "code",
      "metadata": {
        "id": "i3UEwiNIxejQ",
        "outputId": "bcffb1e4-4090-4c74-d9bf-050767a1e75a"
      },
      "source": [
        "sns.barplot(y=eu_rating.index, x=\"eu_sales\", data=eu_rating)\n",
        "plt.title(\"Распределение продаж по рейтингу ESRB в Европе\")"
      ],
      "execution_count": null,
      "outputs": [
        {
          "data": {
            "text/plain": [
              "Text(0.5, 1.0, 'Распределение продаж по рейтингу ESRB в Европе')"
            ]
          },
          "execution_count": 66,
          "metadata": {},
          "output_type": "execute_result"
        },
        {
          "data": {
            "image/png": "[encoded data removed]",
            "text/plain": [
              "<Figure size 432x288 with 1 Axes>"
            ]
          },
          "metadata": {
            "needs_background": "light"
          },
          "output_type": "display_data"
        }
      ]
    },
    {
      "cell_type": "code",
      "metadata": {
        "id": "W97RM4R1xejQ",
        "outputId": "0306048f-1f8a-44d7-b81e-fecb81f4c667"
      },
      "source": [
        "jp_pl = actual_data.pivot_table(index='platform',values='jp_sales',aggfunc='sum').sort_values(by = 'jp_sales', ascending = False)\n",
        "jp_pl"
      ],
      "execution_count": null,
      "outputs": [
        {
          "data": {
            "text/html": [
              "<div>\n",
              "<style scoped>\n",
              "    .dataframe tbody tr th:only-of-type {\n",
              "        vertical-align: middle;\n",
              "    }\n",
              "\n",
              "    .dataframe tbody tr th {\n",
              "        vertical-align: top;\n",
              "    }\n",
              "\n",
              "    .dataframe thead th {\n",
              "        text-align: right;\n",
              "    }\n",
              "</style>\n",
              "<table border=\"1\" class=\"dataframe\">\n",
              "  <thead>\n",
              "    <tr style=\"text-align: right;\">\n",
              "      <th></th>\n",
              "      <th>jp_sales</th>\n",
              "    </tr>\n",
              "    <tr>\n",
              "      <th>platform</th>\n",
              "      <th></th>\n",
              "    </tr>\n",
              "  </thead>\n",
              "  <tbody>\n",
              "    <tr>\n",
              "      <td>3DS</td>\n",
              "      <td>44.24</td>\n",
              "    </tr>\n",
              "    <tr>\n",
              "      <td>PS4</td>\n",
              "      <td>15.02</td>\n",
              "    </tr>\n",
              "    <tr>\n",
              "      <td>PSV</td>\n",
              "      <td>14.54</td>\n",
              "    </tr>\n",
              "    <tr>\n",
              "      <td>PS3</td>\n",
              "      <td>11.22</td>\n",
              "    </tr>\n",
              "    <tr>\n",
              "      <td>WiiU</td>\n",
              "      <td>7.31</td>\n",
              "    </tr>\n",
              "    <tr>\n",
              "      <td>PSP</td>\n",
              "      <td>0.36</td>\n",
              "    </tr>\n",
              "    <tr>\n",
              "      <td>XOne</td>\n",
              "      <td>0.32</td>\n",
              "    </tr>\n",
              "    <tr>\n",
              "      <td>X360</td>\n",
              "      <td>0.08</td>\n",
              "    </tr>\n",
              "    <tr>\n",
              "      <td>PC</td>\n",
              "      <td>0.00</td>\n",
              "    </tr>\n",
              "    <tr>\n",
              "      <td>Wii</td>\n",
              "      <td>0.00</td>\n",
              "    </tr>\n",
              "  </tbody>\n",
              "</table>\n",
              "</div>"
            ],
            "text/plain": [
              "          jp_sales\n",
              "platform          \n",
              "3DS          44.24\n",
              "PS4          15.02\n",
              "PSV          14.54\n",
              "PS3          11.22\n",
              "WiiU          7.31\n",
              "PSP           0.36\n",
              "XOne          0.32\n",
              "X360          0.08\n",
              "PC            0.00\n",
              "Wii           0.00"
            ]
          },
          "execution_count": 67,
          "metadata": {},
          "output_type": "execute_result"
        }
      ]
    },
    {
      "cell_type": "code",
      "metadata": {
        "id": "YVAkS6UOxejR",
        "outputId": "c15a1338-8021-4680-f2a0-326ef080b5f0"
      },
      "source": [
        "sns.barplot(y=jp_pl.index, x=\"jp_sales\", data=jp_pl)\n",
        "plt.title(\"Распределение продаж по платформам в Японии\")"
      ],
      "execution_count": null,
      "outputs": [
        {
          "data": {
            "text/plain": [
              "Text(0.5, 1.0, 'Распределение продаж по платформам в Японии')"
            ]
          },
          "execution_count": 68,
          "metadata": {},
          "output_type": "execute_result"
        },
        {
          "data": {
            "image/png": "[encoded data removed]",
            "text/plain": [
              "<Figure size 432x288 with 1 Axes>"
            ]
          },
          "metadata": {
            "needs_background": "light"
          },
          "output_type": "display_data"
        }
      ]
    },
    {
      "cell_type": "code",
      "metadata": {
        "id": "TctVvMeyxejR",
        "outputId": "af801d25-6d21-4de8-d851-d5829c3e38f8"
      },
      "source": [
        "jp_g = actual_data.pivot_table(index='genre',values='jp_sales',aggfunc='sum').sort_values(by = 'jp_sales', ascending = False)\n",
        "jp_g"
      ],
      "execution_count": null,
      "outputs": [
        {
          "data": {
            "text/html": [
              "<div>\n",
              "<style scoped>\n",
              "    .dataframe tbody tr th:only-of-type {\n",
              "        vertical-align: middle;\n",
              "    }\n",
              "\n",
              "    .dataframe tbody tr th {\n",
              "        vertical-align: top;\n",
              "    }\n",
              "\n",
              "    .dataframe thead th {\n",
              "        text-align: right;\n",
              "    }\n",
              "</style>\n",
              "<table border=\"1\" class=\"dataframe\">\n",
              "  <thead>\n",
              "    <tr style=\"text-align: right;\">\n",
              "      <th></th>\n",
              "      <th>jp_sales</th>\n",
              "    </tr>\n",
              "    <tr>\n",
              "      <th>genre</th>\n",
              "      <th></th>\n",
              "    </tr>\n",
              "  </thead>\n",
              "  <tbody>\n",
              "    <tr>\n",
              "      <td>Role-Playing</td>\n",
              "      <td>31.16</td>\n",
              "    </tr>\n",
              "    <tr>\n",
              "      <td>Action</td>\n",
              "      <td>29.58</td>\n",
              "    </tr>\n",
              "    <tr>\n",
              "      <td>Fighting</td>\n",
              "      <td>6.37</td>\n",
              "    </tr>\n",
              "    <tr>\n",
              "      <td>Misc</td>\n",
              "      <td>5.61</td>\n",
              "    </tr>\n",
              "    <tr>\n",
              "      <td>Shooter</td>\n",
              "      <td>4.87</td>\n",
              "    </tr>\n",
              "    <tr>\n",
              "      <td>Adventure</td>\n",
              "      <td>3.60</td>\n",
              "    </tr>\n",
              "    <tr>\n",
              "      <td>Sports</td>\n",
              "      <td>3.26</td>\n",
              "    </tr>\n",
              "    <tr>\n",
              "      <td>Platform</td>\n",
              "      <td>2.69</td>\n",
              "    </tr>\n",
              "    <tr>\n",
              "      <td>Simulation</td>\n",
              "      <td>2.31</td>\n",
              "    </tr>\n",
              "    <tr>\n",
              "      <td>Racing</td>\n",
              "      <td>1.76</td>\n",
              "    </tr>\n",
              "    <tr>\n",
              "      <td>Strategy</td>\n",
              "      <td>0.95</td>\n",
              "    </tr>\n",
              "    <tr>\n",
              "      <td>Puzzle</td>\n",
              "      <td>0.93</td>\n",
              "    </tr>\n",
              "  </tbody>\n",
              "</table>\n",
              "</div>"
            ],
            "text/plain": [
              "              jp_sales\n",
              "genre                 \n",
              "Role-Playing     31.16\n",
              "Action           29.58\n",
              "Fighting          6.37\n",
              "Misc              5.61\n",
              "Shooter           4.87\n",
              "Adventure         3.60\n",
              "Sports            3.26\n",
              "Platform          2.69\n",
              "Simulation        2.31\n",
              "Racing            1.76\n",
              "Strategy          0.95\n",
              "Puzzle            0.93"
            ]
          },
          "execution_count": 69,
          "metadata": {},
          "output_type": "execute_result"
        }
      ]
    },
    {
      "cell_type": "code",
      "metadata": {
        "id": "yByJmBW7xejR",
        "outputId": "d2ed4ee0-caab-44b9-e1e6-3e08c145e86f"
      },
      "source": [
        "sns.barplot(y=jp_g.index, x=\"jp_sales\", data=jp_g)\n",
        "plt.title(\"Распределение продаж по жанрам в Японии\")"
      ],
      "execution_count": null,
      "outputs": [
        {
          "data": {
            "text/plain": [
              "Text(0.5, 1.0, 'Распределение продаж по жанрам в Японии')"
            ]
          },
          "execution_count": 70,
          "metadata": {},
          "output_type": "execute_result"
        },
        {
          "data": {
            "image/png": "[encoded data removed]",
            "text/plain": [
              "<Figure size 432x288 with 1 Axes>"
            ]
          },
          "metadata": {
            "needs_background": "light"
          },
          "output_type": "display_data"
        }
      ]
    },
    {
      "cell_type": "code",
      "metadata": {
        "id": "CVerb1A8xejR",
        "outputId": "d121044f-f2a6-4c4a-8724-2f346589a909"
      },
      "source": [
        "jp_rating = actual_data.pivot_table(index='rating',values='jp_sales',aggfunc='sum').sort_values(by = 'jp_sales', ascending = False)\n",
        "jp_rating"
      ],
      "execution_count": null,
      "outputs": [
        {
          "data": {
            "text/html": [
              "<div>\n",
              "<style scoped>\n",
              "    .dataframe tbody tr th:only-of-type {\n",
              "        vertical-align: middle;\n",
              "    }\n",
              "\n",
              "    .dataframe tbody tr th {\n",
              "        vertical-align: top;\n",
              "    }\n",
              "\n",
              "    .dataframe thead th {\n",
              "        text-align: right;\n",
              "    }\n",
              "</style>\n",
              "<table border=\"1\" class=\"dataframe\">\n",
              "  <thead>\n",
              "    <tr style=\"text-align: right;\">\n",
              "      <th></th>\n",
              "      <th>jp_sales</th>\n",
              "    </tr>\n",
              "    <tr>\n",
              "      <th>rating</th>\n",
              "      <th></th>\n",
              "    </tr>\n",
              "  </thead>\n",
              "  <tbody>\n",
              "    <tr>\n",
              "      <td>RP</td>\n",
              "      <td>56.90</td>\n",
              "    </tr>\n",
              "    <tr>\n",
              "      <td>T</td>\n",
              "      <td>14.78</td>\n",
              "    </tr>\n",
              "    <tr>\n",
              "      <td>E</td>\n",
              "      <td>8.94</td>\n",
              "    </tr>\n",
              "    <tr>\n",
              "      <td>M</td>\n",
              "      <td>8.01</td>\n",
              "    </tr>\n",
              "    <tr>\n",
              "      <td>E10+</td>\n",
              "      <td>4.46</td>\n",
              "    </tr>\n",
              "  </tbody>\n",
              "</table>\n",
              "</div>"
            ],
            "text/plain": [
              "        jp_sales\n",
              "rating          \n",
              "RP         56.90\n",
              "T          14.78\n",
              "E           8.94\n",
              "M           8.01\n",
              "E10+        4.46"
            ]
          },
          "execution_count": 71,
          "metadata": {},
          "output_type": "execute_result"
        }
      ]
    },
    {
      "cell_type": "code",
      "metadata": {
        "id": "Ru9z4vZlxejR",
        "outputId": "87d55606-d492-46e2-d081-299da32b3f98"
      },
      "source": [
        "sns.barplot(y=jp_rating.index, x=\"jp_sales\", data=jp_rating)\n",
        "plt.title(\"Распределение продаж по рейтингу ESRB в Японии\")"
      ],
      "execution_count": null,
      "outputs": [
        {
          "data": {
            "text/plain": [
              "Text(0.5, 1.0, 'Распределение продаж по рейтингу ESRB в Японии')"
            ]
          },
          "execution_count": 72,
          "metadata": {},
          "output_type": "execute_result"
        },
        {
          "data": {
            "image/png": "[encoded data removed]",
            "text/plain": [
              "<Figure size 432x288 with 1 Axes>"
            ]
          },
          "metadata": {
            "needs_background": "light"
          },
          "output_type": "display_data"
        }
      ]
    },
    {
      "cell_type": "markdown",
      "metadata": {
        "id": "TEukXR3QxejR"
      },
      "source": [
        "Из полученных таблиц и графиков сделаем вывод по кажому региону и сравним их.\n",
        "\n",
        "**Северная Америка**:\n",
        "- *Топ-5 платформ*: PS4, XOne, X360, 3DS, PS3\n",
        "- *Топ-5 жанров*: Shooter, Action, Sports, Role-Playing, Misc\n",
        "- *Рейтинг*: M, RP, E, T, E10+\n",
        "\n",
        "**Европа**:\n",
        "- *Топ-5 платформ*: PS4, XOne, PS3, PC, 3DS\t\n",
        "- *Топ-5 жанров*: Action, Shooter, Sports, Role-Playing, Racing\t\n",
        "- *Рейтинг*: M, RP, E, T, E10+\n",
        "\n",
        "**Япония**:\n",
        "- *Топ-5 платформ*: 3DS, PS4, PSV, PS3, WiiU\t\n",
        "- *Топ-5 жанров*: Role-Playing, Action, Fighting, Misc, Shooter\n",
        "- *Рейтинг*: RP, T, E, M, E10+\t\n",
        "\n",
        "Можем видеть, что в Северной Америке лидирует PS4, затем идут XBox, Nintendo и PS3. В то время как в Японии лидирует японский Nintendo 3DS и приставки PlayStation от японской компании Sony.\n",
        "\n",
        "В Европе лидируют лидеры схожи на Северную Америку, но также есть PC и нет Xbox 360.\n",
        "\n",
        "Топ-5 жанров в Северной Америке и Европе схожи: *Action, Shooter, Sports, Role-Playing* и отличаются только последней строчкой, *Misc* и *Racing* соответственно. В Японии список лидирует жанр *Role-Playing*, также в отличии от других есть жанр *Fighting*.\n",
        "\n",
        "Рассматривая возрастной рейтинг, в Северной Америке и Европе большую часть продаж составляют игры рейтинга M (Mature 17+) и E (Everyone), не включая пропущенные значения, включенные в рейтинг RP (Rating Pending), в то время как в Японии большую часть составляет рейтинг RP, то есть по данным из Японии в столбце с рейтингом были преимущественно пропуски, затем следует рейтинг T (Teen) и E (Everyone). Пятерку во всех трех регионах закрывает рейтинг E10+ (Everyone 10+)."
      ]
    },
    {
      "cell_type": "markdown",
      "metadata": {
        "id": "usQMqPxexejS"
      },
      "source": [
        "## Проверка гипотез"
      ]
    },
    {
      "cell_type": "markdown",
      "metadata": {
        "id": "URozE0pexejS"
      },
      "source": [
        "В данном шаге нужно проверить гипотезы:\n",
        "- Средние пользовательские рейтинги платформ Xbox One и PC одинаковые.\n",
        "- Средние пользовательские рейтинги жанров Action (англ. «действие», экшен-игры) и Sports (англ. «спортивные соревнования») разные.\n",
        "\n",
        "Начнём с формулировки **нулевой гипотезы H₀** (она всегда должна содержать в себе равенство): *средние пользовательские рейтинги платформ Xbox One равны пользовательским рейтингам платформы PC*.\n",
        "\n",
        "**Альтернативная гипотеза H₁**: *средние пользовательские рейтинги платформ Xbox One и PC различаются*."
      ]
    },
    {
      "cell_type": "code",
      "metadata": {
        "id": "ZxSS0OZcxejS"
      },
      "source": [
        "xone = actual_data.query('platform == \"XOne\"')['user_score']\n",
        "pc = actual_data.query('platform == \"PC\"')['user_score']"
      ],
      "execution_count": null,
      "outputs": []
    },
    {
      "cell_type": "markdown",
      "metadata": {
        "id": "TvNKF_RexejS"
      },
      "source": [
        "Чтобы определить критический уровень статистической значимости alpha, проверим количество единиц в выборках."
      ]
    },
    {
      "cell_type": "code",
      "metadata": {
        "id": "PW3DHqh3xejT",
        "outputId": "cabfd4e4-43db-4eec-97a2-e84e71d18971"
      },
      "source": [
        "len(xone)"
      ],
      "execution_count": null,
      "outputs": [
        {
          "data": {
            "text/plain": [
              "228"
            ]
          },
          "execution_count": 84,
          "metadata": {},
          "output_type": "execute_result"
        }
      ]
    },
    {
      "cell_type": "code",
      "metadata": {
        "id": "28MCcGGUxejT",
        "outputId": "3aab8229-317c-4cbe-9e62-30955d40d556"
      },
      "source": [
        "len(pc)"
      ],
      "execution_count": null,
      "outputs": [
        {
          "data": {
            "text/plain": [
              "151"
            ]
          },
          "execution_count": 85,
          "metadata": {},
          "output_type": "execute_result"
        }
      ]
    },
    {
      "cell_type": "markdown",
      "metadata": {
        "id": "B-tvUHuwxejT"
      },
      "source": [
        "В наших выборках меньше 1000 единиц, поэтому возьмем уровень значимости alpha равным 0.01."
      ]
    },
    {
      "cell_type": "code",
      "metadata": {
        "id": "SBZAXys_xejT",
        "outputId": "87acf48c-2925-47bc-8676-e9fa72978590"
      },
      "source": [
        "alpha = 0.01\n",
        "\n",
        "results = st.ttest_ind (xone, pc, nan_policy='omit', equal_var=False)\n",
        "\n",
        "print('p-значение:', results.pvalue)\n",
        "\n",
        "if results.pvalue < alpha:\n",
        "    print('Отвергаем нулевую гипотезу')\n",
        "else:\n",
        "    print('Не получилось отвергнуть нулевую гипотезу')"
      ],
      "execution_count": null,
      "outputs": [
        {
          "name": "stdout",
          "output_type": "stream",
          "text": [
            "p-значение: 0.11601398086668985\n",
            "Не получилось отвергнуть нулевую гипотезу\n"
          ]
        }
      ]
    },
    {
      "cell_type": "markdown",
      "metadata": {
        "id": "ybJAAD-jxejT"
      },
      "source": [
        "При проверке видим, что нулевая гипотеза не была опровергнута, то есть средние пользовательские рейтинги платформ Xbox One и PC равны. Сделаем расчеты, чтобы наглядно увидеть средние значения."
      ]
    },
    {
      "cell_type": "code",
      "metadata": {
        "id": "5no0OiSFxejU",
        "outputId": "9bf6ac02-c029-4a69-cda8-dbaa4b9c6d3f"
      },
      "source": [
        "median_user_score = actual_data.query('platform == [\"XOne\",\"PC\"]').pivot_table(index='platform', values=['user_score'], aggfunc='median')\n",
        "median_user_score"
      ],
      "execution_count": null,
      "outputs": [
        {
          "data": {
            "text/html": [
              "<div>\n",
              "<style scoped>\n",
              "    .dataframe tbody tr th:only-of-type {\n",
              "        vertical-align: middle;\n",
              "    }\n",
              "\n",
              "    .dataframe tbody tr th {\n",
              "        vertical-align: top;\n",
              "    }\n",
              "\n",
              "    .dataframe thead th {\n",
              "        text-align: right;\n",
              "    }\n",
              "</style>\n",
              "<table border=\"1\" class=\"dataframe\">\n",
              "  <thead>\n",
              "    <tr style=\"text-align: right;\">\n",
              "      <th></th>\n",
              "      <th>user_score</th>\n",
              "    </tr>\n",
              "    <tr>\n",
              "      <th>platform</th>\n",
              "      <th></th>\n",
              "    </tr>\n",
              "  </thead>\n",
              "  <tbody>\n",
              "    <tr>\n",
              "      <td>PC</td>\n",
              "      <td>6.8</td>\n",
              "    </tr>\n",
              "    <tr>\n",
              "      <td>XOne</td>\n",
              "      <td>6.8</td>\n",
              "    </tr>\n",
              "  </tbody>\n",
              "</table>\n",
              "</div>"
            ],
            "text/plain": [
              "          user_score\n",
              "platform            \n",
              "PC               6.8\n",
              "XOne             6.8"
            ]
          },
          "execution_count": 87,
          "metadata": {},
          "output_type": "execute_result"
        }
      ]
    },
    {
      "cell_type": "markdown",
      "metadata": {
        "id": "Gz59xls8xejU"
      },
      "source": [
        "Исходя из таблицы можно уверенно сказать, что средние пользовательские рейтинги двух платформ равны 6.8.\n",
        "\n",
        "Перейдем к проверке второй гипотезы.\n",
        "\n",
        "**Нулевая гипотеза H₀**: *средние пользовательские рейтинги жанров Action и Sports равны*.\n",
        "\n",
        "**Альтернативная гипотеза H₁**: *средние пользовательские рейтинги жанров Action и Sports различны*.\n",
        "\n",
        "Чтобы определить критический уровень статистической значимости alpha, проверим также количество единиц в выборках."
      ]
    },
    {
      "cell_type": "code",
      "metadata": {
        "id": "iME-0hZPxejU"
      },
      "source": [
        "action = actual_data.query('genre == \"Action\"')['user_score']\n",
        "sports = actual_data.query('genre == \"Sports\"')['user_score']"
      ],
      "execution_count": null,
      "outputs": []
    },
    {
      "cell_type": "code",
      "metadata": {
        "id": "cf1xOk_YxejU",
        "outputId": "bedb2717-f74f-4d7a-b03c-e7ce2f72af55"
      },
      "source": [
        "len(action)"
      ],
      "execution_count": null,
      "outputs": [
        {
          "data": {
            "text/plain": [
              "619"
            ]
          },
          "execution_count": 89,
          "metadata": {},
          "output_type": "execute_result"
        }
      ]
    },
    {
      "cell_type": "code",
      "metadata": {
        "id": "hma6HAcdxejU",
        "outputId": "01e38d8b-e41a-4b46-e2d9-4f3e8ab467d0"
      },
      "source": [
        "len(sports)"
      ],
      "execution_count": null,
      "outputs": [
        {
          "data": {
            "text/plain": [
              "161"
            ]
          },
          "execution_count": 90,
          "metadata": {},
          "output_type": "execute_result"
        }
      ]
    },
    {
      "cell_type": "markdown",
      "metadata": {
        "id": "kz9u8HaTxejU"
      },
      "source": [
        "В наших выборках меньше 1000 единиц, поэтому чтобы уверенно отвергнуть нулевую гипотезу возьмем уровень значимости alpha равным 0.01."
      ]
    },
    {
      "cell_type": "code",
      "metadata": {
        "id": "q30euMaYxejU",
        "outputId": "3c575b26-372e-45ce-afb2-15163a7bbf61"
      },
      "source": [
        "alpha = 0.01\n",
        "\n",
        "results = st.ttest_ind (action, sports, nan_policy='omit', equal_var=False)\n",
        "\n",
        "print('p-значение:', results.pvalue)\n",
        "\n",
        "if results.pvalue < alpha:\n",
        "    print('Отвергаем нулевую гипотезу')\n",
        "else:\n",
        "    print('Не получилось отвергнуть нулевую гипотезу')"
      ],
      "execution_count": null,
      "outputs": [
        {
          "name": "stdout",
          "output_type": "stream",
          "text": [
            "p-значение: 1.1825550382644845e-14\n",
            "Отвергаем нулевую гипотезу\n"
          ]
        }
      ]
    },
    {
      "cell_type": "markdown",
      "metadata": {
        "id": "kxGlhFsVxejV"
      },
      "source": [
        "При проверке видим, что нулевая гипотеза была опровергнута, то есть средние пользовательские рейтинги жанров Action и Sports различны. Сделаем расчеты, чтобы наглядно увидеть средние значения."
      ]
    },
    {
      "cell_type": "code",
      "metadata": {
        "id": "eRmbm62hxejV",
        "outputId": "c4dfa3d1-6e33-498b-c065-ddfa8ce43604"
      },
      "source": [
        "median_user_score1 = actual_data.query('genre == [\"Action\",\"Sports\"]').pivot_table(index='genre', values=['user_score'], aggfunc='median')\n",
        "median_user_score1"
      ],
      "execution_count": null,
      "outputs": [
        {
          "data": {
            "text/html": [
              "<div>\n",
              "<style scoped>\n",
              "    .dataframe tbody tr th:only-of-type {\n",
              "        vertical-align: middle;\n",
              "    }\n",
              "\n",
              "    .dataframe tbody tr th {\n",
              "        vertical-align: top;\n",
              "    }\n",
              "\n",
              "    .dataframe thead th {\n",
              "        text-align: right;\n",
              "    }\n",
              "</style>\n",
              "<table border=\"1\" class=\"dataframe\">\n",
              "  <thead>\n",
              "    <tr style=\"text-align: right;\">\n",
              "      <th></th>\n",
              "      <th>user_score</th>\n",
              "    </tr>\n",
              "    <tr>\n",
              "      <th>genre</th>\n",
              "      <th></th>\n",
              "    </tr>\n",
              "  </thead>\n",
              "  <tbody>\n",
              "    <tr>\n",
              "      <td>Action</td>\n",
              "      <td>7.1</td>\n",
              "    </tr>\n",
              "    <tr>\n",
              "      <td>Sports</td>\n",
              "      <td>5.5</td>\n",
              "    </tr>\n",
              "  </tbody>\n",
              "</table>\n",
              "</div>"
            ],
            "text/plain": [
              "        user_score\n",
              "genre             \n",
              "Action         7.1\n",
              "Sports         5.5"
            ]
          },
          "execution_count": 92,
          "metadata": {},
          "output_type": "execute_result"
        }
      ]
    },
    {
      "cell_type": "markdown",
      "metadata": {
        "id": "E_jp1E64xejV"
      },
      "source": [
        "Из таблицы видим, что пользовательские рейтинги двух жанров равны 7.1 и 5.5."
      ]
    },
    {
      "cell_type": "markdown",
      "metadata": {
        "id": "bNt_UNaJxejV"
      },
      "source": [
        "## Общий вывод"
      ]
    },
    {
      "cell_type": "markdown",
      "metadata": {
        "id": "KfasTK-HxejV"
      },
      "source": [
        "В данном проекте нужно было найти параметры, которые определяют успешность игры. Были проанализированы данные до 2016 года, чтобы спрогнозировать продажи на 2017 год и помочь спланировать рекламные кампании. \n",
        "\n",
        "Просуммируем полученные выводы:\n",
        "- Самое большое число игр было выпущено в 2008 и 2009 году, 1427 и 1426 соответственно.\n",
        "- Наибольшие продажи за все время были на шести платформах: PS2, X360, PS3, Wii, DS, PS.\n",
        "- Средний жизненный цикл платформы составляет 5 лет, поэтому актуальный период был выбран 2011-2016.\n",
        "- В актуальный период лидерами по продажам являются платформы PS3, X360, PS4 и 3DS.\n",
        "- Есть зависимость общего количества продаж от оценок критиков. Проанализировав лидирующие платформы в актуальный период, коэффициент корреляции равен 0.34-0.40.\n",
        "- Самый прибыльный жанр за актуальный период - action, затем идут shooter, role-playing и sports. Наименее прибыльные жанры - puzzle, strategy и adventure.\n",
        "- Были составлены портреты пользователей каждого региона, пользователи в Северной Америке и Европе схожи по выбору платформ, жанров и возрастному рейтингу. В Японии используются только японские платформы и жанры отличаются от других регионов.\n",
        "- Были проведены проверки гипотез и получены результаты: средние пользовательские рейтинги платформ Xbox One и PC различаются и средние пользовательские рейтинги жанров Action и Sports равны."
      ]
    }
  ]
}