{
  "nbformat": 4,
  "nbformat_minor": 0,
  "metadata": {
    "ExecuteTimeLog": [
      {
        "duration": 1272,
        "start_time": "2021-06-27T06:51:34.687Z"
      },
      {
        "duration": 22,
        "start_time": "2021-06-27T06:51:53.500Z"
      },
      {
        "duration": 23,
        "start_time": "2021-06-27T06:52:11.641Z"
      },
      {
        "duration": 10,
        "start_time": "2021-06-27T06:53:11.118Z"
      },
      {
        "duration": 29,
        "start_time": "2021-06-27T06:53:21.025Z"
      },
      {
        "duration": 11,
        "start_time": "2021-06-27T07:30:55.763Z"
      },
      {
        "duration": 48,
        "start_time": "2021-06-27T07:45:19.198Z"
      },
      {
        "duration": 1317,
        "start_time": "2021-06-27T07:45:24.368Z"
      },
      {
        "duration": 22,
        "start_time": "2021-06-27T07:45:25.688Z"
      },
      {
        "duration": 28,
        "start_time": "2021-06-27T07:45:25.712Z"
      },
      {
        "duration": 18,
        "start_time": "2021-06-27T07:45:25.742Z"
      },
      {
        "duration": 5,
        "start_time": "2021-06-27T07:49:47.538Z"
      },
      {
        "duration": 5,
        "start_time": "2021-06-27T07:54:32.302Z"
      },
      {
        "duration": 24,
        "start_time": "2021-06-27T07:54:41.040Z"
      },
      {
        "duration": 1343,
        "start_time": "2021-06-27T08:59:53.048Z"
      },
      {
        "duration": 26,
        "start_time": "2021-06-27T08:59:54.394Z"
      },
      {
        "duration": 41,
        "start_time": "2021-06-27T08:59:54.424Z"
      },
      {
        "duration": 12,
        "start_time": "2021-06-27T08:59:54.468Z"
      },
      {
        "duration": 6,
        "start_time": "2021-06-27T08:59:54.483Z"
      },
      {
        "duration": 28,
        "start_time": "2021-06-27T08:59:54.492Z"
      },
      {
        "duration": 404,
        "start_time": "2021-06-27T08:59:54.523Z"
      },
      {
        "duration": 5,
        "start_time": "2021-06-27T09:00:54.096Z"
      },
      {
        "duration": 9,
        "start_time": "2021-06-27T09:00:55.991Z"
      },
      {
        "duration": 5,
        "start_time": "2021-06-27T09:04:00.540Z"
      },
      {
        "duration": 5,
        "start_time": "2021-06-27T09:04:56.745Z"
      },
      {
        "duration": 89,
        "start_time": "2021-06-27T09:05:31.067Z"
      },
      {
        "duration": 5,
        "start_time": "2021-06-27T09:05:37.706Z"
      },
      {
        "duration": 7,
        "start_time": "2021-06-27T09:05:45.441Z"
      },
      {
        "duration": 7,
        "start_time": "2021-06-27T09:07:13.823Z"
      },
      {
        "duration": 9,
        "start_time": "2021-06-27T09:08:03.192Z"
      },
      {
        "duration": 8,
        "start_time": "2021-06-27T09:08:10.304Z"
      },
      {
        "duration": 6,
        "start_time": "2021-06-27T09:19:40.975Z"
      },
      {
        "duration": 7,
        "start_time": "2021-06-27T09:25:03.425Z"
      },
      {
        "duration": 7,
        "start_time": "2021-06-27T09:29:51.258Z"
      },
      {
        "duration": 35,
        "start_time": "2021-06-27T09:31:27.543Z"
      },
      {
        "duration": 69,
        "start_time": "2021-06-27T09:31:45.424Z"
      },
      {
        "duration": 123,
        "start_time": "2021-06-27T09:31:49.937Z"
      },
      {
        "duration": 16,
        "start_time": "2021-06-27T09:31:53.637Z"
      },
      {
        "duration": 22,
        "start_time": "2021-06-27T09:31:57.046Z"
      },
      {
        "duration": 27,
        "start_time": "2021-06-27T09:31:59.326Z"
      },
      {
        "duration": 37,
        "start_time": "2021-06-27T09:32:01.372Z"
      },
      {
        "duration": 41,
        "start_time": "2021-06-27T09:32:03.687Z"
      },
      {
        "duration": 50,
        "start_time": "2021-06-27T09:32:07.545Z"
      },
      {
        "duration": 55,
        "start_time": "2021-06-27T09:32:10.873Z"
      },
      {
        "duration": 28,
        "start_time": "2021-06-27T09:32:13.393Z"
      },
      {
        "duration": 34,
        "start_time": "2021-06-27T09:32:15.964Z"
      },
      {
        "duration": 7,
        "start_time": "2021-06-27T09:34:20.476Z"
      },
      {
        "duration": 7,
        "start_time": "2021-06-27T09:34:26.693Z"
      },
      {
        "duration": 41,
        "start_time": "2021-06-27T09:35:26.703Z"
      },
      {
        "duration": 67,
        "start_time": "2021-06-27T09:35:33.982Z"
      },
      {
        "duration": 35,
        "start_time": "2021-06-27T09:35:38.863Z"
      },
      {
        "duration": 36,
        "start_time": "2021-06-27T09:37:56.471Z"
      },
      {
        "duration": 5,
        "start_time": "2021-06-27T09:38:02.886Z"
      },
      {
        "duration": 34,
        "start_time": "2021-06-27T09:38:43.341Z"
      },
      {
        "duration": 41,
        "start_time": "2021-06-27T09:38:47.480Z"
      },
      {
        "duration": 34,
        "start_time": "2021-06-27T09:38:51.119Z"
      },
      {
        "duration": 342,
        "start_time": "2021-06-28T14:51:19.487Z"
      },
      {
        "duration": 1378,
        "start_time": "2021-06-28T14:51:28.133Z"
      },
      {
        "duration": 24,
        "start_time": "2021-06-28T14:51:29.514Z"
      },
      {
        "duration": 28,
        "start_time": "2021-06-28T14:51:29.542Z"
      },
      {
        "duration": 8,
        "start_time": "2021-06-28T14:51:29.573Z"
      },
      {
        "duration": 17,
        "start_time": "2021-06-28T14:51:29.583Z"
      },
      {
        "duration": 23,
        "start_time": "2021-06-28T14:51:29.603Z"
      },
      {
        "duration": 38,
        "start_time": "2021-06-28T14:51:29.628Z"
      },
      {
        "duration": 4,
        "start_time": "2021-06-28T14:51:29.669Z"
      },
      {
        "duration": 1284,
        "start_time": "2021-06-28T15:43:14.563Z"
      },
      {
        "duration": 23,
        "start_time": "2021-06-28T15:43:15.850Z"
      },
      {
        "duration": 38,
        "start_time": "2021-06-28T15:43:15.876Z"
      },
      {
        "duration": 11,
        "start_time": "2021-06-28T15:43:15.917Z"
      },
      {
        "duration": 23,
        "start_time": "2021-06-28T15:43:15.930Z"
      },
      {
        "duration": 18,
        "start_time": "2021-06-28T15:43:15.955Z"
      },
      {
        "duration": 54,
        "start_time": "2021-06-28T15:43:15.975Z"
      },
      {
        "duration": 5,
        "start_time": "2021-06-28T15:43:16.032Z"
      },
      {
        "duration": 5,
        "start_time": "2021-06-28T15:45:53.090Z"
      },
      {
        "duration": 323,
        "start_time": "2021-06-28T15:50:06.540Z"
      },
      {
        "duration": 341,
        "start_time": "2021-06-28T15:50:18.711Z"
      },
      {
        "duration": 10303,
        "start_time": "2021-06-28T15:50:40.149Z"
      },
      {
        "duration": 287,
        "start_time": "2021-06-28T15:52:32.607Z"
      },
      {
        "duration": 328,
        "start_time": "2021-06-28T15:52:36.837Z"
      },
      {
        "duration": 409,
        "start_time": "2021-06-28T15:52:43.798Z"
      },
      {
        "duration": 271,
        "start_time": "2021-06-28T15:52:51.171Z"
      },
      {
        "duration": 6472,
        "start_time": "2021-06-28T15:53:02.958Z"
      },
      {
        "duration": 25576,
        "start_time": "2021-06-28T15:53:20.714Z"
      },
      {
        "duration": 12855,
        "start_time": "2021-06-28T15:53:55.802Z"
      },
      {
        "duration": 1285,
        "start_time": "2021-06-28T16:00:51.758Z"
      },
      {
        "duration": 21,
        "start_time": "2021-06-28T16:00:53.046Z"
      },
      {
        "duration": 32,
        "start_time": "2021-06-28T16:00:53.070Z"
      },
      {
        "duration": 19,
        "start_time": "2021-06-28T16:00:53.105Z"
      },
      {
        "duration": 5,
        "start_time": "2021-06-28T16:00:53.126Z"
      },
      {
        "duration": 8,
        "start_time": "2021-06-28T16:00:53.133Z"
      },
      {
        "duration": 38,
        "start_time": "2021-06-28T16:00:53.144Z"
      },
      {
        "duration": 4868,
        "start_time": "2021-06-28T16:00:53.185Z"
      },
      {
        "duration": 5,
        "start_time": "2021-06-28T16:00:58.057Z"
      },
      {
        "duration": 37142,
        "start_time": "2021-06-28T16:01:05.084Z"
      },
      {
        "duration": 45623,
        "start_time": "2021-06-28T16:15:10.166Z"
      },
      {
        "duration": 439,
        "start_time": "2021-06-28T16:16:48.175Z"
      },
      {
        "duration": 59463,
        "start_time": "2021-06-28T16:16:59.154Z"
      },
      {
        "duration": 810,
        "start_time": "2021-06-28T16:25:55.431Z"
      },
      {
        "duration": 45169,
        "start_time": "2021-06-28T16:26:12.555Z"
      },
      {
        "duration": 1004,
        "start_time": "2021-07-04T11:27:28.037Z"
      },
      {
        "duration": 17,
        "start_time": "2021-07-04T11:27:29.043Z"
      },
      {
        "duration": 19,
        "start_time": "2021-07-04T11:27:29.062Z"
      },
      {
        "duration": 5,
        "start_time": "2021-07-04T11:27:29.082Z"
      },
      {
        "duration": 11,
        "start_time": "2021-07-04T11:27:29.089Z"
      },
      {
        "duration": 11,
        "start_time": "2021-07-04T11:27:29.101Z"
      },
      {
        "duration": 27,
        "start_time": "2021-07-04T11:27:29.113Z"
      },
      {
        "duration": 29050,
        "start_time": "2021-07-04T11:27:29.141Z"
      },
      {
        "duration": 4,
        "start_time": "2021-07-04T11:27:58.193Z"
      },
      {
        "duration": 7046,
        "start_time": "2021-07-04T11:28:29.788Z"
      },
      {
        "duration": 1281,
        "start_time": "2021-07-04T11:28:46.540Z"
      },
      {
        "duration": 675,
        "start_time": "2021-07-04T11:28:57.838Z"
      },
      {
        "duration": 6281,
        "start_time": "2021-07-04T11:29:04.364Z"
      },
      {
        "duration": 12197,
        "start_time": "2021-07-04T11:29:26.153Z"
      },
      {
        "duration": 29106,
        "start_time": "2021-07-04T11:29:49.158Z"
      },
      {
        "duration": 6248,
        "start_time": "2021-07-04T11:31:21.798Z"
      },
      {
        "duration": 3091,
        "start_time": "2021-07-04T11:31:38.985Z"
      },
      {
        "duration": 2507,
        "start_time": "2021-07-04T11:31:50.364Z"
      },
      {
        "duration": 1874,
        "start_time": "2021-07-04T11:32:01.453Z"
      },
      {
        "duration": 1228,
        "start_time": "2021-07-04T11:32:06.356Z"
      },
      {
        "duration": 618,
        "start_time": "2021-07-04T11:32:33.653Z"
      },
      {
        "duration": 4,
        "start_time": "2021-07-04T11:32:39.938Z"
      },
      {
        "duration": 609,
        "start_time": "2021-07-04T11:32:43.812Z"
      },
      {
        "duration": 619,
        "start_time": "2021-07-04T11:32:51.521Z"
      },
      {
        "duration": 3089,
        "start_time": "2021-07-04T11:33:00.330Z"
      },
      {
        "duration": 212,
        "start_time": "2021-07-04T16:54:09.307Z"
      },
      {
        "duration": 1019,
        "start_time": "2021-07-04T16:54:21.600Z"
      },
      {
        "duration": 18,
        "start_time": "2021-07-04T16:54:22.621Z"
      },
      {
        "duration": 18,
        "start_time": "2021-07-04T16:54:22.641Z"
      },
      {
        "duration": 6,
        "start_time": "2021-07-04T16:54:22.661Z"
      },
      {
        "duration": 16,
        "start_time": "2021-07-04T16:54:22.669Z"
      },
      {
        "duration": 5,
        "start_time": "2021-07-04T16:54:22.687Z"
      },
      {
        "duration": 25,
        "start_time": "2021-07-04T16:54:22.694Z"
      },
      {
        "duration": 21924,
        "start_time": "2021-07-04T16:54:22.721Z"
      },
      {
        "duration": 4,
        "start_time": "2021-07-04T16:54:44.646Z"
      },
      {
        "duration": 8,
        "start_time": "2021-07-04T16:54:44.651Z"
      },
      {
        "duration": 5054,
        "start_time": "2021-07-04T16:55:04.655Z"
      },
      {
        "duration": 7636,
        "start_time": "2021-07-04T16:55:17.926Z"
      },
      {
        "duration": 21790,
        "start_time": "2021-07-04T16:55:56.118Z"
      },
      {
        "duration": 5068,
        "start_time": "2021-07-04T16:56:25.398Z"
      },
      {
        "duration": 9530,
        "start_time": "2021-07-04T16:56:39.399Z"
      },
      {
        "duration": 4639,
        "start_time": "2021-07-04T16:56:52.483Z"
      },
      {
        "duration": 2404,
        "start_time": "2021-07-04T16:57:21.116Z"
      },
      {
        "duration": 2508,
        "start_time": "2021-07-04T16:57:32.732Z"
      },
      {
        "duration": 499,
        "start_time": "2021-07-04T16:57:46.146Z"
      },
      {
        "duration": 948,
        "start_time": "2021-07-04T16:57:50.840Z"
      },
      {
        "duration": 1426,
        "start_time": "2021-07-04T16:57:56.770Z"
      },
      {
        "duration": 1397,
        "start_time": "2021-07-04T16:58:06.768Z"
      },
      {
        "duration": 2039,
        "start_time": "2021-07-04T16:58:14.105Z"
      },
      {
        "duration": 1011,
        "start_time": "2021-07-04T16:58:22.658Z"
      },
      {
        "duration": 507,
        "start_time": "2021-07-04T16:58:27.615Z"
      },
      {
        "duration": 474,
        "start_time": "2021-07-04T16:58:41.163Z"
      },
      {
        "duration": 488,
        "start_time": "2021-07-04T16:58:45.967Z"
      },
      {
        "duration": 485,
        "start_time": "2021-07-04T16:58:57.517Z"
      },
      {
        "duration": 10,
        "start_time": "2021-07-04T17:37:17.072Z"
      },
      {
        "duration": 1030,
        "start_time": "2021-07-04T18:34:33.049Z"
      },
      {
        "duration": 20,
        "start_time": "2021-07-04T18:34:34.081Z"
      },
      {
        "duration": 20,
        "start_time": "2021-07-04T18:34:34.104Z"
      },
      {
        "duration": 7,
        "start_time": "2021-07-04T18:34:34.126Z"
      },
      {
        "duration": 5,
        "start_time": "2021-07-04T18:34:34.134Z"
      },
      {
        "duration": 9,
        "start_time": "2021-07-04T18:34:34.141Z"
      },
      {
        "duration": 44,
        "start_time": "2021-07-04T18:34:34.152Z"
      },
      {
        "duration": 553,
        "start_time": "2021-07-04T18:34:34.198Z"
      },
      {
        "duration": 59,
        "start_time": "2021-07-04T18:34:34.753Z"
      },
      {
        "duration": -58,
        "start_time": "2021-07-04T18:34:34.872Z"
      },
      {
        "duration": 60,
        "start_time": "2021-07-04T18:40:04.664Z"
      },
      {
        "duration": 53,
        "start_time": "2021-07-04T18:40:30.529Z"
      },
      {
        "duration": 23,
        "start_time": "2021-07-04T18:40:41.628Z"
      },
      {
        "duration": 427,
        "start_time": "2021-07-04T18:40:50.060Z"
      },
      {
        "duration": 24,
        "start_time": "2021-07-04T18:40:56.203Z"
      },
      {
        "duration": 16,
        "start_time": "2021-07-04T19:06:08.738Z"
      },
      {
        "duration": 1385,
        "start_time": "2021-07-05T07:46:43.534Z"
      },
      {
        "duration": 94,
        "start_time": "2021-07-05T07:46:44.921Z"
      },
      {
        "duration": 31,
        "start_time": "2021-07-05T07:46:45.019Z"
      },
      {
        "duration": 11,
        "start_time": "2021-07-05T07:46:45.055Z"
      },
      {
        "duration": 6,
        "start_time": "2021-07-05T07:46:45.069Z"
      },
      {
        "duration": 8,
        "start_time": "2021-07-05T07:46:45.078Z"
      },
      {
        "duration": 39,
        "start_time": "2021-07-05T07:46:45.089Z"
      },
      {
        "duration": 755,
        "start_time": "2021-07-05T07:46:45.165Z"
      },
      {
        "duration": 260845,
        "start_time": "2021-07-05T07:46:45.922Z"
      },
      {
        "duration": 91,
        "start_time": "2021-07-05T07:51:06.771Z"
      },
      {
        "duration": 1446,
        "start_time": "2021-07-26T17:11:25.482Z"
      },
      {
        "duration": 21,
        "start_time": "2021-07-26T17:11:26.931Z"
      },
      {
        "duration": 36,
        "start_time": "2021-07-26T17:11:26.955Z"
      },
      {
        "duration": 10,
        "start_time": "2021-07-26T17:11:26.994Z"
      },
      {
        "duration": 8,
        "start_time": "2021-07-26T17:11:27.006Z"
      },
      {
        "duration": 7,
        "start_time": "2021-07-26T17:11:27.016Z"
      },
      {
        "duration": 73,
        "start_time": "2021-07-26T17:11:27.026Z"
      },
      {
        "duration": 889,
        "start_time": "2021-07-26T17:11:27.101Z"
      },
      {
        "duration": 551,
        "start_time": "2021-07-26T17:11:27.994Z"
      },
      {
        "duration": -89,
        "start_time": "2021-07-26T17:11:28.637Z"
      },
      {
        "duration": 422,
        "start_time": "2021-07-26T17:22:32.554Z"
      },
      {
        "duration": 448,
        "start_time": "2021-07-26T17:23:36.800Z"
      },
      {
        "duration": 455,
        "start_time": "2021-07-26T17:27:20.034Z"
      },
      {
        "duration": 386,
        "start_time": "2021-07-26T17:27:29.197Z"
      },
      {
        "duration": 430,
        "start_time": "2021-07-26T17:27:32.953Z"
      },
      {
        "duration": 1417,
        "start_time": "2021-08-28T08:56:55.908Z"
      },
      {
        "duration": 20,
        "start_time": "2021-08-28T08:56:57.328Z"
      },
      {
        "duration": 40,
        "start_time": "2021-08-28T08:56:57.351Z"
      },
      {
        "duration": 11,
        "start_time": "2021-08-28T08:56:57.395Z"
      },
      {
        "duration": 9,
        "start_time": "2021-08-28T08:56:57.409Z"
      },
      {
        "duration": 20,
        "start_time": "2021-08-28T08:56:57.421Z"
      },
      {
        "duration": 53,
        "start_time": "2021-08-28T08:56:57.444Z"
      },
      {
        "duration": 1092,
        "start_time": "2021-08-28T08:56:57.502Z"
      },
      {
        "duration": 4,
        "start_time": "2021-08-28T08:56:58.597Z"
      },
      {
        "duration": 12,
        "start_time": "2021-08-28T08:56:58.604Z"
      },
      {
        "duration": 124,
        "start_time": "2021-08-28T10:09:10.243Z"
      },
      {
        "duration": 508,
        "start_time": "2021-08-28T10:09:35.103Z"
      },
      {
        "duration": 4,
        "start_time": "2021-08-28T10:10:32.657Z"
      },
      {
        "duration": 4,
        "start_time": "2021-08-28T10:10:39.137Z"
      },
      {
        "duration": 3,
        "start_time": "2021-08-28T10:11:03.490Z"
      },
      {
        "duration": 4,
        "start_time": "2021-08-28T10:14:16.218Z"
      },
      {
        "duration": 405,
        "start_time": "2021-08-28T10:17:33.390Z"
      },
      {
        "duration": 416,
        "start_time": "2021-08-28T10:17:52.966Z"
      },
      {
        "duration": 398,
        "start_time": "2021-08-28T10:18:09.793Z"
      },
      {
        "duration": 1475,
        "start_time": "2021-08-28T10:18:43.958Z"
      },
      {
        "duration": 22,
        "start_time": "2021-08-28T10:18:45.435Z"
      },
      {
        "duration": 33,
        "start_time": "2021-08-28T10:18:45.459Z"
      },
      {
        "duration": 9,
        "start_time": "2021-08-28T10:18:45.495Z"
      },
      {
        "duration": 7,
        "start_time": "2021-08-28T10:18:45.507Z"
      },
      {
        "duration": 9,
        "start_time": "2021-08-28T10:18:45.516Z"
      },
      {
        "duration": 67,
        "start_time": "2021-08-28T10:18:45.527Z"
      },
      {
        "duration": 709,
        "start_time": "2021-08-28T10:18:45.597Z"
      },
      {
        "duration": 3,
        "start_time": "2021-08-28T10:18:46.310Z"
      },
      {
        "duration": 11,
        "start_time": "2021-08-28T10:18:46.316Z"
      },
      {
        "duration": 16,
        "start_time": "2021-08-28T10:18:46.329Z"
      },
      {
        "duration": 536,
        "start_time": "2021-08-28T10:18:46.347Z"
      },
      {
        "duration": 20,
        "start_time": "2021-08-28T10:18:46.866Z"
      },
      {
        "duration": 4,
        "start_time": "2021-08-28T10:19:00.348Z"
      },
      {
        "duration": 8,
        "start_time": "2021-08-28T10:19:03.262Z"
      },
      {
        "duration": 458,
        "start_time": "2021-08-28T10:19:05.103Z"
      },
      {
        "duration": 4,
        "start_time": "2021-08-28T10:19:50.347Z"
      },
      {
        "duration": 394,
        "start_time": "2021-08-28T10:19:53.862Z"
      },
      {
        "duration": 5,
        "start_time": "2021-08-28T10:21:19.050Z"
      },
      {
        "duration": 4,
        "start_time": "2021-08-28T10:21:20.919Z"
      },
      {
        "duration": 1020,
        "start_time": "2021-08-28T10:21:22.335Z"
      },
      {
        "duration": 4,
        "start_time": "2021-08-28T10:21:36.225Z"
      },
      {
        "duration": 4,
        "start_time": "2021-08-28T10:21:38.191Z"
      },
      {
        "duration": 1476,
        "start_time": "2021-08-28T10:21:40.940Z"
      },
      {
        "duration": 5,
        "start_time": "2021-08-28T10:21:52.054Z"
      },
      {
        "duration": 4,
        "start_time": "2021-08-28T10:21:53.879Z"
      },
      {
        "duration": 188831,
        "start_time": "2021-08-28T10:21:55.376Z"
      },
      {
        "duration": 10472,
        "start_time": "2021-08-28T10:28:28.685Z"
      },
      {
        "duration": 685,
        "start_time": "2021-08-28T10:29:00.800Z"
      },
      {
        "duration": 5765,
        "start_time": "2021-08-28T10:30:39.684Z"
      },
      {
        "duration": 11019,
        "start_time": "2021-08-28T10:30:56.698Z"
      },
      {
        "duration": 2526,
        "start_time": "2021-08-28T10:31:14.547Z"
      },
      {
        "duration": 5983,
        "start_time": "2021-08-28T10:31:21.962Z"
      },
      {
        "duration": 11178,
        "start_time": "2021-08-28T10:31:32.626Z"
      },
      {
        "duration": 1417,
        "start_time": "2021-08-28T10:32:05.715Z"
      },
      {
        "duration": 4,
        "start_time": "2021-08-28T10:51:27.726Z"
      },
      {
        "duration": 600,
        "start_time": "2021-08-28T11:09:54.988Z"
      },
      {
        "duration": 1228,
        "start_time": "2021-08-28T11:10:08.773Z"
      },
      {
        "duration": 14174,
        "start_time": "2021-08-28T11:11:04.799Z"
      },
      {
        "duration": 690,
        "start_time": "2021-08-28T11:12:03.101Z"
      },
      {
        "duration": 31487,
        "start_time": "2021-08-28T11:19:07.875Z"
      },
      {
        "duration": 20443,
        "start_time": "2021-08-28T11:19:55.063Z"
      },
      {
        "duration": 25668,
        "start_time": "2021-08-28T11:20:21.878Z"
      },
      {
        "duration": 27396,
        "start_time": "2021-08-28T11:22:53.587Z"
      },
      {
        "duration": 27514,
        "start_time": "2021-08-28T11:31:56.677Z"
      },
      {
        "duration": 3,
        "start_time": "2021-08-28T11:41:25.409Z"
      },
      {
        "duration": 4,
        "start_time": "2021-08-28T11:41:26.821Z"
      },
      {
        "duration": 4,
        "start_time": "2021-08-28T11:41:30.091Z"
      },
      {
        "duration": 1092,
        "start_time": "2021-08-28T11:41:32.992Z"
      },
      {
        "duration": 5,
        "start_time": "2021-08-28T11:41:48.771Z"
      },
      {
        "duration": 991,
        "start_time": "2021-08-28T11:41:52.306Z"
      },
      {
        "duration": 5,
        "start_time": "2021-08-28T11:41:59.654Z"
      },
      {
        "duration": 1001,
        "start_time": "2021-08-28T11:42:01.039Z"
      },
      {
        "duration": 4,
        "start_time": "2021-08-28T11:42:11.447Z"
      },
      {
        "duration": 4,
        "start_time": "2021-08-28T11:42:13.159Z"
      },
      {
        "duration": 1449,
        "start_time": "2021-08-28T11:42:19.360Z"
      },
      {
        "duration": 4,
        "start_time": "2021-08-28T11:42:39.328Z"
      },
      {
        "duration": 3,
        "start_time": "2021-08-28T11:42:40.545Z"
      },
      {
        "duration": 2986,
        "start_time": "2021-08-28T11:42:41.901Z"
      },
      {
        "duration": 3382,
        "start_time": "2021-08-28T11:43:53.258Z"
      },
      {
        "duration": 2775,
        "start_time": "2021-08-28T11:44:24.858Z"
      },
      {
        "duration": 5,
        "start_time": "2021-08-28T11:47:30.210Z"
      },
      {
        "duration": 4,
        "start_time": "2021-08-28T11:47:32.112Z"
      },
      {
        "duration": 8003,
        "start_time": "2021-08-28T11:47:33.216Z"
      },
      {
        "duration": 4,
        "start_time": "2021-08-28T11:49:22.433Z"
      },
      {
        "duration": 4,
        "start_time": "2021-08-28T11:49:25.818Z"
      },
      {
        "duration": 8242,
        "start_time": "2021-08-28T11:49:26.931Z"
      },
      {
        "duration": 4,
        "start_time": "2021-08-28T11:49:47.114Z"
      },
      {
        "duration": 4,
        "start_time": "2021-08-28T11:49:48.590Z"
      },
      {
        "duration": 1869,
        "start_time": "2021-08-28T11:49:49.571Z"
      },
      {
        "duration": 4,
        "start_time": "2021-08-28T11:50:07.046Z"
      },
      {
        "duration": 5,
        "start_time": "2021-08-28T11:50:09.066Z"
      },
      {
        "duration": 8373,
        "start_time": "2021-08-28T11:50:11.517Z"
      },
      {
        "duration": 4,
        "start_time": "2021-08-28T11:51:36.841Z"
      },
      {
        "duration": 4,
        "start_time": "2021-08-28T11:51:38.688Z"
      },
      {
        "duration": 6802,
        "start_time": "2021-08-28T11:51:40.078Z"
      },
      {
        "duration": 4,
        "start_time": "2021-08-28T11:52:41.211Z"
      },
      {
        "duration": 6506,
        "start_time": "2021-08-28T11:52:42.836Z"
      },
      {
        "duration": 3,
        "start_time": "2021-08-28T11:52:59.251Z"
      },
      {
        "duration": 6775,
        "start_time": "2021-08-28T11:53:00.949Z"
      },
      {
        "duration": 5,
        "start_time": "2021-08-28T11:57:49.514Z"
      },
      {
        "duration": 26976,
        "start_time": "2021-08-28T12:16:08.659Z"
      },
      {
        "duration": 1436,
        "start_time": "2021-08-28T12:17:02.451Z"
      },
      {
        "duration": 21,
        "start_time": "2021-08-28T12:17:03.890Z"
      },
      {
        "duration": 29,
        "start_time": "2021-08-28T12:17:03.915Z"
      },
      {
        "duration": 21,
        "start_time": "2021-08-28T12:17:03.946Z"
      },
      {
        "duration": 13,
        "start_time": "2021-08-28T12:17:03.970Z"
      },
      {
        "duration": 20,
        "start_time": "2021-08-28T12:17:03.986Z"
      },
      {
        "duration": 538,
        "start_time": "2021-08-28T12:17:04.009Z"
      },
      {
        "duration": -16,
        "start_time": "2021-08-28T12:17:04.566Z"
      },
      {
        "duration": -18,
        "start_time": "2021-08-28T12:17:04.569Z"
      },
      {
        "duration": -18,
        "start_time": "2021-08-28T12:17:04.571Z"
      },
      {
        "duration": -18,
        "start_time": "2021-08-28T12:17:04.573Z"
      },
      {
        "duration": -18,
        "start_time": "2021-08-28T12:17:04.574Z"
      },
      {
        "duration": -18,
        "start_time": "2021-08-28T12:17:04.576Z"
      },
      {
        "duration": -56,
        "start_time": "2021-08-28T12:17:04.615Z"
      },
      {
        "duration": 416,
        "start_time": "2021-08-28T12:20:15.115Z"
      },
      {
        "duration": 5,
        "start_time": "2021-08-28T12:21:35.519Z"
      },
      {
        "duration": 1283,
        "start_time": "2021-08-28T12:21:43.905Z"
      },
      {
        "duration": 22,
        "start_time": "2021-08-28T12:21:45.191Z"
      },
      {
        "duration": 32,
        "start_time": "2021-08-28T12:21:45.216Z"
      },
      {
        "duration": 25,
        "start_time": "2021-08-28T12:21:45.251Z"
      },
      {
        "duration": 8,
        "start_time": "2021-08-28T12:21:45.278Z"
      },
      {
        "duration": 8,
        "start_time": "2021-08-28T12:21:45.289Z"
      },
      {
        "duration": 35,
        "start_time": "2021-08-28T12:21:45.300Z"
      },
      {
        "duration": 28766,
        "start_time": "2021-08-28T12:21:45.338Z"
      },
      {
        "duration": 4,
        "start_time": "2021-08-28T12:22:14.107Z"
      },
      {
        "duration": 11,
        "start_time": "2021-08-28T12:22:14.114Z"
      },
      {
        "duration": 6,
        "start_time": "2021-08-28T12:22:14.127Z"
      },
      {
        "duration": 7086,
        "start_time": "2021-08-28T12:22:14.136Z"
      },
      {
        "duration": 5,
        "start_time": "2021-08-28T12:22:21.224Z"
      },
      {
        "duration": 42,
        "start_time": "2021-08-28T12:22:21.232Z"
      },
      {
        "duration": 191,
        "start_time": "2021-08-28T12:30:20.884Z"
      },
      {
        "duration": 208,
        "start_time": "2021-08-28T12:32:02.458Z"
      },
      {
        "duration": 5,
        "start_time": "2021-08-28T12:35:03.965Z"
      },
      {
        "duration": 110,
        "start_time": "2021-08-28T12:44:33.539Z"
      },
      {
        "duration": 192,
        "start_time": "2021-08-28T12:44:45.580Z"
      },
      {
        "duration": 528,
        "start_time": "2021-08-28T12:44:54.913Z"
      },
      {
        "duration": 7,
        "start_time": "2021-08-28T12:48:14.074Z"
      },
      {
        "duration": 1435,
        "start_time": "2021-08-28T12:58:32.069Z"
      },
      {
        "duration": 22,
        "start_time": "2021-08-28T12:58:33.508Z"
      },
      {
        "duration": 47,
        "start_time": "2021-08-28T12:58:33.533Z"
      },
      {
        "duration": 10,
        "start_time": "2021-08-28T12:58:33.583Z"
      },
      {
        "duration": 13,
        "start_time": "2021-08-28T12:58:33.596Z"
      },
      {
        "duration": 10,
        "start_time": "2021-08-28T12:58:33.612Z"
      },
      {
        "duration": 69,
        "start_time": "2021-08-28T12:58:33.624Z"
      },
      {
        "duration": 27187,
        "start_time": "2021-08-28T12:58:33.698Z"
      },
      {
        "duration": 5,
        "start_time": "2021-08-28T12:59:00.888Z"
      },
      {
        "duration": 42,
        "start_time": "2021-08-28T12:59:00.895Z"
      },
      {
        "duration": 20,
        "start_time": "2021-08-28T12:59:00.940Z"
      },
      {
        "duration": 7428,
        "start_time": "2021-08-28T12:59:00.963Z"
      },
      {
        "duration": 5,
        "start_time": "2021-08-28T12:59:08.393Z"
      },
      {
        "duration": 206,
        "start_time": "2021-08-28T12:59:08.401Z"
      },
      {
        "duration": 4,
        "start_time": "2021-08-28T12:59:08.609Z"
      },
      {
        "duration": 29,
        "start_time": "2021-08-28T12:59:08.615Z"
      },
      {
        "duration": 4,
        "start_time": "2021-08-28T13:00:57.045Z"
      },
      {
        "duration": 1348,
        "start_time": "2021-08-28T13:02:23.545Z"
      },
      {
        "duration": 20,
        "start_time": "2021-08-28T13:02:24.895Z"
      },
      {
        "duration": 38,
        "start_time": "2021-08-28T13:02:24.919Z"
      },
      {
        "duration": 13,
        "start_time": "2021-08-28T13:02:24.965Z"
      },
      {
        "duration": 24,
        "start_time": "2021-08-28T13:02:24.981Z"
      },
      {
        "duration": 19,
        "start_time": "2021-08-28T13:02:25.007Z"
      },
      {
        "duration": 40,
        "start_time": "2021-08-28T13:02:25.028Z"
      },
      {
        "duration": 28847,
        "start_time": "2021-08-28T13:02:25.071Z"
      },
      {
        "duration": 4,
        "start_time": "2021-08-28T13:02:53.924Z"
      },
      {
        "duration": 35,
        "start_time": "2021-08-28T13:02:53.931Z"
      },
      {
        "duration": 5,
        "start_time": "2021-08-28T13:02:53.969Z"
      },
      {
        "duration": 7489,
        "start_time": "2021-08-28T13:02:53.977Z"
      },
      {
        "duration": 6,
        "start_time": "2021-08-28T13:03:01.469Z"
      },
      {
        "duration": 226,
        "start_time": "2021-08-28T13:03:01.478Z"
      },
      {
        "duration": 3,
        "start_time": "2021-08-28T13:03:01.706Z"
      },
      {
        "duration": 22,
        "start_time": "2021-08-28T13:03:01.711Z"
      },
      {
        "duration": 1276,
        "start_time": "2021-08-28T13:39:24.011Z"
      },
      {
        "duration": 19,
        "start_time": "2021-08-28T13:39:25.290Z"
      },
      {
        "duration": 44,
        "start_time": "2021-08-28T13:39:25.312Z"
      },
      {
        "duration": 9,
        "start_time": "2021-08-28T13:39:25.538Z"
      },
      {
        "duration": 5,
        "start_time": "2021-08-28T13:39:26.799Z"
      },
      {
        "duration": 5,
        "start_time": "2021-08-28T13:39:27.003Z"
      },
      {
        "duration": 32,
        "start_time": "2021-08-28T13:39:27.222Z"
      },
      {
        "duration": 24933,
        "start_time": "2021-08-28T13:39:31.435Z"
      },
      {
        "duration": 3,
        "start_time": "2021-08-28T13:39:56.371Z"
      },
      {
        "duration": 11,
        "start_time": "2021-08-28T13:39:56.384Z"
      },
      {
        "duration": 13,
        "start_time": "2021-08-28T13:39:56.397Z"
      },
      {
        "duration": 6369,
        "start_time": "2021-08-28T13:39:56.413Z"
      },
      {
        "duration": 4,
        "start_time": "2021-08-28T13:43:03.269Z"
      },
      {
        "duration": 4,
        "start_time": "2021-08-28T13:43:03.542Z"
      },
      {
        "duration": 3347,
        "start_time": "2021-08-28T13:43:03.758Z"
      },
      {
        "duration": 4,
        "start_time": "2021-08-28T13:43:10.944Z"
      },
      {
        "duration": 3,
        "start_time": "2021-08-28T13:43:11.129Z"
      },
      {
        "duration": 4,
        "start_time": "2021-08-28T13:43:16.993Z"
      },
      {
        "duration": 23,
        "start_time": "2021-08-28T13:43:17.000Z"
      },
      {
        "duration": 6274,
        "start_time": "2021-08-28T13:43:17.026Z"
      },
      {
        "duration": 3,
        "start_time": "2021-08-28T13:43:26.177Z"
      },
      {
        "duration": 4,
        "start_time": "2021-08-28T13:43:26.435Z"
      },
      {
        "duration": 3690,
        "start_time": "2021-08-28T13:43:26.667Z"
      },
      {
        "duration": 4,
        "start_time": "2021-08-28T13:43:36.996Z"
      },
      {
        "duration": 4,
        "start_time": "2021-08-28T13:43:37.193Z"
      },
      {
        "duration": 6,
        "start_time": "2021-08-28T13:43:50.084Z"
      },
      {
        "duration": 28,
        "start_time": "2021-08-28T13:43:50.093Z"
      },
      {
        "duration": 4,
        "start_time": "2021-08-28T13:44:02.758Z"
      },
      {
        "duration": 18,
        "start_time": "2021-08-28T13:44:02.766Z"
      },
      {
        "duration": 11558,
        "start_time": "2021-08-28T13:44:02.787Z"
      },
      {
        "duration": 4,
        "start_time": "2021-08-28T13:44:22.358Z"
      },
      {
        "duration": 4,
        "start_time": "2021-08-28T13:44:22.519Z"
      },
      {
        "duration": 605,
        "start_time": "2021-08-28T13:44:22.693Z"
      },
      {
        "duration": 4,
        "start_time": "2021-08-28T13:44:40.155Z"
      },
      {
        "duration": 3,
        "start_time": "2021-08-28T13:44:40.400Z"
      },
      {
        "duration": 4,
        "start_time": "2021-08-28T13:44:56.129Z"
      },
      {
        "duration": 6,
        "start_time": "2021-08-28T13:44:56.136Z"
      },
      {
        "duration": 1978,
        "start_time": "2021-08-28T13:44:56.144Z"
      },
      {
        "duration": 4,
        "start_time": "2021-08-28T13:46:10.352Z"
      },
      {
        "duration": 3,
        "start_time": "2021-08-28T13:46:10.678Z"
      },
      {
        "duration": 619,
        "start_time": "2021-08-28T13:46:11.175Z"
      },
      {
        "duration": 4,
        "start_time": "2021-08-28T13:46:14.718Z"
      },
      {
        "duration": 3,
        "start_time": "2021-08-28T13:46:14.930Z"
      },
      {
        "duration": 609,
        "start_time": "2021-08-28T13:46:15.106Z"
      },
      {
        "duration": 4,
        "start_time": "2021-08-28T13:46:20.587Z"
      },
      {
        "duration": 4,
        "start_time": "2021-08-28T13:46:20.773Z"
      },
      {
        "duration": 165,
        "start_time": "2021-08-28T13:46:20.978Z"
      },
      {
        "duration": 4,
        "start_time": "2021-08-28T13:46:30.896Z"
      },
      {
        "duration": 4,
        "start_time": "2021-08-28T13:46:31.110Z"
      },
      {
        "duration": 12880,
        "start_time": "2021-08-28T13:46:31.249Z"
      },
      {
        "duration": 4,
        "start_time": "2021-08-28T13:46:58.314Z"
      },
      {
        "duration": 3,
        "start_time": "2021-08-28T13:47:00.247Z"
      },
      {
        "duration": 642,
        "start_time": "2021-08-28T13:47:00.380Z"
      },
      {
        "duration": 4,
        "start_time": "2021-08-28T13:47:07.162Z"
      },
      {
        "duration": 5,
        "start_time": "2021-08-28T13:47:07.339Z"
      },
      {
        "duration": 2821,
        "start_time": "2021-08-28T13:47:07.502Z"
      },
      {
        "duration": 4,
        "start_time": "2021-08-28T13:47:24.673Z"
      },
      {
        "duration": 4,
        "start_time": "2021-08-28T13:47:24.905Z"
      },
      {
        "duration": 6344,
        "start_time": "2021-08-28T13:47:25.060Z"
      },
      {
        "duration": 3,
        "start_time": "2021-08-28T13:47:59.107Z"
      },
      {
        "duration": 3,
        "start_time": "2021-08-28T13:48:00.120Z"
      },
      {
        "duration": 3,
        "start_time": "2021-08-28T13:48:00.327Z"
      },
      {
        "duration": 3,
        "start_time": "2021-08-28T13:48:00.490Z"
      },
      {
        "duration": 6334,
        "start_time": "2021-08-28T13:48:00.644Z"
      },
      {
        "duration": 5,
        "start_time": "2021-08-28T13:58:50.416Z"
      },
      {
        "duration": 23,
        "start_time": "2021-08-28T13:58:50.424Z"
      },
      {
        "duration": 16,
        "start_time": "2021-08-28T13:58:50.450Z"
      },
      {
        "duration": 13,
        "start_time": "2021-08-28T13:58:50.469Z"
      },
      {
        "duration": 4,
        "start_time": "2021-08-28T13:58:50.484Z"
      },
      {
        "duration": 7,
        "start_time": "2021-08-28T13:58:50.490Z"
      },
      {
        "duration": 33,
        "start_time": "2021-08-28T13:58:50.499Z"
      },
      {
        "duration": 24979,
        "start_time": "2021-08-28T13:58:50.534Z"
      },
      {
        "duration": 4,
        "start_time": "2021-08-28T13:59:15.518Z"
      },
      {
        "duration": 5,
        "start_time": "2021-08-28T13:59:15.525Z"
      },
      {
        "duration": 5,
        "start_time": "2021-08-28T13:59:15.532Z"
      },
      {
        "duration": 6245,
        "start_time": "2021-08-28T13:59:15.540Z"
      },
      {
        "duration": 5,
        "start_time": "2021-08-28T13:59:21.787Z"
      },
      {
        "duration": 200,
        "start_time": "2021-08-28T13:59:21.794Z"
      },
      {
        "duration": 4,
        "start_time": "2021-08-28T13:59:21.997Z"
      },
      {
        "duration": 13,
        "start_time": "2021-08-28T13:59:22.003Z"
      },
      {
        "duration": 1492,
        "start_time": "2021-09-08T11:46:30.281Z"
      },
      {
        "duration": 23,
        "start_time": "2021-09-08T11:46:31.776Z"
      },
      {
        "duration": 34,
        "start_time": "2021-09-08T11:46:31.804Z"
      },
      {
        "duration": 12,
        "start_time": "2021-09-08T11:46:31.841Z"
      },
      {
        "duration": 8,
        "start_time": "2021-09-08T11:46:31.856Z"
      },
      {
        "duration": 10,
        "start_time": "2021-09-08T11:46:31.867Z"
      },
      {
        "duration": 66,
        "start_time": "2021-09-08T11:46:31.879Z"
      },
      {
        "duration": 26756,
        "start_time": "2021-09-08T11:46:31.949Z"
      },
      {
        "duration": 10,
        "start_time": "2021-09-08T11:46:58.708Z"
      },
      {
        "duration": 10,
        "start_time": "2021-09-08T11:46:58.721Z"
      },
      {
        "duration": 6,
        "start_time": "2021-09-08T11:46:58.733Z"
      },
      {
        "duration": 6848,
        "start_time": "2021-09-08T11:46:58.742Z"
      },
      {
        "duration": 22,
        "start_time": "2021-09-08T11:47:05.594Z"
      },
      {
        "duration": 203,
        "start_time": "2021-09-08T11:47:05.618Z"
      },
      {
        "duration": 7,
        "start_time": "2021-09-08T11:47:05.823Z"
      },
      {
        "duration": 1177,
        "start_time": "2021-11-26T10:49:49.254Z"
      },
      {
        "duration": 18,
        "start_time": "2021-11-26T10:49:50.433Z"
      },
      {
        "duration": 24,
        "start_time": "2021-11-26T10:49:50.453Z"
      },
      {
        "duration": 11,
        "start_time": "2021-11-26T10:49:50.479Z"
      },
      {
        "duration": 6,
        "start_time": "2021-11-26T10:49:50.492Z"
      },
      {
        "duration": 12,
        "start_time": "2021-11-26T10:49:50.501Z"
      },
      {
        "duration": 28,
        "start_time": "2021-11-26T10:49:50.515Z"
      },
      {
        "duration": 20897,
        "start_time": "2021-11-26T10:49:50.544Z"
      },
      {
        "duration": 2,
        "start_time": "2021-11-26T10:50:11.443Z"
      },
      {
        "duration": 31,
        "start_time": "2021-11-26T10:50:11.447Z"
      },
      {
        "duration": 10,
        "start_time": "2021-11-26T10:50:11.481Z"
      },
      {
        "duration": 4488,
        "start_time": "2021-11-26T10:50:11.492Z"
      },
      {
        "duration": 6,
        "start_time": "2021-11-26T10:50:15.982Z"
      },
      {
        "duration": 214,
        "start_time": "2021-11-26T10:50:15.990Z"
      },
      {
        "duration": 6,
        "start_time": "2021-11-26T10:50:16.206Z"
      }
    ],
    "kernelspec": {
      "display_name": "Python 3",
      "language": "python",
      "name": "python3"
    },
    "language_info": {
      "codemirror_mode": {
        "name": "ipython",
        "version": 3
      },
      "file_extension": ".py",
      "mimetype": "text/x-python",
      "name": "python",
      "nbconvert_exporter": "python",
      "pygments_lexer": "ipython3",
      "version": "3.7.8"
    },
    "toc": {
      "base_numbering": 1,
      "nav_menu": {},
      "number_sections": true,
      "sideBar": true,
      "skip_h1_title": true,
      "title_cell": "Содержание",
      "title_sidebar": "Содержание",
      "toc_cell": false,
      "toc_position": {},
      "toc_section_display": false,
      "toc_window_display": false
    },
    "colab": {
      "name": "Рекомендация тарифов.ipynb",
      "provenance": [],
      "collapsed_sections": []
    }
  },
  "cells": [
    {
      "cell_type": "markdown",
      "metadata": {
        "id": "5Dwa2hMZ4Xrd"
      },
      "source": [
        "# Рекомендация тарифов"
      ]
    },
    {
      "cell_type": "markdown",
      "metadata": {
        "id": "C0Y6OurO4Xre"
      },
      "source": [
        "В вашем распоряжении данные о поведении клиентов, которые уже перешли на эти тарифы (из проекта курса «Статистический анализ данных»). Нужно построить модель для задачи классификации, которая выберет подходящий тариф. Предобработка данных не понадобится — вы её уже сделали.\n",
        "\n",
        "Постройте модель с максимально большим значением *accuracy*. Чтобы сдать проект успешно, нужно довести долю правильных ответов по крайней мере до 0.75. Проверьте *accuracy* на тестовой выборке самостоятельно."
      ]
    },
    {
      "cell_type": "markdown",
      "metadata": {
        "id": "vLTJwurO4Xrf"
      },
      "source": [
        "## Откройте и изучите файл"
      ]
    },
    {
      "cell_type": "code",
      "metadata": {
        "id": "n7KWWQPw4Xrg"
      },
      "source": [
        "import pandas as pd\n",
        "from sklearn.model_selection import train_test_split\n",
        "from sklearn.metrics import accuracy_score\n",
        "from sklearn.tree import DecisionTreeClassifier\n",
        "from sklearn.ensemble import RandomForestClassifier \n",
        "from sklearn.linear_model import LogisticRegression \n",
        "from sklearn.model_selection import GridSearchCV\n",
        "from sklearn.dummy import DummyClassifier\n",
        "import warnings\n",
        "warnings.filterwarnings('ignore')"
      ],
      "execution_count": null,
      "outputs": []
    },
    {
      "cell_type": "code",
      "metadata": {
        "id": "G1f_stlW4Xrh"
      },
      "source": [
        "df = pd.read_csv('/datasets/users_behavior.csv')"
      ],
      "execution_count": null,
      "outputs": []
    },
    {
      "cell_type": "code",
      "metadata": {
        "id": "rOejqqy94Xrh",
        "outputId": "2488e3f8-ea1c-4b31-8780-4e4787ee634f"
      },
      "source": [
        "df.info()\n",
        "df.head()"
      ],
      "execution_count": null,
      "outputs": [
        {
          "name": "stdout",
          "output_type": "stream",
          "text": [
            "<class 'pandas.core.frame.DataFrame'>\n",
            "RangeIndex: 3214 entries, 0 to 3213\n",
            "Data columns (total 5 columns):\n",
            "calls       3214 non-null float64\n",
            "minutes     3214 non-null float64\n",
            "messages    3214 non-null float64\n",
            "mb_used     3214 non-null float64\n",
            "is_ultra    3214 non-null int64\n",
            "dtypes: float64(4), int64(1)\n",
            "memory usage: 125.7 KB\n"
          ]
        },
        {
          "data": {
            "text/html": [
              "<div>\n",
              "<style scoped>\n",
              "    .dataframe tbody tr th:only-of-type {\n",
              "        vertical-align: middle;\n",
              "    }\n",
              "\n",
              "    .dataframe tbody tr th {\n",
              "        vertical-align: top;\n",
              "    }\n",
              "\n",
              "    .dataframe thead th {\n",
              "        text-align: right;\n",
              "    }\n",
              "</style>\n",
              "<table border=\"1\" class=\"dataframe\">\n",
              "  <thead>\n",
              "    <tr style=\"text-align: right;\">\n",
              "      <th></th>\n",
              "      <th>calls</th>\n",
              "      <th>minutes</th>\n",
              "      <th>messages</th>\n",
              "      <th>mb_used</th>\n",
              "      <th>is_ultra</th>\n",
              "    </tr>\n",
              "  </thead>\n",
              "  <tbody>\n",
              "    <tr>\n",
              "      <td>0</td>\n",
              "      <td>40.0</td>\n",
              "      <td>311.90</td>\n",
              "      <td>83.0</td>\n",
              "      <td>19915.42</td>\n",
              "      <td>0</td>\n",
              "    </tr>\n",
              "    <tr>\n",
              "      <td>1</td>\n",
              "      <td>85.0</td>\n",
              "      <td>516.75</td>\n",
              "      <td>56.0</td>\n",
              "      <td>22696.96</td>\n",
              "      <td>0</td>\n",
              "    </tr>\n",
              "    <tr>\n",
              "      <td>2</td>\n",
              "      <td>77.0</td>\n",
              "      <td>467.66</td>\n",
              "      <td>86.0</td>\n",
              "      <td>21060.45</td>\n",
              "      <td>0</td>\n",
              "    </tr>\n",
              "    <tr>\n",
              "      <td>3</td>\n",
              "      <td>106.0</td>\n",
              "      <td>745.53</td>\n",
              "      <td>81.0</td>\n",
              "      <td>8437.39</td>\n",
              "      <td>1</td>\n",
              "    </tr>\n",
              "    <tr>\n",
              "      <td>4</td>\n",
              "      <td>66.0</td>\n",
              "      <td>418.74</td>\n",
              "      <td>1.0</td>\n",
              "      <td>14502.75</td>\n",
              "      <td>0</td>\n",
              "    </tr>\n",
              "  </tbody>\n",
              "</table>\n",
              "</div>"
            ],
            "text/plain": [
              "   calls  minutes  messages   mb_used  is_ultra\n",
              "0   40.0   311.90      83.0  19915.42         0\n",
              "1   85.0   516.75      56.0  22696.96         0\n",
              "2   77.0   467.66      86.0  21060.45         0\n",
              "3  106.0   745.53      81.0   8437.39         1\n",
              "4   66.0   418.74       1.0  14502.75         0"
            ]
          },
          "execution_count": 3,
          "metadata": {},
          "output_type": "execute_result"
        }
      ]
    },
    {
      "cell_type": "markdown",
      "metadata": {
        "id": "R2MgbCLn4Xri"
      },
      "source": [
        "Известно, что каждый объект в наборе данных — это информация о поведении одного пользователя за месяц. В таблице дано четыре столбца типа *float64* и один столбец \"is_ultra\" типа *int64*, всего строк - 3214:\n",
        "- сalls — количество звонков;\n",
        "- minutes — суммарная длительность звонков в минутах;\n",
        "- messages — количество sms-сообщений;\n",
        "- mb_used — израсходованный интернет-трафик в Мб;\n",
        "- is_ultra — каким тарифом пользовался в течение месяца («Ультра» — 1, «Смарт» — 0)."
      ]
    },
    {
      "cell_type": "markdown",
      "metadata": {
        "id": "FBueEudc4Xri"
      },
      "source": [
        "## Разбейте данные на выборки"
      ]
    },
    {
      "cell_type": "markdown",
      "metadata": {
        "id": "t7TrSXjE4Xrj"
      },
      "source": [
        "В данном шаге необходимо разделить данные на три выборки: обучающую, валидационную и тестовую в размере 60%, 20% и 20%. Для этого дважды используем функцию *train_test_split*."
      ]
    },
    {
      "cell_type": "code",
      "metadata": {
        "id": "2ckrNkAh4Xrj"
      },
      "source": [
        "df_train, df_valid = train_test_split(df, test_size=0.2, random_state=12345)\n",
        "\n",
        "df_train, df_test = train_test_split(df_train, test_size=0.25, random_state=12345) # 0.25 x 0.8 = 0.2"
      ],
      "execution_count": null,
      "outputs": []
    },
    {
      "cell_type": "markdown",
      "metadata": {
        "id": "FgnFMXuk4Xrk"
      },
      "source": [
        "Сначала разделили данные на обучающую и валидационную выборки в размере 80% и 20%. Затем от обучающей отделили 25% на тестовую выборку, чтобы итоговый результат был 20% от всех данных."
      ]
    },
    {
      "cell_type": "markdown",
      "metadata": {
        "id": "dPE1iEv-4Xrk"
      },
      "source": [
        "## Исследуйте модели"
      ]
    },
    {
      "cell_type": "markdown",
      "metadata": {
        "id": "Of-e0p9Z4Xrl"
      },
      "source": [
        "Перед нами задача классификации, нужно построить модель, которая определит подходящий тариф. Для этого исследуем три модели: дерево решений, случайный лес и логистическую регрессию.\n",
        "\n",
        "Начнем с дерева решений, для максимально высокого качества предсказаний переберем в алгоритме разные варианты глубины дерева и найдем максимальный accuracy для валидационной выборки. "
      ]
    },
    {
      "cell_type": "code",
      "metadata": {
        "id": "O0DCfCgI4Xrl"
      },
      "source": [
        "features_train = df_train.drop(['is_ultra'], axis=1)\n",
        "target_train = df_train['is_ultra']"
      ],
      "execution_count": null,
      "outputs": []
    },
    {
      "cell_type": "code",
      "metadata": {
        "id": "una1AZUQ4Xrl"
      },
      "source": [
        "features_valid = df_valid.drop(['is_ultra'], axis=1)\n",
        "target_valid = df_valid['is_ultra']"
      ],
      "execution_count": null,
      "outputs": []
    },
    {
      "cell_type": "code",
      "metadata": {
        "id": "XgZcjXN74Xrl",
        "outputId": "592ed318-3f7d-4e31-c10e-8de0a53bfb66"
      },
      "source": [
        "best_model = None\n",
        "best_result = 0\n",
        "for depth in range(1, 6):\n",
        "    model = DecisionTreeClassifier(random_state=12345, max_depth=depth) \n",
        "    model.fit(features_train,target_train)\n",
        "    predictions_valid = model.predict(features_valid)\n",
        "    result = accuracy_score(target_valid, predictions_valid)\n",
        "    if result > best_result:\n",
        "        best_model = model\n",
        "        best_result = result\n",
        "        \n",
        "print(\"Accuracy лучшей модели на валидационной выборке:\", best_result)\n",
        "print(\"Depth:\",depth)"
      ],
      "execution_count": null,
      "outputs": [
        {
          "name": "stdout",
          "output_type": "stream",
          "text": [
            "Accuracy лучшей модели на валидационной выборке: 0.7884914463452566\n",
            "Depth: 5\n"
          ]
        }
      ]
    },
    {
      "cell_type": "markdown",
      "metadata": {
        "id": "vSn5vgiW4Xrm"
      },
      "source": [
        "Рассмотрим следующую модель - случайный лес. Будем изменять гиперпараметры n_estimators - управляет количеством деревьев в лесу, max_depth - максимальная глубина деревьев, min_samples_leaf - минимальное число объектов в узле."
      ]
    },
    {
      "cell_type": "code",
      "metadata": {
        "scrolled": true,
        "id": "yD7BJWNS4Xrm",
        "outputId": "9ee49c72-85c6-4b0a-dc73-7fe5587a20df"
      },
      "source": [
        "best_model = None\n",
        "best_result = 0\n",
        "for depth in range(1, 10):\n",
        "    for est in range(5,50,5):\n",
        "        for sample in range(1,5):\n",
        "            model = RandomForestClassifier(random_state=12345, max_depth = depth, n_estimators=est, min_samples_leaf=sample) \n",
        "            model.fit(features_train,target_train)\n",
        "            result = model.score(features_valid,target_valid)\n",
        "            if result > best_result:\n",
        "                best_model = model \n",
        "                best_result = result\n",
        "        \n",
        "        \n",
        "print(\"Accuracy лучшей модели на валидационной выборке:\", best_result)\n",
        "print(\"max_depth:\", depth, \"n_estimators:\", est, \"min_samples_leaf:\", sample)"
      ],
      "execution_count": null,
      "outputs": [
        {
          "name": "stdout",
          "output_type": "stream",
          "text": [
            "Accuracy лучшей модели на валидационной выборке: 0.80248833592535\n",
            "max_depth: 9 n_estimators: 45 min_samples_leaf: 4\n"
          ]
        }
      ]
    },
    {
      "cell_type": "markdown",
      "metadata": {
        "id": "tuamb2vu4Xrn"
      },
      "source": [
        "Следующая модель - логистическая регрессия. Переберем гиперпараметры: регуляризацию (С), penalty и solver."
      ]
    },
    {
      "cell_type": "code",
      "metadata": {
        "scrolled": true,
        "id": "57dAZtC64Xrn"
      },
      "source": [
        "logmodel = LogisticRegression(random_state=12345)"
      ],
      "execution_count": null,
      "outputs": []
    },
    {
      "cell_type": "code",
      "metadata": {
        "id": "v6Ns6mi74Xro"
      },
      "source": [
        "parameters_grid = [\n",
        "    {'penalty':['l2'],\n",
        "     'C': [0.1,1,10,100],\n",
        "     'solver':['lbfgs','newton-cg','liblinear','sag','saga'],\n",
        "     'max_iter':[100,500]\n",
        "    }\n",
        "]"
      ],
      "execution_count": null,
      "outputs": []
    },
    {
      "cell_type": "code",
      "metadata": {
        "id": "4QhhvhKu4Xro"
      },
      "source": [
        "clf = GridSearchCV(logmodel, param_grid = parameters_grid, cv = 3)"
      ],
      "execution_count": null,
      "outputs": []
    },
    {
      "cell_type": "code",
      "metadata": {
        "scrolled": true,
        "id": "yugYbu0v4Xro",
        "outputId": "de6a04c3-9989-4be9-8a02-f2946e64abb3"
      },
      "source": [
        "train_clf = clf.fit(features_train,target_train)\n",
        "best_result = clf.score(features_valid,target_valid)\n",
        "\n",
        "print(\"Accuracy лучшей модели на валидационной выборке:\", best_result)\n"
      ],
      "execution_count": null,
      "outputs": [
        {
          "name": "stdout",
          "output_type": "stream",
          "text": [
            "Accuracy лучшей модели на валидационной выборке: 0.7589424572317263\n"
          ]
        }
      ]
    },
    {
      "cell_type": "markdown",
      "metadata": {
        "id": "e_NhmYCt4Xrp"
      },
      "source": [
        "Из проведенного исследования моделей получили результаты:\n",
        "- accuracy дерева решений: 0.7884914463452566;\n",
        "- accuracy случайного леса: 0.80248833592535;\n",
        "- accuracy логистической регрессии: 0.7589424572317263. \n",
        "\n",
        "Таким образом, наилучшая модель - \"Случайный лес\" с параметрами:\n",
        "- Depth: 9 \n",
        "- N_estimators: 45 \n",
        "- Min_samples_leaf: 4\n",
        "\n",
        "В следующем шаге проверим модель на тестовой выборке."
      ]
    },
    {
      "cell_type": "markdown",
      "metadata": {
        "id": "8K0jc9v74Xrq"
      },
      "source": [
        "## Проверьте модель на тестовой выборке"
      ]
    },
    {
      "cell_type": "code",
      "metadata": {
        "id": "Vi7sEpBn4Xrq"
      },
      "source": [
        "features_test = df_test.drop(['is_ultra'], axis=1)\n",
        "target_test = df_test['is_ultra']"
      ],
      "execution_count": null,
      "outputs": []
    },
    {
      "cell_type": "code",
      "metadata": {
        "id": "Tm9j5m0N4Xrq",
        "outputId": "56c08a7d-a341-4719-e48d-19babea35454"
      },
      "source": [
        "model = RandomForestClassifier(random_state=12345, max_depth = 9, n_estimators=45, min_samples_leaf=4) \n",
        "model.fit(features_train, target_train)\n",
        "accuracy = model.score(features_test, target_test)\n",
        "print(\"Accuracy:\", accuracy)"
      ],
      "execution_count": null,
      "outputs": [
        {
          "name": "stdout",
          "output_type": "stream",
          "text": [
            "Accuracy: 0.7900466562986003\n"
          ]
        }
      ]
    },
    {
      "cell_type": "markdown",
      "metadata": {
        "id": "md9xl1zr4Xrr"
      },
      "source": [
        "При проверке модели на тестовой выборке получили результат accuracy: 0.7900466562986003."
      ]
    },
    {
      "cell_type": "markdown",
      "metadata": {
        "id": "N761fpLa4Xrr"
      },
      "source": [
        "В данном шаге необходимо проверить модели на вменяемость, для этого используем Dummy Classifier."
      ]
    },
    {
      "cell_type": "markdown",
      "metadata": {
        "id": "iKAS0ffL4Xrr"
      },
      "source": [
        "## Проверьте модели на адекватность"
      ]
    },
    {
      "cell_type": "code",
      "metadata": {
        "id": "dN-9jns54Xrs",
        "outputId": "8698d0ae-5230-4cae-8358-c12ed2b79303"
      },
      "source": [
        "dc = DummyClassifier(random_state = 12345, strategy = \"most_frequent\")\n",
        "dc.fit(features_train, target_train)\n",
        "accuracy = dc.score(features_test, target_test)\n",
        "print(\"Accuracy:\", accuracy)"
      ],
      "execution_count": null,
      "outputs": [
        {
          "name": "stdout",
          "output_type": "stream",
          "text": [
            "Accuracy: 0.6889580093312597\n"
          ]
        }
      ]
    },
    {
      "cell_type": "markdown",
      "metadata": {
        "id": "NmJ6wVPD4Xrs"
      },
      "source": [
        "У всех моделей accuracy был выше, следовательно модели вменяемы."
      ]
    }
  ]
}