{
  "nbformat": 4,
  "nbformat_minor": 0,
  "metadata": {
    "ExecuteTimeLog": [
      {
        "duration": 1380,
        "start_time": "2021-09-08T11:47:51.077Z"
      },
      {
        "duration": 5,
        "start_time": "2021-09-08T11:49:31.983Z"
      },
      {
        "duration": 39,
        "start_time": "2021-09-08T11:50:22.505Z"
      },
      {
        "duration": 36,
        "start_time": "2021-09-08T11:50:57.813Z"
      },
      {
        "duration": 1337,
        "start_time": "2021-09-11T13:59:14.756Z"
      },
      {
        "duration": 33,
        "start_time": "2021-09-11T13:59:16.096Z"
      },
      {
        "duration": 40,
        "start_time": "2021-09-11T13:59:16.132Z"
      },
      {
        "duration": 13,
        "start_time": "2021-09-11T13:59:53.180Z"
      },
      {
        "duration": 10,
        "start_time": "2021-09-11T14:04:34.841Z"
      },
      {
        "duration": 1580,
        "start_time": "2021-09-11T15:35:20.141Z"
      },
      {
        "duration": 1736,
        "start_time": "2021-09-11T15:35:22.260Z"
      },
      {
        "duration": 36,
        "start_time": "2021-09-11T15:35:23.998Z"
      },
      {
        "duration": 43,
        "start_time": "2021-09-11T15:35:24.037Z"
      },
      {
        "duration": 13,
        "start_time": "2021-09-11T15:35:24.082Z"
      },
      {
        "duration": 10,
        "start_time": "2021-09-11T15:35:24.097Z"
      },
      {
        "duration": 1309,
        "start_time": "2021-09-11T15:35:24.109Z"
      },
      {
        "duration": 364,
        "start_time": "2021-09-11T15:44:31.246Z"
      },
      {
        "duration": 316,
        "start_time": "2021-09-11T16:59:53.516Z"
      },
      {
        "duration": 1310,
        "start_time": "2021-09-11T17:30:28.688Z"
      },
      {
        "duration": 36,
        "start_time": "2021-09-11T17:30:30.001Z"
      },
      {
        "duration": 43,
        "start_time": "2021-09-11T17:30:30.039Z"
      },
      {
        "duration": 4,
        "start_time": "2021-09-11T17:30:30.085Z"
      },
      {
        "duration": 12,
        "start_time": "2021-09-11T17:30:30.091Z"
      },
      {
        "duration": 12,
        "start_time": "2021-09-11T17:30:30.105Z"
      },
      {
        "duration": 496,
        "start_time": "2021-09-11T17:30:30.119Z"
      },
      {
        "duration": 70,
        "start_time": "2021-09-11T17:30:30.548Z"
      },
      {
        "duration": 65,
        "start_time": "2021-09-11T17:30:30.554Z"
      },
      {
        "duration": 13,
        "start_time": "2021-09-11T17:34:20.765Z"
      },
      {
        "duration": 10,
        "start_time": "2021-09-11T17:34:22.308Z"
      },
      {
        "duration": 6,
        "start_time": "2021-09-11T17:34:23.994Z"
      },
      {
        "duration": 6,
        "start_time": "2021-09-11T17:34:29.591Z"
      },
      {
        "duration": 6,
        "start_time": "2021-09-11T17:34:32.518Z"
      },
      {
        "duration": 6,
        "start_time": "2021-09-11T17:34:34.126Z"
      },
      {
        "duration": 364,
        "start_time": "2021-09-11T17:35:11.290Z"
      },
      {
        "duration": 80,
        "start_time": "2021-09-11T17:35:16.944Z"
      },
      {
        "duration": 376,
        "start_time": "2021-09-11T17:40:37.751Z"
      },
      {
        "duration": 5,
        "start_time": "2021-09-11T17:40:41.511Z"
      },
      {
        "duration": 5,
        "start_time": "2021-09-11T17:40:44.392Z"
      },
      {
        "duration": 1399,
        "start_time": "2021-09-11T17:51:21.589Z"
      },
      {
        "duration": 34,
        "start_time": "2021-09-11T17:51:22.991Z"
      },
      {
        "duration": 45,
        "start_time": "2021-09-11T17:51:23.029Z"
      },
      {
        "duration": 319,
        "start_time": "2021-09-11T17:51:23.077Z"
      },
      {
        "duration": 3,
        "start_time": "2021-09-11T17:51:23.399Z"
      },
      {
        "duration": 29,
        "start_time": "2021-09-11T17:51:23.404Z"
      },
      {
        "duration": 438,
        "start_time": "2021-09-11T17:51:23.436Z"
      },
      {
        "duration": 33,
        "start_time": "2021-09-11T17:51:23.877Z"
      },
      {
        "duration": 5,
        "start_time": "2021-09-11T17:51:23.913Z"
      },
      {
        "duration": 17,
        "start_time": "2021-09-11T17:51:23.921Z"
      },
      {
        "duration": 6,
        "start_time": "2021-09-11T17:51:51.362Z"
      },
      {
        "duration": 5,
        "start_time": "2021-09-11T17:51:52.826Z"
      },
      {
        "duration": 6,
        "start_time": "2021-09-11T17:54:54.428Z"
      },
      {
        "duration": 1482,
        "start_time": "2021-09-12T12:00:10.752Z"
      },
      {
        "duration": 4,
        "start_time": "2021-09-12T12:05:16.588Z"
      },
      {
        "duration": 1365,
        "start_time": "2021-09-12T12:05:23.297Z"
      },
      {
        "duration": 37,
        "start_time": "2021-09-12T12:05:24.665Z"
      },
      {
        "duration": 36,
        "start_time": "2021-09-12T12:05:24.705Z"
      },
      {
        "duration": 313,
        "start_time": "2021-09-12T12:05:24.754Z"
      },
      {
        "duration": 71,
        "start_time": "2021-09-12T12:05:25.069Z"
      },
      {
        "duration": 394,
        "start_time": "2021-09-12T12:05:25.154Z"
      },
      {
        "duration": 4,
        "start_time": "2021-09-12T12:05:25.551Z"
      },
      {
        "duration": 519,
        "start_time": "2021-09-12T12:05:25.558Z"
      },
      {
        "duration": 402,
        "start_time": "2021-09-12T12:05:26.080Z"
      },
      {
        "duration": 3,
        "start_time": "2021-09-12T12:08:08.392Z"
      },
      {
        "duration": 484,
        "start_time": "2021-09-12T12:08:09.927Z"
      },
      {
        "duration": 276,
        "start_time": "2021-09-12T12:08:12.102Z"
      },
      {
        "duration": 4,
        "start_time": "2021-09-12T12:10:39.181Z"
      },
      {
        "duration": 481,
        "start_time": "2021-09-12T12:10:40.466Z"
      },
      {
        "duration": 277,
        "start_time": "2021-09-12T12:10:42.463Z"
      },
      {
        "duration": 1288,
        "start_time": "2021-09-12T12:10:53.986Z"
      },
      {
        "duration": 37,
        "start_time": "2021-09-12T12:10:55.277Z"
      },
      {
        "duration": 44,
        "start_time": "2021-09-12T12:10:55.317Z"
      },
      {
        "duration": 309,
        "start_time": "2021-09-12T12:10:55.363Z"
      },
      {
        "duration": 83,
        "start_time": "2021-09-12T12:10:55.674Z"
      },
      {
        "duration": 381,
        "start_time": "2021-09-12T12:10:55.760Z"
      },
      {
        "duration": 11,
        "start_time": "2021-09-12T12:10:56.143Z"
      },
      {
        "duration": 498,
        "start_time": "2021-09-12T12:10:56.158Z"
      },
      {
        "duration": 413,
        "start_time": "2021-09-12T12:10:56.658Z"
      },
      {
        "duration": 16,
        "start_time": "2021-09-12T12:18:57.051Z"
      },
      {
        "duration": 7,
        "start_time": "2021-09-12T12:41:52.655Z"
      },
      {
        "duration": 11,
        "start_time": "2021-09-12T12:42:08.640Z"
      },
      {
        "duration": 1397,
        "start_time": "2021-09-12T12:43:48.364Z"
      },
      {
        "duration": 36,
        "start_time": "2021-09-12T12:43:49.764Z"
      },
      {
        "duration": 34,
        "start_time": "2021-09-12T12:43:49.803Z"
      },
      {
        "duration": 27,
        "start_time": "2021-09-12T12:43:49.840Z"
      },
      {
        "duration": 16,
        "start_time": "2021-09-12T12:43:49.870Z"
      },
      {
        "duration": 315,
        "start_time": "2021-09-12T12:43:49.888Z"
      },
      {
        "duration": 81,
        "start_time": "2021-09-12T12:43:50.206Z"
      },
      {
        "duration": 371,
        "start_time": "2021-09-12T12:43:50.290Z"
      },
      {
        "duration": 3,
        "start_time": "2021-09-12T12:43:50.664Z"
      },
      {
        "duration": 472,
        "start_time": "2021-09-12T12:43:50.670Z"
      },
      {
        "duration": 5723,
        "start_time": "2021-09-12T12:43:51.145Z"
      },
      {
        "duration": 5,
        "start_time": "2021-09-12T17:02:58.568Z"
      },
      {
        "duration": 1355,
        "start_time": "2021-09-12T17:04:46.413Z"
      },
      {
        "duration": 38,
        "start_time": "2021-09-12T17:04:47.771Z"
      },
      {
        "duration": 37,
        "start_time": "2021-09-12T17:04:47.813Z"
      },
      {
        "duration": 18,
        "start_time": "2021-09-12T17:04:47.854Z"
      },
      {
        "duration": 41,
        "start_time": "2021-09-12T17:04:47.875Z"
      },
      {
        "duration": 308,
        "start_time": "2021-09-12T17:04:47.919Z"
      },
      {
        "duration": 72,
        "start_time": "2021-09-12T17:04:48.230Z"
      },
      {
        "duration": 402,
        "start_time": "2021-09-12T17:04:48.319Z"
      },
      {
        "duration": 5,
        "start_time": "2021-09-12T17:04:48.724Z"
      },
      {
        "duration": 13,
        "start_time": "2021-09-12T17:04:48.732Z"
      },
      {
        "duration": 14,
        "start_time": "2021-09-12T17:04:48.748Z"
      },
      {
        "duration": 29,
        "start_time": "2021-09-12T17:08:02.946Z"
      },
      {
        "duration": 27,
        "start_time": "2021-09-12T17:08:34.338Z"
      },
      {
        "duration": 3,
        "start_time": "2021-09-12T17:08:45.269Z"
      },
      {
        "duration": 26,
        "start_time": "2021-09-12T17:08:46.576Z"
      },
      {
        "duration": 13,
        "start_time": "2021-09-12T17:27:25.749Z"
      },
      {
        "duration": 8,
        "start_time": "2021-09-12T17:27:37.752Z"
      },
      {
        "duration": 330,
        "start_time": "2021-09-12T17:28:50.653Z"
      },
      {
        "duration": 404,
        "start_time": "2021-09-15T09:33:22.014Z"
      },
      {
        "duration": 2634,
        "start_time": "2021-09-15T09:33:29.366Z"
      },
      {
        "duration": 1487,
        "start_time": "2021-09-15T09:33:32.002Z"
      },
      {
        "duration": 36,
        "start_time": "2021-09-15T09:33:33.492Z"
      },
      {
        "duration": 42,
        "start_time": "2021-09-15T09:33:33.531Z"
      },
      {
        "duration": 5,
        "start_time": "2021-09-15T09:33:33.575Z"
      },
      {
        "duration": 564,
        "start_time": "2021-09-15T09:33:33.583Z"
      },
      {
        "duration": 182,
        "start_time": "2021-09-15T09:33:33.969Z"
      },
      {
        "duration": 181,
        "start_time": "2021-09-15T09:33:33.971Z"
      },
      {
        "duration": 181,
        "start_time": "2021-09-15T09:33:33.973Z"
      },
      {
        "duration": 181,
        "start_time": "2021-09-15T09:33:33.975Z"
      },
      {
        "duration": 169,
        "start_time": "2021-09-15T09:33:33.989Z"
      },
      {
        "duration": 94,
        "start_time": "2021-09-15T09:33:34.065Z"
      },
      {
        "duration": 93,
        "start_time": "2021-09-15T09:33:34.068Z"
      },
      {
        "duration": 92,
        "start_time": "2021-09-15T09:33:34.072Z"
      },
      {
        "duration": 5,
        "start_time": "2021-09-15T09:33:47.435Z"
      },
      {
        "duration": 340,
        "start_time": "2021-09-15T09:33:55.194Z"
      },
      {
        "duration": 339,
        "start_time": "2021-09-15T09:34:36.655Z"
      },
      {
        "duration": 310,
        "start_time": "2021-09-15T09:34:43.157Z"
      },
      {
        "duration": 6,
        "start_time": "2021-09-15T09:34:47.661Z"
      },
      {
        "duration": 350,
        "start_time": "2021-09-15T09:34:49.541Z"
      },
      {
        "duration": 1384,
        "start_time": "2021-09-15T09:34:55.723Z"
      },
      {
        "duration": 37,
        "start_time": "2021-09-15T09:34:57.110Z"
      },
      {
        "duration": 52,
        "start_time": "2021-09-15T09:34:57.150Z"
      },
      {
        "duration": 17,
        "start_time": "2021-09-15T09:34:57.204Z"
      },
      {
        "duration": 7,
        "start_time": "2021-09-15T09:34:57.223Z"
      },
      {
        "duration": 34,
        "start_time": "2021-09-15T09:34:57.233Z"
      },
      {
        "duration": 22,
        "start_time": "2021-09-15T09:34:57.270Z"
      },
      {
        "duration": 7,
        "start_time": "2021-09-15T09:34:57.294Z"
      },
      {
        "duration": 17,
        "start_time": "2021-09-15T09:34:57.304Z"
      },
      {
        "duration": 4,
        "start_time": "2021-09-15T09:34:57.324Z"
      },
      {
        "duration": 41,
        "start_time": "2021-09-15T09:34:57.331Z"
      },
      {
        "duration": 4,
        "start_time": "2021-09-15T09:34:57.375Z"
      },
      {
        "duration": 32,
        "start_time": "2021-09-15T09:34:57.382Z"
      },
      {
        "duration": 396,
        "start_time": "2021-09-15T09:34:57.417Z"
      },
      {
        "duration": 18,
        "start_time": "2021-09-15T09:35:11.401Z"
      },
      {
        "duration": 460,
        "start_time": "2021-09-15T09:35:20.872Z"
      },
      {
        "duration": 1279,
        "start_time": "2021-09-15T09:35:39.518Z"
      },
      {
        "duration": 34,
        "start_time": "2021-09-15T09:35:40.800Z"
      },
      {
        "duration": 44,
        "start_time": "2021-09-15T09:35:40.837Z"
      },
      {
        "duration": 17,
        "start_time": "2021-09-15T09:35:40.884Z"
      },
      {
        "duration": 6,
        "start_time": "2021-09-15T09:35:40.903Z"
      },
      {
        "duration": 19,
        "start_time": "2021-09-15T09:35:40.913Z"
      },
      {
        "duration": 20,
        "start_time": "2021-09-15T09:35:40.968Z"
      },
      {
        "duration": 7,
        "start_time": "2021-09-15T09:35:40.991Z"
      },
      {
        "duration": 12,
        "start_time": "2021-09-15T09:35:41.000Z"
      },
      {
        "duration": 4,
        "start_time": "2021-09-15T09:35:41.015Z"
      },
      {
        "duration": 51,
        "start_time": "2021-09-15T09:35:41.021Z"
      },
      {
        "duration": 3,
        "start_time": "2021-09-15T09:35:41.075Z"
      },
      {
        "duration": 29,
        "start_time": "2021-09-15T09:35:41.081Z"
      },
      {
        "duration": 369,
        "start_time": "2021-09-15T09:35:41.113Z"
      },
      {
        "duration": 6,
        "start_time": "2021-09-15T09:36:53.034Z"
      },
      {
        "duration": 1327,
        "start_time": "2021-09-15T09:43:43.478Z"
      },
      {
        "duration": 35,
        "start_time": "2021-09-15T09:43:44.808Z"
      },
      {
        "duration": 46,
        "start_time": "2021-09-15T09:43:44.845Z"
      },
      {
        "duration": 17,
        "start_time": "2021-09-15T09:43:44.894Z"
      },
      {
        "duration": 6,
        "start_time": "2021-09-15T09:43:44.913Z"
      },
      {
        "duration": 48,
        "start_time": "2021-09-15T09:43:44.921Z"
      },
      {
        "duration": 22,
        "start_time": "2021-09-15T09:43:44.972Z"
      },
      {
        "duration": 9,
        "start_time": "2021-09-15T09:43:44.997Z"
      },
      {
        "duration": 43,
        "start_time": "2021-09-15T09:43:45.009Z"
      },
      {
        "duration": 13,
        "start_time": "2021-09-15T09:43:45.054Z"
      },
      {
        "duration": 19,
        "start_time": "2021-09-15T09:43:45.069Z"
      },
      {
        "duration": 11,
        "start_time": "2021-09-15T09:43:45.091Z"
      },
      {
        "duration": 34,
        "start_time": "2021-09-15T09:43:45.104Z"
      },
      {
        "duration": 354,
        "start_time": "2021-09-15T09:43:45.141Z"
      },
      {
        "duration": 435,
        "start_time": "2021-09-16T12:05:29.198Z"
      },
      {
        "duration": 1439,
        "start_time": "2021-09-16T12:05:38.410Z"
      },
      {
        "duration": 36,
        "start_time": "2021-09-16T12:05:39.854Z"
      },
      {
        "duration": 45,
        "start_time": "2021-09-16T12:05:39.893Z"
      },
      {
        "duration": 16,
        "start_time": "2021-09-16T12:05:39.955Z"
      },
      {
        "duration": 6,
        "start_time": "2021-09-16T12:05:39.973Z"
      },
      {
        "duration": 28,
        "start_time": "2021-09-16T12:05:39.981Z"
      },
      {
        "duration": 51,
        "start_time": "2021-09-16T12:05:40.011Z"
      },
      {
        "duration": 7,
        "start_time": "2021-09-16T12:05:40.065Z"
      },
      {
        "duration": 20,
        "start_time": "2021-09-16T12:05:40.075Z"
      },
      {
        "duration": 11,
        "start_time": "2021-09-16T12:05:40.098Z"
      },
      {
        "duration": 25,
        "start_time": "2021-09-16T12:05:40.111Z"
      },
      {
        "duration": 17,
        "start_time": "2021-09-16T12:05:40.139Z"
      },
      {
        "duration": 36,
        "start_time": "2021-09-16T12:05:40.159Z"
      },
      {
        "duration": 333,
        "start_time": "2021-09-16T12:05:40.197Z"
      },
      {
        "duration": 850,
        "start_time": "2021-09-16T12:05:40.532Z"
      },
      {
        "duration": 1350,
        "start_time": "2021-09-16T12:09:53.847Z"
      },
      {
        "duration": 352,
        "start_time": "2021-09-16T12:12:48.934Z"
      },
      {
        "duration": 873,
        "start_time": "2021-09-16T12:13:08.288Z"
      },
      {
        "duration": 14,
        "start_time": "2021-09-16T12:13:11.574Z"
      },
      {
        "duration": 6,
        "start_time": "2021-09-16T12:14:00.644Z"
      },
      {
        "duration": 7,
        "start_time": "2021-09-16T12:14:05.009Z"
      },
      {
        "duration": 7,
        "start_time": "2021-09-16T12:14:19.491Z"
      },
      {
        "duration": 6,
        "start_time": "2021-09-16T12:14:37.836Z"
      },
      {
        "duration": 1386,
        "start_time": "2021-09-16T12:21:48.695Z"
      },
      {
        "duration": 36,
        "start_time": "2021-09-16T12:21:50.084Z"
      },
      {
        "duration": 46,
        "start_time": "2021-09-16T12:21:50.124Z"
      },
      {
        "duration": 18,
        "start_time": "2021-09-16T12:21:50.173Z"
      },
      {
        "duration": 26,
        "start_time": "2021-09-16T12:21:50.194Z"
      },
      {
        "duration": 36,
        "start_time": "2021-09-16T12:21:50.223Z"
      },
      {
        "duration": 34,
        "start_time": "2021-09-16T12:21:50.263Z"
      },
      {
        "duration": 25,
        "start_time": "2021-09-16T12:21:50.300Z"
      },
      {
        "duration": 23,
        "start_time": "2021-09-16T12:21:50.328Z"
      },
      {
        "duration": 4,
        "start_time": "2021-09-16T12:21:50.353Z"
      },
      {
        "duration": 20,
        "start_time": "2021-09-16T12:21:50.359Z"
      },
      {
        "duration": 8,
        "start_time": "2021-09-16T12:21:50.381Z"
      },
      {
        "duration": 38,
        "start_time": "2021-09-16T12:21:50.391Z"
      },
      {
        "duration": 336,
        "start_time": "2021-09-16T12:21:50.431Z"
      },
      {
        "duration": 844,
        "start_time": "2021-09-16T12:21:50.770Z"
      },
      {
        "duration": 13,
        "start_time": "2021-09-16T12:21:51.617Z"
      },
      {
        "duration": 6,
        "start_time": "2021-09-16T12:21:51.632Z"
      },
      {
        "duration": 1306,
        "start_time": "2021-09-16T12:23:58.184Z"
      },
      {
        "duration": 38,
        "start_time": "2021-09-16T12:23:59.494Z"
      },
      {
        "duration": 44,
        "start_time": "2021-09-16T12:23:59.536Z"
      },
      {
        "duration": 19,
        "start_time": "2021-09-16T12:23:59.583Z"
      },
      {
        "duration": 7,
        "start_time": "2021-09-16T12:23:59.606Z"
      },
      {
        "duration": 63,
        "start_time": "2021-09-16T12:23:59.616Z"
      },
      {
        "duration": 34,
        "start_time": "2021-09-16T12:23:59.682Z"
      },
      {
        "duration": 8,
        "start_time": "2021-09-16T12:23:59.718Z"
      },
      {
        "duration": 29,
        "start_time": "2021-09-16T12:23:59.730Z"
      },
      {
        "duration": 3,
        "start_time": "2021-09-16T12:23:59.763Z"
      },
      {
        "duration": 17,
        "start_time": "2021-09-16T12:23:59.768Z"
      },
      {
        "duration": 5,
        "start_time": "2021-09-16T12:23:59.787Z"
      },
      {
        "duration": 32,
        "start_time": "2021-09-16T12:23:59.795Z"
      },
      {
        "duration": 378,
        "start_time": "2021-09-16T12:23:59.830Z"
      },
      {
        "duration": 879,
        "start_time": "2021-09-16T12:24:00.210Z"
      },
      {
        "duration": 13,
        "start_time": "2021-09-16T12:24:01.091Z"
      },
      {
        "duration": 69,
        "start_time": "2021-09-16T12:24:01.107Z"
      },
      {
        "duration": 232834,
        "start_time": "2021-09-16T12:24:01.178Z"
      },
      {
        "duration": 513,
        "start_time": "2021-09-16T12:27:54.014Z"
      },
      {
        "duration": -613,
        "start_time": "2021-09-16T12:27:55.143Z"
      },
      {
        "duration": -617,
        "start_time": "2021-09-16T12:27:55.148Z"
      },
      {
        "duration": 337,
        "start_time": "2021-09-16T12:28:32.170Z"
      },
      {
        "duration": 5,
        "start_time": "2021-09-16T12:28:50.955Z"
      },
      {
        "duration": 6,
        "start_time": "2021-09-16T12:29:08.962Z"
      },
      {
        "duration": 6,
        "start_time": "2021-09-16T12:30:16.260Z"
      },
      {
        "duration": 40,
        "start_time": "2021-09-16T12:30:25.224Z"
      },
      {
        "duration": 6,
        "start_time": "2021-09-16T12:30:27.143Z"
      },
      {
        "duration": 472,
        "start_time": "2021-09-16T12:33:35.608Z"
      },
      {
        "duration": 934,
        "start_time": "2021-09-16T12:37:33.834Z"
      },
      {
        "duration": 137,
        "start_time": "2021-09-16T12:38:10.723Z"
      },
      {
        "duration": 1365,
        "start_time": "2021-09-16T12:38:16.719Z"
      },
      {
        "duration": 37,
        "start_time": "2021-09-16T12:38:18.086Z"
      },
      {
        "duration": 40,
        "start_time": "2021-09-16T12:38:18.125Z"
      },
      {
        "duration": 16,
        "start_time": "2021-09-16T12:38:18.168Z"
      },
      {
        "duration": 6,
        "start_time": "2021-09-16T12:38:18.186Z"
      },
      {
        "duration": 24,
        "start_time": "2021-09-16T12:38:18.194Z"
      },
      {
        "duration": 50,
        "start_time": "2021-09-16T12:38:18.221Z"
      },
      {
        "duration": 6,
        "start_time": "2021-09-16T12:38:18.275Z"
      },
      {
        "duration": 11,
        "start_time": "2021-09-16T12:38:18.285Z"
      },
      {
        "duration": 4,
        "start_time": "2021-09-16T12:38:18.299Z"
      },
      {
        "duration": 13,
        "start_time": "2021-09-16T12:38:18.305Z"
      },
      {
        "duration": 36,
        "start_time": "2021-09-16T12:38:18.320Z"
      },
      {
        "duration": 39,
        "start_time": "2021-09-16T12:38:18.358Z"
      },
      {
        "duration": 339,
        "start_time": "2021-09-16T12:38:18.399Z"
      },
      {
        "duration": 1350,
        "start_time": "2021-09-16T12:38:18.740Z"
      },
      {
        "duration": 59,
        "start_time": "2021-09-16T12:38:20.034Z"
      },
      {
        "duration": -5,
        "start_time": "2021-09-16T12:38:20.099Z"
      },
      {
        "duration": -10,
        "start_time": "2021-09-16T12:38:20.105Z"
      },
      {
        "duration": -11,
        "start_time": "2021-09-16T12:38:20.108Z"
      },
      {
        "duration": -12,
        "start_time": "2021-09-16T12:38:20.110Z"
      },
      {
        "duration": -13,
        "start_time": "2021-09-16T12:38:20.112Z"
      },
      {
        "duration": -13,
        "start_time": "2021-09-16T12:38:20.113Z"
      },
      {
        "duration": -13,
        "start_time": "2021-09-16T12:38:20.115Z"
      },
      {
        "duration": -14,
        "start_time": "2021-09-16T12:38:20.117Z"
      },
      {
        "duration": -14,
        "start_time": "2021-09-16T12:38:20.118Z"
      },
      {
        "duration": -14,
        "start_time": "2021-09-16T12:38:20.120Z"
      },
      {
        "duration": 1107,
        "start_time": "2021-09-16T12:43:00.946Z"
      },
      {
        "duration": 4,
        "start_time": "2021-09-16T12:43:42.316Z"
      },
      {
        "duration": 1176,
        "start_time": "2021-09-16T12:43:54.754Z"
      },
      {
        "duration": 1353,
        "start_time": "2021-09-16T12:45:28.036Z"
      },
      {
        "duration": 39,
        "start_time": "2021-09-16T12:45:29.393Z"
      },
      {
        "duration": 43,
        "start_time": "2021-09-16T12:45:29.435Z"
      },
      {
        "duration": 20,
        "start_time": "2021-09-16T12:45:29.481Z"
      },
      {
        "duration": 8,
        "start_time": "2021-09-16T12:45:29.504Z"
      },
      {
        "duration": 20,
        "start_time": "2021-09-16T12:45:29.556Z"
      },
      {
        "duration": 21,
        "start_time": "2021-09-16T12:45:29.581Z"
      },
      {
        "duration": 11,
        "start_time": "2021-09-16T12:45:29.606Z"
      },
      {
        "duration": 50,
        "start_time": "2021-09-16T12:45:29.620Z"
      },
      {
        "duration": 3,
        "start_time": "2021-09-16T12:45:29.673Z"
      },
      {
        "duration": 25,
        "start_time": "2021-09-16T12:45:29.679Z"
      },
      {
        "duration": 8,
        "start_time": "2021-09-16T12:45:29.707Z"
      },
      {
        "duration": 53,
        "start_time": "2021-09-16T12:45:29.719Z"
      },
      {
        "duration": 407,
        "start_time": "2021-09-16T12:45:29.775Z"
      },
      {
        "duration": 4,
        "start_time": "2021-09-16T12:45:30.184Z"
      },
      {
        "duration": 913,
        "start_time": "2021-09-16T12:45:30.191Z"
      },
      {
        "duration": 5,
        "start_time": "2021-09-16T12:45:31.107Z"
      },
      {
        "duration": 473,
        "start_time": "2021-09-16T12:45:31.114Z"
      },
      {
        "duration": 21,
        "start_time": "2021-09-16T12:45:31.568Z"
      },
      {
        "duration": 20,
        "start_time": "2021-09-16T12:45:31.571Z"
      },
      {
        "duration": 17,
        "start_time": "2021-09-16T12:45:31.575Z"
      },
      {
        "duration": 7,
        "start_time": "2021-09-16T12:45:31.587Z"
      },
      {
        "duration": 5,
        "start_time": "2021-09-16T12:45:31.590Z"
      },
      {
        "duration": 3,
        "start_time": "2021-09-16T12:45:31.594Z"
      },
      {
        "duration": 0,
        "start_time": "2021-09-16T12:45:31.598Z"
      },
      {
        "duration": -2,
        "start_time": "2021-09-16T12:45:31.601Z"
      },
      {
        "duration": -4,
        "start_time": "2021-09-16T12:45:31.604Z"
      },
      {
        "duration": 16,
        "start_time": "2021-09-16T12:46:04.246Z"
      },
      {
        "duration": 6,
        "start_time": "2021-09-16T12:46:06.496Z"
      },
      {
        "duration": 1352,
        "start_time": "2021-09-16T12:46:47.130Z"
      },
      {
        "duration": 37,
        "start_time": "2021-09-16T12:46:48.485Z"
      },
      {
        "duration": 44,
        "start_time": "2021-09-16T12:46:48.525Z"
      },
      {
        "duration": 17,
        "start_time": "2021-09-16T12:46:48.571Z"
      },
      {
        "duration": 8,
        "start_time": "2021-09-16T12:46:48.590Z"
      },
      {
        "duration": 24,
        "start_time": "2021-09-16T12:46:48.600Z"
      },
      {
        "duration": 27,
        "start_time": "2021-09-16T12:46:48.656Z"
      },
      {
        "duration": 8,
        "start_time": "2021-09-16T12:46:48.686Z"
      },
      {
        "duration": 18,
        "start_time": "2021-09-16T12:46:48.699Z"
      },
      {
        "duration": 3,
        "start_time": "2021-09-16T12:46:48.721Z"
      },
      {
        "duration": 34,
        "start_time": "2021-09-16T12:46:48.727Z"
      },
      {
        "duration": 16,
        "start_time": "2021-09-16T12:46:48.764Z"
      },
      {
        "duration": 32,
        "start_time": "2021-09-16T12:46:48.782Z"
      },
      {
        "duration": 343,
        "start_time": "2021-09-16T12:46:48.816Z"
      },
      {
        "duration": 5,
        "start_time": "2021-09-16T12:46:49.162Z"
      },
      {
        "duration": 903,
        "start_time": "2021-09-16T12:46:49.170Z"
      },
      {
        "duration": 5,
        "start_time": "2021-09-16T12:46:50.076Z"
      },
      {
        "duration": 20,
        "start_time": "2021-09-16T12:46:50.083Z"
      },
      {
        "duration": 8,
        "start_time": "2021-09-16T12:46:50.105Z"
      },
      {
        "duration": 1349,
        "start_time": "2021-09-16T12:47:48.943Z"
      },
      {
        "duration": 36,
        "start_time": "2021-09-16T12:47:50.294Z"
      },
      {
        "duration": 41,
        "start_time": "2021-09-16T12:47:50.333Z"
      },
      {
        "duration": 17,
        "start_time": "2021-09-16T12:47:50.377Z"
      },
      {
        "duration": 6,
        "start_time": "2021-09-16T12:47:50.396Z"
      },
      {
        "duration": 51,
        "start_time": "2021-09-16T12:47:50.405Z"
      },
      {
        "duration": 20,
        "start_time": "2021-09-16T12:47:50.459Z"
      },
      {
        "duration": 8,
        "start_time": "2021-09-16T12:47:50.483Z"
      },
      {
        "duration": 18,
        "start_time": "2021-09-16T12:47:50.495Z"
      },
      {
        "duration": 6,
        "start_time": "2021-09-16T12:47:50.516Z"
      },
      {
        "duration": 39,
        "start_time": "2021-09-16T12:47:50.524Z"
      },
      {
        "duration": 20,
        "start_time": "2021-09-16T12:47:50.565Z"
      },
      {
        "duration": 53,
        "start_time": "2021-09-16T12:47:50.588Z"
      },
      {
        "duration": 320,
        "start_time": "2021-09-16T12:47:50.644Z"
      },
      {
        "duration": 3,
        "start_time": "2021-09-16T12:47:50.967Z"
      },
      {
        "duration": 847,
        "start_time": "2021-09-16T12:47:50.973Z"
      },
      {
        "duration": 6,
        "start_time": "2021-09-16T12:47:51.823Z"
      },
      {
        "duration": 30,
        "start_time": "2021-09-16T12:47:51.831Z"
      },
      {
        "duration": 14,
        "start_time": "2021-09-16T12:47:51.863Z"
      },
      {
        "duration": 233538,
        "start_time": "2021-09-16T12:47:51.879Z"
      },
      {
        "duration": 5,
        "start_time": "2021-09-16T12:51:45.419Z"
      },
      {
        "duration": 66,
        "start_time": "2021-09-16T12:51:45.426Z"
      },
      {
        "duration": 7,
        "start_time": "2021-09-16T12:51:45.496Z"
      },
      {
        "duration": 119,
        "start_time": "2021-09-16T12:51:45.505Z"
      },
      {
        "duration": 50,
        "start_time": "2021-09-16T12:51:45.576Z"
      },
      {
        "duration": 49,
        "start_time": "2021-09-16T12:51:45.579Z"
      },
      {
        "duration": 47,
        "start_time": "2021-09-16T12:51:45.582Z"
      },
      {
        "duration": 118,
        "start_time": "2021-09-16T12:52:04.015Z"
      },
      {
        "duration": 2364,
        "start_time": "2021-09-16T12:52:18.162Z"
      },
      {
        "duration": 15805,
        "start_time": "2021-09-16T12:52:35.164Z"
      },
      {
        "duration": 6,
        "start_time": "2021-09-16T12:53:23.120Z"
      },
      {
        "duration": 23,
        "start_time": "2021-09-16T12:53:31.832Z"
      },
      {
        "duration": 6,
        "start_time": "2021-09-16T12:53:34.939Z"
      },
      {
        "duration": 1295,
        "start_time": "2021-09-16T16:16:12.048Z"
      },
      {
        "duration": 1296,
        "start_time": "2021-09-16T16:16:19.764Z"
      },
      {
        "duration": 41,
        "start_time": "2021-09-16T16:16:21.063Z"
      },
      {
        "duration": 43,
        "start_time": "2021-09-16T16:16:21.108Z"
      },
      {
        "duration": 19,
        "start_time": "2021-09-16T16:16:21.155Z"
      },
      {
        "duration": 8,
        "start_time": "2021-09-16T16:16:21.176Z"
      },
      {
        "duration": 19,
        "start_time": "2021-09-16T16:16:21.216Z"
      },
      {
        "duration": 30,
        "start_time": "2021-09-16T16:16:21.237Z"
      },
      {
        "duration": 17,
        "start_time": "2021-09-16T16:16:21.270Z"
      },
      {
        "duration": 25,
        "start_time": "2021-09-16T16:16:21.291Z"
      },
      {
        "duration": 4,
        "start_time": "2021-09-16T16:16:21.320Z"
      },
      {
        "duration": 34,
        "start_time": "2021-09-16T16:16:21.326Z"
      },
      {
        "duration": 9,
        "start_time": "2021-09-16T16:16:21.362Z"
      },
      {
        "duration": 49,
        "start_time": "2021-09-16T16:16:21.374Z"
      },
      {
        "duration": 340,
        "start_time": "2021-09-16T16:16:21.425Z"
      },
      {
        "duration": 4,
        "start_time": "2021-09-16T16:16:21.767Z"
      },
      {
        "duration": 819,
        "start_time": "2021-09-16T16:16:21.773Z"
      },
      {
        "duration": 6,
        "start_time": "2021-09-16T16:16:22.594Z"
      },
      {
        "duration": 13,
        "start_time": "2021-09-16T16:16:22.616Z"
      },
      {
        "duration": 6,
        "start_time": "2021-09-16T16:16:22.631Z"
      },
      {
        "duration": 238405,
        "start_time": "2021-09-16T16:16:22.639Z"
      },
      {
        "duration": 6,
        "start_time": "2021-09-16T16:20:21.046Z"
      },
      {
        "duration": 67,
        "start_time": "2021-09-16T16:20:21.054Z"
      },
      {
        "duration": 7,
        "start_time": "2021-09-16T16:20:21.124Z"
      },
      {
        "duration": 15997,
        "start_time": "2021-09-16T16:20:21.133Z"
      },
      {
        "duration": 85,
        "start_time": "2021-09-16T16:20:37.134Z"
      },
      {
        "duration": 195,
        "start_time": "2021-09-16T16:20:37.222Z"
      },
      {
        "duration": 95,
        "start_time": "2021-09-16T16:20:37.424Z"
      },
      {
        "duration": 22,
        "start_time": "2021-09-16T16:58:34.924Z"
      },
      {
        "duration": 23,
        "start_time": "2021-09-16T16:58:36.707Z"
      },
      {
        "duration": 837,
        "start_time": "2021-09-16T17:04:17.546Z"
      },
      {
        "duration": 6,
        "start_time": "2021-09-16T17:04:39.313Z"
      },
      {
        "duration": 1706,
        "start_time": "2021-09-16T17:06:01.957Z"
      },
      {
        "duration": 6,
        "start_time": "2021-09-16T17:06:07.115Z"
      },
      {
        "duration": 1345,
        "start_time": "2021-09-16T17:21:08.510Z"
      },
      {
        "duration": 36,
        "start_time": "2021-09-16T17:21:09.858Z"
      },
      {
        "duration": 41,
        "start_time": "2021-09-16T17:21:09.898Z"
      },
      {
        "duration": 18,
        "start_time": "2021-09-16T17:21:09.942Z"
      },
      {
        "duration": 14,
        "start_time": "2021-09-16T17:21:09.963Z"
      },
      {
        "duration": 47,
        "start_time": "2021-09-16T17:21:09.980Z"
      },
      {
        "duration": 52,
        "start_time": "2021-09-16T17:21:10.030Z"
      },
      {
        "duration": 9,
        "start_time": "2021-09-16T17:21:10.087Z"
      },
      {
        "duration": 30,
        "start_time": "2021-09-16T17:21:10.100Z"
      },
      {
        "duration": 8,
        "start_time": "2021-09-16T17:21:10.133Z"
      },
      {
        "duration": 20,
        "start_time": "2021-09-16T17:21:10.144Z"
      },
      {
        "duration": 11,
        "start_time": "2021-09-16T17:21:10.166Z"
      },
      {
        "duration": 46,
        "start_time": "2021-09-16T17:21:10.179Z"
      },
      {
        "duration": 326,
        "start_time": "2021-09-16T17:21:10.227Z"
      },
      {
        "duration": 3,
        "start_time": "2021-09-16T17:21:10.556Z"
      },
      {
        "duration": 858,
        "start_time": "2021-09-16T17:21:10.562Z"
      },
      {
        "duration": 6,
        "start_time": "2021-09-16T17:21:11.422Z"
      },
      {
        "duration": 35,
        "start_time": "2021-09-16T17:21:11.430Z"
      },
      {
        "duration": 15,
        "start_time": "2021-09-16T17:21:11.467Z"
      },
      {
        "duration": 244064,
        "start_time": "2021-09-16T17:21:11.485Z"
      },
      {
        "duration": 6,
        "start_time": "2021-09-16T17:25:15.551Z"
      },
      {
        "duration": 67,
        "start_time": "2021-09-16T17:25:15.559Z"
      },
      {
        "duration": 6,
        "start_time": "2021-09-16T17:25:15.630Z"
      },
      {
        "duration": 15906,
        "start_time": "2021-09-16T17:25:15.639Z"
      },
      {
        "duration": 101,
        "start_time": "2021-09-16T17:25:31.618Z"
      },
      {
        "duration": 201,
        "start_time": "2021-09-16T17:25:31.722Z"
      },
      {
        "duration": 95,
        "start_time": "2021-09-16T17:25:31.926Z"
      },
      {
        "duration": 18,
        "start_time": "2021-09-16T17:25:32.024Z"
      },
      {
        "duration": 1312,
        "start_time": "2021-09-16T17:25:32.044Z"
      },
      {
        "duration": 7,
        "start_time": "2021-09-16T17:25:33.358Z"
      },
      {
        "duration": 1382,
        "start_time": "2021-09-18T08:39:47.131Z"
      },
      {
        "duration": 45,
        "start_time": "2021-09-18T08:39:48.516Z"
      },
      {
        "duration": 39,
        "start_time": "2021-09-18T08:39:48.565Z"
      },
      {
        "duration": 19,
        "start_time": "2021-09-18T08:39:48.608Z"
      },
      {
        "duration": 9,
        "start_time": "2021-09-18T08:39:48.656Z"
      },
      {
        "duration": 26,
        "start_time": "2021-09-18T08:39:48.669Z"
      },
      {
        "duration": 29,
        "start_time": "2021-09-18T08:39:48.698Z"
      },
      {
        "duration": 28,
        "start_time": "2021-09-18T08:39:48.730Z"
      },
      {
        "duration": 15,
        "start_time": "2021-09-18T08:39:48.761Z"
      },
      {
        "duration": 3,
        "start_time": "2021-09-18T08:39:48.779Z"
      },
      {
        "duration": 15,
        "start_time": "2021-09-18T08:39:48.785Z"
      },
      {
        "duration": 4,
        "start_time": "2021-09-18T08:39:48.803Z"
      },
      {
        "duration": 79,
        "start_time": "2021-09-18T08:39:48.810Z"
      },
      {
        "duration": 378,
        "start_time": "2021-09-18T08:39:48.892Z"
      },
      {
        "duration": 5,
        "start_time": "2021-09-18T08:39:49.273Z"
      },
      {
        "duration": 896,
        "start_time": "2021-09-18T08:39:49.281Z"
      },
      {
        "duration": 6,
        "start_time": "2021-09-18T08:39:50.180Z"
      },
      {
        "duration": 15,
        "start_time": "2021-09-18T08:39:50.189Z"
      },
      {
        "duration": 10,
        "start_time": "2021-09-18T08:39:50.207Z"
      },
      {
        "duration": 264502,
        "start_time": "2021-09-18T08:39:50.220Z"
      },
      {
        "duration": 5,
        "start_time": "2021-09-18T08:44:14.724Z"
      },
      {
        "duration": 69,
        "start_time": "2021-09-18T08:44:14.731Z"
      },
      {
        "duration": 7,
        "start_time": "2021-09-18T08:44:14.804Z"
      },
      {
        "duration": 12642,
        "start_time": "2021-09-18T08:44:14.813Z"
      },
      {
        "duration": 7,
        "start_time": "2021-09-18T08:44:27.460Z"
      },
      {
        "duration": 199,
        "start_time": "2021-09-18T08:44:27.557Z"
      },
      {
        "duration": 14,
        "start_time": "2021-09-18T08:44:27.759Z"
      },
      {
        "duration": 23,
        "start_time": "2021-09-18T08:44:27.862Z"
      },
      {
        "duration": 1388,
        "start_time": "2021-09-18T08:44:27.887Z"
      },
      {
        "duration": 6,
        "start_time": "2021-09-18T08:44:29.277Z"
      },
      {
        "duration": 22,
        "start_time": "2021-09-18T08:48:52.677Z"
      },
      {
        "duration": 1861,
        "start_time": "2021-09-18T08:48:52.701Z"
      },
      {
        "duration": 8,
        "start_time": "2021-09-18T08:48:54.566Z"
      },
      {
        "duration": 1368,
        "start_time": "2021-09-18T08:52:06.093Z"
      },
      {
        "duration": 37,
        "start_time": "2021-09-18T08:52:07.465Z"
      },
      {
        "duration": 35,
        "start_time": "2021-09-18T08:52:07.505Z"
      },
      {
        "duration": 30,
        "start_time": "2021-09-18T08:52:07.542Z"
      },
      {
        "duration": 13,
        "start_time": "2021-09-18T08:52:07.575Z"
      },
      {
        "duration": 27,
        "start_time": "2021-09-18T08:52:07.591Z"
      },
      {
        "duration": 53,
        "start_time": "2021-09-18T08:52:07.620Z"
      },
      {
        "duration": 9,
        "start_time": "2021-09-18T08:52:07.676Z"
      },
      {
        "duration": 18,
        "start_time": "2021-09-18T08:52:07.689Z"
      },
      {
        "duration": 15,
        "start_time": "2021-09-18T08:52:07.710Z"
      },
      {
        "duration": 47,
        "start_time": "2021-09-18T08:52:07.727Z"
      },
      {
        "duration": 10,
        "start_time": "2021-09-18T08:52:07.777Z"
      },
      {
        "duration": 58,
        "start_time": "2021-09-18T08:52:07.791Z"
      },
      {
        "duration": 524,
        "start_time": "2021-09-18T08:52:07.852Z"
      },
      {
        "duration": 3,
        "start_time": "2021-09-18T08:52:08.379Z"
      },
      {
        "duration": 1010,
        "start_time": "2021-09-18T08:52:08.385Z"
      },
      {
        "duration": 6,
        "start_time": "2021-09-18T08:52:09.398Z"
      },
      {
        "duration": 26,
        "start_time": "2021-09-18T08:52:09.407Z"
      },
      {
        "duration": 25,
        "start_time": "2021-09-18T08:52:09.436Z"
      },
      {
        "duration": 1385,
        "start_time": "2021-09-18T08:52:49.118Z"
      },
      {
        "duration": 35,
        "start_time": "2021-09-18T08:52:50.506Z"
      },
      {
        "duration": 45,
        "start_time": "2021-09-18T08:52:50.544Z"
      },
      {
        "duration": 16,
        "start_time": "2021-09-18T08:52:50.592Z"
      },
      {
        "duration": 6,
        "start_time": "2021-09-18T08:52:50.610Z"
      },
      {
        "duration": 55,
        "start_time": "2021-09-18T08:52:50.618Z"
      },
      {
        "duration": 21,
        "start_time": "2021-09-18T08:52:50.675Z"
      },
      {
        "duration": 7,
        "start_time": "2021-09-18T08:52:50.701Z"
      },
      {
        "duration": 43,
        "start_time": "2021-09-18T08:52:50.711Z"
      },
      {
        "duration": 4,
        "start_time": "2021-09-18T08:52:50.757Z"
      },
      {
        "duration": 23,
        "start_time": "2021-09-18T08:52:50.765Z"
      },
      {
        "duration": 7,
        "start_time": "2021-09-18T08:52:50.791Z"
      },
      {
        "duration": 32,
        "start_time": "2021-09-18T08:52:50.801Z"
      },
      {
        "duration": 386,
        "start_time": "2021-09-18T08:52:50.836Z"
      },
      {
        "duration": 3,
        "start_time": "2021-09-18T08:52:51.225Z"
      },
      {
        "duration": 868,
        "start_time": "2021-09-18T08:52:51.231Z"
      },
      {
        "duration": 5,
        "start_time": "2021-09-18T08:52:52.102Z"
      },
      {
        "duration": 15,
        "start_time": "2021-09-18T08:52:52.109Z"
      },
      {
        "duration": 28,
        "start_time": "2021-09-18T08:52:52.127Z"
      },
      {
        "duration": 247325,
        "start_time": "2021-09-18T08:52:52.157Z"
      },
      {
        "duration": 5,
        "start_time": "2021-09-18T08:56:59.484Z"
      },
      {
        "duration": 76,
        "start_time": "2021-09-18T08:56:59.492Z"
      },
      {
        "duration": 7,
        "start_time": "2021-09-18T08:56:59.574Z"
      },
      {
        "duration": 12674,
        "start_time": "2021-09-18T08:56:59.585Z"
      },
      {
        "duration": 91,
        "start_time": "2021-09-18T08:57:12.262Z"
      },
      {
        "duration": 106,
        "start_time": "2021-09-18T08:57:12.359Z"
      },
      {
        "duration": 91,
        "start_time": "2021-09-18T08:57:12.469Z"
      },
      {
        "duration": 109,
        "start_time": "2021-09-18T08:57:12.570Z"
      },
      {
        "duration": 1894,
        "start_time": "2021-09-18T08:57:12.681Z"
      },
      {
        "duration": 8,
        "start_time": "2021-09-18T08:57:14.577Z"
      },
      {
        "duration": 533728,
        "start_time": "2021-09-18T08:57:14.587Z"
      },
      {
        "duration": 6,
        "start_time": "2021-09-18T09:06:08.317Z"
      },
      {
        "duration": 16235,
        "start_time": "2021-09-18T09:06:08.325Z"
      },
      {
        "duration": 89,
        "start_time": "2021-09-18T09:06:24.570Z"
      },
      {
        "duration": 112,
        "start_time": "2021-09-18T09:06:24.666Z"
      },
      {
        "duration": 448,
        "start_time": "2021-09-18T09:06:24.781Z"
      },
      {
        "duration": 6,
        "start_time": "2021-09-18T09:06:25.231Z"
      },
      {
        "duration": 126617,
        "start_time": "2021-09-18T09:06:25.239Z"
      },
      {
        "duration": 8,
        "start_time": "2021-09-18T09:08:31.859Z"
      },
      {
        "duration": 996,
        "start_time": "2021-09-18T09:08:31.870Z"
      },
      {
        "duration": 86,
        "start_time": "2021-09-18T09:08:32.873Z"
      },
      {
        "duration": 1064,
        "start_time": "2021-09-18T09:08:32.963Z"
      },
      {
        "duration": 5,
        "start_time": "2021-09-18T09:08:34.029Z"
      },
      {
        "duration": 253469,
        "start_time": "2021-09-18T09:08:34.036Z"
      },
      {
        "duration": 6,
        "start_time": "2021-09-18T09:12:47.507Z"
      },
      {
        "duration": 16039,
        "start_time": "2021-09-18T09:12:47.516Z"
      },
      {
        "duration": 98,
        "start_time": "2021-09-18T09:13:03.559Z"
      },
      {
        "duration": 1342,
        "start_time": "2021-09-18T09:45:35.850Z"
      },
      {
        "duration": 38,
        "start_time": "2021-09-18T09:45:37.194Z"
      },
      {
        "duration": 38,
        "start_time": "2021-09-18T09:45:37.235Z"
      },
      {
        "duration": 16,
        "start_time": "2021-09-18T09:45:37.276Z"
      },
      {
        "duration": 8,
        "start_time": "2021-09-18T09:45:37.294Z"
      },
      {
        "duration": 37,
        "start_time": "2021-09-18T09:45:37.305Z"
      },
      {
        "duration": 21,
        "start_time": "2021-09-18T09:45:37.354Z"
      },
      {
        "duration": 13,
        "start_time": "2021-09-18T09:45:37.379Z"
      },
      {
        "duration": 16,
        "start_time": "2021-09-18T09:45:37.395Z"
      },
      {
        "duration": 7,
        "start_time": "2021-09-18T09:45:37.414Z"
      },
      {
        "duration": 36,
        "start_time": "2021-09-18T09:45:37.423Z"
      },
      {
        "duration": 3,
        "start_time": "2021-09-18T09:45:37.462Z"
      },
      {
        "duration": 39,
        "start_time": "2021-09-18T09:45:37.467Z"
      },
      {
        "duration": 350,
        "start_time": "2021-09-18T09:45:37.509Z"
      },
      {
        "duration": 3,
        "start_time": "2021-09-18T09:45:37.862Z"
      },
      {
        "duration": 854,
        "start_time": "2021-09-18T09:45:37.867Z"
      },
      {
        "duration": 5,
        "start_time": "2021-09-18T09:45:38.723Z"
      },
      {
        "duration": 31,
        "start_time": "2021-09-18T09:45:38.730Z"
      },
      {
        "duration": 7,
        "start_time": "2021-09-18T09:45:38.764Z"
      },
      {
        "duration": 237045,
        "start_time": "2021-09-18T09:45:38.773Z"
      },
      {
        "duration": 4,
        "start_time": "2021-09-18T09:49:35.821Z"
      },
      {
        "duration": 68,
        "start_time": "2021-09-18T09:49:35.828Z"
      },
      {
        "duration": 7,
        "start_time": "2021-09-18T09:49:35.901Z"
      },
      {
        "duration": 16059,
        "start_time": "2021-09-18T09:49:35.911Z"
      },
      {
        "duration": 7,
        "start_time": "2021-09-18T09:49:52.056Z"
      },
      {
        "duration": 99,
        "start_time": "2021-09-18T09:49:52.156Z"
      },
      {
        "duration": 98,
        "start_time": "2021-09-18T09:49:52.259Z"
      },
      {
        "duration": 22,
        "start_time": "2021-09-18T09:49:52.360Z"
      },
      {
        "duration": 1667,
        "start_time": "2021-09-18T09:49:52.384Z"
      },
      {
        "duration": 6,
        "start_time": "2021-09-18T09:49:54.055Z"
      },
      {
        "duration": 504355,
        "start_time": "2021-09-18T09:49:54.063Z"
      },
      {
        "duration": 6,
        "start_time": "2021-09-18T09:58:18.420Z"
      },
      {
        "duration": 27,
        "start_time": "2021-09-18T09:58:18.428Z"
      },
      {
        "duration": 16306,
        "start_time": "2021-09-18T09:58:18.457Z"
      },
      {
        "duration": 100,
        "start_time": "2021-09-18T09:58:34.856Z"
      },
      {
        "duration": 18,
        "start_time": "2021-09-18T09:58:34.959Z"
      },
      {
        "duration": 421,
        "start_time": "2021-09-18T09:58:34.980Z"
      },
      {
        "duration": 6,
        "start_time": "2021-09-18T09:58:35.404Z"
      },
      {
        "duration": 119530,
        "start_time": "2021-09-18T09:58:35.413Z"
      },
      {
        "duration": 8,
        "start_time": "2021-09-18T10:00:34.946Z"
      },
      {
        "duration": 998,
        "start_time": "2021-09-18T10:00:34.957Z"
      },
      {
        "duration": 98,
        "start_time": "2021-09-18T10:00:35.959Z"
      },
      {
        "duration": 899,
        "start_time": "2021-09-18T10:00:36.060Z"
      },
      {
        "duration": 7,
        "start_time": "2021-09-18T10:00:36.962Z"
      },
      {
        "duration": 238387,
        "start_time": "2021-09-18T10:00:36.972Z"
      },
      {
        "duration": 6,
        "start_time": "2021-09-18T10:04:35.361Z"
      },
      {
        "duration": 15886,
        "start_time": "2021-09-18T10:04:35.369Z"
      },
      {
        "duration": 98,
        "start_time": "2021-09-18T10:04:51.259Z"
      },
      {
        "duration": 1048,
        "start_time": "2021-09-18T10:11:01.942Z"
      },
      {
        "duration": 750,
        "start_time": "2021-09-18T10:11:47.290Z"
      },
      {
        "duration": 503178,
        "start_time": "2021-09-18T10:21:43.123Z"
      },
      {
        "duration": 5,
        "start_time": "2021-09-18T10:30:06.304Z"
      },
      {
        "duration": 33,
        "start_time": "2021-09-18T10:30:06.311Z"
      },
      {
        "duration": 262965,
        "start_time": "2021-09-18T10:36:18.969Z"
      },
      {
        "duration": 7,
        "start_time": "2021-09-18T10:40:41.936Z"
      },
      {
        "duration": 5,
        "start_time": "2021-09-18T10:40:41.955Z"
      },
      {
        "duration": -52882,
        "start_time": "2021-09-18T10:54:45.520Z"
      },
      {
        "duration": -52886,
        "start_time": "2021-09-18T10:54:45.525Z"
      },
      {
        "duration": -52890,
        "start_time": "2021-09-18T10:54:45.531Z"
      },
      {
        "duration": 404,
        "start_time": "2021-09-18T10:56:08.294Z"
      },
      {
        "duration": 13540,
        "start_time": "2021-09-18T10:56:33.561Z"
      },
      {
        "duration": 5,
        "start_time": "2021-09-18T10:56:47.103Z"
      },
      {
        "duration": 5,
        "start_time": "2021-09-18T10:56:47.874Z"
      },
      {
        "duration": 13692,
        "start_time": "2021-09-18T10:56:54.281Z"
      },
      {
        "duration": 5,
        "start_time": "2021-09-18T10:57:07.975Z"
      },
      {
        "duration": 15,
        "start_time": "2021-09-18T10:57:07.982Z"
      },
      {
        "duration": 14416,
        "start_time": "2021-09-18T10:57:30.797Z"
      },
      {
        "duration": 5,
        "start_time": "2021-09-18T10:57:45.215Z"
      },
      {
        "duration": 31,
        "start_time": "2021-09-18T10:57:45.223Z"
      },
      {
        "duration": 14470,
        "start_time": "2021-09-18T10:58:06.102Z"
      },
      {
        "duration": 5,
        "start_time": "2021-09-18T10:58:20.575Z"
      },
      {
        "duration": 28,
        "start_time": "2021-09-18T10:58:20.582Z"
      },
      {
        "duration": 14311,
        "start_time": "2021-09-18T10:58:47.587Z"
      },
      {
        "duration": 7,
        "start_time": "2021-09-18T10:59:01.901Z"
      },
      {
        "duration": 25,
        "start_time": "2021-09-18T10:59:01.912Z"
      },
      {
        "duration": 13745,
        "start_time": "2021-09-18T10:59:52.403Z"
      },
      {
        "duration": 6,
        "start_time": "2021-09-18T11:00:06.150Z"
      },
      {
        "duration": 26,
        "start_time": "2021-09-18T11:00:06.159Z"
      },
      {
        "duration": 14479,
        "start_time": "2021-09-18T11:00:16.467Z"
      },
      {
        "duration": 7,
        "start_time": "2021-09-18T11:00:30.949Z"
      },
      {
        "duration": 56,
        "start_time": "2021-09-18T11:00:30.959Z"
      },
      {
        "duration": 39300,
        "start_time": "2021-09-18T11:00:36.920Z"
      },
      {
        "duration": 6,
        "start_time": "2021-09-18T11:01:16.222Z"
      },
      {
        "duration": 25,
        "start_time": "2021-09-18T11:01:16.231Z"
      },
      {
        "duration": 40021,
        "start_time": "2021-09-18T11:01:52.402Z"
      },
      {
        "duration": 7,
        "start_time": "2021-09-18T11:02:32.426Z"
      },
      {
        "duration": 26,
        "start_time": "2021-09-18T11:02:32.436Z"
      },
      {
        "duration": 40171,
        "start_time": "2021-09-18T11:06:52.440Z"
      },
      {
        "duration": 5,
        "start_time": "2021-09-18T11:07:32.615Z"
      },
      {
        "duration": 21,
        "start_time": "2021-09-18T11:07:32.622Z"
      },
      {
        "duration": 2296906,
        "start_time": "2021-09-18T11:09:19.383Z"
      },
      {
        "duration": 5,
        "start_time": "2021-09-18T11:47:36.292Z"
      },
      {
        "duration": 26,
        "start_time": "2021-09-18T11:47:36.300Z"
      },
      {
        "duration": 275722,
        "start_time": "2021-09-18T12:01:12.848Z"
      },
      {
        "duration": 4,
        "start_time": "2021-09-18T12:05:48.573Z"
      },
      {
        "duration": 7,
        "start_time": "2021-09-18T12:05:48.580Z"
      },
      {
        "duration": 1370,
        "start_time": "2021-09-18T12:07:28.224Z"
      },
      {
        "duration": 36,
        "start_time": "2021-09-18T12:07:29.597Z"
      },
      {
        "duration": 40,
        "start_time": "2021-09-18T12:07:29.635Z"
      },
      {
        "duration": 17,
        "start_time": "2021-09-18T12:07:29.678Z"
      },
      {
        "duration": 9,
        "start_time": "2021-09-18T12:07:29.698Z"
      },
      {
        "duration": 49,
        "start_time": "2021-09-18T12:07:29.710Z"
      },
      {
        "duration": 29,
        "start_time": "2021-09-18T12:07:29.762Z"
      },
      {
        "duration": 10,
        "start_time": "2021-09-18T12:07:29.795Z"
      },
      {
        "duration": 23,
        "start_time": "2021-09-18T12:07:29.808Z"
      },
      {
        "duration": 10,
        "start_time": "2021-09-18T12:07:29.833Z"
      },
      {
        "duration": 10,
        "start_time": "2021-09-18T12:07:29.855Z"
      },
      {
        "duration": 3,
        "start_time": "2021-09-18T12:07:29.868Z"
      },
      {
        "duration": 41,
        "start_time": "2021-09-18T12:07:29.874Z"
      },
      {
        "duration": 378,
        "start_time": "2021-09-18T12:07:29.918Z"
      },
      {
        "duration": 5,
        "start_time": "2021-09-18T12:07:30.299Z"
      },
      {
        "duration": 940,
        "start_time": "2021-09-18T12:07:30.308Z"
      },
      {
        "duration": 6,
        "start_time": "2021-09-18T12:07:31.251Z"
      },
      {
        "duration": 20,
        "start_time": "2021-09-18T12:07:31.261Z"
      },
      {
        "duration": 16,
        "start_time": "2021-09-18T12:07:31.284Z"
      },
      {
        "duration": 249499,
        "start_time": "2021-09-18T12:07:31.303Z"
      },
      {
        "duration": 6,
        "start_time": "2021-09-18T12:11:40.805Z"
      },
      {
        "duration": 57,
        "start_time": "2021-09-18T12:11:40.814Z"
      },
      {
        "duration": 7,
        "start_time": "2021-09-18T12:11:40.876Z"
      },
      {
        "duration": 15984,
        "start_time": "2021-09-18T12:11:40.886Z"
      },
      {
        "duration": 84,
        "start_time": "2021-09-18T12:11:56.874Z"
      },
      {
        "duration": 123,
        "start_time": "2021-09-18T12:11:56.962Z"
      },
      {
        "duration": 167,
        "start_time": "2021-09-18T12:11:57.089Z"
      },
      {
        "duration": 30,
        "start_time": "2021-09-18T12:11:57.259Z"
      },
      {
        "duration": 2481,
        "start_time": "2021-09-18T12:11:57.292Z"
      },
      {
        "duration": 6,
        "start_time": "2021-09-18T12:11:59.777Z"
      },
      {
        "duration": 527562,
        "start_time": "2021-09-18T12:11:59.786Z"
      },
      {
        "duration": 7,
        "start_time": "2021-09-18T12:20:47.351Z"
      },
      {
        "duration": 7,
        "start_time": "2021-09-18T12:20:47.361Z"
      },
      {
        "duration": 16385,
        "start_time": "2021-09-18T12:20:47.371Z"
      },
      {
        "duration": 96,
        "start_time": "2021-09-18T12:21:03.760Z"
      },
      {
        "duration": 18,
        "start_time": "2021-09-18T12:21:03.859Z"
      },
      {
        "duration": 478,
        "start_time": "2021-09-18T12:21:03.880Z"
      },
      {
        "duration": 6,
        "start_time": "2021-09-18T12:21:04.360Z"
      },
      {
        "duration": 126934,
        "start_time": "2021-09-18T12:21:04.369Z"
      },
      {
        "duration": 6,
        "start_time": "2021-09-18T12:23:11.306Z"
      },
      {
        "duration": 1053,
        "start_time": "2021-09-18T12:23:11.315Z"
      },
      {
        "duration": 99,
        "start_time": "2021-09-18T12:23:12.456Z"
      },
      {
        "duration": 957,
        "start_time": "2021-09-18T12:23:12.557Z"
      },
      {
        "duration": 6,
        "start_time": "2021-09-18T12:23:13.516Z"
      },
      {
        "duration": 240315,
        "start_time": "2021-09-18T12:23:13.524Z"
      },
      {
        "duration": 15,
        "start_time": "2021-09-18T12:27:13.842Z"
      },
      {
        "duration": 16095,
        "start_time": "2021-09-18T12:27:13.860Z"
      },
      {
        "duration": 97,
        "start_time": "2021-09-18T12:27:29.959Z"
      },
      {
        "duration": 278235,
        "start_time": "2021-09-18T12:27:30.059Z"
      },
      {
        "duration": 6,
        "start_time": "2021-09-18T12:32:08.297Z"
      },
      {
        "duration": 22,
        "start_time": "2021-09-18T12:32:08.306Z"
      },
      {
        "duration": 250183,
        "start_time": "2021-09-18T12:34:16.181Z"
      },
      {
        "duration": 4,
        "start_time": "2021-09-18T12:38:26.367Z"
      },
      {
        "duration": 5,
        "start_time": "2021-09-18T12:38:56.736Z"
      },
      {
        "duration": 347,
        "start_time": "2021-09-18T12:39:45.662Z"
      },
      {
        "duration": 5,
        "start_time": "2021-09-18T12:39:50.720Z"
      },
      {
        "duration": 5,
        "start_time": "2021-09-18T12:40:42.678Z"
      },
      {
        "duration": 343,
        "start_time": "2021-09-18T12:41:13.206Z"
      },
      {
        "duration": 4,
        "start_time": "2021-09-18T12:41:15.264Z"
      },
      {
        "duration": 1358,
        "start_time": "2021-09-18T12:54:56.800Z"
      },
      {
        "duration": 48,
        "start_time": "2021-09-18T12:54:58.161Z"
      },
      {
        "duration": 45,
        "start_time": "2021-09-18T12:54:58.213Z"
      },
      {
        "duration": 17,
        "start_time": "2021-09-18T12:54:58.261Z"
      },
      {
        "duration": 7,
        "start_time": "2021-09-18T12:54:58.282Z"
      },
      {
        "duration": 28,
        "start_time": "2021-09-18T12:54:58.291Z"
      },
      {
        "duration": 56,
        "start_time": "2021-09-18T12:54:58.322Z"
      },
      {
        "duration": 14,
        "start_time": "2021-09-18T12:54:58.382Z"
      },
      {
        "duration": 25,
        "start_time": "2021-09-18T12:54:58.400Z"
      },
      {
        "duration": 12,
        "start_time": "2021-09-18T12:54:58.427Z"
      },
      {
        "duration": 25,
        "start_time": "2021-09-18T12:54:58.442Z"
      },
      {
        "duration": 20,
        "start_time": "2021-09-18T12:54:58.470Z"
      },
      {
        "duration": 49,
        "start_time": "2021-09-18T12:54:58.492Z"
      },
      {
        "duration": 331,
        "start_time": "2021-09-18T12:54:58.544Z"
      },
      {
        "duration": 4,
        "start_time": "2021-09-18T12:54:58.878Z"
      },
      {
        "duration": 924,
        "start_time": "2021-09-18T12:54:58.884Z"
      },
      {
        "duration": 5,
        "start_time": "2021-09-18T12:54:59.811Z"
      },
      {
        "duration": 37,
        "start_time": "2021-09-18T12:54:59.819Z"
      },
      {
        "duration": 5,
        "start_time": "2021-09-18T12:54:59.859Z"
      },
      {
        "duration": 344,
        "start_time": "2021-09-18T16:59:44.210Z"
      },
      {
        "duration": 1214,
        "start_time": "2021-09-18T17:00:42.089Z"
      },
      {
        "duration": 31,
        "start_time": "2021-09-18T17:00:43.305Z"
      },
      {
        "duration": 25,
        "start_time": "2021-09-18T17:00:43.337Z"
      },
      {
        "duration": 14,
        "start_time": "2021-09-18T17:00:43.376Z"
      },
      {
        "duration": 5,
        "start_time": "2021-09-18T17:00:43.391Z"
      },
      {
        "duration": 16,
        "start_time": "2021-09-18T17:00:43.398Z"
      },
      {
        "duration": 17,
        "start_time": "2021-09-18T17:00:43.416Z"
      },
      {
        "duration": 6,
        "start_time": "2021-09-18T17:00:43.436Z"
      },
      {
        "duration": 38,
        "start_time": "2021-09-18T17:00:43.444Z"
      },
      {
        "duration": 3,
        "start_time": "2021-09-18T17:00:47.651Z"
      },
      {
        "duration": 3,
        "start_time": "2021-09-18T17:00:55.187Z"
      },
      {
        "duration": 4,
        "start_time": "2021-09-18T17:01:10.168Z"
      },
      {
        "duration": 4,
        "start_time": "2021-09-18T17:01:48.929Z"
      },
      {
        "duration": 3,
        "start_time": "2021-09-18T17:01:50.417Z"
      },
      {
        "duration": 4,
        "start_time": "2021-09-18T17:01:52.048Z"
      },
      {
        "duration": 5,
        "start_time": "2021-09-18T17:11:37.245Z"
      },
      {
        "duration": 32,
        "start_time": "2021-09-18T17:11:37.252Z"
      },
      {
        "duration": 21,
        "start_time": "2021-09-18T17:11:37.286Z"
      },
      {
        "duration": 15,
        "start_time": "2021-09-18T17:11:37.309Z"
      },
      {
        "duration": 4,
        "start_time": "2021-09-18T17:11:37.326Z"
      },
      {
        "duration": 45,
        "start_time": "2021-09-18T17:11:37.332Z"
      },
      {
        "duration": 13,
        "start_time": "2021-09-18T17:11:37.379Z"
      },
      {
        "duration": 5,
        "start_time": "2021-09-18T17:11:37.394Z"
      },
      {
        "duration": 9,
        "start_time": "2021-09-18T17:11:37.401Z"
      },
      {
        "duration": 4,
        "start_time": "2021-09-18T17:11:37.411Z"
      },
      {
        "duration": 5,
        "start_time": "2021-09-18T17:11:37.418Z"
      },
      {
        "duration": 5,
        "start_time": "2021-09-18T17:11:37.425Z"
      },
      {
        "duration": 5,
        "start_time": "2021-09-18T17:11:37.431Z"
      },
      {
        "duration": 8,
        "start_time": "2021-09-18T17:11:37.477Z"
      },
      {
        "duration": 3,
        "start_time": "2021-09-18T17:11:37.487Z"
      },
      {
        "duration": 23,
        "start_time": "2021-09-18T17:11:37.492Z"
      },
      {
        "duration": 241,
        "start_time": "2021-09-18T17:11:37.517Z"
      },
      {
        "duration": 2,
        "start_time": "2021-09-18T17:11:37.760Z"
      },
      {
        "duration": 655,
        "start_time": "2021-09-18T17:11:37.764Z"
      },
      {
        "duration": 3,
        "start_time": "2021-09-18T17:11:38.421Z"
      },
      {
        "duration": 11,
        "start_time": "2021-09-18T17:11:38.426Z"
      },
      {
        "duration": 3,
        "start_time": "2021-09-18T17:11:38.439Z"
      },
      {
        "duration": 180370,
        "start_time": "2021-09-18T17:11:38.444Z"
      },
      {
        "duration": 4,
        "start_time": "2021-09-18T17:14:38.817Z"
      },
      {
        "duration": 31,
        "start_time": "2021-09-18T17:14:38.823Z"
      },
      {
        "duration": 4,
        "start_time": "2021-09-18T17:14:38.855Z"
      },
      {
        "duration": 13808,
        "start_time": "2021-09-18T17:14:38.877Z"
      },
      {
        "duration": 89,
        "start_time": "2021-09-18T17:14:52.690Z"
      },
      {
        "duration": 96,
        "start_time": "2021-09-18T17:14:52.781Z"
      },
      {
        "duration": 6,
        "start_time": "2021-09-18T17:14:52.879Z"
      },
      {
        "duration": 101,
        "start_time": "2021-09-18T17:14:52.887Z"
      },
      {
        "duration": 4,
        "start_time": "2021-09-18T17:15:16.093Z"
      },
      {
        "duration": 3,
        "start_time": "2021-09-18T17:15:51.255Z"
      },
      {
        "duration": 13,
        "start_time": "2021-09-18T17:20:09.283Z"
      },
      {
        "duration": 14,
        "start_time": "2021-09-18T17:20:12.229Z"
      },
      {
        "duration": 4,
        "start_time": "2021-09-18T17:20:14.664Z"
      },
      {
        "duration": 13,
        "start_time": "2021-09-18T17:20:21.857Z"
      },
      {
        "duration": 4,
        "start_time": "2021-09-18T17:20:23.697Z"
      },
      {
        "duration": 15,
        "start_time": "2021-09-18T17:21:54.077Z"
      },
      {
        "duration": 3,
        "start_time": "2021-09-18T17:21:55.890Z"
      },
      {
        "duration": 13,
        "start_time": "2021-09-18T17:22:01.413Z"
      },
      {
        "duration": 3,
        "start_time": "2021-09-18T17:22:03.451Z"
      },
      {
        "duration": 13,
        "start_time": "2021-09-18T17:22:07.030Z"
      },
      {
        "duration": 3,
        "start_time": "2021-09-18T17:22:08.750Z"
      },
      {
        "duration": 16,
        "start_time": "2021-09-18T17:22:30.763Z"
      },
      {
        "duration": 4,
        "start_time": "2021-09-18T17:22:32.420Z"
      },
      {
        "duration": 13,
        "start_time": "2021-09-18T17:22:38.056Z"
      },
      {
        "duration": 3,
        "start_time": "2021-09-18T17:22:40.747Z"
      },
      {
        "duration": 14,
        "start_time": "2021-09-18T17:24:01.129Z"
      },
      {
        "duration": 3,
        "start_time": "2021-09-18T17:24:03.485Z"
      },
      {
        "duration": 3,
        "start_time": "2021-09-21T06:25:04.647Z"
      },
      {
        "duration": 1316,
        "start_time": "2021-09-21T07:21:09.579Z"
      },
      {
        "duration": 40,
        "start_time": "2021-09-21T07:21:10.897Z"
      },
      {
        "duration": 32,
        "start_time": "2021-09-21T07:21:10.940Z"
      },
      {
        "duration": 15,
        "start_time": "2021-09-21T07:21:10.975Z"
      },
      {
        "duration": 5,
        "start_time": "2021-09-21T07:21:10.992Z"
      },
      {
        "duration": 17,
        "start_time": "2021-09-21T07:21:10.999Z"
      },
      {
        "duration": 39,
        "start_time": "2021-09-21T07:21:11.018Z"
      },
      {
        "duration": 5,
        "start_time": "2021-09-21T07:21:11.059Z"
      },
      {
        "duration": 9,
        "start_time": "2021-09-21T07:21:11.067Z"
      },
      {
        "duration": 4,
        "start_time": "2021-09-21T07:21:11.079Z"
      },
      {
        "duration": 7,
        "start_time": "2021-09-21T07:21:11.084Z"
      },
      {
        "duration": 4,
        "start_time": "2021-09-21T07:21:11.093Z"
      },
      {
        "duration": 5,
        "start_time": "2021-09-21T07:21:11.099Z"
      },
      {
        "duration": 15,
        "start_time": "2021-09-21T07:21:11.106Z"
      },
      {
        "duration": 27,
        "start_time": "2021-09-21T07:21:11.123Z"
      },
      {
        "duration": 24,
        "start_time": "2021-09-21T07:21:11.152Z"
      },
      {
        "duration": 236,
        "start_time": "2021-09-21T07:21:11.177Z"
      },
      {
        "duration": 3,
        "start_time": "2021-09-21T07:21:11.415Z"
      },
      {
        "duration": 605,
        "start_time": "2021-09-21T07:21:11.419Z"
      },
      {
        "duration": 4,
        "start_time": "2021-09-21T07:21:12.025Z"
      },
      {
        "duration": 21,
        "start_time": "2021-09-21T07:21:12.031Z"
      },
      {
        "duration": 4,
        "start_time": "2021-09-21T07:21:12.054Z"
      },
      {
        "duration": 199552,
        "start_time": "2021-09-21T07:21:12.060Z"
      },
      {
        "duration": 4,
        "start_time": "2021-09-21T07:24:31.614Z"
      },
      {
        "duration": 44,
        "start_time": "2021-09-21T07:24:31.620Z"
      },
      {
        "duration": 3,
        "start_time": "2021-09-21T07:24:31.666Z"
      },
      {
        "duration": 15078,
        "start_time": "2021-09-21T07:24:31.672Z"
      },
      {
        "duration": 7,
        "start_time": "2021-09-21T07:24:46.753Z"
      },
      {
        "duration": 95,
        "start_time": "2021-09-21T07:24:46.764Z"
      },
      {
        "duration": 105,
        "start_time": "2021-09-21T07:24:46.861Z"
      },
      {
        "duration": 107,
        "start_time": "2021-09-21T07:24:46.967Z"
      },
      {
        "duration": 17,
        "start_time": "2021-09-21T07:24:47.076Z"
      },
      {
        "duration": 27,
        "start_time": "2021-09-21T07:24:47.095Z"
      },
      {
        "duration": 414,
        "start_time": "2021-09-21T07:24:47.124Z"
      },
      {
        "duration": -182,
        "start_time": "2021-09-21T07:24:47.722Z"
      },
      {
        "duration": -186,
        "start_time": "2021-09-21T07:24:47.728Z"
      },
      {
        "duration": -199,
        "start_time": "2021-09-21T07:24:47.742Z"
      },
      {
        "duration": -212,
        "start_time": "2021-09-21T07:24:47.756Z"
      },
      {
        "duration": 183,
        "start_time": "2021-09-21T07:35:40.416Z"
      },
      {
        "duration": 281,
        "start_time": "2021-09-21T07:35:53.352Z"
      },
      {
        "duration": 53519,
        "start_time": "2021-09-21T07:36:04.687Z"
      },
      {
        "duration": 54,
        "start_time": "2021-09-21T07:36:58.208Z"
      },
      {
        "duration": 17,
        "start_time": "2021-09-21T07:40:52.590Z"
      },
      {
        "duration": 4,
        "start_time": "2021-09-21T07:40:55.261Z"
      },
      {
        "duration": 87,
        "start_time": "2021-09-21T07:41:28.359Z"
      },
      {
        "duration": 26545,
        "start_time": "2021-09-21T07:42:32.049Z"
      },
      {
        "duration": 27405,
        "start_time": "2021-09-21T07:45:29.608Z"
      },
      {
        "duration": 51141,
        "start_time": "2021-09-21T07:46:22.299Z"
      },
      {
        "duration": 26166,
        "start_time": "2021-09-21T07:47:17.020Z"
      },
      {
        "duration": 25,
        "start_time": "2021-09-21T07:50:09.517Z"
      },
      {
        "duration": 32,
        "start_time": "2021-09-21T07:50:50.828Z"
      },
      {
        "duration": 24,
        "start_time": "2021-09-21T07:50:53.959Z"
      },
      {
        "duration": 30,
        "start_time": "2021-09-21T07:50:56.922Z"
      },
      {
        "duration": 49,
        "start_time": "2021-09-21T07:51:02.802Z"
      },
      {
        "duration": 631,
        "start_time": "2021-09-21T07:51:35.745Z"
      },
      {
        "duration": 4,
        "start_time": "2021-09-21T07:51:38.980Z"
      },
      {
        "duration": 203820,
        "start_time": "2021-09-21T07:51:42.850Z"
      },
      {
        "duration": 5,
        "start_time": "2021-09-21T07:55:06.672Z"
      },
      {
        "duration": 6,
        "start_time": "2021-09-21T07:55:06.679Z"
      },
      {
        "duration": 15575,
        "start_time": "2021-09-21T07:55:06.687Z"
      },
      {
        "duration": 92,
        "start_time": "2021-09-21T07:55:22.264Z"
      },
      {
        "duration": 5,
        "start_time": "2021-09-21T07:58:01.166Z"
      },
      {
        "duration": 4,
        "start_time": "2021-09-21T07:58:11.622Z"
      },
      {
        "duration": 38,
        "start_time": "2021-09-21T08:06:08.191Z"
      },
      {
        "duration": 36,
        "start_time": "2021-09-21T08:06:11.169Z"
      },
      {
        "duration": 35,
        "start_time": "2021-09-21T08:06:34.021Z"
      },
      {
        "duration": 242,
        "start_time": "2021-09-21T08:07:45.732Z"
      },
      {
        "duration": 4,
        "start_time": "2021-09-21T08:07:47.911Z"
      },
      {
        "duration": 259,
        "start_time": "2021-09-21T08:08:25.712Z"
      },
      {
        "duration": 4,
        "start_time": "2021-09-21T08:08:46.548Z"
      },
      {
        "duration": 153,
        "start_time": "2021-09-21T08:08:53.206Z"
      },
      {
        "duration": 4,
        "start_time": "2021-09-21T08:11:27.514Z"
      },
      {
        "duration": 164,
        "start_time": "2021-09-21T08:11:30.649Z"
      },
      {
        "duration": 150,
        "start_time": "2021-09-21T08:12:17.462Z"
      },
      {
        "duration": 1208,
        "start_time": "2021-09-21T08:15:50.158Z"
      },
      {
        "duration": 31,
        "start_time": "2021-09-21T08:15:51.368Z"
      },
      {
        "duration": 24,
        "start_time": "2021-09-21T08:15:51.401Z"
      },
      {
        "duration": 11,
        "start_time": "2021-09-21T08:15:51.427Z"
      },
      {
        "duration": 6,
        "start_time": "2021-09-21T08:15:51.448Z"
      },
      {
        "duration": 23,
        "start_time": "2021-09-21T08:15:51.455Z"
      },
      {
        "duration": 21,
        "start_time": "2021-09-21T08:15:51.479Z"
      },
      {
        "duration": 7,
        "start_time": "2021-09-21T08:15:51.504Z"
      },
      {
        "duration": 19,
        "start_time": "2021-09-21T08:15:51.514Z"
      },
      {
        "duration": 14,
        "start_time": "2021-09-21T08:15:51.535Z"
      },
      {
        "duration": 4,
        "start_time": "2021-09-21T08:15:51.551Z"
      },
      {
        "duration": 7,
        "start_time": "2021-09-21T08:15:51.557Z"
      },
      {
        "duration": 11,
        "start_time": "2021-09-21T08:15:51.565Z"
      },
      {
        "duration": 27,
        "start_time": "2021-09-21T08:15:51.578Z"
      },
      {
        "duration": 32,
        "start_time": "2021-09-21T08:15:51.607Z"
      },
      {
        "duration": 38,
        "start_time": "2021-09-21T08:15:51.641Z"
      },
      {
        "duration": 134,
        "start_time": "2021-09-21T08:15:51.681Z"
      },
      {
        "duration": 2,
        "start_time": "2021-09-21T08:15:51.817Z"
      },
      {
        "duration": 645,
        "start_time": "2021-09-21T08:15:51.821Z"
      },
      {
        "duration": 3,
        "start_time": "2021-09-21T08:15:52.468Z"
      },
      {
        "duration": 21,
        "start_time": "2021-09-21T08:15:52.473Z"
      },
      {
        "duration": 10,
        "start_time": "2021-09-21T08:15:52.496Z"
      },
      {
        "duration": 172381,
        "start_time": "2021-09-21T08:15:52.510Z"
      },
      {
        "duration": 4,
        "start_time": "2021-09-21T08:18:44.893Z"
      },
      {
        "duration": 26,
        "start_time": "2021-09-21T08:18:44.899Z"
      },
      {
        "duration": 23,
        "start_time": "2021-09-21T08:18:44.927Z"
      },
      {
        "duration": 14610,
        "start_time": "2021-09-21T08:18:44.951Z"
      },
      {
        "duration": 87,
        "start_time": "2021-09-21T08:18:59.564Z"
      },
      {
        "duration": 104,
        "start_time": "2021-09-21T08:18:59.654Z"
      },
      {
        "duration": 90,
        "start_time": "2021-09-21T08:18:59.760Z"
      },
      {
        "duration": 14,
        "start_time": "2021-09-21T08:18:59.852Z"
      },
      {
        "duration": 4,
        "start_time": "2021-09-21T08:18:59.868Z"
      },
      {
        "duration": 4,
        "start_time": "2021-09-21T08:18:59.874Z"
      },
      {
        "duration": 268,
        "start_time": "2021-09-21T08:18:59.880Z"
      },
      {
        "duration": 3,
        "start_time": "2021-09-21T08:19:00.150Z"
      },
      {
        "duration": 53496,
        "start_time": "2021-09-21T08:19:00.155Z"
      },
      {
        "duration": 2,
        "start_time": "2021-09-21T08:19:53.653Z"
      },
      {
        "duration": 194,
        "start_time": "2021-09-21T08:19:53.657Z"
      },
      {
        "duration": 96,
        "start_time": "2021-09-21T08:19:53.854Z"
      },
      {
        "duration": 4,
        "start_time": "2021-09-21T08:19:53.952Z"
      },
      {
        "duration": 8,
        "start_time": "2021-09-21T08:19:53.957Z"
      },
      {
        "duration": 83,
        "start_time": "2021-09-21T08:19:53.967Z"
      },
      {
        "duration": 3,
        "start_time": "2021-09-21T08:19:54.051Z"
      },
      {
        "duration": 17539,
        "start_time": "2021-09-21T08:19:54.055Z"
      },
      {
        "duration": 3,
        "start_time": "2021-09-21T08:20:11.595Z"
      },
      {
        "duration": 56,
        "start_time": "2021-09-21T08:20:11.599Z"
      },
      {
        "duration": 792,
        "start_time": "2021-09-21T08:20:11.657Z"
      },
      {
        "duration": 4,
        "start_time": "2021-09-21T08:20:12.450Z"
      },
      {
        "duration": 156749,
        "start_time": "2021-09-21T08:20:12.456Z"
      },
      {
        "duration": -244,
        "start_time": "2021-09-21T08:22:49.451Z"
      },
      {
        "duration": -249,
        "start_time": "2021-09-21T08:22:49.457Z"
      },
      {
        "duration": -253,
        "start_time": "2021-09-21T08:22:49.462Z"
      },
      {
        "duration": -258,
        "start_time": "2021-09-21T08:22:49.468Z"
      },
      {
        "duration": -263,
        "start_time": "2021-09-21T08:22:49.474Z"
      },
      {
        "duration": -265,
        "start_time": "2021-09-21T08:22:49.477Z"
      },
      {
        "duration": -268,
        "start_time": "2021-09-21T08:22:49.481Z"
      },
      {
        "duration": -314,
        "start_time": "2021-09-21T08:27:38.226Z"
      },
      {
        "duration": -319,
        "start_time": "2021-09-21T08:27:38.232Z"
      },
      {
        "duration": -322,
        "start_time": "2021-09-21T08:27:38.236Z"
      },
      {
        "duration": -324,
        "start_time": "2021-09-21T08:27:38.239Z"
      },
      {
        "duration": -328,
        "start_time": "2021-09-21T08:27:38.244Z"
      },
      {
        "duration": -334,
        "start_time": "2021-09-21T08:27:38.250Z"
      },
      {
        "duration": -339,
        "start_time": "2021-09-21T08:27:38.256Z"
      },
      {
        "duration": -345,
        "start_time": "2021-09-21T08:27:38.262Z"
      },
      {
        "duration": -349,
        "start_time": "2021-09-21T08:27:38.267Z"
      },
      {
        "duration": -353,
        "start_time": "2021-09-21T08:27:38.272Z"
      },
      {
        "duration": 999,
        "start_time": "2021-09-21T08:28:15.350Z"
      },
      {
        "duration": 5,
        "start_time": "2021-09-21T08:28:16.968Z"
      },
      {
        "duration": 180479,
        "start_time": "2021-09-21T08:28:19.461Z"
      },
      {
        "duration": 6,
        "start_time": "2021-09-21T08:31:19.938Z"
      },
      {
        "duration": 1,
        "start_time": "2021-09-21T08:31:19.944Z"
      },
      {
        "duration": -2,
        "start_time": "2021-09-21T08:31:19.948Z"
      },
      {
        "duration": -4,
        "start_time": "2021-09-21T08:31:19.952Z"
      },
      {
        "duration": -7,
        "start_time": "2021-09-21T08:31:19.956Z"
      },
      {
        "duration": -10,
        "start_time": "2021-09-21T08:31:19.960Z"
      },
      {
        "duration": -12,
        "start_time": "2021-09-21T08:31:19.963Z"
      },
      {
        "duration": 1465,
        "start_time": "2021-09-21T12:52:52.426Z"
      },
      {
        "duration": 37,
        "start_time": "2021-09-21T12:52:53.893Z"
      },
      {
        "duration": 34,
        "start_time": "2021-09-21T12:52:53.933Z"
      },
      {
        "duration": 17,
        "start_time": "2021-09-21T12:52:53.969Z"
      },
      {
        "duration": 6,
        "start_time": "2021-09-21T12:52:53.988Z"
      },
      {
        "duration": 23,
        "start_time": "2021-09-21T12:52:53.996Z"
      },
      {
        "duration": 50,
        "start_time": "2021-09-21T12:52:54.021Z"
      },
      {
        "duration": 20,
        "start_time": "2021-09-21T12:52:54.073Z"
      },
      {
        "duration": 12,
        "start_time": "2021-09-21T12:52:54.097Z"
      },
      {
        "duration": 8,
        "start_time": "2021-09-21T12:52:54.112Z"
      },
      {
        "duration": 12,
        "start_time": "2021-09-21T12:52:54.122Z"
      },
      {
        "duration": 22,
        "start_time": "2021-09-21T12:52:54.136Z"
      },
      {
        "duration": 25,
        "start_time": "2021-09-21T12:52:54.161Z"
      },
      {
        "duration": 18,
        "start_time": "2021-09-21T12:52:54.188Z"
      },
      {
        "duration": 9,
        "start_time": "2021-09-21T12:52:54.209Z"
      },
      {
        "duration": 35,
        "start_time": "2021-09-21T12:52:54.220Z"
      },
      {
        "duration": 240,
        "start_time": "2021-09-21T12:52:54.257Z"
      },
      {
        "duration": 5,
        "start_time": "2021-09-21T12:52:54.500Z"
      },
      {
        "duration": 871,
        "start_time": "2021-09-21T12:52:54.507Z"
      },
      {
        "duration": 5,
        "start_time": "2021-09-21T12:52:55.380Z"
      },
      {
        "duration": 17,
        "start_time": "2021-09-21T12:52:55.389Z"
      },
      {
        "duration": 6,
        "start_time": "2021-09-21T12:52:55.409Z"
      },
      {
        "duration": 240288,
        "start_time": "2021-09-21T12:52:55.417Z"
      },
      {
        "duration": 5,
        "start_time": "2021-09-21T12:56:55.708Z"
      },
      {
        "duration": 56,
        "start_time": "2021-09-21T12:56:55.716Z"
      },
      {
        "duration": 6,
        "start_time": "2021-09-21T12:56:55.774Z"
      },
      {
        "duration": 15987,
        "start_time": "2021-09-21T12:56:55.786Z"
      },
      {
        "duration": 85,
        "start_time": "2021-09-21T12:57:11.783Z"
      },
      {
        "duration": 16,
        "start_time": "2021-09-21T12:57:11.957Z"
      },
      {
        "duration": 87,
        "start_time": "2021-09-21T12:57:11.976Z"
      },
      {
        "duration": 106,
        "start_time": "2021-09-21T12:57:12.067Z"
      },
      {
        "duration": 5,
        "start_time": "2021-09-21T12:57:12.175Z"
      },
      {
        "duration": 6,
        "start_time": "2021-09-21T12:57:12.183Z"
      },
      {
        "duration": 314,
        "start_time": "2021-09-21T12:57:12.192Z"
      },
      {
        "duration": 3,
        "start_time": "2021-09-21T12:57:12.509Z"
      },
      {
        "duration": 87659,
        "start_time": "2021-09-21T12:57:12.514Z"
      },
      {
        "duration": 3,
        "start_time": "2021-09-21T12:58:40.175Z"
      },
      {
        "duration": 175,
        "start_time": "2021-09-21T12:58:40.181Z"
      },
      {
        "duration": 109,
        "start_time": "2021-09-21T12:58:40.359Z"
      },
      {
        "duration": 6,
        "start_time": "2021-09-21T12:58:40.470Z"
      },
      {
        "duration": 11,
        "start_time": "2021-09-21T12:58:40.478Z"
      },
      {
        "duration": 138,
        "start_time": "2021-09-21T12:58:40.492Z"
      },
      {
        "duration": 3,
        "start_time": "2021-09-21T12:58:40.632Z"
      },
      {
        "duration": 27271,
        "start_time": "2021-09-21T12:58:40.637Z"
      },
      {
        "duration": 2,
        "start_time": "2021-09-21T12:59:07.910Z"
      },
      {
        "duration": 142,
        "start_time": "2021-09-21T12:59:07.914Z"
      },
      {
        "duration": 1029,
        "start_time": "2021-09-21T12:59:08.059Z"
      },
      {
        "duration": 6,
        "start_time": "2021-09-21T12:59:09.091Z"
      },
      {
        "duration": -61410,
        "start_time": "2021-09-21T13:04:11.427Z"
      },
      {
        "duration": -61413,
        "start_time": "2021-09-21T13:04:11.432Z"
      },
      {
        "duration": -61481,
        "start_time": "2021-09-21T13:04:11.503Z"
      },
      {
        "duration": -61484,
        "start_time": "2021-09-21T13:04:11.508Z"
      },
      {
        "duration": -61493,
        "start_time": "2021-09-21T13:04:11.518Z"
      },
      {
        "duration": -61495,
        "start_time": "2021-09-21T13:04:11.523Z"
      },
      {
        "duration": -61498,
        "start_time": "2021-09-21T13:04:11.527Z"
      },
      {
        "duration": -61503,
        "start_time": "2021-09-21T13:04:11.533Z"
      },
      {
        "duration": 246943,
        "start_time": "2021-09-21T13:03:44.097Z"
      },
      {
        "duration": 15,
        "start_time": "2021-09-21T13:07:51.042Z"
      },
      {
        "duration": 5,
        "start_time": "2021-09-21T13:07:51.060Z"
      },
      {
        "duration": 16093,
        "start_time": "2021-09-21T13:07:51.068Z"
      },
      {
        "duration": 93,
        "start_time": "2021-09-21T13:08:07.165Z"
      },
      {
        "duration": 375,
        "start_time": "2021-09-21T13:08:07.261Z"
      },
      {
        "duration": 5,
        "start_time": "2021-09-21T13:08:07.639Z"
      },
      {
        "duration": 262,
        "start_time": "2021-09-21T13:08:07.657Z"
      }
    ],
    "kernelspec": {
      "display_name": "Python 3",
      "language": "python",
      "name": "python3"
    },
    "language_info": {
      "codemirror_mode": {
        "name": "ipython",
        "version": 3
      },
      "file_extension": ".py",
      "mimetype": "text/x-python",
      "name": "python",
      "nbconvert_exporter": "python",
      "pygments_lexer": "ipython3",
      "version": "3.7.8"
    },
    "toc": {
      "base_numbering": 1,
      "nav_menu": {},
      "number_sections": true,
      "sideBar": true,
      "skip_h1_title": true,
      "title_cell": "Содержание",
      "title_sidebar": "Contents",
      "toc_cell": true,
      "toc_position": {
        "height": "calc(100% - 180px)",
        "left": "10px",
        "top": "150px",
        "width": "178.391px"
      },
      "toc_section_display": true,
      "toc_window_display": false
    },
    "colab": {
      "name": "Отток клиентов банка.ipynb",
      "provenance": [],
      "collapsed_sections": []
    }
  },
  "cells": [
    {
      "cell_type": "markdown",
      "metadata": {
        "id": "MfHWdrra5xb_"
      },
      "source": [
        "# Отток клиентов"
      ]
    },
    {
      "cell_type": "markdown",
      "metadata": {
        "id": "_Et1fHgK5xcA"
      },
      "source": [
        "Из «Бета-Банка» стали уходить клиенты. Каждый месяц. Немного, но заметно. Банковские маркетологи посчитали: сохранять текущих клиентов дешевле, чем привлекать новых.\n",
        "\n",
        "Нужно спрогнозировать, уйдёт клиент из банка в ближайшее время или нет. Вам предоставлены исторические данные о поведении клиентов и расторжении договоров с банком. \n",
        "\n",
        "Постройте модель с предельно большим значением *F1*-меры. Чтобы сдать проект успешно, нужно довести метрику до 0.59. Проверьте *F1*-меру на тестовой выборке самостоятельно.\n",
        "\n",
        "Дополнительно измеряйте *AUC-ROC*, сравнивайте её значение с *F1*-мерой.\n",
        "\n",
        "Источник данных: [https://www.kaggle.com/barelydedicated/bank-customer-churn-modeling](https://www.kaggle.com/barelydedicated/bank-customer-churn-modeling)\n",
        "\n",
        "План работы: \n",
        "- подготовим данные;\n",
        "- исследуем баланс классов и обучим модель без учёта дисбаланса;\n",
        "- улучшим качество модели, учитывая дисбаланс классов, также обучим разные модели и найдем лучшую;\n",
        "- проведем финальное тестирование."
      ]
    },
    {
      "cell_type": "markdown",
      "metadata": {
        "id": "sktQYTEt5xcA"
      },
      "source": [
        "## Подготовка данных"
      ]
    },
    {
      "cell_type": "code",
      "metadata": {
        "id": "DV7aVh3K5xcB"
      },
      "source": [
        "import pandas as pd\n",
        "from sklearn.model_selection import train_test_split\n",
        "from sklearn.metrics import accuracy_score\n",
        "from sklearn.preprocessing import StandardScaler \n",
        "from sklearn.tree import DecisionTreeClassifier\n",
        "from sklearn.ensemble import RandomForestClassifier \n",
        "from sklearn.linear_model import LogisticRegression \n",
        "from sklearn.model_selection import GridSearchCV\n",
        "from sklearn.metrics import f1_score\n",
        "from sklearn.metrics import roc_auc_score\n",
        "from sklearn.metrics import roc_curve \n",
        "from sklearn.utils import shuffle\n",
        "import matplotlib.pyplot as plt\n",
        "import warnings\n",
        "warnings.filterwarnings('ignore')"
      ],
      "execution_count": null,
      "outputs": []
    },
    {
      "cell_type": "code",
      "metadata": {
        "id": "hEcSOBCv5xcD"
      },
      "source": [
        "data = pd.read_csv('/datasets/Churn.csv')"
      ],
      "execution_count": null,
      "outputs": []
    },
    {
      "cell_type": "code",
      "metadata": {
        "id": "sbmmhH2L5xcD",
        "outputId": "985dd8ce-7e2d-4877-e740-819021636701"
      },
      "source": [
        "data.info()\n",
        "data.head()"
      ],
      "execution_count": null,
      "outputs": [
        {
          "name": "stdout",
          "output_type": "stream",
          "text": [
            "<class 'pandas.core.frame.DataFrame'>\n",
            "RangeIndex: 10000 entries, 0 to 9999\n",
            "Data columns (total 14 columns):\n",
            "RowNumber          10000 non-null int64\n",
            "CustomerId         10000 non-null int64\n",
            "Surname            10000 non-null object\n",
            "CreditScore        10000 non-null int64\n",
            "Geography          10000 non-null object\n",
            "Gender             10000 non-null object\n",
            "Age                10000 non-null int64\n",
            "Tenure             9091 non-null float64\n",
            "Balance            10000 non-null float64\n",
            "NumOfProducts      10000 non-null int64\n",
            "HasCrCard          10000 non-null int64\n",
            "IsActiveMember     10000 non-null int64\n",
            "EstimatedSalary    10000 non-null float64\n",
            "Exited             10000 non-null int64\n",
            "dtypes: float64(3), int64(8), object(3)\n",
            "memory usage: 1.1+ MB\n"
          ]
        },
        {
          "data": {
            "text/html": [
              "<div>\n",
              "<style scoped>\n",
              "    .dataframe tbody tr th:only-of-type {\n",
              "        vertical-align: middle;\n",
              "    }\n",
              "\n",
              "    .dataframe tbody tr th {\n",
              "        vertical-align: top;\n",
              "    }\n",
              "\n",
              "    .dataframe thead th {\n",
              "        text-align: right;\n",
              "    }\n",
              "</style>\n",
              "<table border=\"1\" class=\"dataframe\">\n",
              "  <thead>\n",
              "    <tr style=\"text-align: right;\">\n",
              "      <th></th>\n",
              "      <th>RowNumber</th>\n",
              "      <th>CustomerId</th>\n",
              "      <th>Surname</th>\n",
              "      <th>CreditScore</th>\n",
              "      <th>Geography</th>\n",
              "      <th>Gender</th>\n",
              "      <th>Age</th>\n",
              "      <th>Tenure</th>\n",
              "      <th>Balance</th>\n",
              "      <th>NumOfProducts</th>\n",
              "      <th>HasCrCard</th>\n",
              "      <th>IsActiveMember</th>\n",
              "      <th>EstimatedSalary</th>\n",
              "      <th>Exited</th>\n",
              "    </tr>\n",
              "  </thead>\n",
              "  <tbody>\n",
              "    <tr>\n",
              "      <td>0</td>\n",
              "      <td>1</td>\n",
              "      <td>15634602</td>\n",
              "      <td>Hargrave</td>\n",
              "      <td>619</td>\n",
              "      <td>France</td>\n",
              "      <td>Female</td>\n",
              "      <td>42</td>\n",
              "      <td>2.0</td>\n",
              "      <td>0.00</td>\n",
              "      <td>1</td>\n",
              "      <td>1</td>\n",
              "      <td>1</td>\n",
              "      <td>101348.88</td>\n",
              "      <td>1</td>\n",
              "    </tr>\n",
              "    <tr>\n",
              "      <td>1</td>\n",
              "      <td>2</td>\n",
              "      <td>15647311</td>\n",
              "      <td>Hill</td>\n",
              "      <td>608</td>\n",
              "      <td>Spain</td>\n",
              "      <td>Female</td>\n",
              "      <td>41</td>\n",
              "      <td>1.0</td>\n",
              "      <td>83807.86</td>\n",
              "      <td>1</td>\n",
              "      <td>0</td>\n",
              "      <td>1</td>\n",
              "      <td>112542.58</td>\n",
              "      <td>0</td>\n",
              "    </tr>\n",
              "    <tr>\n",
              "      <td>2</td>\n",
              "      <td>3</td>\n",
              "      <td>15619304</td>\n",
              "      <td>Onio</td>\n",
              "      <td>502</td>\n",
              "      <td>France</td>\n",
              "      <td>Female</td>\n",
              "      <td>42</td>\n",
              "      <td>8.0</td>\n",
              "      <td>159660.80</td>\n",
              "      <td>3</td>\n",
              "      <td>1</td>\n",
              "      <td>0</td>\n",
              "      <td>113931.57</td>\n",
              "      <td>1</td>\n",
              "    </tr>\n",
              "    <tr>\n",
              "      <td>3</td>\n",
              "      <td>4</td>\n",
              "      <td>15701354</td>\n",
              "      <td>Boni</td>\n",
              "      <td>699</td>\n",
              "      <td>France</td>\n",
              "      <td>Female</td>\n",
              "      <td>39</td>\n",
              "      <td>1.0</td>\n",
              "      <td>0.00</td>\n",
              "      <td>2</td>\n",
              "      <td>0</td>\n",
              "      <td>0</td>\n",
              "      <td>93826.63</td>\n",
              "      <td>0</td>\n",
              "    </tr>\n",
              "    <tr>\n",
              "      <td>4</td>\n",
              "      <td>5</td>\n",
              "      <td>15737888</td>\n",
              "      <td>Mitchell</td>\n",
              "      <td>850</td>\n",
              "      <td>Spain</td>\n",
              "      <td>Female</td>\n",
              "      <td>43</td>\n",
              "      <td>2.0</td>\n",
              "      <td>125510.82</td>\n",
              "      <td>1</td>\n",
              "      <td>1</td>\n",
              "      <td>1</td>\n",
              "      <td>79084.10</td>\n",
              "      <td>0</td>\n",
              "    </tr>\n",
              "  </tbody>\n",
              "</table>\n",
              "</div>"
            ],
            "text/plain": [
              "   RowNumber  CustomerId   Surname  CreditScore Geography  Gender  Age  \\\n",
              "0          1    15634602  Hargrave          619    France  Female   42   \n",
              "1          2    15647311      Hill          608     Spain  Female   41   \n",
              "2          3    15619304      Onio          502    France  Female   42   \n",
              "3          4    15701354      Boni          699    France  Female   39   \n",
              "4          5    15737888  Mitchell          850     Spain  Female   43   \n",
              "\n",
              "   Tenure    Balance  NumOfProducts  HasCrCard  IsActiveMember  \\\n",
              "0     2.0       0.00              1          1               1   \n",
              "1     1.0   83807.86              1          0               1   \n",
              "2     8.0  159660.80              3          1               0   \n",
              "3     1.0       0.00              2          0               0   \n",
              "4     2.0  125510.82              1          1               1   \n",
              "\n",
              "   EstimatedSalary  Exited  \n",
              "0        101348.88       1  \n",
              "1        112542.58       0  \n",
              "2        113931.57       1  \n",
              "3         93826.63       0  \n",
              "4         79084.10       0  "
            ]
          },
          "execution_count": 3,
          "metadata": {},
          "output_type": "execute_result"
        }
      ]
    },
    {
      "cell_type": "markdown",
      "metadata": {
        "id": "sURo3n6f5xcE"
      },
      "source": [
        "Из полученных таблиц видим, что в датасете имеется 14 столбцов, в каждом из которых 10000 объектов, кроме столбца *Tenure* с пропущенными значениями.\n",
        "\n",
        "Признаки:\n",
        "- RowNumber — индекс строки в данных\n",
        "- CustomerId — уникальный идентификатор клиента\n",
        "- Surname — фамилия\n",
        "- CreditScore — кредитный рейтинг\n",
        "- Geography — страна проживания\n",
        "- Gender — пол\n",
        "- Age — возраст\n",
        "- Tenure — сколько лет человек является клиентом банка\n",
        "- Balance — баланс на счёте\n",
        "- NumOfProducts — количество продуктов банка, используемых клиентом\n",
        "- HasCrCard — наличие кредитной карты\n",
        "- IsActiveMember — активность клиента\n",
        "- EstimatedSalary — предполагаемая зарплата\n",
        "\n",
        "Целевой признак:\n",
        "- Exited — факт ухода клиента"
      ]
    },
    {
      "cell_type": "markdown",
      "metadata": {
        "id": "HC8BF6uJ5xcF"
      },
      "source": [
        "Проверим таблицу на дубликаты:"
      ]
    },
    {
      "cell_type": "code",
      "metadata": {
        "scrolled": true,
        "id": "d4muDJDL5xcF",
        "outputId": "17500f4a-ba51-442a-8c06-483331700b44"
      },
      "source": [
        "data.duplicated().sum()"
      ],
      "execution_count": null,
      "outputs": [
        {
          "data": {
            "text/plain": [
              "0"
            ]
          },
          "execution_count": 4,
          "metadata": {},
          "output_type": "execute_result"
        }
      ]
    },
    {
      "cell_type": "markdown",
      "metadata": {
        "id": "aCqP7bBP5xcG"
      },
      "source": [
        "Дубликатов нет, перейдем к пропускам в столбце Tenure. Заменим пропущенные значения на медиану столбца."
      ]
    },
    {
      "cell_type": "code",
      "metadata": {
        "id": "IzohAviD5xcH"
      },
      "source": [
        "data['Tenure'] = data['Tenure'].fillna(value=data['Tenure'].median())"
      ],
      "execution_count": null,
      "outputs": []
    },
    {
      "cell_type": "markdown",
      "metadata": {
        "id": "B_j03wcW5xcH"
      },
      "source": [
        "В таблице есть столбцы, а именно RowNumber, CustomerId и Surname, которые не несут ценности для обучения модели, поэтому их можно удалить."
      ]
    },
    {
      "cell_type": "code",
      "metadata": {
        "id": "pMYuA2dC5xcI",
        "outputId": "1ff99492-ad71-4210-bb72-0df3a9b54d27"
      },
      "source": [
        "data = data.drop(['RowNumber', 'CustomerId', 'Surname'], axis=1)\n",
        "data.head()"
      ],
      "execution_count": null,
      "outputs": [
        {
          "data": {
            "text/html": [
              "<div>\n",
              "<style scoped>\n",
              "    .dataframe tbody tr th:only-of-type {\n",
              "        vertical-align: middle;\n",
              "    }\n",
              "\n",
              "    .dataframe tbody tr th {\n",
              "        vertical-align: top;\n",
              "    }\n",
              "\n",
              "    .dataframe thead th {\n",
              "        text-align: right;\n",
              "    }\n",
              "</style>\n",
              "<table border=\"1\" class=\"dataframe\">\n",
              "  <thead>\n",
              "    <tr style=\"text-align: right;\">\n",
              "      <th></th>\n",
              "      <th>CreditScore</th>\n",
              "      <th>Geography</th>\n",
              "      <th>Gender</th>\n",
              "      <th>Age</th>\n",
              "      <th>Tenure</th>\n",
              "      <th>Balance</th>\n",
              "      <th>NumOfProducts</th>\n",
              "      <th>HasCrCard</th>\n",
              "      <th>IsActiveMember</th>\n",
              "      <th>EstimatedSalary</th>\n",
              "      <th>Exited</th>\n",
              "    </tr>\n",
              "  </thead>\n",
              "  <tbody>\n",
              "    <tr>\n",
              "      <td>0</td>\n",
              "      <td>619</td>\n",
              "      <td>France</td>\n",
              "      <td>Female</td>\n",
              "      <td>42</td>\n",
              "      <td>2.0</td>\n",
              "      <td>0.00</td>\n",
              "      <td>1</td>\n",
              "      <td>1</td>\n",
              "      <td>1</td>\n",
              "      <td>101348.88</td>\n",
              "      <td>1</td>\n",
              "    </tr>\n",
              "    <tr>\n",
              "      <td>1</td>\n",
              "      <td>608</td>\n",
              "      <td>Spain</td>\n",
              "      <td>Female</td>\n",
              "      <td>41</td>\n",
              "      <td>1.0</td>\n",
              "      <td>83807.86</td>\n",
              "      <td>1</td>\n",
              "      <td>0</td>\n",
              "      <td>1</td>\n",
              "      <td>112542.58</td>\n",
              "      <td>0</td>\n",
              "    </tr>\n",
              "    <tr>\n",
              "      <td>2</td>\n",
              "      <td>502</td>\n",
              "      <td>France</td>\n",
              "      <td>Female</td>\n",
              "      <td>42</td>\n",
              "      <td>8.0</td>\n",
              "      <td>159660.80</td>\n",
              "      <td>3</td>\n",
              "      <td>1</td>\n",
              "      <td>0</td>\n",
              "      <td>113931.57</td>\n",
              "      <td>1</td>\n",
              "    </tr>\n",
              "    <tr>\n",
              "      <td>3</td>\n",
              "      <td>699</td>\n",
              "      <td>France</td>\n",
              "      <td>Female</td>\n",
              "      <td>39</td>\n",
              "      <td>1.0</td>\n",
              "      <td>0.00</td>\n",
              "      <td>2</td>\n",
              "      <td>0</td>\n",
              "      <td>0</td>\n",
              "      <td>93826.63</td>\n",
              "      <td>0</td>\n",
              "    </tr>\n",
              "    <tr>\n",
              "      <td>4</td>\n",
              "      <td>850</td>\n",
              "      <td>Spain</td>\n",
              "      <td>Female</td>\n",
              "      <td>43</td>\n",
              "      <td>2.0</td>\n",
              "      <td>125510.82</td>\n",
              "      <td>1</td>\n",
              "      <td>1</td>\n",
              "      <td>1</td>\n",
              "      <td>79084.10</td>\n",
              "      <td>0</td>\n",
              "    </tr>\n",
              "  </tbody>\n",
              "</table>\n",
              "</div>"
            ],
            "text/plain": [
              "   CreditScore Geography  Gender  Age  Tenure    Balance  NumOfProducts  \\\n",
              "0          619    France  Female   42     2.0       0.00              1   \n",
              "1          608     Spain  Female   41     1.0   83807.86              1   \n",
              "2          502    France  Female   42     8.0  159660.80              3   \n",
              "3          699    France  Female   39     1.0       0.00              2   \n",
              "4          850     Spain  Female   43     2.0  125510.82              1   \n",
              "\n",
              "   HasCrCard  IsActiveMember  EstimatedSalary  Exited  \n",
              "0          1               1        101348.88       1  \n",
              "1          0               1        112542.58       0  \n",
              "2          1               0        113931.57       1  \n",
              "3          0               0         93826.63       0  \n",
              "4          1               1         79084.10       0  "
            ]
          },
          "execution_count": 6,
          "metadata": {},
          "output_type": "execute_result"
        }
      ]
    },
    {
      "cell_type": "markdown",
      "metadata": {
        "id": "JPY-Ph4o5xcI"
      },
      "source": [
        "Среди данных есть категориальные признаки с типом *object*, которые помешают нам при обучении моделей. Необходимо преобразовать их в численные с помощью техники прямого кодирования (One-Hot Encoding), которая подходит для всех моделей."
      ]
    },
    {
      "cell_type": "code",
      "metadata": {
        "id": "ra5dNXnS5xcJ"
      },
      "source": [
        "data_ohe = pd.get_dummies(data, drop_first=True)"
      ],
      "execution_count": null,
      "outputs": []
    },
    {
      "cell_type": "code",
      "metadata": {
        "id": "qN8yVFGz5xcK"
      },
      "source": [
        "target = data_ohe['Exited']\n",
        "features = data_ohe.drop('Exited', axis=1)"
      ],
      "execution_count": null,
      "outputs": []
    },
    {
      "cell_type": "code",
      "metadata": {
        "id": "Rt9U-5VF5xcK"
      },
      "source": [
        "features_train, features_valid, target_train, target_valid = train_test_split(features, target, test_size=0.2, random_state=12345)\n",
        "features_train, features_test, target_train, target_test = train_test_split(features_train, target_train, test_size=0.25, random_state=12345)\n"
      ],
      "execution_count": null,
      "outputs": []
    },
    {
      "cell_type": "markdown",
      "metadata": {
        "id": "k4Q6VyAA5xcK"
      },
      "source": [
        "После преобразования разбили исходные данные на обучающую, валидационную и тестовую выборки в размере 60%, 20% и 20% соответственно."
      ]
    },
    {
      "cell_type": "markdown",
      "metadata": {
        "id": "Cq8HMlaU5xcL"
      },
      "source": [
        "Для проверки напечатаем размеры полученных выборок:"
      ]
    },
    {
      "cell_type": "code",
      "metadata": {
        "id": "laFfVKQk5xcM",
        "outputId": "a34f27b5-1e8d-4f4b-ff92-29771829b15b"
      },
      "source": [
        "features_train.shape"
      ],
      "execution_count": null,
      "outputs": [
        {
          "data": {
            "text/plain": [
              "(6000, 11)"
            ]
          },
          "execution_count": 10,
          "metadata": {},
          "output_type": "execute_result"
        }
      ]
    },
    {
      "cell_type": "code",
      "metadata": {
        "id": "GBfq65r45xcM",
        "outputId": "84c7aff9-c229-490b-b551-8c5837140d95"
      },
      "source": [
        "features_valid.shape"
      ],
      "execution_count": null,
      "outputs": [
        {
          "data": {
            "text/plain": [
              "(2000, 11)"
            ]
          },
          "execution_count": 11,
          "metadata": {},
          "output_type": "execute_result"
        }
      ]
    },
    {
      "cell_type": "code",
      "metadata": {
        "scrolled": true,
        "id": "oKycfg2L5xcN",
        "outputId": "022cda2e-9458-49da-c798-e81b6652a664"
      },
      "source": [
        "features_test.shape"
      ],
      "execution_count": null,
      "outputs": [
        {
          "data": {
            "text/plain": [
              "(2000, 11)"
            ]
          },
          "execution_count": 12,
          "metadata": {},
          "output_type": "execute_result"
        }
      ]
    },
    {
      "cell_type": "markdown",
      "metadata": {
        "id": "iVHs-hyJ5xcQ"
      },
      "source": [
        "Так как у признаков разный масштаб, приведем их к одному масштабу с помощью стандартизации данных."
      ]
    },
    {
      "cell_type": "code",
      "metadata": {
        "id": "zrJOTSMB5xcR"
      },
      "source": [
        "numeric = ['CreditScore','Balance', 'EstimatedSalary','Tenure','Age', 'NumOfProducts']"
      ],
      "execution_count": null,
      "outputs": []
    },
    {
      "cell_type": "code",
      "metadata": {
        "id": "kzDzW4be5xcS",
        "outputId": "b37b1fc3-e16e-4cb9-ed1f-382f08b74a32"
      },
      "source": [
        "scaler = StandardScaler()\n",
        "scaler.fit(features_train[numeric])"
      ],
      "execution_count": null,
      "outputs": [
        {
          "data": {
            "text/plain": [
              "StandardScaler(copy=True, with_mean=True, with_std=True)"
            ]
          },
          "execution_count": 14,
          "metadata": {},
          "output_type": "execute_result"
        }
      ]
    },
    {
      "cell_type": "code",
      "metadata": {
        "id": "mBaP_66t5xcT"
      },
      "source": [
        "pd.options.mode.chained_assignment = None"
      ],
      "execution_count": null,
      "outputs": []
    },
    {
      "cell_type": "code",
      "metadata": {
        "id": "RVhVR2F25xcT"
      },
      "source": [
        "features_train[numeric] = scaler.transform(features_train[numeric])\n",
        "features_valid[numeric] = scaler.transform(features_valid[numeric]) \n",
        "features_test[numeric] = scaler.transform(features_test[numeric]) "
      ],
      "execution_count": null,
      "outputs": []
    },
    {
      "cell_type": "markdown",
      "metadata": {
        "id": "7evx7UE05xcU"
      },
      "source": [
        "В данном шаге были проведены изучение файла и подготовка данных, в которую включена проверка на дубликаты, отработка пропусков, обработка типов признаков и масштабирование. Перейдем к исследованию задачи."
      ]
    },
    {
      "cell_type": "markdown",
      "metadata": {
        "id": "f-lpCwbI5xcU"
      },
      "source": [
        "## Исследование задачи"
      ]
    },
    {
      "cell_type": "markdown",
      "metadata": {
        "id": "7hITOlfB5xcV"
      },
      "source": [
        "В данном шаге необходимо исследовать баланс классов и обучить модель без его учета."
      ]
    },
    {
      "cell_type": "code",
      "metadata": {
        "id": "B2bCeTs-5xcV",
        "outputId": "df026a7d-52cd-4e4f-c276-374df17ba70d"
      },
      "source": [
        "class_frequency = data_ohe['Exited'].value_counts(normalize=True)\n",
        "print(class_frequency)\n",
        "class_frequency.plot(kind='bar') "
      ],
      "execution_count": null,
      "outputs": [
        {
          "name": "stdout",
          "output_type": "stream",
          "text": [
            "0    0.7963\n",
            "1    0.2037\n",
            "Name: Exited, dtype: float64\n"
          ]
        },
        {
          "data": {
            "text/plain": [
              "<matplotlib.axes._subplots.AxesSubplot at 0x7f550a7c93d0>"
            ]
          },
          "execution_count": 17,
          "metadata": {},
          "output_type": "execute_result"
        },
        {
          "data": {
            "image/png": "[encoded data removed]",
            "text/plain": [
              "<Figure size 432x288 with 1 Axes>"
            ]
          },
          "metadata": {
            "needs_background": "light"
          },
          "output_type": "display_data"
        }
      ]
    },
    {
      "cell_type": "markdown",
      "metadata": {
        "id": "cfWR9Ier5xcW"
      },
      "source": [
        "Можем видеть, что присутствует дисбаланс классов в соотношении 80% на 20%. Обучим модели без учета дисбаланса, рассмотрим дерево решений, случайный лес и логистическую регрессию."
      ]
    },
    {
      "cell_type": "markdown",
      "metadata": {
        "id": "OsBBIick5xcW"
      },
      "source": [
        "Начнем с дерева решений:"
      ]
    },
    {
      "cell_type": "code",
      "metadata": {
        "id": "Ex1T3_Rv5xcX"
      },
      "source": [
        "model = DecisionTreeClassifier(random_state=12345)"
      ],
      "execution_count": null,
      "outputs": []
    },
    {
      "cell_type": "code",
      "metadata": {
        "id": "ssJLzZq-5xcX"
      },
      "source": [
        "parameters = {'max_depth': range (1,10)}\n",
        "clf = GridSearchCV(model, param_grid = parameters, scoring = 'f1', cv = 5)\n",
        "\n",
        "train_clf = clf.fit(features_train,target_train)\n",
        "predicted_valid = clf.predict(features_valid)"
      ],
      "execution_count": null,
      "outputs": []
    },
    {
      "cell_type": "code",
      "metadata": {
        "id": "WSROnNdx5xcX",
        "outputId": "ec359a59-fcf1-45ac-fa7a-66b5d042410d"
      },
      "source": [
        "clf.best_params_"
      ],
      "execution_count": null,
      "outputs": [
        {
          "data": {
            "text/plain": [
              "{'max_depth': 7}"
            ]
          },
          "execution_count": 20,
          "metadata": {},
          "output_type": "execute_result"
        }
      ]
    },
    {
      "cell_type": "code",
      "metadata": {
        "id": "mzQ6A2vv5xcX"
      },
      "source": [
        "f1 = f1_score(target_valid, predicted_valid)\n",
        "probabilities_valid = clf.predict_proba(features_valid)\n",
        "probabilities_one_valid = probabilities_valid[:, 1]\n",
        "auc_roc = roc_auc_score(target_valid, probabilities_one_valid)"
      ],
      "execution_count": null,
      "outputs": []
    },
    {
      "cell_type": "code",
      "metadata": {
        "id": "azS8Y_y95xcY",
        "outputId": "782f2682-8b01-428c-9def-abd1f9c0a67c"
      },
      "source": [
        "print('Дерево решений:')\n",
        "print('')\n",
        "print(\"F1 мера лучшей модели на валидационной выборке:\", f1)\n",
        "print('auc_roc:', auc_roc)"
      ],
      "execution_count": null,
      "outputs": [
        {
          "name": "stdout",
          "output_type": "stream",
          "text": [
            "Дерево решений:\n",
            "\n",
            "F1 мера лучшей модели на валидационной выборке: 0.5544267053701016\n",
            "auc_roc: 0.833928366715252\n"
          ]
        }
      ]
    },
    {
      "cell_type": "markdown",
      "metadata": {
        "id": "V8b8HXrF5xcY"
      },
      "source": [
        "Рассмотрим модель случайного леса:"
      ]
    },
    {
      "cell_type": "code",
      "metadata": {
        "id": "HG84_5el5xcY"
      },
      "source": [
        "model = RandomForestClassifier(random_state=12345) \n",
        "\n",
        "parameters = {'max_depth': range (1,15), 'n_estimators': range (10, 60, 10), 'min_samples_leaf': range(1,5)}\n",
        "clf = GridSearchCV(model, param_grid = parameters, scoring = 'f1', cv = 5)\n",
        "\n",
        "train_clf = clf.fit(features_train,target_train)\n",
        "predicted_valid = clf.predict(features_valid)"
      ],
      "execution_count": null,
      "outputs": []
    },
    {
      "cell_type": "code",
      "metadata": {
        "id": "b9cJWxw_5xcY",
        "outputId": "7783392d-a352-4c5c-f2f3-ea296bf4db35"
      },
      "source": [
        "clf.best_params_"
      ],
      "execution_count": null,
      "outputs": [
        {
          "data": {
            "text/plain": [
              "{'max_depth': 14, 'min_samples_leaf': 1, 'n_estimators': 50}"
            ]
          },
          "execution_count": 24,
          "metadata": {},
          "output_type": "execute_result"
        }
      ]
    },
    {
      "cell_type": "code",
      "metadata": {
        "id": "27HDv7dr5xcZ"
      },
      "source": [
        "f1 = f1_score(target_valid, predicted_valid)\n",
        "probabilities_valid = clf.predict_proba(features_valid)\n",
        "probabilities_one_valid = probabilities_valid[:, 1]\n",
        "auc_roc = roc_auc_score(target_valid, probabilities_one_valid)"
      ],
      "execution_count": null,
      "outputs": []
    },
    {
      "cell_type": "code",
      "metadata": {
        "id": "De7-U0lg5xcZ",
        "outputId": "6d7467e5-2e3c-4143-f4f9-3c6f4fa9e7ea"
      },
      "source": [
        "print('Случайный лес:')\n",
        "print('')\n",
        "print(\"F1 мера лучшей модели на валидационной выборке:\", f1)\n",
        "print('auc_roc:', auc_roc)"
      ],
      "execution_count": null,
      "outputs": [
        {
          "name": "stdout",
          "output_type": "stream",
          "text": [
            "Случайный лес:\n",
            "\n",
            "F1 мера лучшей модели на валидационной выборке: 0.5454545454545454\n",
            "auc_roc: 0.8601309271950106\n"
          ]
        }
      ]
    },
    {
      "cell_type": "markdown",
      "metadata": {
        "id": "Z4Xjr8ee5xcZ"
      },
      "source": [
        "Рассмотрим модель логистической регрессии:"
      ]
    },
    {
      "cell_type": "code",
      "metadata": {
        "id": "Q5ijX6VY5xcZ"
      },
      "source": [
        "model = LogisticRegression(random_state=12345)\n",
        "\n",
        "parameters = {'penalty':['l1', 'l2'],\n",
        "     'C': [0.1,1,10,100],\n",
        "     'solver':['liblinear'],\n",
        "     'max_iter':[100,500]}\n",
        "\n",
        "clf = GridSearchCV(model, param_grid = parameters, scoring = 'f1', cv = 5)\n",
        "\n",
        "train_clf = clf.fit(features_train,target_train)\n",
        "predicted_valid = clf.predict(features_valid)"
      ],
      "execution_count": null,
      "outputs": []
    },
    {
      "cell_type": "code",
      "metadata": {
        "id": "kXgHhuk85xcZ",
        "outputId": "b0cb3b03-85a6-4e28-cdb0-b545e5ff1a70"
      },
      "source": [
        "clf.best_params_ "
      ],
      "execution_count": null,
      "outputs": [
        {
          "data": {
            "text/plain": [
              "{'C': 1, 'max_iter': 100, 'penalty': 'l1', 'solver': 'liblinear'}"
            ]
          },
          "execution_count": 28,
          "metadata": {},
          "output_type": "execute_result"
        }
      ]
    },
    {
      "cell_type": "code",
      "metadata": {
        "id": "_XkFVypU5xca"
      },
      "source": [
        "f1 = f1_score(target_valid, predicted_valid)\n",
        "probabilities_valid = clf.predict_proba(features_valid)\n",
        "probabilities_one_valid = probabilities_valid[:, 1]\n",
        "auc_roc = roc_auc_score(target_valid, probabilities_one_valid)"
      ],
      "execution_count": null,
      "outputs": []
    },
    {
      "cell_type": "code",
      "metadata": {
        "id": "S_RrjrhZ5xca",
        "outputId": "9d2dc8f4-ef51-4603-b8cc-9aaf24dd6f88"
      },
      "source": [
        "print('Логистическая регрессия:')\n",
        "print('')\n",
        "print(\"F1 мера лучшей модели на валидационной выборке:\", f1)\n",
        "print('auc_roc:', auc_roc)"
      ],
      "execution_count": null,
      "outputs": [
        {
          "name": "stdout",
          "output_type": "stream",
          "text": [
            "Логистическая регрессия:\n",
            "\n",
            "F1 мера лучшей модели на валидационной выборке: 0.3012259194395797\n",
            "auc_roc: 0.7582015599899355\n"
          ]
        }
      ]
    },
    {
      "cell_type": "markdown",
      "metadata": {
        "id": "zKr1Tay65xca"
      },
      "source": [
        "У всех моделей низкие показатели f1 меры, которые свидетельствуют о низком качестве модели. Без учета дисбаланса самая высокая мера F1 у дерева решений, а мера auc-roc у случайного леса. В следующем шаге учтем дисбаланс классов техниками *Upsampling и Downsampling* и сравним модели."
      ]
    },
    {
      "cell_type": "markdown",
      "metadata": {
        "id": "gVmUKU0L5xca"
      },
      "source": [
        "## Борьба с дисбалансом"
      ]
    },
    {
      "cell_type": "markdown",
      "metadata": {
        "id": "rbNXbiba5xcb"
      },
      "source": [
        "Увеличим выборку по технике *upsampling*, добавим функцию и проверим все модели:"
      ]
    },
    {
      "cell_type": "code",
      "metadata": {
        "id": "Vc1DopkF5xcb"
      },
      "source": [
        "def upsample(features, target, repeat):\n",
        "    features_zeros = features[target == 0]\n",
        "    features_ones = features[target == 1]\n",
        "    target_zeros = target[target == 0]\n",
        "    target_ones = target[target == 1]\n",
        "\n",
        "    features_upsampled = pd.concat([features_zeros] + [features_ones] * repeat)\n",
        "    target_upsampled = pd.concat([target_zeros] + [target_ones] * repeat)\n",
        "    \n",
        "    features_upsampled, target_upsampled = shuffle(\n",
        "        features_upsampled, target_upsampled, random_state=12345)\n",
        "    \n",
        "    return features_upsampled, target_upsampled\n",
        "\n",
        "features_upsampled, target_upsampled = upsample(features_train, target_train, 5)"
      ],
      "execution_count": null,
      "outputs": []
    },
    {
      "cell_type": "code",
      "metadata": {
        "id": "CavqT_2t5xcb",
        "outputId": "b80b633c-1061-4717-a48e-cb33b4fe8d9d"
      },
      "source": [
        "print(features_upsampled.shape)\n",
        "print(target_upsampled.shape)"
      ],
      "execution_count": null,
      "outputs": [
        {
          "name": "stdout",
          "output_type": "stream",
          "text": [
            "(10876, 11)\n",
            "(10876,)\n"
          ]
        }
      ]
    },
    {
      "cell_type": "code",
      "metadata": {
        "id": "AfJsPP945xcd",
        "outputId": "12a7f61c-bd32-4ffb-c4d0-1d144366ddb8"
      },
      "source": [
        "best_model = None\n",
        "best_result = 0\n",
        "for depth in range(1, 10):\n",
        "    model = DecisionTreeClassifier(random_state=12345, max_depth=depth) \n",
        "    model.fit(features_upsampled, target_upsampled)\n",
        "    predictions_valid = model.predict(features_valid)\n",
        "    f1 = f1_score(target_valid, predictions_valid)\n",
        "    if f1 > best_result:\n",
        "        best_model = model\n",
        "        best_result = f1\n",
        "\n",
        "probabilities_valid = best_model.predict_proba(features_valid)\n",
        "probabilities_one_valid = probabilities_valid[:, 1]\n",
        "auc_roc = roc_auc_score(target_valid, probabilities_one_valid)\n",
        "print('Дерево решений:')\n",
        "print('')\n",
        "print(\"F1 мера лучшей модели на валидационной выборке:\", best_result)\n",
        "print('auc_roc:', auc_roc)\n",
        "print(\"Depth:\",depth)"
      ],
      "execution_count": null,
      "outputs": [
        {
          "name": "stdout",
          "output_type": "stream",
          "text": [
            "Дерево решений:\n",
            "\n",
            "F1 мера лучшей модели на валидационной выборке: 0.594059405940594\n",
            "auc_roc: 0.8402380034272732\n",
            "Depth: 9\n"
          ]
        }
      ]
    },
    {
      "cell_type": "code",
      "metadata": {
        "id": "RuMqkLs45xce",
        "outputId": "1ac1b2c4-5de7-48fe-c0da-b8581dff4e04"
      },
      "source": [
        "best_model = None\n",
        "best_result = 0\n",
        "for depth in range(1, 15):\n",
        "    for est in range(10,60,10):\n",
        "        for sample in range(1,5):\n",
        "            model = RandomForestClassifier(random_state=12345, max_depth = depth, n_estimators=est, min_samples_leaf=sample) \n",
        "            model.fit(features_upsampled, target_upsampled)\n",
        "            predictions_valid = model.predict(features_valid)\n",
        "            f1 = f1_score(target_valid, predictions_valid)\n",
        "            if f1 > best_result:\n",
        "                best_model = model \n",
        "                best_result = f1\n",
        "\n",
        "probabilities_valid = best_model.predict_proba(features_valid)\n",
        "probabilities_one_valid = probabilities_valid[:, 1]\n",
        "auc_roc = roc_auc_score(target_valid, probabilities_one_valid)\n",
        "print('Случайный лес:')\n",
        "print('')\n",
        "print(\"F1 мера лучшей модели на валидационной выборке:\", best_result)\n",
        "print('auc_roc:', auc_roc)\n",
        "print(\"max_depth:\", depth, \"n_estimators:\", est, \"min_samples_leaf:\", sample)"
      ],
      "execution_count": null,
      "outputs": [
        {
          "name": "stdout",
          "output_type": "stream",
          "text": [
            "Случайный лес:\n",
            "\n",
            "F1 мера лучшей модели на валидационной выборке: 0.6398429833169774\n",
            "auc_roc: 0.8697517087979084\n",
            "max_depth: 14 n_estimators: 50 min_samples_leaf: 4\n"
          ]
        }
      ]
    },
    {
      "cell_type": "code",
      "metadata": {
        "id": "laFV3X-75xce",
        "outputId": "b6cc5dcf-0555-4dc6-ab2d-2c093013d1eb"
      },
      "source": [
        "model = LogisticRegression(random_state=12345, solver = 'liblinear')\n",
        "model.fit(features_upsampled, target_upsampled)\n",
        "predictions_valid = model.predict(features_valid)\n",
        "f1 = f1_score(target_valid, predictions_valid)\n",
        "probabilities_valid = model.predict_proba(features_valid)\n",
        "probabilities_one_valid = probabilities_valid[:, 1]\n",
        "auc_roc = roc_auc_score(target_valid, probabilities_one_valid)\n",
        "print('Логистическая регрессия:')\n",
        "print('')\n",
        "print(\"F1 мера лучшей модели на валидационной выборке:\", f1)\n",
        "print('auc_roc:', auc_roc)"
      ],
      "execution_count": null,
      "outputs": [
        {
          "name": "stdout",
          "output_type": "stream",
          "text": [
            "Логистическая регрессия:\n",
            "\n",
            "F1 мера лучшей модели на валидационной выборке: 0.48716067498165816\n",
            "auc_roc: 0.7647017661920792\n"
          ]
        }
      ]
    },
    {
      "cell_type": "markdown",
      "metadata": {
        "id": "wQ-84C9L5xcf"
      },
      "source": [
        "Из результатов видим, что при использовании техники *upsampling* наибольшее значение меры F1 имеет модель *Случайного леса*, которая равна 0.64, и метрика auc-roc - 0.86, которая больше чем у случайной модели, но в то же время не совсем близка к 1.\n",
        "\n",
        "Параметры модели: max_depth: 14, n_estimators: 50, min_samples_leaf: 4"
      ]
    },
    {
      "cell_type": "markdown",
      "metadata": {
        "id": "Z6AwpNXj5xcf"
      },
      "source": [
        "Проверим также технику *downsampling*, при которой объекты частого класса становятся не частыми, то есть выборка уменьшается."
      ]
    },
    {
      "cell_type": "code",
      "metadata": {
        "id": "cItPOwg35xcf"
      },
      "source": [
        "def downsample(features, target, fraction):\n",
        "    features_zeros = features[target == 0]\n",
        "    features_ones = features[target == 1]\n",
        "    target_zeros = target[target == 0]\n",
        "    target_ones = target[target == 1]\n",
        "\n",
        "    features_downsampled = pd.concat(\n",
        "        [features_zeros.sample(frac=fraction, random_state=12345)] + [features_ones])\n",
        "    target_downsampled = pd.concat(\n",
        "        [target_zeros.sample(frac=fraction, random_state=12345)] + [target_ones])\n",
        "    \n",
        "    features_downsampled, target_downsampled = shuffle(\n",
        "        features_downsampled, target_downsampled, random_state=12345)\n",
        "    \n",
        "    return features_downsampled, target_downsampled\n",
        "\n",
        "features_downsampled, target_downsampled = downsample(features_train, target_train, 0.1)"
      ],
      "execution_count": null,
      "outputs": []
    },
    {
      "cell_type": "code",
      "metadata": {
        "id": "HgySMFS35xcf",
        "outputId": "cb9f5fe9-1e0c-4a66-cdd3-4361ba9c3029"
      },
      "source": [
        "print(features_downsampled.shape)\n",
        "print(target_downsampled.shape)"
      ],
      "execution_count": null,
      "outputs": [
        {
          "name": "stdout",
          "output_type": "stream",
          "text": [
            "(1697, 11)\n",
            "(1697,)\n"
          ]
        }
      ]
    },
    {
      "cell_type": "code",
      "metadata": {
        "id": "rqFTdAJv5xcg",
        "outputId": "3e2a9e49-e2a6-4599-e362-c2e845e58f7d"
      },
      "source": [
        "best_model = None\n",
        "best_result = 0\n",
        "for depth in range(1, 10):\n",
        "    model = DecisionTreeClassifier(random_state=12345, max_depth=depth) \n",
        "    model.fit(features_downsampled, target_downsampled)\n",
        "    predictions_valid = model.predict(features_valid)\n",
        "    f1 = f1_score(target_valid, predictions_valid)\n",
        "    if f1 > best_result:\n",
        "        best_model = model\n",
        "        best_result = f1\n",
        "\n",
        "probabilities_valid = best_model.predict_proba(features_valid)\n",
        "probabilities_one_valid = probabilities_valid[:, 1]\n",
        "auc_roc = roc_auc_score(target_valid, probabilities_one_valid)\n",
        "print('Дерево решений:')\n",
        "print('')\n",
        "print(\"F1 мера лучшей модели на валидационной выборке:\", best_result)\n",
        "print('auc_roc:', auc_roc)\n",
        "print(\"Depth:\",depth)"
      ],
      "execution_count": null,
      "outputs": [
        {
          "name": "stdout",
          "output_type": "stream",
          "text": [
            "Дерево решений:\n",
            "\n",
            "F1 мера лучшей модели на валидационной выборке: 0.5430566330488751\n",
            "auc_roc: 0.8103587917298797\n",
            "Depth: 9\n"
          ]
        }
      ]
    },
    {
      "cell_type": "code",
      "metadata": {
        "id": "MYVag9Fv5xcg",
        "outputId": "c8e3c8f7-b150-433f-f592-180d9321101c"
      },
      "source": [
        "best_model = None\n",
        "best_result = 0\n",
        "for depth in range(1, 15):\n",
        "    for est in range(10,60,10):\n",
        "        for sample in range(1,5):\n",
        "            model = RandomForestClassifier(random_state=12345, max_depth = depth, n_estimators=est, min_samples_leaf=sample) \n",
        "            model.fit(features_downsampled, target_downsampled)\n",
        "            predictions_valid = model.predict(features_valid)\n",
        "            f1 = f1_score(target_valid, predictions_valid)\n",
        "            if f1 > best_result:\n",
        "                best_model = model \n",
        "                best_result = f1\n",
        "\n",
        "probabilities_valid = best_model.predict_proba(features_valid)\n",
        "probabilities_one_valid = probabilities_valid[:, 1]\n",
        "auc_roc = roc_auc_score(target_valid, probabilities_one_valid)\n",
        "print('Случайный лес:')\n",
        "print('')\n",
        "print(\"F1 мера лучшей модели на валидационной выборке:\", best_result)\n",
        "print('auc_roc:', auc_roc)\n",
        "print(\"max_depth:\", depth, \"n_estimators:\", est, \"min_samples_leaf:\", sample)"
      ],
      "execution_count": null,
      "outputs": [
        {
          "name": "stdout",
          "output_type": "stream",
          "text": [
            "Случайный лес:\n",
            "\n",
            "F1 мера лучшей модели на валидационной выборке: 0.5053333333333333\n",
            "auc_roc: 0.8242614315639651\n",
            "max_depth: 14 n_estimators: 50 min_samples_leaf: 4\n"
          ]
        }
      ]
    },
    {
      "cell_type": "code",
      "metadata": {
        "id": "Ew-6J4zE5xch",
        "outputId": "279aeee3-d3b4-4016-c5a3-5867b5265235"
      },
      "source": [
        "model = LogisticRegression(random_state=12345, solver = 'liblinear')\n",
        "model.fit(features_downsampled, target_downsampled)\n",
        "predictions_valid = model.predict(features_valid)\n",
        "f1 = f1_score(target_valid, predictions_valid)\n",
        "probabilities_valid = model.predict_proba(features_valid)\n",
        "probabilities_one_valid = probabilities_valid[:, 1]\n",
        "auc_roc = roc_auc_score(target_valid, probabilities_one_valid)\n",
        "print('Логистическая регрессия:')\n",
        "print('')\n",
        "print(\"F1 мера лучшей модели на валидационной выборке:\", f1)\n",
        "print('auc_roc:', auc_roc)"
      ],
      "execution_count": null,
      "outputs": [
        {
          "name": "stdout",
          "output_type": "stream",
          "text": [
            "Логистическая регрессия:\n",
            "\n",
            "F1 мера лучшей модели на валидационной выборке: 0.4231387252276379\n",
            "auc_roc: 0.7652690081900216\n"
          ]
        }
      ]
    },
    {
      "cell_type": "markdown",
      "metadata": {
        "id": "NjekxATK5xch"
      },
      "source": [
        "При использовании техники *downsampling* полученные результаты ниже, чем при использовании *upsampling*.\n",
        "\n",
        "Теперь попробуем метод по взвешиванию классов, используем аргумент *class_weight* при обучении моделей и проверим результаты."
      ]
    },
    {
      "cell_type": "code",
      "metadata": {
        "id": "oZY4fhc95xch"
      },
      "source": [
        "model = DecisionTreeClassifier(random_state=12345, class_weight='balanced')\n",
        "parameters = {'max_depth': range (1,10)}\n",
        "clf = GridSearchCV(model, param_grid = parameters, scoring = 'f1', cv = 5).fit(features_train, target_train)\n",
        "predicted_valid = clf.predict(features_valid)\n",
        "\n",
        "f1 = f1_score(target_valid, predicted_valid)\n",
        "probabilities_valid = clf.predict_proba(features_valid)\n",
        "probabilities_one_valid = probabilities_valid[:, 1]\n",
        "auc_roc = roc_auc_score(target_valid, probabilities_one_valid)"
      ],
      "execution_count": null,
      "outputs": []
    },
    {
      "cell_type": "code",
      "metadata": {
        "id": "YXZUSH235xch",
        "outputId": "4b19555e-b6ee-4618-fe4b-1772598ff2e5"
      },
      "source": [
        "print('Дерево решений:')\n",
        "print('')\n",
        "print(\"F1 мера лучшей модели на валидационной выборке:\", f1)\n",
        "print('auc_roc:', auc_roc)"
      ],
      "execution_count": null,
      "outputs": [
        {
          "name": "stdout",
          "output_type": "stream",
          "text": [
            "Дерево решений:\n",
            "\n",
            "F1 мера лучшей модели на валидационной выборке: 0.5933852140077821\n",
            "auc_roc: 0.8190661797219174\n"
          ]
        }
      ]
    },
    {
      "cell_type": "code",
      "metadata": {
        "id": "dhIo3CB65xci"
      },
      "source": [
        "model = RandomForestClassifier(random_state=12345, class_weight='balanced') \n",
        "parameters = {'max_depth': range (1,15), 'n_estimators': range (10, 60, 10), 'min_samples_leaf': range(1,5)}\n",
        "clf = GridSearchCV(model, param_grid = parameters, scoring = 'f1', cv = 5).fit(features_train, target_train)\n",
        "predicted_valid = clf.predict(features_valid)\n",
        "\n",
        "f1 = f1_score(target_valid, predicted_valid)\n",
        "probabilities_valid = clf.predict_proba(features_valid)\n",
        "probabilities_one_valid = probabilities_valid[:, 1]\n",
        "auc_roc = roc_auc_score(target_valid, probabilities_one_valid)"
      ],
      "execution_count": null,
      "outputs": []
    },
    {
      "cell_type": "code",
      "metadata": {
        "id": "8fX5LBJV5xci",
        "outputId": "8b32f0d8-bf84-4f38-c62d-cb5745050312"
      },
      "source": [
        "clf.best_params_ "
      ],
      "execution_count": null,
      "outputs": [
        {
          "data": {
            "text/plain": [
              "{'max_depth': 12, 'min_samples_leaf': 4, 'n_estimators': 40}"
            ]
          },
          "execution_count": 51,
          "metadata": {},
          "output_type": "execute_result"
        }
      ]
    },
    {
      "cell_type": "code",
      "metadata": {
        "id": "_soyumH05xci",
        "outputId": "f02c44e9-5b76-46b9-ca25-3561ebc7201c"
      },
      "source": [
        "print('Случайный лес:')\n",
        "print('')\n",
        "print(\"F1 мера лучшей модели на валидационной выборке:\", f1)\n",
        "print('auc_roc:', auc_roc)"
      ],
      "execution_count": null,
      "outputs": [
        {
          "name": "stdout",
          "output_type": "stream",
          "text": [
            "Случайный лес:\n",
            "\n",
            "F1 мера лучшей модели на валидационной выборке: 0.6462264150943395\n",
            "auc_roc: 0.8702340878197808\n"
          ]
        }
      ]
    },
    {
      "cell_type": "code",
      "metadata": {
        "id": "iKmBNuev5xci"
      },
      "source": [
        "model = LogisticRegression(random_state=12345, class_weight='balanced')\n",
        "\n",
        "parameters = {'penalty':['l1', 'l2'],\n",
        "     'C': [0.1,1,10,100],\n",
        "     'solver':['liblinear'],\n",
        "     'max_iter':[100,500]}\n",
        "\n",
        "clf = GridSearchCV(model, param_grid = parameters, scoring = 'f1', cv = 5)\n",
        "\n",
        "train_clf = clf.fit(features_train, target_train)\n",
        "predicted_valid = clf.predict(features_valid)\n",
        "\n",
        "f1 = f1_score(target_valid, predicted_valid)\n",
        "probabilities_valid = clf.predict_proba(features_valid)\n",
        "probabilities_one_valid = probabilities_valid[:, 1]\n",
        "auc_roc = roc_auc_score(target_valid, probabilities_one_valid)"
      ],
      "execution_count": null,
      "outputs": []
    },
    {
      "cell_type": "code",
      "metadata": {
        "id": "m0WGWJv55xcj",
        "outputId": "eac00a9e-b2e6-4d3b-860f-07bb41f76afc"
      },
      "source": [
        "print('Логистическая регрессия:')\n",
        "print('')\n",
        "print(\"F1 мера лучшей модели на валидационной выборке:\", f1)\n",
        "print('auc_roc:', auc_roc)"
      ],
      "execution_count": null,
      "outputs": [
        {
          "name": "stdout",
          "output_type": "stream",
          "text": [
            "Логистическая регрессия:\n",
            "\n",
            "F1 мера лучшей модели на валидационной выборке: 0.5092436974789916\n",
            "auc_roc: 0.7654342676697371\n"
          ]
        }
      ]
    },
    {
      "cell_type": "markdown",
      "metadata": {
        "id": "PsVdlXls5xcj"
      },
      "source": [
        "При методе по взвешиванию классов лучший результат F1 у модели Случайного леса - 0.65, при значении auc-roc 0.87, что является лучшим результатом среди всех техник и моделей. \n",
        "\n",
        "- F1 мера лучшей модели на валидационной выборке: 0.6462264150943395\n",
        "- auc_roc: 0.8702340878197808\n",
        "\n",
        "Проведем финальное тестирование модели."
      ]
    },
    {
      "cell_type": "markdown",
      "metadata": {
        "id": "ap2GbcRe5xcj"
      },
      "source": [
        "## Тестирование модели"
      ]
    },
    {
      "cell_type": "code",
      "metadata": {
        "id": "fJNVFSz95xcj"
      },
      "source": [
        "model = RandomForestClassifier(random_state=12345, max_depth = 12, min_samples_leaf = 4, n_estimators = 40, class_weight='balanced') \n",
        "\n",
        "model.fit(features_train, target_train)\n",
        "predicted_test= model.predict(features_test)\n",
        "\n",
        "f1 = f1_score(target_test, predicted_test)\n",
        "\n",
        "probabilities_test = model.predict_proba(features_test)\n",
        "probabilities_one_test = probabilities_test[:, 1]\n",
        "auc_roc = roc_auc_score(target_test, probabilities_one_test)"
      ],
      "execution_count": null,
      "outputs": []
    },
    {
      "cell_type": "code",
      "metadata": {
        "id": "SmkTOuoU5xck",
        "outputId": "281bcc5a-7cb3-4e93-b787-0b87071a7cd8"
      },
      "source": [
        "print(\"F1 мера:\", f1)\n",
        "print(\"Auc-roc мера:\", auc_roc)"
      ],
      "execution_count": null,
      "outputs": [
        {
          "name": "stdout",
          "output_type": "stream",
          "text": [
            "F1 мера: 0.608805031446541\n",
            "Auc-roc мера: 0.845132637863425\n"
          ]
        }
      ]
    },
    {
      "cell_type": "markdown",
      "metadata": {
        "id": "TKe3gU7D5xck"
      },
      "source": [
        "При проверки модели на тестовой выборке получили результат F1 меры равный 0.61 и Auc-roc меры - 0.85."
      ]
    },
    {
      "cell_type": "code",
      "metadata": {
        "id": "v8YoNQ0_5xck",
        "outputId": "cc7761bf-5ff8-41a0-bf04-5d7f520d8e4f"
      },
      "source": [
        "fpr, tpr, thresholds = roc_curve(target_test, probabilities_one_test) \n",
        "\n",
        "plt.figure()\n",
        "\n",
        "plt.figure()\n",
        "plt.plot(fpr, tpr)\n",
        "plt.xlim([0.0, 1.0])\n",
        "plt.ylim([0.0, 1.0])\n",
        "plt.xlabel('False Positive Rate')\n",
        "plt.ylabel('True Positive Rate')\n",
        "plt.title('ROC-кривая')\n",
        "plt.show()"
      ],
      "execution_count": null,
      "outputs": [
        {
          "data": {
            "text/plain": [
              "<Figure size 432x288 with 0 Axes>"
            ]
          },
          "metadata": {},
          "output_type": "display_data"
        },
        {
          "data": {
            "image/png": "[encoded data removed]",
            "text/plain": [
              "<Figure size 432x288 with 1 Axes>"
            ]
          },
          "metadata": {
            "needs_background": "light"
          },
          "output_type": "display_data"
        }
      ]
    },
    {
      "cell_type": "markdown",
      "metadata": {
        "id": "hDkbyBCC5xcl"
      },
      "source": [
        "## Общий вывод"
      ]
    },
    {
      "cell_type": "markdown",
      "metadata": {
        "id": "EcD1vWNI5xcl"
      },
      "source": [
        "В данном проекте были обучены и изучены модели дерево решений, случайный лес и логистическая регрессия без учета и с учетом дисбаланса классов. \n",
        "\n",
        "Дисбаланс классов был исправлен с помощью нескольких способов: техники upsampling и downsampling, а также метод по взвешиванию классов. Все модели были изучены при всех техниках, и самая лучшая модель была Случайный лес при методе по взвешиванию классов.\n",
        "\n",
        "Параметры модели: 'max_depth': 12, 'min_samples_leaf': 4, 'n_estimators': 40.\n",
        "\n",
        "Полученные результаты:\n",
        "- на валидационной выборке: f1 мера - 0.646;\n",
        "- на тестовой выборке: f1 мера - 0.609."
      ]
    }
  ]
}