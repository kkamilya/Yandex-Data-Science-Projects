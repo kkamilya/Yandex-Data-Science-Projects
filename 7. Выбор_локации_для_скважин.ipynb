{
  "nbformat": 4,
  "nbformat_minor": 0,
  "metadata": {
    "ExecuteTimeLog": [
      {
        "duration": 1098,
        "start_time": "2021-10-02T14:06:32.875Z"
      },
      {
        "duration": 371,
        "start_time": "2021-10-02T14:08:59.309Z"
      },
      {
        "duration": 21,
        "start_time": "2021-10-02T14:09:28.098Z"
      },
      {
        "duration": 17,
        "start_time": "2021-10-02T14:09:30.641Z"
      },
      {
        "duration": 18,
        "start_time": "2021-10-02T14:09:32.934Z"
      },
      {
        "duration": 3,
        "start_time": "2021-10-02T15:29:13.803Z"
      },
      {
        "duration": 2609,
        "start_time": "2021-10-02T15:36:48.894Z"
      },
      {
        "duration": 4,
        "start_time": "2021-10-02T15:37:03.179Z"
      },
      {
        "duration": 475,
        "start_time": "2021-10-02T15:37:04.661Z"
      },
      {
        "duration": 4,
        "start_time": "2021-10-02T15:50:37.550Z"
      },
      {
        "duration": 20,
        "start_time": "2021-10-02T15:50:39.358Z"
      },
      {
        "duration": 44,
        "start_time": "2021-10-02T15:52:01.676Z"
      },
      {
        "duration": 44,
        "start_time": "2021-10-02T16:01:30.321Z"
      },
      {
        "duration": 42,
        "start_time": "2021-10-02T16:02:11.632Z"
      },
      {
        "duration": 40,
        "start_time": "2021-10-02T16:02:17.327Z"
      },
      {
        "duration": 1471,
        "start_time": "2021-10-03T13:34:50.245Z"
      },
      {
        "duration": 477,
        "start_time": "2021-10-03T13:34:51.719Z"
      },
      {
        "duration": 34,
        "start_time": "2021-10-03T13:34:52.200Z"
      },
      {
        "duration": 82,
        "start_time": "2021-10-03T13:34:52.238Z"
      },
      {
        "duration": 25,
        "start_time": "2021-10-03T13:34:52.323Z"
      },
      {
        "duration": 96,
        "start_time": "2021-10-03T13:34:52.351Z"
      },
      {
        "duration": 23,
        "start_time": "2021-10-03T13:34:52.449Z"
      },
      {
        "duration": 92,
        "start_time": "2021-10-03T13:34:52.475Z"
      },
      {
        "duration": 4,
        "start_time": "2021-10-03T13:34:52.571Z"
      },
      {
        "duration": 67,
        "start_time": "2021-10-03T13:34:52.578Z"
      },
      {
        "duration": 499,
        "start_time": "2021-10-03T13:34:52.648Z"
      },
      {
        "duration": -96071,
        "start_time": "2021-10-03T13:36:29.222Z"
      },
      {
        "duration": -96069,
        "start_time": "2021-10-03T13:36:29.230Z"
      },
      {
        "duration": 533,
        "start_time": "2021-10-03T13:55:02.253Z"
      },
      {
        "duration": 5,
        "start_time": "2021-10-03T13:55:18.457Z"
      },
      {
        "duration": 52,
        "start_time": "2021-10-03T13:55:20.075Z"
      },
      {
        "duration": 341,
        "start_time": "2021-10-03T13:55:21.895Z"
      },
      {
        "duration": 106,
        "start_time": "2021-10-03T14:01:43.163Z"
      },
      {
        "duration": 6,
        "start_time": "2021-10-03T14:01:49.738Z"
      },
      {
        "duration": 313,
        "start_time": "2021-10-03T14:02:05.101Z"
      },
      {
        "duration": 5,
        "start_time": "2021-10-03T14:03:45.666Z"
      },
      {
        "duration": 334,
        "start_time": "2021-10-03T15:06:41.804Z"
      },
      {
        "duration": 411,
        "start_time": "2021-10-03T15:06:55.120Z"
      },
      {
        "duration": 16,
        "start_time": "2021-10-03T15:07:02.659Z"
      },
      {
        "duration": 15,
        "start_time": "2021-10-03T15:23:13.980Z"
      },
      {
        "duration": 1466,
        "start_time": "2021-10-03T15:23:24.190Z"
      },
      {
        "duration": 486,
        "start_time": "2021-10-03T15:23:25.658Z"
      },
      {
        "duration": 27,
        "start_time": "2021-10-03T15:23:26.147Z"
      },
      {
        "duration": 101,
        "start_time": "2021-10-03T15:23:26.176Z"
      },
      {
        "duration": 22,
        "start_time": "2021-10-03T15:23:26.280Z"
      },
      {
        "duration": 69,
        "start_time": "2021-10-03T15:23:26.316Z"
      },
      {
        "duration": 48,
        "start_time": "2021-10-03T15:23:26.387Z"
      },
      {
        "duration": 81,
        "start_time": "2021-10-03T15:23:26.438Z"
      },
      {
        "duration": 5,
        "start_time": "2021-10-03T15:23:26.521Z"
      },
      {
        "duration": 59,
        "start_time": "2021-10-03T15:23:26.528Z"
      },
      {
        "duration": 126,
        "start_time": "2021-10-03T15:23:26.589Z"
      },
      {
        "duration": 20,
        "start_time": "2021-10-03T15:32:08.227Z"
      },
      {
        "duration": 117,
        "start_time": "2021-10-03T15:33:32.103Z"
      },
      {
        "duration": 1541,
        "start_time": "2021-10-03T15:34:23.161Z"
      },
      {
        "duration": 500,
        "start_time": "2021-10-03T15:34:24.705Z"
      },
      {
        "duration": 30,
        "start_time": "2021-10-03T15:34:25.217Z"
      },
      {
        "duration": 103,
        "start_time": "2021-10-03T15:34:25.250Z"
      },
      {
        "duration": 26,
        "start_time": "2021-10-03T15:34:25.356Z"
      },
      {
        "duration": 91,
        "start_time": "2021-10-03T15:34:25.385Z"
      },
      {
        "duration": 42,
        "start_time": "2021-10-03T15:34:25.479Z"
      },
      {
        "duration": 65,
        "start_time": "2021-10-03T15:34:25.524Z"
      },
      {
        "duration": 5,
        "start_time": "2021-10-03T15:34:25.591Z"
      },
      {
        "duration": 59,
        "start_time": "2021-10-03T15:34:25.617Z"
      },
      {
        "duration": 138,
        "start_time": "2021-10-03T15:34:25.678Z"
      },
      {
        "duration": 19,
        "start_time": "2021-10-03T15:38:46.590Z"
      },
      {
        "duration": 517,
        "start_time": "2021-10-03T15:39:31.274Z"
      },
      {
        "duration": 21,
        "start_time": "2021-10-03T15:39:56.216Z"
      },
      {
        "duration": 5,
        "start_time": "2021-10-03T15:48:32.384Z"
      },
      {
        "duration": 7,
        "start_time": "2021-10-03T15:48:49.056Z"
      },
      {
        "duration": 5,
        "start_time": "2021-10-03T15:49:01.064Z"
      },
      {
        "duration": 7,
        "start_time": "2021-10-03T15:49:02.561Z"
      },
      {
        "duration": 23,
        "start_time": "2021-10-03T15:54:54.401Z"
      },
      {
        "duration": 18,
        "start_time": "2021-10-03T15:55:08.619Z"
      },
      {
        "duration": 18,
        "start_time": "2021-10-03T16:05:53.032Z"
      },
      {
        "duration": 17,
        "start_time": "2021-10-03T16:05:54.412Z"
      },
      {
        "duration": 17,
        "start_time": "2021-10-03T16:05:55.679Z"
      },
      {
        "duration": 1510,
        "start_time": "2021-10-05T06:48:47.228Z"
      },
      {
        "duration": 454,
        "start_time": "2021-10-05T06:48:48.741Z"
      },
      {
        "duration": 35,
        "start_time": "2021-10-05T06:48:49.198Z"
      },
      {
        "duration": 92,
        "start_time": "2021-10-05T06:48:49.235Z"
      },
      {
        "duration": 22,
        "start_time": "2021-10-05T06:48:49.329Z"
      },
      {
        "duration": 103,
        "start_time": "2021-10-05T06:48:49.354Z"
      },
      {
        "duration": 23,
        "start_time": "2021-10-05T06:48:49.459Z"
      },
      {
        "duration": 94,
        "start_time": "2021-10-05T06:48:49.484Z"
      },
      {
        "duration": 4,
        "start_time": "2021-10-05T06:48:49.581Z"
      },
      {
        "duration": 65,
        "start_time": "2021-10-05T06:48:49.588Z"
      },
      {
        "duration": 72,
        "start_time": "2021-10-05T06:48:49.656Z"
      },
      {
        "duration": 107,
        "start_time": "2021-10-05T06:48:49.732Z"
      },
      {
        "duration": 187,
        "start_time": "2021-10-05T06:48:49.843Z"
      },
      {
        "duration": 1392,
        "start_time": "2021-10-06T12:29:53.344Z"
      },
      {
        "duration": 473,
        "start_time": "2021-10-06T12:29:54.739Z"
      },
      {
        "duration": 28,
        "start_time": "2021-10-06T12:29:55.215Z"
      },
      {
        "duration": 90,
        "start_time": "2021-10-06T12:29:55.246Z"
      },
      {
        "duration": 24,
        "start_time": "2021-10-06T12:29:55.339Z"
      },
      {
        "duration": 91,
        "start_time": "2021-10-06T12:29:55.365Z"
      },
      {
        "duration": 23,
        "start_time": "2021-10-06T12:29:55.459Z"
      },
      {
        "duration": 74,
        "start_time": "2021-10-06T12:29:55.501Z"
      },
      {
        "duration": 360,
        "start_time": "2021-10-06T12:29:55.577Z"
      },
      {
        "duration": 361,
        "start_time": "2021-10-06T12:29:55.939Z"
      },
      {
        "duration": 447,
        "start_time": "2021-10-06T12:29:56.302Z"
      },
      {
        "duration": 5,
        "start_time": "2021-10-06T12:29:56.752Z"
      },
      {
        "duration": 74,
        "start_time": "2021-10-06T12:29:56.759Z"
      },
      {
        "duration": 164,
        "start_time": "2021-10-06T12:29:56.835Z"
      },
      {
        "duration": 17,
        "start_time": "2021-10-06T12:29:57.002Z"
      },
      {
        "duration": 113,
        "start_time": "2021-10-06T12:29:57.103Z"
      },
      {
        "duration": 852,
        "start_time": "2021-10-06T12:33:21.138Z"
      },
      {
        "duration": 949,
        "start_time": "2021-10-06T12:33:31.473Z"
      },
      {
        "duration": 708,
        "start_time": "2021-10-06T12:33:45.859Z"
      },
      {
        "duration": 580,
        "start_time": "2021-10-06T12:33:49.864Z"
      },
      {
        "duration": 882,
        "start_time": "2021-10-06T12:33:53.703Z"
      },
      {
        "duration": 989,
        "start_time": "2021-10-06T12:34:06.727Z"
      },
      {
        "duration": 862,
        "start_time": "2021-10-06T12:39:24.966Z"
      },
      {
        "duration": 849,
        "start_time": "2021-10-06T12:39:30.789Z"
      },
      {
        "duration": 867,
        "start_time": "2021-10-06T12:39:40.084Z"
      },
      {
        "duration": 4,
        "start_time": "2021-10-06T13:26:21.882Z"
      },
      {
        "duration": 4,
        "start_time": "2021-10-06T13:30:56.505Z"
      },
      {
        "duration": 3,
        "start_time": "2021-10-06T13:33:16.632Z"
      },
      {
        "duration": 4,
        "start_time": "2021-10-06T13:33:27.247Z"
      },
      {
        "duration": 4,
        "start_time": "2021-10-06T13:33:57.174Z"
      },
      {
        "duration": 5,
        "start_time": "2021-10-06T13:34:00.513Z"
      },
      {
        "duration": 5,
        "start_time": "2021-10-06T13:36:30.543Z"
      },
      {
        "duration": 5,
        "start_time": "2021-10-06T13:46:44.772Z"
      },
      {
        "duration": 7,
        "start_time": "2021-10-06T13:46:54.740Z"
      },
      {
        "duration": 6,
        "start_time": "2021-10-06T13:47:11.706Z"
      },
      {
        "duration": 7,
        "start_time": "2021-10-06T13:47:20.922Z"
      },
      {
        "duration": 5,
        "start_time": "2021-10-06T14:11:23.837Z"
      },
      {
        "duration": 5,
        "start_time": "2021-10-06T14:28:38.701Z"
      },
      {
        "duration": 4,
        "start_time": "2021-10-06T14:28:51.527Z"
      },
      {
        "duration": 117,
        "start_time": "2021-10-06T15:36:53.281Z"
      },
      {
        "duration": 634,
        "start_time": "2021-10-06T15:43:03.243Z"
      },
      {
        "duration": 491,
        "start_time": "2021-10-06T15:44:40.991Z"
      },
      {
        "duration": 7,
        "start_time": "2021-10-06T15:45:05.843Z"
      },
      {
        "duration": 563,
        "start_time": "2021-10-06T15:45:07.284Z"
      },
      {
        "duration": 7,
        "start_time": "2021-10-06T15:48:40.215Z"
      },
      {
        "duration": 493,
        "start_time": "2021-10-06T15:48:43.000Z"
      },
      {
        "duration": 7,
        "start_time": "2021-10-06T15:51:20.012Z"
      },
      {
        "duration": 496,
        "start_time": "2021-10-06T15:51:21.455Z"
      },
      {
        "duration": 517,
        "start_time": "2021-10-06T15:51:32.468Z"
      },
      {
        "duration": 7,
        "start_time": "2021-10-06T16:16:51.901Z"
      },
      {
        "duration": 542,
        "start_time": "2021-10-06T16:16:53.479Z"
      },
      {
        "duration": 1407,
        "start_time": "2021-10-06T16:18:32.416Z"
      },
      {
        "duration": 478,
        "start_time": "2021-10-06T16:18:33.826Z"
      },
      {
        "duration": 28,
        "start_time": "2021-10-06T16:18:34.307Z"
      },
      {
        "duration": 7,
        "start_time": "2021-10-06T16:18:34.338Z"
      },
      {
        "duration": 104,
        "start_time": "2021-10-06T16:18:34.349Z"
      },
      {
        "duration": 23,
        "start_time": "2021-10-06T16:18:34.455Z"
      },
      {
        "duration": 25,
        "start_time": "2021-10-06T16:18:34.480Z"
      },
      {
        "duration": 64,
        "start_time": "2021-10-06T16:18:34.510Z"
      },
      {
        "duration": 27,
        "start_time": "2021-10-06T16:18:34.602Z"
      },
      {
        "duration": 7,
        "start_time": "2021-10-06T16:18:34.632Z"
      },
      {
        "duration": 110,
        "start_time": "2021-10-06T16:18:34.642Z"
      },
      {
        "duration": 912,
        "start_time": "2021-10-06T16:18:34.755Z"
      },
      {
        "duration": 875,
        "start_time": "2021-10-06T16:18:35.670Z"
      },
      {
        "duration": 987,
        "start_time": "2021-10-06T16:18:36.548Z"
      },
      {
        "duration": 6,
        "start_time": "2021-10-06T16:18:37.538Z"
      },
      {
        "duration": 82,
        "start_time": "2021-10-06T16:18:37.547Z"
      },
      {
        "duration": 68,
        "start_time": "2021-10-06T16:18:37.632Z"
      },
      {
        "duration": 112,
        "start_time": "2021-10-06T16:18:37.704Z"
      },
      {
        "duration": 108,
        "start_time": "2021-10-06T16:18:37.905Z"
      },
      {
        "duration": 88,
        "start_time": "2021-10-06T16:18:38.017Z"
      },
      {
        "duration": 96,
        "start_time": "2021-10-06T16:18:38.110Z"
      },
      {
        "duration": 6,
        "start_time": "2021-10-06T16:18:38.209Z"
      },
      {
        "duration": 5,
        "start_time": "2021-10-06T16:18:38.219Z"
      },
      {
        "duration": 10,
        "start_time": "2021-10-06T16:18:38.226Z"
      },
      {
        "duration": 656,
        "start_time": "2021-10-06T16:18:38.239Z"
      },
      {
        "duration": 7,
        "start_time": "2021-10-06T16:19:41.127Z"
      },
      {
        "duration": 546,
        "start_time": "2021-10-06T16:19:42.908Z"
      },
      {
        "duration": 7,
        "start_time": "2021-10-06T16:19:47.499Z"
      },
      {
        "duration": 7,
        "start_time": "2021-10-06T16:20:34.535Z"
      },
      {
        "duration": 526,
        "start_time": "2021-10-06T16:20:36.216Z"
      },
      {
        "duration": 543,
        "start_time": "2021-10-06T16:20:50.613Z"
      },
      {
        "duration": 548,
        "start_time": "2021-10-06T16:22:15.774Z"
      },
      {
        "duration": 1413,
        "start_time": "2021-10-06T16:22:51.118Z"
      },
      {
        "duration": 489,
        "start_time": "2021-10-06T16:22:52.533Z"
      },
      {
        "duration": 29,
        "start_time": "2021-10-06T16:22:53.025Z"
      },
      {
        "duration": 9,
        "start_time": "2021-10-06T16:22:53.057Z"
      },
      {
        "duration": 99,
        "start_time": "2021-10-06T16:22:53.068Z"
      },
      {
        "duration": 36,
        "start_time": "2021-10-06T16:22:53.169Z"
      },
      {
        "duration": 7,
        "start_time": "2021-10-06T16:22:53.207Z"
      },
      {
        "duration": 84,
        "start_time": "2021-10-06T16:22:53.218Z"
      },
      {
        "duration": 24,
        "start_time": "2021-10-06T16:22:53.305Z"
      },
      {
        "duration": 7,
        "start_time": "2021-10-06T16:22:53.331Z"
      },
      {
        "duration": 108,
        "start_time": "2021-10-06T16:22:53.340Z"
      },
      {
        "duration": 886,
        "start_time": "2021-10-06T16:22:53.450Z"
      },
      {
        "duration": 867,
        "start_time": "2021-10-06T16:22:54.339Z"
      },
      {
        "duration": 1092,
        "start_time": "2021-10-06T16:22:55.208Z"
      },
      {
        "duration": 4,
        "start_time": "2021-10-06T16:22:56.303Z"
      },
      {
        "duration": 58,
        "start_time": "2021-10-06T16:22:56.309Z"
      },
      {
        "duration": 35,
        "start_time": "2021-10-06T16:22:56.369Z"
      },
      {
        "duration": 102,
        "start_time": "2021-10-06T16:22:56.407Z"
      },
      {
        "duration": 190,
        "start_time": "2021-10-06T16:22:56.512Z"
      },
      {
        "duration": 94,
        "start_time": "2021-10-06T16:22:56.707Z"
      },
      {
        "duration": 13,
        "start_time": "2021-10-06T16:22:56.803Z"
      },
      {
        "duration": 7,
        "start_time": "2021-10-06T16:22:56.818Z"
      },
      {
        "duration": 9,
        "start_time": "2021-10-06T16:22:56.829Z"
      },
      {
        "duration": 649,
        "start_time": "2021-10-06T16:22:56.840Z"
      },
      {
        "duration": -40,
        "start_time": "2021-10-06T16:22:57.532Z"
      },
      {
        "duration": -41,
        "start_time": "2021-10-06T16:22:57.534Z"
      },
      {
        "duration": 7,
        "start_time": "2021-10-06T16:29:00.239Z"
      },
      {
        "duration": 555,
        "start_time": "2021-10-06T16:29:01.672Z"
      },
      {
        "duration": 7,
        "start_time": "2021-10-06T16:31:51.268Z"
      },
      {
        "duration": 526,
        "start_time": "2021-10-06T16:31:52.741Z"
      },
      {
        "duration": 6,
        "start_time": "2021-10-06T16:32:07.831Z"
      },
      {
        "duration": 520,
        "start_time": "2021-10-06T16:32:09.807Z"
      },
      {
        "duration": 7,
        "start_time": "2021-10-06T16:46:16.150Z"
      },
      {
        "duration": 517,
        "start_time": "2021-10-06T16:46:17.421Z"
      },
      {
        "duration": 7,
        "start_time": "2021-10-06T16:46:22.773Z"
      },
      {
        "duration": 543,
        "start_time": "2021-10-06T16:46:24.299Z"
      },
      {
        "duration": 270,
        "start_time": "2021-10-06T16:48:44.896Z"
      },
      {
        "duration": 552,
        "start_time": "2021-10-06T16:53:06.948Z"
      },
      {
        "duration": 876,
        "start_time": "2021-10-06T16:53:14.860Z"
      },
      {
        "duration": 496,
        "start_time": "2021-10-06T16:53:17.360Z"
      },
      {
        "duration": 5,
        "start_time": "2021-10-06T16:56:18.965Z"
      },
      {
        "duration": 5,
        "start_time": "2021-10-06T16:57:52.673Z"
      },
      {
        "duration": 5,
        "start_time": "2021-10-06T16:58:13.926Z"
      },
      {
        "duration": 5,
        "start_time": "2021-10-06T16:58:28.818Z"
      },
      {
        "duration": 465,
        "start_time": "2021-10-06T16:58:54.046Z"
      },
      {
        "duration": 6,
        "start_time": "2021-10-06T16:59:01.209Z"
      },
      {
        "duration": 5,
        "start_time": "2021-10-06T16:59:11.622Z"
      },
      {
        "duration": 499,
        "start_time": "2021-10-06T17:03:25.867Z"
      },
      {
        "duration": 1476,
        "start_time": "2021-10-06T17:06:14.157Z"
      },
      {
        "duration": 486,
        "start_time": "2021-10-06T17:06:15.635Z"
      },
      {
        "duration": 31,
        "start_time": "2021-10-06T17:06:16.124Z"
      },
      {
        "duration": 6,
        "start_time": "2021-10-06T17:06:16.157Z"
      },
      {
        "duration": 135,
        "start_time": "2021-10-06T17:06:16.165Z"
      },
      {
        "duration": 23,
        "start_time": "2021-10-06T17:06:16.302Z"
      },
      {
        "duration": 6,
        "start_time": "2021-10-06T17:06:16.328Z"
      },
      {
        "duration": 119,
        "start_time": "2021-10-06T17:06:16.338Z"
      },
      {
        "duration": 44,
        "start_time": "2021-10-06T17:06:16.460Z"
      },
      {
        "duration": 6,
        "start_time": "2021-10-06T17:06:16.507Z"
      },
      {
        "duration": 117,
        "start_time": "2021-10-06T17:06:16.516Z"
      },
      {
        "duration": 988,
        "start_time": "2021-10-06T17:06:16.635Z"
      },
      {
        "duration": 891,
        "start_time": "2021-10-06T17:06:17.626Z"
      },
      {
        "duration": 991,
        "start_time": "2021-10-06T17:06:18.519Z"
      },
      {
        "duration": 5,
        "start_time": "2021-10-06T17:06:19.512Z"
      },
      {
        "duration": 62,
        "start_time": "2021-10-06T17:06:19.519Z"
      },
      {
        "duration": 33,
        "start_time": "2021-10-06T17:06:19.584Z"
      },
      {
        "duration": 185,
        "start_time": "2021-10-06T17:06:19.621Z"
      },
      {
        "duration": 289,
        "start_time": "2021-10-06T17:06:19.810Z"
      },
      {
        "duration": 3,
        "start_time": "2021-10-06T17:06:20.102Z"
      },
      {
        "duration": 10,
        "start_time": "2021-10-06T17:06:20.107Z"
      },
      {
        "duration": 12,
        "start_time": "2021-10-06T17:06:20.120Z"
      },
      {
        "duration": 5,
        "start_time": "2021-10-06T17:06:20.136Z"
      },
      {
        "duration": 7,
        "start_time": "2021-10-06T17:06:20.201Z"
      },
      {
        "duration": 690,
        "start_time": "2021-10-06T17:06:20.210Z"
      },
      {
        "duration": 91,
        "start_time": "2021-10-06T17:06:20.812Z"
      },
      {
        "duration": 50,
        "start_time": "2021-10-06T17:06:20.854Z"
      },
      {
        "duration": 495,
        "start_time": "2021-10-06T17:06:25.244Z"
      },
      {
        "duration": 505,
        "start_time": "2021-10-06T17:06:29.121Z"
      },
      {
        "duration": 1404,
        "start_time": "2021-10-07T11:48:24.093Z"
      },
      {
        "duration": 449,
        "start_time": "2021-10-07T11:48:25.500Z"
      },
      {
        "duration": 39,
        "start_time": "2021-10-07T11:48:25.953Z"
      },
      {
        "duration": 6,
        "start_time": "2021-10-07T11:48:25.995Z"
      },
      {
        "duration": 91,
        "start_time": "2021-10-07T11:48:26.005Z"
      },
      {
        "duration": 22,
        "start_time": "2021-10-07T11:48:26.098Z"
      },
      {
        "duration": 6,
        "start_time": "2021-10-07T11:48:26.123Z"
      },
      {
        "duration": 97,
        "start_time": "2021-10-07T11:48:26.132Z"
      },
      {
        "duration": 21,
        "start_time": "2021-10-07T11:48:26.234Z"
      },
      {
        "duration": 25,
        "start_time": "2021-10-07T11:48:26.259Z"
      },
      {
        "duration": 66,
        "start_time": "2021-10-07T11:48:26.286Z"
      },
      {
        "duration": 864,
        "start_time": "2021-10-07T11:48:26.354Z"
      },
      {
        "duration": 939,
        "start_time": "2021-10-07T11:48:27.221Z"
      },
      {
        "duration": 1064,
        "start_time": "2021-10-07T11:48:28.162Z"
      },
      {
        "duration": 4,
        "start_time": "2021-10-07T11:48:29.229Z"
      },
      {
        "duration": 84,
        "start_time": "2021-10-07T11:48:29.235Z"
      },
      {
        "duration": 69,
        "start_time": "2021-10-07T11:48:29.321Z"
      },
      {
        "duration": 102,
        "start_time": "2021-10-07T11:48:29.399Z"
      },
      {
        "duration": 191,
        "start_time": "2021-10-07T11:48:29.504Z"
      },
      {
        "duration": 83,
        "start_time": "2021-10-07T11:48:29.700Z"
      },
      {
        "duration": 10,
        "start_time": "2021-10-07T11:48:29.786Z"
      },
      {
        "duration": 7,
        "start_time": "2021-10-07T11:48:29.799Z"
      },
      {
        "duration": 6,
        "start_time": "2021-10-07T11:48:29.810Z"
      },
      {
        "duration": 11,
        "start_time": "2021-10-07T11:48:29.818Z"
      },
      {
        "duration": 798,
        "start_time": "2021-10-07T11:48:29.831Z"
      },
      {
        "duration": 76,
        "start_time": "2021-10-07T11:48:30.556Z"
      },
      {
        "duration": 72,
        "start_time": "2021-10-07T11:48:30.561Z"
      },
      {
        "duration": 8,
        "start_time": "2021-10-07T12:06:21.980Z"
      },
      {
        "duration": 6,
        "start_time": "2021-10-07T12:06:31.696Z"
      },
      {
        "duration": 1196,
        "start_time": "2021-10-07T12:33:47.191Z"
      },
      {
        "duration": 380,
        "start_time": "2021-10-07T12:33:48.389Z"
      },
      {
        "duration": 19,
        "start_time": "2021-10-07T12:33:48.771Z"
      },
      {
        "duration": 3,
        "start_time": "2021-10-07T12:33:48.792Z"
      },
      {
        "duration": 57,
        "start_time": "2021-10-07T12:33:48.797Z"
      },
      {
        "duration": 15,
        "start_time": "2021-10-07T12:33:48.856Z"
      },
      {
        "duration": 4,
        "start_time": "2021-10-07T12:33:48.872Z"
      },
      {
        "duration": 35,
        "start_time": "2021-10-07T12:33:48.878Z"
      },
      {
        "duration": 37,
        "start_time": "2021-10-07T12:33:48.914Z"
      },
      {
        "duration": 6,
        "start_time": "2021-10-07T12:33:48.953Z"
      },
      {
        "duration": 39,
        "start_time": "2021-10-07T12:33:48.960Z"
      },
      {
        "duration": 514,
        "start_time": "2021-10-07T12:33:49.000Z"
      },
      {
        "duration": 475,
        "start_time": "2021-10-07T12:33:49.515Z"
      },
      {
        "duration": 563,
        "start_time": "2021-10-07T12:33:49.992Z"
      },
      {
        "duration": 3,
        "start_time": "2021-10-07T12:33:50.557Z"
      },
      {
        "duration": 52,
        "start_time": "2021-10-07T12:33:50.562Z"
      },
      {
        "duration": 3,
        "start_time": "2021-10-07T12:34:00.362Z"
      },
      {
        "duration": 4,
        "start_time": "2021-10-07T12:35:53.720Z"
      },
      {
        "duration": 694,
        "start_time": "2021-10-07T12:37:23.409Z"
      },
      {
        "duration": 4,
        "start_time": "2021-10-07T12:37:47.094Z"
      },
      {
        "duration": 296,
        "start_time": "2021-10-07T12:37:48.888Z"
      },
      {
        "duration": 361,
        "start_time": "2021-10-07T12:38:03.841Z"
      },
      {
        "duration": 294,
        "start_time": "2021-10-07T12:38:06.994Z"
      },
      {
        "duration": 221,
        "start_time": "2021-10-07T12:39:20.705Z"
      },
      {
        "duration": 4,
        "start_time": "2021-10-07T12:39:23.703Z"
      },
      {
        "duration": 554,
        "start_time": "2021-10-07T12:39:25.047Z"
      },
      {
        "duration": 3,
        "start_time": "2021-10-07T12:43:25.192Z"
      },
      {
        "duration": 12,
        "start_time": "2021-10-07T12:43:31.805Z"
      },
      {
        "duration": 11,
        "start_time": "2021-10-07T12:44:10.008Z"
      },
      {
        "duration": 13,
        "start_time": "2021-10-07T12:44:50.251Z"
      },
      {
        "duration": 236,
        "start_time": "2021-10-07T12:47:22.228Z"
      },
      {
        "duration": 258,
        "start_time": "2021-10-07T12:47:37.613Z"
      },
      {
        "duration": 229,
        "start_time": "2021-10-07T12:47:44.072Z"
      },
      {
        "duration": 217,
        "start_time": "2021-10-07T12:47:55.424Z"
      },
      {
        "duration": 227,
        "start_time": "2021-10-07T12:48:28.062Z"
      },
      {
        "duration": 2,
        "start_time": "2021-10-07T12:49:14.446Z"
      },
      {
        "duration": 231,
        "start_time": "2021-10-07T12:49:45.731Z"
      },
      {
        "duration": 287,
        "start_time": "2021-10-07T12:49:51.404Z"
      },
      {
        "duration": 219,
        "start_time": "2021-10-07T12:50:10.710Z"
      },
      {
        "duration": 3,
        "start_time": "2021-10-07T12:50:16.527Z"
      },
      {
        "duration": 4,
        "start_time": "2021-10-07T12:50:18.135Z"
      },
      {
        "duration": 17,
        "start_time": "2021-10-07T12:52:07.531Z"
      },
      {
        "duration": 17,
        "start_time": "2021-10-07T12:52:26.491Z"
      },
      {
        "duration": 18,
        "start_time": "2021-10-07T12:52:34.278Z"
      },
      {
        "duration": 3,
        "start_time": "2021-10-07T12:57:09.153Z"
      },
      {
        "duration": 3,
        "start_time": "2021-10-07T12:57:10.991Z"
      },
      {
        "duration": 2,
        "start_time": "2021-10-07T12:57:21.427Z"
      },
      {
        "duration": 3,
        "start_time": "2021-10-07T12:57:23.711Z"
      },
      {
        "duration": 4,
        "start_time": "2021-10-07T12:57:24.973Z"
      },
      {
        "duration": 4,
        "start_time": "2021-10-07T13:01:28.189Z"
      },
      {
        "duration": 4,
        "start_time": "2021-10-07T13:01:45.021Z"
      },
      {
        "duration": 390,
        "start_time": "2021-10-07T13:01:45.027Z"
      },
      {
        "duration": 15,
        "start_time": "2021-10-07T13:01:45.419Z"
      },
      {
        "duration": 10,
        "start_time": "2021-10-07T13:01:45.436Z"
      },
      {
        "duration": 38,
        "start_time": "2021-10-07T13:01:45.448Z"
      },
      {
        "duration": 15,
        "start_time": "2021-10-07T13:01:45.488Z"
      },
      {
        "duration": 3,
        "start_time": "2021-10-07T13:01:45.505Z"
      },
      {
        "duration": 67,
        "start_time": "2021-10-07T13:01:45.510Z"
      },
      {
        "duration": 16,
        "start_time": "2021-10-07T13:01:45.580Z"
      },
      {
        "duration": 4,
        "start_time": "2021-10-07T13:01:45.598Z"
      },
      {
        "duration": 64,
        "start_time": "2021-10-07T13:01:45.604Z"
      },
      {
        "duration": 19,
        "start_time": "2021-10-07T13:01:45.669Z"
      },
      {
        "duration": 20,
        "start_time": "2021-10-07T13:01:45.689Z"
      },
      {
        "duration": 37,
        "start_time": "2021-10-07T13:01:45.710Z"
      },
      {
        "duration": 502,
        "start_time": "2021-10-07T13:01:45.749Z"
      },
      {
        "duration": 479,
        "start_time": "2021-10-07T13:01:46.253Z"
      },
      {
        "duration": 530,
        "start_time": "2021-10-07T13:01:46.734Z"
      },
      {
        "duration": 4,
        "start_time": "2021-10-07T13:01:47.266Z"
      },
      {
        "duration": 43,
        "start_time": "2021-10-07T13:01:47.272Z"
      },
      {
        "duration": 4,
        "start_time": "2021-10-07T13:01:47.316Z"
      },
      {
        "duration": 41,
        "start_time": "2021-10-07T13:01:47.321Z"
      },
      {
        "duration": 103,
        "start_time": "2021-10-07T13:01:47.447Z"
      },
      {
        "duration": 96,
        "start_time": "2021-10-07T13:01:47.553Z"
      },
      {
        "duration": 93,
        "start_time": "2021-10-07T13:01:47.652Z"
      },
      {
        "duration": 5,
        "start_time": "2021-10-07T13:01:47.748Z"
      },
      {
        "duration": 4,
        "start_time": "2021-10-07T13:01:47.845Z"
      },
      {
        "duration": 3,
        "start_time": "2021-10-07T13:02:00.143Z"
      },
      {
        "duration": 393,
        "start_time": "2021-10-07T13:02:00.148Z"
      },
      {
        "duration": 16,
        "start_time": "2021-10-07T13:02:00.543Z"
      },
      {
        "duration": 4,
        "start_time": "2021-10-07T13:02:00.561Z"
      },
      {
        "duration": 39,
        "start_time": "2021-10-07T13:02:00.567Z"
      },
      {
        "duration": 42,
        "start_time": "2021-10-07T13:02:00.607Z"
      },
      {
        "duration": 5,
        "start_time": "2021-10-07T13:02:00.650Z"
      },
      {
        "duration": 51,
        "start_time": "2021-10-07T13:02:00.657Z"
      },
      {
        "duration": 121,
        "start_time": "2021-10-07T13:02:00.711Z"
      },
      {
        "duration": 11,
        "start_time": "2021-10-07T13:02:00.834Z"
      },
      {
        "duration": 53,
        "start_time": "2021-10-07T13:02:00.847Z"
      },
      {
        "duration": 17,
        "start_time": "2021-10-07T13:02:00.901Z"
      },
      {
        "duration": 30,
        "start_time": "2021-10-07T13:02:00.920Z"
      },
      {
        "duration": 27,
        "start_time": "2021-10-07T13:02:00.952Z"
      },
      {
        "duration": 497,
        "start_time": "2021-10-07T13:02:00.981Z"
      },
      {
        "duration": 483,
        "start_time": "2021-10-07T13:02:01.479Z"
      },
      {
        "duration": 508,
        "start_time": "2021-10-07T13:02:01.963Z"
      },
      {
        "duration": 3,
        "start_time": "2021-10-07T13:02:02.473Z"
      },
      {
        "duration": 40,
        "start_time": "2021-10-07T13:02:02.477Z"
      },
      {
        "duration": 3,
        "start_time": "2021-10-07T13:02:02.518Z"
      },
      {
        "duration": 33,
        "start_time": "2021-10-07T13:02:02.523Z"
      },
      {
        "duration": 105,
        "start_time": "2021-10-07T13:02:02.646Z"
      },
      {
        "duration": 192,
        "start_time": "2021-10-07T13:02:02.753Z"
      },
      {
        "duration": 3,
        "start_time": "2021-10-07T13:02:02.948Z"
      },
      {
        "duration": 98,
        "start_time": "2021-10-07T13:02:02.954Z"
      },
      {
        "duration": 5,
        "start_time": "2021-10-07T13:02:03.054Z"
      },
      {
        "duration": 4,
        "start_time": "2021-10-07T13:06:29.139Z"
      },
      {
        "duration": 360,
        "start_time": "2021-10-07T13:09:50.684Z"
      },
      {
        "duration": 4,
        "start_time": "2021-10-07T13:10:33.665Z"
      },
      {
        "duration": 18,
        "start_time": "2021-10-07T13:10:41.289Z"
      },
      {
        "duration": 13,
        "start_time": "2021-10-07T13:10:47.096Z"
      },
      {
        "duration": 13,
        "start_time": "2021-10-07T13:10:51.891Z"
      },
      {
        "duration": 5,
        "start_time": "2021-10-07T13:10:57.162Z"
      },
      {
        "duration": 4,
        "start_time": "2021-10-07T13:10:58.975Z"
      },
      {
        "duration": 5,
        "start_time": "2021-10-07T13:11:00.562Z"
      },
      {
        "duration": 450,
        "start_time": "2021-10-07T13:11:09.936Z"
      },
      {
        "duration": 5,
        "start_time": "2021-10-07T13:11:22.136Z"
      },
      {
        "duration": 447,
        "start_time": "2021-10-07T13:11:24.512Z"
      },
      {
        "duration": 3,
        "start_time": "2021-10-07T13:11:51.462Z"
      },
      {
        "duration": 4,
        "start_time": "2021-10-07T13:11:55.210Z"
      },
      {
        "duration": 678,
        "start_time": "2021-10-07T13:11:59.062Z"
      },
      {
        "duration": 3,
        "start_time": "2021-10-07T13:12:20.301Z"
      },
      {
        "duration": 4,
        "start_time": "2021-10-07T13:12:21.693Z"
      },
      {
        "duration": 3378,
        "start_time": "2021-10-07T13:12:23.684Z"
      },
      {
        "duration": 5,
        "start_time": "2021-10-07T13:12:50.259Z"
      },
      {
        "duration": 3926,
        "start_time": "2021-10-07T13:12:52.701Z"
      },
      {
        "duration": 5,
        "start_time": "2021-10-07T13:13:03.052Z"
      },
      {
        "duration": 3142,
        "start_time": "2021-10-07T13:13:05.425Z"
      },
      {
        "duration": 3149,
        "start_time": "2021-10-07T13:13:20.483Z"
      },
      {
        "duration": 3280,
        "start_time": "2021-10-07T13:13:24.713Z"
      },
      {
        "duration": 5,
        "start_time": "2021-10-07T13:14:49.231Z"
      },
      {
        "duration": 3394,
        "start_time": "2021-10-07T13:14:50.650Z"
      },
      {
        "duration": 3370,
        "start_time": "2021-10-07T13:14:54.046Z"
      },
      {
        "duration": 3277,
        "start_time": "2021-10-07T13:14:57.418Z"
      },
      {
        "duration": 222,
        "start_time": "2021-10-07T13:21:25.372Z"
      },
      {
        "duration": 7,
        "start_time": "2021-10-07T13:22:17.711Z"
      },
      {
        "duration": 6,
        "start_time": "2021-10-07T13:22:25.142Z"
      },
      {
        "duration": 214,
        "start_time": "2021-10-07T13:22:58.829Z"
      },
      {
        "duration": 222,
        "start_time": "2021-10-07T13:23:13.851Z"
      },
      {
        "duration": 279,
        "start_time": "2021-10-07T13:23:29.704Z"
      },
      {
        "duration": 6,
        "start_time": "2021-10-07T13:23:50.826Z"
      },
      {
        "duration": 5,
        "start_time": "2021-10-07T13:24:28.429Z"
      },
      {
        "duration": 5,
        "start_time": "2021-10-07T13:24:32.563Z"
      },
      {
        "duration": 1140,
        "start_time": "2021-10-07T13:35:01.057Z"
      },
      {
        "duration": 376,
        "start_time": "2021-10-07T13:35:02.199Z"
      },
      {
        "duration": 19,
        "start_time": "2021-10-07T13:35:02.578Z"
      },
      {
        "duration": 16,
        "start_time": "2021-10-07T13:35:02.599Z"
      },
      {
        "duration": 50,
        "start_time": "2021-10-07T13:35:02.617Z"
      },
      {
        "duration": 16,
        "start_time": "2021-10-07T13:35:02.669Z"
      },
      {
        "duration": 18,
        "start_time": "2021-10-07T13:35:02.686Z"
      },
      {
        "duration": 54,
        "start_time": "2021-10-07T13:35:02.707Z"
      },
      {
        "duration": 16,
        "start_time": "2021-10-07T13:35:02.763Z"
      },
      {
        "duration": 26,
        "start_time": "2021-10-07T13:35:02.781Z"
      },
      {
        "duration": 55,
        "start_time": "2021-10-07T13:35:02.809Z"
      },
      {
        "duration": 17,
        "start_time": "2021-10-07T13:35:02.866Z"
      },
      {
        "duration": 36,
        "start_time": "2021-10-07T13:35:02.885Z"
      },
      {
        "duration": 26,
        "start_time": "2021-10-07T13:35:02.922Z"
      },
      {
        "duration": 487,
        "start_time": "2021-10-07T13:35:02.950Z"
      },
      {
        "duration": 473,
        "start_time": "2021-10-07T13:35:03.444Z"
      },
      {
        "duration": 4,
        "start_time": "2021-10-07T13:35:03.919Z"
      },
      {
        "duration": 645,
        "start_time": "2021-10-07T13:35:03.925Z"
      },
      {
        "duration": 4,
        "start_time": "2021-10-07T13:35:04.572Z"
      },
      {
        "duration": 49,
        "start_time": "2021-10-07T13:35:04.578Z"
      },
      {
        "duration": 3,
        "start_time": "2021-10-07T13:35:04.629Z"
      },
      {
        "duration": 30,
        "start_time": "2021-10-07T13:35:04.633Z"
      },
      {
        "duration": 101,
        "start_time": "2021-10-07T13:35:04.748Z"
      },
      {
        "duration": 195,
        "start_time": "2021-10-07T13:35:04.852Z"
      },
      {
        "duration": 97,
        "start_time": "2021-10-07T13:35:05.049Z"
      },
      {
        "duration": 7,
        "start_time": "2021-10-07T13:35:05.147Z"
      },
      {
        "duration": 12,
        "start_time": "2021-10-07T13:35:05.156Z"
      },
      {
        "duration": 8,
        "start_time": "2021-10-07T13:35:05.169Z"
      },
      {
        "duration": 6,
        "start_time": "2021-10-07T13:35:05.179Z"
      },
      {
        "duration": 7,
        "start_time": "2021-10-07T13:35:05.186Z"
      },
      {
        "duration": 3085,
        "start_time": "2021-10-07T13:35:05.194Z"
      },
      {
        "duration": 3257,
        "start_time": "2021-10-07T13:35:08.281Z"
      },
      {
        "duration": 3049,
        "start_time": "2021-10-07T13:35:11.539Z"
      }
    ],
    "kernelspec": {
      "display_name": "Python 3",
      "language": "python",
      "name": "python3"
    },
    "language_info": {
      "codemirror_mode": {
        "name": "ipython",
        "version": 3
      },
      "file_extension": ".py",
      "mimetype": "text/x-python",
      "name": "python",
      "nbconvert_exporter": "python",
      "pygments_lexer": "ipython3",
      "version": "3.7.8"
    },
    "toc": {
      "base_numbering": 1,
      "nav_menu": {},
      "number_sections": true,
      "sideBar": true,
      "skip_h1_title": true,
      "title_cell": "Table of Contents",
      "title_sidebar": "Contents",
      "toc_cell": false,
      "toc_position": {},
      "toc_section_display": true,
      "toc_window_display": false
    },
    "colab": {
      "name": "Выбор локации для скважин.ipynb",
      "provenance": [],
      "collapsed_sections": []
    }
  },
  "cells": [
    {
      "cell_type": "markdown",
      "metadata": {
        "id": "fYuEWVcR8kc8"
      },
      "source": [
        "# Выбор локации для скважины"
      ]
    },
    {
      "cell_type": "markdown",
      "metadata": {
        "id": "5a-CfXTL8kc9"
      },
      "source": [
        "Допустим, вы работаете в добывающей компании «ГлавРосГосНефть». Нужно решить, где бурить новую скважину.\n",
        "\n",
        "Вам предоставлены пробы нефти в трёх регионах: в каждом 10 000 месторождений, где измерили качество нефти и объём её запасов. Постройте модель машинного обучения, которая поможет определить регион, где добыча принесёт наибольшую прибыль. Проанализируйте возможную прибыль и риски техникой *Bootstrap.*\n",
        "\n",
        "Шаги для выбора локации:\n",
        "\n",
        "- В избранном регионе ищут месторождения, для каждого определяют значения признаков;\n",
        "- Строят модель и оценивают объём запасов;\n",
        "- Выбирают месторождения с самым высокими оценками значений. Количество месторождений зависит от бюджета компании и стоимости разработки одной скважины;\n",
        "- Прибыль равна суммарной прибыли отобранных месторождений."
      ]
    },
    {
      "cell_type": "markdown",
      "metadata": {
        "id": "9geUpqDl8kc-"
      },
      "source": [
        "## Загрузка и подготовка данных"
      ]
    },
    {
      "cell_type": "code",
      "metadata": {
        "id": "W00DTNs48kc-"
      },
      "source": [
        "import pandas as pd\n",
        "import numpy as np\n",
        "import matplotlib.pyplot as plt\n",
        "from scipy import stats\n",
        "from sklearn.model_selection import train_test_split\n",
        "from sklearn.linear_model import LinearRegression\n",
        "from sklearn.metrics import mean_squared_error\n",
        "import warnings\n",
        "warnings.filterwarnings('ignore')"
      ],
      "execution_count": null,
      "outputs": []
    },
    {
      "cell_type": "code",
      "metadata": {
        "id": "yd9PJkbI8kc_"
      },
      "source": [
        "data0 = pd.read_csv('/datasets/geo_data_0.csv')\n",
        "data1 = pd.read_csv('/datasets/geo_data_1.csv')\n",
        "data2 = pd.read_csv('/datasets/geo_data_2.csv')"
      ],
      "execution_count": null,
      "outputs": []
    },
    {
      "cell_type": "code",
      "metadata": {
        "scrolled": true,
        "id": "xZRVQEiB8kdA",
        "outputId": "a81c1184-d289-446d-ee4f-1c934cae3bf2"
      },
      "source": [
        "data0.info()\n",
        "data0.head()"
      ],
      "execution_count": null,
      "outputs": [
        {
          "name": "stdout",
          "output_type": "stream",
          "text": [
            "<class 'pandas.core.frame.DataFrame'>\n",
            "RangeIndex: 100000 entries, 0 to 99999\n",
            "Data columns (total 5 columns):\n",
            "id         100000 non-null object\n",
            "f0         100000 non-null float64\n",
            "f1         100000 non-null float64\n",
            "f2         100000 non-null float64\n",
            "product    100000 non-null float64\n",
            "dtypes: float64(4), object(1)\n",
            "memory usage: 3.8+ MB\n"
          ]
        },
        {
          "data": {
            "text/html": [
              "<div>\n",
              "<style scoped>\n",
              "    .dataframe tbody tr th:only-of-type {\n",
              "        vertical-align: middle;\n",
              "    }\n",
              "\n",
              "    .dataframe tbody tr th {\n",
              "        vertical-align: top;\n",
              "    }\n",
              "\n",
              "    .dataframe thead th {\n",
              "        text-align: right;\n",
              "    }\n",
              "</style>\n",
              "<table border=\"1\" class=\"dataframe\">\n",
              "  <thead>\n",
              "    <tr style=\"text-align: right;\">\n",
              "      <th></th>\n",
              "      <th>id</th>\n",
              "      <th>f0</th>\n",
              "      <th>f1</th>\n",
              "      <th>f2</th>\n",
              "      <th>product</th>\n",
              "    </tr>\n",
              "  </thead>\n",
              "  <tbody>\n",
              "    <tr>\n",
              "      <td>0</td>\n",
              "      <td>txEyH</td>\n",
              "      <td>0.705745</td>\n",
              "      <td>-0.497823</td>\n",
              "      <td>1.221170</td>\n",
              "      <td>105.280062</td>\n",
              "    </tr>\n",
              "    <tr>\n",
              "      <td>1</td>\n",
              "      <td>2acmU</td>\n",
              "      <td>1.334711</td>\n",
              "      <td>-0.340164</td>\n",
              "      <td>4.365080</td>\n",
              "      <td>73.037750</td>\n",
              "    </tr>\n",
              "    <tr>\n",
              "      <td>2</td>\n",
              "      <td>409Wp</td>\n",
              "      <td>1.022732</td>\n",
              "      <td>0.151990</td>\n",
              "      <td>1.419926</td>\n",
              "      <td>85.265647</td>\n",
              "    </tr>\n",
              "    <tr>\n",
              "      <td>3</td>\n",
              "      <td>iJLyR</td>\n",
              "      <td>-0.032172</td>\n",
              "      <td>0.139033</td>\n",
              "      <td>2.978566</td>\n",
              "      <td>168.620776</td>\n",
              "    </tr>\n",
              "    <tr>\n",
              "      <td>4</td>\n",
              "      <td>Xdl7t</td>\n",
              "      <td>1.988431</td>\n",
              "      <td>0.155413</td>\n",
              "      <td>4.751769</td>\n",
              "      <td>154.036647</td>\n",
              "    </tr>\n",
              "  </tbody>\n",
              "</table>\n",
              "</div>"
            ],
            "text/plain": [
              "      id        f0        f1        f2     product\n",
              "0  txEyH  0.705745 -0.497823  1.221170  105.280062\n",
              "1  2acmU  1.334711 -0.340164  4.365080   73.037750\n",
              "2  409Wp  1.022732  0.151990  1.419926   85.265647\n",
              "3  iJLyR -0.032172  0.139033  2.978566  168.620776\n",
              "4  Xdl7t  1.988431  0.155413  4.751769  154.036647"
            ]
          },
          "execution_count": 3,
          "metadata": {},
          "output_type": "execute_result"
        }
      ]
    },
    {
      "cell_type": "code",
      "metadata": {
        "id": "Qyyma3Ww8kdB",
        "outputId": "5594e4e2-b044-4186-a184-fab945ded447"
      },
      "source": [
        "mean_0 = data0['product'].mean()\n",
        "mean_0"
      ],
      "execution_count": null,
      "outputs": [
        {
          "data": {
            "text/plain": [
              "92.50000000000001"
            ]
          },
          "execution_count": 4,
          "metadata": {},
          "output_type": "execute_result"
        }
      ]
    },
    {
      "cell_type": "code",
      "metadata": {
        "id": "hZSGL6eV8kdC",
        "outputId": "b2d7a29b-1c33-4f69-b44a-06f004d82a08"
      },
      "source": [
        "data0.duplicated().sum()"
      ],
      "execution_count": null,
      "outputs": [
        {
          "data": {
            "text/plain": [
              "0"
            ]
          },
          "execution_count": 5,
          "metadata": {},
          "output_type": "execute_result"
        }
      ]
    },
    {
      "cell_type": "code",
      "metadata": {
        "scrolled": false,
        "id": "_hbF11op8kdC",
        "outputId": "f7de11e5-bc8d-443b-d67f-a67166a3eb30"
      },
      "source": [
        "data1.info()\n",
        "data1.head()"
      ],
      "execution_count": null,
      "outputs": [
        {
          "name": "stdout",
          "output_type": "stream",
          "text": [
            "<class 'pandas.core.frame.DataFrame'>\n",
            "RangeIndex: 100000 entries, 0 to 99999\n",
            "Data columns (total 5 columns):\n",
            "id         100000 non-null object\n",
            "f0         100000 non-null float64\n",
            "f1         100000 non-null float64\n",
            "f2         100000 non-null float64\n",
            "product    100000 non-null float64\n",
            "dtypes: float64(4), object(1)\n",
            "memory usage: 3.8+ MB\n"
          ]
        },
        {
          "data": {
            "text/html": [
              "<div>\n",
              "<style scoped>\n",
              "    .dataframe tbody tr th:only-of-type {\n",
              "        vertical-align: middle;\n",
              "    }\n",
              "\n",
              "    .dataframe tbody tr th {\n",
              "        vertical-align: top;\n",
              "    }\n",
              "\n",
              "    .dataframe thead th {\n",
              "        text-align: right;\n",
              "    }\n",
              "</style>\n",
              "<table border=\"1\" class=\"dataframe\">\n",
              "  <thead>\n",
              "    <tr style=\"text-align: right;\">\n",
              "      <th></th>\n",
              "      <th>id</th>\n",
              "      <th>f0</th>\n",
              "      <th>f1</th>\n",
              "      <th>f2</th>\n",
              "      <th>product</th>\n",
              "    </tr>\n",
              "  </thead>\n",
              "  <tbody>\n",
              "    <tr>\n",
              "      <td>0</td>\n",
              "      <td>kBEdx</td>\n",
              "      <td>-15.001348</td>\n",
              "      <td>-8.276000</td>\n",
              "      <td>-0.005876</td>\n",
              "      <td>3.179103</td>\n",
              "    </tr>\n",
              "    <tr>\n",
              "      <td>1</td>\n",
              "      <td>62mP7</td>\n",
              "      <td>14.272088</td>\n",
              "      <td>-3.475083</td>\n",
              "      <td>0.999183</td>\n",
              "      <td>26.953261</td>\n",
              "    </tr>\n",
              "    <tr>\n",
              "      <td>2</td>\n",
              "      <td>vyE1P</td>\n",
              "      <td>6.263187</td>\n",
              "      <td>-5.948386</td>\n",
              "      <td>5.001160</td>\n",
              "      <td>134.766305</td>\n",
              "    </tr>\n",
              "    <tr>\n",
              "      <td>3</td>\n",
              "      <td>KcrkZ</td>\n",
              "      <td>-13.081196</td>\n",
              "      <td>-11.506057</td>\n",
              "      <td>4.999415</td>\n",
              "      <td>137.945408</td>\n",
              "    </tr>\n",
              "    <tr>\n",
              "      <td>4</td>\n",
              "      <td>AHL4O</td>\n",
              "      <td>12.702195</td>\n",
              "      <td>-8.147433</td>\n",
              "      <td>5.004363</td>\n",
              "      <td>134.766305</td>\n",
              "    </tr>\n",
              "  </tbody>\n",
              "</table>\n",
              "</div>"
            ],
            "text/plain": [
              "      id         f0         f1        f2     product\n",
              "0  kBEdx -15.001348  -8.276000 -0.005876    3.179103\n",
              "1  62mP7  14.272088  -3.475083  0.999183   26.953261\n",
              "2  vyE1P   6.263187  -5.948386  5.001160  134.766305\n",
              "3  KcrkZ -13.081196 -11.506057  4.999415  137.945408\n",
              "4  AHL4O  12.702195  -8.147433  5.004363  134.766305"
            ]
          },
          "execution_count": 6,
          "metadata": {},
          "output_type": "execute_result"
        }
      ]
    },
    {
      "cell_type": "code",
      "metadata": {
        "id": "z4okBqGx8kdC",
        "outputId": "dcd75c50-fec2-4b8f-a7c7-acf8189c193d"
      },
      "source": [
        "mean_1 = data1['product'].mean()\n",
        "mean_1"
      ],
      "execution_count": null,
      "outputs": [
        {
          "data": {
            "text/plain": [
              "68.82500000000002"
            ]
          },
          "execution_count": 7,
          "metadata": {},
          "output_type": "execute_result"
        }
      ]
    },
    {
      "cell_type": "code",
      "metadata": {
        "id": "GZhfP0tk8kdD",
        "outputId": "41941803-3b3f-45df-80bc-e4f68dcc0e7f"
      },
      "source": [
        "data1.duplicated().sum()"
      ],
      "execution_count": null,
      "outputs": [
        {
          "data": {
            "text/plain": [
              "0"
            ]
          },
          "execution_count": 8,
          "metadata": {},
          "output_type": "execute_result"
        }
      ]
    },
    {
      "cell_type": "code",
      "metadata": {
        "scrolled": true,
        "id": "bSPt-no78kdD",
        "outputId": "f5d02e9d-d11b-4d0c-e486-649028c81b22"
      },
      "source": [
        "data2.info()\n",
        "data2.head()"
      ],
      "execution_count": null,
      "outputs": [
        {
          "name": "stdout",
          "output_type": "stream",
          "text": [
            "<class 'pandas.core.frame.DataFrame'>\n",
            "RangeIndex: 100000 entries, 0 to 99999\n",
            "Data columns (total 5 columns):\n",
            "id         100000 non-null object\n",
            "f0         100000 non-null float64\n",
            "f1         100000 non-null float64\n",
            "f2         100000 non-null float64\n",
            "product    100000 non-null float64\n",
            "dtypes: float64(4), object(1)\n",
            "memory usage: 3.8+ MB\n"
          ]
        },
        {
          "data": {
            "text/html": [
              "<div>\n",
              "<style scoped>\n",
              "    .dataframe tbody tr th:only-of-type {\n",
              "        vertical-align: middle;\n",
              "    }\n",
              "\n",
              "    .dataframe tbody tr th {\n",
              "        vertical-align: top;\n",
              "    }\n",
              "\n",
              "    .dataframe thead th {\n",
              "        text-align: right;\n",
              "    }\n",
              "</style>\n",
              "<table border=\"1\" class=\"dataframe\">\n",
              "  <thead>\n",
              "    <tr style=\"text-align: right;\">\n",
              "      <th></th>\n",
              "      <th>id</th>\n",
              "      <th>f0</th>\n",
              "      <th>f1</th>\n",
              "      <th>f2</th>\n",
              "      <th>product</th>\n",
              "    </tr>\n",
              "  </thead>\n",
              "  <tbody>\n",
              "    <tr>\n",
              "      <td>0</td>\n",
              "      <td>fwXo0</td>\n",
              "      <td>-1.146987</td>\n",
              "      <td>0.963328</td>\n",
              "      <td>-0.828965</td>\n",
              "      <td>27.758673</td>\n",
              "    </tr>\n",
              "    <tr>\n",
              "      <td>1</td>\n",
              "      <td>WJtFt</td>\n",
              "      <td>0.262778</td>\n",
              "      <td>0.269839</td>\n",
              "      <td>-2.530187</td>\n",
              "      <td>56.069697</td>\n",
              "    </tr>\n",
              "    <tr>\n",
              "      <td>2</td>\n",
              "      <td>ovLUW</td>\n",
              "      <td>0.194587</td>\n",
              "      <td>0.289035</td>\n",
              "      <td>-5.586433</td>\n",
              "      <td>62.871910</td>\n",
              "    </tr>\n",
              "    <tr>\n",
              "      <td>3</td>\n",
              "      <td>q6cA6</td>\n",
              "      <td>2.236060</td>\n",
              "      <td>-0.553760</td>\n",
              "      <td>0.930038</td>\n",
              "      <td>114.572842</td>\n",
              "    </tr>\n",
              "    <tr>\n",
              "      <td>4</td>\n",
              "      <td>WPMUX</td>\n",
              "      <td>-0.515993</td>\n",
              "      <td>1.716266</td>\n",
              "      <td>5.899011</td>\n",
              "      <td>149.600746</td>\n",
              "    </tr>\n",
              "  </tbody>\n",
              "</table>\n",
              "</div>"
            ],
            "text/plain": [
              "      id        f0        f1        f2     product\n",
              "0  fwXo0 -1.146987  0.963328 -0.828965   27.758673\n",
              "1  WJtFt  0.262778  0.269839 -2.530187   56.069697\n",
              "2  ovLUW  0.194587  0.289035 -5.586433   62.871910\n",
              "3  q6cA6  2.236060 -0.553760  0.930038  114.572842\n",
              "4  WPMUX -0.515993  1.716266  5.899011  149.600746"
            ]
          },
          "execution_count": 9,
          "metadata": {},
          "output_type": "execute_result"
        }
      ]
    },
    {
      "cell_type": "code",
      "metadata": {
        "id": "Vy_FFq4z8kdE",
        "outputId": "26dda236-f8c6-4630-f8ce-c10a7b3d3fc3"
      },
      "source": [
        "mean_2 = data2['product'].mean()\n",
        "mean_2"
      ],
      "execution_count": null,
      "outputs": [
        {
          "data": {
            "text/plain": [
              "95.00000000000004"
            ]
          },
          "execution_count": 10,
          "metadata": {},
          "output_type": "execute_result"
        }
      ]
    },
    {
      "cell_type": "code",
      "metadata": {
        "id": "_V-bo6PY8kdE",
        "outputId": "921fb54b-efc9-4db4-a097-df20e9ccd782"
      },
      "source": [
        "data2.duplicated().sum()"
      ],
      "execution_count": null,
      "outputs": [
        {
          "data": {
            "text/plain": [
              "0"
            ]
          },
          "execution_count": 11,
          "metadata": {},
          "output_type": "execute_result"
        }
      ]
    },
    {
      "cell_type": "code",
      "metadata": {
        "id": "tkvvKBiB8kdF",
        "outputId": "73bbf9fc-a202-468d-ae33-5d3c57c80095"
      },
      "source": [
        "data0['id'].duplicated().sum()"
      ],
      "execution_count": null,
      "outputs": [
        {
          "data": {
            "text/plain": [
              "10"
            ]
          },
          "execution_count": 12,
          "metadata": {},
          "output_type": "execute_result"
        }
      ]
    },
    {
      "cell_type": "code",
      "metadata": {
        "scrolled": true,
        "id": "6F5gpYXH8kdF",
        "outputId": "73e0d0ca-82b9-459b-b6f6-894952890611"
      },
      "source": [
        "data1['id'].duplicated().sum()"
      ],
      "execution_count": null,
      "outputs": [
        {
          "data": {
            "text/plain": [
              "4"
            ]
          },
          "execution_count": 13,
          "metadata": {},
          "output_type": "execute_result"
        }
      ]
    },
    {
      "cell_type": "code",
      "metadata": {
        "id": "ERvajUk28kdG",
        "outputId": "d09600b0-31fb-43ca-f39b-d5fb746c7004"
      },
      "source": [
        "data2['id'].duplicated().sum()"
      ],
      "execution_count": null,
      "outputs": [
        {
          "data": {
            "text/plain": [
              "4"
            ]
          },
          "execution_count": 14,
          "metadata": {},
          "output_type": "execute_result"
        }
      ]
    },
    {
      "cell_type": "code",
      "metadata": {
        "id": "u3RxhuDq8kdG",
        "outputId": "0412c25d-6a2d-40a8-8516-9239887cc4a7"
      },
      "source": [
        "data0['product'].hist(range=(0,200), bins = 200)\n",
        "plt.xlabel(\"Объем запасов в скважине, тыс. барелей\")\n",
        "plt.ylabel(\"Частота\")\n",
        "\n",
        "plt.title(\"Гистограмма распределения по объему запасов\")\n",
        "plt.show()"
      ],
      "execution_count": null,
      "outputs": [
        {
          "data": {
            "image/png": "[encoded data removed]",
            "text/plain": [
              "<Figure size 432x288 with 1 Axes>"
            ]
          },
          "metadata": {
            "needs_background": "light"
          },
          "output_type": "display_data"
        }
      ]
    },
    {
      "cell_type": "code",
      "metadata": {
        "scrolled": true,
        "id": "UtFaSnRR8kdH",
        "outputId": "0739cab6-78e4-4d02-c226-114778ef5eaf"
      },
      "source": [
        "data1['product'].hist(range=(0,200), bins = 200)\n",
        "plt.xlabel(\"Объем запасов в скважине, тыс. барелей\")\n",
        "plt.ylabel(\"Частота\")\n",
        "\n",
        "plt.title(\"Гистограмма распределения по объему запасов\")\n",
        "plt.show()"
      ],
      "execution_count": null,
      "outputs": [
        {
          "data": {
            "image/png": "[encoded data removed]",
            "text/plain": [
              "<Figure size 432x288 with 1 Axes>"
            ]
          },
          "metadata": {
            "needs_background": "light"
          },
          "output_type": "display_data"
        }
      ]
    },
    {
      "cell_type": "code",
      "metadata": {
        "scrolled": true,
        "id": "8CLoHeWA8kdH",
        "outputId": "2bcec752-7141-495c-9ff5-d8448ebe3933"
      },
      "source": [
        "data1['product'].nunique()"
      ],
      "execution_count": null,
      "outputs": [
        {
          "data": {
            "text/plain": [
              "12"
            ]
          },
          "execution_count": 17,
          "metadata": {},
          "output_type": "execute_result"
        }
      ]
    },
    {
      "cell_type": "markdown",
      "metadata": {
        "id": "wz3CELZm8kdH"
      },
      "source": [
        "Видим, что в столбце product второго датасета всего 12 повторяющихся значений, что объясняет такое распределение на графике."
      ]
    },
    {
      "cell_type": "code",
      "metadata": {
        "id": "eL6hsP1q8kdI",
        "outputId": "f2494f2e-1921-4e42-a556-5c2c87ac89bf"
      },
      "source": [
        "data2['product'].hist(range=(0,200), bins = 200)\n",
        "plt.xlabel(\"Объем запасов в скважине, тыс. барелей\")\n",
        "plt.ylabel(\"Частота\")\n",
        "\n",
        "plt.title(\"Гистограмма распределения по объему запасов\")\n",
        "plt.show()"
      ],
      "execution_count": null,
      "outputs": [
        {
          "data": {
            "image/png": "[encoded data removed]",
            "text/plain": [
              "<Figure size 432x288 with 1 Axes>"
            ]
          },
          "metadata": {
            "needs_background": "light"
          },
          "output_type": "display_data"
        }
      ]
    },
    {
      "cell_type": "markdown",
      "metadata": {
        "id": "AViBI0Ih8kdI"
      },
      "source": [
        "Из полученных таблиц видим, что в каждом датасете имеется 5 столбцов, в каждом из которых 10000 строк (месторождений) без дубликатов и пропущенных значений. Также проверили дубликаты по столбцу id и нашли, что дубликаты имеются, значит, из некоторых скважин данные брались по несколько раз. \n",
        "\n",
        "id — уникальный идентификатор скважины.\n",
        "\n",
        "Признаки:\n",
        "*f0, f1, f2* — три признака точек (неважно, что они означают, но сами признаки значимы).\n",
        "\n",
        "Целевой признак:\n",
        "*product* — объём запасов в скважине (тыс. баррелей).\n",
        "\n",
        "Из гистограмм видно, что в первом и третьем регионе распределение близко к нормальному, в то время как во втором регионе некоторые данные отсутствуют, что в дальнейшем может повлиять на обучение модели.\n",
        "\n",
        "Также получили средний запас сырья в скважине в каждом регионе:\n",
        "- в первом: 92.5 тыс. баррелей;\n",
        "- во втором: 68.8 тыс. баррелей;\n",
        "- в третьем: 95 тыс. баррелей."
      ]
    },
    {
      "cell_type": "markdown",
      "metadata": {
        "id": "pS-NlrFl8kdJ"
      },
      "source": [
        "## Обучение и проверка модели"
      ]
    },
    {
      "cell_type": "code",
      "metadata": {
        "id": "FsrfAQxc8kdJ"
      },
      "source": [
        "def train_valid(data):\n",
        "    features = data.drop(['id', 'product'], axis=1)\n",
        "    target = data['product']\n",
        "    features_train, features_valid, target_train, target_valid = train_test_split(\n",
        "        features, target, test_size=0.25, random_state=12345)\n",
        "    return features_train, features_valid, target_train, target_valid"
      ],
      "execution_count": null,
      "outputs": []
    },
    {
      "cell_type": "code",
      "metadata": {
        "id": "poG74oz78kdK"
      },
      "source": [
        "features_train0, features_valid0, target_train0, target_valid0 = train_valid(data0)\n",
        "features_train1, features_valid1, target_train1, target_valid1 = train_valid(data1)\n",
        "features_train2, features_valid2, target_train2, target_valid2 = train_valid(data2)"
      ],
      "execution_count": null,
      "outputs": []
    },
    {
      "cell_type": "code",
      "metadata": {
        "id": "gK17G8J78kdK"
      },
      "source": [
        "def lr_model(features_train, target_train, features_valid, target_valid):\n",
        "    model = LinearRegression()\n",
        "    model.fit(features_train, target_train)\n",
        "    predictions_valid = model.predict(features_valid)\n",
        "\n",
        "    mean = predictions_valid.mean()\n",
        "    rmse = mean_squared_error(target_valid, predictions_valid)**0.5 \n",
        "    return mean, rmse, predictions_valid"
      ],
      "execution_count": null,
      "outputs": []
    },
    {
      "cell_type": "code",
      "metadata": {
        "id": "GdIaTj4R8kdM",
        "outputId": "ae66bf24-4d99-4c6e-850e-d5eae1eca7a5"
      },
      "source": [
        "mean0, rmse0, predictions_valid0 = lr_model(features_train0, target_train0, features_valid0, target_valid0)\n",
        "print(\"Результаты в первом регионе\")\n",
        "print(\"Средний запас предсказанного сырья:\", mean0)\n",
        "print(\"RMSE модели линейной регрессии на валидационной выборке:\", rmse0)"
      ],
      "execution_count": null,
      "outputs": [
        {
          "name": "stdout",
          "output_type": "stream",
          "text": [
            "Результаты в первом регионе\n",
            "Средний запас предсказанного сырья: 92.59256778438038\n",
            "RMSE модели линейной регрессии на валидационной выборке: 37.5794217150813\n"
          ]
        }
      ]
    },
    {
      "cell_type": "code",
      "metadata": {
        "id": "ppzcXo9x8kdN",
        "outputId": "fbc716b2-f8e4-4318-e5ad-48095accf98c"
      },
      "source": [
        "mean1, rmse1, predictions_valid1 = lr_model(features_train1, target_train1, features_valid1, target_valid1)\n",
        "print(\"Результаты во втором регионе\")\n",
        "print(\"Средний запас предсказанного сырья:\", mean1)\n",
        "print(\"RMSE модели линейной регрессии на валидационной выборке:\", rmse1)"
      ],
      "execution_count": null,
      "outputs": [
        {
          "name": "stdout",
          "output_type": "stream",
          "text": [
            "Результаты во втором регионе\n",
            "Средний запас предсказанного сырья: 68.728546895446\n",
            "RMSE модели линейной регрессии на валидационной выборке: 0.893099286775616\n"
          ]
        }
      ]
    },
    {
      "cell_type": "code",
      "metadata": {
        "id": "XEKOLYaJ8kdP",
        "outputId": "f5b874ed-c186-4958-e14d-b659b1d71aa4"
      },
      "source": [
        "mean2, rmse2, predictions_valid2 = lr_model(features_train2, target_train2, features_valid2, target_valid2)\n",
        "print(\"Результаты в третьем регионе\")\n",
        "print(\"Средний запас предсказанного сырья:\", mean2)\n",
        "print(\"RMSE модели линейной регрессии на валидационной выборке:\", rmse2)"
      ],
      "execution_count": null,
      "outputs": [
        {
          "name": "stdout",
          "output_type": "stream",
          "text": [
            "Результаты в третьем регионе\n",
            "Средний запас предсказанного сырья: 94.96504596800489\n",
            "RMSE модели линейной регрессии на валидационной выборке: 40.02970873393434\n"
          ]
        }
      ]
    },
    {
      "cell_type": "markdown",
      "metadata": {
        "id": "a1182lDQ8kdP"
      },
      "source": [
        "При обучении и проверки модели для каждого региона наилучшие результаты среднего запаса сырья получены в третьем регионе - 94.97 тыс. баррелей, при этом корень из средней квадратичной ошибки самый высокий среди всех результатов - 40.03. Наименьшая ошибка в датасете второго региона - 0.89, при этом средний запас предсказанного сырья - наименьший, 68.73 тыс. баррелей."
      ]
    },
    {
      "cell_type": "markdown",
      "metadata": {
        "id": "U1XK4Akl8kdQ"
      },
      "source": [
        "## Подготовка к расчёту прибыли"
      ]
    },
    {
      "cell_type": "markdown",
      "metadata": {
        "id": "wZRx4BkH8kdQ"
      },
      "source": [
        "В данном шаге необходимо посчитать достаточный объём сырья для безубыточной разработки новой скважины, то есть среднее количество бареллей в скважине при условии, что бюджет на разработку скважин в регионе равен общему доходу с 200 точек."
      ]
    },
    {
      "cell_type": "code",
      "metadata": {
        "id": "lIxJc5R08kdR"
      },
      "source": [
        "BUDGET = 10_000_000_000\n",
        "INCOME_PER_UNIT = 450_000"
      ],
      "execution_count": null,
      "outputs": []
    },
    {
      "cell_type": "code",
      "metadata": {
        "id": "wYZQ7HjY8kdS",
        "outputId": "7271b6ef-b7db-4734-b4ad-39bc30ba1e4e"
      },
      "source": [
        "BREAKEVEN = BUDGET/INCOME_PER_UNIT\n",
        "print(\"Точка безубыточности (в тыс. бареллей):\", BREAKEVEN)"
      ],
      "execution_count": null,
      "outputs": [
        {
          "name": "stdout",
          "output_type": "stream",
          "text": [
            "Точка безубыточности (в тыс. бареллей): 22222.222222222223\n"
          ]
        }
      ]
    },
    {
      "cell_type": "code",
      "metadata": {
        "id": "PnVtLjNy8kdS",
        "outputId": "d1bfa51c-993c-4d1e-c4da-d301da06e0a5"
      },
      "source": [
        "BREAKEVEN_PER_UNIT = BREAKEVEN/200\n",
        "print(\"Достаточный объём сырья для безубыточной разработки новой скважины (в тыс. баррелей):\", BREAKEVEN_PER_UNIT)"
      ],
      "execution_count": null,
      "outputs": [
        {
          "name": "stdout",
          "output_type": "stream",
          "text": [
            "Достаточный объём сырья для безубыточной разработки новой скважины (в тыс. баррелей): 111.11111111111111\n"
          ]
        }
      ]
    },
    {
      "cell_type": "markdown",
      "metadata": {
        "id": "qkKcdp958kdT"
      },
      "source": [
        "Получили минимальное количество баррелей для безубыточной разработки - 111 тыс. баррелей. Сравнивая со средним запасом в каждом регионе, видим, что везде запас сырья ниже."
      ]
    },
    {
      "cell_type": "markdown",
      "metadata": {
        "id": "ty2xYJCK8kdT"
      },
      "source": [
        "## Расчёт прибыли и рисков "
      ]
    },
    {
      "cell_type": "markdown",
      "metadata": {
        "id": "86Qx6mvA8kdT"
      },
      "source": [
        "В данном шаге необходимо написать функцию для расчета прибыли от полученного объема сырья, выбрав при этом 200 лучших скважин в каждом регионе. Также посчитать риски."
      ]
    },
    {
      "cell_type": "code",
      "metadata": {
        "id": "jROWwfT-8kdU"
      },
      "source": [
        "target_valid0 = target_valid0.reset_index(drop=True)\n",
        "target_valid1 = target_valid1.reset_index(drop=True)\n",
        "target_valid2 = target_valid2.reset_index(drop=True)\n",
        "predictions_valid0 = pd.Series(predictions_valid0)\n",
        "predictions_valid1 = pd.Series(predictions_valid1)\n",
        "predictions_valid2 = pd.Series(predictions_valid2)"
      ],
      "execution_count": null,
      "outputs": []
    },
    {
      "cell_type": "code",
      "metadata": {
        "id": "lR29B5xp8kdU"
      },
      "source": [
        "def profit_fun(target, predictions):\n",
        "    predictions_sorted = predictions.sort_values(ascending=False)\n",
        "    selected_points = target[predictions_sorted.index][:200]\n",
        "    product = selected_points.sum()\n",
        "    revenue = product * INCOME_PER_UNIT\n",
        "    return revenue - BUDGET"
      ],
      "execution_count": null,
      "outputs": []
    },
    {
      "cell_type": "code",
      "metadata": {
        "id": "XSGHU6pJ8kdV"
      },
      "source": [
        "state = np.random.RandomState(1234)\n",
        "\n",
        "def profit_risk(target, predictions):\n",
        "    revenues = []\n",
        "    for i in range(1000):\n",
        "        target_sample = target.sample(n=500, replace = True, random_state = state)\n",
        "        predictions_sample = predictions[target_sample.index]\n",
        "        revenues.append(profit_fun(target_sample, predictions_sample))\n",
        "        \n",
        "    revenues = pd.Series(revenues)\n",
        "    \n",
        "    lower = revenues.quantile(0.025)\n",
        "    upper = revenues.quantile(0.975)\n",
        "    profit = revenues.mean()\n",
        "    risk = stats.percentileofscore(revenues, 0)\n",
        "    return (lower, upper, profit, risk)"
      ],
      "execution_count": null,
      "outputs": []
    },
    {
      "cell_type": "code",
      "metadata": {
        "id": "ySgCpSTn8kdV",
        "outputId": "ce5d0cfd-02ec-4cc1-a10b-1b50d4061c9f"
      },
      "source": [
        "lower0, upper0, profit0, risk0 = profit_risk(target_valid0,predictions_valid0)\n",
        "print(\"Средняя прибыль:\", profit0)\n",
        "print(\"95%-й доверительный интервал:\", (lower0, upper0))\n",
        "print(\"Риск:\", risk0)"
      ],
      "execution_count": null,
      "outputs": [
        {
          "name": "stdout",
          "output_type": "stream",
          "text": [
            "Средняя прибыль: 417818853.4774105\n",
            "95%-й доверительный интервал: (-112839919.44204798, 964934886.248598)\n",
            "Риск: 6.0\n"
          ]
        }
      ]
    },
    {
      "cell_type": "code",
      "metadata": {
        "id": "rCZFZGeD8kdV",
        "outputId": "e757f4a0-d136-4262-ff8b-623f4fba6c4c"
      },
      "source": [
        "lower1, upper1, profit1, risk1 = profit_risk(target_valid1,predictions_valid1)\n",
        "print(\"Средняя прибыль:\", profit1)\n",
        "print(\"95%-й доверительный интервал:\", (lower1, upper1))\n",
        "print(\"Риск:\", risk1)"
      ],
      "execution_count": null,
      "outputs": [
        {
          "name": "stdout",
          "output_type": "stream",
          "text": [
            "Средняя прибыль: 528866555.6440107\n",
            "95%-й доверительный интервал: (118020423.53374399, 920140141.8573939)\n",
            "Риск: 0.3\n"
          ]
        }
      ]
    },
    {
      "cell_type": "code",
      "metadata": {
        "id": "fBu9KPxw8kdW",
        "outputId": "bf9bc553-712d-4502-a807-10f81ee8774e"
      },
      "source": [
        "lower2, upper2, profit2, risk2 = profit_risk(target_valid2,predictions_valid2)\n",
        "print(\"Средняя прибыль:\", profit2)\n",
        "print(\"95%-й доверительный интервал:\", (lower2, upper2))\n",
        "print(\"Риск:\", risk2)"
      ],
      "execution_count": null,
      "outputs": [
        {
          "name": "stdout",
          "output_type": "stream",
          "text": [
            "Средняя прибыль: 410033672.5764216\n",
            "95%-й доверительный интервал: (-97657713.7079339, 952816919.5140897)\n",
            "Риск: 6.8\n"
          ]
        }
      ]
    },
    {
      "cell_type": "markdown",
      "metadata": {
        "id": "uvmNsSVd8kdW"
      },
      "source": [
        "Из полученных результатов видим, что наибольшую прибыль и минимальный риск показал второй регион, но так как данные второго региона неполные, предлагать его для разработки в данном случае неприемлемо. Из двух других регионов большую прибыль и наименьший риск имеет первый регион с результатами: \n",
        "- Средняя прибыль: 417818853.4774105\n",
        "- 95%-й доверительный интервал: (-112839919.44204798, 964934886.248598)\n",
        "- Риск: 6.0"
      ]
    },
    {
      "cell_type": "markdown",
      "metadata": {
        "id": "4EY-GJsw8kdW"
      },
      "source": [
        "## Вывод"
      ]
    },
    {
      "cell_type": "markdown",
      "metadata": {
        "id": "6L7c3qIV8kdW"
      },
      "source": [
        "В данном проекте были проанализированы данные из трех регионов для определения бурения новой скважины. В отличие от других регионов во втором модель имела хорошие предсказания, что объясняется тем, что в данных было всего 12 уникальных значений запасов в скважине.\n",
        "\n",
        "Из двух других регионов наибольшая средняя прибыль у первого - 417.8 млн рублей, 95% доверительный интервал: (-112.8, 964.9) млн рублей, и наименьший риск - 6%. При этом минимальный запас сырья в скважине для безубыточной разработки должен быть равен - 111.11 тыс. баррелей.\n",
        "\n",
        "Исходя из результатов я бы рекомендовала первый регион для разработки скважин."
      ]
    }
  ]
}