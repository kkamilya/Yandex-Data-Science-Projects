{
  "nbformat": 4,
  "nbformat_minor": 0,
  "metadata": {
    "ExecuteTimeLog": [
      {
        "duration": 1459,
        "start_time": "2021-10-07T16:42:43.420Z"
      },
      {
        "duration": 874,
        "start_time": "2021-10-07T16:46:00.763Z"
      },
      {
        "duration": 54,
        "start_time": "2021-10-07T16:46:28.932Z"
      },
      {
        "duration": 43,
        "start_time": "2021-10-07T16:46:44.063Z"
      },
      {
        "duration": 58,
        "start_time": "2021-10-07T16:46:54.808Z"
      },
      {
        "duration": 371,
        "start_time": "2021-10-07T17:46:00.531Z"
      },
      {
        "duration": 174,
        "start_time": "2021-10-07T17:46:24.849Z"
      },
      {
        "duration": 37,
        "start_time": "2021-10-07T17:46:26.621Z"
      },
      {
        "duration": 158,
        "start_time": "2021-10-07T17:46:28.760Z"
      },
      {
        "duration": 4,
        "start_time": "2021-10-07T18:48:36.986Z"
      },
      {
        "duration": 4,
        "start_time": "2021-10-07T18:48:57.783Z"
      },
      {
        "duration": 11,
        "start_time": "2021-10-07T18:48:59.170Z"
      },
      {
        "duration": 3,
        "start_time": "2021-10-07T18:51:14.501Z"
      },
      {
        "duration": 5,
        "start_time": "2021-10-07T18:51:23.438Z"
      },
      {
        "duration": 6,
        "start_time": "2021-10-07T18:51:30.570Z"
      },
      {
        "duration": 6,
        "start_time": "2021-10-07T18:55:16.591Z"
      },
      {
        "duration": 4,
        "start_time": "2021-10-07T18:55:18.766Z"
      },
      {
        "duration": 7,
        "start_time": "2021-10-07T18:55:19.911Z"
      },
      {
        "duration": 6,
        "start_time": "2021-10-07T18:58:06.929Z"
      },
      {
        "duration": 11,
        "start_time": "2021-10-07T18:59:19.025Z"
      },
      {
        "duration": 360,
        "start_time": "2021-10-08T13:58:29.256Z"
      },
      {
        "duration": 1522,
        "start_time": "2021-10-08T13:59:28.670Z"
      },
      {
        "duration": 938,
        "start_time": "2021-10-08T13:59:30.195Z"
      },
      {
        "duration": 75,
        "start_time": "2021-10-08T13:59:31.136Z"
      },
      {
        "duration": 61,
        "start_time": "2021-10-08T13:59:31.213Z"
      },
      {
        "duration": 53,
        "start_time": "2021-10-08T13:59:31.276Z"
      },
      {
        "duration": 218,
        "start_time": "2021-10-08T13:59:31.331Z"
      },
      {
        "duration": 45,
        "start_time": "2021-10-08T13:59:31.551Z"
      },
      {
        "duration": 181,
        "start_time": "2021-10-08T13:59:31.599Z"
      },
      {
        "duration": 23,
        "start_time": "2021-10-08T13:59:31.783Z"
      },
      {
        "duration": 13,
        "start_time": "2021-10-08T13:59:31.809Z"
      },
      {
        "duration": 4,
        "start_time": "2021-10-08T13:59:31.825Z"
      },
      {
        "duration": 41,
        "start_time": "2021-10-08T13:59:31.831Z"
      },
      {
        "duration": 5,
        "start_time": "2021-10-08T13:59:31.875Z"
      },
      {
        "duration": 8,
        "start_time": "2021-10-08T13:59:31.882Z"
      },
      {
        "duration": 13,
        "start_time": "2021-10-08T14:00:04.497Z"
      },
      {
        "duration": 11,
        "start_time": "2021-10-08T14:00:08.188Z"
      },
      {
        "duration": 15,
        "start_time": "2021-10-08T14:00:11.642Z"
      },
      {
        "duration": 1476,
        "start_time": "2021-10-08T15:22:19.648Z"
      },
      {
        "duration": 944,
        "start_time": "2021-10-08T15:22:21.127Z"
      },
      {
        "duration": 56,
        "start_time": "2021-10-08T15:22:22.075Z"
      },
      {
        "duration": 69,
        "start_time": "2021-10-08T15:22:22.134Z"
      },
      {
        "duration": 62,
        "start_time": "2021-10-08T15:22:22.206Z"
      },
      {
        "duration": 197,
        "start_time": "2021-10-08T15:22:22.271Z"
      },
      {
        "duration": 38,
        "start_time": "2021-10-08T15:22:22.471Z"
      },
      {
        "duration": 178,
        "start_time": "2021-10-08T15:22:22.511Z"
      },
      {
        "duration": 11,
        "start_time": "2021-10-08T15:22:22.693Z"
      },
      {
        "duration": 9,
        "start_time": "2021-10-08T15:22:22.706Z"
      },
      {
        "duration": 13,
        "start_time": "2021-10-08T15:22:22.717Z"
      },
      {
        "duration": 98,
        "start_time": "2021-10-08T15:22:22.732Z"
      },
      {
        "duration": 4,
        "start_time": "2021-10-08T15:22:22.832Z"
      },
      {
        "duration": 31,
        "start_time": "2021-10-08T15:22:22.838Z"
      },
      {
        "duration": 3,
        "start_time": "2021-10-08T15:22:22.872Z"
      },
      {
        "duration": 7,
        "start_time": "2021-10-08T15:22:22.878Z"
      },
      {
        "duration": 1436,
        "start_time": "2021-10-08T15:54:42.500Z"
      },
      {
        "duration": 890,
        "start_time": "2021-10-08T15:54:43.939Z"
      },
      {
        "duration": 65,
        "start_time": "2021-10-08T15:54:44.832Z"
      },
      {
        "duration": 45,
        "start_time": "2021-10-08T15:54:44.900Z"
      },
      {
        "duration": 62,
        "start_time": "2021-10-08T15:54:44.968Z"
      },
      {
        "duration": 205,
        "start_time": "2021-10-08T15:54:45.033Z"
      },
      {
        "duration": 48,
        "start_time": "2021-10-08T15:54:45.240Z"
      },
      {
        "duration": 177,
        "start_time": "2021-10-08T15:54:45.292Z"
      },
      {
        "duration": 13,
        "start_time": "2021-10-08T15:54:45.471Z"
      },
      {
        "duration": 9,
        "start_time": "2021-10-08T15:54:45.486Z"
      },
      {
        "duration": 16,
        "start_time": "2021-10-08T15:54:45.497Z"
      },
      {
        "duration": 69,
        "start_time": "2021-10-08T15:54:45.515Z"
      },
      {
        "duration": 4,
        "start_time": "2021-10-08T15:54:45.587Z"
      },
      {
        "duration": 12,
        "start_time": "2021-10-08T15:54:45.594Z"
      },
      {
        "duration": 5,
        "start_time": "2021-10-08T15:54:45.608Z"
      },
      {
        "duration": 10,
        "start_time": "2021-10-08T15:54:45.615Z"
      },
      {
        "duration": 1445,
        "start_time": "2021-10-08T16:32:33.219Z"
      },
      {
        "duration": 916,
        "start_time": "2021-10-08T16:32:34.668Z"
      },
      {
        "duration": 54,
        "start_time": "2021-10-08T16:32:35.587Z"
      },
      {
        "duration": 64,
        "start_time": "2021-10-08T16:32:35.644Z"
      },
      {
        "duration": 70,
        "start_time": "2021-10-08T16:32:35.710Z"
      },
      {
        "duration": 198,
        "start_time": "2021-10-08T16:32:35.782Z"
      },
      {
        "duration": 36,
        "start_time": "2021-10-08T16:32:35.983Z"
      },
      {
        "duration": 186,
        "start_time": "2021-10-08T16:32:36.022Z"
      },
      {
        "duration": 12,
        "start_time": "2021-10-08T16:32:36.210Z"
      },
      {
        "duration": 9,
        "start_time": "2021-10-08T16:32:36.224Z"
      },
      {
        "duration": 44,
        "start_time": "2021-10-08T16:32:36.235Z"
      },
      {
        "duration": 26,
        "start_time": "2021-10-08T16:32:36.281Z"
      },
      {
        "duration": 4,
        "start_time": "2021-10-08T16:32:36.310Z"
      },
      {
        "duration": 13,
        "start_time": "2021-10-08T16:32:36.317Z"
      },
      {
        "duration": 34,
        "start_time": "2021-10-08T16:32:36.334Z"
      },
      {
        "duration": 9,
        "start_time": "2021-10-08T16:32:36.370Z"
      },
      {
        "duration": 1118,
        "start_time": "2021-10-09T07:22:27.291Z"
      },
      {
        "duration": 700,
        "start_time": "2021-10-09T07:22:28.411Z"
      },
      {
        "duration": 44,
        "start_time": "2021-10-09T07:22:29.113Z"
      },
      {
        "duration": 26,
        "start_time": "2021-10-09T07:22:29.159Z"
      },
      {
        "duration": 31,
        "start_time": "2021-10-09T07:22:29.187Z"
      },
      {
        "duration": 134,
        "start_time": "2021-10-09T07:22:29.220Z"
      },
      {
        "duration": 20,
        "start_time": "2021-10-09T07:22:29.356Z"
      },
      {
        "duration": 99,
        "start_time": "2021-10-09T07:22:29.378Z"
      },
      {
        "duration": 11,
        "start_time": "2021-10-09T07:22:29.479Z"
      },
      {
        "duration": 7,
        "start_time": "2021-10-09T07:22:29.492Z"
      },
      {
        "duration": 12,
        "start_time": "2021-10-09T07:22:29.501Z"
      },
      {
        "duration": 53,
        "start_time": "2021-10-09T07:22:29.515Z"
      },
      {
        "duration": 3,
        "start_time": "2021-10-09T07:22:29.570Z"
      },
      {
        "duration": 10,
        "start_time": "2021-10-09T07:22:29.575Z"
      },
      {
        "duration": 3,
        "start_time": "2021-10-09T07:22:29.587Z"
      },
      {
        "duration": 6,
        "start_time": "2021-10-09T07:22:29.592Z"
      },
      {
        "duration": 117,
        "start_time": "2021-10-09T07:22:29.600Z"
      },
      {
        "duration": 79,
        "start_time": "2021-10-09T07:22:43.934Z"
      },
      {
        "duration": 360,
        "start_time": "2021-10-09T07:22:53.422Z"
      },
      {
        "duration": 81,
        "start_time": "2021-10-09T07:22:57.271Z"
      },
      {
        "duration": 285,
        "start_time": "2021-10-09T07:24:17.045Z"
      },
      {
        "duration": 675,
        "start_time": "2021-10-09T07:24:24.633Z"
      },
      {
        "duration": 269,
        "start_time": "2021-10-09T07:25:04.528Z"
      },
      {
        "duration": 280,
        "start_time": "2021-10-09T07:25:08.816Z"
      },
      {
        "duration": 291,
        "start_time": "2021-10-09T07:25:42.846Z"
      },
      {
        "duration": 272,
        "start_time": "2021-10-09T07:26:07.375Z"
      },
      {
        "duration": 266,
        "start_time": "2021-10-09T07:27:19.571Z"
      },
      {
        "duration": 84,
        "start_time": "2021-10-09T07:27:25.958Z"
      },
      {
        "duration": 306,
        "start_time": "2021-10-09T07:27:35.719Z"
      },
      {
        "duration": 89,
        "start_time": "2021-10-09T07:27:40.638Z"
      },
      {
        "duration": 292,
        "start_time": "2021-10-09T07:30:26.420Z"
      },
      {
        "duration": 82,
        "start_time": "2021-10-09T07:32:33.349Z"
      },
      {
        "duration": 281,
        "start_time": "2021-10-09T07:32:38.817Z"
      },
      {
        "duration": 81,
        "start_time": "2021-10-09T07:32:42.835Z"
      },
      {
        "duration": 438,
        "start_time": "2021-10-09T07:33:35.028Z"
      },
      {
        "duration": 83,
        "start_time": "2021-10-09T07:34:13.176Z"
      },
      {
        "duration": 85,
        "start_time": "2021-10-09T07:34:21.528Z"
      },
      {
        "duration": 5,
        "start_time": "2021-10-09T07:40:18.539Z"
      },
      {
        "duration": 4,
        "start_time": "2021-10-09T07:45:38.421Z"
      },
      {
        "duration": 5,
        "start_time": "2021-10-09T07:47:36.610Z"
      },
      {
        "duration": 6,
        "start_time": "2021-10-09T07:48:58.543Z"
      },
      {
        "duration": 6,
        "start_time": "2021-10-09T07:49:25.987Z"
      },
      {
        "duration": 89,
        "start_time": "2021-10-09T07:49:38.578Z"
      },
      {
        "duration": 6,
        "start_time": "2021-10-09T07:49:41.013Z"
      },
      {
        "duration": 6,
        "start_time": "2021-10-09T07:50:39.756Z"
      },
      {
        "duration": 7,
        "start_time": "2021-10-09T07:50:49.690Z"
      },
      {
        "duration": 8,
        "start_time": "2021-10-09T07:50:59.342Z"
      },
      {
        "duration": 1160,
        "start_time": "2021-10-09T08:27:11.252Z"
      },
      {
        "duration": 794,
        "start_time": "2021-10-09T08:27:12.414Z"
      },
      {
        "duration": 50,
        "start_time": "2021-10-09T08:27:13.210Z"
      },
      {
        "duration": 29,
        "start_time": "2021-10-09T08:27:13.263Z"
      },
      {
        "duration": 33,
        "start_time": "2021-10-09T08:27:13.294Z"
      },
      {
        "duration": 132,
        "start_time": "2021-10-09T08:27:13.357Z"
      },
      {
        "duration": 21,
        "start_time": "2021-10-09T08:27:13.490Z"
      },
      {
        "duration": 103,
        "start_time": "2021-10-09T08:27:13.513Z"
      },
      {
        "duration": 5,
        "start_time": "2021-10-09T08:27:13.618Z"
      },
      {
        "duration": 22,
        "start_time": "2021-10-09T08:27:13.625Z"
      },
      {
        "duration": 25,
        "start_time": "2021-10-09T08:27:13.649Z"
      },
      {
        "duration": 11,
        "start_time": "2021-10-09T08:27:13.676Z"
      },
      {
        "duration": 15,
        "start_time": "2021-10-09T08:27:13.689Z"
      },
      {
        "duration": 4986,
        "start_time": "2021-10-09T09:50:52.307Z"
      },
      {
        "duration": 298,
        "start_time": "2021-10-09T09:51:14.223Z"
      },
      {
        "duration": 221,
        "start_time": "2021-10-09T09:53:15.516Z"
      },
      {
        "duration": 1151,
        "start_time": "2021-10-09T09:53:41.059Z"
      },
      {
        "duration": 750,
        "start_time": "2021-10-09T09:53:42.212Z"
      },
      {
        "duration": 61,
        "start_time": "2021-10-09T09:53:42.964Z"
      },
      {
        "duration": 65,
        "start_time": "2021-10-09T09:53:43.028Z"
      },
      {
        "duration": 53,
        "start_time": "2021-10-09T09:53:43.101Z"
      },
      {
        "duration": 124,
        "start_time": "2021-10-09T09:53:43.157Z"
      },
      {
        "duration": 22,
        "start_time": "2021-10-09T09:53:43.283Z"
      },
      {
        "duration": 98,
        "start_time": "2021-10-09T09:53:43.309Z"
      },
      {
        "duration": 5,
        "start_time": "2021-10-09T09:53:43.409Z"
      },
      {
        "duration": 14,
        "start_time": "2021-10-09T09:53:43.416Z"
      },
      {
        "duration": 4,
        "start_time": "2021-10-09T09:53:43.432Z"
      },
      {
        "duration": 13,
        "start_time": "2021-10-09T09:53:43.437Z"
      },
      {
        "duration": 9,
        "start_time": "2021-10-09T09:53:43.452Z"
      },
      {
        "duration": 301,
        "start_time": "2021-10-09T09:53:43.462Z"
      },
      {
        "duration": 202,
        "start_time": "2021-10-09T09:53:57.989Z"
      },
      {
        "duration": 7,
        "start_time": "2021-10-09T09:59:58.588Z"
      },
      {
        "duration": 6,
        "start_time": "2021-10-09T10:00:05.033Z"
      },
      {
        "duration": 5904,
        "start_time": "2021-10-09T10:41:15.866Z"
      },
      {
        "duration": 4973,
        "start_time": "2021-10-09T10:41:27.206Z"
      },
      {
        "duration": 5536,
        "start_time": "2021-10-09T10:56:26.948Z"
      },
      {
        "duration": 5210,
        "start_time": "2021-10-09T11:00:41.663Z"
      },
      {
        "duration": 5579,
        "start_time": "2021-10-09T11:01:18.253Z"
      },
      {
        "duration": 209,
        "start_time": "2021-10-09T11:03:18.717Z"
      },
      {
        "duration": 210,
        "start_time": "2021-10-09T11:03:47.792Z"
      },
      {
        "duration": 206,
        "start_time": "2021-10-09T11:03:57.520Z"
      },
      {
        "duration": 203,
        "start_time": "2021-10-09T11:04:07.027Z"
      },
      {
        "duration": 9,
        "start_time": "2021-10-09T11:13:33.402Z"
      },
      {
        "duration": 5,
        "start_time": "2021-10-09T11:13:48.670Z"
      },
      {
        "duration": 210,
        "start_time": "2021-10-09T11:14:37.066Z"
      },
      {
        "duration": 215,
        "start_time": "2021-10-09T11:14:57.508Z"
      },
      {
        "duration": 218,
        "start_time": "2021-10-09T11:15:22.369Z"
      },
      {
        "duration": 219,
        "start_time": "2021-10-09T11:15:36.924Z"
      },
      {
        "duration": 9,
        "start_time": "2021-10-09T11:15:51.663Z"
      },
      {
        "duration": 211,
        "start_time": "2021-10-09T11:15:53.438Z"
      },
      {
        "duration": 5785,
        "start_time": "2021-10-09T11:18:33.589Z"
      },
      {
        "duration": 4904,
        "start_time": "2021-10-09T11:18:58.337Z"
      },
      {
        "duration": 12,
        "start_time": "2021-10-09T11:19:28.287Z"
      },
      {
        "duration": 12,
        "start_time": "2021-10-09T11:19:30.323Z"
      },
      {
        "duration": 34,
        "start_time": "2021-10-09T11:19:35.869Z"
      },
      {
        "duration": 14,
        "start_time": "2021-10-09T11:19:43.125Z"
      },
      {
        "duration": 5,
        "start_time": "2021-10-09T11:19:54.765Z"
      },
      {
        "duration": 5,
        "start_time": "2021-10-09T11:20:12.617Z"
      },
      {
        "duration": 1210,
        "start_time": "2021-10-09T11:20:32.921Z"
      },
      {
        "duration": 778,
        "start_time": "2021-10-09T11:20:34.133Z"
      },
      {
        "duration": 36,
        "start_time": "2021-10-09T11:20:34.914Z"
      },
      {
        "duration": 29,
        "start_time": "2021-10-09T11:20:34.952Z"
      },
      {
        "duration": 34,
        "start_time": "2021-10-09T11:20:34.983Z"
      },
      {
        "duration": 151,
        "start_time": "2021-10-09T11:20:35.019Z"
      },
      {
        "duration": 22,
        "start_time": "2021-10-09T11:20:35.172Z"
      },
      {
        "duration": 103,
        "start_time": "2021-10-09T11:20:35.196Z"
      },
      {
        "duration": 4,
        "start_time": "2021-10-09T11:20:35.302Z"
      },
      {
        "duration": 17,
        "start_time": "2021-10-09T11:20:35.308Z"
      },
      {
        "duration": 3,
        "start_time": "2021-10-09T11:20:35.327Z"
      },
      {
        "duration": 18,
        "start_time": "2021-10-09T11:20:35.332Z"
      },
      {
        "duration": 5,
        "start_time": "2021-10-09T11:20:35.352Z"
      },
      {
        "duration": 18,
        "start_time": "2021-10-09T11:20:35.358Z"
      },
      {
        "duration": 4,
        "start_time": "2021-10-09T11:20:35.378Z"
      },
      {
        "duration": 3,
        "start_time": "2021-10-09T11:28:43.093Z"
      },
      {
        "duration": 9,
        "start_time": "2021-10-09T11:28:47.497Z"
      },
      {
        "duration": 309,
        "start_time": "2021-10-09T11:29:22.321Z"
      },
      {
        "duration": 239,
        "start_time": "2021-10-09T11:29:44.042Z"
      },
      {
        "duration": 203,
        "start_time": "2021-10-09T11:30:20.880Z"
      },
      {
        "duration": 4,
        "start_time": "2021-10-09T11:33:33.410Z"
      },
      {
        "duration": 217,
        "start_time": "2021-10-09T11:33:43.763Z"
      },
      {
        "duration": 194,
        "start_time": "2021-10-09T11:34:50.676Z"
      },
      {
        "duration": 195,
        "start_time": "2021-10-09T11:34:53.944Z"
      },
      {
        "duration": 1141,
        "start_time": "2021-10-09T11:35:17.980Z"
      },
      {
        "duration": 769,
        "start_time": "2021-10-09T11:35:19.124Z"
      },
      {
        "duration": 36,
        "start_time": "2021-10-09T11:35:19.896Z"
      },
      {
        "duration": 43,
        "start_time": "2021-10-09T11:35:19.935Z"
      },
      {
        "duration": 34,
        "start_time": "2021-10-09T11:35:19.980Z"
      },
      {
        "duration": 151,
        "start_time": "2021-10-09T11:35:20.017Z"
      },
      {
        "duration": 23,
        "start_time": "2021-10-09T11:35:20.170Z"
      },
      {
        "duration": 104,
        "start_time": "2021-10-09T11:35:20.196Z"
      },
      {
        "duration": 5,
        "start_time": "2021-10-09T11:35:20.303Z"
      },
      {
        "duration": 12,
        "start_time": "2021-10-09T11:35:20.310Z"
      },
      {
        "duration": 5,
        "start_time": "2021-10-09T11:35:20.324Z"
      },
      {
        "duration": 22,
        "start_time": "2021-10-09T11:35:20.331Z"
      },
      {
        "duration": 9,
        "start_time": "2021-10-09T11:35:20.355Z"
      },
      {
        "duration": 20,
        "start_time": "2021-10-09T11:35:20.366Z"
      },
      {
        "duration": 3,
        "start_time": "2021-10-09T11:35:20.388Z"
      },
      {
        "duration": 9,
        "start_time": "2021-10-09T11:35:20.393Z"
      },
      {
        "duration": 8,
        "start_time": "2021-10-09T11:35:20.404Z"
      },
      {
        "duration": 292,
        "start_time": "2021-10-09T11:35:20.414Z"
      },
      {
        "duration": 202,
        "start_time": "2021-10-09T11:43:33.828Z"
      },
      {
        "duration": 1153,
        "start_time": "2021-10-09T11:43:44.671Z"
      },
      {
        "duration": 734,
        "start_time": "2021-10-09T11:43:45.826Z"
      },
      {
        "duration": 36,
        "start_time": "2021-10-09T11:43:46.562Z"
      },
      {
        "duration": 29,
        "start_time": "2021-10-09T11:43:46.600Z"
      },
      {
        "duration": 49,
        "start_time": "2021-10-09T11:43:46.630Z"
      },
      {
        "duration": 126,
        "start_time": "2021-10-09T11:43:46.680Z"
      },
      {
        "duration": 22,
        "start_time": "2021-10-09T11:43:46.809Z"
      },
      {
        "duration": 98,
        "start_time": "2021-10-09T11:43:46.833Z"
      },
      {
        "duration": 4,
        "start_time": "2021-10-09T11:43:46.934Z"
      },
      {
        "duration": 8,
        "start_time": "2021-10-09T11:43:46.950Z"
      },
      {
        "duration": 3,
        "start_time": "2021-10-09T11:43:46.961Z"
      },
      {
        "duration": 6,
        "start_time": "2021-10-09T11:43:46.966Z"
      },
      {
        "duration": 7,
        "start_time": "2021-10-09T11:43:46.974Z"
      },
      {
        "duration": 18,
        "start_time": "2021-10-09T11:43:46.982Z"
      },
      {
        "duration": 3,
        "start_time": "2021-10-09T11:43:47.002Z"
      },
      {
        "duration": 43,
        "start_time": "2021-10-09T11:43:47.007Z"
      },
      {
        "duration": 9,
        "start_time": "2021-10-09T11:43:47.052Z"
      },
      {
        "duration": 4,
        "start_time": "2021-10-09T11:43:57.713Z"
      },
      {
        "duration": 4,
        "start_time": "2021-10-09T11:44:22.395Z"
      },
      {
        "duration": 4,
        "start_time": "2021-10-09T11:44:27.625Z"
      },
      {
        "duration": 3,
        "start_time": "2021-10-09T11:44:48.942Z"
      },
      {
        "duration": 21,
        "start_time": "2021-10-09T11:45:30.545Z"
      },
      {
        "duration": 15,
        "start_time": "2021-10-09T11:45:54.514Z"
      },
      {
        "duration": 4,
        "start_time": "2021-10-09T11:45:56.087Z"
      },
      {
        "duration": 8,
        "start_time": "2021-10-09T11:45:57.846Z"
      },
      {
        "duration": 3,
        "start_time": "2021-10-09T11:46:00.472Z"
      },
      {
        "duration": 1225,
        "start_time": "2021-10-09T11:46:07.233Z"
      },
      {
        "duration": 748,
        "start_time": "2021-10-09T11:46:08.461Z"
      },
      {
        "duration": 52,
        "start_time": "2021-10-09T11:46:09.211Z"
      },
      {
        "duration": 28,
        "start_time": "2021-10-09T11:46:09.266Z"
      },
      {
        "duration": 60,
        "start_time": "2021-10-09T11:46:09.297Z"
      },
      {
        "duration": 120,
        "start_time": "2021-10-09T11:46:09.359Z"
      },
      {
        "duration": 22,
        "start_time": "2021-10-09T11:46:09.482Z"
      },
      {
        "duration": 105,
        "start_time": "2021-10-09T11:46:09.506Z"
      },
      {
        "duration": 5,
        "start_time": "2021-10-09T11:46:09.613Z"
      },
      {
        "duration": 14,
        "start_time": "2021-10-09T11:46:09.619Z"
      },
      {
        "duration": 15,
        "start_time": "2021-10-09T11:46:09.635Z"
      },
      {
        "duration": 9,
        "start_time": "2021-10-09T11:46:09.652Z"
      },
      {
        "duration": 4,
        "start_time": "2021-10-09T11:46:09.663Z"
      },
      {
        "duration": 16,
        "start_time": "2021-10-09T11:46:09.669Z"
      },
      {
        "duration": 3,
        "start_time": "2021-10-09T11:46:09.687Z"
      },
      {
        "duration": 13,
        "start_time": "2021-10-09T11:46:09.692Z"
      },
      {
        "duration": 9,
        "start_time": "2021-10-09T11:46:09.707Z"
      },
      {
        "duration": 1130,
        "start_time": "2021-10-09T11:46:28.789Z"
      },
      {
        "duration": 756,
        "start_time": "2021-10-09T11:46:29.922Z"
      },
      {
        "duration": 35,
        "start_time": "2021-10-09T11:46:30.681Z"
      },
      {
        "duration": 46,
        "start_time": "2021-10-09T11:46:30.718Z"
      },
      {
        "duration": 36,
        "start_time": "2021-10-09T11:46:30.766Z"
      },
      {
        "duration": 136,
        "start_time": "2021-10-09T11:46:30.803Z"
      },
      {
        "duration": 22,
        "start_time": "2021-10-09T11:46:30.941Z"
      },
      {
        "duration": 111,
        "start_time": "2021-10-09T11:46:30.965Z"
      },
      {
        "duration": 5,
        "start_time": "2021-10-09T11:46:31.079Z"
      },
      {
        "duration": 21,
        "start_time": "2021-10-09T11:46:31.086Z"
      },
      {
        "duration": 48,
        "start_time": "2021-10-09T11:46:31.109Z"
      },
      {
        "duration": 45,
        "start_time": "2021-10-09T11:46:31.159Z"
      },
      {
        "duration": 10,
        "start_time": "2021-10-09T11:46:31.206Z"
      },
      {
        "duration": 22,
        "start_time": "2021-10-09T11:46:31.217Z"
      },
      {
        "duration": 12,
        "start_time": "2021-10-09T11:46:31.241Z"
      },
      {
        "duration": 17,
        "start_time": "2021-10-09T11:46:31.255Z"
      },
      {
        "duration": 1145,
        "start_time": "2021-10-09T11:46:48.374Z"
      },
      {
        "duration": 739,
        "start_time": "2021-10-09T11:46:49.521Z"
      },
      {
        "duration": 39,
        "start_time": "2021-10-09T11:46:50.262Z"
      },
      {
        "duration": 46,
        "start_time": "2021-10-09T11:46:50.303Z"
      },
      {
        "duration": 34,
        "start_time": "2021-10-09T11:46:50.352Z"
      },
      {
        "duration": 139,
        "start_time": "2021-10-09T11:46:50.388Z"
      },
      {
        "duration": 30,
        "start_time": "2021-10-09T11:46:50.529Z"
      },
      {
        "duration": 95,
        "start_time": "2021-10-09T11:46:50.561Z"
      },
      {
        "duration": 5,
        "start_time": "2021-10-09T11:46:50.658Z"
      },
      {
        "duration": 14,
        "start_time": "2021-10-09T11:46:50.665Z"
      },
      {
        "duration": 3,
        "start_time": "2021-10-09T11:46:50.681Z"
      },
      {
        "duration": 8,
        "start_time": "2021-10-09T11:46:50.686Z"
      },
      {
        "duration": 5,
        "start_time": "2021-10-09T11:46:50.696Z"
      },
      {
        "duration": 16,
        "start_time": "2021-10-09T11:46:50.703Z"
      },
      {
        "duration": 36,
        "start_time": "2021-10-09T11:46:50.721Z"
      },
      {
        "duration": 15,
        "start_time": "2021-10-09T11:51:56.968Z"
      },
      {
        "duration": 276,
        "start_time": "2021-10-09T11:52:13.643Z"
      },
      {
        "duration": 279,
        "start_time": "2021-10-09T11:52:18.238Z"
      },
      {
        "duration": 196,
        "start_time": "2021-10-09T11:52:29.424Z"
      },
      {
        "duration": 1176,
        "start_time": "2021-10-09T11:52:52.242Z"
      },
      {
        "duration": 747,
        "start_time": "2021-10-09T11:52:53.420Z"
      },
      {
        "duration": 37,
        "start_time": "2021-10-09T11:52:54.169Z"
      },
      {
        "duration": 50,
        "start_time": "2021-10-09T11:52:54.208Z"
      },
      {
        "duration": 34,
        "start_time": "2021-10-09T11:52:54.260Z"
      },
      {
        "duration": 128,
        "start_time": "2021-10-09T11:52:54.296Z"
      },
      {
        "duration": 32,
        "start_time": "2021-10-09T11:52:54.426Z"
      },
      {
        "duration": 91,
        "start_time": "2021-10-09T11:52:54.460Z"
      },
      {
        "duration": 4,
        "start_time": "2021-10-09T11:52:54.553Z"
      },
      {
        "duration": 11,
        "start_time": "2021-10-09T11:52:54.558Z"
      },
      {
        "duration": 3,
        "start_time": "2021-10-09T11:52:54.570Z"
      },
      {
        "duration": 6,
        "start_time": "2021-10-09T11:52:54.575Z"
      },
      {
        "duration": 5,
        "start_time": "2021-10-09T11:52:54.583Z"
      },
      {
        "duration": 17,
        "start_time": "2021-10-09T11:52:54.590Z"
      },
      {
        "duration": 9,
        "start_time": "2021-10-09T11:52:54.609Z"
      },
      {
        "duration": 9,
        "start_time": "2021-10-09T11:52:54.650Z"
      },
      {
        "duration": 8,
        "start_time": "2021-10-09T11:52:54.661Z"
      },
      {
        "duration": 16,
        "start_time": "2021-10-09T11:52:54.670Z"
      },
      {
        "duration": 9,
        "start_time": "2021-10-09T11:55:39.581Z"
      },
      {
        "duration": 8,
        "start_time": "2021-10-09T11:55:44.310Z"
      },
      {
        "duration": 12,
        "start_time": "2021-10-09T11:56:57.551Z"
      },
      {
        "duration": 1205,
        "start_time": "2021-10-09T11:57:04.217Z"
      },
      {
        "duration": 772,
        "start_time": "2021-10-09T11:57:05.424Z"
      },
      {
        "duration": 36,
        "start_time": "2021-10-09T11:57:06.198Z"
      },
      {
        "duration": 39,
        "start_time": "2021-10-09T11:57:06.236Z"
      },
      {
        "duration": 37,
        "start_time": "2021-10-09T11:57:06.276Z"
      },
      {
        "duration": 148,
        "start_time": "2021-10-09T11:57:06.315Z"
      },
      {
        "duration": 23,
        "start_time": "2021-10-09T11:57:06.464Z"
      },
      {
        "duration": 111,
        "start_time": "2021-10-09T11:57:06.489Z"
      },
      {
        "duration": 4,
        "start_time": "2021-10-09T11:57:06.602Z"
      },
      {
        "duration": 12,
        "start_time": "2021-10-09T11:57:06.608Z"
      },
      {
        "duration": 4,
        "start_time": "2021-10-09T11:57:06.621Z"
      },
      {
        "duration": 7,
        "start_time": "2021-10-09T11:57:06.626Z"
      },
      {
        "duration": 18,
        "start_time": "2021-10-09T11:57:06.634Z"
      },
      {
        "duration": 16,
        "start_time": "2021-10-09T11:57:06.655Z"
      },
      {
        "duration": 10,
        "start_time": "2021-10-09T11:57:06.673Z"
      },
      {
        "duration": 16,
        "start_time": "2021-10-09T11:57:06.685Z"
      },
      {
        "duration": 24,
        "start_time": "2021-10-09T11:57:27.477Z"
      },
      {
        "duration": 8,
        "start_time": "2021-10-09T11:57:33.330Z"
      },
      {
        "duration": 9,
        "start_time": "2021-10-09T12:03:15.840Z"
      },
      {
        "duration": 8,
        "start_time": "2021-10-09T12:03:21.390Z"
      },
      {
        "duration": 63,
        "start_time": "2021-10-09T12:28:03.804Z"
      },
      {
        "duration": 5315,
        "start_time": "2021-10-09T12:36:51.163Z"
      },
      {
        "duration": 1169,
        "start_time": "2021-10-09T12:37:37.692Z"
      },
      {
        "duration": 754,
        "start_time": "2021-10-09T12:37:38.863Z"
      },
      {
        "duration": 45,
        "start_time": "2021-10-09T12:37:39.619Z"
      },
      {
        "duration": 28,
        "start_time": "2021-10-09T12:37:39.667Z"
      },
      {
        "duration": 135,
        "start_time": "2021-10-09T12:37:39.697Z"
      },
      {
        "duration": 28,
        "start_time": "2021-10-09T12:37:39.834Z"
      },
      {
        "duration": 111,
        "start_time": "2021-10-09T12:37:39.864Z"
      },
      {
        "duration": 5,
        "start_time": "2021-10-09T12:37:39.978Z"
      },
      {
        "duration": 13,
        "start_time": "2021-10-09T12:37:39.985Z"
      },
      {
        "duration": 5,
        "start_time": "2021-10-09T12:37:39.999Z"
      },
      {
        "duration": 6,
        "start_time": "2021-10-09T12:37:40.006Z"
      },
      {
        "duration": 8,
        "start_time": "2021-10-09T12:37:40.014Z"
      },
      {
        "duration": 16,
        "start_time": "2021-10-09T12:37:40.049Z"
      },
      {
        "duration": 3,
        "start_time": "2021-10-09T12:37:40.067Z"
      },
      {
        "duration": 25,
        "start_time": "2021-10-09T12:37:40.072Z"
      },
      {
        "duration": 4925,
        "start_time": "2021-10-09T12:37:40.099Z"
      },
      {
        "duration": 4913,
        "start_time": "2021-10-09T12:44:50.941Z"
      },
      {
        "duration": 29,
        "start_time": "2021-10-09T12:45:19.419Z"
      },
      {
        "duration": 18,
        "start_time": "2021-10-09T12:45:23.630Z"
      },
      {
        "duration": 87,
        "start_time": "2021-10-09T12:47:29.975Z"
      },
      {
        "duration": 63,
        "start_time": "2021-10-09T12:47:38.070Z"
      },
      {
        "duration": 121,
        "start_time": "2021-10-09T12:47:54.962Z"
      },
      {
        "duration": 127,
        "start_time": "2021-10-09T12:48:56.627Z"
      },
      {
        "duration": 213,
        "start_time": "2021-10-09T12:52:30.138Z"
      },
      {
        "duration": 210,
        "start_time": "2021-10-09T12:52:41.837Z"
      },
      {
        "duration": 213,
        "start_time": "2021-10-09T12:52:48.978Z"
      },
      {
        "duration": 120,
        "start_time": "2021-10-09T12:52:59.741Z"
      },
      {
        "duration": 284,
        "start_time": "2021-10-09T12:53:03.181Z"
      },
      {
        "duration": 205,
        "start_time": "2021-10-09T12:53:30.790Z"
      },
      {
        "duration": 213,
        "start_time": "2021-10-09T12:53:39.319Z"
      },
      {
        "duration": 346,
        "start_time": "2021-10-09T12:56:30.857Z"
      },
      {
        "duration": 207,
        "start_time": "2021-10-09T12:56:38.465Z"
      },
      {
        "duration": 68,
        "start_time": "2021-10-09T12:57:34.018Z"
      },
      {
        "duration": 351,
        "start_time": "2021-10-09T12:57:37.395Z"
      },
      {
        "duration": 209,
        "start_time": "2021-10-09T12:58:24.897Z"
      },
      {
        "duration": 239,
        "start_time": "2021-10-09T12:58:32.239Z"
      },
      {
        "duration": 441,
        "start_time": "2021-10-09T13:01:12.567Z"
      },
      {
        "duration": 300,
        "start_time": "2021-10-09T13:01:20.056Z"
      },
      {
        "duration": 361,
        "start_time": "2021-10-09T13:01:25.135Z"
      },
      {
        "duration": 339,
        "start_time": "2021-10-09T13:01:31.453Z"
      },
      {
        "duration": 324,
        "start_time": "2021-10-09T13:02:09.788Z"
      },
      {
        "duration": 358,
        "start_time": "2021-10-09T13:02:20.267Z"
      },
      {
        "duration": 301,
        "start_time": "2021-10-09T13:02:24.159Z"
      },
      {
        "duration": 268,
        "start_time": "2021-10-09T13:02:27.696Z"
      },
      {
        "duration": 280,
        "start_time": "2021-10-09T13:02:30.313Z"
      },
      {
        "duration": 282,
        "start_time": "2021-10-09T13:02:33.767Z"
      },
      {
        "duration": 353,
        "start_time": "2021-10-09T13:02:36.496Z"
      },
      {
        "duration": 321,
        "start_time": "2021-10-09T13:02:49.955Z"
      },
      {
        "duration": 325,
        "start_time": "2021-10-09T13:04:27.417Z"
      },
      {
        "duration": 328,
        "start_time": "2021-10-09T13:04:55.091Z"
      },
      {
        "duration": 315,
        "start_time": "2021-10-09T13:05:35.974Z"
      },
      {
        "duration": 337,
        "start_time": "2021-10-09T13:06:55.984Z"
      },
      {
        "duration": 499,
        "start_time": "2021-10-09T13:31:34.877Z"
      },
      {
        "duration": 423,
        "start_time": "2021-10-09T13:31:39.850Z"
      },
      {
        "duration": 545,
        "start_time": "2021-10-09T13:31:43.490Z"
      },
      {
        "duration": 554,
        "start_time": "2021-10-09T13:31:45.419Z"
      },
      {
        "duration": 449,
        "start_time": "2021-10-09T13:31:47.281Z"
      },
      {
        "duration": 540,
        "start_time": "2021-10-09T13:31:53.336Z"
      },
      {
        "duration": 437,
        "start_time": "2021-10-09T13:31:58.084Z"
      },
      {
        "duration": 385,
        "start_time": "2021-10-09T13:32:05.723Z"
      },
      {
        "duration": 437,
        "start_time": "2021-10-09T13:32:13.575Z"
      },
      {
        "duration": 430,
        "start_time": "2021-10-09T13:32:17.749Z"
      },
      {
        "duration": 463,
        "start_time": "2021-10-09T13:32:27.577Z"
      },
      {
        "duration": 561,
        "start_time": "2021-10-09T13:32:36.257Z"
      },
      {
        "duration": 389,
        "start_time": "2021-10-09T13:32:45.493Z"
      },
      {
        "duration": 623,
        "start_time": "2021-10-09T13:36:00.530Z"
      },
      {
        "duration": 403,
        "start_time": "2021-10-09T13:36:12.030Z"
      },
      {
        "duration": 5,
        "start_time": "2021-10-09T13:37:53.567Z"
      },
      {
        "duration": 4,
        "start_time": "2021-10-09T13:38:01.431Z"
      },
      {
        "duration": 347,
        "start_time": "2021-10-09T13:53:59.959Z"
      },
      {
        "duration": 322,
        "start_time": "2021-10-09T13:54:07.934Z"
      },
      {
        "duration": 344,
        "start_time": "2021-10-09T13:54:13.350Z"
      },
      {
        "duration": 4,
        "start_time": "2021-10-09T13:55:01.028Z"
      },
      {
        "duration": 66,
        "start_time": "2021-10-09T13:57:53.164Z"
      },
      {
        "duration": 9,
        "start_time": "2021-10-09T13:58:05.662Z"
      },
      {
        "duration": 6,
        "start_time": "2021-10-09T13:58:18.568Z"
      },
      {
        "duration": 11,
        "start_time": "2021-10-09T14:03:53.587Z"
      },
      {
        "duration": 347,
        "start_time": "2021-10-09T14:06:58.516Z"
      },
      {
        "duration": 28,
        "start_time": "2021-10-09T14:07:31.707Z"
      },
      {
        "duration": 635,
        "start_time": "2021-10-09T14:07:38.542Z"
      },
      {
        "duration": 1073,
        "start_time": "2021-10-09T14:07:56.402Z"
      },
      {
        "duration": 751,
        "start_time": "2021-10-09T14:08:06.611Z"
      },
      {
        "duration": 711,
        "start_time": "2021-10-09T14:19:15.731Z"
      },
      {
        "duration": 700,
        "start_time": "2021-10-09T14:19:32.729Z"
      },
      {
        "duration": 1241,
        "start_time": "2021-10-09T14:19:41.435Z"
      },
      {
        "duration": 834,
        "start_time": "2021-10-09T14:19:42.679Z"
      },
      {
        "duration": 44,
        "start_time": "2021-10-09T14:19:43.515Z"
      },
      {
        "duration": 27,
        "start_time": "2021-10-09T14:19:43.561Z"
      },
      {
        "duration": 127,
        "start_time": "2021-10-09T14:19:43.590Z"
      },
      {
        "duration": 20,
        "start_time": "2021-10-09T14:19:43.719Z"
      },
      {
        "duration": 102,
        "start_time": "2021-10-09T14:19:43.750Z"
      },
      {
        "duration": 5,
        "start_time": "2021-10-09T14:19:43.854Z"
      },
      {
        "duration": 9,
        "start_time": "2021-10-09T14:19:43.861Z"
      },
      {
        "duration": 3,
        "start_time": "2021-10-09T14:19:43.872Z"
      },
      {
        "duration": 8,
        "start_time": "2021-10-09T14:19:43.877Z"
      },
      {
        "duration": 10,
        "start_time": "2021-10-09T14:19:43.886Z"
      },
      {
        "duration": 18,
        "start_time": "2021-10-09T14:19:43.898Z"
      },
      {
        "duration": 3,
        "start_time": "2021-10-09T14:19:43.918Z"
      },
      {
        "duration": 29,
        "start_time": "2021-10-09T14:19:43.950Z"
      },
      {
        "duration": 356,
        "start_time": "2021-10-09T14:19:43.982Z"
      },
      {
        "duration": 351,
        "start_time": "2021-10-09T14:19:44.340Z"
      },
      {
        "duration": 364,
        "start_time": "2021-10-09T14:19:44.693Z"
      },
      {
        "duration": 414,
        "start_time": "2021-10-09T14:19:45.059Z"
      },
      {
        "duration": 4,
        "start_time": "2021-10-09T14:19:45.475Z"
      },
      {
        "duration": 6,
        "start_time": "2021-10-09T14:19:45.481Z"
      },
      {
        "duration": 788,
        "start_time": "2021-10-09T14:19:45.488Z"
      },
      {
        "duration": 74,
        "start_time": "2021-10-09T15:09:08.589Z"
      },
      {
        "duration": 14,
        "start_time": "2021-10-09T15:09:13.271Z"
      },
      {
        "duration": 29,
        "start_time": "2021-10-09T15:11:23.131Z"
      },
      {
        "duration": 25,
        "start_time": "2021-10-09T15:11:25.641Z"
      },
      {
        "duration": 5269,
        "start_time": "2021-10-09T15:12:02.637Z"
      },
      {
        "duration": 4910,
        "start_time": "2021-10-09T15:12:13.620Z"
      },
      {
        "duration": 844,
        "start_time": "2021-10-09T15:15:36.698Z"
      },
      {
        "duration": 1183,
        "start_time": "2021-10-09T15:15:52.586Z"
      },
      {
        "duration": 754,
        "start_time": "2021-10-09T15:15:53.771Z"
      },
      {
        "duration": 41,
        "start_time": "2021-10-09T15:15:54.527Z"
      },
      {
        "duration": 28,
        "start_time": "2021-10-09T15:15:54.570Z"
      },
      {
        "duration": 137,
        "start_time": "2021-10-09T15:15:54.601Z"
      },
      {
        "duration": 28,
        "start_time": "2021-10-09T15:15:54.740Z"
      },
      {
        "duration": 108,
        "start_time": "2021-10-09T15:15:54.770Z"
      },
      {
        "duration": 5,
        "start_time": "2021-10-09T15:15:54.881Z"
      },
      {
        "duration": 15,
        "start_time": "2021-10-09T15:15:54.888Z"
      },
      {
        "duration": 3,
        "start_time": "2021-10-09T15:15:54.905Z"
      },
      {
        "duration": 7,
        "start_time": "2021-10-09T15:15:54.910Z"
      },
      {
        "duration": 8,
        "start_time": "2021-10-09T15:15:54.918Z"
      },
      {
        "duration": 31,
        "start_time": "2021-10-09T15:15:54.927Z"
      },
      {
        "duration": 2,
        "start_time": "2021-10-09T15:15:54.960Z"
      },
      {
        "duration": 35,
        "start_time": "2021-10-09T15:15:54.963Z"
      },
      {
        "duration": 359,
        "start_time": "2021-10-09T15:15:55.000Z"
      },
      {
        "duration": 340,
        "start_time": "2021-10-09T15:15:55.360Z"
      },
      {
        "duration": 355,
        "start_time": "2021-10-09T15:15:55.702Z"
      },
      {
        "duration": 461,
        "start_time": "2021-10-09T15:15:56.058Z"
      },
      {
        "duration": 5,
        "start_time": "2021-10-09T15:15:56.521Z"
      },
      {
        "duration": 7,
        "start_time": "2021-10-09T15:15:56.527Z"
      },
      {
        "duration": 911,
        "start_time": "2021-10-09T15:15:56.550Z"
      },
      {
        "duration": 42,
        "start_time": "2021-10-09T15:15:57.464Z"
      },
      {
        "duration": 744,
        "start_time": "2021-10-09T15:15:57.508Z"
      },
      {
        "duration": 1222,
        "start_time": "2021-10-09T15:16:51.443Z"
      },
      {
        "duration": 760,
        "start_time": "2021-10-09T15:16:52.667Z"
      },
      {
        "duration": 43,
        "start_time": "2021-10-09T15:16:53.430Z"
      },
      {
        "duration": 27,
        "start_time": "2021-10-09T15:16:53.475Z"
      },
      {
        "duration": 135,
        "start_time": "2021-10-09T15:16:53.503Z"
      },
      {
        "duration": 26,
        "start_time": "2021-10-09T15:16:53.639Z"
      },
      {
        "duration": 107,
        "start_time": "2021-10-09T15:16:53.666Z"
      },
      {
        "duration": 4,
        "start_time": "2021-10-09T15:16:53.774Z"
      },
      {
        "duration": 40,
        "start_time": "2021-10-09T15:16:53.781Z"
      },
      {
        "duration": 23,
        "start_time": "2021-10-09T15:16:53.823Z"
      },
      {
        "duration": 32,
        "start_time": "2021-10-09T15:16:53.848Z"
      },
      {
        "duration": 28,
        "start_time": "2021-10-09T15:16:53.881Z"
      },
      {
        "duration": 37,
        "start_time": "2021-10-09T15:16:53.911Z"
      },
      {
        "duration": 13,
        "start_time": "2021-10-09T15:16:53.950Z"
      },
      {
        "duration": 56,
        "start_time": "2021-10-09T15:16:53.965Z"
      },
      {
        "duration": 341,
        "start_time": "2021-10-09T15:16:54.024Z"
      },
      {
        "duration": 337,
        "start_time": "2021-10-09T15:16:54.366Z"
      },
      {
        "duration": 348,
        "start_time": "2021-10-09T15:16:54.705Z"
      },
      {
        "duration": 406,
        "start_time": "2021-10-09T15:16:55.055Z"
      },
      {
        "duration": 5,
        "start_time": "2021-10-09T15:16:55.463Z"
      },
      {
        "duration": 6,
        "start_time": "2021-10-09T15:16:55.470Z"
      },
      {
        "duration": 800,
        "start_time": "2021-10-09T15:16:55.478Z"
      },
      {
        "duration": 720,
        "start_time": "2021-10-09T15:16:56.280Z"
      },
      {
        "duration": 31,
        "start_time": "2021-10-09T15:16:57.001Z"
      },
      {
        "duration": 688,
        "start_time": "2021-10-09T15:16:57.034Z"
      },
      {
        "duration": 4,
        "start_time": "2021-10-09T15:47:57.629Z"
      },
      {
        "duration": 3,
        "start_time": "2021-10-09T15:52:01.315Z"
      },
      {
        "duration": 7,
        "start_time": "2021-10-09T15:55:58.775Z"
      },
      {
        "duration": 7,
        "start_time": "2021-10-09T16:11:24.319Z"
      },
      {
        "duration": 4,
        "start_time": "2021-10-09T16:11:31.794Z"
      },
      {
        "duration": 5,
        "start_time": "2021-10-09T16:11:42.212Z"
      },
      {
        "duration": 64,
        "start_time": "2021-10-09T16:19:24.860Z"
      },
      {
        "duration": 5090,
        "start_time": "2021-10-09T16:19:41.425Z"
      },
      {
        "duration": 8,
        "start_time": "2021-10-09T16:20:32.206Z"
      },
      {
        "duration": 10,
        "start_time": "2021-10-09T16:20:53.224Z"
      },
      {
        "duration": 4,
        "start_time": "2021-10-09T16:26:36.878Z"
      },
      {
        "duration": 202,
        "start_time": "2021-10-09T16:27:54.673Z"
      },
      {
        "duration": 24,
        "start_time": "2021-10-09T16:28:02.531Z"
      },
      {
        "duration": 16,
        "start_time": "2021-10-09T16:29:49.070Z"
      },
      {
        "duration": 10,
        "start_time": "2021-10-09T16:30:26.150Z"
      },
      {
        "duration": 1166,
        "start_time": "2021-10-09T16:30:35.302Z"
      },
      {
        "duration": 748,
        "start_time": "2021-10-09T16:30:36.471Z"
      },
      {
        "duration": 46,
        "start_time": "2021-10-09T16:30:37.222Z"
      },
      {
        "duration": 27,
        "start_time": "2021-10-09T16:30:37.270Z"
      },
      {
        "duration": 135,
        "start_time": "2021-10-09T16:30:37.299Z"
      },
      {
        "duration": 32,
        "start_time": "2021-10-09T16:30:37.436Z"
      },
      {
        "duration": 118,
        "start_time": "2021-10-09T16:30:37.471Z"
      },
      {
        "duration": 4,
        "start_time": "2021-10-09T16:30:37.591Z"
      },
      {
        "duration": 9,
        "start_time": "2021-10-09T16:30:37.598Z"
      },
      {
        "duration": 2,
        "start_time": "2021-10-09T16:30:37.610Z"
      },
      {
        "duration": 8,
        "start_time": "2021-10-09T16:30:37.614Z"
      },
      {
        "duration": 26,
        "start_time": "2021-10-09T16:30:37.624Z"
      },
      {
        "duration": 15,
        "start_time": "2021-10-09T16:30:37.652Z"
      },
      {
        "duration": 31,
        "start_time": "2021-10-09T16:30:37.669Z"
      },
      {
        "duration": 372,
        "start_time": "2021-10-09T16:30:37.702Z"
      },
      {
        "duration": 346,
        "start_time": "2021-10-09T16:30:38.075Z"
      },
      {
        "duration": 358,
        "start_time": "2021-10-09T16:30:38.423Z"
      },
      {
        "duration": 426,
        "start_time": "2021-10-09T16:30:38.783Z"
      },
      {
        "duration": 5,
        "start_time": "2021-10-09T16:30:39.210Z"
      },
      {
        "duration": 17,
        "start_time": "2021-10-09T16:30:39.217Z"
      },
      {
        "duration": 819,
        "start_time": "2021-10-09T16:30:39.236Z"
      },
      {
        "duration": 33,
        "start_time": "2021-10-09T16:30:40.057Z"
      },
      {
        "duration": 3,
        "start_time": "2021-10-09T16:30:40.093Z"
      },
      {
        "duration": 14,
        "start_time": "2021-10-09T16:30:40.098Z"
      },
      {
        "duration": 11,
        "start_time": "2021-10-09T16:30:40.115Z"
      },
      {
        "duration": 21,
        "start_time": "2021-10-09T16:30:40.128Z"
      },
      {
        "duration": 13,
        "start_time": "2021-10-09T16:30:40.153Z"
      },
      {
        "duration": 32,
        "start_time": "2021-10-09T16:30:40.168Z"
      },
      {
        "duration": 10,
        "start_time": "2021-10-09T16:30:40.202Z"
      },
      {
        "duration": 25,
        "start_time": "2021-10-09T16:39:00.528Z"
      },
      {
        "duration": 4,
        "start_time": "2021-10-09T16:39:39.974Z"
      },
      {
        "duration": 1191,
        "start_time": "2021-10-09T16:39:48.799Z"
      },
      {
        "duration": 763,
        "start_time": "2021-10-09T16:39:49.992Z"
      },
      {
        "duration": 34,
        "start_time": "2021-10-09T16:39:50.757Z"
      },
      {
        "duration": 26,
        "start_time": "2021-10-09T16:39:50.793Z"
      },
      {
        "duration": 132,
        "start_time": "2021-10-09T16:39:50.821Z"
      },
      {
        "duration": 22,
        "start_time": "2021-10-09T16:39:50.955Z"
      },
      {
        "duration": 111,
        "start_time": "2021-10-09T16:39:50.978Z"
      },
      {
        "duration": 4,
        "start_time": "2021-10-09T16:39:51.091Z"
      },
      {
        "duration": 12,
        "start_time": "2021-10-09T16:39:51.097Z"
      },
      {
        "duration": 4,
        "start_time": "2021-10-09T16:39:51.111Z"
      },
      {
        "duration": 9,
        "start_time": "2021-10-09T16:39:51.117Z"
      },
      {
        "duration": 9,
        "start_time": "2021-10-09T16:39:51.127Z"
      },
      {
        "duration": 15,
        "start_time": "2021-10-09T16:39:51.150Z"
      },
      {
        "duration": 33,
        "start_time": "2021-10-09T16:39:51.167Z"
      },
      {
        "duration": 356,
        "start_time": "2021-10-09T16:39:51.202Z"
      },
      {
        "duration": 339,
        "start_time": "2021-10-09T16:39:51.560Z"
      },
      {
        "duration": 350,
        "start_time": "2021-10-09T16:39:51.901Z"
      },
      {
        "duration": 484,
        "start_time": "2021-10-09T16:39:52.253Z"
      },
      {
        "duration": 4,
        "start_time": "2021-10-09T16:39:52.739Z"
      },
      {
        "duration": 11,
        "start_time": "2021-10-09T16:39:52.745Z"
      },
      {
        "duration": 683,
        "start_time": "2021-10-09T16:39:52.757Z"
      },
      {
        "duration": 33,
        "start_time": "2021-10-09T16:39:53.442Z"
      },
      {
        "duration": 4,
        "start_time": "2021-10-09T16:39:53.478Z"
      },
      {
        "duration": 11,
        "start_time": "2021-10-09T16:39:53.483Z"
      },
      {
        "duration": 10,
        "start_time": "2021-10-09T16:39:53.495Z"
      },
      {
        "duration": 7,
        "start_time": "2021-10-09T16:39:53.506Z"
      },
      {
        "duration": 15,
        "start_time": "2021-10-09T16:39:53.515Z"
      },
      {
        "duration": 35,
        "start_time": "2021-10-09T16:39:53.532Z"
      },
      {
        "duration": 8,
        "start_time": "2021-10-09T16:39:53.569Z"
      },
      {
        "duration": 4,
        "start_time": "2021-10-09T16:49:13.897Z"
      },
      {
        "duration": 293,
        "start_time": "2021-10-09T16:56:17.031Z"
      },
      {
        "duration": 5,
        "start_time": "2021-10-09T16:56:39.581Z"
      },
      {
        "duration": 2,
        "start_time": "2021-10-09T16:56:47.246Z"
      },
      {
        "duration": 9,
        "start_time": "2021-10-09T17:02:52.031Z"
      },
      {
        "duration": 8,
        "start_time": "2021-10-09T17:04:03.100Z"
      },
      {
        "duration": 11,
        "start_time": "2021-10-09T17:04:57.328Z"
      },
      {
        "duration": 12644,
        "start_time": "2021-10-09T17:07:07.031Z"
      },
      {
        "duration": 16446,
        "start_time": "2021-10-09T17:08:29.809Z"
      },
      {
        "duration": 25187,
        "start_time": "2021-10-09T17:09:43.692Z"
      },
      {
        "duration": 24645,
        "start_time": "2021-10-09T17:11:48.495Z"
      },
      {
        "duration": 24837,
        "start_time": "2021-10-09T17:16:52.786Z"
      },
      {
        "duration": 24821,
        "start_time": "2021-10-09T17:19:52.769Z"
      },
      {
        "duration": 1388,
        "start_time": "2021-10-09T17:31:29.710Z"
      },
      {
        "duration": 764,
        "start_time": "2021-10-09T17:31:31.100Z"
      },
      {
        "duration": 36,
        "start_time": "2021-10-09T17:31:31.866Z"
      },
      {
        "duration": 47,
        "start_time": "2021-10-09T17:31:31.904Z"
      },
      {
        "duration": 122,
        "start_time": "2021-10-09T17:31:31.952Z"
      },
      {
        "duration": 22,
        "start_time": "2021-10-09T17:31:32.076Z"
      },
      {
        "duration": 114,
        "start_time": "2021-10-09T17:31:32.099Z"
      },
      {
        "duration": 4,
        "start_time": "2021-10-09T17:31:32.215Z"
      },
      {
        "duration": 12,
        "start_time": "2021-10-09T17:31:32.221Z"
      },
      {
        "duration": 14,
        "start_time": "2021-10-09T17:31:32.235Z"
      },
      {
        "duration": 10,
        "start_time": "2021-10-09T17:31:32.251Z"
      },
      {
        "duration": 6,
        "start_time": "2021-10-09T17:31:32.263Z"
      },
      {
        "duration": 17,
        "start_time": "2021-10-09T17:31:32.270Z"
      },
      {
        "duration": 33,
        "start_time": "2021-10-09T17:31:32.289Z"
      },
      {
        "duration": 370,
        "start_time": "2021-10-09T17:31:32.324Z"
      },
      {
        "duration": 340,
        "start_time": "2021-10-09T17:31:32.695Z"
      },
      {
        "duration": 346,
        "start_time": "2021-10-09T17:31:33.037Z"
      },
      {
        "duration": 497,
        "start_time": "2021-10-09T17:31:33.384Z"
      },
      {
        "duration": 4,
        "start_time": "2021-10-09T17:31:33.883Z"
      },
      {
        "duration": 7,
        "start_time": "2021-10-09T17:31:33.888Z"
      },
      {
        "duration": 702,
        "start_time": "2021-10-09T17:31:33.897Z"
      },
      {
        "duration": 30,
        "start_time": "2021-10-09T17:31:34.601Z"
      },
      {
        "duration": 16,
        "start_time": "2021-10-09T17:31:34.634Z"
      },
      {
        "duration": 7,
        "start_time": "2021-10-09T17:31:34.652Z"
      },
      {
        "duration": 8,
        "start_time": "2021-10-09T17:31:34.661Z"
      },
      {
        "duration": 7,
        "start_time": "2021-10-09T17:31:34.671Z"
      },
      {
        "duration": 8,
        "start_time": "2021-10-09T17:31:34.680Z"
      },
      {
        "duration": 20,
        "start_time": "2021-10-09T17:31:34.690Z"
      },
      {
        "duration": 340,
        "start_time": "2021-10-09T17:31:34.712Z"
      },
      {
        "duration": -16,
        "start_time": "2021-10-09T17:31:35.070Z"
      },
      {
        "duration": -22,
        "start_time": "2021-10-09T17:31:35.077Z"
      },
      {
        "duration": -23,
        "start_time": "2021-10-09T17:31:35.080Z"
      },
      {
        "duration": -28,
        "start_time": "2021-10-09T17:31:35.086Z"
      },
      {
        "duration": -31,
        "start_time": "2021-10-09T17:31:35.089Z"
      },
      {
        "duration": 10,
        "start_time": "2021-10-09T17:32:20.228Z"
      },
      {
        "duration": 17,
        "start_time": "2021-10-09T17:32:22.578Z"
      },
      {
        "duration": 11,
        "start_time": "2021-10-09T17:32:23.977Z"
      },
      {
        "duration": 1179,
        "start_time": "2021-10-09T17:32:30.205Z"
      },
      {
        "duration": 750,
        "start_time": "2021-10-09T17:32:31.386Z"
      },
      {
        "duration": 40,
        "start_time": "2021-10-09T17:32:32.138Z"
      },
      {
        "duration": 26,
        "start_time": "2021-10-09T17:32:32.180Z"
      },
      {
        "duration": 137,
        "start_time": "2021-10-09T17:32:32.208Z"
      },
      {
        "duration": 22,
        "start_time": "2021-10-09T17:32:32.347Z"
      },
      {
        "duration": 109,
        "start_time": "2021-10-09T17:32:32.371Z"
      },
      {
        "duration": 4,
        "start_time": "2021-10-09T17:32:32.483Z"
      },
      {
        "duration": 10,
        "start_time": "2021-10-09T17:32:32.489Z"
      },
      {
        "duration": 3,
        "start_time": "2021-10-09T17:32:32.501Z"
      },
      {
        "duration": 7,
        "start_time": "2021-10-09T17:32:32.506Z"
      },
      {
        "duration": 5,
        "start_time": "2021-10-09T17:32:32.515Z"
      },
      {
        "duration": 38,
        "start_time": "2021-10-09T17:32:32.522Z"
      },
      {
        "duration": 32,
        "start_time": "2021-10-09T17:32:32.563Z"
      },
      {
        "duration": 369,
        "start_time": "2021-10-09T17:32:32.597Z"
      },
      {
        "duration": 344,
        "start_time": "2021-10-09T17:32:32.968Z"
      },
      {
        "duration": 355,
        "start_time": "2021-10-09T17:32:33.314Z"
      },
      {
        "duration": 506,
        "start_time": "2021-10-09T17:32:33.672Z"
      },
      {
        "duration": 6,
        "start_time": "2021-10-09T17:32:34.181Z"
      },
      {
        "duration": 6,
        "start_time": "2021-10-09T17:32:34.189Z"
      },
      {
        "duration": 719,
        "start_time": "2021-10-09T17:32:34.198Z"
      },
      {
        "duration": 54,
        "start_time": "2021-10-09T17:32:34.920Z"
      },
      {
        "duration": 4,
        "start_time": "2021-10-09T17:32:34.978Z"
      },
      {
        "duration": 15,
        "start_time": "2021-10-09T17:32:34.984Z"
      },
      {
        "duration": 12,
        "start_time": "2021-10-09T17:32:35.001Z"
      },
      {
        "duration": 15,
        "start_time": "2021-10-09T17:32:35.015Z"
      },
      {
        "duration": 11,
        "start_time": "2021-10-09T17:32:35.032Z"
      },
      {
        "duration": 22,
        "start_time": "2021-10-09T17:32:35.050Z"
      },
      {
        "duration": 10,
        "start_time": "2021-10-09T17:32:35.074Z"
      },
      {
        "duration": 2,
        "start_time": "2021-10-09T17:32:35.086Z"
      },
      {
        "duration": 25287,
        "start_time": "2021-10-09T17:32:35.090Z"
      },
      {
        "duration": 3,
        "start_time": "2021-10-09T17:33:00.379Z"
      },
      {
        "duration": 1189,
        "start_time": "2021-10-09T17:38:51.187Z"
      },
      {
        "duration": 751,
        "start_time": "2021-10-09T17:38:52.378Z"
      },
      {
        "duration": 40,
        "start_time": "2021-10-09T17:38:53.131Z"
      },
      {
        "duration": 28,
        "start_time": "2021-10-09T17:38:53.173Z"
      },
      {
        "duration": 138,
        "start_time": "2021-10-09T17:38:53.202Z"
      },
      {
        "duration": 27,
        "start_time": "2021-10-09T17:38:53.341Z"
      },
      {
        "duration": 107,
        "start_time": "2021-10-09T17:38:53.370Z"
      },
      {
        "duration": 4,
        "start_time": "2021-10-09T17:38:53.480Z"
      },
      {
        "duration": 12,
        "start_time": "2021-10-09T17:38:53.486Z"
      },
      {
        "duration": 3,
        "start_time": "2021-10-09T17:38:53.500Z"
      },
      {
        "duration": 6,
        "start_time": "2021-10-09T17:38:53.505Z"
      },
      {
        "duration": 5,
        "start_time": "2021-10-09T17:38:53.513Z"
      },
      {
        "duration": 41,
        "start_time": "2021-10-09T17:38:53.520Z"
      },
      {
        "duration": 32,
        "start_time": "2021-10-09T17:38:53.563Z"
      },
      {
        "duration": 363,
        "start_time": "2021-10-09T17:38:53.597Z"
      },
      {
        "duration": 351,
        "start_time": "2021-10-09T17:38:53.962Z"
      },
      {
        "duration": 350,
        "start_time": "2021-10-09T17:38:54.315Z"
      },
      {
        "duration": 495,
        "start_time": "2021-10-09T17:38:54.666Z"
      },
      {
        "duration": 4,
        "start_time": "2021-10-09T17:38:55.163Z"
      },
      {
        "duration": 9,
        "start_time": "2021-10-09T17:38:55.169Z"
      },
      {
        "duration": 688,
        "start_time": "2021-10-09T17:38:55.180Z"
      },
      {
        "duration": 29,
        "start_time": "2021-10-09T17:38:55.870Z"
      },
      {
        "duration": 3,
        "start_time": "2021-10-09T17:38:55.902Z"
      },
      {
        "duration": 6,
        "start_time": "2021-10-09T17:38:55.907Z"
      },
      {
        "duration": 9,
        "start_time": "2021-10-09T17:38:55.914Z"
      },
      {
        "duration": 8,
        "start_time": "2021-10-09T17:38:55.949Z"
      },
      {
        "duration": 11,
        "start_time": "2021-10-09T17:38:55.959Z"
      },
      {
        "duration": 20,
        "start_time": "2021-10-09T17:38:55.973Z"
      },
      {
        "duration": 10,
        "start_time": "2021-10-09T17:38:55.996Z"
      },
      {
        "duration": 3,
        "start_time": "2021-10-09T17:38:56.008Z"
      },
      {
        "duration": 24851,
        "start_time": "2021-10-09T17:38:56.013Z"
      },
      {
        "duration": 3,
        "start_time": "2021-10-09T17:39:20.866Z"
      },
      {
        "duration": 1224,
        "start_time": "2021-10-09T17:55:12.663Z"
      },
      {
        "duration": 760,
        "start_time": "2021-10-09T17:55:13.889Z"
      },
      {
        "duration": 35,
        "start_time": "2021-10-09T17:55:14.651Z"
      },
      {
        "duration": 28,
        "start_time": "2021-10-09T17:55:14.688Z"
      },
      {
        "duration": 138,
        "start_time": "2021-10-09T17:55:14.717Z"
      },
      {
        "duration": 21,
        "start_time": "2021-10-09T17:55:14.856Z"
      },
      {
        "duration": 110,
        "start_time": "2021-10-09T17:55:14.879Z"
      },
      {
        "duration": 5,
        "start_time": "2021-10-09T17:55:14.990Z"
      },
      {
        "duration": 13,
        "start_time": "2021-10-09T17:55:14.997Z"
      },
      {
        "duration": 20,
        "start_time": "2021-10-09T17:55:15.013Z"
      },
      {
        "duration": 7,
        "start_time": "2021-10-09T17:55:15.034Z"
      },
      {
        "duration": 7,
        "start_time": "2021-10-09T17:55:15.043Z"
      },
      {
        "duration": 16,
        "start_time": "2021-10-09T17:55:15.051Z"
      },
      {
        "duration": 31,
        "start_time": "2021-10-09T17:55:15.069Z"
      },
      {
        "duration": 363,
        "start_time": "2021-10-09T17:55:15.102Z"
      },
      {
        "duration": 339,
        "start_time": "2021-10-09T17:55:15.467Z"
      },
      {
        "duration": 354,
        "start_time": "2021-10-09T17:55:15.808Z"
      },
      {
        "duration": 488,
        "start_time": "2021-10-09T17:55:16.164Z"
      },
      {
        "duration": 4,
        "start_time": "2021-10-09T17:55:16.654Z"
      },
      {
        "duration": 6,
        "start_time": "2021-10-09T17:55:16.660Z"
      },
      {
        "duration": 709,
        "start_time": "2021-10-09T17:55:16.668Z"
      },
      {
        "duration": 32,
        "start_time": "2021-10-09T17:55:17.379Z"
      },
      {
        "duration": 3,
        "start_time": "2021-10-09T17:55:17.413Z"
      },
      {
        "duration": 17,
        "start_time": "2021-10-09T17:55:17.418Z"
      },
      {
        "duration": 25,
        "start_time": "2021-10-09T17:55:17.437Z"
      },
      {
        "duration": 21,
        "start_time": "2021-10-09T17:55:17.464Z"
      },
      {
        "duration": 28,
        "start_time": "2021-10-09T17:55:17.488Z"
      },
      {
        "duration": 41,
        "start_time": "2021-10-09T17:55:17.518Z"
      },
      {
        "duration": 9,
        "start_time": "2021-10-09T17:55:17.561Z"
      },
      {
        "duration": 8,
        "start_time": "2021-10-09T17:55:17.571Z"
      },
      {
        "duration": 24421,
        "start_time": "2021-10-09T17:55:17.581Z"
      },
      {
        "duration": 3,
        "start_time": "2021-10-09T17:55:42.004Z"
      },
      {
        "duration": 1246,
        "start_time": "2021-10-09T17:59:33.538Z"
      },
      {
        "duration": 763,
        "start_time": "2021-10-09T17:59:34.786Z"
      },
      {
        "duration": 35,
        "start_time": "2021-10-09T17:59:35.551Z"
      },
      {
        "duration": 28,
        "start_time": "2021-10-09T17:59:35.588Z"
      },
      {
        "duration": 136,
        "start_time": "2021-10-09T17:59:35.618Z"
      },
      {
        "duration": 22,
        "start_time": "2021-10-09T17:59:35.756Z"
      },
      {
        "duration": 116,
        "start_time": "2021-10-09T17:59:35.780Z"
      },
      {
        "duration": 4,
        "start_time": "2021-10-09T17:59:35.899Z"
      },
      {
        "duration": 12,
        "start_time": "2021-10-09T17:59:35.905Z"
      },
      {
        "duration": 3,
        "start_time": "2021-10-09T17:59:35.919Z"
      },
      {
        "duration": 11,
        "start_time": "2021-10-09T17:59:35.924Z"
      },
      {
        "duration": 6,
        "start_time": "2021-10-09T17:59:35.950Z"
      },
      {
        "duration": 19,
        "start_time": "2021-10-09T17:59:35.959Z"
      },
      {
        "duration": 33,
        "start_time": "2021-10-09T17:59:35.980Z"
      },
      {
        "duration": 377,
        "start_time": "2021-10-09T17:59:36.015Z"
      },
      {
        "duration": 337,
        "start_time": "2021-10-09T17:59:36.394Z"
      },
      {
        "duration": 346,
        "start_time": "2021-10-09T17:59:36.733Z"
      },
      {
        "duration": 513,
        "start_time": "2021-10-09T17:59:37.081Z"
      },
      {
        "duration": 5,
        "start_time": "2021-10-09T17:59:37.595Z"
      },
      {
        "duration": 13,
        "start_time": "2021-10-09T17:59:37.602Z"
      },
      {
        "duration": 701,
        "start_time": "2021-10-09T17:59:37.617Z"
      },
      {
        "duration": 40,
        "start_time": "2021-10-09T17:59:38.320Z"
      },
      {
        "duration": 3,
        "start_time": "2021-10-09T17:59:38.364Z"
      },
      {
        "duration": 5,
        "start_time": "2021-10-09T17:59:38.370Z"
      },
      {
        "duration": 9,
        "start_time": "2021-10-09T17:59:38.377Z"
      },
      {
        "duration": 10,
        "start_time": "2021-10-09T17:59:38.388Z"
      },
      {
        "duration": 10,
        "start_time": "2021-10-09T17:59:38.401Z"
      },
      {
        "duration": 47,
        "start_time": "2021-10-09T17:59:38.413Z"
      },
      {
        "duration": 10,
        "start_time": "2021-10-09T17:59:38.461Z"
      },
      {
        "duration": 3,
        "start_time": "2021-10-09T17:59:38.473Z"
      },
      {
        "duration": 24372,
        "start_time": "2021-10-09T17:59:38.478Z"
      },
      {
        "duration": 3,
        "start_time": "2021-10-09T18:00:02.852Z"
      },
      {
        "duration": 1260,
        "start_time": "2021-10-09T18:03:04.731Z"
      },
      {
        "duration": 753,
        "start_time": "2021-10-09T18:03:05.993Z"
      },
      {
        "duration": 40,
        "start_time": "2021-10-09T18:03:06.748Z"
      },
      {
        "duration": 27,
        "start_time": "2021-10-09T18:03:06.790Z"
      },
      {
        "duration": 137,
        "start_time": "2021-10-09T18:03:06.819Z"
      },
      {
        "duration": 21,
        "start_time": "2021-10-09T18:03:06.958Z"
      },
      {
        "duration": 112,
        "start_time": "2021-10-09T18:03:06.981Z"
      },
      {
        "duration": 5,
        "start_time": "2021-10-09T18:03:07.095Z"
      },
      {
        "duration": 9,
        "start_time": "2021-10-09T18:03:07.102Z"
      },
      {
        "duration": 3,
        "start_time": "2021-10-09T18:03:07.113Z"
      },
      {
        "duration": 9,
        "start_time": "2021-10-09T18:03:07.117Z"
      },
      {
        "duration": 23,
        "start_time": "2021-10-09T18:03:07.128Z"
      },
      {
        "duration": 23,
        "start_time": "2021-10-09T18:03:07.153Z"
      },
      {
        "duration": 39,
        "start_time": "2021-10-09T18:03:07.178Z"
      },
      {
        "duration": 348,
        "start_time": "2021-10-09T18:03:07.219Z"
      },
      {
        "duration": 339,
        "start_time": "2021-10-09T18:03:07.568Z"
      },
      {
        "duration": 349,
        "start_time": "2021-10-09T18:03:07.909Z"
      },
      {
        "duration": 505,
        "start_time": "2021-10-09T18:03:08.260Z"
      },
      {
        "duration": 5,
        "start_time": "2021-10-09T18:03:08.767Z"
      },
      {
        "duration": 6,
        "start_time": "2021-10-09T18:03:08.774Z"
      },
      {
        "duration": 729,
        "start_time": "2021-10-09T18:03:08.782Z"
      },
      {
        "duration": 44,
        "start_time": "2021-10-09T18:03:09.512Z"
      },
      {
        "duration": 3,
        "start_time": "2021-10-09T18:03:09.560Z"
      },
      {
        "duration": 7,
        "start_time": "2021-10-09T18:03:09.566Z"
      },
      {
        "duration": 9,
        "start_time": "2021-10-09T18:03:09.575Z"
      },
      {
        "duration": 11,
        "start_time": "2021-10-09T18:03:09.586Z"
      },
      {
        "duration": 11,
        "start_time": "2021-10-09T18:03:09.599Z"
      },
      {
        "duration": 45,
        "start_time": "2021-10-09T18:03:09.612Z"
      },
      {
        "duration": 10,
        "start_time": "2021-10-09T18:03:09.659Z"
      },
      {
        "duration": 3,
        "start_time": "2021-10-09T18:03:09.671Z"
      },
      {
        "duration": 1649,
        "start_time": "2021-10-09T18:03:26.303Z"
      },
      {
        "duration": 948,
        "start_time": "2021-10-09T18:03:27.954Z"
      },
      {
        "duration": 45,
        "start_time": "2021-10-09T18:03:28.904Z"
      },
      {
        "duration": 29,
        "start_time": "2021-10-09T18:03:28.951Z"
      },
      {
        "duration": 141,
        "start_time": "2021-10-09T18:03:28.982Z"
      },
      {
        "duration": 36,
        "start_time": "2021-10-09T18:03:29.125Z"
      },
      {
        "duration": 109,
        "start_time": "2021-10-09T18:03:29.163Z"
      },
      {
        "duration": 5,
        "start_time": "2021-10-09T18:03:29.274Z"
      },
      {
        "duration": 28,
        "start_time": "2021-10-09T18:03:29.282Z"
      },
      {
        "duration": 25,
        "start_time": "2021-10-09T18:03:29.313Z"
      },
      {
        "duration": 29,
        "start_time": "2021-10-09T18:03:29.340Z"
      },
      {
        "duration": 30,
        "start_time": "2021-10-09T18:03:29.371Z"
      },
      {
        "duration": 26,
        "start_time": "2021-10-09T18:03:29.403Z"
      },
      {
        "duration": 52,
        "start_time": "2021-10-09T18:03:29.431Z"
      },
      {
        "duration": 356,
        "start_time": "2021-10-09T18:03:29.485Z"
      },
      {
        "duration": 367,
        "start_time": "2021-10-09T18:03:29.843Z"
      },
      {
        "duration": 396,
        "start_time": "2021-10-09T18:03:30.212Z"
      },
      {
        "duration": 538,
        "start_time": "2021-10-09T18:03:30.611Z"
      },
      {
        "duration": 5,
        "start_time": "2021-10-09T18:03:31.151Z"
      },
      {
        "duration": 24,
        "start_time": "2021-10-09T18:03:31.158Z"
      },
      {
        "duration": 724,
        "start_time": "2021-10-09T18:03:31.184Z"
      },
      {
        "duration": 40,
        "start_time": "2021-10-09T18:03:31.910Z"
      },
      {
        "duration": 3,
        "start_time": "2021-10-09T18:03:31.952Z"
      },
      {
        "duration": 17,
        "start_time": "2021-10-09T18:03:31.957Z"
      },
      {
        "duration": 15,
        "start_time": "2021-10-09T18:03:31.976Z"
      },
      {
        "duration": 15,
        "start_time": "2021-10-09T18:03:31.993Z"
      },
      {
        "duration": 11,
        "start_time": "2021-10-09T18:03:32.012Z"
      },
      {
        "duration": 26,
        "start_time": "2021-10-09T18:03:32.026Z"
      },
      {
        "duration": 9,
        "start_time": "2021-10-09T18:03:32.054Z"
      },
      {
        "duration": 2,
        "start_time": "2021-10-09T18:03:32.066Z"
      },
      {
        "duration": 25126,
        "start_time": "2021-10-09T18:03:32.070Z"
      },
      {
        "duration": 3,
        "start_time": "2021-10-09T18:03:57.198Z"
      },
      {
        "duration": 1069809,
        "start_time": "2021-10-09T18:03:57.203Z"
      },
      {
        "duration": 298,
        "start_time": "2021-10-09T18:21:47.014Z"
      },
      {
        "duration": 44,
        "start_time": "2021-10-09T18:21:47.270Z"
      },
      {
        "duration": 42,
        "start_time": "2021-10-09T18:21:47.273Z"
      },
      {
        "duration": 205,
        "start_time": "2021-10-09T18:23:40.271Z"
      },
      {
        "duration": 203,
        "start_time": "2021-10-09T18:23:48.248Z"
      },
      {
        "duration": 208,
        "start_time": "2021-10-09T18:24:36.214Z"
      },
      {
        "duration": 196,
        "start_time": "2021-10-09T18:24:43.368Z"
      },
      {
        "duration": 215,
        "start_time": "2021-10-09T18:25:21.619Z"
      },
      {
        "duration": 205,
        "start_time": "2021-10-09T18:25:53.876Z"
      },
      {
        "duration": 24748,
        "start_time": "2021-10-09T18:25:58.284Z"
      },
      {
        "duration": 280,
        "start_time": "2021-10-09T18:26:23.034Z"
      },
      {
        "duration": 464,
        "start_time": "2021-10-09T18:27:00.570Z"
      },
      {
        "duration": 4,
        "start_time": "2021-10-09T18:27:24.504Z"
      },
      {
        "duration": 201,
        "start_time": "2021-10-09T18:27:33.912Z"
      },
      {
        "duration": 568,
        "start_time": "2021-10-09T18:27:43.118Z"
      },
      {
        "duration": 1230,
        "start_time": "2021-10-09T18:28:24.055Z"
      },
      {
        "duration": 778,
        "start_time": "2021-10-09T18:28:25.287Z"
      },
      {
        "duration": 38,
        "start_time": "2021-10-09T18:28:26.067Z"
      },
      {
        "duration": 52,
        "start_time": "2021-10-09T18:28:26.107Z"
      },
      {
        "duration": 134,
        "start_time": "2021-10-09T18:28:26.161Z"
      },
      {
        "duration": 25,
        "start_time": "2021-10-09T18:28:26.297Z"
      },
      {
        "duration": 117,
        "start_time": "2021-10-09T18:28:26.325Z"
      },
      {
        "duration": 5,
        "start_time": "2021-10-09T18:28:26.450Z"
      },
      {
        "duration": 16,
        "start_time": "2021-10-09T18:28:26.457Z"
      },
      {
        "duration": 4,
        "start_time": "2021-10-09T18:28:26.475Z"
      },
      {
        "duration": 7,
        "start_time": "2021-10-09T18:28:26.480Z"
      },
      {
        "duration": 6,
        "start_time": "2021-10-09T18:28:26.489Z"
      },
      {
        "duration": 18,
        "start_time": "2021-10-09T18:28:26.497Z"
      },
      {
        "duration": 52,
        "start_time": "2021-10-09T18:28:26.518Z"
      },
      {
        "duration": 368,
        "start_time": "2021-10-09T18:28:26.572Z"
      },
      {
        "duration": 362,
        "start_time": "2021-10-09T18:28:26.943Z"
      },
      {
        "duration": 370,
        "start_time": "2021-10-09T18:28:27.307Z"
      },
      {
        "duration": 520,
        "start_time": "2021-10-09T18:28:27.679Z"
      },
      {
        "duration": 7,
        "start_time": "2021-10-09T18:28:28.201Z"
      },
      {
        "duration": 6,
        "start_time": "2021-10-09T18:28:28.210Z"
      },
      {
        "duration": 731,
        "start_time": "2021-10-09T18:28:28.218Z"
      },
      {
        "duration": 33,
        "start_time": "2021-10-09T18:28:28.951Z"
      },
      {
        "duration": 4,
        "start_time": "2021-10-09T18:28:28.987Z"
      },
      {
        "duration": 12,
        "start_time": "2021-10-09T18:28:28.993Z"
      },
      {
        "duration": 9,
        "start_time": "2021-10-09T18:28:29.007Z"
      },
      {
        "duration": 9,
        "start_time": "2021-10-09T18:28:29.018Z"
      },
      {
        "duration": 25,
        "start_time": "2021-10-09T18:28:29.029Z"
      },
      {
        "duration": 32,
        "start_time": "2021-10-09T18:28:29.056Z"
      },
      {
        "duration": 9,
        "start_time": "2021-10-09T18:28:29.090Z"
      },
      {
        "duration": 3,
        "start_time": "2021-10-09T18:28:29.101Z"
      },
      {
        "duration": 25376,
        "start_time": "2021-10-09T18:28:29.106Z"
      },
      {
        "duration": 4,
        "start_time": "2021-10-09T18:28:54.484Z"
      },
      {
        "duration": 434651,
        "start_time": "2021-10-09T18:28:54.489Z"
      },
      {
        "duration": -30,
        "start_time": "2021-10-09T18:36:09.759Z"
      },
      {
        "duration": -30,
        "start_time": "2021-10-09T18:36:09.761Z"
      },
      {
        "duration": -34,
        "start_time": "2021-10-09T18:36:09.765Z"
      },
      {
        "duration": -35,
        "start_time": "2021-10-09T18:36:09.768Z"
      },
      {
        "duration": 4,
        "start_time": "2021-10-09T18:36:17.178Z"
      },
      {
        "duration": 4,
        "start_time": "2021-10-09T18:36:34.717Z"
      },
      {
        "duration": 4014,
        "start_time": "2021-10-09T18:43:43.312Z"
      },
      {
        "duration": 3503,
        "start_time": "2021-10-09T18:45:11.107Z"
      },
      {
        "duration": 4,
        "start_time": "2021-10-09T18:45:46.393Z"
      },
      {
        "duration": 229,
        "start_time": "2021-10-09T18:50:14.645Z"
      },
      {
        "duration": 4,
        "start_time": "2021-10-09T18:50:23.417Z"
      },
      {
        "duration": 260,
        "start_time": "2021-10-09T18:50:33.887Z"
      },
      {
        "duration": 9,
        "start_time": "2021-10-09T18:50:52.803Z"
      },
      {
        "duration": 10,
        "start_time": "2021-10-09T18:55:23.032Z"
      },
      {
        "duration": 1513,
        "start_time": "2021-10-10T04:19:38.451Z"
      },
      {
        "duration": 901,
        "start_time": "2021-10-10T04:19:39.967Z"
      },
      {
        "duration": 55,
        "start_time": "2021-10-10T04:20:05.121Z"
      },
      {
        "duration": 42,
        "start_time": "2021-10-10T04:20:05.585Z"
      },
      {
        "duration": 186,
        "start_time": "2021-10-10T04:20:07.400Z"
      },
      {
        "duration": 38,
        "start_time": "2021-10-10T04:20:07.604Z"
      },
      {
        "duration": 178,
        "start_time": "2021-10-10T04:20:07.802Z"
      },
      {
        "duration": 6,
        "start_time": "2021-10-10T04:20:33.488Z"
      },
      {
        "duration": 9,
        "start_time": "2021-10-10T04:20:33.675Z"
      },
      {
        "duration": 4,
        "start_time": "2021-10-10T04:20:33.856Z"
      },
      {
        "duration": 6,
        "start_time": "2021-10-10T04:20:34.068Z"
      },
      {
        "duration": 7,
        "start_time": "2021-10-10T04:20:52.520Z"
      },
      {
        "duration": 564,
        "start_time": "2021-10-10T04:22:38.629Z"
      },
      {
        "duration": 661,
        "start_time": "2021-10-10T04:22:39.199Z"
      },
      {
        "duration": 579,
        "start_time": "2021-10-10T04:22:39.863Z"
      },
      {
        "duration": 711,
        "start_time": "2021-10-10T04:22:40.445Z"
      },
      {
        "duration": -28,
        "start_time": "2021-10-10T04:22:41.187Z"
      },
      {
        "duration": -32,
        "start_time": "2021-10-10T04:22:41.192Z"
      },
      {
        "duration": -39,
        "start_time": "2021-10-10T04:22:41.201Z"
      },
      {
        "duration": 46,
        "start_time": "2021-10-10T04:22:41.430Z"
      },
      {
        "duration": 5,
        "start_time": "2021-10-10T04:26:05.754Z"
      },
      {
        "duration": 4,
        "start_time": "2021-10-10T04:26:06.244Z"
      },
      {
        "duration": 8,
        "start_time": "2021-10-10T04:26:28.017Z"
      },
      {
        "duration": 9,
        "start_time": "2021-10-10T04:26:28.190Z"
      },
      {
        "duration": 279,
        "start_time": "2021-10-10T04:26:28.371Z"
      },
      {
        "duration": 5,
        "start_time": "2021-10-10T04:28:22.010Z"
      },
      {
        "duration": 284,
        "start_time": "2021-10-10T04:28:44.211Z"
      },
      {
        "duration": 274,
        "start_time": "2021-10-10T04:29:04.541Z"
      },
      {
        "duration": 7,
        "start_time": "2021-10-10T04:30:47.837Z"
      },
      {
        "duration": 6,
        "start_time": "2021-10-10T04:30:48.057Z"
      },
      {
        "duration": 7486,
        "start_time": "2021-10-10T04:30:51.407Z"
      },
      {
        "duration": -61,
        "start_time": "2021-10-10T04:30:58.957Z"
      },
      {
        "duration": 7701,
        "start_time": "2021-10-10T04:31:07.427Z"
      },
      {
        "duration": 11294,
        "start_time": "2021-10-10T04:31:27.663Z"
      },
      {
        "duration": 7919,
        "start_time": "2021-10-10T04:31:59.685Z"
      },
      {
        "duration": 284,
        "start_time": "2021-10-10T04:33:58.150Z"
      },
      {
        "duration": 281,
        "start_time": "2021-10-10T04:35:29.057Z"
      },
      {
        "duration": 5,
        "start_time": "2021-10-10T04:35:37.670Z"
      },
      {
        "duration": 6,
        "start_time": "2021-10-10T04:35:54.274Z"
      },
      {
        "duration": 271,
        "start_time": "2021-10-10T04:36:18.630Z"
      },
      {
        "duration": 6,
        "start_time": "2021-10-10T04:36:27.556Z"
      },
      {
        "duration": 929,
        "start_time": "2021-10-10T04:36:29.449Z"
      },
      {
        "duration": 57,
        "start_time": "2021-10-10T04:36:30.381Z"
      },
      {
        "duration": 61,
        "start_time": "2021-10-10T04:36:30.441Z"
      },
      {
        "duration": 198,
        "start_time": "2021-10-10T04:36:30.505Z"
      },
      {
        "duration": 37,
        "start_time": "2021-10-10T04:36:30.705Z"
      },
      {
        "duration": 189,
        "start_time": "2021-10-10T04:36:30.745Z"
      },
      {
        "duration": 6,
        "start_time": "2021-10-10T04:36:31.299Z"
      },
      {
        "duration": 6,
        "start_time": "2021-10-10T04:36:31.457Z"
      },
      {
        "duration": 4,
        "start_time": "2021-10-10T04:36:31.639Z"
      },
      {
        "duration": 6,
        "start_time": "2021-10-10T04:36:31.798Z"
      },
      {
        "duration": 7,
        "start_time": "2021-10-10T04:36:32.506Z"
      },
      {
        "duration": 21,
        "start_time": "2021-10-10T04:36:33.038Z"
      },
      {
        "duration": 30,
        "start_time": "2021-10-10T04:36:34.379Z"
      },
      {
        "duration": 5,
        "start_time": "2021-10-10T04:36:53.491Z"
      },
      {
        "duration": 9,
        "start_time": "2021-10-10T04:37:13.145Z"
      },
      {
        "duration": 5,
        "start_time": "2021-10-10T04:37:13.627Z"
      },
      {
        "duration": 8,
        "start_time": "2021-10-10T04:37:18.161Z"
      },
      {
        "duration": 12,
        "start_time": "2021-10-10T04:37:18.929Z"
      },
      {
        "duration": 18,
        "start_time": "2021-10-10T04:37:28.939Z"
      },
      {
        "duration": 11,
        "start_time": "2021-10-10T04:37:29.902Z"
      },
      {
        "duration": 3,
        "start_time": "2021-10-10T04:37:31.095Z"
      },
      {
        "duration": 5,
        "start_time": "2021-10-10T04:38:24.844Z"
      },
      {
        "duration": 33437,
        "start_time": "2021-10-10T04:38:54.928Z"
      },
      {
        "duration": 5,
        "start_time": "2021-10-10T04:39:28.369Z"
      },
      {
        "duration": 589661,
        "start_time": "2021-10-10T04:39:28.378Z"
      },
      {
        "duration": 5,
        "start_time": "2021-10-10T04:49:18.042Z"
      },
      {
        "duration": 5457,
        "start_time": "2021-10-10T04:49:18.049Z"
      },
      {
        "duration": 4758,
        "start_time": "2021-10-10T04:49:23.508Z"
      },
      {
        "duration": 5,
        "start_time": "2021-10-10T04:49:28.268Z"
      },
      {
        "duration": 28,
        "start_time": "2021-10-10T04:49:28.275Z"
      },
      {
        "duration": 335,
        "start_time": "2021-10-10T06:21:41.299Z"
      },
      {
        "duration": 1295,
        "start_time": "2021-10-10T06:22:03.390Z"
      },
      {
        "duration": 716,
        "start_time": "2021-10-10T06:22:04.688Z"
      },
      {
        "duration": 34,
        "start_time": "2021-10-10T06:22:05.406Z"
      },
      {
        "duration": 39,
        "start_time": "2021-10-10T06:22:05.442Z"
      },
      {
        "duration": 124,
        "start_time": "2021-10-10T06:22:05.483Z"
      },
      {
        "duration": 22,
        "start_time": "2021-10-10T06:22:05.608Z"
      },
      {
        "duration": 107,
        "start_time": "2021-10-10T06:22:05.632Z"
      },
      {
        "duration": 4,
        "start_time": "2021-10-10T06:22:05.740Z"
      },
      {
        "duration": 11,
        "start_time": "2021-10-10T06:22:05.747Z"
      },
      {
        "duration": 3,
        "start_time": "2021-10-10T06:22:05.760Z"
      },
      {
        "duration": 4,
        "start_time": "2021-10-10T06:22:05.777Z"
      },
      {
        "duration": 7,
        "start_time": "2021-10-10T06:22:05.783Z"
      },
      {
        "duration": 19,
        "start_time": "2021-10-10T06:22:05.792Z"
      },
      {
        "duration": 28,
        "start_time": "2021-10-10T06:22:05.812Z"
      },
      {
        "duration": 4,
        "start_time": "2021-10-10T06:22:05.842Z"
      },
      {
        "duration": 375,
        "start_time": "2021-10-10T06:22:05.847Z"
      },
      {
        "duration": 343,
        "start_time": "2021-10-10T06:22:06.224Z"
      },
      {
        "duration": 349,
        "start_time": "2021-10-10T06:22:06.568Z"
      },
      {
        "duration": 530,
        "start_time": "2021-10-10T06:22:06.919Z"
      },
      {
        "duration": 6,
        "start_time": "2021-10-10T06:22:07.451Z"
      },
      {
        "duration": 17,
        "start_time": "2021-10-10T06:22:07.459Z"
      },
      {
        "duration": 729,
        "start_time": "2021-10-10T06:22:07.478Z"
      },
      {
        "duration": 27,
        "start_time": "2021-10-10T06:22:08.209Z"
      },
      {
        "duration": 3,
        "start_time": "2021-10-10T06:22:08.237Z"
      },
      {
        "duration": 10,
        "start_time": "2021-10-10T06:22:08.242Z"
      },
      {
        "duration": 23,
        "start_time": "2021-10-10T06:22:08.254Z"
      },
      {
        "duration": 9,
        "start_time": "2021-10-10T06:22:08.281Z"
      },
      {
        "duration": 8,
        "start_time": "2021-10-10T06:22:08.292Z"
      },
      {
        "duration": 10,
        "start_time": "2021-10-10T06:22:08.302Z"
      },
      {
        "duration": 6,
        "start_time": "2021-10-10T06:22:08.314Z"
      },
      {
        "duration": 22,
        "start_time": "2021-10-10T06:22:08.321Z"
      },
      {
        "duration": 8,
        "start_time": "2021-10-10T06:22:08.344Z"
      },
      {
        "duration": 3,
        "start_time": "2021-10-10T06:22:08.376Z"
      },
      {
        "duration": 25177,
        "start_time": "2021-10-10T06:22:08.381Z"
      },
      {
        "duration": 3,
        "start_time": "2021-10-10T06:22:33.560Z"
      },
      {
        "duration": 435814,
        "start_time": "2021-10-10T06:22:33.577Z"
      },
      {
        "duration": 4,
        "start_time": "2021-10-10T06:29:49.393Z"
      },
      {
        "duration": 4068,
        "start_time": "2021-10-10T06:29:49.399Z"
      },
      {
        "duration": 3491,
        "start_time": "2021-10-10T06:29:53.469Z"
      },
      {
        "duration": 3,
        "start_time": "2021-10-10T06:29:56.962Z"
      },
      {
        "duration": 18,
        "start_time": "2021-10-10T06:29:56.967Z"
      }
    ],
    "kernelspec": {
      "display_name": "Python 3",
      "language": "python",
      "name": "python3"
    },
    "language_info": {
      "codemirror_mode": {
        "name": "ipython",
        "version": 3
      },
      "file_extension": ".py",
      "mimetype": "text/x-python",
      "name": "python",
      "nbconvert_exporter": "python",
      "pygments_lexer": "ipython3",
      "version": "3.7.8"
    },
    "toc": {
      "base_numbering": 1,
      "nav_menu": {},
      "number_sections": true,
      "sideBar": true,
      "skip_h1_title": true,
      "title_cell": "Содержание",
      "title_sidebar": "Contents",
      "toc_cell": true,
      "toc_position": {
        "height": "calc(100% - 180px)",
        "left": "10px",
        "top": "150px",
        "width": "270.391px"
      },
      "toc_section_display": true,
      "toc_window_display": false
    },
    "colab": {
      "name": "Восстановление золота из руды.ipynb",
      "provenance": [],
      "collapsed_sections": []
    }
  },
  "cells": [
    {
      "cell_type": "markdown",
      "metadata": {
        "id": "ajnDEs2sANeL"
      },
      "source": [
        "# Восстановление золота из руды"
      ]
    },
    {
      "cell_type": "markdown",
      "metadata": {
        "id": "pbmNO-oaANeM"
      },
      "source": [
        "<b> Цель проекта </b>\n",
        "\n",
        "Подготовьте прототип модели машинного обучения для «Цифры». Компания разрабатывает решения для эффективной работы промышленных предприятий.\n",
        "\n",
        "Модель должна предсказать коэффициент восстановления золота из золотосодержащей руды. Используйте данные с параметрами добычи и очистки. \n",
        "\n",
        "Модель поможет оптимизировать производство, чтобы не запускать предприятие с убыточными характеристиками.\n",
        "\n",
        "Вам нужно:\n",
        "\n",
        "1. Подготовить данные;\n",
        "2. Провести исследовательский анализ данных;\n",
        "3. Построить и обучить модель.\n",
        "\n",
        "Чтобы выполнить проект, обращайтесь к библиотекам *pandas*, *matplotlib* и *sklearn.* Вам поможет их документация."
      ]
    },
    {
      "cell_type": "markdown",
      "metadata": {
        "id": "Mlhqg41vANeM"
      },
      "source": [
        "<b> Описание данных </b>\n",
        "\n",
        "*Технологический процесс*\n",
        "    \n",
        "- Rougher feed — исходное сырье\n",
        "- Rougher additions (или reagent additions) — флотационные реагенты: Xanthate, Sulphate, Depressant\n",
        "- Xanthate **— ксантогенат (промотер, или активатор флотации);\n",
        "- Sulphate — сульфат (на данном производстве сульфид натрия);\n",
        "- Depressant — депрессант (силикат натрия).\n",
        "- Rougher process (англ. «грубый процесс») — флотация\n",
        "- Rougher tails — отвальные хвосты\n",
        "- Float banks — флотационная установка\n",
        "- Cleaner process — очистка\n",
        "- Rougher Au — черновой концентрат золота\n",
        "- Final Au — финальный концентрат золота\n",
        "\n",
        "*Параметры этапов*\n",
        "- air amount — объём воздуха\n",
        "- fluid levels — уровень жидкости\n",
        "- feed size — размер гранул сырья\n",
        "- feed rate — скорость подачи\n",
        "\n",
        "\n",
        "Наименование признаков *[этап].[тип_параметра].[название_параметра]*, пример: rougher.input.feed_ag\n",
        "\n",
        "Возможные значения для блока *[этап]*:\n",
        "- rougher — флотация\n",
        "- primary_cleaner — первичная очистка\n",
        "- secondary_cleaner — вторичная очистка\n",
        "- final — финальные характеристики\n",
        "\n",
        "Возможные значения для блока *[тип_параметра]*:\n",
        "- input — параметры сырья\n",
        "- output — параметры продукта\n",
        "- state — параметры, характеризующие текущее состояние этапа\n",
        "- calculation — расчётные характеристики\n"
      ]
    },
    {
      "cell_type": "markdown",
      "metadata": {
        "id": "92lzj6QVANeN"
      },
      "source": [
        "## Подготовка данных"
      ]
    },
    {
      "cell_type": "code",
      "metadata": {
        "id": "a7heLf8rANeO"
      },
      "source": [
        "import pandas as pd\n",
        "import numpy as np\n",
        "import matplotlib.pyplot as plt\n",
        "import seaborn as sns\n",
        "from scipy import stats\n",
        "from sklearn.preprocessing import StandardScaler \n",
        "from sklearn.ensemble import RandomForestRegressor\n",
        "from sklearn.tree import DecisionTreeRegressor\n",
        "from sklearn.model_selection import cross_val_score\n",
        "from sklearn.metrics import mean_absolute_error\n",
        "from sklearn.model_selection import GridSearchCV\n",
        "from sklearn.metrics import make_scorer\n",
        "from sklearn.dummy import DummyRegressor\n",
        "\n",
        "import warnings\n",
        "warnings.filterwarnings('ignore')"
      ],
      "execution_count": null,
      "outputs": []
    },
    {
      "cell_type": "code",
      "metadata": {
        "id": "RHuy_1RrANeP"
      },
      "source": [
        "data_train = pd.read_csv('/datasets/gold_recovery_train_new.csv') #обучающая выборка\n",
        "data_test = pd.read_csv('/datasets/gold_recovery_test_new.csv') #тестовые данные\n",
        "data_full = pd.read_csv('/datasets/gold_recovery_full_new.csv') #исходные данные"
      ],
      "execution_count": null,
      "outputs": []
    },
    {
      "cell_type": "code",
      "metadata": {
        "id": "9kTLrfiyANeQ",
        "outputId": "add66a98-68d3-4ea6-be88-a2109c7dd64f"
      },
      "source": [
        "data_train.info()\n",
        "data_train.head()"
      ],
      "execution_count": null,
      "outputs": [
        {
          "name": "stdout",
          "output_type": "stream",
          "text": [
            "<class 'pandas.core.frame.DataFrame'>\n",
            "RangeIndex: 14149 entries, 0 to 14148\n",
            "Data columns (total 87 columns):\n",
            "date                                                  14149 non-null object\n",
            "final.output.concentrate_ag                           14148 non-null float64\n",
            "final.output.concentrate_pb                           14148 non-null float64\n",
            "final.output.concentrate_sol                          13938 non-null float64\n",
            "final.output.concentrate_au                           14149 non-null float64\n",
            "final.output.recovery                                 14149 non-null float64\n",
            "final.output.tail_ag                                  14149 non-null float64\n",
            "final.output.tail_pb                                  14049 non-null float64\n",
            "final.output.tail_sol                                 14144 non-null float64\n",
            "final.output.tail_au                                  14149 non-null float64\n",
            "primary_cleaner.input.sulfate                         14129 non-null float64\n",
            "primary_cleaner.input.depressant                      14117 non-null float64\n",
            "primary_cleaner.input.feed_size                       14149 non-null float64\n",
            "primary_cleaner.input.xanthate                        14049 non-null float64\n",
            "primary_cleaner.output.concentrate_ag                 14149 non-null float64\n",
            "primary_cleaner.output.concentrate_pb                 14063 non-null float64\n",
            "primary_cleaner.output.concentrate_sol                13863 non-null float64\n",
            "primary_cleaner.output.concentrate_au                 14149 non-null float64\n",
            "primary_cleaner.output.tail_ag                        14148 non-null float64\n",
            "primary_cleaner.output.tail_pb                        14134 non-null float64\n",
            "primary_cleaner.output.tail_sol                       14103 non-null float64\n",
            "primary_cleaner.output.tail_au                        14149 non-null float64\n",
            "primary_cleaner.state.floatbank8_a_air                14145 non-null float64\n",
            "primary_cleaner.state.floatbank8_a_level              14148 non-null float64\n",
            "primary_cleaner.state.floatbank8_b_air                14145 non-null float64\n",
            "primary_cleaner.state.floatbank8_b_level              14148 non-null float64\n",
            "primary_cleaner.state.floatbank8_c_air                14147 non-null float64\n",
            "primary_cleaner.state.floatbank8_c_level              14148 non-null float64\n",
            "primary_cleaner.state.floatbank8_d_air                14146 non-null float64\n",
            "primary_cleaner.state.floatbank8_d_level              14148 non-null float64\n",
            "rougher.calculation.sulfate_to_au_concentrate         14148 non-null float64\n",
            "rougher.calculation.floatbank10_sulfate_to_au_feed    14148 non-null float64\n",
            "rougher.calculation.floatbank11_sulfate_to_au_feed    14148 non-null float64\n",
            "rougher.calculation.au_pb_ratio                       14149 non-null float64\n",
            "rougher.input.feed_ag                                 14149 non-null float64\n",
            "rougher.input.feed_pb                                 14049 non-null float64\n",
            "rougher.input.feed_rate                               14141 non-null float64\n",
            "rougher.input.feed_size                               14005 non-null float64\n",
            "rougher.input.feed_sol                                14071 non-null float64\n",
            "rougher.input.feed_au                                 14149 non-null float64\n",
            "rougher.input.floatbank10_sulfate                     14120 non-null float64\n",
            "rougher.input.floatbank10_xanthate                    14141 non-null float64\n",
            "rougher.input.floatbank11_sulfate                     14113 non-null float64\n",
            "rougher.input.floatbank11_xanthate                    13721 non-null float64\n",
            "rougher.output.concentrate_ag                         14149 non-null float64\n",
            "rougher.output.concentrate_pb                         14149 non-null float64\n",
            "rougher.output.concentrate_sol                        14127 non-null float64\n",
            "rougher.output.concentrate_au                         14149 non-null float64\n",
            "rougher.output.recovery                               14149 non-null float64\n",
            "rougher.output.tail_ag                                14148 non-null float64\n",
            "rougher.output.tail_pb                                14149 non-null float64\n",
            "rougher.output.tail_sol                               14149 non-null float64\n",
            "rougher.output.tail_au                                14149 non-null float64\n",
            "rougher.state.floatbank10_a_air                       14148 non-null float64\n",
            "rougher.state.floatbank10_a_level                     14148 non-null float64\n",
            "rougher.state.floatbank10_b_air                       14148 non-null float64\n",
            "rougher.state.floatbank10_b_level                     14148 non-null float64\n",
            "rougher.state.floatbank10_c_air                       14148 non-null float64\n",
            "rougher.state.floatbank10_c_level                     14148 non-null float64\n",
            "rougher.state.floatbank10_d_air                       14149 non-null float64\n",
            "rougher.state.floatbank10_d_level                     14149 non-null float64\n",
            "rougher.state.floatbank10_e_air                       13713 non-null float64\n",
            "rougher.state.floatbank10_e_level                     14149 non-null float64\n",
            "rougher.state.floatbank10_f_air                       14149 non-null float64\n",
            "rougher.state.floatbank10_f_level                     14149 non-null float64\n",
            "secondary_cleaner.output.tail_ag                      14147 non-null float64\n",
            "secondary_cleaner.output.tail_pb                      14139 non-null float64\n",
            "secondary_cleaner.output.tail_sol                     12544 non-null float64\n",
            "secondary_cleaner.output.tail_au                      14149 non-null float64\n",
            "secondary_cleaner.state.floatbank2_a_air              13932 non-null float64\n",
            "secondary_cleaner.state.floatbank2_a_level            14148 non-null float64\n",
            "secondary_cleaner.state.floatbank2_b_air              14128 non-null float64\n",
            "secondary_cleaner.state.floatbank2_b_level            14148 non-null float64\n",
            "secondary_cleaner.state.floatbank3_a_air              14145 non-null float64\n",
            "secondary_cleaner.state.floatbank3_a_level            14148 non-null float64\n",
            "secondary_cleaner.state.floatbank3_b_air              14148 non-null float64\n",
            "secondary_cleaner.state.floatbank3_b_level            14148 non-null float64\n",
            "secondary_cleaner.state.floatbank4_a_air              14143 non-null float64\n",
            "secondary_cleaner.state.floatbank4_a_level            14148 non-null float64\n",
            "secondary_cleaner.state.floatbank4_b_air              14148 non-null float64\n",
            "secondary_cleaner.state.floatbank4_b_level            14148 non-null float64\n",
            "secondary_cleaner.state.floatbank5_a_air              14148 non-null float64\n",
            "secondary_cleaner.state.floatbank5_a_level            14148 non-null float64\n",
            "secondary_cleaner.state.floatbank5_b_air              14148 non-null float64\n",
            "secondary_cleaner.state.floatbank5_b_level            14148 non-null float64\n",
            "secondary_cleaner.state.floatbank6_a_air              14147 non-null float64\n",
            "secondary_cleaner.state.floatbank6_a_level            14148 non-null float64\n",
            "dtypes: float64(86), object(1)\n",
            "memory usage: 9.4+ MB\n"
          ]
        },
        {
          "data": {
            "text/html": [
              "<div>\n",
              "<style scoped>\n",
              "    .dataframe tbody tr th:only-of-type {\n",
              "        vertical-align: middle;\n",
              "    }\n",
              "\n",
              "    .dataframe tbody tr th {\n",
              "        vertical-align: top;\n",
              "    }\n",
              "\n",
              "    .dataframe thead th {\n",
              "        text-align: right;\n",
              "    }\n",
              "</style>\n",
              "<table border=\"1\" class=\"dataframe\">\n",
              "  <thead>\n",
              "    <tr style=\"text-align: right;\">\n",
              "      <th></th>\n",
              "      <th>date</th>\n",
              "      <th>final.output.concentrate_ag</th>\n",
              "      <th>final.output.concentrate_pb</th>\n",
              "      <th>final.output.concentrate_sol</th>\n",
              "      <th>final.output.concentrate_au</th>\n",
              "      <th>final.output.recovery</th>\n",
              "      <th>final.output.tail_ag</th>\n",
              "      <th>final.output.tail_pb</th>\n",
              "      <th>final.output.tail_sol</th>\n",
              "      <th>final.output.tail_au</th>\n",
              "      <th>...</th>\n",
              "      <th>secondary_cleaner.state.floatbank4_a_air</th>\n",
              "      <th>secondary_cleaner.state.floatbank4_a_level</th>\n",
              "      <th>secondary_cleaner.state.floatbank4_b_air</th>\n",
              "      <th>secondary_cleaner.state.floatbank4_b_level</th>\n",
              "      <th>secondary_cleaner.state.floatbank5_a_air</th>\n",
              "      <th>secondary_cleaner.state.floatbank5_a_level</th>\n",
              "      <th>secondary_cleaner.state.floatbank5_b_air</th>\n",
              "      <th>secondary_cleaner.state.floatbank5_b_level</th>\n",
              "      <th>secondary_cleaner.state.floatbank6_a_air</th>\n",
              "      <th>secondary_cleaner.state.floatbank6_a_level</th>\n",
              "    </tr>\n",
              "  </thead>\n",
              "  <tbody>\n",
              "    <tr>\n",
              "      <td>0</td>\n",
              "      <td>2016-01-15 00:00:00</td>\n",
              "      <td>6.055403</td>\n",
              "      <td>9.889648</td>\n",
              "      <td>5.507324</td>\n",
              "      <td>42.192020</td>\n",
              "      <td>70.541216</td>\n",
              "      <td>10.411962</td>\n",
              "      <td>0.895447</td>\n",
              "      <td>16.904297</td>\n",
              "      <td>2.143149</td>\n",
              "      <td>...</td>\n",
              "      <td>14.016835</td>\n",
              "      <td>-502.488007</td>\n",
              "      <td>12.099931</td>\n",
              "      <td>-504.715942</td>\n",
              "      <td>9.925633</td>\n",
              "      <td>-498.310211</td>\n",
              "      <td>8.079666</td>\n",
              "      <td>-500.470978</td>\n",
              "      <td>14.151341</td>\n",
              "      <td>-605.841980</td>\n",
              "    </tr>\n",
              "    <tr>\n",
              "      <td>1</td>\n",
              "      <td>2016-01-15 01:00:00</td>\n",
              "      <td>6.029369</td>\n",
              "      <td>9.968944</td>\n",
              "      <td>5.257781</td>\n",
              "      <td>42.701629</td>\n",
              "      <td>69.266198</td>\n",
              "      <td>10.462676</td>\n",
              "      <td>0.927452</td>\n",
              "      <td>16.634514</td>\n",
              "      <td>2.224930</td>\n",
              "      <td>...</td>\n",
              "      <td>13.992281</td>\n",
              "      <td>-505.503262</td>\n",
              "      <td>11.950531</td>\n",
              "      <td>-501.331529</td>\n",
              "      <td>10.039245</td>\n",
              "      <td>-500.169983</td>\n",
              "      <td>7.984757</td>\n",
              "      <td>-500.582168</td>\n",
              "      <td>13.998353</td>\n",
              "      <td>-599.787184</td>\n",
              "    </tr>\n",
              "    <tr>\n",
              "      <td>2</td>\n",
              "      <td>2016-01-15 02:00:00</td>\n",
              "      <td>6.055926</td>\n",
              "      <td>10.213995</td>\n",
              "      <td>5.383759</td>\n",
              "      <td>42.657501</td>\n",
              "      <td>68.116445</td>\n",
              "      <td>10.507046</td>\n",
              "      <td>0.953716</td>\n",
              "      <td>16.208849</td>\n",
              "      <td>2.257889</td>\n",
              "      <td>...</td>\n",
              "      <td>14.015015</td>\n",
              "      <td>-502.520901</td>\n",
              "      <td>11.912783</td>\n",
              "      <td>-501.133383</td>\n",
              "      <td>10.070913</td>\n",
              "      <td>-500.129135</td>\n",
              "      <td>8.013877</td>\n",
              "      <td>-500.517572</td>\n",
              "      <td>14.028663</td>\n",
              "      <td>-601.427363</td>\n",
              "    </tr>\n",
              "    <tr>\n",
              "      <td>3</td>\n",
              "      <td>2016-01-15 03:00:00</td>\n",
              "      <td>6.047977</td>\n",
              "      <td>9.977019</td>\n",
              "      <td>4.858634</td>\n",
              "      <td>42.689819</td>\n",
              "      <td>68.347543</td>\n",
              "      <td>10.422762</td>\n",
              "      <td>0.883763</td>\n",
              "      <td>16.532835</td>\n",
              "      <td>2.146849</td>\n",
              "      <td>...</td>\n",
              "      <td>14.036510</td>\n",
              "      <td>-500.857308</td>\n",
              "      <td>11.999550</td>\n",
              "      <td>-501.193686</td>\n",
              "      <td>9.970366</td>\n",
              "      <td>-499.201640</td>\n",
              "      <td>7.977324</td>\n",
              "      <td>-500.255908</td>\n",
              "      <td>14.005551</td>\n",
              "      <td>-599.996129</td>\n",
              "    </tr>\n",
              "    <tr>\n",
              "      <td>4</td>\n",
              "      <td>2016-01-15 04:00:00</td>\n",
              "      <td>6.148599</td>\n",
              "      <td>10.142511</td>\n",
              "      <td>4.939416</td>\n",
              "      <td>42.774141</td>\n",
              "      <td>66.927016</td>\n",
              "      <td>10.360302</td>\n",
              "      <td>0.792826</td>\n",
              "      <td>16.525686</td>\n",
              "      <td>2.055292</td>\n",
              "      <td>...</td>\n",
              "      <td>14.027298</td>\n",
              "      <td>-499.838632</td>\n",
              "      <td>11.953070</td>\n",
              "      <td>-501.053894</td>\n",
              "      <td>9.925709</td>\n",
              "      <td>-501.686727</td>\n",
              "      <td>7.894242</td>\n",
              "      <td>-500.356035</td>\n",
              "      <td>13.996647</td>\n",
              "      <td>-601.496691</td>\n",
              "    </tr>\n",
              "  </tbody>\n",
              "</table>\n",
              "<p>5 rows × 87 columns</p>\n",
              "</div>"
            ],
            "text/plain": [
              "                  date  final.output.concentrate_ag  \\\n",
              "0  2016-01-15 00:00:00                     6.055403   \n",
              "1  2016-01-15 01:00:00                     6.029369   \n",
              "2  2016-01-15 02:00:00                     6.055926   \n",
              "3  2016-01-15 03:00:00                     6.047977   \n",
              "4  2016-01-15 04:00:00                     6.148599   \n",
              "\n",
              "   final.output.concentrate_pb  final.output.concentrate_sol  \\\n",
              "0                     9.889648                      5.507324   \n",
              "1                     9.968944                      5.257781   \n",
              "2                    10.213995                      5.383759   \n",
              "3                     9.977019                      4.858634   \n",
              "4                    10.142511                      4.939416   \n",
              "\n",
              "   final.output.concentrate_au  final.output.recovery  final.output.tail_ag  \\\n",
              "0                    42.192020              70.541216             10.411962   \n",
              "1                    42.701629              69.266198             10.462676   \n",
              "2                    42.657501              68.116445             10.507046   \n",
              "3                    42.689819              68.347543             10.422762   \n",
              "4                    42.774141              66.927016             10.360302   \n",
              "\n",
              "   final.output.tail_pb  final.output.tail_sol  final.output.tail_au  ...  \\\n",
              "0              0.895447              16.904297              2.143149  ...   \n",
              "1              0.927452              16.634514              2.224930  ...   \n",
              "2              0.953716              16.208849              2.257889  ...   \n",
              "3              0.883763              16.532835              2.146849  ...   \n",
              "4              0.792826              16.525686              2.055292  ...   \n",
              "\n",
              "   secondary_cleaner.state.floatbank4_a_air  \\\n",
              "0                                 14.016835   \n",
              "1                                 13.992281   \n",
              "2                                 14.015015   \n",
              "3                                 14.036510   \n",
              "4                                 14.027298   \n",
              "\n",
              "   secondary_cleaner.state.floatbank4_a_level  \\\n",
              "0                                 -502.488007   \n",
              "1                                 -505.503262   \n",
              "2                                 -502.520901   \n",
              "3                                 -500.857308   \n",
              "4                                 -499.838632   \n",
              "\n",
              "   secondary_cleaner.state.floatbank4_b_air  \\\n",
              "0                                 12.099931   \n",
              "1                                 11.950531   \n",
              "2                                 11.912783   \n",
              "3                                 11.999550   \n",
              "4                                 11.953070   \n",
              "\n",
              "   secondary_cleaner.state.floatbank4_b_level  \\\n",
              "0                                 -504.715942   \n",
              "1                                 -501.331529   \n",
              "2                                 -501.133383   \n",
              "3                                 -501.193686   \n",
              "4                                 -501.053894   \n",
              "\n",
              "   secondary_cleaner.state.floatbank5_a_air  \\\n",
              "0                                  9.925633   \n",
              "1                                 10.039245   \n",
              "2                                 10.070913   \n",
              "3                                  9.970366   \n",
              "4                                  9.925709   \n",
              "\n",
              "   secondary_cleaner.state.floatbank5_a_level  \\\n",
              "0                                 -498.310211   \n",
              "1                                 -500.169983   \n",
              "2                                 -500.129135   \n",
              "3                                 -499.201640   \n",
              "4                                 -501.686727   \n",
              "\n",
              "   secondary_cleaner.state.floatbank5_b_air  \\\n",
              "0                                  8.079666   \n",
              "1                                  7.984757   \n",
              "2                                  8.013877   \n",
              "3                                  7.977324   \n",
              "4                                  7.894242   \n",
              "\n",
              "   secondary_cleaner.state.floatbank5_b_level  \\\n",
              "0                                 -500.470978   \n",
              "1                                 -500.582168   \n",
              "2                                 -500.517572   \n",
              "3                                 -500.255908   \n",
              "4                                 -500.356035   \n",
              "\n",
              "   secondary_cleaner.state.floatbank6_a_air  \\\n",
              "0                                 14.151341   \n",
              "1                                 13.998353   \n",
              "2                                 14.028663   \n",
              "3                                 14.005551   \n",
              "4                                 13.996647   \n",
              "\n",
              "   secondary_cleaner.state.floatbank6_a_level  \n",
              "0                                 -605.841980  \n",
              "1                                 -599.787184  \n",
              "2                                 -601.427363  \n",
              "3                                 -599.996129  \n",
              "4                                 -601.496691  \n",
              "\n",
              "[5 rows x 87 columns]"
            ]
          },
          "execution_count": 3,
          "metadata": {},
          "output_type": "execute_result"
        }
      ]
    },
    {
      "cell_type": "code",
      "metadata": {
        "scrolled": true,
        "id": "BFcYPy8pANeR",
        "outputId": "aab7135f-d6ea-4e96-8980-b7cf449e44ca"
      },
      "source": [
        "data_test.info()\n",
        "data_test.head()"
      ],
      "execution_count": null,
      "outputs": [
        {
          "name": "stdout",
          "output_type": "stream",
          "text": [
            "<class 'pandas.core.frame.DataFrame'>\n",
            "RangeIndex: 5290 entries, 0 to 5289\n",
            "Data columns (total 53 columns):\n",
            "date                                          5290 non-null object\n",
            "primary_cleaner.input.sulfate                 5286 non-null float64\n",
            "primary_cleaner.input.depressant              5285 non-null float64\n",
            "primary_cleaner.input.feed_size               5290 non-null float64\n",
            "primary_cleaner.input.xanthate                5286 non-null float64\n",
            "primary_cleaner.state.floatbank8_a_air        5290 non-null float64\n",
            "primary_cleaner.state.floatbank8_a_level      5290 non-null float64\n",
            "primary_cleaner.state.floatbank8_b_air        5290 non-null float64\n",
            "primary_cleaner.state.floatbank8_b_level      5290 non-null float64\n",
            "primary_cleaner.state.floatbank8_c_air        5290 non-null float64\n",
            "primary_cleaner.state.floatbank8_c_level      5290 non-null float64\n",
            "primary_cleaner.state.floatbank8_d_air        5290 non-null float64\n",
            "primary_cleaner.state.floatbank8_d_level      5290 non-null float64\n",
            "rougher.input.feed_ag                         5290 non-null float64\n",
            "rougher.input.feed_pb                         5290 non-null float64\n",
            "rougher.input.feed_rate                       5287 non-null float64\n",
            "rougher.input.feed_size                       5289 non-null float64\n",
            "rougher.input.feed_sol                        5269 non-null float64\n",
            "rougher.input.feed_au                         5290 non-null float64\n",
            "rougher.input.floatbank10_sulfate             5285 non-null float64\n",
            "rougher.input.floatbank10_xanthate            5290 non-null float64\n",
            "rougher.input.floatbank11_sulfate             5282 non-null float64\n",
            "rougher.input.floatbank11_xanthate            5265 non-null float64\n",
            "rougher.state.floatbank10_a_air               5290 non-null float64\n",
            "rougher.state.floatbank10_a_level             5290 non-null float64\n",
            "rougher.state.floatbank10_b_air               5290 non-null float64\n",
            "rougher.state.floatbank10_b_level             5290 non-null float64\n",
            "rougher.state.floatbank10_c_air               5290 non-null float64\n",
            "rougher.state.floatbank10_c_level             5290 non-null float64\n",
            "rougher.state.floatbank10_d_air               5290 non-null float64\n",
            "rougher.state.floatbank10_d_level             5290 non-null float64\n",
            "rougher.state.floatbank10_e_air               5290 non-null float64\n",
            "rougher.state.floatbank10_e_level             5290 non-null float64\n",
            "rougher.state.floatbank10_f_air               5290 non-null float64\n",
            "rougher.state.floatbank10_f_level             5290 non-null float64\n",
            "secondary_cleaner.state.floatbank2_a_air      5287 non-null float64\n",
            "secondary_cleaner.state.floatbank2_a_level    5290 non-null float64\n",
            "secondary_cleaner.state.floatbank2_b_air      5288 non-null float64\n",
            "secondary_cleaner.state.floatbank2_b_level    5290 non-null float64\n",
            "secondary_cleaner.state.floatbank3_a_air      5281 non-null float64\n",
            "secondary_cleaner.state.floatbank3_a_level    5290 non-null float64\n",
            "secondary_cleaner.state.floatbank3_b_air      5290 non-null float64\n",
            "secondary_cleaner.state.floatbank3_b_level    5290 non-null float64\n",
            "secondary_cleaner.state.floatbank4_a_air      5290 non-null float64\n",
            "secondary_cleaner.state.floatbank4_a_level    5290 non-null float64\n",
            "secondary_cleaner.state.floatbank4_b_air      5290 non-null float64\n",
            "secondary_cleaner.state.floatbank4_b_level    5290 non-null float64\n",
            "secondary_cleaner.state.floatbank5_a_air      5290 non-null float64\n",
            "secondary_cleaner.state.floatbank5_a_level    5290 non-null float64\n",
            "secondary_cleaner.state.floatbank5_b_air      5290 non-null float64\n",
            "secondary_cleaner.state.floatbank5_b_level    5290 non-null float64\n",
            "secondary_cleaner.state.floatbank6_a_air      5290 non-null float64\n",
            "secondary_cleaner.state.floatbank6_a_level    5290 non-null float64\n",
            "dtypes: float64(52), object(1)\n",
            "memory usage: 2.1+ MB\n"
          ]
        },
        {
          "data": {
            "text/html": [
              "<div>\n",
              "<style scoped>\n",
              "    .dataframe tbody tr th:only-of-type {\n",
              "        vertical-align: middle;\n",
              "    }\n",
              "\n",
              "    .dataframe tbody tr th {\n",
              "        vertical-align: top;\n",
              "    }\n",
              "\n",
              "    .dataframe thead th {\n",
              "        text-align: right;\n",
              "    }\n",
              "</style>\n",
              "<table border=\"1\" class=\"dataframe\">\n",
              "  <thead>\n",
              "    <tr style=\"text-align: right;\">\n",
              "      <th></th>\n",
              "      <th>date</th>\n",
              "      <th>primary_cleaner.input.sulfate</th>\n",
              "      <th>primary_cleaner.input.depressant</th>\n",
              "      <th>primary_cleaner.input.feed_size</th>\n",
              "      <th>primary_cleaner.input.xanthate</th>\n",
              "      <th>primary_cleaner.state.floatbank8_a_air</th>\n",
              "      <th>primary_cleaner.state.floatbank8_a_level</th>\n",
              "      <th>primary_cleaner.state.floatbank8_b_air</th>\n",
              "      <th>primary_cleaner.state.floatbank8_b_level</th>\n",
              "      <th>primary_cleaner.state.floatbank8_c_air</th>\n",
              "      <th>...</th>\n",
              "      <th>secondary_cleaner.state.floatbank4_a_air</th>\n",
              "      <th>secondary_cleaner.state.floatbank4_a_level</th>\n",
              "      <th>secondary_cleaner.state.floatbank4_b_air</th>\n",
              "      <th>secondary_cleaner.state.floatbank4_b_level</th>\n",
              "      <th>secondary_cleaner.state.floatbank5_a_air</th>\n",
              "      <th>secondary_cleaner.state.floatbank5_a_level</th>\n",
              "      <th>secondary_cleaner.state.floatbank5_b_air</th>\n",
              "      <th>secondary_cleaner.state.floatbank5_b_level</th>\n",
              "      <th>secondary_cleaner.state.floatbank6_a_air</th>\n",
              "      <th>secondary_cleaner.state.floatbank6_a_level</th>\n",
              "    </tr>\n",
              "  </thead>\n",
              "  <tbody>\n",
              "    <tr>\n",
              "      <td>0</td>\n",
              "      <td>2016-09-01 00:59:59</td>\n",
              "      <td>210.800909</td>\n",
              "      <td>14.993118</td>\n",
              "      <td>8.080000</td>\n",
              "      <td>1.005021</td>\n",
              "      <td>1398.981301</td>\n",
              "      <td>-500.225577</td>\n",
              "      <td>1399.144926</td>\n",
              "      <td>-499.919735</td>\n",
              "      <td>1400.102998</td>\n",
              "      <td>...</td>\n",
              "      <td>12.023554</td>\n",
              "      <td>-497.795834</td>\n",
              "      <td>8.016656</td>\n",
              "      <td>-501.289139</td>\n",
              "      <td>7.946562</td>\n",
              "      <td>-432.317850</td>\n",
              "      <td>4.872511</td>\n",
              "      <td>-500.037437</td>\n",
              "      <td>26.705889</td>\n",
              "      <td>-499.709414</td>\n",
              "    </tr>\n",
              "    <tr>\n",
              "      <td>1</td>\n",
              "      <td>2016-09-01 01:59:59</td>\n",
              "      <td>215.392455</td>\n",
              "      <td>14.987471</td>\n",
              "      <td>8.080000</td>\n",
              "      <td>0.990469</td>\n",
              "      <td>1398.777912</td>\n",
              "      <td>-500.057435</td>\n",
              "      <td>1398.055362</td>\n",
              "      <td>-499.778182</td>\n",
              "      <td>1396.151033</td>\n",
              "      <td>...</td>\n",
              "      <td>12.058140</td>\n",
              "      <td>-498.695773</td>\n",
              "      <td>8.130979</td>\n",
              "      <td>-499.634209</td>\n",
              "      <td>7.958270</td>\n",
              "      <td>-525.839648</td>\n",
              "      <td>4.878850</td>\n",
              "      <td>-500.162375</td>\n",
              "      <td>25.019940</td>\n",
              "      <td>-499.819438</td>\n",
              "    </tr>\n",
              "    <tr>\n",
              "      <td>2</td>\n",
              "      <td>2016-09-01 02:59:59</td>\n",
              "      <td>215.259946</td>\n",
              "      <td>12.884934</td>\n",
              "      <td>7.786667</td>\n",
              "      <td>0.996043</td>\n",
              "      <td>1398.493666</td>\n",
              "      <td>-500.868360</td>\n",
              "      <td>1398.860436</td>\n",
              "      <td>-499.764529</td>\n",
              "      <td>1398.075709</td>\n",
              "      <td>...</td>\n",
              "      <td>11.962366</td>\n",
              "      <td>-498.767484</td>\n",
              "      <td>8.096893</td>\n",
              "      <td>-500.827423</td>\n",
              "      <td>8.071056</td>\n",
              "      <td>-500.801673</td>\n",
              "      <td>4.905125</td>\n",
              "      <td>-499.828510</td>\n",
              "      <td>24.994862</td>\n",
              "      <td>-500.622559</td>\n",
              "    </tr>\n",
              "    <tr>\n",
              "      <td>3</td>\n",
              "      <td>2016-09-01 03:59:59</td>\n",
              "      <td>215.336236</td>\n",
              "      <td>12.006805</td>\n",
              "      <td>7.640000</td>\n",
              "      <td>0.863514</td>\n",
              "      <td>1399.618111</td>\n",
              "      <td>-498.863574</td>\n",
              "      <td>1397.440120</td>\n",
              "      <td>-499.211024</td>\n",
              "      <td>1400.129303</td>\n",
              "      <td>...</td>\n",
              "      <td>12.033091</td>\n",
              "      <td>-498.350935</td>\n",
              "      <td>8.074946</td>\n",
              "      <td>-499.474407</td>\n",
              "      <td>7.897085</td>\n",
              "      <td>-500.868509</td>\n",
              "      <td>4.931400</td>\n",
              "      <td>-499.963623</td>\n",
              "      <td>24.948919</td>\n",
              "      <td>-498.709987</td>\n",
              "    </tr>\n",
              "    <tr>\n",
              "      <td>4</td>\n",
              "      <td>2016-09-01 04:59:59</td>\n",
              "      <td>199.099327</td>\n",
              "      <td>10.682530</td>\n",
              "      <td>7.530000</td>\n",
              "      <td>0.805575</td>\n",
              "      <td>1401.268123</td>\n",
              "      <td>-500.808305</td>\n",
              "      <td>1398.128818</td>\n",
              "      <td>-499.504543</td>\n",
              "      <td>1402.172226</td>\n",
              "      <td>...</td>\n",
              "      <td>12.025367</td>\n",
              "      <td>-500.786497</td>\n",
              "      <td>8.054678</td>\n",
              "      <td>-500.397500</td>\n",
              "      <td>8.107890</td>\n",
              "      <td>-509.526725</td>\n",
              "      <td>4.957674</td>\n",
              "      <td>-500.360026</td>\n",
              "      <td>25.003331</td>\n",
              "      <td>-500.856333</td>\n",
              "    </tr>\n",
              "  </tbody>\n",
              "</table>\n",
              "<p>5 rows × 53 columns</p>\n",
              "</div>"
            ],
            "text/plain": [
              "                  date  primary_cleaner.input.sulfate  \\\n",
              "0  2016-09-01 00:59:59                     210.800909   \n",
              "1  2016-09-01 01:59:59                     215.392455   \n",
              "2  2016-09-01 02:59:59                     215.259946   \n",
              "3  2016-09-01 03:59:59                     215.336236   \n",
              "4  2016-09-01 04:59:59                     199.099327   \n",
              "\n",
              "   primary_cleaner.input.depressant  primary_cleaner.input.feed_size  \\\n",
              "0                         14.993118                         8.080000   \n",
              "1                         14.987471                         8.080000   \n",
              "2                         12.884934                         7.786667   \n",
              "3                         12.006805                         7.640000   \n",
              "4                         10.682530                         7.530000   \n",
              "\n",
              "   primary_cleaner.input.xanthate  primary_cleaner.state.floatbank8_a_air  \\\n",
              "0                        1.005021                             1398.981301   \n",
              "1                        0.990469                             1398.777912   \n",
              "2                        0.996043                             1398.493666   \n",
              "3                        0.863514                             1399.618111   \n",
              "4                        0.805575                             1401.268123   \n",
              "\n",
              "   primary_cleaner.state.floatbank8_a_level  \\\n",
              "0                               -500.225577   \n",
              "1                               -500.057435   \n",
              "2                               -500.868360   \n",
              "3                               -498.863574   \n",
              "4                               -500.808305   \n",
              "\n",
              "   primary_cleaner.state.floatbank8_b_air  \\\n",
              "0                             1399.144926   \n",
              "1                             1398.055362   \n",
              "2                             1398.860436   \n",
              "3                             1397.440120   \n",
              "4                             1398.128818   \n",
              "\n",
              "   primary_cleaner.state.floatbank8_b_level  \\\n",
              "0                               -499.919735   \n",
              "1                               -499.778182   \n",
              "2                               -499.764529   \n",
              "3                               -499.211024   \n",
              "4                               -499.504543   \n",
              "\n",
              "   primary_cleaner.state.floatbank8_c_air  ...  \\\n",
              "0                             1400.102998  ...   \n",
              "1                             1396.151033  ...   \n",
              "2                             1398.075709  ...   \n",
              "3                             1400.129303  ...   \n",
              "4                             1402.172226  ...   \n",
              "\n",
              "   secondary_cleaner.state.floatbank4_a_air  \\\n",
              "0                                 12.023554   \n",
              "1                                 12.058140   \n",
              "2                                 11.962366   \n",
              "3                                 12.033091   \n",
              "4                                 12.025367   \n",
              "\n",
              "   secondary_cleaner.state.floatbank4_a_level  \\\n",
              "0                                 -497.795834   \n",
              "1                                 -498.695773   \n",
              "2                                 -498.767484   \n",
              "3                                 -498.350935   \n",
              "4                                 -500.786497   \n",
              "\n",
              "   secondary_cleaner.state.floatbank4_b_air  \\\n",
              "0                                  8.016656   \n",
              "1                                  8.130979   \n",
              "2                                  8.096893   \n",
              "3                                  8.074946   \n",
              "4                                  8.054678   \n",
              "\n",
              "   secondary_cleaner.state.floatbank4_b_level  \\\n",
              "0                                 -501.289139   \n",
              "1                                 -499.634209   \n",
              "2                                 -500.827423   \n",
              "3                                 -499.474407   \n",
              "4                                 -500.397500   \n",
              "\n",
              "   secondary_cleaner.state.floatbank5_a_air  \\\n",
              "0                                  7.946562   \n",
              "1                                  7.958270   \n",
              "2                                  8.071056   \n",
              "3                                  7.897085   \n",
              "4                                  8.107890   \n",
              "\n",
              "   secondary_cleaner.state.floatbank5_a_level  \\\n",
              "0                                 -432.317850   \n",
              "1                                 -525.839648   \n",
              "2                                 -500.801673   \n",
              "3                                 -500.868509   \n",
              "4                                 -509.526725   \n",
              "\n",
              "   secondary_cleaner.state.floatbank5_b_air  \\\n",
              "0                                  4.872511   \n",
              "1                                  4.878850   \n",
              "2                                  4.905125   \n",
              "3                                  4.931400   \n",
              "4                                  4.957674   \n",
              "\n",
              "   secondary_cleaner.state.floatbank5_b_level  \\\n",
              "0                                 -500.037437   \n",
              "1                                 -500.162375   \n",
              "2                                 -499.828510   \n",
              "3                                 -499.963623   \n",
              "4                                 -500.360026   \n",
              "\n",
              "   secondary_cleaner.state.floatbank6_a_air  \\\n",
              "0                                 26.705889   \n",
              "1                                 25.019940   \n",
              "2                                 24.994862   \n",
              "3                                 24.948919   \n",
              "4                                 25.003331   \n",
              "\n",
              "   secondary_cleaner.state.floatbank6_a_level  \n",
              "0                                 -499.709414  \n",
              "1                                 -499.819438  \n",
              "2                                 -500.622559  \n",
              "3                                 -498.709987  \n",
              "4                                 -500.856333  \n",
              "\n",
              "[5 rows x 53 columns]"
            ]
          },
          "execution_count": 4,
          "metadata": {},
          "output_type": "execute_result"
        }
      ]
    },
    {
      "cell_type": "markdown",
      "metadata": {
        "id": "3djMG4aJANeR"
      },
      "source": [
        "В обучающем датасете 87 столбцов, в то время как в тестовой выборке 53. Все столбцы имеют тип данных float, кроме даты с форматом object."
      ]
    },
    {
      "cell_type": "code",
      "metadata": {
        "id": "ynme9kgwANeS",
        "outputId": "883b4f14-d4e1-4955-87a7-9a87f2327718"
      },
      "source": [
        "data_train.duplicated().sum()"
      ],
      "execution_count": null,
      "outputs": [
        {
          "data": {
            "text/plain": [
              "0"
            ]
          },
          "execution_count": 5,
          "metadata": {},
          "output_type": "execute_result"
        }
      ]
    },
    {
      "cell_type": "code",
      "metadata": {
        "id": "qK1z3FJHANeS",
        "outputId": "c19fd380-bf23-46be-fb4f-d139c5dca0c0"
      },
      "source": [
        "data_test.duplicated().sum()"
      ],
      "execution_count": null,
      "outputs": [
        {
          "data": {
            "text/plain": [
              "0"
            ]
          },
          "execution_count": 6,
          "metadata": {},
          "output_type": "execute_result"
        }
      ]
    },
    {
      "cell_type": "code",
      "metadata": {
        "id": "PUTbvefQANeT",
        "outputId": "67a451b2-6414-42d7-8f8f-49e7026580c7"
      },
      "source": [
        "data_full.duplicated().sum()"
      ],
      "execution_count": null,
      "outputs": [
        {
          "data": {
            "text/plain": [
              "0"
            ]
          },
          "execution_count": 7,
          "metadata": {},
          "output_type": "execute_result"
        }
      ]
    },
    {
      "cell_type": "markdown",
      "metadata": {
        "id": "Dx3vVzFQANeU"
      },
      "source": [
        "Дубликатов в данных не обнаружено.\n",
        "\n",
        "Проверим расчет эффективности обогащения, вычислим её на обучающей выборке для признака *rougher.output.recovery*. Найдем MAE между расчётами и значением признака."
      ]
    },
    {
      "cell_type": "code",
      "metadata": {
        "id": "G_3cUqH3ANeU"
      },
      "source": [
        "c = data_train['rougher.output.concentrate_au'].fillna(0) #доля золота в концентрате после флотации/очистки\n",
        "f = data_train['rougher.input.feed_au'].fillna(0) #доля золота в сырье/концентрате до флотации/очистки\n",
        "t = data_train['rougher.output.tail_au'].fillna(0) #доля золота в отвальных хвостах после флотации/очистки"
      ],
      "execution_count": null,
      "outputs": []
    },
    {
      "cell_type": "code",
      "metadata": {
        "id": "F_zeS8iOANeV"
      },
      "source": [
        "recovery = c*(f-t)/(f*(c-t))*100"
      ],
      "execution_count": null,
      "outputs": []
    },
    {
      "cell_type": "code",
      "metadata": {
        "id": "nlLncFO8ANeV"
      },
      "source": [
        "recovery_target = data_train['rougher.output.recovery'].fillna(0)"
      ],
      "execution_count": null,
      "outputs": []
    },
    {
      "cell_type": "code",
      "metadata": {
        "id": "tUWbf6YgANeV",
        "outputId": "3d8dbeba-f0c5-49c2-f59d-3e54f87f5492"
      },
      "source": [
        "mae = mean_absolute_error(recovery_target,recovery)\n",
        "print(\"Средняя абсолютная ошибка:\", mae)"
      ],
      "execution_count": null,
      "outputs": [
        {
          "name": "stdout",
          "output_type": "stream",
          "text": [
            "Средняя абсолютная ошибка: 9.682896147825551e-15\n"
          ]
        }
      ]
    },
    {
      "cell_type": "markdown",
      "metadata": {
        "id": "KZS1KusYANeW"
      },
      "source": [
        "Получили значение средней абсолютной ошибки - 9.7 x 10^(-15), что является минимальным, значит эффективность обогащения рассчитана правильно."
      ]
    },
    {
      "cell_type": "markdown",
      "metadata": {
        "id": "b_zmERdEANeW"
      },
      "source": [
        "Проанализируйте признаки, недоступные в тестовой выборке. Что это за параметры? К какому типу относятся?\n"
      ]
    },
    {
      "cell_type": "code",
      "metadata": {
        "id": "qm4qxVFJANeX",
        "outputId": "79173f67-b209-4e5e-f000-6d638c0e188f"
      },
      "source": [
        "different_columns = data_train.columns.difference(data_test.columns)\n",
        "print(different_columns)\n",
        "print()\n",
        "print(\"Количество отсутствующих столбцов:\",len(different_columns))"
      ],
      "execution_count": null,
      "outputs": [
        {
          "name": "stdout",
          "output_type": "stream",
          "text": [
            "Index(['final.output.concentrate_ag', 'final.output.concentrate_au',\n",
            "       'final.output.concentrate_pb', 'final.output.concentrate_sol',\n",
            "       'final.output.recovery', 'final.output.tail_ag', 'final.output.tail_au',\n",
            "       'final.output.tail_pb', 'final.output.tail_sol',\n",
            "       'primary_cleaner.output.concentrate_ag',\n",
            "       'primary_cleaner.output.concentrate_au',\n",
            "       'primary_cleaner.output.concentrate_pb',\n",
            "       'primary_cleaner.output.concentrate_sol',\n",
            "       'primary_cleaner.output.tail_ag', 'primary_cleaner.output.tail_au',\n",
            "       'primary_cleaner.output.tail_pb', 'primary_cleaner.output.tail_sol',\n",
            "       'rougher.calculation.au_pb_ratio',\n",
            "       'rougher.calculation.floatbank10_sulfate_to_au_feed',\n",
            "       'rougher.calculation.floatbank11_sulfate_to_au_feed',\n",
            "       'rougher.calculation.sulfate_to_au_concentrate',\n",
            "       'rougher.output.concentrate_ag', 'rougher.output.concentrate_au',\n",
            "       'rougher.output.concentrate_pb', 'rougher.output.concentrate_sol',\n",
            "       'rougher.output.recovery', 'rougher.output.tail_ag',\n",
            "       'rougher.output.tail_au', 'rougher.output.tail_pb',\n",
            "       'rougher.output.tail_sol', 'secondary_cleaner.output.tail_ag',\n",
            "       'secondary_cleaner.output.tail_au', 'secondary_cleaner.output.tail_pb',\n",
            "       'secondary_cleaner.output.tail_sol'],\n",
            "      dtype='object')\n",
            "\n",
            "Количество отсутствующих столбцов: 34\n"
          ]
        }
      ]
    },
    {
      "cell_type": "markdown",
      "metadata": {
        "id": "inmN2lH_ANeX"
      },
      "source": [
        "Среди столбцов, отсутствующих в тестовой выборке можем видеть столбцы *final.output, primary_cleaner.output, rougher.calculation, rougher.output, secondary_cleaner.output*. Из них блоки output являются параметрами продукта, а calculation - расчетной характеристикой. Всего столбцов 34.\n",
        "\n",
        "Среди отсутствующих столбцов имеются целевые признаки: *final.output.recovery и rougher.output.recovery*, поэтому восстановим их из датасета *data_full* с помощью общего столбца *date*."
      ]
    },
    {
      "cell_type": "code",
      "metadata": {
        "id": "t8z-E9tBANeY"
      },
      "source": [
        "data_test = data_test.merge(data_full[['date', 'rougher.output.recovery', 'final.output.recovery']],\n",
        "                            on='date', how='left')"
      ],
      "execution_count": null,
      "outputs": []
    },
    {
      "cell_type": "markdown",
      "metadata": {
        "id": "nT7Niq2rANeY"
      },
      "source": [
        "Так как данные индексируются датой и временем получения информации, и соседние по времени параметры часто похожи, заполним пропуски методом ffill, который использует для этого предыдущее значение в столбце."
      ]
    },
    {
      "cell_type": "code",
      "metadata": {
        "id": "UsjVJwduANeY"
      },
      "source": [
        "data_test=data_test.ffill(axis=0)\n",
        "data_train=data_train.ffill(axis=0)\n",
        "data_full=data_full.ffill(axis=0)"
      ],
      "execution_count": null,
      "outputs": []
    },
    {
      "cell_type": "code",
      "metadata": {
        "id": "GemCHvl9ANeZ",
        "outputId": "b22b2b0d-2d3c-472d-fa47-b5ad281a9726"
      },
      "source": [
        "data_test.shape"
      ],
      "execution_count": null,
      "outputs": [
        {
          "data": {
            "text/plain": [
              "(5290, 55)"
            ]
          },
          "execution_count": 15,
          "metadata": {},
          "output_type": "execute_result"
        }
      ]
    },
    {
      "cell_type": "markdown",
      "metadata": {
        "id": "O5TSl-vNANeZ"
      },
      "source": [
        "<b>Вывод</b>\n",
        "\n",
        "В данном шаге были изучены файлы, проведена предобработка данных:\n",
        "- дубликаты были не обнаружены;\n",
        "- пропущенные значения заменены методом ffill;\n",
        "- в тестовую выборку были добавлены целевые признаки;\n",
        "- из обучающей выборки были удалены признаки, которых нет в тестовой;\n",
        "- был проверен расчет эффективности обогащения."
      ]
    },
    {
      "cell_type": "markdown",
      "metadata": {
        "id": "i1kOUZ9CANea"
      },
      "source": [
        "## Анализ данных"
      ]
    },
    {
      "cell_type": "markdown",
      "metadata": {
        "id": "PmXBTJYsANea"
      },
      "source": [
        "Посмотрим, как меняется концентрация металлов (Au, Ag, Pb) на различных этапах очистки. Для лучшей репрезентации построим графики."
      ]
    },
    {
      "cell_type": "code",
      "metadata": {
        "id": "pugPrwvUANea",
        "outputId": "ab0b1c3a-08a7-4135-d4d2-bc66d0ba2ce9"
      },
      "source": [
        "df = pd.DataFrame(data = data_full, columns = ['rougher.input.feed_au','rougher.output.concentrate_au',\n",
        "                     'primary_cleaner.output.concentrate_au','final.output.concentrate_au'])\n",
        "\n",
        "plt.figure(figsize=(14,10))\n",
        "sns.boxplot(x=\"variable\", y=\"value\", data=pd.melt(df)).set_title('Концентрация золота на различных этапах очистки')"
      ],
      "execution_count": null,
      "outputs": [
        {
          "data": {
            "text/plain": [
              "Text(0.5, 1.0, 'Концентрация золота на различных этапах очистки')"
            ]
          },
          "execution_count": 16,
          "metadata": {},
          "output_type": "execute_result"
        },
        {
          "data": {
            "image/png": "[encoded data removed]",
            "text/plain": [
              "<Figure size 1008x720 with 1 Axes>"
            ]
          },
          "metadata": {
            "needs_background": "light"
          },
          "output_type": "display_data"
        }
      ]
    },
    {
      "cell_type": "code",
      "metadata": {
        "id": "QnGAyn3SANeb",
        "outputId": "6ccdde55-ec58-4e27-889a-4587d0102dcf"
      },
      "source": [
        "df = pd.DataFrame(data = data_full, columns = ['rougher.input.feed_ag','rougher.output.concentrate_ag',\n",
        "                     'primary_cleaner.output.concentrate_ag','final.output.concentrate_ag'])\n",
        "\n",
        "plt.figure(figsize=(14,10))\n",
        "sns.boxplot(x=\"variable\", y=\"value\", data=pd.melt(df)).set_title('Концентрация серебра на различных этапах очистки')"
      ],
      "execution_count": null,
      "outputs": [
        {
          "data": {
            "text/plain": [
              "Text(0.5, 1.0, 'Концентрация серебра на различных этапах очистки')"
            ]
          },
          "execution_count": 17,
          "metadata": {},
          "output_type": "execute_result"
        },
        {
          "data": {
            "image/png": "[encoded data removed]",
            "text/plain": [
              "<Figure size 1008x720 with 1 Axes>"
            ]
          },
          "metadata": {
            "needs_background": "light"
          },
          "output_type": "display_data"
        }
      ]
    },
    {
      "cell_type": "code",
      "metadata": {
        "id": "fFRWbLA7ANeb",
        "outputId": "47c6fa76-610f-468f-abc2-69ce15ece847"
      },
      "source": [
        "df = pd.DataFrame(data = data_full, columns = ['rougher.input.feed_pb','rougher.output.concentrate_pb',\n",
        "                     'primary_cleaner.output.concentrate_pb','final.output.concentrate_pb'])\n",
        "\n",
        "plt.figure(figsize=(14,10))\n",
        "sns.boxplot(x=\"variable\", y=\"value\", data=pd.melt(df)).set_title('Концентрация свинца на различных этапах очистки')"
      ],
      "execution_count": null,
      "outputs": [
        {
          "data": {
            "text/plain": [
              "Text(0.5, 1.0, 'Концентрация свинца на различных этапах очистки')"
            ]
          },
          "execution_count": 18,
          "metadata": {},
          "output_type": "execute_result"
        },
        {
          "data": {
            "image/png": "[encoded data removed]",
            "text/plain": [
              "<Figure size 1008x720 with 1 Axes>"
            ]
          },
          "metadata": {
            "needs_background": "light"
          },
          "output_type": "display_data"
        }
      ]
    },
    {
      "cell_type": "markdown",
      "metadata": {
        "id": "E32eyOmRANeb"
      },
      "source": [
        "Исходя из графиков, видим, что концентрация золота возрастает на каждом этапе очистки. В то время как концентрация серебра максимальна в черновом концентрате после флотации и уменьшается с последующими этапами очистки. Концентрация свинца увеличивается, после первого этапа немного возросла медиана и уменьшился разброс значений. \n",
        "\n",
        "Сравним распределения размеров гранул сырья на обучающей и тестовой выборках."
      ]
    },
    {
      "cell_type": "code",
      "metadata": {
        "scrolled": false,
        "id": "XHYnJ6nYANec",
        "outputId": "0556b2f8-2b88-4bc6-9135-6c2453d903a7"
      },
      "source": [
        "plt.figure(figsize=(8,5))\n",
        "\n",
        "sns.distplot(data_train['rougher.input.feed_size'], label='Обучающая выборка').set_title('Размеры гранул сырья')\n",
        "sns.distplot(data_test['rougher.input.feed_size'], label='Тестовая выборка')\n",
        "plt.legend()"
      ],
      "execution_count": null,
      "outputs": [
        {
          "data": {
            "text/plain": [
              "<matplotlib.legend.Legend at 0x7f88a032cb90>"
            ]
          },
          "execution_count": 19,
          "metadata": {},
          "output_type": "execute_result"
        },
        {
          "data": {
            "image/png": "[encoded data removed]",
            "text/plain": [
              "<Figure size 576x360 with 1 Axes>"
            ]
          },
          "metadata": {
            "needs_background": "light"
          },
          "output_type": "display_data"
        }
      ]
    },
    {
      "cell_type": "code",
      "metadata": {
        "id": "NsMZxJqpANec",
        "outputId": "a753051d-141d-49c4-dbb7-d2b8e0152992"
      },
      "source": [
        "data_train['rougher.input.feed_size'].mean()"
      ],
      "execution_count": null,
      "outputs": [
        {
          "data": {
            "text/plain": [
              "60.23985599255732"
            ]
          },
          "execution_count": 20,
          "metadata": {},
          "output_type": "execute_result"
        }
      ]
    },
    {
      "cell_type": "code",
      "metadata": {
        "id": "hFAl1XKoANed",
        "outputId": "be0aeb33-099a-4101-f546-b8131a1ea6c4"
      },
      "source": [
        "data_test['rougher.input.feed_size'].mean()"
      ],
      "execution_count": null,
      "outputs": [
        {
          "data": {
            "text/plain": [
              "55.95275402889513"
            ]
          },
          "execution_count": 21,
          "metadata": {},
          "output_type": "execute_result"
        }
      ]
    },
    {
      "cell_type": "markdown",
      "metadata": {
        "id": "YBl796RbANee"
      },
      "source": [
        "Исходя из графиков и полученных средних значений, видим, что размеры гранул сырья на обучающей и тестовой выборках отличаются немного, но не сильно.\n",
        "\n",
        "Исследуем суммарную концентрацию всех веществ на разных стадиях: в сырье, в черновом и финальном концентратах."
      ]
    },
    {
      "cell_type": "code",
      "metadata": {
        "id": "6keuQ7sjANee",
        "outputId": "0d5330f1-ea9e-49e9-b55e-820d3bec6612"
      },
      "source": [
        "total = pd.DataFrame()\n",
        "\n",
        "\n",
        "total['rougher_input'] = data_train['rougher.input.feed_au']+data_train[\n",
        "    'rougher.input.feed_ag']+data_train['rougher.input.feed_pb']\n",
        "\n",
        "total['rougher_output'] = data_train['rougher.output.concentrate_au']+data_train[\n",
        "    'rougher.output.concentrate_ag']+data_train['rougher.output.concentrate_pb']\n",
        "\n",
        "total['primary_output'] = data_train['primary_cleaner.output.concentrate_au']+data_train[\n",
        "    'primary_cleaner.output.concentrate_ag']+data_train['primary_cleaner.output.concentrate_pb']\n",
        "\n",
        "total['final_output'] = data_train['final.output.concentrate_au']+data_train[\n",
        "    'final.output.concentrate_ag']+data_train['final.output.concentrate_pb']\n",
        "\n",
        "\n",
        "plt.figure(figsize=(10,7))\n",
        "\n",
        "\n",
        "sns.distplot(total['rougher_input'], label='Сырье').set_title('Суммарная концентрация всех веществ на разных стадиях')\n",
        "sns.distplot(total['rougher_output'], label='Черновой концентрат')\n",
        "sns.distplot(total['primary_output'], label='После первой очистки')\n",
        "sns.distplot(total['final_output'], label='Финальный концентрат')\n",
        "\n",
        "\n",
        "plt.legend()"
      ],
      "execution_count": null,
      "outputs": [
        {
          "data": {
            "text/plain": [
              "<matplotlib.legend.Legend at 0x7f88a0224390>"
            ]
          },
          "execution_count": 22,
          "metadata": {},
          "output_type": "execute_result"
        },
        {
          "data": {
            "image/png": "[encoded data removed]",
            "text/plain": [
              "<Figure size 720x504 with 1 Axes>"
            ]
          },
          "metadata": {
            "needs_background": "light"
          },
          "output_type": "display_data"
        }
      ]
    },
    {
      "cell_type": "markdown",
      "metadata": {
        "id": "XxDQn2Q3ANef"
      },
      "source": [
        "На графике суммарной концентрации видим значения 0. В суммарной руде общее значение, равное 0, невозможно, так как минимум одно из веществ присутствовать должно. Поэтому удалим из тренировочной выборки строки, где каждая из концентраций металлов равна 0."
      ]
    },
    {
      "cell_type": "code",
      "metadata": {
        "id": "rnl7w_bTANef"
      },
      "source": [
        "data_train = data_train[(data_train['rougher.input.feed_au'] > 0) & (\n",
        "    data_train['rougher.input.feed_ag'] > 0) & (data_train['rougher.input.feed_pb'] > 0)]\n",
        "\n",
        "data_train = data_train[(data_train['rougher.output.concentrate_au'] > 0) & (\n",
        "    data_train['rougher.output.concentrate_ag'] > 0) & (data_train['rougher.output.concentrate_pb'] > 0)]\n",
        "\n",
        "data_train = data_train[(data_train['primary_cleaner.output.concentrate_au'] > 0) & (\n",
        "    data_train['primary_cleaner.output.concentrate_ag'] > 0) & (data_train[\n",
        "    'primary_cleaner.output.concentrate_pb'] > 0)]\n",
        "\n",
        "data_train = data_train[(data_train['final.output.concentrate_au'] > 0) & (\n",
        "    data_train['final.output.concentrate_ag'] > 0) & (data_train['final.output.concentrate_pb'] > 0)]"
      ],
      "execution_count": null,
      "outputs": []
    },
    {
      "cell_type": "markdown",
      "metadata": {
        "id": "IiZ-VzzFANef"
      },
      "source": [
        "Перейдем к построению модели."
      ]
    },
    {
      "cell_type": "markdown",
      "metadata": {
        "id": "9aBwZ2LeANeg"
      },
      "source": [
        "## Модель"
      ]
    },
    {
      "cell_type": "markdown",
      "metadata": {
        "id": "gW2sGg6wANeh"
      },
      "source": [
        "Напишем функцию для вычисления итоговой sMAPE."
      ]
    },
    {
      "cell_type": "code",
      "metadata": {
        "id": "lO7GbYayANeh"
      },
      "source": [
        "def smape(target, predictions):\n",
        "    a = abs(target-predictions)\n",
        "    b = (abs(target)+abs(predictions))/2\n",
        "    error = a/b\n",
        "    return error.sum()/error.shape[0]*100"
      ],
      "execution_count": null,
      "outputs": []
    },
    {
      "cell_type": "code",
      "metadata": {
        "id": "mpAibje3ANeh"
      },
      "source": [
        "def smape_final(rougher,final):\n",
        "    final_result = 0.25*rougher+0.75*final\n",
        "    return final_result"
      ],
      "execution_count": null,
      "outputs": []
    },
    {
      "cell_type": "markdown",
      "metadata": {
        "id": "jKVBqPsbANeh"
      },
      "source": [
        "Перейдем к обучению моделей. \n",
        "\n",
        "Удалим столбцы, которых нет в тестовой выборке, из обучающего датасета. Также удалим столбцы date и сделаем масштабирование признаков."
      ]
    },
    {
      "cell_type": "code",
      "metadata": {
        "id": "4HG7Dy9cANei"
      },
      "source": [
        "different_columns = data_train.columns.difference(data_test.columns)\n",
        "data_train.drop(different_columns, axis=1, inplace=True)"
      ],
      "execution_count": null,
      "outputs": []
    },
    {
      "cell_type": "code",
      "metadata": {
        "id": "0zS7y7TMANei",
        "outputId": "92678baf-61b4-413f-e49e-f234515ff547"
      },
      "source": [
        "data_train.shape, data_test.shape"
      ],
      "execution_count": null,
      "outputs": [
        {
          "data": {
            "text/plain": [
              "((13720, 55), (5290, 55))"
            ]
          },
          "execution_count": 27,
          "metadata": {},
          "output_type": "execute_result"
        }
      ]
    },
    {
      "cell_type": "code",
      "metadata": {
        "id": "1z6EBFcmANei"
      },
      "source": [
        "data_test.drop(['date'], axis=1, inplace=True)\n",
        "data_train.drop(['date'], axis=1, inplace=True)"
      ],
      "execution_count": null,
      "outputs": []
    },
    {
      "cell_type": "code",
      "metadata": {
        "id": "IiUbQQ95ANej"
      },
      "source": [
        "features_train = data_train.drop(['rougher.output.recovery', 'final.output.recovery'], axis=1)\n",
        "target_train = data_train[['rougher.output.recovery', 'final.output.recovery']]\n",
        "features_test = data_test.drop(['rougher.output.recovery', 'final.output.recovery'], axis=1)\n",
        "target_test = data_test[['rougher.output.recovery', 'final.output.recovery']]"
      ],
      "execution_count": null,
      "outputs": []
    },
    {
      "cell_type": "code",
      "metadata": {
        "id": "nYCjduzHANej",
        "outputId": "c46b96cc-6b0a-4773-d652-70736a98fd1d"
      },
      "source": [
        "features_train.shape, features_test.shape"
      ],
      "execution_count": null,
      "outputs": [
        {
          "data": {
            "text/plain": [
              "((13720, 52), (5290, 52))"
            ]
          },
          "execution_count": 30,
          "metadata": {},
          "output_type": "execute_result"
        }
      ]
    },
    {
      "cell_type": "code",
      "metadata": {
        "id": "Bz7Cu0GhANej",
        "outputId": "eb5757bb-c584-412a-cb67-8a33f0c2df51"
      },
      "source": [
        "scaler = StandardScaler()\n",
        "scaler.fit(features_train)"
      ],
      "execution_count": null,
      "outputs": [
        {
          "data": {
            "text/plain": [
              "StandardScaler(copy=True, with_mean=True, with_std=True)"
            ]
          },
          "execution_count": 31,
          "metadata": {},
          "output_type": "execute_result"
        }
      ]
    },
    {
      "cell_type": "code",
      "metadata": {
        "id": "ZxNv-TXHANek"
      },
      "source": [
        "features_train = scaler.transform(features_train) \n",
        "features_test = scaler.transform(features_test) "
      ],
      "execution_count": null,
      "outputs": []
    },
    {
      "cell_type": "code",
      "metadata": {
        "id": "eaj3hKViANek"
      },
      "source": [
        "smape_score = make_scorer(smape,greater_is_better=False)"
      ],
      "execution_count": null,
      "outputs": []
    },
    {
      "cell_type": "markdown",
      "metadata": {
        "id": "yq9MQ7YHANel"
      },
      "source": [
        "Рассмотрим модель дерева решений:"
      ]
    },
    {
      "cell_type": "code",
      "metadata": {
        "id": "ejR3euojANel",
        "outputId": "43120084-201f-4a5b-ad7e-e207bd6377ab"
      },
      "source": [
        "model = DecisionTreeRegressor(random_state=12345)\n",
        "\n",
        "parameters = {'max_depth': range (1,10)}\n",
        "\n",
        "grid_rougher = GridSearchCV(model, param_grid = parameters, scoring = smape_score, cv = 5)\n",
        "grid_final = GridSearchCV(model, param_grid = parameters, scoring = smape_score, cv = 5)\n",
        "\n",
        "grid_rougher.fit(features_train,target_train['rougher.output.recovery'])\n",
        "grid_final.fit(features_train,target_train['final.output.recovery'])\n",
        "\n",
        "print(grid_rougher.best_params_)\n",
        "print(grid_final.best_params_)\n",
        "print(\"sMAPE_rougher:\", grid_rougher.best_score_)\n",
        "print(\"sMAPE_final:\", grid_final.best_score_)"
      ],
      "execution_count": null,
      "outputs": [
        {
          "name": "stdout",
          "output_type": "stream",
          "text": [
            "{'max_depth': 4}\n",
            "{'max_depth': 3}\n",
            "sMAPE_rougher: -7.310586361601211\n",
            "sMAPE_final: -9.429629211565238\n"
          ]
        }
      ]
    },
    {
      "cell_type": "code",
      "metadata": {
        "id": "ArggeCRoANel",
        "outputId": "f307c1c7-a711-49a4-f96e-3c870eec23fc"
      },
      "source": [
        "smape_result = smape_final(abs(grid_rougher.best_score_),abs(grid_final.best_score_))\n",
        "print(\"Итоговое sMAPE дерева решений:\",smape_result)"
      ],
      "execution_count": null,
      "outputs": [
        {
          "name": "stdout",
          "output_type": "stream",
          "text": [
            "Итоговое sMAPE дерева решений: 8.899868499074232\n"
          ]
        }
      ]
    },
    {
      "cell_type": "markdown",
      "metadata": {
        "id": "d2-Uu1L_ANem"
      },
      "source": [
        "Перейдем к модели случайного леса:"
      ]
    },
    {
      "cell_type": "code",
      "metadata": {
        "id": "9OA2jkUeANem",
        "outputId": "4f9baf51-0b04-4969-bd17-02425d6432e5"
      },
      "source": [
        "model = RandomForestRegressor(random_state=12345)\n",
        "\n",
        "parameters = {'max_depth': range (1,5), 'n_estimators': range (10, 31, 10), 'min_samples_leaf': range(1,3)}\n",
        "\n",
        "grid_rougher = GridSearchCV(model, param_grid = parameters, scoring = smape_score, cv = 5)\n",
        "grid_final = GridSearchCV(model, param_grid = parameters, scoring = smape_score, cv = 5)\n",
        "\n",
        "grid_rougher.fit(features_train,target_train['rougher.output.recovery'])\n",
        "grid_final.fit(features_train,target_train['final.output.recovery'])\n",
        "\n",
        "print(grid_rougher.best_params_)\n",
        "print(grid_final.best_params_)\n",
        "print(\"sMAPE_rougher:\", grid_rougher.best_score_)\n",
        "print(\"sMAPE_final:\",grid_final.best_score_)"
      ],
      "execution_count": null,
      "outputs": [
        {
          "name": "stdout",
          "output_type": "stream",
          "text": [
            "{'max_depth': 3, 'min_samples_leaf': 2, 'n_estimators': 30}\n",
            "{'max_depth': 4, 'min_samples_leaf': 1, 'n_estimators': 20}\n",
            "sMAPE_rougher: -6.649749879936995\n",
            "sMAPE_final: -8.961573112802748\n"
          ]
        }
      ]
    },
    {
      "cell_type": "code",
      "metadata": {
        "id": "yz3HC46XANem",
        "outputId": "fc3861c2-a8b3-40fb-e322-5c5da71b132f"
      },
      "source": [
        "smape_result = smape_final(abs(grid_rougher.best_score_), abs(grid_final.best_score_))\n",
        "print(\"Итоговое sMAPE случайного леса:\",smape_result)"
      ],
      "execution_count": null,
      "outputs": [
        {
          "name": "stdout",
          "output_type": "stream",
          "text": [
            "Итоговое sMAPE случайного леса: 8.383617304586311\n"
          ]
        }
      ]
    },
    {
      "cell_type": "markdown",
      "metadata": {
        "id": "a_jH69QuANem"
      },
      "source": [
        "<b> Проверка лучшей модели на тестовой выборке </b>\n",
        "\n",
        "Лучшей моделью оказалась RandomForestRegressor. Рассчитаем итоговый sMAPE."
      ]
    },
    {
      "cell_type": "code",
      "metadata": {
        "id": "UoajHw1fANen"
      },
      "source": [
        "model = RandomForestRegressor(random_state=12345, max_depth=3, min_samples_leaf=2, n_estimators=30)\n",
        "\n",
        "model.fit(features_train,target_train['rougher.output.recovery'])\n",
        "predicted_test= model.predict(features_test)\n",
        "\n",
        "rougher_score = smape(target_test['rougher.output.recovery'], predicted_test)"
      ],
      "execution_count": null,
      "outputs": []
    },
    {
      "cell_type": "code",
      "metadata": {
        "id": "-U6_LNwkANen"
      },
      "source": [
        "model = RandomForestRegressor(random_state=12345, max_depth=4, min_samples_leaf=1, n_estimators=20)\n",
        "\n",
        "model.fit(features_train,target_train['final.output.recovery'])\n",
        "predicted_test= model.predict(features_test)\n",
        "\n",
        "final_score = smape(target_test['final.output.recovery'], predicted_test)"
      ],
      "execution_count": null,
      "outputs": []
    },
    {
      "cell_type": "code",
      "metadata": {
        "id": "P5QnVQ1_ANen",
        "outputId": "3ef1869d-6c3c-49dd-cd09-58a5d223ae83"
      },
      "source": [
        "test_final_smape = smape_final(rougher_score,final_score)\n",
        "\n",
        "print(test_final_smape)"
      ],
      "execution_count": null,
      "outputs": [
        {
          "name": "stdout",
          "output_type": "stream",
          "text": [
            "9.603261784370023\n"
          ]
        }
      ]
    },
    {
      "cell_type": "markdown",
      "metadata": {
        "id": "Ntlj5Rd9ANen"
      },
      "source": [
        "<b>Сравним результат с константной моделью</b>"
      ]
    },
    {
      "cell_type": "code",
      "metadata": {
        "id": "ff8-9yZ4ANeo",
        "outputId": "5e5cbbd1-d769-446f-eaa1-7a5664f137c9"
      },
      "source": [
        "dummy_rougher = DummyRegressor(strategy=\"mean\")\n",
        "dummy_final = DummyRegressor(strategy=\"mean\")\n",
        "\n",
        "dummy_rougher.fit(features_train,target_train['rougher.output.recovery'])\n",
        "dummy_final.fit(features_train,target_train['final.output.recovery'])\n",
        "\n",
        "dummy_r_test = dummy_rougher.predict(features_test)\n",
        "dummy_f_test = dummy_final.predict(features_test)\n",
        "\n",
        "smape_final(smape(target_test['rougher.output.recovery'],dummy_r_test), \n",
        "            smape(target_test['final.output.recovery'],dummy_f_test))"
      ],
      "execution_count": null,
      "outputs": [
        {
          "data": {
            "text/plain": [
              "9.828785881311733"
            ]
          },
          "execution_count": 41,
          "metadata": {},
          "output_type": "execute_result"
        }
      ]
    },
    {
      "cell_type": "markdown",
      "metadata": {
        "id": "FqzPSZ1gANeo"
      },
      "source": [
        "Получили прогноз по среднему 9.82, результат на модели меньше чем на константной, поэтому его можно считать приемлемым. "
      ]
    },
    {
      "cell_type": "markdown",
      "metadata": {
        "id": "om3W7e09ANep"
      },
      "source": [
        "## Общий вывод"
      ]
    },
    {
      "cell_type": "markdown",
      "metadata": {
        "id": "QNBUQe7jANep"
      },
      "source": [
        "В данном проекте были проанализированы и предобработы данные и построена модель, предсказывающая коэффициент восстановления золота из золотосодержащей руды. Были рассмотрены три модели: DecisionTreeRegressor и RandomForestClassifier, лучшей из них оказалась <b>RandomForestClassifier</b> с итоговым sMAPE на тестовой выборке 9.6. "
      ]
    }
  ]
}