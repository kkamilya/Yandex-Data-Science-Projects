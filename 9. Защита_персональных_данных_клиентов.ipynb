{
  "nbformat": 4,
  "nbformat_minor": 0,
  "metadata": {
    "ExecuteTimeLog": [
      {
        "duration": 1059,
        "start_time": "2021-10-20T07:12:22.815Z"
      },
      {
        "duration": 18,
        "start_time": "2021-10-20T07:13:17.952Z"
      },
      {
        "duration": 394,
        "start_time": "2021-10-21T07:10:09.930Z"
      },
      {
        "duration": 1112,
        "start_time": "2021-10-21T07:10:12.175Z"
      },
      {
        "duration": 19,
        "start_time": "2021-10-21T07:10:14.313Z"
      },
      {
        "duration": 19,
        "start_time": "2021-10-21T07:10:15.499Z"
      },
      {
        "duration": 3,
        "start_time": "2021-10-21T07:21:35.155Z"
      },
      {
        "duration": 4,
        "start_time": "2021-10-21T07:21:46.751Z"
      },
      {
        "duration": 6,
        "start_time": "2021-10-21T07:22:33.282Z"
      },
      {
        "duration": 6,
        "start_time": "2021-10-21T07:22:52.230Z"
      },
      {
        "duration": 8,
        "start_time": "2021-10-21T07:22:56.225Z"
      },
      {
        "duration": 5,
        "start_time": "2021-10-21T07:23:00.457Z"
      },
      {
        "duration": 5,
        "start_time": "2021-10-21T07:23:29.728Z"
      },
      {
        "duration": 1093,
        "start_time": "2021-10-21T09:19:03.300Z"
      },
      {
        "duration": 18,
        "start_time": "2021-10-21T09:19:04.395Z"
      },
      {
        "duration": 26,
        "start_time": "2021-10-21T09:19:04.415Z"
      },
      {
        "duration": 4,
        "start_time": "2021-10-21T09:19:04.442Z"
      },
      {
        "duration": 26,
        "start_time": "2021-10-21T09:19:04.447Z"
      },
      {
        "duration": 12,
        "start_time": "2021-10-21T09:19:04.475Z"
      },
      {
        "duration": 382,
        "start_time": "2021-10-21T19:15:28.181Z"
      },
      {
        "duration": 2068,
        "start_time": "2021-10-21T19:15:44.552Z"
      },
      {
        "duration": 19,
        "start_time": "2021-10-21T19:15:46.623Z"
      },
      {
        "duration": 31,
        "start_time": "2021-10-21T19:15:46.645Z"
      },
      {
        "duration": 5,
        "start_time": "2021-10-21T19:15:46.679Z"
      },
      {
        "duration": 13,
        "start_time": "2021-10-21T19:15:46.686Z"
      },
      {
        "duration": 10,
        "start_time": "2021-10-21T19:15:46.701Z"
      },
      {
        "duration": 8,
        "start_time": "2021-10-21T19:15:46.714Z"
      },
      {
        "duration": 6,
        "start_time": "2021-10-21T19:16:49.645Z"
      },
      {
        "duration": 9,
        "start_time": "2021-10-21T19:32:15.021Z"
      },
      {
        "duration": 6,
        "start_time": "2021-10-21T19:42:53.658Z"
      },
      {
        "duration": 767,
        "start_time": "2021-10-21T19:47:14.551Z"
      },
      {
        "duration": 364,
        "start_time": "2021-10-21T19:51:08.933Z"
      },
      {
        "duration": 9,
        "start_time": "2021-10-21T19:51:25.371Z"
      },
      {
        "duration": 18,
        "start_time": "2021-10-21T19:53:29.660Z"
      },
      {
        "duration": 9,
        "start_time": "2021-10-21T20:01:42.881Z"
      },
      {
        "duration": 11,
        "start_time": "2021-10-21T20:02:42.089Z"
      },
      {
        "duration": 8,
        "start_time": "2021-10-21T20:03:24.809Z"
      },
      {
        "duration": 6,
        "start_time": "2021-10-21T20:05:48.682Z"
      },
      {
        "duration": 7,
        "start_time": "2021-10-21T20:07:36.267Z"
      },
      {
        "duration": 7,
        "start_time": "2021-10-21T20:07:48.466Z"
      },
      {
        "duration": 7,
        "start_time": "2021-10-21T20:07:53.691Z"
      },
      {
        "duration": 6,
        "start_time": "2021-10-21T20:07:56.732Z"
      },
      {
        "duration": 7,
        "start_time": "2021-10-21T20:07:59.038Z"
      },
      {
        "duration": 7,
        "start_time": "2021-10-21T20:11:30.718Z"
      },
      {
        "duration": 7,
        "start_time": "2021-10-21T20:11:33.831Z"
      },
      {
        "duration": 7,
        "start_time": "2021-10-21T20:11:35.696Z"
      },
      {
        "duration": 7,
        "start_time": "2021-10-21T20:11:37.638Z"
      },
      {
        "duration": 7,
        "start_time": "2021-10-21T20:11:40.235Z"
      },
      {
        "duration": 6,
        "start_time": "2021-10-21T20:11:57.196Z"
      },
      {
        "duration": 7,
        "start_time": "2021-10-21T20:12:00.286Z"
      },
      {
        "duration": 6,
        "start_time": "2021-10-21T20:12:02.796Z"
      },
      {
        "duration": 4,
        "start_time": "2021-10-21T20:15:54.511Z"
      },
      {
        "duration": 14,
        "start_time": "2021-10-21T20:16:49.047Z"
      },
      {
        "duration": 21,
        "start_time": "2021-10-21T20:19:18.722Z"
      },
      {
        "duration": 17,
        "start_time": "2021-10-21T20:20:46.945Z"
      },
      {
        "duration": 12,
        "start_time": "2021-10-21T20:20:49.106Z"
      },
      {
        "duration": 15,
        "start_time": "2021-10-21T20:21:13.151Z"
      },
      {
        "duration": 12,
        "start_time": "2021-10-21T20:21:16.073Z"
      },
      {
        "duration": 1471,
        "start_time": "2021-10-21T20:34:03.301Z"
      },
      {
        "duration": 20,
        "start_time": "2021-10-21T20:34:04.775Z"
      },
      {
        "duration": 26,
        "start_time": "2021-10-21T20:34:04.798Z"
      },
      {
        "duration": 5,
        "start_time": "2021-10-21T20:34:04.827Z"
      },
      {
        "duration": 33,
        "start_time": "2021-10-21T20:34:04.835Z"
      },
      {
        "duration": 8,
        "start_time": "2021-10-21T20:34:04.871Z"
      },
      {
        "duration": 7,
        "start_time": "2021-10-21T20:34:04.881Z"
      },
      {
        "duration": 7,
        "start_time": "2021-10-21T20:34:04.894Z"
      },
      {
        "duration": 8,
        "start_time": "2021-10-21T20:34:04.969Z"
      },
      {
        "duration": 90,
        "start_time": "2021-10-21T20:34:04.980Z"
      },
      {
        "duration": 194,
        "start_time": "2021-10-21T20:34:05.073Z"
      },
      {
        "duration": 7,
        "start_time": "2021-10-21T20:34:05.270Z"
      },
      {
        "duration": 91,
        "start_time": "2021-10-21T20:34:05.280Z"
      },
      {
        "duration": 96,
        "start_time": "2021-10-21T20:34:05.374Z"
      },
      {
        "duration": 97,
        "start_time": "2021-10-21T20:34:05.472Z"
      },
      {
        "duration": 107,
        "start_time": "2021-10-21T20:34:05.572Z"
      }
    ],
    "kernelspec": {
      "display_name": "Python 3",
      "language": "python",
      "name": "python3"
    },
    "language_info": {
      "codemirror_mode": {
        "name": "ipython",
        "version": 3
      },
      "file_extension": ".py",
      "mimetype": "text/x-python",
      "name": "python",
      "nbconvert_exporter": "python",
      "pygments_lexer": "ipython3",
      "version": "3.7.8"
    },
    "toc": {
      "base_numbering": 1,
      "nav_menu": {},
      "number_sections": true,
      "sideBar": true,
      "skip_h1_title": true,
      "title_cell": "Содержание",
      "title_sidebar": "Contents",
      "toc_cell": true,
      "toc_position": {},
      "toc_section_display": true,
      "toc_window_display": false
    },
    "colab": {
      "name": "Защита персональных данных клиентов.ipynb",
      "provenance": [],
      "collapsed_sections": []
    }
  },
  "cells": [
    {
      "cell_type": "markdown",
      "metadata": {
        "id": "oNZb5jtsBdOA"
      },
      "source": [
        "# Защита персональных данных клиентов"
      ]
    },
    {
      "cell_type": "markdown",
      "metadata": {
        "id": "WnzBnD8RBdOB"
      },
      "source": [
        "Вам нужно защитить данные клиентов страховой компании «Хоть потоп». Разработайте такой метод преобразования данных, чтобы по ним было сложно восстановить персональную информацию. Обоснуйте корректность его работы.\n",
        "\n",
        "Нужно защитить данные, чтобы при преобразовании качество моделей машинного обучения не ухудшилось. Подбирать наилучшую модель не требуется.\n",
        "\n",
        "Описание данных:\n",
        "- Признаки: пол, возраст и зарплата застрахованного, количество членов его семьи.\n",
        "- Целевой признак: количество страховых выплат клиенту за последние 5 лет."
      ]
    },
    {
      "cell_type": "markdown",
      "metadata": {
        "id": "nXHyQzo6BdOC"
      },
      "source": [
        "## Загрузка данных"
      ]
    },
    {
      "cell_type": "code",
      "metadata": {
        "id": "kPAt0gaOBdOD"
      },
      "source": [
        "import pandas as pd\n",
        "import numpy as np\n",
        "from sklearn.linear_model import LinearRegression\n",
        "from sklearn.metrics import r2_score"
      ],
      "execution_count": null,
      "outputs": []
    },
    {
      "cell_type": "code",
      "metadata": {
        "id": "09Je7JtmBdOF"
      },
      "source": [
        "data = pd.read_csv('/datasets/insurance.csv')"
      ],
      "execution_count": null,
      "outputs": []
    },
    {
      "cell_type": "code",
      "metadata": {
        "id": "538IJ6KTBdOG",
        "outputId": "92185076-7f60-4a39-a15a-85d2b11e088d"
      },
      "source": [
        "data.info()\n",
        "data.head()"
      ],
      "execution_count": null,
      "outputs": [
        {
          "name": "stdout",
          "output_type": "stream",
          "text": [
            "<class 'pandas.core.frame.DataFrame'>\n",
            "RangeIndex: 5000 entries, 0 to 4999\n",
            "Data columns (total 5 columns):\n",
            "Пол                  5000 non-null int64\n",
            "Возраст              5000 non-null float64\n",
            "Зарплата             5000 non-null float64\n",
            "Члены семьи          5000 non-null int64\n",
            "Страховые выплаты    5000 non-null int64\n",
            "dtypes: float64(2), int64(3)\n",
            "memory usage: 195.4 KB\n"
          ]
        },
        {
          "data": {
            "text/html": [
              "<div>\n",
              "<style scoped>\n",
              "    .dataframe tbody tr th:only-of-type {\n",
              "        vertical-align: middle;\n",
              "    }\n",
              "\n",
              "    .dataframe tbody tr th {\n",
              "        vertical-align: top;\n",
              "    }\n",
              "\n",
              "    .dataframe thead th {\n",
              "        text-align: right;\n",
              "    }\n",
              "</style>\n",
              "<table border=\"1\" class=\"dataframe\">\n",
              "  <thead>\n",
              "    <tr style=\"text-align: right;\">\n",
              "      <th></th>\n",
              "      <th>Пол</th>\n",
              "      <th>Возраст</th>\n",
              "      <th>Зарплата</th>\n",
              "      <th>Члены семьи</th>\n",
              "      <th>Страховые выплаты</th>\n",
              "    </tr>\n",
              "  </thead>\n",
              "  <tbody>\n",
              "    <tr>\n",
              "      <td>0</td>\n",
              "      <td>1</td>\n",
              "      <td>41.0</td>\n",
              "      <td>49600.0</td>\n",
              "      <td>1</td>\n",
              "      <td>0</td>\n",
              "    </tr>\n",
              "    <tr>\n",
              "      <td>1</td>\n",
              "      <td>0</td>\n",
              "      <td>46.0</td>\n",
              "      <td>38000.0</td>\n",
              "      <td>1</td>\n",
              "      <td>1</td>\n",
              "    </tr>\n",
              "    <tr>\n",
              "      <td>2</td>\n",
              "      <td>0</td>\n",
              "      <td>29.0</td>\n",
              "      <td>21000.0</td>\n",
              "      <td>0</td>\n",
              "      <td>0</td>\n",
              "    </tr>\n",
              "    <tr>\n",
              "      <td>3</td>\n",
              "      <td>0</td>\n",
              "      <td>21.0</td>\n",
              "      <td>41700.0</td>\n",
              "      <td>2</td>\n",
              "      <td>0</td>\n",
              "    </tr>\n",
              "    <tr>\n",
              "      <td>4</td>\n",
              "      <td>1</td>\n",
              "      <td>28.0</td>\n",
              "      <td>26100.0</td>\n",
              "      <td>0</td>\n",
              "      <td>0</td>\n",
              "    </tr>\n",
              "  </tbody>\n",
              "</table>\n",
              "</div>"
            ],
            "text/plain": [
              "   Пол  Возраст  Зарплата  Члены семьи  Страховые выплаты\n",
              "0    1     41.0   49600.0            1                  0\n",
              "1    0     46.0   38000.0            1                  1\n",
              "2    0     29.0   21000.0            0                  0\n",
              "3    0     21.0   41700.0            2                  0\n",
              "4    1     28.0   26100.0            0                  0"
            ]
          },
          "execution_count": 3,
          "metadata": {},
          "output_type": "execute_result"
        }
      ]
    },
    {
      "cell_type": "markdown",
      "metadata": {
        "id": "v7nc2LUiBdOI"
      },
      "source": [
        "В датасете имеется 5 столбцов с 5000 строк в каждом. Преобразуем тип данных столбцов \"возраст\" и \"зарплата\" в *int*, а также проверим данные на дубликаты."
      ]
    },
    {
      "cell_type": "code",
      "metadata": {
        "id": "YaW76WKlBdOJ"
      },
      "source": [
        "data['Возраст'] = data['Возраст'].astype('int')\n",
        "data['Зарплата'] = data['Зарплата'].astype('int')"
      ],
      "execution_count": null,
      "outputs": []
    },
    {
      "cell_type": "code",
      "metadata": {
        "id": "bsJmT7UcBdOJ",
        "outputId": "302d9222-9405-44a9-ff6f-feffe12a2cf8"
      },
      "source": [
        "data.duplicated().sum()"
      ],
      "execution_count": null,
      "outputs": [
        {
          "data": {
            "text/plain": [
              "153"
            ]
          },
          "execution_count": 5,
          "metadata": {},
          "output_type": "execute_result"
        }
      ]
    },
    {
      "cell_type": "code",
      "metadata": {
        "id": "Bx7l7KzQBdOK"
      },
      "source": [
        "data = data.drop_duplicates()"
      ],
      "execution_count": null,
      "outputs": []
    },
    {
      "cell_type": "markdown",
      "metadata": {
        "id": "eMHy_NIxBdOM"
      },
      "source": [
        "В данном шаге были загружены и подготовлены данные."
      ]
    },
    {
      "cell_type": "markdown",
      "metadata": {
        "id": "JeEC8ZukBdOO"
      },
      "source": [
        "## Умножение матриц"
      ]
    },
    {
      "cell_type": "markdown",
      "metadata": {
        "id": "k4U2wAxZBdOP"
      },
      "source": [
        "Обозначения:\n",
        "\n",
        "- $X$ — матрица признаков (нулевой столбец состоит из единиц)\n",
        "\n",
        "- $y$ — вектор целевого признака\n",
        "\n",
        "- $P$ — матрица, на которую умножаются признаки\n",
        "\n",
        "- $w$ — вектор весов линейной регрессии (нулевой элемент равен сдвигу)"
      ]
    },
    {
      "cell_type": "markdown",
      "metadata": {
        "id": "L1mXqpvFBdOR"
      },
      "source": [
        "Предсказания:\n",
        "\n",
        "$$\n",
        "a = Xw\n",
        "$$\n",
        "\n",
        "Задача обучения:\n",
        "\n",
        "$$\n",
        "w = \\arg\\min_w MSE(Xw, y)\n",
        "$$\n",
        "\n",
        "Формула обучения:\n",
        "\n",
        "$$\n",
        "w = (X^T X)^{-1} X^T y\n",
        "$$"
      ]
    },
    {
      "cell_type": "markdown",
      "metadata": {
        "id": "NuYpdobVBdOT"
      },
      "source": [
        "**Задание:**\n",
        "\n",
        "Признаки умножают на обратимую матрицу. Изменится ли качество линейной регрессии?\n",
        "\n",
        "- a. Изменится. Приведите примеры матриц.\n",
        "- b. Не изменится. Укажите, как связаны параметры линейной регрессии в исходной задаче и в преобразованной.\n"
      ]
    },
    {
      "cell_type": "markdown",
      "metadata": {
        "id": "55AJDm-IBdOV"
      },
      "source": [
        "**Ответ:** Качество линейной регрессии не меняется, но меняются веса для новых признаков (w1).\n",
        "\n",
        "**Обоснование:**"
      ]
    },
    {
      "cell_type": "markdown",
      "metadata": {
        "id": "wHORfYzqBdOV"
      },
      "source": [
        "$$ X1 = XP $$\n",
        " \n",
        "$$ w1 = ((XP)^T XP)^{-1} (XP)^{T} y $$\n",
        "\n",
        "$$ w1 = (P^T X^T XP)^{-1} X^T P^T y $$\n",
        "\n",
        "$$ w1 = (P^T)^{-1} P^{-1} (X^T X)^{-1} P^T X^T y $$\n",
        "\n",
        "$$ w1 = P^{-1} (X^T X)^{-1} X^T y $$\n",
        "\n",
        "$$ w1 = P^{-1} w $$\n"
      ]
    },
    {
      "cell_type": "markdown",
      "metadata": {
        "id": "-UbrrG0EBdOY"
      },
      "source": [
        "Подставим значение в формулу предсказаний"
      ]
    },
    {
      "cell_type": "markdown",
      "metadata": {
        "id": "LSKRfpo8BdOZ"
      },
      "source": [
        "$$ a1 = X1 w1 $$"
      ]
    },
    {
      "cell_type": "markdown",
      "metadata": {
        "id": "t3xNs9i8BdOa"
      },
      "source": [
        "$$ a1 = XP P^{-1} w $$"
      ]
    },
    {
      "cell_type": "markdown",
      "metadata": {
        "id": "_L7__E9pBdOb"
      },
      "source": [
        "$$ a1 = X w $$"
      ]
    },
    {
      "cell_type": "markdown",
      "metadata": {
        "id": "xVSM64pLBdOd"
      },
      "source": [
        "## Алгоритм преобразования"
      ]
    },
    {
      "cell_type": "markdown",
      "metadata": {
        "id": "2NjNfr5zBdOd"
      },
      "source": [
        "*Предложите алгоритм преобразования данных для решения задачи. Обоснуйте, почему качество линейной регрессии не поменяется.*\n",
        "\n",
        "Проверим на практике предыдущий шаг."
      ]
    },
    {
      "cell_type": "markdown",
      "metadata": {
        "id": "BcxAmtRwBdOe"
      },
      "source": [
        "Создадим квадратную матрицу P и проверим, обратима ли она:"
      ]
    },
    {
      "cell_type": "code",
      "metadata": {
        "id": "S3OkarznBdOf",
        "outputId": "59da51a9-ef78-4004-8cdc-9ab45f3d65c9"
      },
      "source": [
        "matrix_p = np.random.randint(50, size = (4,4))\n",
        "matrix_p"
      ],
      "execution_count": null,
      "outputs": [
        {
          "data": {
            "text/plain": [
              "array([[14,  1, 44, 45],\n",
              "       [38, 36, 10, 47],\n",
              "       [22, 49, 36, 48],\n",
              "       [10,  8, 34, 21]])"
            ]
          },
          "execution_count": 7,
          "metadata": {},
          "output_type": "execute_result"
        }
      ]
    },
    {
      "cell_type": "code",
      "metadata": {
        "id": "yatC60GDBdOg",
        "outputId": "7e62c6a3-205d-4360-b07b-cf56051641a6"
      },
      "source": [
        "np.linalg.inv(matrix_p)"
      ],
      "execution_count": null,
      "outputs": [
        {
          "data": {
            "text/plain": [
              "array([[-3.62318841e-02,  4.43143813e-02, -4.51505017e-02,\n",
              "         8.16610925e-02],\n",
              "       [-2.01210075e-02, -8.10143845e-03,  2.67558528e-02,\n",
              "         9.20003031e-05],\n",
              "       [-1.40706346e-02, -6.87566971e-03, -3.34448161e-03,\n",
              "         5.31842928e-02],\n",
              "       [ 4.76994512e-02, -6.88378738e-03,  1.67224080e-02,\n",
              "        -7.74101374e-02]])"
            ]
          },
          "execution_count": 8,
          "metadata": {},
          "output_type": "execute_result"
        }
      ]
    },
    {
      "cell_type": "markdown",
      "metadata": {
        "id": "KGgVPYpfBdOh"
      },
      "source": [
        "Чтобы обосновать, что качество линейной регрессии не изменится, рассчитаем a и a1 на наших данных.\n",
        "\n",
        "$ a = Xw $\n",
        "\n",
        "$ w = (X^T X)^{-1} X^T y $\n",
        "\n",
        "$ a1 = XPw1 $\n",
        "\n",
        "$ w1 = ((XP)^T XP)^{-1} (XP)^{T} y $"
      ]
    },
    {
      "cell_type": "markdown",
      "metadata": {
        "id": "KUwz1ejYBdOi"
      },
      "source": [
        "Выделим признаки:"
      ]
    },
    {
      "cell_type": "code",
      "metadata": {
        "id": "u0az1EpfBdOk"
      },
      "source": [
        "features = data.drop('Страховые выплаты', axis=1)\n",
        "target = data['Страховые выплаты']"
      ],
      "execution_count": null,
      "outputs": []
    },
    {
      "cell_type": "markdown",
      "metadata": {
        "id": "jgdreccOBdOm"
      },
      "source": [
        "Посчитаем вектор весов и вектор предсказаний до преобразования:"
      ]
    },
    {
      "cell_type": "code",
      "metadata": {
        "id": "Url4uPeDBdOq"
      },
      "source": [
        "w = np.linalg.inv(np.dot(features.T,features)).dot(features.T).dot(target)"
      ],
      "execution_count": null,
      "outputs": []
    },
    {
      "cell_type": "code",
      "metadata": {
        "id": "za_6a9yUBdOs"
      },
      "source": [
        "a = features.dot(w)"
      ],
      "execution_count": null,
      "outputs": []
    },
    {
      "cell_type": "markdown",
      "metadata": {
        "id": "umZNVxraBdOt"
      },
      "source": [
        "Посчитаем вектор весов и вектор предсказаний после преобразования:"
      ]
    },
    {
      "cell_type": "code",
      "metadata": {
        "id": "imP1PZLzBdOt"
      },
      "source": [
        "w1 = np.linalg.inv(np.dot(features.dot(matrix_p).T,features.dot(matrix_p))).dot(features.dot(matrix_p).T).dot(target)"
      ],
      "execution_count": null,
      "outputs": []
    },
    {
      "cell_type": "code",
      "metadata": {
        "id": "gxXPl2LnBdOu"
      },
      "source": [
        "a1 = features.dot(matrix_p).dot(w1)"
      ],
      "execution_count": null,
      "outputs": []
    },
    {
      "cell_type": "code",
      "metadata": {
        "scrolled": true,
        "id": "PiPL-BAzBdOu",
        "outputId": "1a2ac3bb-9fbe-4c32-9dc9-73681dd37763"
      },
      "source": [
        "np.allclose(a,a1,atol=1e-7)"
      ],
      "execution_count": null,
      "outputs": [
        {
          "data": {
            "text/plain": [
              "False"
            ]
          },
          "execution_count": 14,
          "metadata": {},
          "output_type": "execute_result"
        }
      ]
    },
    {
      "cell_type": "markdown",
      "metadata": {
        "id": "HKUsyCOFBdOv"
      },
      "source": [
        "Получили, что a и a1 равны."
      ]
    },
    {
      "cell_type": "markdown",
      "metadata": {
        "id": "IcYUCOEKBdOx"
      },
      "source": [
        "## Проверка алгоритма"
      ]
    },
    {
      "cell_type": "markdown",
      "metadata": {
        "id": "b2IjANyuBdOy"
      },
      "source": [
        "Проверьте, что качество линейной регрессии из sklearn не отличается до и после преобразования. Примените метрику R2."
      ]
    },
    {
      "cell_type": "code",
      "metadata": {
        "id": "Fybka4E8BdOz",
        "outputId": "62041058-abec-4477-c041-7e52718d6ec7"
      },
      "source": [
        "model = LinearRegression()\n",
        "model.fit(features, target)\n",
        "predictions = model.predict(features)\n",
        "print(\"R2 метрика:\", r2_score(target, predictions))"
      ],
      "execution_count": null,
      "outputs": [
        {
          "name": "stdout",
          "output_type": "stream",
          "text": [
            "R2 метрика: 0.4302010046633359\n"
          ]
        }
      ]
    },
    {
      "cell_type": "code",
      "metadata": {
        "id": "eAnCSFSNBdO0",
        "outputId": "3794cb9b-64e1-4877-cefe-1c06833f349f"
      },
      "source": [
        "features_transformed = features.dot(matrix_p)\n",
        "model = LinearRegression()\n",
        "model.fit(features_transformed, target)\n",
        "predictions = model.predict(features_transformed)\n",
        "print(\"R2 метрика:\", r2_score(target, predictions))"
      ],
      "execution_count": null,
      "outputs": [
        {
          "name": "stdout",
          "output_type": "stream",
          "text": [
            "R2 метрика: 0.43020100466333666\n"
          ]
        }
      ]
    },
    {
      "cell_type": "markdown",
      "metadata": {
        "id": "lEBFVDDzBdO1"
      },
      "source": [
        "Из полученных результатов видим, что метрика R2 не отличается."
      ]
    },
    {
      "cell_type": "markdown",
      "metadata": {
        "id": "xrXYZg3XBdO1"
      },
      "source": [
        "## Вывод"
      ]
    },
    {
      "cell_type": "markdown",
      "metadata": {
        "id": "SGcyGXqRBdO2"
      },
      "source": [
        "В данном проекте необходимо было разработать метод преобразования данных, чтобы по ним было сложно восстановить персональную информацию. В качестве преобразования признаки были умножены на обратимую матрицу. Корректность работы алгоритма была обоснована равенством предсказаний и проверкой R2 метрики.\n",
        "\n",
        "Таким образом при преобразовании качество модели не ухудшилось."
      ]
    }
  ]
}